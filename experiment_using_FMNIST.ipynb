{
  "cells": [
    {
      "cell_type": "code",
      "execution_count": 1,
      "id": "d956bd0e-cede-4321-9737-3269561fd563",
      "metadata": {
        "colab": {
          "base_uri": "https://localhost:8080/"
        },
        "id": "d956bd0e-cede-4321-9737-3269561fd563",
        "outputId": "c65a0b0b-4b1d-49ad-c3c3-c95b881ba3e7"
      },
      "outputs": [
        {
          "output_type": "stream",
          "name": "stdout",
          "text": [
            "The Zen of Python, by Tim Peters\n",
            "\n",
            "Beautiful is better than ugly.\n",
            "Explicit is better than implicit.\n",
            "Simple is better than complex.\n",
            "Complex is better than complicated.\n",
            "Flat is better than nested.\n",
            "Sparse is better than dense.\n",
            "Readability counts.\n",
            "Special cases aren't special enough to break the rules.\n",
            "Although practicality beats purity.\n",
            "Errors should never pass silently.\n",
            "Unless explicitly silenced.\n",
            "In the face of ambiguity, refuse the temptation to guess.\n",
            "There should be one-- and preferably only one --obvious way to do it.\n",
            "Although that way may not be obvious at first unless you're Dutch.\n",
            "Now is better than never.\n",
            "Although never is often better than *right* now.\n",
            "If the implementation is hard to explain, it's a bad idea.\n",
            "If the implementation is easy to explain, it may be a good idea.\n",
            "Namespaces are one honking great idea -- let's do more of those!\n"
          ]
        }
      ],
      "source": [
        "import this"
      ]
    },
    {
      "cell_type": "markdown",
      "id": "ab6322f2-2326-4e12-ad4d-d93c5e4195dc",
      "metadata": {
        "tags": [],
        "id": "ab6322f2-2326-4e12-ad4d-d93c5e4195dc"
      },
      "source": [
        "# What is this code doing?\n",
        "\n",
        "* Divides dataset to 10 category in simulation.\n",
        "\n",
        "* Trains GM.\n",
        "\n",
        "* Prunes GM & Show Results.\n",
        "\n",
        "* Shows participation & global sparsity results.\n",
        "\n",
        "* Use standart Federated Learning as baseline.\n",
        "\n",
        "***\n",
        "### Core contributions:\n",
        "\n",
        "* Pruning increase model sparsification significantly while still preserve a good performance.\n",
        "\n",
        "* Thus, to use in Federated Learning system, a group of talented devices in terms of hardware can train a dense model and then gradually rise sparsification threshold of model to assign them as proper initial global model for model contrainted devices.\n",
        "\n",
        "* As a result, those assigned proper models own tuned parameters from previous training, which act as transfer learning and increase model generality (1). Moreover, number of devices participate to Federated Learning system is increased by using a trainable model (2).\n",
        "\n",
        "* Beside, our model works with quantisation method as well, by representing 32 float bits with smaller integer bits. Thus, reduce training time and communication overhead.\n",
        "\n",
        "* Furthermore, since each device trains their proper model, syncronisation during training is also rises."
      ]
    },
    {
      "cell_type": "markdown",
      "id": "4658837d-e2c6-4693-a488-651412c21567",
      "metadata": {
        "id": "4658837d-e2c6-4693-a488-651412c21567"
      },
      "source": [
        "***\n",
        "# Install Necessary Libraries:"
      ]
    },
    {
      "cell_type": "code",
      "execution_count": 2,
      "id": "8b630a16-e062-401e-8d5a-079c1be0543b",
      "metadata": {
        "colab": {
          "base_uri": "https://localhost:8080/"
        },
        "id": "8b630a16-e062-401e-8d5a-079c1be0543b",
        "outputId": "52a1539b-c614-4b64-ebd3-c30085d391db"
      },
      "outputs": [
        {
          "output_type": "stream",
          "name": "stdout",
          "text": [
            "Collecting flwr[simulation]\n",
            "  Downloading flwr-1.4.0-py3-none-any.whl (157 kB)\n",
            "\u001b[?25l     \u001b[90m━━━━━━━━━━━━━━━━━━━━━━━━━━━━━━━━━━━━━━━━\u001b[0m \u001b[32m0.0/157.2 kB\u001b[0m \u001b[31m?\u001b[0m eta \u001b[36m-:--:--\u001b[0m\r\u001b[2K     \u001b[90m━━━━━━━━━━━━━━━━━━━━━━━━━━━━━━━━━━━━━━━\u001b[0m \u001b[32m157.2/157.2 kB\u001b[0m \u001b[31m5.9 MB/s\u001b[0m eta \u001b[36m0:00:00\u001b[0m\n",
            "\u001b[?25hRequirement already satisfied: grpcio!=1.52.0,<2.0.0,>=1.48.2 in /usr/local/lib/python3.10/dist-packages (from flwr[simulation]) (1.56.0)\n",
            "Collecting iterators<0.0.3,>=0.0.2 (from flwr[simulation])\n",
            "  Downloading iterators-0.0.2-py3-none-any.whl (3.9 kB)\n",
            "Requirement already satisfied: numpy<2.0.0,>=1.21.0 in /usr/local/lib/python3.10/dist-packages (from flwr[simulation]) (1.22.4)\n",
            "Requirement already satisfied: protobuf<4.0.0,>=3.19.0 in /usr/local/lib/python3.10/dist-packages (from flwr[simulation]) (3.20.3)\n",
            "Collecting ray[default]<3.0.0,>=2.3.0 (from flwr[simulation])\n",
            "  Downloading ray-2.5.1-cp310-cp310-manylinux2014_x86_64.whl (56.2 MB)\n",
            "\u001b[2K     \u001b[90m━━━━━━━━━━━━━━━━━━━━━━━━━━━━━━━━━━━━━━━━\u001b[0m \u001b[32m56.2/56.2 MB\u001b[0m \u001b[31m14.7 MB/s\u001b[0m eta \u001b[36m0:00:00\u001b[0m\n",
            "\u001b[?25hRequirement already satisfied: attrs in /usr/local/lib/python3.10/dist-packages (from ray[default]<3.0.0,>=2.3.0->flwr[simulation]) (23.1.0)\n",
            "Requirement already satisfied: click>=7.0 in /usr/local/lib/python3.10/dist-packages (from ray[default]<3.0.0,>=2.3.0->flwr[simulation]) (8.1.4)\n",
            "Requirement already satisfied: filelock in /usr/local/lib/python3.10/dist-packages (from ray[default]<3.0.0,>=2.3.0->flwr[simulation]) (3.12.2)\n",
            "Requirement already satisfied: jsonschema in /usr/local/lib/python3.10/dist-packages (from ray[default]<3.0.0,>=2.3.0->flwr[simulation]) (4.3.3)\n",
            "Requirement already satisfied: msgpack<2.0.0,>=1.0.0 in /usr/local/lib/python3.10/dist-packages (from ray[default]<3.0.0,>=2.3.0->flwr[simulation]) (1.0.5)\n",
            "Requirement already satisfied: packaging in /usr/local/lib/python3.10/dist-packages (from ray[default]<3.0.0,>=2.3.0->flwr[simulation]) (23.1)\n",
            "Requirement already satisfied: pyyaml in /usr/local/lib/python3.10/dist-packages (from ray[default]<3.0.0,>=2.3.0->flwr[simulation]) (6.0)\n",
            "Requirement already satisfied: aiosignal in /usr/local/lib/python3.10/dist-packages (from ray[default]<3.0.0,>=2.3.0->flwr[simulation]) (1.3.1)\n",
            "Requirement already satisfied: frozenlist in /usr/local/lib/python3.10/dist-packages (from ray[default]<3.0.0,>=2.3.0->flwr[simulation]) (1.4.0)\n",
            "Requirement already satisfied: requests in /usr/local/lib/python3.10/dist-packages (from ray[default]<3.0.0,>=2.3.0->flwr[simulation]) (2.27.1)\n",
            "Collecting grpcio!=1.52.0,<2.0.0,>=1.48.2 (from flwr[simulation])\n",
            "  Downloading grpcio-1.51.3-cp310-cp310-manylinux_2_17_x86_64.manylinux2014_x86_64.whl (4.8 MB)\n",
            "\u001b[2K     \u001b[90m━━━━━━━━━━━━━━━━━━━━━━━━━━━━━━━━━━━━━━━━\u001b[0m \u001b[32m4.8/4.8 MB\u001b[0m \u001b[31m62.7 MB/s\u001b[0m eta \u001b[36m0:00:00\u001b[0m\n",
            "\u001b[?25hRequirement already satisfied: aiohttp>=3.7 in /usr/local/lib/python3.10/dist-packages (from ray[default]<3.0.0,>=2.3.0->flwr[simulation]) (3.8.4)\n",
            "Collecting aiohttp-cors (from ray[default]<3.0.0,>=2.3.0->flwr[simulation])\n",
            "  Downloading aiohttp_cors-0.7.0-py3-none-any.whl (27 kB)\n",
            "Collecting colorful (from ray[default]<3.0.0,>=2.3.0->flwr[simulation])\n",
            "  Downloading colorful-0.5.5-py2.py3-none-any.whl (201 kB)\n",
            "\u001b[2K     \u001b[90m━━━━━━━━━━━━━━━━━━━━━━━━━━━━━━━━━━━━━━\u001b[0m \u001b[32m201.4/201.4 kB\u001b[0m \u001b[31m19.8 MB/s\u001b[0m eta \u001b[36m0:00:00\u001b[0m\n",
            "\u001b[?25hCollecting py-spy>=0.2.0 (from ray[default]<3.0.0,>=2.3.0->flwr[simulation])\n",
            "  Downloading py_spy-0.3.14-py2.py3-none-manylinux_2_5_x86_64.manylinux1_x86_64.whl (3.0 MB)\n",
            "\u001b[2K     \u001b[90m━━━━━━━━━━━━━━━━━━━━━━━━━━━━━━━━━━━━━━━━\u001b[0m \u001b[32m3.0/3.0 MB\u001b[0m \u001b[31m66.2 MB/s\u001b[0m eta \u001b[36m0:00:00\u001b[0m\n",
            "\u001b[?25hCollecting gpustat>=1.0.0 (from ray[default]<3.0.0,>=2.3.0->flwr[simulation])\n",
            "  Downloading gpustat-1.1.tar.gz (97 kB)\n",
            "\u001b[2K     \u001b[90m━━━━━━━━━━━━━━━━━━━━━━━━━━━━━━━━━━━━━━━━\u001b[0m \u001b[32m97.9/97.9 kB\u001b[0m \u001b[31m9.6 MB/s\u001b[0m eta \u001b[36m0:00:00\u001b[0m\n",
            "\u001b[?25h  Installing build dependencies ... \u001b[?25l\u001b[?25hdone\n",
            "  Getting requirements to build wheel ... \u001b[?25l\u001b[?25hdone\n",
            "  Preparing metadata (pyproject.toml) ... \u001b[?25l\u001b[?25hdone\n",
            "Collecting opencensus (from ray[default]<3.0.0,>=2.3.0->flwr[simulation])\n",
            "  Downloading opencensus-0.11.2-py2.py3-none-any.whl (128 kB)\n",
            "\u001b[2K     \u001b[90m━━━━━━━━━━━━━━━━━━━━━━━━━━━━━━━━━━━━━━\u001b[0m \u001b[32m128.2/128.2 kB\u001b[0m \u001b[31m12.5 MB/s\u001b[0m eta \u001b[36m0:00:00\u001b[0m\n",
            "\u001b[?25hRequirement already satisfied: pydantic in /usr/local/lib/python3.10/dist-packages (from ray[default]<3.0.0,>=2.3.0->flwr[simulation]) (1.10.11)\n",
            "Requirement already satisfied: prometheus-client>=0.7.1 in /usr/local/lib/python3.10/dist-packages (from ray[default]<3.0.0,>=2.3.0->flwr[simulation]) (0.17.1)\n",
            "Requirement already satisfied: smart-open in /usr/local/lib/python3.10/dist-packages (from ray[default]<3.0.0,>=2.3.0->flwr[simulation]) (6.3.0)\n",
            "Collecting virtualenv<20.21.1,>=20.0.24 (from ray[default]<3.0.0,>=2.3.0->flwr[simulation])\n",
            "  Downloading virtualenv-20.21.0-py3-none-any.whl (8.7 MB)\n",
            "\u001b[2K     \u001b[90m━━━━━━━━━━━━━━━━━━━━━━━━━━━━━━━━━━━━━━━━\u001b[0m \u001b[32m8.7/8.7 MB\u001b[0m \u001b[31m82.9 MB/s\u001b[0m eta \u001b[36m0:00:00\u001b[0m\n",
            "\u001b[?25hRequirement already satisfied: charset-normalizer<4.0,>=2.0 in /usr/local/lib/python3.10/dist-packages (from aiohttp>=3.7->ray[default]<3.0.0,>=2.3.0->flwr[simulation]) (2.0.12)\n",
            "Requirement already satisfied: multidict<7.0,>=4.5 in /usr/local/lib/python3.10/dist-packages (from aiohttp>=3.7->ray[default]<3.0.0,>=2.3.0->flwr[simulation]) (6.0.4)\n",
            "Requirement already satisfied: async-timeout<5.0,>=4.0.0a3 in /usr/local/lib/python3.10/dist-packages (from aiohttp>=3.7->ray[default]<3.0.0,>=2.3.0->flwr[simulation]) (4.0.2)\n",
            "Requirement already satisfied: yarl<2.0,>=1.0 in /usr/local/lib/python3.10/dist-packages (from aiohttp>=3.7->ray[default]<3.0.0,>=2.3.0->flwr[simulation]) (1.9.2)\n",
            "Collecting nvidia-ml-py>=11.450.129 (from gpustat>=1.0.0->ray[default]<3.0.0,>=2.3.0->flwr[simulation])\n",
            "  Downloading nvidia_ml_py-12.535.77-py3-none-any.whl (36 kB)\n",
            "Requirement already satisfied: psutil>=5.6.0 in /usr/local/lib/python3.10/dist-packages (from gpustat>=1.0.0->ray[default]<3.0.0,>=2.3.0->flwr[simulation]) (5.9.5)\n",
            "Collecting blessed>=1.17.1 (from gpustat>=1.0.0->ray[default]<3.0.0,>=2.3.0->flwr[simulation])\n",
            "  Downloading blessed-1.20.0-py2.py3-none-any.whl (58 kB)\n",
            "\u001b[2K     \u001b[90m━━━━━━━━━━━━━━━━━━━━━━━━━━━━━━━━━━━━━━━━\u001b[0m \u001b[32m58.4/58.4 kB\u001b[0m \u001b[31m6.1 MB/s\u001b[0m eta \u001b[36m0:00:00\u001b[0m\n",
            "\u001b[?25hCollecting distlib<1,>=0.3.6 (from virtualenv<20.21.1,>=20.0.24->ray[default]<3.0.0,>=2.3.0->flwr[simulation])\n",
            "  Downloading distlib-0.3.7-py2.py3-none-any.whl (468 kB)\n",
            "\u001b[2K     \u001b[90m━━━━━━━━━━━━━━━━━━━━━━━━━━━━━━━━━━━━━━\u001b[0m \u001b[32m468.9/468.9 kB\u001b[0m \u001b[31m36.5 MB/s\u001b[0m eta \u001b[36m0:00:00\u001b[0m\n",
            "\u001b[?25hRequirement already satisfied: platformdirs<4,>=2.4 in /usr/local/lib/python3.10/dist-packages (from virtualenv<20.21.1,>=20.0.24->ray[default]<3.0.0,>=2.3.0->flwr[simulation]) (3.8.1)\n",
            "Requirement already satisfied: pyrsistent!=0.17.0,!=0.17.1,!=0.17.2,>=0.14.0 in /usr/local/lib/python3.10/dist-packages (from jsonschema->ray[default]<3.0.0,>=2.3.0->flwr[simulation]) (0.19.3)\n",
            "Collecting opencensus-context>=0.1.3 (from opencensus->ray[default]<3.0.0,>=2.3.0->flwr[simulation])\n",
            "  Downloading opencensus_context-0.1.3-py2.py3-none-any.whl (5.1 kB)\n",
            "Requirement already satisfied: google-api-core<3.0.0,>=1.0.0 in /usr/local/lib/python3.10/dist-packages (from opencensus->ray[default]<3.0.0,>=2.3.0->flwr[simulation]) (2.11.1)\n",
            "Requirement already satisfied: typing-extensions>=4.2.0 in /usr/local/lib/python3.10/dist-packages (from pydantic->ray[default]<3.0.0,>=2.3.0->flwr[simulation]) (4.7.1)\n",
            "Requirement already satisfied: urllib3<1.27,>=1.21.1 in /usr/local/lib/python3.10/dist-packages (from requests->ray[default]<3.0.0,>=2.3.0->flwr[simulation]) (1.26.16)\n",
            "Requirement already satisfied: certifi>=2017.4.17 in /usr/local/lib/python3.10/dist-packages (from requests->ray[default]<3.0.0,>=2.3.0->flwr[simulation]) (2023.5.7)\n",
            "Requirement already satisfied: idna<4,>=2.5 in /usr/local/lib/python3.10/dist-packages (from requests->ray[default]<3.0.0,>=2.3.0->flwr[simulation]) (3.4)\n",
            "Requirement already satisfied: wcwidth>=0.1.4 in /usr/local/lib/python3.10/dist-packages (from blessed>=1.17.1->gpustat>=1.0.0->ray[default]<3.0.0,>=2.3.0->flwr[simulation]) (0.2.6)\n",
            "Requirement already satisfied: six>=1.9.0 in /usr/local/lib/python3.10/dist-packages (from blessed>=1.17.1->gpustat>=1.0.0->ray[default]<3.0.0,>=2.3.0->flwr[simulation]) (1.16.0)\n",
            "Requirement already satisfied: googleapis-common-protos<2.0.dev0,>=1.56.2 in /usr/local/lib/python3.10/dist-packages (from google-api-core<3.0.0,>=1.0.0->opencensus->ray[default]<3.0.0,>=2.3.0->flwr[simulation]) (1.59.1)\n",
            "Requirement already satisfied: google-auth<3.0.dev0,>=2.14.1 in /usr/local/lib/python3.10/dist-packages (from google-api-core<3.0.0,>=1.0.0->opencensus->ray[default]<3.0.0,>=2.3.0->flwr[simulation]) (2.17.3)\n",
            "Requirement already satisfied: cachetools<6.0,>=2.0.0 in /usr/local/lib/python3.10/dist-packages (from google-auth<3.0.dev0,>=2.14.1->google-api-core<3.0.0,>=1.0.0->opencensus->ray[default]<3.0.0,>=2.3.0->flwr[simulation]) (5.3.1)\n",
            "Requirement already satisfied: pyasn1-modules>=0.2.1 in /usr/local/lib/python3.10/dist-packages (from google-auth<3.0.dev0,>=2.14.1->google-api-core<3.0.0,>=1.0.0->opencensus->ray[default]<3.0.0,>=2.3.0->flwr[simulation]) (0.3.0)\n",
            "Requirement already satisfied: rsa<5,>=3.1.4 in /usr/local/lib/python3.10/dist-packages (from google-auth<3.0.dev0,>=2.14.1->google-api-core<3.0.0,>=1.0.0->opencensus->ray[default]<3.0.0,>=2.3.0->flwr[simulation]) (4.9)\n",
            "Requirement already satisfied: pyasn1<0.6.0,>=0.4.6 in /usr/local/lib/python3.10/dist-packages (from pyasn1-modules>=0.2.1->google-auth<3.0.dev0,>=2.14.1->google-api-core<3.0.0,>=1.0.0->opencensus->ray[default]<3.0.0,>=2.3.0->flwr[simulation]) (0.5.0)\n",
            "Building wheels for collected packages: gpustat\n",
            "  Building wheel for gpustat (pyproject.toml) ... \u001b[?25l\u001b[?25hdone\n",
            "  Created wheel for gpustat: filename=gpustat-1.1-py3-none-any.whl size=26280 sha256=661e18b25e3a1d65c48370313f25b0e3272cf74a274a774322f31376c23ba1ab\n",
            "  Stored in directory: /root/.cache/pip/wheels/ee/d0/2c/1e02440645c2318ba03aea99993a44a9108dc8f74de0bd370b\n",
            "Successfully built gpustat\n",
            "Installing collected packages: py-spy, opencensus-context, nvidia-ml-py, distlib, colorful, virtualenv, iterators, grpcio, blessed, ray, gpustat, flwr, aiohttp-cors, opencensus\n",
            "  Attempting uninstall: grpcio\n",
            "    Found existing installation: grpcio 1.56.0\n",
            "    Uninstalling grpcio-1.56.0:\n",
            "      Successfully uninstalled grpcio-1.56.0\n",
            "Successfully installed aiohttp-cors-0.7.0 blessed-1.20.0 colorful-0.5.5 distlib-0.3.7 flwr-1.4.0 gpustat-1.1 grpcio-1.51.3 iterators-0.0.2 nvidia-ml-py-12.535.77 opencensus-0.11.2 opencensus-context-0.1.3 py-spy-0.3.14 ray-2.5.1 virtualenv-20.21.0\n"
          ]
        }
      ],
      "source": [
        "!pip install -U flwr[\"simulation\"]"
      ]
    },
    {
      "cell_type": "code",
      "execution_count": 3,
      "id": "13547627-a2d8-4b63-bb1a-7dcb3602c186",
      "metadata": {
        "colab": {
          "base_uri": "https://localhost:8080/"
        },
        "id": "13547627-a2d8-4b63-bb1a-7dcb3602c186",
        "outputId": "20981834-8a7e-4a5a-c6d8-054d92f28b5e"
      },
      "outputs": [
        {
          "output_type": "stream",
          "name": "stdout",
          "text": [
            "Collecting flwr==0.19.0\n",
            "  Downloading flwr-0.19.0-py3-none-any.whl (106 kB)\n",
            "\u001b[?25l     \u001b[90m━━━━━━━━━━━━━━━━━━━━━━━━━━━━━━━━━━━━━━━━\u001b[0m \u001b[32m0.0/106.5 kB\u001b[0m \u001b[31m?\u001b[0m eta \u001b[36m-:--:--\u001b[0m\r\u001b[2K     \u001b[90m━━━━━━━━━━━━━━━━━━━━━━━━━━━━━━━━━━━━━━━\u001b[0m \u001b[32m106.5/106.5 kB\u001b[0m \u001b[31m6.4 MB/s\u001b[0m eta \u001b[36m0:00:00\u001b[0m\n",
            "\u001b[?25hRequirement already satisfied: grpcio<2.0.0,>=1.41.0 in /usr/local/lib/python3.10/dist-packages (from flwr==0.19.0) (1.51.3)\n",
            "Requirement already satisfied: iterators<0.0.3,>=0.0.2 in /usr/local/lib/python3.10/dist-packages (from flwr==0.19.0) (0.0.2)\n",
            "Requirement already satisfied: numpy<2.0,>=1.21 in /usr/local/lib/python3.10/dist-packages (from flwr==0.19.0) (1.22.4)\n",
            "Requirement already satisfied: protobuf<4.0.0,>=3.19.0 in /usr/local/lib/python3.10/dist-packages (from flwr==0.19.0) (3.20.3)\n",
            "Installing collected packages: flwr\n",
            "  Attempting uninstall: flwr\n",
            "    Found existing installation: flwr 1.4.0\n",
            "    Uninstalling flwr-1.4.0:\n",
            "      Successfully uninstalled flwr-1.4.0\n",
            "Successfully installed flwr-0.19.0\n"
          ]
        }
      ],
      "source": [
        "!pip install -U flwr==0.19.0"
      ]
    },
    {
      "cell_type": "code",
      "execution_count": 4,
      "id": "bde9371e-369b-4a1a-a90e-8fed66b4e1b6",
      "metadata": {
        "colab": {
          "base_uri": "https://localhost:8080/",
          "height": 1000
        },
        "id": "bde9371e-369b-4a1a-a90e-8fed66b4e1b6",
        "outputId": "cad74fa9-16fe-402a-aae4-00ec2eda2897"
      },
      "outputs": [
        {
          "output_type": "stream",
          "name": "stdout",
          "text": [
            "Collecting torch==1.13.1\n",
            "  Downloading torch-1.13.1-cp310-cp310-manylinux1_x86_64.whl (887.5 MB)\n",
            "\u001b[2K     \u001b[90m━━━━━━━━━━━━━━━━━━━━━━━━━━━━━━━━━━━━━━━\u001b[0m \u001b[32m887.5/887.5 MB\u001b[0m \u001b[31m1.7 MB/s\u001b[0m eta \u001b[36m0:00:00\u001b[0m\n",
            "\u001b[?25hCollecting torchvision==0.14.1\n",
            "  Downloading torchvision-0.14.1-cp310-cp310-manylinux1_x86_64.whl (24.2 MB)\n",
            "\u001b[2K     \u001b[90m━━━━━━━━━━━━━━━━━━━━━━━━━━━━━━━━━━━━━━━━\u001b[0m \u001b[32m24.2/24.2 MB\u001b[0m \u001b[31m46.0 MB/s\u001b[0m eta \u001b[36m0:00:00\u001b[0m\n",
            "\u001b[?25hCollecting numpy==1.24.1\n",
            "  Downloading numpy-1.24.1-cp310-cp310-manylinux_2_17_x86_64.manylinux2014_x86_64.whl (17.3 MB)\n",
            "\u001b[2K     \u001b[90m━━━━━━━━━━━━━━━━━━━━━━━━━━━━━━━━━━━━━━━━\u001b[0m \u001b[32m17.3/17.3 MB\u001b[0m \u001b[31m65.2 MB/s\u001b[0m eta \u001b[36m0:00:00\u001b[0m\n",
            "\u001b[?25hRequirement already satisfied: pandas==1.5.3 in /usr/local/lib/python3.10/dist-packages (1.5.3)\n",
            "Collecting matplotlib==3.6.3\n",
            "  Downloading matplotlib-3.6.3-cp310-cp310-manylinux_2_17_x86_64.manylinux2014_x86_64.whl (11.8 MB)\n",
            "\u001b[2K     \u001b[90m━━━━━━━━━━━━━━━━━━━━━━━━━━━━━━━━━━━━━━━━\u001b[0m \u001b[32m11.8/11.8 MB\u001b[0m \u001b[31m76.1 MB/s\u001b[0m eta \u001b[36m0:00:00\u001b[0m\n",
            "\u001b[?25hRequirement already satisfied: typing-extensions in /usr/local/lib/python3.10/dist-packages (from torch==1.13.1) (4.7.1)\n",
            "Collecting nvidia-cuda-runtime-cu11==11.7.99 (from torch==1.13.1)\n",
            "  Downloading nvidia_cuda_runtime_cu11-11.7.99-py3-none-manylinux1_x86_64.whl (849 kB)\n",
            "\u001b[2K     \u001b[90m━━━━━━━━━━━━━━━━━━━━━━━━━━━━━━━━━━━━━━\u001b[0m \u001b[32m849.3/849.3 kB\u001b[0m \u001b[31m52.6 MB/s\u001b[0m eta \u001b[36m0:00:00\u001b[0m\n",
            "\u001b[?25hCollecting nvidia-cudnn-cu11==8.5.0.96 (from torch==1.13.1)\n",
            "  Downloading nvidia_cudnn_cu11-8.5.0.96-2-py3-none-manylinux1_x86_64.whl (557.1 MB)\n",
            "\u001b[2K     \u001b[90m━━━━━━━━━━━━━━━━━━━━━━━━━━━━━━━━━━━━━━━\u001b[0m \u001b[32m557.1/557.1 MB\u001b[0m \u001b[31m2.1 MB/s\u001b[0m eta \u001b[36m0:00:00\u001b[0m\n",
            "\u001b[?25hCollecting nvidia-cublas-cu11==11.10.3.66 (from torch==1.13.1)\n",
            "  Downloading nvidia_cublas_cu11-11.10.3.66-py3-none-manylinux1_x86_64.whl (317.1 MB)\n",
            "\u001b[2K     \u001b[90m━━━━━━━━━━━━━━━━━━━━━━━━━━━━━━━━━━━━━━━\u001b[0m \u001b[32m317.1/317.1 MB\u001b[0m \u001b[31m1.8 MB/s\u001b[0m eta \u001b[36m0:00:00\u001b[0m\n",
            "\u001b[?25hCollecting nvidia-cuda-nvrtc-cu11==11.7.99 (from torch==1.13.1)\n",
            "  Downloading nvidia_cuda_nvrtc_cu11-11.7.99-2-py3-none-manylinux1_x86_64.whl (21.0 MB)\n",
            "\u001b[2K     \u001b[90m━━━━━━━━━━━━━━━━━━━━━━━━━━━━━━━━━━━━━━━━\u001b[0m \u001b[32m21.0/21.0 MB\u001b[0m \u001b[31m45.9 MB/s\u001b[0m eta \u001b[36m0:00:00\u001b[0m\n",
            "\u001b[?25hRequirement already satisfied: requests in /usr/local/lib/python3.10/dist-packages (from torchvision==0.14.1) (2.27.1)\n",
            "Requirement already satisfied: pillow!=8.3.*,>=5.3.0 in /usr/local/lib/python3.10/dist-packages (from torchvision==0.14.1) (8.4.0)\n",
            "Requirement already satisfied: python-dateutil>=2.8.1 in /usr/local/lib/python3.10/dist-packages (from pandas==1.5.3) (2.8.2)\n",
            "Requirement already satisfied: pytz>=2020.1 in /usr/local/lib/python3.10/dist-packages (from pandas==1.5.3) (2022.7.1)\n",
            "Requirement already satisfied: contourpy>=1.0.1 in /usr/local/lib/python3.10/dist-packages (from matplotlib==3.6.3) (1.1.0)\n",
            "Requirement already satisfied: cycler>=0.10 in /usr/local/lib/python3.10/dist-packages (from matplotlib==3.6.3) (0.11.0)\n",
            "Requirement already satisfied: fonttools>=4.22.0 in /usr/local/lib/python3.10/dist-packages (from matplotlib==3.6.3) (4.41.0)\n",
            "Requirement already satisfied: kiwisolver>=1.0.1 in /usr/local/lib/python3.10/dist-packages (from matplotlib==3.6.3) (1.4.4)\n",
            "Requirement already satisfied: packaging>=20.0 in /usr/local/lib/python3.10/dist-packages (from matplotlib==3.6.3) (23.1)\n",
            "Requirement already satisfied: pyparsing>=2.2.1 in /usr/local/lib/python3.10/dist-packages (from matplotlib==3.6.3) (3.1.0)\n",
            "Requirement already satisfied: setuptools in /usr/local/lib/python3.10/dist-packages (from nvidia-cublas-cu11==11.10.3.66->torch==1.13.1) (67.7.2)\n",
            "Requirement already satisfied: wheel in /usr/local/lib/python3.10/dist-packages (from nvidia-cublas-cu11==11.10.3.66->torch==1.13.1) (0.40.0)\n",
            "Requirement already satisfied: six>=1.5 in /usr/local/lib/python3.10/dist-packages (from python-dateutil>=2.8.1->pandas==1.5.3) (1.16.0)\n",
            "Requirement already satisfied: urllib3<1.27,>=1.21.1 in /usr/local/lib/python3.10/dist-packages (from requests->torchvision==0.14.1) (1.26.16)\n",
            "Requirement already satisfied: certifi>=2017.4.17 in /usr/local/lib/python3.10/dist-packages (from requests->torchvision==0.14.1) (2023.5.7)\n",
            "Requirement already satisfied: charset-normalizer~=2.0.0 in /usr/local/lib/python3.10/dist-packages (from requests->torchvision==0.14.1) (2.0.12)\n",
            "Requirement already satisfied: idna<4,>=2.5 in /usr/local/lib/python3.10/dist-packages (from requests->torchvision==0.14.1) (3.4)\n",
            "Installing collected packages: nvidia-cuda-runtime-cu11, nvidia-cuda-nvrtc-cu11, nvidia-cublas-cu11, numpy, nvidia-cudnn-cu11, torch, matplotlib, torchvision\n",
            "  Attempting uninstall: numpy\n",
            "    Found existing installation: numpy 1.22.4\n",
            "    Uninstalling numpy-1.22.4:\n",
            "      Successfully uninstalled numpy-1.22.4\n",
            "  Attempting uninstall: torch\n",
            "    Found existing installation: torch 2.0.1+cu118\n",
            "    Uninstalling torch-2.0.1+cu118:\n",
            "      Successfully uninstalled torch-2.0.1+cu118\n",
            "  Attempting uninstall: matplotlib\n",
            "    Found existing installation: matplotlib 3.7.1\n",
            "    Uninstalling matplotlib-3.7.1:\n",
            "      Successfully uninstalled matplotlib-3.7.1\n",
            "  Attempting uninstall: torchvision\n",
            "    Found existing installation: torchvision 0.15.2+cu118\n",
            "    Uninstalling torchvision-0.15.2+cu118:\n",
            "      Successfully uninstalled torchvision-0.15.2+cu118\n",
            "\u001b[31mERROR: pip's dependency resolver does not currently take into account all the packages that are installed. This behaviour is the source of the following dependency conflicts.\n",
            "numba 0.56.4 requires numpy<1.24,>=1.18, but you have numpy 1.24.1 which is incompatible.\n",
            "tensorflow 2.12.0 requires numpy<1.24,>=1.22, but you have numpy 1.24.1 which is incompatible.\n",
            "torchaudio 2.0.2+cu118 requires torch==2.0.1, but you have torch 1.13.1 which is incompatible.\n",
            "torchdata 0.6.1 requires torch==2.0.1, but you have torch 1.13.1 which is incompatible.\n",
            "torchtext 0.15.2 requires torch==2.0.1, but you have torch 1.13.1 which is incompatible.\u001b[0m\u001b[31m\n",
            "\u001b[0mSuccessfully installed matplotlib-3.6.3 numpy-1.24.1 nvidia-cublas-cu11-11.10.3.66 nvidia-cuda-nvrtc-cu11-11.7.99 nvidia-cuda-runtime-cu11-11.7.99 nvidia-cudnn-cu11-8.5.0.96 torch-1.13.1 torchvision-0.14.1\n"
          ]
        },
        {
          "output_type": "display_data",
          "data": {
            "application/vnd.colab-display-data+json": {
              "pip_warning": {
                "packages": [
                  "matplotlib",
                  "mpl_toolkits",
                  "numpy"
                ]
              }
            }
          },
          "metadata": {}
        }
      ],
      "source": [
        "!pip install torch==1.13.1 torchvision==0.14.1 numpy==1.24.1 pandas==1.5.3 matplotlib==3.6.3"
      ]
    },
    {
      "cell_type": "markdown",
      "id": "51703fc2-8ae8-4a24-b6c6-fba7121e65e3",
      "metadata": {
        "id": "51703fc2-8ae8-4a24-b6c6-fba7121e65e3"
      },
      "source": [
        "***\n",
        "## 1- Importing Libraries:"
      ]
    },
    {
      "cell_type": "code",
      "execution_count": 5,
      "id": "59fcc7f0-1a62-4dbb-8e76-929e67be4236",
      "metadata": {
        "colab": {
          "base_uri": "https://localhost:8080/"
        },
        "id": "59fcc7f0-1a62-4dbb-8e76-929e67be4236",
        "outputId": "c1c1c17d-aa19-40d0-a5f9-0039800188a3"
      },
      "outputs": [
        {
          "output_type": "stream",
          "name": "stdout",
          "text": [
            "Training on cpu\n"
          ]
        }
      ],
      "source": [
        "import torch\n",
        "import torch.nn as nn\n",
        "import torch.nn.functional as F\n",
        "import torchvision.transforms as transforms\n",
        "from torch.utils.data import DataLoader, random_split\n",
        "from torchvision.datasets import CIFAR10\n",
        "import torchvision.models as models\n",
        "import torchvision\n",
        "\n",
        "import torch.nn.utils.prune as prune\n",
        "\n",
        "\n",
        "import flwr as fl\n",
        "\n",
        "import numpy as np\n",
        "import pandas as pd\n",
        "import matplotlib\n",
        "import matplotlib.pyplot as plt\n",
        "\n",
        "from collections import OrderedDict\n",
        "from typing import Dict, List, Optional, Tuple\n",
        "import json\n",
        "import os\n",
        "\n",
        "DEVICE = torch.device(\"cuda:0\" if torch.cuda.is_available() else \"cpu\")\n",
        "print(f\"Training on {DEVICE}\")"
      ]
    },
    {
      "cell_type": "code",
      "execution_count": 6,
      "id": "40197165-b7be-4702-ae74-79312022098e",
      "metadata": {
        "id": "40197165-b7be-4702-ae74-79312022098e"
      },
      "outputs": [],
      "source": [
        "(fl.__version__, torch.__version__, torchvision.__version__, np.__version__, pd.__version__,\n",
        "json.__version__, matplotlib.__version__)\n",
        "\n",
        "library_versions = {\"flwr\": fl.__version__, \"torch\": torch.__version__,\n",
        "                    \"torchvision\": torchvision.__version__, \"numpy\": np.__version__,\n",
        "                    \"pandas\": pd.__version__, \"json\": json.__version__,\n",
        "                    \"matplotlib\": matplotlib.__version__}\n",
        "\n",
        "with open('library_versions.txt', 'w') as f:\n",
        "    f.write(json.dumps(library_versions))\n",
        "\n",
        "f.close()"
      ]
    },
    {
      "cell_type": "markdown",
      "id": "d4c8301b-fe3c-41e1-8128-7e8058dc47f4",
      "metadata": {
        "id": "d4c8301b-fe3c-41e1-8128-7e8058dc47f4"
      },
      "source": [
        "***\n",
        "## 2- Initilisation/Hyperparameters:"
      ]
    },
    {
      "cell_type": "code",
      "execution_count": 7,
      "id": "589ffaf0-468a-4b82-a827-03013b9fdd85",
      "metadata": {
        "id": "589ffaf0-468a-4b82-a827-03013b9fdd85"
      },
      "outputs": [],
      "source": [
        "# Total number of devices (For D1 devices):\n",
        "NUM_DEVICES = 100\n",
        "\n",
        "# Model aggregation (Training round):\n",
        "NUM_ROUNDS = 100\n",
        "\n",
        "# On device local updates:\n",
        "LOCAL_EPOCH = 3\n",
        "\n",
        "# You may need to decrease it since total image per device is 60.\n",
        "BATCH_SIZE = 64\n",
        "\n",
        "# D1, D2, D3, ... , D10:\n",
        "NUM_DEVICE_TYPE = 10\n",
        "\n",
        "hyperparameters = {'NUM_DEVICES': NUM_DEVICES,\n",
        "                   'NUM_ROUNDS': NUM_ROUNDS,\n",
        "                   'NUM_DEVICE_TYPE': NUM_DEVICE_TYPE,\n",
        "                   'BATCH_SIZE': BATCH_SIZE,\n",
        "                   'LOCAL_EPOCH': LOCAL_EPOCH}\n",
        "\n",
        "with open('hyperparameters.txt', 'w') as f:\n",
        "    f.write(json.dumps(hyperparameters))\n",
        "\n",
        "f.close()"
      ]
    },
    {
      "cell_type": "markdown",
      "id": "181048bd-67d0-417b-87a2-10bd8517bb60",
      "metadata": {
        "id": "181048bd-67d0-417b-87a2-10bd8517bb60"
      },
      "source": [
        "***\n",
        "## 3- Load Datasets:"
      ]
    },
    {
      "cell_type": "code",
      "execution_count": 8,
      "id": "c85638ba-9a0c-4df3-a874-77fbc5607a79",
      "metadata": {
        "id": "c85638ba-9a0c-4df3-a874-77fbc5607a79"
      },
      "outputs": [],
      "source": [
        "def load_datasets(num_clients: int):\n",
        "\n",
        "\n",
        "    # ######################## Test Dataset Preparetion #########################\n",
        "    testset = torchvision.datasets.FashionMNIST(\"./data\",\n",
        "                                         train = False,\n",
        "                                         transform = transforms.Compose([transforms.Resize((32,32)),\n",
        "                                                                         transforms.ToTensor(),\n",
        "                                                                         transforms.Normalize(mean = (0.1325,),\n",
        "                                                                                              std = (0.3105,))]),\n",
        "                                         download=True)\n",
        "\n",
        "    testloader = DataLoader(testset, batch_size=BATCH_SIZE)\n",
        "\n",
        "\n",
        "    # #################### Train and Val Datasets Preparetion ####################\n",
        "    trainset = torchvision.datasets.FashionMNIST(\"./data\",\n",
        "                                          train = True,\n",
        "                                          transform = transforms.Compose([transforms.Resize((32,32)),\n",
        "                                                                          transforms.ToTensor(),\n",
        "                                                                          transforms.Normalize(mean = (0.1307,),\n",
        "                                                                                               std = (0.3081,))]),\n",
        "                                          download=True)\n",
        "\n",
        "    plan = num_clients * NUM_DEVICE_TYPE\n",
        "    partition_size = len(trainset) // plan\n",
        "    lengths = [partition_size] * plan\n",
        "    # plan = num_clients * 2\n",
        "    # partition_size = len(trainset) // plan\n",
        "    # lengths = [partition_size] * plan\n",
        "    # partition_size = len(trainset) // num_clients\n",
        "    # lengths = [partition_size] * num_clients\n",
        "\n",
        "    datasets = random_split(trainset, lengths, torch.Generator().manual_seed(42))\n",
        "\n",
        "\n",
        "    trainloaders_1, valloaders_1 = [], []\n",
        "    trainloaders_2, valloaders_2 = [], []\n",
        "    trainloaders_3, valloaders_3 = [], []\n",
        "    trainloaders_4, valloaders_4 = [], []\n",
        "    trainloaders_5, valloaders_5 = [], []\n",
        "    trainloaders_6, valloaders_6 = [], []\n",
        "    trainloaders_7, valloaders_7 = [], []\n",
        "    trainloaders_8, valloaders_8 = [], []\n",
        "    trainloaders_9, valloaders_9 = [], []\n",
        "    trainloaders_10, valloaders_10 = [], []\n",
        "\n",
        "\n",
        "    # The amount of data should be shared per device class (D1, D2, ... , D10):\n",
        "    amount = (len(datasets) // NUM_DEVICE_TYPE)\n",
        "\n",
        "    # Sharing dataset to devices:\n",
        "    for i, ds in enumerate(datasets):\n",
        "        len_val = len(ds) // 10\n",
        "        len_train = len(ds) - len_val\n",
        "        lengths = [len_train, len_val]\n",
        "\n",
        "        ds_train, ds_val = random_split(ds, lengths, torch.Generator().manual_seed(42))\n",
        "\n",
        "        # D1 devices:\n",
        "        if (amount*0 <= i) and (i < amount*1):\n",
        "            trainloaders_1.append(DataLoader(ds_train, batch_size=BATCH_SIZE, shuffle=True))\n",
        "            valloaders_1.append(DataLoader(ds_val, batch_size=BATCH_SIZE))\n",
        "\n",
        "        # D2 devices:\n",
        "        elif (amount*1 <= i) and (i < amount*2):\n",
        "            trainloaders_2.append(DataLoader(ds_train, batch_size=BATCH_SIZE, shuffle=True))\n",
        "            valloaders_2.append(DataLoader(ds_val, batch_size=BATCH_SIZE))\n",
        "\n",
        "        # D3 devices:\n",
        "        elif (amount*2 <= i) and (i < amount*3):\n",
        "            trainloaders_3.append(DataLoader(ds_train, batch_size=BATCH_SIZE, shuffle=True))\n",
        "            valloaders_3.append(DataLoader(ds_val, batch_size=BATCH_SIZE))\n",
        "\n",
        "        # D4 devices:\n",
        "        elif (amount*3 <= i) and (i < amount*4):\n",
        "            trainloaders_4.append(DataLoader(ds_train, batch_size=BATCH_SIZE, shuffle=True))\n",
        "            valloaders_4.append(DataLoader(ds_val, batch_size=BATCH_SIZE))\n",
        "\n",
        "        # D5 devices:\n",
        "        elif (amount*4 <= i) and (i < amount*5):\n",
        "            trainloaders_5.append(DataLoader(ds_train, batch_size=BATCH_SIZE, shuffle=True))\n",
        "            valloaders_5.append(DataLoader(ds_val, batch_size=BATCH_SIZE))\n",
        "\n",
        "        # D6 devices:\n",
        "        elif (amount*5 <= i) and (i < amount*6):\n",
        "            trainloaders_6.append(DataLoader(ds_train, batch_size=BATCH_SIZE, shuffle=True))\n",
        "            valloaders_6.append(DataLoader(ds_val, batch_size=BATCH_SIZE))\n",
        "\n",
        "        # D7 devices:\n",
        "        elif (amount*6 <= i) and (i < amount*7):\n",
        "            trainloaders_7.append(DataLoader(ds_train, batch_size=BATCH_SIZE, shuffle=True))\n",
        "            valloaders_7.append(DataLoader(ds_val, batch_size=BATCH_SIZE))\n",
        "\n",
        "        # D8 devices:\n",
        "        elif (amount*7 <= i) and (i < amount*8):\n",
        "            trainloaders_8.append(DataLoader(ds_train, batch_size=BATCH_SIZE, shuffle=True))\n",
        "            valloaders_8.append(DataLoader(ds_val, batch_size=BATCH_SIZE))\n",
        "\n",
        "        # D9 devices:\n",
        "        elif (amount*8 <= i) and (i < amount*9):\n",
        "            trainloaders_9.append(DataLoader(ds_train, batch_size=BATCH_SIZE, shuffle=True))\n",
        "            valloaders_9.append(DataLoader(ds_val, batch_size=BATCH_SIZE))\n",
        "\n",
        "        # D10 devices:\n",
        "        elif (amount*9 <= i) and (i < amount*10):\n",
        "            trainloaders_10.append(DataLoader(ds_train, batch_size=BATCH_SIZE, shuffle=True))\n",
        "            valloaders_10.append(DataLoader(ds_val, batch_size=BATCH_SIZE))\n",
        "\n",
        "\n",
        "    return (trainloaders_1, valloaders_1, trainloaders_2, valloaders_2,\n",
        "            trainloaders_3, valloaders_3, trainloaders_4, valloaders_4,\n",
        "            trainloaders_5, valloaders_5, trainloaders_6, valloaders_6,\n",
        "            trainloaders_7, valloaders_7, trainloaders_8, valloaders_8,\n",
        "            trainloaders_9, valloaders_9, trainloaders_10, valloaders_10,\n",
        "            testloader)"
      ]
    },
    {
      "cell_type": "code",
      "execution_count": 9,
      "id": "85a63e33-6ee5-46c1-851e-5568847f92e5",
      "metadata": {
        "tags": [],
        "colab": {
          "base_uri": "https://localhost:8080/",
          "height": 423,
          "referenced_widgets": [
            "5f531acf58724d40b15a50df6ef96ff0",
            "dcc7112baf914767812013a69c786e4c",
            "035bbfd048434df5ba67dbfa981f9783",
            "f98a9f50c9ee4a47b0f671b58ea7f342",
            "99b6003372cb46deaf957deb728c4bb0",
            "1cbdce7e0d9a4496a53715ca2e7aab62",
            "9189c13216bc48bfb4ec1e34e4c0bf00",
            "a0a68aa87e824110bc0aea5fe6b907ad",
            "357c9ecc0dbc41b88d4ef6e56e397774",
            "4f3948cff0264b128157443fd33eedf7",
            "c11ed198ad3441e4a1a7631bb77aecab",
            "8773ed149f2e423787a33436a5c56aea",
            "88797c7c26fc496899f938e918addca9",
            "b9f43ba9601c440d8f8a678185ffb424",
            "c51a4219017e4e069c372cacd45cfb4c",
            "302ca7a5a63e48b2bb0a3374fc532502",
            "30c6e7e447434ae7b88f08b79142ed3c",
            "25e44eb7995b40469a03fe1fe06c2bc8",
            "e8955888461142db95b232ae555b5bbb",
            "fa7641c0dc8243f68090a8133786d49a",
            "36b4800e9c924d6eb64ee158ba782c1b",
            "370c2a6fcd2249018547b37842ff66d3",
            "fe0a2cc4680b4de5ad03735ece86b8cf",
            "fb2b0d002cf244febf5c277c28b19328",
            "2b23d0736e0641aeb12c810084b6a8a3",
            "0bea1e3275a64243a4a10a0130655c9e",
            "34ba7365e26f48069be28aee572b61cd",
            "da2168e44dcb414bb11f7b65cf216e5c",
            "214ed739f1b34ce2880370696641e943",
            "b12c47c0e3c242fe847739259ac39e11",
            "f3cb5e9ab0ff42d4b7efda1c1308c5ff",
            "e90b68c63e134dd6a9caee588195c6f4",
            "fa8cd4fc3da448939eefcb2d1ca50213",
            "8c32037d11134029a9ec514318c6d5d2",
            "96ffcfcfe138409a9b4a5f23894461a4",
            "682263cbf1fb418796e88622bec48fe1",
            "17563880a4c94f06aacc691e94661f3c",
            "7cb9fd718f4443b0b7b89e6b56168459",
            "6edfe7fcf76a4b5eba7ed1bc3578a3f5",
            "cc68578e5290439b954f80b86e457f7f",
            "c2029a09eaa14a93a87a13421da8503b",
            "16201742bab042489ccdfc06f9f8f06a",
            "4ac1226e0ef147b896c3f945fa4ff717",
            "5b5e953709d34d03aea786a3d502f876"
          ]
        },
        "id": "85a63e33-6ee5-46c1-851e-5568847f92e5",
        "outputId": "506b0614-5972-4762-e6a1-f7f8091f361a"
      },
      "outputs": [
        {
          "output_type": "stream",
          "name": "stdout",
          "text": [
            "Downloading http://fashion-mnist.s3-website.eu-central-1.amazonaws.com/train-images-idx3-ubyte.gz\n",
            "Downloading http://fashion-mnist.s3-website.eu-central-1.amazonaws.com/train-images-idx3-ubyte.gz to ./data/FashionMNIST/raw/train-images-idx3-ubyte.gz\n"
          ]
        },
        {
          "output_type": "display_data",
          "data": {
            "text/plain": [
              "  0%|          | 0/26421880 [00:00<?, ?it/s]"
            ],
            "application/vnd.jupyter.widget-view+json": {
              "version_major": 2,
              "version_minor": 0,
              "model_id": "5f531acf58724d40b15a50df6ef96ff0"
            }
          },
          "metadata": {}
        },
        {
          "output_type": "stream",
          "name": "stdout",
          "text": [
            "Extracting ./data/FashionMNIST/raw/train-images-idx3-ubyte.gz to ./data/FashionMNIST/raw\n",
            "\n",
            "Downloading http://fashion-mnist.s3-website.eu-central-1.amazonaws.com/train-labels-idx1-ubyte.gz\n",
            "Downloading http://fashion-mnist.s3-website.eu-central-1.amazonaws.com/train-labels-idx1-ubyte.gz to ./data/FashionMNIST/raw/train-labels-idx1-ubyte.gz\n"
          ]
        },
        {
          "output_type": "display_data",
          "data": {
            "text/plain": [
              "  0%|          | 0/29515 [00:00<?, ?it/s]"
            ],
            "application/vnd.jupyter.widget-view+json": {
              "version_major": 2,
              "version_minor": 0,
              "model_id": "8773ed149f2e423787a33436a5c56aea"
            }
          },
          "metadata": {}
        },
        {
          "output_type": "stream",
          "name": "stdout",
          "text": [
            "Extracting ./data/FashionMNIST/raw/train-labels-idx1-ubyte.gz to ./data/FashionMNIST/raw\n",
            "\n",
            "Downloading http://fashion-mnist.s3-website.eu-central-1.amazonaws.com/t10k-images-idx3-ubyte.gz\n",
            "Downloading http://fashion-mnist.s3-website.eu-central-1.amazonaws.com/t10k-images-idx3-ubyte.gz to ./data/FashionMNIST/raw/t10k-images-idx3-ubyte.gz\n"
          ]
        },
        {
          "output_type": "display_data",
          "data": {
            "text/plain": [
              "  0%|          | 0/4422102 [00:00<?, ?it/s]"
            ],
            "application/vnd.jupyter.widget-view+json": {
              "version_major": 2,
              "version_minor": 0,
              "model_id": "fe0a2cc4680b4de5ad03735ece86b8cf"
            }
          },
          "metadata": {}
        },
        {
          "output_type": "stream",
          "name": "stdout",
          "text": [
            "Extracting ./data/FashionMNIST/raw/t10k-images-idx3-ubyte.gz to ./data/FashionMNIST/raw\n",
            "\n",
            "Downloading http://fashion-mnist.s3-website.eu-central-1.amazonaws.com/t10k-labels-idx1-ubyte.gz\n",
            "Downloading http://fashion-mnist.s3-website.eu-central-1.amazonaws.com/t10k-labels-idx1-ubyte.gz to ./data/FashionMNIST/raw/t10k-labels-idx1-ubyte.gz\n"
          ]
        },
        {
          "output_type": "display_data",
          "data": {
            "text/plain": [
              "  0%|          | 0/5148 [00:00<?, ?it/s]"
            ],
            "application/vnd.jupyter.widget-view+json": {
              "version_major": 2,
              "version_minor": 0,
              "model_id": "8c32037d11134029a9ec514318c6d5d2"
            }
          },
          "metadata": {}
        },
        {
          "output_type": "stream",
          "name": "stdout",
          "text": [
            "Extracting ./data/FashionMNIST/raw/t10k-labels-idx1-ubyte.gz to ./data/FashionMNIST/raw\n",
            "\n"
          ]
        }
      ],
      "source": [
        "trainloaders_1, valloaders_1, trainloaders_2, valloaders_2, trainloaders_3, valloaders_3, trainloaders_4, valloaders_4, trainloaders_5, valloaders_5, trainloaders_6, valloaders_6, trainloaders_7, valloaders_7, trainloaders_8, valloaders_8, trainloaders_9, valloaders_9, trainloaders_10, valloaders_10, testloader = load_datasets(NUM_DEVICES)"
      ]
    },
    {
      "cell_type": "code",
      "execution_count": 10,
      "id": "b381314b-4065-4097-8d30-f9836c030f06",
      "metadata": {
        "id": "b381314b-4065-4097-8d30-f9836c030f06"
      },
      "outputs": [],
      "source": [
        "# D1 devices are choosed to train:\n",
        "trainloaders = trainloaders_1\n",
        "valloaders = valloaders_1"
      ]
    },
    {
      "cell_type": "markdown",
      "id": "dcd3093f-d3ed-4c5b-b0dc-70aae2a00d71",
      "metadata": {
        "id": "dcd3093f-d3ed-4c5b-b0dc-70aae2a00d71"
      },
      "source": [
        "***\n",
        "## 4- Flower Client to Simulate Devices:"
      ]
    },
    {
      "cell_type": "code",
      "execution_count": 11,
      "id": "709858c8-73f7-4496-9735-fcd194b5b979",
      "metadata": {
        "id": "709858c8-73f7-4496-9735-fcd194b5b979"
      },
      "outputs": [],
      "source": [
        "class FlowerClient(fl.client.NumPyClient):\n",
        "    def __init__(self, cid, net, trainloader, valloader):\n",
        "        self.cid = cid\n",
        "        self.net = net\n",
        "        self.trainloader = trainloader\n",
        "        self.valloader = valloader\n",
        "\n",
        "    def get_parameters(self):\n",
        "        print(f\"[Client {self.cid}] get_parameters\")\n",
        "\n",
        "        return get_parameters(self.net)\n",
        "\n",
        "    # Fit Function A:\n",
        "    # Configuration from client-side\n",
        "    # To make client-side execution (trainig, evaluation).\n",
        "    def fit(self, parameters, config):\n",
        "        print(f\"[Client {self.cid}] fit, config: {config}\")\n",
        "        set_parameters(self.net, parameters)\n",
        "        train(self.net, self.trainloader, epochs=1)\n",
        "\n",
        "        return get_parameters(self.net), len(self.trainloader), {}\n",
        "\n",
        "    \"\"\"\n",
        "    # Fit Function B:\n",
        "    # To make configuration values from the server to the clients using a dictionary.\n",
        "    def fit(self, parameters, config):\n",
        "        # Read values from config\n",
        "        current_round = config[\"current_round\"]\n",
        "        local_epochs = config[\"local_epochs\"]\n",
        "\n",
        "        # Use values provided by the config\n",
        "        print(f\"[Client {self.cid}, round {current_round}] fit, config: {config}\")\n",
        "        set_parameters(self.net, parameters)\n",
        "        train(self.net, self.trainloader, epochs=local_epochs)\n",
        "        return get_parameters(self.net), len(self.trainloader), {}\n",
        "    \"\"\"\n",
        "\n",
        "    # This function is included for case of client side (federated) evaluation is required to use.\n",
        "    def evaluate(self, parameters, config):\n",
        "        print(f\"[Client {self.cid}] evaluate, config: {config}\")\n",
        "        set_parameters(self.net, parameters)\n",
        "        loss, accuracy = test(self.net, self.valloader)\n",
        "\n",
        "        return float(loss), len(self.valloader), {\"accuracy\": float(accuracy)}\n",
        "\n",
        "\n",
        "def client_fn(cid) -> FlowerClient:\n",
        "    net = Net().to(DEVICE)\n",
        "    trainloader = trainloaders[int(cid)]\n",
        "    valloader = valloaders[int(cid)]\n",
        "\n",
        "    return FlowerClient(cid, net, trainloader, valloader)"
      ]
    },
    {
      "cell_type": "markdown",
      "id": "37d808e4-ddcc-4a5f-b9be-67e33c651527",
      "metadata": {
        "id": "37d808e4-ddcc-4a5f-b9be-67e33c651527"
      },
      "source": [
        "***\n",
        "## 5- Model Preparetion:"
      ]
    },
    {
      "cell_type": "code",
      "execution_count": 12,
      "id": "72628d2a-eeff-469a-b265-d701b6f71c42",
      "metadata": {
        "id": "72628d2a-eeff-469a-b265-d701b6f71c42"
      },
      "outputs": [],
      "source": [
        "# LeNet:\n",
        "class Net(nn.Module):\n",
        "\n",
        "    def __init__(self):\n",
        "        super(Net, self).__init__()\n",
        "        # 1 input image channel, 6 output channels, 5x5 square convolution\n",
        "        # kernel\n",
        "        self.conv1 = nn.Conv2d(1, 6, 5)\n",
        "        self.conv2 = nn.Conv2d(6, 16, 5)\n",
        "        # an affine operation: y = Wx + b\n",
        "        self.fc1 = nn.Linear(16 * 5 * 5, 120)  # 5*5 from image dimension\n",
        "        self.fc2 = nn.Linear(120, 84)\n",
        "        self.fc3 = nn.Linear(84, 10)\n",
        "\n",
        "    def forward(self, x):\n",
        "        # Max pooling over a (2, 2) window\n",
        "        x = F.max_pool2d(F.relu(self.conv1(x)), (2, 2))\n",
        "        # If the size is a square, you can specify with a single number\n",
        "        x = F.max_pool2d(F.relu(self.conv2(x)), 2)\n",
        "        x = torch.flatten(x, 1) # flatten all dimensions except the batch dimension\n",
        "        x = F.relu(self.fc1(x))\n",
        "        x = F.relu(self.fc2(x))\n",
        "        x = self.fc3(x)\n",
        "\n",
        "        return x"
      ]
    },
    {
      "cell_type": "code",
      "execution_count": 13,
      "id": "d1124124-3d73-45a4-a0fb-7352579d6f4c",
      "metadata": {
        "id": "d1124124-3d73-45a4-a0fb-7352579d6f4c"
      },
      "outputs": [],
      "source": [
        "def get_parameters(net) -> List[np.ndarray]:\n",
        "    return [val.cpu().numpy() for _, val in net.state_dict().items()]\n",
        "\n",
        "def set_parameters(net, parameters: List[np.ndarray]):\n",
        "    params_dict = zip(net.state_dict().keys(), parameters)\n",
        "    state_dict = OrderedDict({k: torch.tensor(v) for k, v in params_dict})\n",
        "    net.load_state_dict(state_dict, strict=True)"
      ]
    },
    {
      "cell_type": "markdown",
      "id": "cfab70d1-c956-4154-b902-17c0946bf0d5",
      "metadata": {
        "id": "cfab70d1-c956-4154-b902-17c0946bf0d5"
      },
      "source": [
        "***\n",
        "## 6- Train & Test Functions:"
      ]
    },
    {
      "cell_type": "code",
      "execution_count": 14,
      "id": "94d1355a-e5b8-4943-9bdc-246b1ab3d8f3",
      "metadata": {
        "id": "94d1355a-e5b8-4943-9bdc-246b1ab3d8f3"
      },
      "outputs": [],
      "source": [
        "def train(net, trainloader, epochs: int):\n",
        "    \"\"\"Train the network on the training set.\"\"\"\n",
        "\n",
        "    criterion = torch.nn.CrossEntropyLoss()\n",
        "    optimizer = torch.optim.Adam(net.parameters())\n",
        "    net.train()\n",
        "\n",
        "    for epoch in range(epochs):\n",
        "        correct, total, epoch_loss = 0, 0, 0.0\n",
        "\n",
        "        for images, labels in trainloader:\n",
        "            images, labels = images.to(DEVICE), labels.to(DEVICE)\n",
        "            optimizer.zero_grad()\n",
        "            outputs = net(images)\n",
        "            loss = criterion(net(images), labels)\n",
        "            loss.backward()\n",
        "            optimizer.step()\n",
        "            # Metrics\n",
        "            epoch_loss += loss\n",
        "            total += labels.size(0)\n",
        "            correct += (torch.max(outputs.data, 1)[1] == labels).sum().item()\n",
        "\n",
        "        epoch_loss /= len(testloader.dataset)\n",
        "        epoch_acc = correct / total\n",
        "        print(f\"Epoch {epoch+1}: train loss {epoch_loss}, accuracy {epoch_acc}\")\n",
        "\n",
        "\n",
        "\n",
        "def test_model(net, testloader):\n",
        "    \"\"\"Evaluate the network on the entire test set.\"\"\"\n",
        "\n",
        "    criterion = torch.nn.CrossEntropyLoss()\n",
        "    correct, total, loss = 0, 0, 0.0\n",
        "    net.eval()\n",
        "\n",
        "    with torch.no_grad():\n",
        "        for images, labels in testloader:\n",
        "            images, labels = images.to(DEVICE), labels.to(DEVICE)\n",
        "            outputs = net(images)\n",
        "            loss += criterion(outputs, labels).item()\n",
        "            _, predicted = torch.max(outputs.data, 1)\n",
        "            total += labels.size(0)\n",
        "            correct += (predicted == labels).sum().item()\n",
        "\n",
        "    loss /= len(testloader.dataset)\n",
        "    accuracy = correct / total\n",
        "\n",
        "\n",
        "    return [loss, accuracy]"
      ]
    },
    {
      "cell_type": "markdown",
      "id": "b961cbad-4370-4e79-b714-c03965d3123f",
      "metadata": {
        "id": "b961cbad-4370-4e79-b714-c03965d3123f"
      },
      "source": [
        "***\n",
        "## 7- System Running (Training):"
      ]
    },
    {
      "cell_type": "code",
      "execution_count": 15,
      "id": "b20d4303-6db1-493f-8a99-31fc1169ea5c",
      "metadata": {
        "tags": [],
        "colab": {
          "base_uri": "https://localhost:8080/"
        },
        "id": "b20d4303-6db1-493f-8a99-31fc1169ea5c",
        "outputId": "a65e4495-ea0e-4773-cc90-c594f9935659"
      },
      "outputs": [
        {
          "output_type": "stream",
          "name": "stderr",
          "text": [
            "2023-07-19 13:08:17,298\tINFO worker.py:1636 -- Started a local Ray instance.\n",
            "INFO flower 2023-07-19 13:08:20,841 | app.py:155 | Ray initialized with resources: {'node:172.28.0.12': 1.0, 'memory': 7826836686.0, 'object_store_memory': 3913418342.0, 'CPU': 2.0}\n",
            "INFO:flower:Ray initialized with resources: {'node:172.28.0.12': 1.0, 'memory': 7826836686.0, 'object_store_memory': 3913418342.0, 'CPU': 2.0}\n",
            "INFO flower 2023-07-19 13:08:20,851 | app.py:171 | Starting Flower simulation running: Config(num_rounds=100, round_timeout=None)\n",
            "INFO:flower:Starting Flower simulation running: Config(num_rounds=100, round_timeout=None)\n",
            "INFO flower 2023-07-19 13:08:20,866 | server.py:84 | Initializing global parameters\n",
            "INFO:flower:Initializing global parameters\n",
            "INFO flower 2023-07-19 13:08:20,879 | server.py:252 | Using initial parameters provided by strategy\n",
            "INFO:flower:Using initial parameters provided by strategy\n",
            "INFO flower 2023-07-19 13:08:20,890 | server.py:86 | Evaluating initial parameters\n",
            "INFO:flower:Evaluating initial parameters\n",
            "INFO flower 2023-07-19 13:08:20,901 | server.py:99 | FL starting\n",
            "INFO:flower:FL starting\n",
            "DEBUG flower 2023-07-19 13:08:20,907 | server.py:203 | fit_round: strategy sampled 30 clients (out of 100)\n",
            "DEBUG:flower:fit_round: strategy sampled 30 clients (out of 100)\n",
            "2023-07-19 13:08:22,174\tWARNING __init__.py:181 -- DeprecationWarning: `ray.worker.get` is a private attribute and access will be removed in a future Ray version.\n"
          ]
        },
        {
          "output_type": "stream",
          "name": "stdout",
          "text": [
            "\u001b[2m\u001b[36m(launch_and_fit pid=3452)\u001b[0m [Client 41] fit, config: {'current_round': 1, 'local_epochs': 3}\n",
            "\u001b[2m\u001b[36m(launch_and_fit pid=3452)\u001b[0m Epoch 1: train loss 0.0002323575463378802, accuracy 0.037037037037037035\n",
            "\u001b[2m\u001b[36m(launch_and_fit pid=3453)\u001b[0m [Client 82] fit, config: {'current_round': 1, 'local_epochs': 3}\u001b[32m [repeated 20x across cluster] (Ray deduplicates logs by default. Set RAY_DEDUP_LOGS=0 to disable log deduplication, or see https://docs.ray.io/en/master/ray-observability/ray-logging.html#log-deduplication for more options.)\u001b[0m\n",
            "\u001b[2m\u001b[36m(launch_and_fit pid=3452)\u001b[0m Epoch 1: train loss 0.00023145070008467883, accuracy 0.1111111111111111\u001b[32m [repeated 20x across cluster]\u001b[0m\n"
          ]
        },
        {
          "output_type": "stream",
          "name": "stderr",
          "text": [
            "DEBUG flower 2023-07-19 13:08:32,459 | server.py:216 | fit_round received 30 results and 0 failures\n",
            "DEBUG:flower:fit_round received 30 results and 0 failures\n",
            "WARNING flower 2023-07-19 13:08:32,585 | fedavg.py:237 | No fit_metrics_aggregation_fn provided\n",
            "WARNING:flower:No fit_metrics_aggregation_fn provided\n",
            "DEBUG flower 2023-07-19 13:08:32,611 | server.py:157 | evaluate_round: strategy sampled 30 clients (out of 100)\n",
            "DEBUG:flower:evaluate_round: strategy sampled 30 clients (out of 100)\n"
          ]
        },
        {
          "output_type": "stream",
          "name": "stdout",
          "text": [
            "Saving round 1 aggregated_parameters...\n",
            "\u001b[2m\u001b[36m(launch_and_evaluate pid=3452)\u001b[0m [Client 96] evaluate, config: {}\n",
            "\u001b[2m\u001b[36m(launch_and_fit pid=3453)\u001b[0m [Client 39] fit, config: {'current_round': 1, 'local_epochs': 3}\u001b[32m [repeated 9x across cluster]\u001b[0m\n",
            "\u001b[2m\u001b[36m(launch_and_fit pid=3453)\u001b[0m Epoch 1: train loss 0.0002285269001731649, accuracy 0.24074074074074073\u001b[32m [repeated 9x across cluster]\u001b[0m\n",
            "\u001b[2m\u001b[36m(launch_and_evaluate pid=3452)\u001b[0m [Client 12] evaluate, config: {}\u001b[32m [repeated 16x across cluster]\u001b[0m\n"
          ]
        },
        {
          "output_type": "stream",
          "name": "stderr",
          "text": [
            "DEBUG flower 2023-07-19 13:08:42,476 | server.py:170 | evaluate_round received 0 results and 30 failures\n",
            "DEBUG:flower:evaluate_round received 0 results and 30 failures\n",
            "DEBUG flower 2023-07-19 13:08:42,484 | server.py:203 | fit_round: strategy sampled 30 clients (out of 100)\n",
            "DEBUG:flower:fit_round: strategy sampled 30 clients (out of 100)\n"
          ]
        },
        {
          "output_type": "stream",
          "name": "stdout",
          "text": [
            "\u001b[2m\u001b[36m(launch_and_fit pid=3452)\u001b[0m [Client 35] fit, config: {'current_round': 2, 'local_epochs': 3}\n",
            "\u001b[2m\u001b[36m(launch_and_fit pid=3452)\u001b[0m Epoch 1: train loss 0.0002278322644997388, accuracy 0.18518518518518517\n",
            "\u001b[2m\u001b[36m(launch_and_evaluate pid=3452)\u001b[0m [Client 17] evaluate, config: {}\u001b[32m [repeated 13x across cluster]\u001b[0m\n",
            "\u001b[2m\u001b[36m(launch_and_fit pid=3452)\u001b[0m [Client 86] fit, config: {'current_round': 2, 'local_epochs': 3}\u001b[32m [repeated 22x across cluster]\u001b[0m\n",
            "\u001b[2m\u001b[36m(launch_and_fit pid=3453)\u001b[0m Epoch 1: train loss 0.00023024098481982946, accuracy 0.09259259259259259\u001b[32m [repeated 21x across cluster]\u001b[0m\n"
          ]
        },
        {
          "output_type": "stream",
          "name": "stderr",
          "text": [
            "DEBUG flower 2023-07-19 13:08:50,044 | server.py:216 | fit_round received 30 results and 0 failures\n",
            "DEBUG:flower:fit_round received 30 results and 0 failures\n",
            "DEBUG flower 2023-07-19 13:08:50,135 | server.py:157 | evaluate_round: strategy sampled 30 clients (out of 100)\n",
            "DEBUG:flower:evaluate_round: strategy sampled 30 clients (out of 100)\n"
          ]
        },
        {
          "output_type": "stream",
          "name": "stdout",
          "text": [
            "Saving round 2 aggregated_parameters...\n",
            "\u001b[2m\u001b[36m(launch_and_evaluate pid=3453)\u001b[0m [Client 26] evaluate, config: {}\n",
            "\u001b[2m\u001b[36m(launch_and_fit pid=3453)\u001b[0m [Client 7] fit, config: {'current_round': 2, 'local_epochs': 3}\u001b[32m [repeated 7x across cluster]\u001b[0m\n",
            "\u001b[2m\u001b[36m(launch_and_fit pid=3453)\u001b[0m Epoch 1: train loss 0.00023066384892445058, accuracy 0.14814814814814814\u001b[32m [repeated 8x across cluster]\u001b[0m\n",
            "\u001b[2m\u001b[36m(launch_and_evaluate pid=3452)\u001b[0m [Client 47] evaluate, config: {}\u001b[32m [repeated 15x across cluster]\u001b[0m\n"
          ]
        },
        {
          "output_type": "stream",
          "name": "stderr",
          "text": [
            "DEBUG flower 2023-07-19 13:09:03,273 | server.py:170 | evaluate_round received 0 results and 30 failures\n",
            "DEBUG:flower:evaluate_round received 0 results and 30 failures\n",
            "DEBUG flower 2023-07-19 13:09:03,282 | server.py:203 | fit_round: strategy sampled 30 clients (out of 100)\n",
            "DEBUG:flower:fit_round: strategy sampled 30 clients (out of 100)\n"
          ]
        },
        {
          "output_type": "stream",
          "name": "stdout",
          "text": [
            "\u001b[2m\u001b[36m(launch_and_fit pid=3452)\u001b[0m [Client 6] fit, config: {'current_round': 3, 'local_epochs': 3}\n",
            "\u001b[2m\u001b[36m(launch_and_evaluate pid=3452)\u001b[0m [Client 87] evaluate, config: {}\u001b[32m [repeated 14x across cluster]\u001b[0m\n",
            "\u001b[2m\u001b[36m(launch_and_fit pid=3452)\u001b[0m Epoch 1: train loss 0.00022853589325677603, accuracy 0.16666666666666666\n",
            "\u001b[2m\u001b[36m(launch_and_fit pid=3453)\u001b[0m [Client 27] fit, config: {'current_round': 3, 'local_epochs': 3}\u001b[32m [repeated 23x across cluster]\u001b[0m\n",
            "\u001b[2m\u001b[36m(launch_and_fit pid=3452)\u001b[0m Epoch 1: train loss 0.0002297036407981068, accuracy 0.09259259259259259\u001b[32m [repeated 24x across cluster]\u001b[0m\n"
          ]
        },
        {
          "output_type": "stream",
          "name": "stderr",
          "text": [
            "DEBUG flower 2023-07-19 13:09:10,022 | server.py:216 | fit_round received 30 results and 0 failures\n",
            "DEBUG:flower:fit_round received 30 results and 0 failures\n",
            "DEBUG flower 2023-07-19 13:09:10,125 | server.py:157 | evaluate_round: strategy sampled 30 clients (out of 100)\n",
            "DEBUG:flower:evaluate_round: strategy sampled 30 clients (out of 100)\n"
          ]
        },
        {
          "output_type": "stream",
          "name": "stdout",
          "text": [
            "Saving round 3 aggregated_parameters...\n",
            "\u001b[2m\u001b[36m(launch_and_evaluate pid=3452)\u001b[0m [Client 36] evaluate, config: {}\n",
            "\u001b[2m\u001b[36m(launch_and_fit pid=3453)\u001b[0m [Client 61] fit, config: {'current_round': 3, 'local_epochs': 3}\u001b[32m [repeated 6x across cluster]\u001b[0m\n",
            "\u001b[2m\u001b[36m(launch_and_fit pid=3453)\u001b[0m Epoch 1: train loss 0.0002309211267856881, accuracy 0.09259259259259259\u001b[32m [repeated 5x across cluster]\u001b[0m\n"
          ]
        },
        {
          "output_type": "stream",
          "name": "stderr",
          "text": [
            "DEBUG flower 2023-07-19 13:09:15,972 | server.py:170 | evaluate_round received 0 results and 30 failures\n",
            "DEBUG:flower:evaluate_round received 0 results and 30 failures\n",
            "DEBUG flower 2023-07-19 13:09:15,981 | server.py:203 | fit_round: strategy sampled 30 clients (out of 100)\n",
            "DEBUG:flower:fit_round: strategy sampled 30 clients (out of 100)\n"
          ]
        },
        {
          "output_type": "stream",
          "name": "stdout",
          "text": [
            "\u001b[2m\u001b[36m(launch_and_evaluate pid=3452)\u001b[0m [Client 64] evaluate, config: {}\u001b[32m [repeated 28x across cluster]\u001b[0m\n",
            "\u001b[2m\u001b[36m(launch_and_fit pid=3452)\u001b[0m [Client 91] fit, config: {'current_round': 4, 'local_epochs': 3}\u001b[32m [repeated 8x across cluster]\u001b[0m\n",
            "\u001b[2m\u001b[36m(launch_and_fit pid=3452)\u001b[0m Epoch 1: train loss 0.00022823044855613261, accuracy 0.2037037037037037\u001b[32m [repeated 8x across cluster]\u001b[0m\n",
            "\u001b[2m\u001b[36m(launch_and_evaluate pid=3453)\u001b[0m [Client 87] fit, config: {'current_round': 4, 'local_epochs': 3}\n",
            "\u001b[2m\u001b[36m(launch_and_fit pid=3453)\u001b[0m [Client 15] fit, config: {'current_round': 4, 'local_epochs': 3}\u001b[32m [repeated 14x across cluster]\u001b[0m\n",
            "\u001b[2m\u001b[36m(launch_and_fit pid=3453)\u001b[0m Epoch 1: train loss 0.00022876124421600252, accuracy 0.07407407407407407\u001b[32m [repeated 14x across cluster]\u001b[0m\n"
          ]
        },
        {
          "output_type": "stream",
          "name": "stderr",
          "text": [
            "DEBUG flower 2023-07-19 13:09:26,129 | server.py:216 | fit_round received 30 results and 0 failures\n",
            "DEBUG:flower:fit_round received 30 results and 0 failures\n",
            "DEBUG flower 2023-07-19 13:09:26,253 | server.py:157 | evaluate_round: strategy sampled 30 clients (out of 100)\n",
            "DEBUG:flower:evaluate_round: strategy sampled 30 clients (out of 100)\n"
          ]
        },
        {
          "output_type": "stream",
          "name": "stdout",
          "text": [
            "Saving round 4 aggregated_parameters...\n",
            "\u001b[2m\u001b[36m(launch_and_evaluate pid=3452)\u001b[0m [Client 62] evaluate, config: {}\n",
            "\u001b[2m\u001b[36m(launch_and_evaluate pid=3452)\u001b[0m [Client 4] evaluate, config: {}\n",
            "\u001b[2m\u001b[36m(launch_and_evaluate pid=3452)\u001b[0m [Client 23] evaluate, config: {}\n",
            "\u001b[2m\u001b[36m(launch_and_fit pid=3452)\u001b[0m [Client 72] fit, config: {'current_round': 4, 'local_epochs': 3}\u001b[32m [repeated 8x across cluster]\u001b[0m\n",
            "\u001b[2m\u001b[36m(launch_and_fit pid=3453)\u001b[0m Epoch 1: train loss 0.00022978220658842474, accuracy 0.12962962962962962\u001b[32m [repeated 8x across cluster]\u001b[0m\n"
          ]
        },
        {
          "output_type": "stream",
          "name": "stderr",
          "text": [
            "DEBUG flower 2023-07-19 13:09:32,051 | server.py:170 | evaluate_round received 0 results and 30 failures\n",
            "DEBUG:flower:evaluate_round received 0 results and 30 failures\n",
            "DEBUG flower 2023-07-19 13:09:32,060 | server.py:203 | fit_round: strategy sampled 30 clients (out of 100)\n",
            "DEBUG:flower:fit_round: strategy sampled 30 clients (out of 100)\n"
          ]
        },
        {
          "output_type": "stream",
          "name": "stdout",
          "text": [
            "\u001b[2m\u001b[36m(launch_and_evaluate pid=3452)\u001b[0m [Client 82] evaluate, config: {}\u001b[32m [repeated 26x across cluster]\u001b[0m\n",
            "\u001b[2m\u001b[36m(launch_and_fit pid=3453)\u001b[0m [Client 18] fit, config: {'current_round': 5, 'local_epochs': 3}\u001b[32m [repeated 14x across cluster]\u001b[0m\n",
            "\u001b[2m\u001b[36m(launch_and_fit pid=3452)\u001b[0m Epoch 1: train loss 0.00022623226686846465, accuracy 0.16666666666666666\u001b[32m [repeated 15x across cluster]\u001b[0m\n",
            "\u001b[2m\u001b[36m(launch_and_evaluate pid=3453)\u001b[0m Epoch 1: train loss 0.00022728453041054308, accuracy 0.16666666666666666\n"
          ]
        },
        {
          "output_type": "stream",
          "name": "stderr",
          "text": [
            "DEBUG flower 2023-07-19 13:09:38,999 | server.py:216 | fit_round received 30 results and 0 failures\n",
            "DEBUG:flower:fit_round received 30 results and 0 failures\n",
            "DEBUG flower 2023-07-19 13:09:39,158 | server.py:157 | evaluate_round: strategy sampled 30 clients (out of 100)\n",
            "DEBUG:flower:evaluate_round: strategy sampled 30 clients (out of 100)\n"
          ]
        },
        {
          "output_type": "stream",
          "name": "stdout",
          "text": [
            "Saving round 5 aggregated_parameters...\n",
            "\u001b[2m\u001b[36m(launch_and_evaluate pid=3452)\u001b[0m [Client 93] evaluate, config: {}\n",
            "\u001b[2m\u001b[36m(launch_and_fit pid=3452)\u001b[0m [Client 62] fit, config: {'current_round': 5, 'local_epochs': 3}\u001b[32m [repeated 16x across cluster]\u001b[0m\n",
            "\u001b[2m\u001b[36m(launch_and_fit pid=3452)\u001b[0m Epoch 1: train loss 0.00022799662838224322, accuracy 0.09259259259259259\u001b[32m [repeated 15x across cluster]\u001b[0m\n",
            "\u001b[2m\u001b[36m(launch_and_evaluate pid=3452)\u001b[0m [Client 1] evaluate, config: {}\u001b[32m [repeated 21x across cluster]\u001b[0m\n"
          ]
        },
        {
          "output_type": "stream",
          "name": "stderr",
          "text": [
            "DEBUG flower 2023-07-19 13:09:47,011 | server.py:170 | evaluate_round received 0 results and 30 failures\n",
            "DEBUG:flower:evaluate_round received 0 results and 30 failures\n",
            "DEBUG flower 2023-07-19 13:09:47,018 | server.py:203 | fit_round: strategy sampled 30 clients (out of 100)\n",
            "DEBUG:flower:fit_round: strategy sampled 30 clients (out of 100)\n"
          ]
        },
        {
          "output_type": "stream",
          "name": "stdout",
          "text": [
            "\u001b[2m\u001b[36m(launch_and_fit pid=3452)\u001b[0m [Client 57] fit, config: {'current_round': 6, 'local_epochs': 3}\n",
            "\u001b[2m\u001b[36m(launch_and_fit pid=3452)\u001b[0m Epoch 1: train loss 0.00022567632549908012, accuracy 0.16666666666666666\n",
            "\u001b[2m\u001b[36m(launch_and_evaluate pid=3453)\u001b[0m [Client 17] evaluate, config: {}\u001b[32m [repeated 8x across cluster]\u001b[0m\n",
            "\u001b[2m\u001b[36m(launch_and_fit pid=3452)\u001b[0m [Client 10] fit, config: {'current_round': 6, 'local_epochs': 3}\u001b[32m [repeated 26x across cluster]\u001b[0m\n"
          ]
        },
        {
          "output_type": "stream",
          "name": "stderr",
          "text": [
            "DEBUG flower 2023-07-19 13:09:53,318 | server.py:216 | fit_round received 30 results and 0 failures\n",
            "DEBUG:flower:fit_round received 30 results and 0 failures\n"
          ]
        },
        {
          "output_type": "stream",
          "name": "stdout",
          "text": [
            "\u001b[2m\u001b[36m(launch_and_fit pid=3452)\u001b[0m Epoch 1: train loss 0.00022806902416050434, accuracy 0.14814814814814814\u001b[32m [repeated 27x across cluster]\u001b[0m\n"
          ]
        },
        {
          "output_type": "stream",
          "name": "stderr",
          "text": [
            "DEBUG flower 2023-07-19 13:09:53,424 | server.py:157 | evaluate_round: strategy sampled 30 clients (out of 100)\n",
            "DEBUG:flower:evaluate_round: strategy sampled 30 clients (out of 100)\n"
          ]
        },
        {
          "output_type": "stream",
          "name": "stdout",
          "text": [
            "Saving round 6 aggregated_parameters...\n",
            "\u001b[2m\u001b[36m(launch_and_evaluate pid=3453)\u001b[0m [Client 61] evaluate, config: {}\u001b[32m [repeated 16x across cluster]\u001b[0m\n",
            "\u001b[2m\u001b[36m(launch_and_fit pid=3453)\u001b[0m [Client 17] fit, config: {'current_round': 6, 'local_epochs': 3}\u001b[32m [repeated 3x across cluster]\u001b[0m\n",
            "\u001b[2m\u001b[36m(launch_and_fit pid=3453)\u001b[0m Epoch 1: train loss 0.00022694849758408964, accuracy 0.16666666666666666\u001b[32m [repeated 2x across cluster]\u001b[0m\n"
          ]
        },
        {
          "output_type": "stream",
          "name": "stderr",
          "text": [
            "DEBUG flower 2023-07-19 13:09:59,631 | server.py:170 | evaluate_round received 0 results and 30 failures\n",
            "DEBUG:flower:evaluate_round received 0 results and 30 failures\n",
            "DEBUG flower 2023-07-19 13:09:59,644 | server.py:203 | fit_round: strategy sampled 30 clients (out of 100)\n",
            "DEBUG:flower:fit_round: strategy sampled 30 clients (out of 100)\n"
          ]
        },
        {
          "output_type": "stream",
          "name": "stdout",
          "text": [
            "\u001b[2m\u001b[36m(launch_and_evaluate pid=3453)\u001b[0m [Client 62] evaluate, config: {}\u001b[32m [repeated 14x across cluster]\u001b[0m\n",
            "\u001b[2m\u001b[36m(launch_and_fit pid=3453)\u001b[0m [Client 50] fit, config: {'current_round': 7, 'local_epochs': 3}\u001b[32m [repeated 9x across cluster]\u001b[0m\n",
            "\u001b[2m\u001b[36m(launch_and_fit pid=3453)\u001b[0m Epoch 1: train loss 0.00022707479365635663, accuracy 0.07407407407407407\u001b[32m [repeated 9x across cluster]\u001b[0m\n"
          ]
        },
        {
          "output_type": "stream",
          "name": "stderr",
          "text": [
            "DEBUG flower 2023-07-19 13:10:08,547 | server.py:216 | fit_round received 30 results and 0 failures\n",
            "DEBUG:flower:fit_round received 30 results and 0 failures\n"
          ]
        },
        {
          "output_type": "stream",
          "name": "stdout",
          "text": [
            "\u001b[2m\u001b[36m(launch_and_fit pid=3453)\u001b[0m [Client 18] fit, config: {'current_round': 7, 'local_epochs': 3}\u001b[32m [repeated 20x across cluster]\u001b[0m\n",
            "\u001b[2m\u001b[36m(launch_and_fit pid=3452)\u001b[0m Epoch 1: train loss 0.000225098425289616, accuracy 0.2222222222222222\u001b[32m [repeated 19x across cluster]\u001b[0m\n",
            "Saving round 7 aggregated_parameters...\n"
          ]
        },
        {
          "output_type": "stream",
          "name": "stderr",
          "text": [
            "DEBUG flower 2023-07-19 13:10:08,655 | server.py:157 | evaluate_round: strategy sampled 30 clients (out of 100)\n",
            "DEBUG:flower:evaluate_round: strategy sampled 30 clients (out of 100)\n"
          ]
        },
        {
          "output_type": "stream",
          "name": "stdout",
          "text": [
            "\u001b[2m\u001b[36m(launch_and_evaluate pid=3452)\u001b[0m [Client 49] evaluate, config: {}\n",
            "\u001b[2m\u001b[36m(launch_and_fit pid=3452)\u001b[0m [Client 8] evaluate, config: {}\n",
            "\u001b[2m\u001b[36m(launch_and_fit pid=3452)\u001b[0m Epoch 1: train loss 0.00022463260393124074, accuracy 0.2777777777777778\u001b[32m [repeated 2x across cluster]\u001b[0m\n"
          ]
        },
        {
          "output_type": "stream",
          "name": "stderr",
          "text": [
            "DEBUG flower 2023-07-19 13:10:14,655 | server.py:170 | evaluate_round received 0 results and 30 failures\n",
            "DEBUG:flower:evaluate_round received 0 results and 30 failures\n",
            "DEBUG flower 2023-07-19 13:10:14,666 | server.py:203 | fit_round: strategy sampled 30 clients (out of 100)\n",
            "DEBUG:flower:fit_round: strategy sampled 30 clients (out of 100)\n"
          ]
        },
        {
          "output_type": "stream",
          "name": "stdout",
          "text": [
            "\u001b[2m\u001b[36m(launch_and_evaluate pid=3452)\u001b[0m [Client 43] evaluate, config: {}\u001b[32m [repeated 27x across cluster]\u001b[0m\n",
            "\u001b[2m\u001b[36m(launch_and_fit pid=3453)\u001b[0m [Client 70] fit, config: {'current_round': 8, 'local_epochs': 3}\n",
            "\u001b[2m\u001b[36m(launch_and_fit pid=3453)\u001b[0m [Client 71] fit, config: {'current_round': 8, 'local_epochs': 3}\n",
            "\u001b[2m\u001b[36m(launch_and_fit pid=3453)\u001b[0m Epoch 1: train loss 0.00022424529015552253, accuracy 0.25925925925925924\u001b[32m [repeated 13x across cluster]\u001b[0m\n",
            "\u001b[2m\u001b[36m(launch_and_evaluate pid=3453)\u001b[0m [Client 16] evaluate, config: {}\u001b[32m [repeated 2x across cluster]\u001b[0m\n",
            "\u001b[2m\u001b[36m(launch_and_fit pid=3452)\u001b[0m [Client 39] fit, config: {'current_round': 8, 'local_epochs': 3}\u001b[32m [repeated 18x across cluster]\u001b[0m\n"
          ]
        },
        {
          "output_type": "stream",
          "name": "stderr",
          "text": [
            "DEBUG flower 2023-07-19 13:10:23,294 | server.py:216 | fit_round received 30 results and 0 failures\n",
            "DEBUG:flower:fit_round received 30 results and 0 failures\n",
            "DEBUG flower 2023-07-19 13:10:23,439 | server.py:157 | evaluate_round: strategy sampled 30 clients (out of 100)\n",
            "DEBUG:flower:evaluate_round: strategy sampled 30 clients (out of 100)\n"
          ]
        },
        {
          "output_type": "stream",
          "name": "stdout",
          "text": [
            "Saving round 8 aggregated_parameters...\n",
            "\u001b[2m\u001b[36m(launch_and_fit pid=3453)\u001b[0m Epoch 1: train loss 0.0002229878882644698, accuracy 0.24074074074074073\u001b[32m [repeated 17x across cluster]\u001b[0m\n",
            "\u001b[2m\u001b[36m(launch_and_evaluate pid=3453)\u001b[0m [Client 66] evaluate, config: {}\u001b[32m [repeated 2x across cluster]\u001b[0m\n",
            "\u001b[2m\u001b[36m(launch_and_fit pid=3453)\u001b[0m [Client 6] fit, config: {'current_round': 8, 'local_epochs': 3}\u001b[32m [repeated 10x across cluster]\u001b[0m\n",
            "\u001b[2m\u001b[36m(launch_and_evaluate pid=3453)\u001b[0m [Client 45] evaluate, config: {}\u001b[32m [repeated 24x across cluster]\u001b[0m\n"
          ]
        },
        {
          "output_type": "stream",
          "name": "stderr",
          "text": [
            "DEBUG flower 2023-07-19 13:10:30,095 | server.py:170 | evaluate_round received 0 results and 30 failures\n",
            "DEBUG:flower:evaluate_round received 0 results and 30 failures\n",
            "DEBUG flower 2023-07-19 13:10:30,104 | server.py:203 | fit_round: strategy sampled 30 clients (out of 100)\n",
            "DEBUG:flower:fit_round: strategy sampled 30 clients (out of 100)\n"
          ]
        },
        {
          "output_type": "stream",
          "name": "stdout",
          "text": [
            "\u001b[2m\u001b[36m(launch_and_fit pid=3452)\u001b[0m Epoch 1: train loss 0.00022001712932251394, accuracy 0.3148148148148148\n",
            "\u001b[2m\u001b[36m(launch_and_fit pid=3453)\u001b[0m [Client 85] fit, config: {'current_round': 9, 'local_epochs': 3}\u001b[32m [repeated 4x across cluster]\u001b[0m\n",
            "\u001b[2m\u001b[36m(launch_and_evaluate pid=3453)\u001b[0m [Client 7] evaluate, config: {}\u001b[32m [repeated 4x across cluster]\u001b[0m\n",
            "\u001b[2m\u001b[36m(launch_and_fit pid=3452)\u001b[0m Epoch 1: train loss 0.000220137502765283, accuracy 0.3148148148148148\u001b[32m [repeated 25x across cluster]\u001b[0m\n"
          ]
        },
        {
          "output_type": "stream",
          "name": "stderr",
          "text": [
            "DEBUG flower 2023-07-19 13:10:36,569 | server.py:216 | fit_round received 30 results and 0 failures\n",
            "DEBUG:flower:fit_round received 30 results and 0 failures\n"
          ]
        },
        {
          "output_type": "stream",
          "name": "stdout",
          "text": [
            "\u001b[2m\u001b[36m(launch_and_fit pid=3453)\u001b[0m [Client 23] fit, config: {'current_round': 9, 'local_epochs': 3}\u001b[32m [repeated 25x across cluster]\u001b[0m\n"
          ]
        },
        {
          "output_type": "stream",
          "name": "stderr",
          "text": [
            "DEBUG flower 2023-07-19 13:10:36,964 | server.py:157 | evaluate_round: strategy sampled 30 clients (out of 100)\n",
            "DEBUG:flower:evaluate_round: strategy sampled 30 clients (out of 100)\n"
          ]
        },
        {
          "output_type": "stream",
          "name": "stdout",
          "text": [
            "Saving round 9 aggregated_parameters...\n",
            "\u001b[2m\u001b[36m(launch_and_evaluate pid=3453)\u001b[0m [Client 44] evaluate, config: {}\u001b[32m [repeated 6x across cluster]\u001b[0m\n",
            "\u001b[2m\u001b[36m(launch_and_fit pid=3452)\u001b[0m Epoch 1: train loss 0.00022149967844597995, accuracy 0.3333333333333333\u001b[32m [repeated 4x across cluster]\u001b[0m\n",
            "\u001b[2m\u001b[36m(launch_and_fit pid=3452)\u001b[0m [Client 87] evaluate, config: {}\n",
            "\u001b[2m\u001b[36m(launch_and_evaluate pid=3452)\u001b[0m [Client 62] evaluate, config: {}\u001b[32m [repeated 19x across cluster]\u001b[0m\n"
          ]
        },
        {
          "output_type": "stream",
          "name": "stderr",
          "text": [
            "DEBUG flower 2023-07-19 13:10:45,568 | server.py:170 | evaluate_round received 0 results and 30 failures\n",
            "DEBUG:flower:evaluate_round received 0 results and 30 failures\n",
            "DEBUG flower 2023-07-19 13:10:45,579 | server.py:203 | fit_round: strategy sampled 30 clients (out of 100)\n",
            "DEBUG:flower:fit_round: strategy sampled 30 clients (out of 100)\n"
          ]
        },
        {
          "output_type": "stream",
          "name": "stdout",
          "text": [
            "\u001b[2m\u001b[36m(launch_and_fit pid=3452)\u001b[0m [Client 5] fit, config: {'current_round': 10, 'local_epochs': 3}\n",
            "\u001b[2m\u001b[36m(launch_and_fit pid=3452)\u001b[0m Epoch 1: train loss 0.00022080163762439042, accuracy 0.16666666666666666\n",
            "\u001b[2m\u001b[36m(launch_and_evaluate pid=3452)\u001b[0m [Client 73] evaluate, config: {}\u001b[32m [repeated 5x across cluster]\u001b[0m\n",
            "\u001b[2m\u001b[36m(launch_and_fit pid=3452)\u001b[0m [Client 43] fit, config: {'current_round': 10, 'local_epochs': 3}\u001b[32m [repeated 20x across cluster]\u001b[0m\n",
            "\u001b[2m\u001b[36m(launch_and_fit pid=3452)\u001b[0m Epoch 1: train loss 0.00021770765306428075, accuracy 0.24074074074074073\u001b[32m [repeated 20x across cluster]\u001b[0m\n"
          ]
        },
        {
          "output_type": "stream",
          "name": "stderr",
          "text": [
            "DEBUG flower 2023-07-19 13:10:53,159 | server.py:216 | fit_round received 30 results and 0 failures\n",
            "DEBUG:flower:fit_round received 30 results and 0 failures\n",
            "DEBUG flower 2023-07-19 13:10:53,256 | server.py:157 | evaluate_round: strategy sampled 30 clients (out of 100)\n",
            "DEBUG:flower:evaluate_round: strategy sampled 30 clients (out of 100)\n"
          ]
        },
        {
          "output_type": "stream",
          "name": "stdout",
          "text": [
            "Saving round 10 aggregated_parameters...\n",
            "\u001b[2m\u001b[36m(launch_and_evaluate pid=3453)\u001b[0m [Client 68] evaluate, config: {}\u001b[32m [repeated 6x across cluster]\u001b[0m\n",
            "\u001b[2m\u001b[36m(launch_and_fit pid=3453)\u001b[0m [Client 81] fit, config: {'current_round': 10, 'local_epochs': 3}\u001b[32m [repeated 9x across cluster]\u001b[0m\n",
            "\u001b[2m\u001b[36m(launch_and_fit pid=3453)\u001b[0m Epoch 1: train loss 0.00021904717141296715, accuracy 0.2222222222222222\u001b[32m [repeated 9x across cluster]\u001b[0m\n"
          ]
        },
        {
          "output_type": "stream",
          "name": "stderr",
          "text": [
            "DEBUG flower 2023-07-19 13:10:58,783 | server.py:170 | evaluate_round received 0 results and 30 failures\n",
            "DEBUG:flower:evaluate_round received 0 results and 30 failures\n",
            "DEBUG flower 2023-07-19 13:10:58,787 | server.py:203 | fit_round: strategy sampled 30 clients (out of 100)\n",
            "DEBUG:flower:fit_round: strategy sampled 30 clients (out of 100)\n"
          ]
        },
        {
          "output_type": "stream",
          "name": "stdout",
          "text": [
            "\u001b[2m\u001b[36m(launch_and_evaluate pid=3453)\u001b[0m [Client 88] evaluate, config: {}\u001b[32m [repeated 24x across cluster]\u001b[0m\n",
            "\u001b[2m\u001b[36m(launch_and_fit pid=3453)\u001b[0m [Client 24] fit, config: {'current_round': 11, 'local_epochs': 3}\u001b[32m [repeated 6x across cluster]\u001b[0m\n",
            "\u001b[2m\u001b[36m(launch_and_fit pid=3453)\u001b[0m Epoch 1: train loss 0.00021419856057036668, accuracy 0.3148148148148148\u001b[32m [repeated 6x across cluster]\u001b[0m\n",
            "\u001b[2m\u001b[36m(launch_and_fit pid=3452)\u001b[0m [Client 69] fit, config: {'current_round': 11, 'local_epochs': 3}\u001b[32m [repeated 18x across cluster]\u001b[0m\n",
            "\u001b[2m\u001b[36m(launch_and_fit pid=3453)\u001b[0m Epoch 1: train loss 0.00021329753508325666, accuracy 0.37037037037037035\u001b[32m [repeated 17x across cluster]\u001b[0m\n"
          ]
        },
        {
          "output_type": "stream",
          "name": "stderr",
          "text": [
            "DEBUG flower 2023-07-19 13:11:08,319 | server.py:216 | fit_round received 30 results and 0 failures\n",
            "DEBUG:flower:fit_round received 30 results and 0 failures\n",
            "DEBUG flower 2023-07-19 13:11:08,460 | server.py:157 | evaluate_round: strategy sampled 30 clients (out of 100)\n",
            "DEBUG:flower:evaluate_round: strategy sampled 30 clients (out of 100)\n"
          ]
        },
        {
          "output_type": "stream",
          "name": "stdout",
          "text": [
            "Saving round 11 aggregated_parameters...\n",
            "\u001b[2m\u001b[36m(launch_and_evaluate pid=3453)\u001b[0m [Client 91] evaluate, config: {}\n",
            "\u001b[2m\u001b[36m(launch_and_fit pid=3453)\u001b[0m [Client 85] fit, config: {'current_round': 11, 'local_epochs': 3}\u001b[32m [repeated 6x across cluster]\u001b[0m\n",
            "\u001b[2m\u001b[36m(launch_and_fit pid=3453)\u001b[0m Epoch 1: train loss 0.0002143086021533236, accuracy 0.25925925925925924\u001b[32m [repeated 7x across cluster]\u001b[0m\n"
          ]
        },
        {
          "output_type": "stream",
          "name": "stderr",
          "text": [
            "DEBUG flower 2023-07-19 13:11:14,673 | server.py:170 | evaluate_round received 0 results and 30 failures\n",
            "DEBUG:flower:evaluate_round received 0 results and 30 failures\n",
            "DEBUG flower 2023-07-19 13:11:14,678 | server.py:203 | fit_round: strategy sampled 30 clients (out of 100)\n",
            "DEBUG:flower:fit_round: strategy sampled 30 clients (out of 100)\n"
          ]
        },
        {
          "output_type": "stream",
          "name": "stdout",
          "text": [
            "\u001b[2m\u001b[36m(launch_and_evaluate pid=3452)\u001b[0m [Client 70] evaluate, config: {}\u001b[32m [repeated 29x across cluster]\u001b[0m\n",
            "\u001b[2m\u001b[36m(launch_and_fit pid=3452)\u001b[0m [Client 6] fit, config: {'current_round': 12, 'local_epochs': 3}\u001b[32m [repeated 9x across cluster]\u001b[0m\n",
            "\u001b[2m\u001b[36m(launch_and_fit pid=3452)\u001b[0m Epoch 1: train loss 0.00021163983910810202, accuracy 0.4074074074074074\u001b[32m [repeated 9x across cluster]\u001b[0m\n",
            "\u001b[2m\u001b[36m(launch_and_fit pid=3453)\u001b[0m [Client 94] fit, config: {'current_round': 12, 'local_epochs': 3}\u001b[32m [repeated 17x across cluster]\u001b[0m\n",
            "\u001b[2m\u001b[36m(launch_and_fit pid=3452)\u001b[0m Epoch 1: train loss 0.00021082775492686778, accuracy 0.24074074074074073\u001b[32m [repeated 18x across cluster]\u001b[0m\n"
          ]
        },
        {
          "output_type": "stream",
          "name": "stderr",
          "text": [
            "DEBUG flower 2023-07-19 13:11:23,680 | server.py:216 | fit_round received 30 results and 0 failures\n",
            "DEBUG:flower:fit_round received 30 results and 0 failures\n",
            "DEBUG flower 2023-07-19 13:11:23,902 | server.py:157 | evaluate_round: strategy sampled 30 clients (out of 100)\n",
            "DEBUG:flower:evaluate_round: strategy sampled 30 clients (out of 100)\n"
          ]
        },
        {
          "output_type": "stream",
          "name": "stdout",
          "text": [
            "Saving round 12 aggregated_parameters...\n",
            "\u001b[2m\u001b[36m(launch_and_evaluate pid=3452)\u001b[0m [Client 49] evaluate, config: {}\n",
            "\u001b[2m\u001b[36m(launch_and_fit pid=3453)\u001b[0m [Client 85] fit, config: {'current_round': 12, 'local_epochs': 3}\u001b[32m [repeated 4x across cluster]\u001b[0m\n",
            "\u001b[2m\u001b[36m(launch_and_fit pid=3453)\u001b[0m Epoch 1: train loss 0.00021077135170344263, accuracy 0.2777777777777778\u001b[32m [repeated 3x across cluster]\u001b[0m\n",
            "\u001b[2m\u001b[36m(launch_and_evaluate pid=3452)\u001b[0m [Client 73] evaluate, config: {}\u001b[32m [repeated 14x across cluster]\u001b[0m\n"
          ]
        },
        {
          "output_type": "stream",
          "name": "stderr",
          "text": [
            "DEBUG flower 2023-07-19 13:11:34,614 | server.py:170 | evaluate_round received 0 results and 30 failures\n",
            "DEBUG:flower:evaluate_round received 0 results and 30 failures\n",
            "DEBUG flower 2023-07-19 13:11:34,622 | server.py:203 | fit_round: strategy sampled 30 clients (out of 100)\n",
            "DEBUG:flower:fit_round: strategy sampled 30 clients (out of 100)\n"
          ]
        },
        {
          "output_type": "stream",
          "name": "stdout",
          "text": [
            "\u001b[2m\u001b[36m(launch_and_fit pid=3453)\u001b[0m [Client 39] fit, config: {'current_round': 13, 'local_epochs': 3}\n",
            "\u001b[2m\u001b[36m(launch_and_fit pid=3453)\u001b[0m Epoch 1: train loss 0.00020728586241602898, accuracy 0.18518518518518517\n",
            "\u001b[2m\u001b[36m(launch_and_fit pid=3453)\u001b[0m \n",
            "\u001b[2m\u001b[36m(launch_and_fit pid=3453)\u001b[0m [Client 93] fit, config: {'current_round': 13, 'local_epochs': 3}\n",
            "\u001b[2m\u001b[36m(launch_and_evaluate pid=3453)\u001b[0m [Client 95] evaluate, config: {}\u001b[32m [repeated 15x across cluster]\u001b[0m\n",
            "\u001b[2m\u001b[36m(launch_and_fit pid=3453)\u001b[0m Epoch 1: train loss 0.00020371639402583241, accuracy 0.3148148148148148\n",
            "\u001b[2m\u001b[36m(launch_and_fit pid=3452)\u001b[0m [Client 7] fit, config: {'current_round': 13, 'local_epochs': 3}\u001b[32m [repeated 21x across cluster]\u001b[0m\n",
            "\u001b[2m\u001b[36m(launch_and_fit pid=3452)\u001b[0m Epoch 1: train loss 0.00020913044863846153, accuracy 0.25925925925925924\u001b[32m [repeated 21x across cluster]\u001b[0m\n"
          ]
        },
        {
          "output_type": "stream",
          "name": "stderr",
          "text": [
            "DEBUG flower 2023-07-19 13:11:41,567 | server.py:216 | fit_round received 30 results and 0 failures\n",
            "DEBUG:flower:fit_round received 30 results and 0 failures\n",
            "DEBUG flower 2023-07-19 13:11:41,655 | server.py:157 | evaluate_round: strategy sampled 30 clients (out of 100)\n",
            "DEBUG:flower:evaluate_round: strategy sampled 30 clients (out of 100)\n"
          ]
        },
        {
          "output_type": "stream",
          "name": "stdout",
          "text": [
            "Saving round 13 aggregated_parameters...\n",
            "\u001b[2m\u001b[36m(launch_and_evaluate pid=3453)\u001b[0m [Client 93] evaluate, config: {}\n",
            "\u001b[2m\u001b[36m(launch_and_evaluate pid=3453)\u001b[0m [Client 61] evaluate, config: {}\n",
            "\u001b[2m\u001b[36m(launch_and_fit pid=3452)\u001b[0m [Client 46] fit, config: {'current_round': 13, 'local_epochs': 3}\u001b[32m [repeated 7x across cluster]\u001b[0m\n",
            "\u001b[2m\u001b[36m(launch_and_fit pid=3452)\u001b[0m Epoch 1: train loss 0.00020615622634068131, accuracy 0.25925925925925924\u001b[32m [repeated 7x across cluster]\u001b[0m\n"
          ]
        },
        {
          "output_type": "stream",
          "name": "stderr",
          "text": [
            "DEBUG flower 2023-07-19 13:11:46,574 | server.py:170 | evaluate_round received 0 results and 30 failures\n",
            "DEBUG:flower:evaluate_round received 0 results and 30 failures\n",
            "DEBUG flower 2023-07-19 13:11:46,585 | server.py:203 | fit_round: strategy sampled 30 clients (out of 100)\n",
            "DEBUG:flower:fit_round: strategy sampled 30 clients (out of 100)\n"
          ]
        },
        {
          "output_type": "stream",
          "name": "stdout",
          "text": [
            "\u001b[2m\u001b[36m(launch_and_evaluate pid=3452)\u001b[0m [Client 36] evaluate, config: {}\u001b[32m [repeated 28x across cluster]\u001b[0m\n",
            "\u001b[2m\u001b[36m(launch_and_fit pid=3453)\u001b[0m [Client 60] fit, config: {'current_round': 14, 'local_epochs': 3}\u001b[32m [repeated 12x across cluster]\u001b[0m\n",
            "\u001b[2m\u001b[36m(launch_and_fit pid=3453)\u001b[0m Epoch 1: train loss 0.0002048417809419334, accuracy 0.2037037037037037\u001b[32m [repeated 11x across cluster]\u001b[0m\n"
          ]
        },
        {
          "output_type": "stream",
          "name": "stderr",
          "text": [
            "DEBUG flower 2023-07-19 13:11:55,881 | server.py:216 | fit_round received 30 results and 0 failures\n",
            "DEBUG:flower:fit_round received 30 results and 0 failures\n",
            "DEBUG flower 2023-07-19 13:11:56,138 | server.py:157 | evaluate_round: strategy sampled 30 clients (out of 100)\n",
            "DEBUG:flower:evaluate_round: strategy sampled 30 clients (out of 100)\n"
          ]
        },
        {
          "output_type": "stream",
          "name": "stdout",
          "text": [
            "Saving round 14 aggregated_parameters...\n",
            "\u001b[2m\u001b[36m(launch_and_evaluate pid=3452)\u001b[0m [Client 2] evaluate, config: {}\n",
            "\u001b[2m\u001b[36m(launch_and_fit pid=3452)\u001b[0m [Client 19] fit, config: {'current_round': 14, 'local_epochs': 3}\u001b[32m [repeated 18x across cluster]\u001b[0m\n",
            "\u001b[2m\u001b[36m(launch_and_fit pid=3452)\u001b[0m Epoch 1: train loss 0.00019621315004769713, accuracy 0.2962962962962963\u001b[32m [repeated 19x across cluster]\u001b[0m\n",
            "\u001b[2m\u001b[36m(launch_and_evaluate pid=3452)\u001b[0m [Client 4] evaluate, config: {}\n"
          ]
        },
        {
          "output_type": "stream",
          "name": "stderr",
          "text": [
            "DEBUG flower 2023-07-19 13:12:00,891 | server.py:170 | evaluate_round received 0 results and 30 failures\n",
            "DEBUG:flower:evaluate_round received 0 results and 30 failures\n",
            "DEBUG flower 2023-07-19 13:12:00,899 | server.py:203 | fit_round: strategy sampled 30 clients (out of 100)\n",
            "DEBUG:flower:fit_round: strategy sampled 30 clients (out of 100)\n"
          ]
        },
        {
          "output_type": "stream",
          "name": "stdout",
          "text": [
            "\u001b[2m\u001b[36m(launch_and_evaluate pid=3453)\u001b[0m [Client 0] evaluate, config: {}\u001b[32m [repeated 28x across cluster]\u001b[0m\n",
            "\u001b[2m\u001b[36m(launch_and_fit pid=3453)\u001b[0m [Client 97] fit, config: {'current_round': 15, 'local_epochs': 3}\u001b[32m [repeated 5x across cluster]\u001b[0m\n",
            "\u001b[2m\u001b[36m(launch_and_fit pid=3452)\u001b[0m Epoch 1: train loss 0.00019502251234371215, accuracy 0.3148148148148148\u001b[32m [repeated 4x across cluster]\u001b[0m\n"
          ]
        },
        {
          "output_type": "stream",
          "name": "stderr",
          "text": [
            "DEBUG flower 2023-07-19 13:12:06,595 | server.py:216 | fit_round received 30 results and 0 failures\n",
            "DEBUG:flower:fit_round received 30 results and 0 failures\n",
            "DEBUG flower 2023-07-19 13:12:06,695 | server.py:157 | evaluate_round: strategy sampled 30 clients (out of 100)\n",
            "DEBUG:flower:evaluate_round: strategy sampled 30 clients (out of 100)\n"
          ]
        },
        {
          "output_type": "stream",
          "name": "stdout",
          "text": [
            "Saving round 15 aggregated_parameters...\n",
            "\u001b[2m\u001b[36m(launch_and_evaluate pid=3452)\u001b[0m [Client 56] evaluate, config: {}\n",
            "\u001b[2m\u001b[36m(launch_and_fit pid=3453)\u001b[0m [Client 54] fit, config: {'current_round': 15, 'local_epochs': 3}\u001b[32m [repeated 25x across cluster]\u001b[0m\n",
            "\u001b[2m\u001b[36m(launch_and_fit pid=3453)\u001b[0m Epoch 1: train loss 0.00019580376101657748, accuracy 0.3888888888888889\u001b[32m [repeated 26x across cluster]\u001b[0m\n",
            "\u001b[2m\u001b[36m(launch_and_evaluate pid=3453)\u001b[0m [Client 25] evaluate, config: {}\n",
            "\u001b[2m\u001b[36m(launch_and_evaluate pid=3452)\u001b[0m [Client 85] evaluate, config: {}\u001b[32m [repeated 22x across cluster]\u001b[0m\n"
          ]
        },
        {
          "output_type": "stream",
          "name": "stderr",
          "text": [
            "DEBUG flower 2023-07-19 13:12:13,718 | server.py:170 | evaluate_round received 0 results and 30 failures\n",
            "DEBUG:flower:evaluate_round received 0 results and 30 failures\n",
            "DEBUG flower 2023-07-19 13:12:13,729 | server.py:203 | fit_round: strategy sampled 30 clients (out of 100)\n",
            "DEBUG:flower:fit_round: strategy sampled 30 clients (out of 100)\n"
          ]
        },
        {
          "output_type": "stream",
          "name": "stdout",
          "text": [
            "\u001b[2m\u001b[36m(launch_and_fit pid=3453)\u001b[0m [Client 45] fit, config: {'current_round': 16, 'local_epochs': 3}\n",
            "\u001b[2m\u001b[36m(launch_and_fit pid=3453)\u001b[0m Epoch 1: train loss 0.00019123296078760177, accuracy 0.4074074074074074\n",
            "\u001b[2m\u001b[36m(launch_and_fit pid=3452)\u001b[0m \n",
            "\u001b[2m\u001b[36m(launch_and_evaluate pid=3453)\u001b[0m [Client 76] evaluate, config: {}\u001b[32m [repeated 6x across cluster]\u001b[0m\n",
            "\u001b[2m\u001b[36m(launch_and_fit pid=3452)\u001b[0m [Client 20] fit, config: {'current_round': 16, 'local_epochs': 3}\u001b[32m [repeated 24x across cluster]\u001b[0m\n",
            "\u001b[2m\u001b[36m(launch_and_fit pid=3453)\u001b[0m Epoch 1: train loss 0.00019094179151579738, accuracy 0.2777777777777778\u001b[32m [repeated 23x across cluster]\u001b[0m\n"
          ]
        },
        {
          "output_type": "stream",
          "name": "stderr",
          "text": [
            "DEBUG flower 2023-07-19 13:12:20,652 | server.py:216 | fit_round received 30 results and 0 failures\n",
            "DEBUG:flower:fit_round received 30 results and 0 failures\n",
            "DEBUG flower 2023-07-19 13:12:20,750 | server.py:157 | evaluate_round: strategy sampled 30 clients (out of 100)\n",
            "DEBUG:flower:evaluate_round: strategy sampled 30 clients (out of 100)\n"
          ]
        },
        {
          "output_type": "stream",
          "name": "stdout",
          "text": [
            "Saving round 16 aggregated_parameters...\n",
            "\u001b[2m\u001b[36m(launch_and_evaluate pid=3453)\u001b[0m [Client 5] evaluate, config: {}\u001b[32m [repeated 11x across cluster]\u001b[0m\n",
            "\u001b[2m\u001b[36m(launch_and_fit pid=3452)\u001b[0m [Client 74] fit, config: {'current_round': 16, 'local_epochs': 3}\u001b[32m [repeated 5x across cluster]\u001b[0m\n",
            "\u001b[2m\u001b[36m(launch_and_fit pid=3453)\u001b[0m Epoch 1: train loss 0.00018590150284580886, accuracy 0.37037037037037035\u001b[32m [repeated 6x across cluster]\u001b[0m\n"
          ]
        },
        {
          "output_type": "stream",
          "name": "stderr",
          "text": [
            "DEBUG flower 2023-07-19 13:12:25,740 | server.py:170 | evaluate_round received 0 results and 30 failures\n",
            "DEBUG:flower:evaluate_round received 0 results and 30 failures\n",
            "DEBUG flower 2023-07-19 13:12:25,745 | server.py:203 | fit_round: strategy sampled 30 clients (out of 100)\n",
            "DEBUG:flower:fit_round: strategy sampled 30 clients (out of 100)\n"
          ]
        },
        {
          "output_type": "stream",
          "name": "stdout",
          "text": [
            "\u001b[2m\u001b[36m(launch_and_evaluate pid=3453)\u001b[0m [Client 41] evaluate, config: {}\u001b[32m [repeated 19x across cluster]\u001b[0m\n",
            "\u001b[2m\u001b[36m(launch_and_fit pid=3452)\u001b[0m [Client 2] fit, config: {'current_round': 17, 'local_epochs': 3}\u001b[32m [repeated 15x across cluster]\u001b[0m\n",
            "\u001b[2m\u001b[36m(launch_and_fit pid=3453)\u001b[0m Epoch 1: train loss 0.000182627874892205, accuracy 0.37037037037037035\u001b[32m [repeated 13x across cluster]\u001b[0m\n"
          ]
        },
        {
          "output_type": "stream",
          "name": "stderr",
          "text": [
            "DEBUG flower 2023-07-19 13:12:34,216 | server.py:216 | fit_round received 30 results and 0 failures\n",
            "DEBUG:flower:fit_round received 30 results and 0 failures\n",
            "DEBUG flower 2023-07-19 13:12:34,355 | server.py:157 | evaluate_round: strategy sampled 30 clients (out of 100)\n",
            "DEBUG:flower:evaluate_round: strategy sampled 30 clients (out of 100)\n"
          ]
        },
        {
          "output_type": "stream",
          "name": "stdout",
          "text": [
            "Saving round 17 aggregated_parameters...\n",
            "\u001b[2m\u001b[36m(launch_and_evaluate pid=3453)\u001b[0m [Client 88] evaluate, config: {}\n",
            "\u001b[2m\u001b[36m(launch_and_fit pid=3452)\u001b[0m [Client 7] fit, config: {'current_round': 17, 'local_epochs': 3}\u001b[32m [repeated 15x across cluster]\u001b[0m\n",
            "\u001b[2m\u001b[36m(launch_and_fit pid=3452)\u001b[0m Epoch 1: train loss 0.00018782552797347307, accuracy 0.4444444444444444\u001b[32m [repeated 17x across cluster]\u001b[0m\n"
          ]
        },
        {
          "output_type": "stream",
          "name": "stderr",
          "text": [
            "DEBUG flower 2023-07-19 13:12:40,398 | server.py:170 | evaluate_round received 0 results and 30 failures\n",
            "DEBUG:flower:evaluate_round received 0 results and 30 failures\n",
            "DEBUG flower 2023-07-19 13:12:40,403 | server.py:203 | fit_round: strategy sampled 30 clients (out of 100)\n",
            "DEBUG:flower:fit_round: strategy sampled 30 clients (out of 100)\n"
          ]
        },
        {
          "output_type": "stream",
          "name": "stdout",
          "text": [
            "\u001b[2m\u001b[36m(launch_and_evaluate pid=3452)\u001b[0m [Client 20] evaluate, config: {}\u001b[32m [repeated 28x across cluster]\u001b[0m\n",
            "\u001b[2m\u001b[36m(launch_and_fit pid=3453)\u001b[0m [Client 83] fit, config: {'current_round': 18, 'local_epochs': 3}\n",
            "\u001b[2m\u001b[36m(launch_and_fit pid=3453)\u001b[0m Epoch 1: train loss 0.00017489813035354018, accuracy 0.37037037037037035\n",
            "\u001b[2m\u001b[36m(launch_and_evaluate pid=3453)\u001b[0m Epoch 1: train loss 0.00017919785750564188, accuracy 0.5\n",
            "\u001b[2m\u001b[36m(launch_and_fit pid=3452)\u001b[0m [Client 13] fit, config: {'current_round': 18, 'local_epochs': 3}\u001b[32m [repeated 25x across cluster]\u001b[0m\n"
          ]
        },
        {
          "output_type": "stream",
          "name": "stderr",
          "text": [
            "DEBUG flower 2023-07-19 13:12:46,628 | server.py:216 | fit_round received 30 results and 0 failures\n",
            "DEBUG:flower:fit_round received 30 results and 0 failures\n",
            "DEBUG flower 2023-07-19 13:12:46,730 | server.py:157 | evaluate_round: strategy sampled 30 clients (out of 100)\n",
            "DEBUG:flower:evaluate_round: strategy sampled 30 clients (out of 100)\n"
          ]
        },
        {
          "output_type": "stream",
          "name": "stdout",
          "text": [
            "\u001b[2m\u001b[36m(launch_and_fit pid=3452)\u001b[0m Epoch 1: train loss 0.0001837265444919467, accuracy 0.37037037037037035\u001b[32m [repeated 27x across cluster]\u001b[0m\n",
            "Saving round 18 aggregated_parameters...\n",
            "\u001b[2m\u001b[36m(launch_and_evaluate pid=3452)\u001b[0m [Client 27] evaluate, config: {}\n",
            "\u001b[2m\u001b[36m(launch_and_evaluate pid=3452)\u001b[0m [Client 52] evaluate, config: {}\n",
            "\u001b[2m\u001b[36m(launch_and_fit pid=3452)\u001b[0m [Client 38] fit, config: {'current_round': 18, 'local_epochs': 3}\u001b[32m [repeated 4x across cluster]\u001b[0m\n",
            "\u001b[2m\u001b[36m(launch_and_fit pid=3452)\u001b[0m Epoch 1: train loss 0.000179687820491381, accuracy 0.42592592592592593\u001b[32m [repeated 2x across cluster]\u001b[0m\n",
            "\u001b[2m\u001b[36m(launch_and_evaluate pid=3452)\u001b[0m [Client 96] evaluate, config: {}\u001b[32m [repeated 23x across cluster]\u001b[0m\n"
          ]
        },
        {
          "output_type": "stream",
          "name": "stderr",
          "text": [
            "DEBUG flower 2023-07-19 13:12:53,640 | server.py:170 | evaluate_round received 0 results and 30 failures\n",
            "DEBUG:flower:evaluate_round received 0 results and 30 failures\n",
            "DEBUG flower 2023-07-19 13:12:53,648 | server.py:203 | fit_round: strategy sampled 30 clients (out of 100)\n",
            "DEBUG:flower:fit_round: strategy sampled 30 clients (out of 100)\n"
          ]
        },
        {
          "output_type": "stream",
          "name": "stdout",
          "text": [
            "\u001b[2m\u001b[36m(launch_and_fit pid=3452)\u001b[0m [Client 80] fit, config: {'current_round': 19, 'local_epochs': 3}\u001b[32m [repeated 7x across cluster]\u001b[0m\n",
            "\u001b[2m\u001b[36m(launch_and_fit pid=3452)\u001b[0m Epoch 1: train loss 0.00015963896294124424, accuracy 0.6481481481481481\u001b[32m [repeated 7x across cluster]\u001b[0m\n",
            "\u001b[2m\u001b[36m(launch_and_evaluate pid=3453)\u001b[0m [Client 38] evaluate, config: {}\u001b[32m [repeated 5x across cluster]\u001b[0m\n"
          ]
        },
        {
          "output_type": "stream",
          "name": "stderr",
          "text": [
            "DEBUG flower 2023-07-19 13:13:01,180 | server.py:216 | fit_round received 30 results and 0 failures\n",
            "DEBUG:flower:fit_round received 30 results and 0 failures\n",
            "DEBUG flower 2023-07-19 13:13:01,284 | server.py:157 | evaluate_round: strategy sampled 30 clients (out of 100)\n",
            "DEBUG:flower:evaluate_round: strategy sampled 30 clients (out of 100)\n"
          ]
        },
        {
          "output_type": "stream",
          "name": "stdout",
          "text": [
            "Saving round 19 aggregated_parameters...\n",
            "\u001b[2m\u001b[36m(launch_and_fit pid=3453)\u001b[0m [Client 38] fit, config: {'current_round': 19, 'local_epochs': 3}\u001b[32m [repeated 23x across cluster]\u001b[0m\n",
            "\u001b[2m\u001b[36m(launch_and_fit pid=3453)\u001b[0m Epoch 1: train loss 0.00017341085185762495, accuracy 0.5185185185185185\u001b[32m [repeated 23x across cluster]\u001b[0m\n",
            "\u001b[2m\u001b[36m(launch_and_evaluate pid=3453)\u001b[0m [Client 43] evaluate, config: {}\u001b[32m [repeated 8x across cluster]\u001b[0m\n"
          ]
        },
        {
          "output_type": "stream",
          "name": "stderr",
          "text": [
            "DEBUG flower 2023-07-19 13:13:06,017 | server.py:170 | evaluate_round received 0 results and 30 failures\n",
            "DEBUG:flower:evaluate_round received 0 results and 30 failures\n",
            "DEBUG flower 2023-07-19 13:13:06,025 | server.py:203 | fit_round: strategy sampled 30 clients (out of 100)\n",
            "DEBUG:flower:fit_round: strategy sampled 30 clients (out of 100)\n"
          ]
        },
        {
          "output_type": "stream",
          "name": "stdout",
          "text": [
            "\u001b[2m\u001b[36m(launch_and_fit pid=3453)\u001b[0m [Client 87] fit, config: {'current_round': 20, 'local_epochs': 3}\u001b[32m [repeated 2x across cluster]\u001b[0m\n",
            "\u001b[2m\u001b[36m(launch_and_fit pid=3453)\u001b[0m Epoch 1: train loss 0.00015934060502331704, accuracy 0.5370370370370371\u001b[32m [repeated 2x across cluster]\u001b[0m\n",
            "\u001b[2m\u001b[36m(launch_and_evaluate pid=3453)\u001b[0m [Client 49] evaluate, config: {}\u001b[32m [repeated 22x across cluster]\u001b[0m\n",
            "\u001b[2m\u001b[36m(launch_and_fit pid=3452)\u001b[0m [Client 69] fit, config: {'current_round': 20, 'local_epochs': 3}\u001b[32m [repeated 20x across cluster]\u001b[0m\n",
            "\u001b[2m\u001b[36m(launch_and_fit pid=3452)\u001b[0m Epoch 1: train loss 0.00015727592108305544, accuracy 0.5370370370370371\u001b[32m [repeated 20x across cluster]\u001b[0m\n"
          ]
        },
        {
          "output_type": "stream",
          "name": "stderr",
          "text": [
            "DEBUG flower 2023-07-19 13:13:13,729 | server.py:216 | fit_round received 30 results and 0 failures\n",
            "DEBUG:flower:fit_round received 30 results and 0 failures\n",
            "DEBUG flower 2023-07-19 13:13:13,928 | server.py:157 | evaluate_round: strategy sampled 30 clients (out of 100)\n",
            "DEBUG:flower:evaluate_round: strategy sampled 30 clients (out of 100)\n"
          ]
        },
        {
          "output_type": "stream",
          "name": "stdout",
          "text": [
            "Saving round 20 aggregated_parameters...\n",
            "\u001b[2m\u001b[36m(launch_and_evaluate pid=3453)\u001b[0m [Client 85] evaluate, config: {}\n",
            "\u001b[2m\u001b[36m(launch_and_fit pid=3453)\u001b[0m [Client 76] fit, config: {'current_round': 20, 'local_epochs': 3}\u001b[32m [repeated 8x across cluster]\u001b[0m\n",
            "\u001b[2m\u001b[36m(launch_and_fit pid=3453)\u001b[0m Epoch 1: train loss 0.00015438080299645662, accuracy 0.5370370370370371\u001b[32m [repeated 8x across cluster]\u001b[0m\n"
          ]
        },
        {
          "output_type": "stream",
          "name": "stderr",
          "text": [
            "DEBUG flower 2023-07-19 13:13:19,899 | server.py:170 | evaluate_round received 0 results and 30 failures\n",
            "DEBUG:flower:evaluate_round received 0 results and 30 failures\n",
            "DEBUG flower 2023-07-19 13:13:19,911 | server.py:203 | fit_round: strategy sampled 30 clients (out of 100)\n",
            "DEBUG:flower:fit_round: strategy sampled 30 clients (out of 100)\n"
          ]
        },
        {
          "output_type": "stream",
          "name": "stdout",
          "text": [
            "\u001b[2m\u001b[36m(launch_and_evaluate pid=3453)\u001b[0m [Client 36] evaluate, config: {}\u001b[32m [repeated 29x across cluster]\u001b[0m\n",
            "\u001b[2m\u001b[36m(launch_and_fit pid=3452)\u001b[0m [Client 80] fit, config: {'current_round': 21, 'local_epochs': 3}\u001b[32m [repeated 11x across cluster]\u001b[0m\n",
            "\u001b[2m\u001b[36m(launch_and_fit pid=3452)\u001b[0m Epoch 1: train loss 0.0001551831082906574, accuracy 0.5370370370370371\u001b[32m [repeated 9x across cluster]\u001b[0m\n"
          ]
        },
        {
          "output_type": "stream",
          "name": "stderr",
          "text": [
            "DEBUG flower 2023-07-19 13:13:25,501 | server.py:216 | fit_round received 30 results and 0 failures\n",
            "DEBUG:flower:fit_round received 30 results and 0 failures\n",
            "DEBUG flower 2023-07-19 13:13:25,589 | server.py:157 | evaluate_round: strategy sampled 30 clients (out of 100)\n",
            "DEBUG:flower:evaluate_round: strategy sampled 30 clients (out of 100)\n"
          ]
        },
        {
          "output_type": "stream",
          "name": "stdout",
          "text": [
            "Saving round 21 aggregated_parameters...\n",
            "\u001b[2m\u001b[36m(launch_and_evaluate pid=3452)\u001b[0m [Client 8] evaluate, config: {}\n",
            "\u001b[2m\u001b[36m(launch_and_evaluate pid=3453)\u001b[0m [Client 42] evaluate, config: {}\n",
            "\u001b[2m\u001b[36m(launch_and_fit pid=3452)\u001b[0m [Client 19] fit, config: {'current_round': 21, 'local_epochs': 3}\u001b[32m [repeated 19x across cluster]\u001b[0m\n",
            "\u001b[2m\u001b[36m(launch_and_fit pid=3452)\u001b[0m Epoch 1: train loss 0.00014577299589291215, accuracy 0.6296296296296297\u001b[32m [repeated 21x across cluster]\u001b[0m\n"
          ]
        },
        {
          "output_type": "stream",
          "name": "stderr",
          "text": [
            "DEBUG flower 2023-07-19 13:13:31,268 | server.py:170 | evaluate_round received 0 results and 30 failures\n",
            "DEBUG:flower:evaluate_round received 0 results and 30 failures\n",
            "DEBUG flower 2023-07-19 13:13:31,281 | server.py:203 | fit_round: strategy sampled 30 clients (out of 100)\n",
            "DEBUG:flower:fit_round: strategy sampled 30 clients (out of 100)\n"
          ]
        },
        {
          "output_type": "stream",
          "name": "stdout",
          "text": [
            "\u001b[2m\u001b[36m(launch_and_evaluate pid=3453)\u001b[0m [Client 69] evaluate, config: {}\u001b[32m [repeated 28x across cluster]\u001b[0m\n",
            "\u001b[2m\u001b[36m(launch_and_fit pid=3453)\u001b[0m [Client 41] fit, config: {'current_round': 22, 'local_epochs': 3}\u001b[32m [repeated 2x across cluster]\u001b[0m\n",
            "\u001b[2m\u001b[36m(launch_and_fit pid=3452)\u001b[0m Epoch 1: train loss 0.0001507549750385806, accuracy 0.5370370370370371\n",
            "\u001b[2m\u001b[36m(launch_and_fit pid=3453)\u001b[0m Epoch 1: train loss 0.000155946021550335, accuracy 0.46296296296296297\n",
            "\u001b[2m\u001b[36m(launch_and_fit pid=3453)\u001b[0m [Client 55] fit, config: {'current_round': 22, 'local_epochs': 3}\u001b[32m [repeated 16x across cluster]\u001b[0m\n",
            "\u001b[2m\u001b[36m(launch_and_fit pid=3453)\u001b[0m Epoch 1: train loss 0.00015531198005191982, accuracy 0.5\u001b[32m [repeated 16x across cluster]\u001b[0m\n"
          ]
        },
        {
          "output_type": "stream",
          "name": "stderr",
          "text": [
            "DEBUG flower 2023-07-19 13:13:39,811 | server.py:216 | fit_round received 30 results and 0 failures\n",
            "DEBUG:flower:fit_round received 30 results and 0 failures\n",
            "DEBUG flower 2023-07-19 13:13:39,910 | server.py:157 | evaluate_round: strategy sampled 30 clients (out of 100)\n",
            "DEBUG:flower:evaluate_round: strategy sampled 30 clients (out of 100)\n"
          ]
        },
        {
          "output_type": "stream",
          "name": "stdout",
          "text": [
            "Saving round 22 aggregated_parameters...\n",
            "\u001b[2m\u001b[36m(launch_and_evaluate pid=3452)\u001b[0m [Client 91] evaluate, config: {}\n",
            "\u001b[2m\u001b[36m(launch_and_fit pid=3453)\u001b[0m [Client 16] fit, config: {'current_round': 22, 'local_epochs': 3}\u001b[32m [repeated 12x across cluster]\u001b[0m\n",
            "\u001b[2m\u001b[36m(launch_and_fit pid=3453)\u001b[0m Epoch 1: train loss 0.0001575260830577463, accuracy 0.46296296296296297\u001b[32m [repeated 12x across cluster]\u001b[0m\n"
          ]
        },
        {
          "output_type": "stream",
          "name": "stderr",
          "text": [
            "DEBUG flower 2023-07-19 13:13:44,930 | server.py:170 | evaluate_round received 0 results and 30 failures\n",
            "DEBUG:flower:evaluate_round received 0 results and 30 failures\n",
            "DEBUG flower 2023-07-19 13:13:44,936 | server.py:203 | fit_round: strategy sampled 30 clients (out of 100)\n",
            "DEBUG:flower:fit_round: strategy sampled 30 clients (out of 100)\n"
          ]
        },
        {
          "output_type": "stream",
          "name": "stdout",
          "text": [
            "\u001b[2m\u001b[36m(launch_and_evaluate pid=3453)\u001b[0m [Client 55] evaluate, config: {}\u001b[32m [repeated 29x across cluster]\u001b[0m\n",
            "\u001b[2m\u001b[36m(launch_and_fit pid=3452)\u001b[0m [Client 85] fit, config: {'current_round': 23, 'local_epochs': 3}\u001b[32m [repeated 15x across cluster]\u001b[0m\n",
            "\u001b[2m\u001b[36m(launch_and_fit pid=3452)\u001b[0m Epoch 1: train loss 0.0001503007224528119, accuracy 0.5185185185185185\u001b[32m [repeated 14x across cluster]\u001b[0m\n"
          ]
        },
        {
          "output_type": "stream",
          "name": "stderr",
          "text": [
            "DEBUG flower 2023-07-19 13:13:51,221 | server.py:216 | fit_round received 30 results and 0 failures\n",
            "DEBUG:flower:fit_round received 30 results and 0 failures\n",
            "DEBUG flower 2023-07-19 13:13:51,366 | server.py:157 | evaluate_round: strategy sampled 30 clients (out of 100)\n",
            "DEBUG:flower:evaluate_round: strategy sampled 30 clients (out of 100)\n"
          ]
        },
        {
          "output_type": "stream",
          "name": "stdout",
          "text": [
            "Saving round 23 aggregated_parameters...\n",
            "\u001b[2m\u001b[36m(launch_and_evaluate pid=3452)\u001b[0m [Client 6] evaluate, config: {}\n",
            "\u001b[2m\u001b[36m(launch_and_fit pid=3452)\u001b[0m [Client 13] fit, config: {'current_round': 23, 'local_epochs': 3}\u001b[32m [repeated 15x across cluster]\u001b[0m\n",
            "\u001b[2m\u001b[36m(launch_and_fit pid=3452)\u001b[0m Epoch 1: train loss 0.0001516441989224404, accuracy 0.5370370370370371\u001b[32m [repeated 16x across cluster]\u001b[0m\n",
            "\u001b[2m\u001b[36m(launch_and_evaluate pid=3452)\u001b[0m [Client 23] evaluate, config: {}\u001b[32m [repeated 24x across cluster]\u001b[0m\n"
          ]
        },
        {
          "output_type": "stream",
          "name": "stderr",
          "text": [
            "DEBUG flower 2023-07-19 13:13:58,155 | server.py:170 | evaluate_round received 0 results and 30 failures\n",
            "DEBUG:flower:evaluate_round received 0 results and 30 failures\n",
            "DEBUG flower 2023-07-19 13:13:58,165 | server.py:203 | fit_round: strategy sampled 30 clients (out of 100)\n",
            "DEBUG:flower:fit_round: strategy sampled 30 clients (out of 100)\n"
          ]
        },
        {
          "output_type": "stream",
          "name": "stdout",
          "text": [
            "\u001b[2m\u001b[36m(launch_and_fit pid=3452)\u001b[0m Epoch 1: train loss 0.00014728956739418209, accuracy 0.5185185185185185\n",
            "\u001b[2m\u001b[36m(launch_and_fit pid=3452)\u001b[0m Epoch 1: train loss 0.00014728956739418209, accuracy 0.5185185185185185\n",
            "\u001b[2m\u001b[36m(launch_and_fit pid=3453)\u001b[0m [Client 24] fit, config: {'current_round': 24, 'local_epochs': 3}\n",
            "\u001b[2m\u001b[36m(launch_and_fit pid=3453)\u001b[0m Epoch 1: train loss 0.00014187887427397072, accuracy 0.6851851851851852\n",
            "\u001b[2m\u001b[36m(launch_and_evaluate pid=3453)\u001b[0m [Client 87] evaluate, config: {}\u001b[32m [repeated 5x across cluster]\u001b[0m\n"
          ]
        },
        {
          "output_type": "stream",
          "name": "stderr",
          "text": [
            "DEBUG flower 2023-07-19 13:14:03,883 | server.py:216 | fit_round received 30 results and 0 failures\n",
            "DEBUG:flower:fit_round received 30 results and 0 failures\n",
            "DEBUG flower 2023-07-19 13:14:03,971 | server.py:157 | evaluate_round: strategy sampled 30 clients (out of 100)\n",
            "DEBUG:flower:evaluate_round: strategy sampled 30 clients (out of 100)\n"
          ]
        },
        {
          "output_type": "stream",
          "name": "stdout",
          "text": [
            "Saving round 24 aggregated_parameters...\n",
            "\u001b[2m\u001b[36m(launch_and_fit pid=3452)\u001b[0m [Client 31] fit, config: {'current_round': 24, 'local_epochs': 3}\u001b[32m [repeated 28x across cluster]\u001b[0m\n",
            "\u001b[2m\u001b[36m(launch_and_fit pid=3452)\u001b[0m Epoch 1: train loss 0.00014540964912157506, accuracy 0.5\u001b[32m [repeated 28x across cluster]\u001b[0m\n",
            "\u001b[2m\u001b[36m(launch_and_evaluate pid=3453)\u001b[0m [Client 70] evaluate, config: {}\u001b[32m [repeated 23x across cluster]\u001b[0m\n"
          ]
        },
        {
          "output_type": "stream",
          "name": "stderr",
          "text": [
            "DEBUG flower 2023-07-19 13:14:08,390 | server.py:170 | evaluate_round received 0 results and 30 failures\n",
            "DEBUG:flower:evaluate_round received 0 results and 30 failures\n",
            "DEBUG flower 2023-07-19 13:14:08,397 | server.py:203 | fit_round: strategy sampled 30 clients (out of 100)\n",
            "DEBUG:flower:fit_round: strategy sampled 30 clients (out of 100)\n"
          ]
        },
        {
          "output_type": "stream",
          "name": "stdout",
          "text": [
            "\u001b[2m\u001b[36m(launch_and_fit pid=3453)\u001b[0m [Client 37] fit, config: {'current_round': 25, 'local_epochs': 3}\u001b[32m [repeated 2x across cluster]\u001b[0m\n",
            "\u001b[2m\u001b[36m(launch_and_fit pid=3453)\u001b[0m Epoch 1: train loss 0.00013649786706082523, accuracy 0.6296296296296297\u001b[32m [repeated 2x across cluster]\u001b[0m\n",
            "\u001b[2m\u001b[36m(launch_and_evaluate pid=3453)\u001b[0m [Client 26] evaluate, config: {}\u001b[32m [repeated 7x across cluster]\u001b[0m\n",
            "\u001b[2m\u001b[36m(launch_and_fit pid=3452)\u001b[0m [Client 93] fit, config: {'current_round': 25, 'local_epochs': 3}\u001b[32m [repeated 17x across cluster]\u001b[0m\n",
            "\u001b[2m\u001b[36m(launch_and_fit pid=3453)\u001b[0m Epoch 1: train loss 0.0001410885452060029, accuracy 0.6481481481481481\u001b[32m [repeated 16x across cluster]\u001b[0m\n"
          ]
        },
        {
          "output_type": "stream",
          "name": "stderr",
          "text": [
            "DEBUG flower 2023-07-19 13:14:17,371 | server.py:216 | fit_round received 30 results and 0 failures\n",
            "DEBUG:flower:fit_round received 30 results and 0 failures\n",
            "DEBUG flower 2023-07-19 13:14:17,526 | server.py:157 | evaluate_round: strategy sampled 30 clients (out of 100)\n",
            "DEBUG:flower:evaluate_round: strategy sampled 30 clients (out of 100)\n"
          ]
        },
        {
          "output_type": "stream",
          "name": "stdout",
          "text": [
            "Saving round 25 aggregated_parameters...\n",
            "\u001b[2m\u001b[36m(launch_and_evaluate pid=3452)\u001b[0m [Client 85] evaluate, config: {}\n",
            "\u001b[2m\u001b[36m(launch_and_evaluate pid=3453)\u001b[0m [Client 33] evaluate, config: {}\n",
            "\u001b[2m\u001b[36m(launch_and_fit pid=3452)\u001b[0m [Client 32] fit, config: {'current_round': 25, 'local_epochs': 3}\u001b[32m [repeated 11x across cluster]\u001b[0m\n",
            "\u001b[2m\u001b[36m(launch_and_fit pid=3453)\u001b[0m Epoch 1: train loss 0.00014466498396359384, accuracy 0.5740740740740741\u001b[32m [repeated 12x across cluster]\u001b[0m\n"
          ]
        },
        {
          "output_type": "stream",
          "name": "stderr",
          "text": [
            "DEBUG flower 2023-07-19 13:14:22,851 | server.py:170 | evaluate_round received 0 results and 30 failures\n",
            "DEBUG:flower:evaluate_round received 0 results and 30 failures\n",
            "DEBUG flower 2023-07-19 13:14:22,865 | server.py:203 | fit_round: strategy sampled 30 clients (out of 100)\n",
            "DEBUG:flower:fit_round: strategy sampled 30 clients (out of 100)\n"
          ]
        },
        {
          "output_type": "stream",
          "name": "stdout",
          "text": [
            "\u001b[2m\u001b[36m(launch_and_evaluate pid=3453)\u001b[0m [Client 20] evaluate, config: {}\u001b[32m [repeated 28x across cluster]\u001b[0m\n",
            "\u001b[2m\u001b[36m(launch_and_fit pid=3452)\u001b[0m [Client 56] fit, config: {'current_round': 26, 'local_epochs': 3}\u001b[32m [repeated 9x across cluster]\u001b[0m\n",
            "\u001b[2m\u001b[36m(launch_and_fit pid=3452)\u001b[0m Epoch 1: train loss 0.00014398513303603977, accuracy 0.4444444444444444\u001b[32m [repeated 9x across cluster]\u001b[0m\n"
          ]
        },
        {
          "output_type": "stream",
          "name": "stderr",
          "text": [
            "DEBUG flower 2023-07-19 13:14:27,987 | server.py:216 | fit_round received 30 results and 0 failures\n",
            "DEBUG:flower:fit_round received 30 results and 0 failures\n",
            "DEBUG flower 2023-07-19 13:14:28,081 | server.py:157 | evaluate_round: strategy sampled 30 clients (out of 100)\n",
            "DEBUG:flower:evaluate_round: strategy sampled 30 clients (out of 100)\n"
          ]
        },
        {
          "output_type": "stream",
          "name": "stdout",
          "text": [
            "Saving round 26 aggregated_parameters...\n",
            "\u001b[2m\u001b[36m(launch_and_evaluate pid=3452)\u001b[0m [Client 55] evaluate, config: {}\n",
            "\u001b[2m\u001b[36m(launch_and_evaluate pid=3453)\u001b[0m [Client 86] evaluate, config: {}\n",
            "\u001b[2m\u001b[36m(launch_and_fit pid=3452)\u001b[0m [Client 51] fit, config: {'current_round': 26, 'local_epochs': 3}\u001b[32m [repeated 21x across cluster]\u001b[0m\n",
            "\u001b[2m\u001b[36m(launch_and_fit pid=3452)\u001b[0m Epoch 1: train loss 0.0001347406068816781, accuracy 0.5740740740740741\u001b[32m [repeated 21x across cluster]\u001b[0m\n",
            "\u001b[2m\u001b[36m(launch_and_evaluate pid=3453)\u001b[0m [Client 14] evaluate, config: {}\u001b[32m [repeated 23x across cluster]\u001b[0m\n"
          ]
        },
        {
          "output_type": "stream",
          "name": "stderr",
          "text": [
            "DEBUG flower 2023-07-19 13:14:34,623 | server.py:170 | evaluate_round received 0 results and 30 failures\n",
            "DEBUG:flower:evaluate_round received 0 results and 30 failures\n",
            "DEBUG flower 2023-07-19 13:14:34,635 | server.py:203 | fit_round: strategy sampled 30 clients (out of 100)\n",
            "DEBUG:flower:fit_round: strategy sampled 30 clients (out of 100)\n"
          ]
        },
        {
          "output_type": "stream",
          "name": "stdout",
          "text": [
            "\u001b[2m\u001b[36m(launch_and_fit pid=3453)\u001b[0m [Client 55] fit, config: {'current_round': 27, 'local_epochs': 3}\n",
            "\u001b[2m\u001b[36m(launch_and_fit pid=3453)\u001b[0m Epoch 1: train loss 0.0001320679293712601, accuracy 0.5555555555555556\n",
            "\u001b[2m\u001b[36m(launch_and_fit pid=3452)\u001b[0m [Client 54] fit, config: {'current_round': 27, 'local_epochs': 3}\n",
            "\u001b[2m\u001b[36m(launch_and_evaluate pid=3453)\u001b[0m [Client 36] evaluate, config: {}\u001b[32m [repeated 5x across cluster]\u001b[0m\n",
            "\u001b[2m\u001b[36m(launch_and_fit pid=3453)\u001b[0m Epoch 1: train loss 0.00013913866132497787, accuracy 0.46296296296296297\u001b[32m [repeated 20x across cluster]\u001b[0m\n",
            "\u001b[2m\u001b[36m(launch_and_fit pid=3452)\u001b[0m [Client 45] fit, config: {'current_round': 27, 'local_epochs': 3}\u001b[32m [repeated 21x across cluster]\u001b[0m\n"
          ]
        },
        {
          "output_type": "stream",
          "name": "stderr",
          "text": [
            "DEBUG flower 2023-07-19 13:14:42,135 | server.py:216 | fit_round received 30 results and 0 failures\n",
            "DEBUG:flower:fit_round received 30 results and 0 failures\n",
            "DEBUG flower 2023-07-19 13:14:42,235 | server.py:157 | evaluate_round: strategy sampled 30 clients (out of 100)\n",
            "DEBUG:flower:evaluate_round: strategy sampled 30 clients (out of 100)\n"
          ]
        },
        {
          "output_type": "stream",
          "name": "stdout",
          "text": [
            "Saving round 27 aggregated_parameters...\n",
            "\u001b[2m\u001b[36m(launch_and_evaluate pid=3452)\u001b[0m [Client 27] evaluate, config: {}\u001b[32m [repeated 12x across cluster]\u001b[0m\n",
            "\u001b[2m\u001b[36m(launch_and_fit pid=3453)\u001b[0m Epoch 1: train loss 0.00013629709428641945, accuracy 0.5925925925925926\u001b[32m [repeated 9x across cluster]\u001b[0m\n",
            "\u001b[2m\u001b[36m(launch_and_fit pid=3452)\u001b[0m [Client 76] fit, config: {'current_round': 27, 'local_epochs': 3}\u001b[32m [repeated 7x across cluster]\u001b[0m\n"
          ]
        },
        {
          "output_type": "stream",
          "name": "stderr",
          "text": [
            "DEBUG flower 2023-07-19 13:14:46,629 | server.py:170 | evaluate_round received 0 results and 30 failures\n",
            "DEBUG:flower:evaluate_round received 0 results and 30 failures\n",
            "DEBUG flower 2023-07-19 13:14:46,643 | server.py:203 | fit_round: strategy sampled 30 clients (out of 100)\n",
            "DEBUG:flower:fit_round: strategy sampled 30 clients (out of 100)\n"
          ]
        },
        {
          "output_type": "stream",
          "name": "stdout",
          "text": [
            "\u001b[2m\u001b[36m(launch_and_evaluate pid=3453)\u001b[0m [Client 66] evaluate, config: {}\u001b[32m [repeated 18x across cluster]\u001b[0m\n",
            "\u001b[2m\u001b[36m(launch_and_fit pid=3453)\u001b[0m Epoch 1: train loss 0.0001316148991463706, accuracy 0.6111111111111112\u001b[32m [repeated 18x across cluster]\u001b[0m\n",
            "\u001b[2m\u001b[36m(launch_and_fit pid=3452)\u001b[0m [Client 73] fit, config: {'current_round': 28, 'local_epochs': 3}\u001b[32m [repeated 19x across cluster]\u001b[0m\n"
          ]
        },
        {
          "output_type": "stream",
          "name": "stderr",
          "text": [
            "DEBUG flower 2023-07-19 13:14:53,626 | server.py:216 | fit_round received 30 results and 0 failures\n",
            "DEBUG:flower:fit_round received 30 results and 0 failures\n",
            "DEBUG flower 2023-07-19 13:14:53,784 | server.py:157 | evaluate_round: strategy sampled 30 clients (out of 100)\n",
            "DEBUG:flower:evaluate_round: strategy sampled 30 clients (out of 100)\n"
          ]
        },
        {
          "output_type": "stream",
          "name": "stdout",
          "text": [
            "Saving round 28 aggregated_parameters...\n",
            "\u001b[2m\u001b[36m(launch_and_evaluate pid=3452)\u001b[0m [Client 90] evaluate, config: {}\u001b[32m [repeated 3x across cluster]\u001b[0m\n",
            "\u001b[2m\u001b[36m(launch_and_fit pid=3453)\u001b[0m Epoch 1: train loss 0.00013395125279203057, accuracy 0.5555555555555556\u001b[32m [repeated 12x across cluster]\u001b[0m\n",
            "\u001b[2m\u001b[36m(launch_and_fit pid=3453)\u001b[0m [Client 40] fit, config: {'current_round': 28, 'local_epochs': 3}\u001b[32m [repeated 11x across cluster]\u001b[0m\n",
            "\u001b[2m\u001b[36m(launch_and_evaluate pid=3452)\u001b[0m [Client 38] evaluate, config: {}\u001b[32m [repeated 23x across cluster]\u001b[0m\n"
          ]
        },
        {
          "output_type": "stream",
          "name": "stderr",
          "text": [
            "DEBUG flower 2023-07-19 13:15:00,529 | server.py:170 | evaluate_round received 0 results and 30 failures\n",
            "DEBUG:flower:evaluate_round received 0 results and 30 failures\n",
            "DEBUG flower 2023-07-19 13:15:00,534 | server.py:203 | fit_round: strategy sampled 30 clients (out of 100)\n",
            "DEBUG:flower:fit_round: strategy sampled 30 clients (out of 100)\n"
          ]
        },
        {
          "output_type": "stream",
          "name": "stdout",
          "text": [
            "\u001b[2m\u001b[36m(launch_and_fit pid=3453)\u001b[0m [Client 35] fit, config: {'current_round': 29, 'local_epochs': 3}\n",
            "\u001b[2m\u001b[36m(launch_and_fit pid=3452)\u001b[0m [Client 37] fit, config: {'current_round': 29, 'local_epochs': 3}\n",
            "\u001b[2m\u001b[36m(launch_and_fit pid=3453)\u001b[0m Epoch 1: train loss 0.00013368685904424638, accuracy 0.7222222222222222\n",
            "\u001b[2m\u001b[36m(launch_and_fit pid=3452)\u001b[0m [Client 88] fit, config: {'current_round': 29, 'local_epochs': 3}\n",
            "\u001b[2m\u001b[36m(launch_and_evaluate pid=3452)\u001b[0m [Client 6] evaluate, config: {}\u001b[32m [repeated 4x across cluster]\u001b[0m\n"
          ]
        },
        {
          "output_type": "stream",
          "name": "stderr",
          "text": [
            "DEBUG flower 2023-07-19 13:15:06,664 | server.py:216 | fit_round received 30 results and 0 failures\n",
            "DEBUG:flower:fit_round received 30 results and 0 failures\n",
            "DEBUG flower 2023-07-19 13:15:06,773 | server.py:157 | evaluate_round: strategy sampled 30 clients (out of 100)\n",
            "DEBUG:flower:evaluate_round: strategy sampled 30 clients (out of 100)\n"
          ]
        },
        {
          "output_type": "stream",
          "name": "stdout",
          "text": [
            "\u001b[2m\u001b[36m(launch_and_fit pid=3452)\u001b[0m [Client 85] fit, config: {'current_round': 29, 'local_epochs': 3}\u001b[32m [repeated 27x across cluster]\u001b[0m\n",
            "Saving round 29 aggregated_parameters...\n",
            "\u001b[2m\u001b[36m(launch_and_fit pid=3453)\u001b[0m Epoch 1: train loss 0.0001294855901505798, accuracy 0.5925925925925926\u001b[32m [repeated 29x across cluster]\u001b[0m\n",
            "\u001b[2m\u001b[36m(launch_and_evaluate pid=3453)\u001b[0m [Client 98] evaluate, config: {}\u001b[32m [repeated 15x across cluster]\u001b[0m\n",
            "\u001b[2m\u001b[36m(launch_and_evaluate pid=3453)\u001b[0m \n",
            "\u001b[2m\u001b[36m(launch_and_evaluate pid=3453)\u001b[0m [Client 85] evaluate, config: {}\u001b[32m [repeated 5x across cluster]\u001b[0m\n"
          ]
        },
        {
          "output_type": "stream",
          "name": "stderr",
          "text": [
            "DEBUG flower 2023-07-19 13:15:20,675 | server.py:170 | evaluate_round received 0 results and 30 failures\n",
            "DEBUG:flower:evaluate_round received 0 results and 30 failures\n",
            "DEBUG flower 2023-07-19 13:15:20,690 | server.py:203 | fit_round: strategy sampled 30 clients (out of 100)\n",
            "DEBUG:flower:fit_round: strategy sampled 30 clients (out of 100)\n"
          ]
        },
        {
          "output_type": "stream",
          "name": "stdout",
          "text": [
            "\u001b[2m\u001b[36m(launch_and_fit pid=3452)\u001b[0m [Client 58] fit, config: {'current_round': 30, 'local_epochs': 3}\n",
            "\u001b[2m\u001b[36m(launch_and_evaluate pid=3452)\u001b[0m [Client 96] evaluate, config: {}\u001b[32m [repeated 10x across cluster]\u001b[0m\n",
            "\u001b[2m\u001b[36m(launch_and_fit pid=3452)\u001b[0m Epoch 1: train loss 0.00011705591896316037, accuracy 0.5925925925925926\n",
            "\u001b[2m\u001b[36m(launch_and_fit pid=3453)\u001b[0m \n",
            "\u001b[2m\u001b[36m(launch_and_fit pid=3452)\u001b[0m [Client 47] fit, config: {'current_round': 30, 'local_epochs': 3}\u001b[32m [repeated 16x across cluster]\u001b[0m\n"
          ]
        },
        {
          "output_type": "stream",
          "name": "stderr",
          "text": [
            "DEBUG flower 2023-07-19 13:15:30,870 | server.py:216 | fit_round received 30 results and 0 failures\n",
            "DEBUG:flower:fit_round received 30 results and 0 failures\n",
            "DEBUG flower 2023-07-19 13:15:31,010 | server.py:157 | evaluate_round: strategy sampled 30 clients (out of 100)\n",
            "DEBUG:flower:evaluate_round: strategy sampled 30 clients (out of 100)\n"
          ]
        },
        {
          "output_type": "stream",
          "name": "stdout",
          "text": [
            "\u001b[2m\u001b[36m(launch_and_fit pid=3452)\u001b[0m Epoch 1: train loss 0.00012672187585849315, accuracy 0.6296296296296297\u001b[32m [repeated 16x across cluster]\u001b[0m\n",
            "Saving round 30 aggregated_parameters...\n",
            "\u001b[2m\u001b[36m(launch_and_evaluate pid=3452)\u001b[0m [Client 22] evaluate, config: {}\n",
            "\u001b[2m\u001b[36m(launch_and_evaluate pid=3452)\u001b[0m [Client 5] evaluate, config: {}\n",
            "\u001b[2m\u001b[36m(launch_and_fit pid=3453)\u001b[0m [Client 20] fit, config: {'current_round': 30, 'local_epochs': 3}\u001b[32m [repeated 13x across cluster]\u001b[0m\n",
            "\u001b[2m\u001b[36m(launch_and_evaluate pid=3452)\u001b[0m [Client 13] evaluate, config: {}\n",
            "\u001b[2m\u001b[36m(launch_and_fit pid=3453)\u001b[0m Epoch 1: train loss 0.00012518507719505578, accuracy 0.6481481481481481\u001b[32m [repeated 13x across cluster]\u001b[0m\n",
            "\u001b[2m\u001b[36m(launch_and_evaluate pid=3452)\u001b[0m [Client 23] evaluate, config: {}\n",
            "\u001b[2m\u001b[36m(launch_and_evaluate pid=3452)\u001b[0m [Client 71] evaluate, config: {}\n",
            "\u001b[2m\u001b[36m(launch_and_evaluate pid=3453)\u001b[0m [Client 63] evaluate, config: {}\u001b[32m [repeated 17x across cluster]\u001b[0m\n"
          ]
        },
        {
          "output_type": "stream",
          "name": "stderr",
          "text": [
            "DEBUG flower 2023-07-19 13:15:38,238 | server.py:170 | evaluate_round received 0 results and 30 failures\n",
            "DEBUG:flower:evaluate_round received 0 results and 30 failures\n",
            "DEBUG flower 2023-07-19 13:15:38,241 | server.py:203 | fit_round: strategy sampled 30 clients (out of 100)\n",
            "DEBUG:flower:fit_round: strategy sampled 30 clients (out of 100)\n"
          ]
        },
        {
          "output_type": "stream",
          "name": "stdout",
          "text": [
            "\u001b[2m\u001b[36m(launch_and_fit pid=3453)\u001b[0m [Client 56] fit, config: {'current_round': 31, 'local_epochs': 3}\n",
            "\u001b[2m\u001b[36m(launch_and_fit pid=3453)\u001b[0m Epoch 1: train loss 0.00012985258945263922, accuracy 0.5555555555555556\n",
            "\u001b[2m\u001b[36m(launch_and_evaluate pid=3453)\u001b[0m [Client 91] evaluate, config: {}\u001b[32m [repeated 8x across cluster]\u001b[0m\n",
            "\u001b[2m\u001b[36m(launch_and_fit pid=3453)\u001b[0m [Client 79] fit, config: {'current_round': 31, 'local_epochs': 3}\u001b[32m [repeated 18x across cluster]\u001b[0m\n",
            "\u001b[2m\u001b[36m(launch_and_fit pid=3452)\u001b[0m Epoch 1: train loss 0.00012526384671218693, accuracy 0.6111111111111112\u001b[32m [repeated 17x across cluster]\u001b[0m\n"
          ]
        },
        {
          "output_type": "stream",
          "name": "stderr",
          "text": [
            "DEBUG flower 2023-07-19 13:15:47,190 | server.py:216 | fit_round received 30 results and 0 failures\n",
            "DEBUG:flower:fit_round received 30 results and 0 failures\n",
            "DEBUG flower 2023-07-19 13:15:47,333 | server.py:157 | evaluate_round: strategy sampled 30 clients (out of 100)\n",
            "DEBUG:flower:evaluate_round: strategy sampled 30 clients (out of 100)\n"
          ]
        },
        {
          "output_type": "stream",
          "name": "stdout",
          "text": [
            "Saving round 31 aggregated_parameters...\n",
            "\u001b[2m\u001b[36m(launch_and_evaluate pid=3452)\u001b[0m [Client 84] evaluate, config: {}\n",
            "\u001b[2m\u001b[36m(launch_and_evaluate pid=3453)\u001b[0m [Client 88] evaluate, config: {}\n",
            "\u001b[2m\u001b[36m(launch_and_evaluate pid=3453)\u001b[0m [Client 25] evaluate, config: {}\n",
            "\u001b[2m\u001b[36m(launch_and_fit pid=3453)\u001b[0m [Client 62] fit, config: {'current_round': 31, 'local_epochs': 3}\u001b[32m [repeated 11x across cluster]\u001b[0m\n",
            "\u001b[2m\u001b[36m(launch_and_fit pid=3453)\u001b[0m Epoch 1: train loss 0.0001105087430914864, accuracy 0.6296296296296297\u001b[32m [repeated 12x across cluster]\u001b[0m\n"
          ]
        },
        {
          "output_type": "stream",
          "name": "stderr",
          "text": [
            "DEBUG flower 2023-07-19 13:15:52,769 | server.py:170 | evaluate_round received 0 results and 30 failures\n",
            "DEBUG:flower:evaluate_round received 0 results and 30 failures\n",
            "DEBUG flower 2023-07-19 13:15:52,778 | server.py:203 | fit_round: strategy sampled 30 clients (out of 100)\n",
            "DEBUG:flower:fit_round: strategy sampled 30 clients (out of 100)\n"
          ]
        },
        {
          "output_type": "stream",
          "name": "stdout",
          "text": [
            "\u001b[2m\u001b[36m(launch_and_evaluate pid=3453)\u001b[0m [Client 21] evaluate, config: {}\u001b[32m [repeated 27x across cluster]\u001b[0m\n",
            "\u001b[2m\u001b[36m(launch_and_fit pid=3452)\u001b[0m [Client 69] fit, config: {'current_round': 32, 'local_epochs': 3}\u001b[32m [repeated 9x across cluster]\u001b[0m\n",
            "\u001b[2m\u001b[36m(launch_and_fit pid=3452)\u001b[0m Epoch 1: train loss 0.00010974555334541947, accuracy 0.6296296296296297\u001b[32m [repeated 9x across cluster]\u001b[0m\n"
          ]
        },
        {
          "output_type": "stream",
          "name": "stderr",
          "text": [
            "DEBUG flower 2023-07-19 13:15:59,008 | server.py:216 | fit_round received 30 results and 0 failures\n",
            "DEBUG:flower:fit_round received 30 results and 0 failures\n",
            "DEBUG flower 2023-07-19 13:15:59,147 | server.py:157 | evaluate_round: strategy sampled 30 clients (out of 100)\n",
            "DEBUG:flower:evaluate_round: strategy sampled 30 clients (out of 100)\n"
          ]
        },
        {
          "output_type": "stream",
          "name": "stdout",
          "text": [
            "Saving round 32 aggregated_parameters...\n",
            "\u001b[2m\u001b[36m(launch_and_evaluate pid=3452)\u001b[0m [Client 59] evaluate, config: {}\n",
            "\u001b[2m\u001b[36m(launch_and_fit pid=3452)\u001b[0m [Client 26] fit, config: {'current_round': 32, 'local_epochs': 3}\u001b[32m [repeated 21x across cluster]\u001b[0m\n",
            "\u001b[2m\u001b[36m(launch_and_fit pid=3452)\u001b[0m Epoch 1: train loss 0.00012944050831720233, accuracy 0.5\u001b[32m [repeated 21x across cluster]\u001b[0m\n",
            "\u001b[2m\u001b[36m(launch_and_evaluate pid=3452)\u001b[0m [Client 20] evaluate, config: {}\u001b[32m [repeated 21x across cluster]\u001b[0m\n"
          ]
        },
        {
          "output_type": "stream",
          "name": "stderr",
          "text": [
            "DEBUG flower 2023-07-19 13:16:06,678 | server.py:170 | evaluate_round received 0 results and 30 failures\n",
            "DEBUG:flower:evaluate_round received 0 results and 30 failures\n",
            "DEBUG flower 2023-07-19 13:16:06,686 | server.py:203 | fit_round: strategy sampled 30 clients (out of 100)\n",
            "DEBUG:flower:fit_round: strategy sampled 30 clients (out of 100)\n"
          ]
        },
        {
          "output_type": "stream",
          "name": "stdout",
          "text": [
            "\u001b[2m\u001b[36m(launch_and_fit pid=3452)\u001b[0m [Client 70] fit, config: {'current_round': 33, 'local_epochs': 3}\n",
            "\u001b[2m\u001b[36m(launch_and_fit pid=3452)\u001b[0m Epoch 1: train loss 0.00012246984988451004, accuracy 0.5925925925925926\n",
            "\u001b[2m\u001b[36m(launch_and_evaluate pid=3453)\u001b[0m [Client 0] evaluate, config: {}\u001b[32m [repeated 8x across cluster]\u001b[0m\n"
          ]
        },
        {
          "output_type": "stream",
          "name": "stderr",
          "text": [
            "DEBUG flower 2023-07-19 13:16:12,625 | server.py:216 | fit_round received 30 results and 0 failures\n",
            "DEBUG:flower:fit_round received 30 results and 0 failures\n",
            "DEBUG flower 2023-07-19 13:16:12,717 | server.py:157 | evaluate_round: strategy sampled 30 clients (out of 100)\n",
            "DEBUG:flower:evaluate_round: strategy sampled 30 clients (out of 100)\n"
          ]
        },
        {
          "output_type": "stream",
          "name": "stdout",
          "text": [
            "Saving round 33 aggregated_parameters...\n",
            "\u001b[2m\u001b[36m(launch_and_fit pid=3453)\u001b[0m [Client 39] fit, config: {'current_round': 33, 'local_epochs': 3}\u001b[32m [repeated 29x across cluster]\u001b[0m\n",
            "\u001b[2m\u001b[36m(launch_and_fit pid=3453)\u001b[0m Epoch 1: train loss 0.00011850176815642044, accuracy 0.5925925925925926\u001b[32m [repeated 29x across cluster]\u001b[0m\n",
            "\u001b[2m\u001b[36m(launch_and_evaluate pid=3452)\u001b[0m [Client 77] evaluate, config: {}\u001b[32m [repeated 16x across cluster]\u001b[0m\n"
          ]
        },
        {
          "output_type": "stream",
          "name": "stderr",
          "text": [
            "DEBUG flower 2023-07-19 13:16:17,292 | server.py:170 | evaluate_round received 0 results and 30 failures\n",
            "DEBUG:flower:evaluate_round received 0 results and 30 failures\n",
            "DEBUG flower 2023-07-19 13:16:17,300 | server.py:203 | fit_round: strategy sampled 30 clients (out of 100)\n",
            "DEBUG:flower:fit_round: strategy sampled 30 clients (out of 100)\n"
          ]
        },
        {
          "output_type": "stream",
          "name": "stdout",
          "text": [
            "\u001b[2m\u001b[36m(launch_and_fit pid=3452)\u001b[0m [Client 39] fit, config: {'current_round': 34, 'local_epochs': 3}\n",
            "\u001b[2m\u001b[36m(launch_and_fit pid=3453)\u001b[0m [Client 68] fit, config: {'current_round': 34, 'local_epochs': 3}\n",
            "\u001b[2m\u001b[36m(launch_and_fit pid=3452)\u001b[0m Epoch 1: train loss 0.00011665930651361123, accuracy 0.5740740740740741\n",
            "\u001b[2m\u001b[36m(launch_and_evaluate pid=3453)\u001b[0m [Client 60] evaluate, config: {}\u001b[32m [repeated 14x across cluster]\u001b[0m\n",
            "\u001b[2m\u001b[36m(launch_and_fit pid=3452)\u001b[0m [Client 18] fit, config: {'current_round': 34, 'local_epochs': 3}\u001b[32m [repeated 16x across cluster]\u001b[0m\n",
            "\u001b[2m\u001b[36m(launch_and_fit pid=3452)\u001b[0m Epoch 1: train loss 0.00013250921620056033, accuracy 0.4444444444444444\u001b[32m [repeated 17x across cluster]\u001b[0m\n"
          ]
        },
        {
          "output_type": "stream",
          "name": "stderr",
          "text": [
            "DEBUG flower 2023-07-19 13:16:27,099 | server.py:216 | fit_round received 30 results and 0 failures\n",
            "DEBUG:flower:fit_round received 30 results and 0 failures\n",
            "DEBUG flower 2023-07-19 13:16:27,233 | server.py:157 | evaluate_round: strategy sampled 30 clients (out of 100)\n",
            "DEBUG:flower:evaluate_round: strategy sampled 30 clients (out of 100)\n"
          ]
        },
        {
          "output_type": "stream",
          "name": "stdout",
          "text": [
            "Saving round 34 aggregated_parameters...\n",
            "\u001b[2m\u001b[36m(launch_and_evaluate pid=3453)\u001b[0m [Client 25] evaluate, config: {}\n",
            "\u001b[2m\u001b[36m(launch_and_evaluate pid=3453)\u001b[0m [Client 10] evaluate, config: {}\n",
            "\u001b[2m\u001b[36m(launch_and_fit pid=3453)\u001b[0m [Client 24] fit, config: {'current_round': 34, 'local_epochs': 3}\u001b[32m [repeated 12x across cluster]\u001b[0m\n",
            "\u001b[2m\u001b[36m(launch_and_fit pid=3453)\u001b[0m Epoch 1: train loss 0.00011434786574682221, accuracy 0.6296296296296297\u001b[32m [repeated 12x across cluster]\u001b[0m\n"
          ]
        },
        {
          "output_type": "stream",
          "name": "stderr",
          "text": [
            "DEBUG flower 2023-07-19 13:16:32,318 | server.py:170 | evaluate_round received 0 results and 30 failures\n",
            "DEBUG:flower:evaluate_round received 0 results and 30 failures\n",
            "DEBUG flower 2023-07-19 13:16:32,323 | server.py:203 | fit_round: strategy sampled 30 clients (out of 100)\n",
            "DEBUG:flower:fit_round: strategy sampled 30 clients (out of 100)\n"
          ]
        },
        {
          "output_type": "stream",
          "name": "stdout",
          "text": [
            "\u001b[2m\u001b[36m(launch_and_evaluate pid=3453)\u001b[0m [Client 36] evaluate, config: {}\u001b[32m [repeated 28x across cluster]\u001b[0m\n",
            "\u001b[2m\u001b[36m(launch_and_fit pid=3453)\u001b[0m [Client 78] fit, config: {'current_round': 35, 'local_epochs': 3}\u001b[32m [repeated 4x across cluster]\u001b[0m\n",
            "\u001b[2m\u001b[36m(launch_and_fit pid=3452)\u001b[0m Epoch 1: train loss 0.00010519842180656269, accuracy 0.5925925925925926\u001b[32m [repeated 6x across cluster]\u001b[0m\n"
          ]
        },
        {
          "output_type": "stream",
          "name": "stderr",
          "text": [
            "DEBUG flower 2023-07-19 13:16:37,774 | server.py:216 | fit_round received 30 results and 0 failures\n",
            "DEBUG:flower:fit_round received 30 results and 0 failures\n",
            "DEBUG flower 2023-07-19 13:16:37,870 | server.py:157 | evaluate_round: strategy sampled 30 clients (out of 100)\n",
            "DEBUG:flower:evaluate_round: strategy sampled 30 clients (out of 100)\n"
          ]
        },
        {
          "output_type": "stream",
          "name": "stdout",
          "text": [
            "Saving round 35 aggregated_parameters...\n",
            "\u001b[2m\u001b[36m(launch_and_evaluate pid=3452)\u001b[0m [Client 50] evaluate, config: {}\n",
            "\u001b[2m\u001b[36m(launch_and_fit pid=3453)\u001b[0m [Client 50] fit, config: {'current_round': 35, 'local_epochs': 3}\u001b[32m [repeated 26x across cluster]\u001b[0m\n",
            "\u001b[2m\u001b[36m(launch_and_evaluate pid=3452)\u001b[0m [Client 90] evaluate, config: {}\n",
            "\u001b[2m\u001b[36m(launch_and_fit pid=3453)\u001b[0m Epoch 1: train loss 0.00012153937859693542, accuracy 0.5555555555555556\u001b[32m [repeated 24x across cluster]\u001b[0m\n",
            "\u001b[2m\u001b[36m(launch_and_evaluate pid=3452)\u001b[0m [Client 46] evaluate, config: {}\u001b[32m [repeated 23x across cluster]\u001b[0m\n"
          ]
        },
        {
          "output_type": "stream",
          "name": "stderr",
          "text": [
            "DEBUG flower 2023-07-19 13:16:44,958 | server.py:170 | evaluate_round received 0 results and 30 failures\n",
            "DEBUG:flower:evaluate_round received 0 results and 30 failures\n",
            "DEBUG flower 2023-07-19 13:16:44,970 | server.py:203 | fit_round: strategy sampled 30 clients (out of 100)\n",
            "DEBUG:flower:fit_round: strategy sampled 30 clients (out of 100)\n"
          ]
        },
        {
          "output_type": "stream",
          "name": "stdout",
          "text": [
            "\u001b[2m\u001b[36m(launch_and_fit pid=3453)\u001b[0m [Client 18] fit, config: {'current_round': 36, 'local_epochs': 3}\n",
            "\u001b[2m\u001b[36m(launch_and_fit pid=3453)\u001b[0m Epoch 1: train loss 0.0001306258054682985, accuracy 0.5\n",
            "\u001b[2m\u001b[36m(launch_and_evaluate pid=3452)\u001b[0m [Client 9] evaluate, config: {}\u001b[32m [repeated 5x across cluster]\u001b[0m\n",
            "\u001b[2m\u001b[36m(launch_and_fit pid=3452)\u001b[0m [Client 40] fit, config: {'current_round': 36, 'local_epochs': 3}\u001b[32m [repeated 24x across cluster]\u001b[0m\n",
            "\u001b[2m\u001b[36m(launch_and_fit pid=3453)\u001b[0m Epoch 1: train loss 9.663067612564191e-05, accuracy 0.7037037037037037\u001b[32m [repeated 23x across cluster]\u001b[0m\n"
          ]
        },
        {
          "output_type": "stream",
          "name": "stderr",
          "text": [
            "DEBUG flower 2023-07-19 13:16:51,544 | server.py:216 | fit_round received 30 results and 0 failures\n",
            "DEBUG:flower:fit_round received 30 results and 0 failures\n",
            "DEBUG flower 2023-07-19 13:16:51,640 | server.py:157 | evaluate_round: strategy sampled 30 clients (out of 100)\n",
            "DEBUG:flower:evaluate_round: strategy sampled 30 clients (out of 100)\n"
          ]
        },
        {
          "output_type": "stream",
          "name": "stdout",
          "text": [
            "Saving round 36 aggregated_parameters...\n",
            "\u001b[2m\u001b[36m(launch_and_evaluate pid=3452)\u001b[0m [Client 71] evaluate, config: {}\u001b[32m [repeated 14x across cluster]\u001b[0m\n"
          ]
        },
        {
          "output_type": "stream",
          "name": "stderr",
          "text": [
            "DEBUG flower 2023-07-19 13:16:56,120 | server.py:170 | evaluate_round received 0 results and 30 failures\n",
            "DEBUG:flower:evaluate_round received 0 results and 30 failures\n",
            "DEBUG flower 2023-07-19 13:16:56,128 | server.py:203 | fit_round: strategy sampled 30 clients (out of 100)\n",
            "DEBUG:flower:fit_round: strategy sampled 30 clients (out of 100)\n"
          ]
        },
        {
          "output_type": "stream",
          "name": "stdout",
          "text": [
            "\u001b[2m\u001b[36m(launch_and_fit pid=3453)\u001b[0m [Client 76] fit, config: {'current_round': 36, 'local_epochs': 3}\u001b[32m [repeated 5x across cluster]\u001b[0m\n",
            "\u001b[2m\u001b[36m(launch_and_fit pid=3452)\u001b[0m Epoch 1: train loss 0.00010170030873268843, accuracy 0.6111111111111112\u001b[32m [repeated 6x across cluster]\u001b[0m\n",
            "\u001b[2m\u001b[36m(launch_and_evaluate pid=3453)\u001b[0m [Client 67] evaluate, config: {}\u001b[32m [repeated 16x across cluster]\u001b[0m\n",
            "\u001b[2m\u001b[36m(launch_and_fit pid=3453)\u001b[0m [Client 23] fit, config: {'current_round': 37, 'local_epochs': 3}\u001b[32m [repeated 21x across cluster]\u001b[0m\n",
            "\u001b[2m\u001b[36m(launch_and_fit pid=3452)\u001b[0m Epoch 1: train loss 0.00010915687016677111, accuracy 0.5925925925925926\u001b[32m [repeated 20x across cluster]\u001b[0m\n"
          ]
        },
        {
          "output_type": "stream",
          "name": "stderr",
          "text": [
            "DEBUG flower 2023-07-19 13:17:03,386 | server.py:216 | fit_round received 30 results and 0 failures\n",
            "DEBUG:flower:fit_round received 30 results and 0 failures\n",
            "DEBUG flower 2023-07-19 13:17:03,534 | server.py:157 | evaluate_round: strategy sampled 30 clients (out of 100)\n",
            "DEBUG:flower:evaluate_round: strategy sampled 30 clients (out of 100)\n"
          ]
        },
        {
          "output_type": "stream",
          "name": "stdout",
          "text": [
            "Saving round 37 aggregated_parameters...\n",
            "\u001b[2m\u001b[36m(launch_and_evaluate pid=3452)\u001b[0m [Client 47] evaluate, config: {}\u001b[32m [repeated 3x across cluster]\u001b[0m\n",
            "\u001b[2m\u001b[36m(launch_and_fit pid=3453)\u001b[0m [Client 69] fit, config: {'current_round': 37, 'local_epochs': 3}\u001b[32m [repeated 9x across cluster]\u001b[0m\n",
            "\u001b[2m\u001b[36m(launch_and_fit pid=3453)\u001b[0m Epoch 1: train loss 0.00010235678928438574, accuracy 0.6481481481481481\u001b[32m [repeated 10x across cluster]\u001b[0m\n"
          ]
        },
        {
          "output_type": "stream",
          "name": "stderr",
          "text": [
            "DEBUG flower 2023-07-19 13:17:09,635 | server.py:170 | evaluate_round received 0 results and 30 failures\n",
            "DEBUG:flower:evaluate_round received 0 results and 30 failures\n",
            "DEBUG flower 2023-07-19 13:17:09,639 | server.py:203 | fit_round: strategy sampled 30 clients (out of 100)\n",
            "DEBUG:flower:fit_round: strategy sampled 30 clients (out of 100)\n"
          ]
        },
        {
          "output_type": "stream",
          "name": "stdout",
          "text": [
            "\u001b[2m\u001b[36m(launch_and_evaluate pid=3453)\u001b[0m [Client 13] evaluate, config: {}\u001b[32m [repeated 27x across cluster]\u001b[0m\n",
            "\u001b[2m\u001b[36m(launch_and_fit pid=3452)\u001b[0m [Client 45] fit, config: {'current_round': 38, 'local_epochs': 3}\u001b[32m [repeated 7x across cluster]\u001b[0m\n",
            "\u001b[2m\u001b[36m(launch_and_fit pid=3453)\u001b[0m Epoch 1: train loss 0.00011081380944233388, accuracy 0.5370370370370371\u001b[32m [repeated 6x across cluster]\u001b[0m\n"
          ]
        },
        {
          "output_type": "stream",
          "name": "stderr",
          "text": [
            "DEBUG flower 2023-07-19 13:17:15,622 | server.py:216 | fit_round received 30 results and 0 failures\n",
            "DEBUG:flower:fit_round received 30 results and 0 failures\n",
            "DEBUG flower 2023-07-19 13:17:15,705 | server.py:157 | evaluate_round: strategy sampled 30 clients (out of 100)\n",
            "DEBUG:flower:evaluate_round: strategy sampled 30 clients (out of 100)\n"
          ]
        },
        {
          "output_type": "stream",
          "name": "stdout",
          "text": [
            "Saving round 38 aggregated_parameters...\n",
            "\u001b[2m\u001b[36m(launch_and_evaluate pid=3453)\u001b[0m [Client 0] evaluate, config: {}\n",
            "\u001b[2m\u001b[36m(launch_and_fit pid=3453)\u001b[0m [Client 18] fit, config: {'current_round': 38, 'local_epochs': 3}\u001b[32m [repeated 23x across cluster]\u001b[0m\n",
            "\u001b[2m\u001b[36m(launch_and_fit pid=3453)\u001b[0m Epoch 1: train loss 0.00012966713984496891, accuracy 0.4074074074074074\u001b[32m [repeated 24x across cluster]\u001b[0m\n"
          ]
        },
        {
          "output_type": "stream",
          "name": "stderr",
          "text": [
            "DEBUG flower 2023-07-19 13:17:21,318 | server.py:170 | evaluate_round received 0 results and 30 failures\n",
            "DEBUG:flower:evaluate_round received 0 results and 30 failures\n",
            "DEBUG flower 2023-07-19 13:17:21,330 | server.py:203 | fit_round: strategy sampled 30 clients (out of 100)\n",
            "DEBUG:flower:fit_round: strategy sampled 30 clients (out of 100)\n"
          ]
        },
        {
          "output_type": "stream",
          "name": "stdout",
          "text": [
            "\u001b[2m\u001b[36m(launch_and_evaluate pid=3453)\u001b[0m [Client 35] evaluate, config: {}\u001b[32m [repeated 29x across cluster]\u001b[0m\n",
            "\u001b[2m\u001b[36m(launch_and_fit pid=3453)\u001b[0m [Client 59] fit, config: {'current_round': 39, 'local_epochs': 3}\n",
            "\u001b[2m\u001b[36m(launch_and_fit pid=3452)\u001b[0m [Client 83] fit, config: {'current_round': 39, 'local_epochs': 3}\n",
            "\u001b[2m\u001b[36m(launch_and_fit pid=3452)\u001b[0m Epoch 1: train loss 0.00010546246630838141, accuracy 0.5\n",
            "\u001b[2m\u001b[36m(launch_and_fit pid=3453)\u001b[0m \n",
            "\u001b[2m\u001b[36m(launch_and_fit pid=3453)\u001b[0m [Client 82] fit, config: {'current_round': 39, 'local_epochs': 3}\u001b[32m [repeated 15x across cluster]\u001b[0m\n",
            "\u001b[2m\u001b[36m(launch_and_fit pid=3452)\u001b[0m Epoch 1: train loss 0.00012132891424698755, accuracy 0.6296296296296297\u001b[32m [repeated 15x across cluster]\u001b[0m\n"
          ]
        },
        {
          "output_type": "stream",
          "name": "stderr",
          "text": [
            "DEBUG flower 2023-07-19 13:17:30,408 | server.py:216 | fit_round received 30 results and 0 failures\n",
            "DEBUG:flower:fit_round received 30 results and 0 failures\n",
            "DEBUG flower 2023-07-19 13:17:30,500 | server.py:157 | evaluate_round: strategy sampled 30 clients (out of 100)\n",
            "DEBUG:flower:evaluate_round: strategy sampled 30 clients (out of 100)\n"
          ]
        },
        {
          "output_type": "stream",
          "name": "stdout",
          "text": [
            "Saving round 39 aggregated_parameters...\n",
            "\u001b[2m\u001b[36m(launch_and_evaluate pid=3452)\u001b[0m [Client 66] evaluate, config: {}\n",
            "\u001b[2m\u001b[36m(launch_and_evaluate pid=3452)\u001b[0m [Client 51] evaluate, config: {}\n",
            "\u001b[2m\u001b[36m(launch_and_fit pid=3453)\u001b[0m [Client 92] fit, config: {'current_round': 39, 'local_epochs': 3}\u001b[32m [repeated 13x across cluster]\u001b[0m\n",
            "\u001b[2m\u001b[36m(launch_and_fit pid=3452)\u001b[0m Epoch 1: train loss 0.00010739836579887196, accuracy 0.7037037037037037\u001b[32m [repeated 14x across cluster]\u001b[0m\n"
          ]
        },
        {
          "output_type": "stream",
          "name": "stderr",
          "text": [
            "DEBUG flower 2023-07-19 13:17:35,256 | server.py:170 | evaluate_round received 0 results and 30 failures\n",
            "DEBUG:flower:evaluate_round received 0 results and 30 failures\n",
            "DEBUG flower 2023-07-19 13:17:35,261 | server.py:203 | fit_round: strategy sampled 30 clients (out of 100)\n",
            "DEBUG:flower:fit_round: strategy sampled 30 clients (out of 100)\n"
          ]
        },
        {
          "output_type": "stream",
          "name": "stdout",
          "text": [
            "\u001b[2m\u001b[36m(launch_and_evaluate pid=3453)\u001b[0m [Client 85] evaluate, config: {}\u001b[32m [repeated 28x across cluster]\u001b[0m\n",
            "\u001b[2m\u001b[36m(launch_and_fit pid=3453)\u001b[0m [Client 72] fit, config: {'current_round': 40, 'local_epochs': 3}\u001b[32m [repeated 10x across cluster]\u001b[0m\n",
            "\u001b[2m\u001b[36m(launch_and_fit pid=3452)\u001b[0m Epoch 1: train loss 0.0001276394323213026, accuracy 0.5370370370370371\u001b[32m [repeated 10x across cluster]\u001b[0m\n"
          ]
        },
        {
          "output_type": "stream",
          "name": "stderr",
          "text": [
            "DEBUG flower 2023-07-19 13:17:42,897 | server.py:216 | fit_round received 30 results and 0 failures\n",
            "DEBUG:flower:fit_round received 30 results and 0 failures\n"
          ]
        },
        {
          "output_type": "stream",
          "name": "stdout",
          "text": [
            "\u001b[2m\u001b[36m(launch_and_fit pid=3453)\u001b[0m [Client 10] fit, config: {'current_round': 40, 'local_epochs': 3}\u001b[32m [repeated 20x across cluster]\u001b[0m\n",
            "Saving round 40 aggregated_parameters...\n"
          ]
        },
        {
          "output_type": "stream",
          "name": "stderr",
          "text": [
            "DEBUG flower 2023-07-19 13:17:43,034 | server.py:157 | evaluate_round: strategy sampled 30 clients (out of 100)\n",
            "DEBUG:flower:evaluate_round: strategy sampled 30 clients (out of 100)\n"
          ]
        },
        {
          "output_type": "stream",
          "name": "stdout",
          "text": [
            "\u001b[2m\u001b[36m(launch_and_evaluate pid=3453)\u001b[0m [Client 36] evaluate, config: {}\n",
            "\u001b[2m\u001b[36m(launch_and_fit pid=3453)\u001b[0m Epoch 1: train loss 0.00011463650298537686, accuracy 0.5740740740740741\u001b[32m [repeated 20x across cluster]\u001b[0m\n",
            "\u001b[2m\u001b[36m(launch_and_evaluate pid=3453)\u001b[0m [Client 23] evaluate, config: {}\u001b[32m [repeated 22x across cluster]\u001b[0m\n"
          ]
        },
        {
          "output_type": "stream",
          "name": "stderr",
          "text": [
            "DEBUG flower 2023-07-19 13:17:50,139 | server.py:170 | evaluate_round received 0 results and 30 failures\n",
            "DEBUG:flower:evaluate_round received 0 results and 30 failures\n",
            "DEBUG flower 2023-07-19 13:17:50,144 | server.py:203 | fit_round: strategy sampled 30 clients (out of 100)\n",
            "DEBUG:flower:fit_round: strategy sampled 30 clients (out of 100)\n"
          ]
        },
        {
          "output_type": "stream",
          "name": "stdout",
          "text": [
            "\u001b[2m\u001b[36m(launch_and_fit pid=3452)\u001b[0m [Client 80] fit, config: {'current_round': 41, 'local_epochs': 3}\n",
            "\u001b[2m\u001b[36m(launch_and_fit pid=3452)\u001b[0m Epoch 1: train loss 8.698417514096946e-05, accuracy 0.7222222222222222\n",
            "\u001b[2m\u001b[36m(launch_and_evaluate pid=3452)\u001b[0m [Client 47] evaluate, config: {}\u001b[32m [repeated 7x across cluster]\u001b[0m\n"
          ]
        },
        {
          "output_type": "stream",
          "name": "stderr",
          "text": [
            "DEBUG flower 2023-07-19 13:17:56,006 | server.py:216 | fit_round received 30 results and 0 failures\n",
            "DEBUG:flower:fit_round received 30 results and 0 failures\n",
            "DEBUG flower 2023-07-19 13:17:56,106 | server.py:157 | evaluate_round: strategy sampled 30 clients (out of 100)\n",
            "DEBUG:flower:evaluate_round: strategy sampled 30 clients (out of 100)\n"
          ]
        },
        {
          "output_type": "stream",
          "name": "stdout",
          "text": [
            "Saving round 41 aggregated_parameters...\n",
            "\u001b[2m\u001b[36m(launch_and_fit pid=3452)\u001b[0m [Client 48] fit, config: {'current_round': 41, 'local_epochs': 3}\u001b[32m [repeated 29x across cluster]\u001b[0m\n",
            "\u001b[2m\u001b[36m(launch_and_fit pid=3453)\u001b[0m Epoch 1: train loss 0.00010315808322047815, accuracy 0.6851851851851852\u001b[32m [repeated 29x across cluster]\u001b[0m\n",
            "\u001b[2m\u001b[36m(launch_and_evaluate pid=3453)\u001b[0m [Client 7] evaluate, config: {}\u001b[32m [repeated 17x across cluster]\u001b[0m\n"
          ]
        },
        {
          "output_type": "stream",
          "name": "stderr",
          "text": [
            "DEBUG flower 2023-07-19 13:18:01,435 | server.py:170 | evaluate_round received 0 results and 30 failures\n",
            "DEBUG:flower:evaluate_round received 0 results and 30 failures\n",
            "DEBUG flower 2023-07-19 13:18:01,443 | server.py:203 | fit_round: strategy sampled 30 clients (out of 100)\n",
            "DEBUG:flower:fit_round: strategy sampled 30 clients (out of 100)\n"
          ]
        },
        {
          "output_type": "stream",
          "name": "stdout",
          "text": [
            "\u001b[2m\u001b[36m(launch_and_fit pid=3453)\u001b[0m [Client 76] fit, config: {'current_round': 42, 'local_epochs': 3}\n",
            "\u001b[2m\u001b[36m(launch_and_fit pid=3453)\u001b[0m Epoch 1: train loss 9.182628127746284e-05, accuracy 0.7037037037037037\n",
            "\u001b[2m\u001b[36m(launch_and_fit pid=3452)\u001b[0m [Client 60] fit, config: {'current_round': 42, 'local_epochs': 3}\n",
            "\u001b[2m\u001b[36m(launch_and_evaluate pid=3453)\u001b[0m [Client 9] evaluate, config: {}\u001b[32m [repeated 13x across cluster]\u001b[0m\n",
            "\u001b[2m\u001b[36m(launch_and_fit pid=3453)\u001b[0m Epoch 1: train loss 0.00012236031761858612, accuracy 0.5370370370370371\u001b[32m [repeated 18x across cluster]\u001b[0m\n",
            "\u001b[2m\u001b[36m(launch_and_fit pid=3453)\u001b[0m [Client 3] fit, config: {'current_round': 42, 'local_epochs': 3}\u001b[32m [repeated 19x across cluster]\u001b[0m\n",
            "\u001b[2m\u001b[36m(launch_and_fit pid=3453)\u001b[0m \n"
          ]
        },
        {
          "output_type": "stream",
          "name": "stderr",
          "text": [
            "DEBUG flower 2023-07-19 13:18:10,197 | server.py:216 | fit_round received 30 results and 0 failures\n",
            "DEBUG:flower:fit_round received 30 results and 0 failures\n",
            "DEBUG flower 2023-07-19 13:18:10,361 | server.py:157 | evaluate_round: strategy sampled 30 clients (out of 100)\n",
            "DEBUG:flower:evaluate_round: strategy sampled 30 clients (out of 100)\n"
          ]
        },
        {
          "output_type": "stream",
          "name": "stdout",
          "text": [
            "Saving round 42 aggregated_parameters...\n",
            "\u001b[2m\u001b[36m(launch_and_evaluate pid=3452)\u001b[0m [Client 4] evaluate, config: {}\n",
            "\u001b[2m\u001b[36m(launch_and_fit pid=3452)\u001b[0m Epoch 1: train loss 0.00010650657350197434, accuracy 0.6111111111111112\u001b[32m [repeated 11x across cluster]\u001b[0m\n",
            "\u001b[2m\u001b[36m(launch_and_fit pid=3452)\u001b[0m [Client 61] fit, config: {'current_round': 42, 'local_epochs': 3}\u001b[32m [repeated 9x across cluster]\u001b[0m\n"
          ]
        },
        {
          "output_type": "stream",
          "name": "stderr",
          "text": [
            "DEBUG flower 2023-07-19 13:18:15,048 | server.py:170 | evaluate_round received 0 results and 30 failures\n",
            "DEBUG:flower:evaluate_round received 0 results and 30 failures\n",
            "DEBUG flower 2023-07-19 13:18:15,055 | server.py:203 | fit_round: strategy sampled 30 clients (out of 100)\n",
            "DEBUG:flower:fit_round: strategy sampled 30 clients (out of 100)\n"
          ]
        },
        {
          "output_type": "stream",
          "name": "stdout",
          "text": [
            "\u001b[2m\u001b[36m(launch_and_evaluate pid=3453)\u001b[0m [Client 50] evaluate, config: {}\u001b[32m [repeated 29x across cluster]\u001b[0m\n",
            "\u001b[2m\u001b[36m(launch_and_fit pid=3453)\u001b[0m Epoch 1: train loss 0.00011959475523326546, accuracy 0.5925925925925926\u001b[32m [repeated 11x across cluster]\u001b[0m\n",
            "\u001b[2m\u001b[36m(launch_and_fit pid=3452)\u001b[0m [Client 37] fit, config: {'current_round': 43, 'local_epochs': 3}\u001b[32m [repeated 15x across cluster]\u001b[0m\n"
          ]
        },
        {
          "output_type": "stream",
          "name": "stderr",
          "text": [
            "DEBUG flower 2023-07-19 13:18:20,700 | server.py:216 | fit_round received 30 results and 0 failures\n",
            "DEBUG:flower:fit_round received 30 results and 0 failures\n",
            "DEBUG flower 2023-07-19 13:18:20,811 | server.py:157 | evaluate_round: strategy sampled 30 clients (out of 100)\n",
            "DEBUG:flower:evaluate_round: strategy sampled 30 clients (out of 100)\n"
          ]
        },
        {
          "output_type": "stream",
          "name": "stdout",
          "text": [
            "Saving round 43 aggregated_parameters...\n",
            "\u001b[2m\u001b[36m(launch_and_evaluate pid=3453)\u001b[0m [Client 65] evaluate, config: {}\n",
            "\u001b[2m\u001b[36m(launch_and_evaluate pid=3452)\u001b[0m [Client 19] evaluate, config: {}\n",
            "\u001b[2m\u001b[36m(launch_and_fit pid=3453)\u001b[0m Epoch 1: train loss 0.0001228693436132744, accuracy 0.5370370370370371\u001b[32m [repeated 19x across cluster]\u001b[0m\n",
            "\u001b[2m\u001b[36m(launch_and_fit pid=3453)\u001b[0m [Client 81] fit, config: {'current_round': 43, 'local_epochs': 3}\u001b[32m [repeated 15x across cluster]\u001b[0m\n",
            "\u001b[2m\u001b[36m(launch_and_evaluate pid=3453)\u001b[0m [Client 92] evaluate, config: {}\u001b[32m [repeated 23x across cluster]\u001b[0m\n"
          ]
        },
        {
          "output_type": "stream",
          "name": "stderr",
          "text": [
            "DEBUG flower 2023-07-19 13:18:27,715 | server.py:170 | evaluate_round received 0 results and 30 failures\n",
            "DEBUG:flower:evaluate_round received 0 results and 30 failures\n",
            "DEBUG flower 2023-07-19 13:18:27,721 | server.py:203 | fit_round: strategy sampled 30 clients (out of 100)\n",
            "DEBUG:flower:fit_round: strategy sampled 30 clients (out of 100)\n"
          ]
        },
        {
          "output_type": "stream",
          "name": "stdout",
          "text": [
            "\u001b[2m\u001b[36m(launch_and_fit pid=3452)\u001b[0m [Client 27] fit, config: {'current_round': 44, 'local_epochs': 3}\n",
            "\u001b[2m\u001b[36m(launch_and_fit pid=3453)\u001b[0m [Client 82] fit, config: {'current_round': 44, 'local_epochs': 3}\n",
            "\u001b[2m\u001b[36m(launch_and_fit pid=3452)\u001b[0m Epoch 1: train loss 0.0001143374465755187, accuracy 0.5925925925925926\n",
            "\u001b[2m\u001b[36m(launch_and_fit pid=3453)\u001b[0m [Client 55] fit, config: {'current_round': 44, 'local_epochs': 3}\n",
            "\u001b[2m\u001b[36m(launch_and_evaluate pid=3452)\u001b[0m [Client 44] evaluate, config: {}\u001b[32m [repeated 5x across cluster]\u001b[0m\n",
            "\u001b[2m\u001b[36m(launch_and_fit pid=3452)\u001b[0m [Client 2] fit, config: {'current_round': 44, 'local_epochs': 3}\u001b[32m [repeated 19x across cluster]\u001b[0m\n",
            "\u001b[2m\u001b[36m(launch_and_fit pid=3453)\u001b[0m Epoch 1: train loss 0.00011114029621239752, accuracy 0.5925925925925926\u001b[32m [repeated 20x across cluster]\u001b[0m\n"
          ]
        },
        {
          "output_type": "stream",
          "name": "stderr",
          "text": [
            "DEBUG flower 2023-07-19 13:18:35,105 | server.py:216 | fit_round received 30 results and 0 failures\n",
            "DEBUG:flower:fit_round received 30 results and 0 failures\n",
            "DEBUG flower 2023-07-19 13:18:35,227 | server.py:157 | evaluate_round: strategy sampled 30 clients (out of 100)\n",
            "DEBUG:flower:evaluate_round: strategy sampled 30 clients (out of 100)\n"
          ]
        },
        {
          "output_type": "stream",
          "name": "stdout",
          "text": [
            "Saving round 44 aggregated_parameters...\n",
            "\u001b[2m\u001b[36m(launch_and_evaluate pid=3452)\u001b[0m [Client 63] evaluate, config: {}\u001b[32m [repeated 10x across cluster]\u001b[0m\n",
            "\u001b[2m\u001b[36m(launch_and_fit pid=3452)\u001b[0m [Client 20] fit, config: {'current_round': 44, 'local_epochs': 3}\u001b[32m [repeated 8x across cluster]\u001b[0m\n",
            "\u001b[2m\u001b[36m(launch_and_fit pid=3452)\u001b[0m Epoch 1: train loss 0.0001043412194121629, accuracy 0.6666666666666666\u001b[32m [repeated 9x across cluster]\u001b[0m\n"
          ]
        },
        {
          "output_type": "stream",
          "name": "stderr",
          "text": [
            "DEBUG flower 2023-07-19 13:18:39,919 | server.py:170 | evaluate_round received 0 results and 30 failures\n",
            "DEBUG:flower:evaluate_round received 0 results and 30 failures\n",
            "DEBUG flower 2023-07-19 13:18:39,928 | server.py:203 | fit_round: strategy sampled 30 clients (out of 100)\n",
            "DEBUG:flower:fit_round: strategy sampled 30 clients (out of 100)\n"
          ]
        },
        {
          "output_type": "stream",
          "name": "stdout",
          "text": [
            "\u001b[2m\u001b[36m(launch_and_evaluate pid=3453)\u001b[0m [Client 22] evaluate, config: {}\u001b[32m [repeated 20x across cluster]\u001b[0m\n",
            "\u001b[2m\u001b[36m(launch_and_fit pid=3453)\u001b[0m [Client 55] fit, config: {'current_round': 45, 'local_epochs': 3}\u001b[32m [repeated 14x across cluster]\u001b[0m\n",
            "\u001b[2m\u001b[36m(launch_and_fit pid=3452)\u001b[0m Epoch 1: train loss 0.00010072148870676756, accuracy 0.48148148148148145\u001b[32m [repeated 13x across cluster]\u001b[0m\n"
          ]
        },
        {
          "output_type": "stream",
          "name": "stderr",
          "text": [
            "DEBUG flower 2023-07-19 13:18:48,617 | server.py:216 | fit_round received 30 results and 0 failures\n",
            "DEBUG:flower:fit_round received 30 results and 0 failures\n",
            "DEBUG flower 2023-07-19 13:18:48,753 | server.py:157 | evaluate_round: strategy sampled 30 clients (out of 100)\n",
            "DEBUG:flower:evaluate_round: strategy sampled 30 clients (out of 100)\n"
          ]
        },
        {
          "output_type": "stream",
          "name": "stdout",
          "text": [
            "Saving round 45 aggregated_parameters...\n",
            "\u001b[2m\u001b[36m(launch_and_evaluate pid=3453)\u001b[0m [Client 50] evaluate, config: {}\n",
            "\u001b[2m\u001b[36m(launch_and_fit pid=3452)\u001b[0m [Client 93] fit, config: {'current_round': 45, 'local_epochs': 3}\u001b[32m [repeated 16x across cluster]\u001b[0m\n",
            "\u001b[2m\u001b[36m(launch_and_fit pid=3452)\u001b[0m Epoch 1: train loss 0.0001029808190651238, accuracy 0.5740740740740741\u001b[32m [repeated 17x across cluster]\u001b[0m\n"
          ]
        },
        {
          "output_type": "stream",
          "name": "stderr",
          "text": [
            "DEBUG flower 2023-07-19 13:18:54,416 | server.py:170 | evaluate_round received 0 results and 30 failures\n",
            "DEBUG:flower:evaluate_round received 0 results and 30 failures\n",
            "DEBUG flower 2023-07-19 13:18:54,423 | server.py:203 | fit_round: strategy sampled 30 clients (out of 100)\n",
            "DEBUG:flower:fit_round: strategy sampled 30 clients (out of 100)\n"
          ]
        },
        {
          "output_type": "stream",
          "name": "stdout",
          "text": [
            "\u001b[2m\u001b[36m(launch_and_evaluate pid=3452)\u001b[0m [Client 70] evaluate, config: {}\u001b[32m [repeated 29x across cluster]\u001b[0m\n",
            "\u001b[2m\u001b[36m(launch_and_fit pid=3453)\u001b[0m [Client 57] fit, config: {'current_round': 46, 'local_epochs': 3}\n",
            "\u001b[2m\u001b[36m(launch_and_fit pid=3453)\u001b[0m Epoch 1: train loss 0.00011022842954844236, accuracy 0.5\n",
            "\u001b[2m\u001b[36m(launch_and_fit pid=3452)\u001b[0m [Client 82] fit, config: {'current_round': 46, 'local_epochs': 3}\n",
            "\u001b[2m\u001b[36m(launch_and_fit pid=3453)\u001b[0m Epoch 1: train loss 9.798645623959601e-05, accuracy 0.6481481481481481\n"
          ]
        },
        {
          "output_type": "stream",
          "name": "stderr",
          "text": [
            "DEBUG flower 2023-07-19 13:19:00,153 | server.py:216 | fit_round received 30 results and 0 failures\n",
            "DEBUG:flower:fit_round received 30 results and 0 failures\n",
            "DEBUG flower 2023-07-19 13:19:00,255 | server.py:157 | evaluate_round: strategy sampled 30 clients (out of 100)\n",
            "DEBUG:flower:evaluate_round: strategy sampled 30 clients (out of 100)\n"
          ]
        },
        {
          "output_type": "stream",
          "name": "stdout",
          "text": [
            "Saving round 46 aggregated_parameters...\n",
            "\u001b[2m\u001b[36m(launch_and_evaluate pid=3452)\u001b[0m [Client 4] evaluate, config: {}\n",
            "\u001b[2m\u001b[36m(launch_and_fit pid=3453)\u001b[0m Epoch 1: train loss 0.00010110129369422793, accuracy 0.6851851851851852\u001b[32m [repeated 28x across cluster]\u001b[0m\n",
            "\u001b[2m\u001b[36m(launch_and_fit pid=3452)\u001b[0m [Client 10] fit, config: {'current_round': 46, 'local_epochs': 3}\u001b[32m [repeated 28x across cluster]\u001b[0m\n",
            "\u001b[2m\u001b[36m(launch_and_evaluate pid=3452)\u001b[0m [Client 75] evaluate, config: {}\n",
            "\u001b[2m\u001b[36m(launch_and_evaluate pid=3452)\u001b[0m [Client 71] evaluate, config: {}\n",
            "\u001b[2m\u001b[36m(launch_and_evaluate pid=3452)\u001b[0m [Client 48] evaluate, config: {}\n",
            "\u001b[2m\u001b[36m(launch_and_evaluate pid=3452)\u001b[0m [Client 60] evaluate, config: {}\u001b[32m [repeated 21x across cluster]\u001b[0m\n"
          ]
        },
        {
          "output_type": "stream",
          "name": "stderr",
          "text": [
            "DEBUG flower 2023-07-19 13:19:06,582 | server.py:170 | evaluate_round received 0 results and 30 failures\n",
            "DEBUG:flower:evaluate_round received 0 results and 30 failures\n",
            "DEBUG flower 2023-07-19 13:19:06,588 | server.py:203 | fit_round: strategy sampled 30 clients (out of 100)\n",
            "DEBUG:flower:fit_round: strategy sampled 30 clients (out of 100)\n"
          ]
        },
        {
          "output_type": "stream",
          "name": "stdout",
          "text": [
            "\u001b[2m\u001b[36m(launch_and_fit pid=3452)\u001b[0m [Client 52] fit, config: {'current_round': 47, 'local_epochs': 3}\n",
            "\u001b[2m\u001b[36m(launch_and_fit pid=3452)\u001b[0m Epoch 1: train loss 9.994649008149281e-05, accuracy 0.5740740740740741\n",
            "\u001b[2m\u001b[36m(launch_and_evaluate pid=3453)\u001b[0m [Client 21] evaluate, config: {}\u001b[32m [repeated 5x across cluster]\u001b[0m\n",
            "\u001b[2m\u001b[36m(launch_and_fit pid=3452)\u001b[0m [Client 63] fit, config: {'current_round': 47, 'local_epochs': 3}\u001b[32m [repeated 20x across cluster]\u001b[0m\n",
            "\u001b[2m\u001b[36m(launch_and_fit pid=3452)\u001b[0m Epoch 1: train loss 0.00010312150698155165, accuracy 0.48148148148148145\u001b[32m [repeated 20x across cluster]\u001b[0m\n"
          ]
        },
        {
          "output_type": "stream",
          "name": "stderr",
          "text": [
            "DEBUG flower 2023-07-19 13:19:13,935 | server.py:216 | fit_round received 30 results and 0 failures\n",
            "DEBUG:flower:fit_round received 30 results and 0 failures\n",
            "DEBUG flower 2023-07-19 13:19:14,032 | server.py:157 | evaluate_round: strategy sampled 30 clients (out of 100)\n",
            "DEBUG:flower:evaluate_round: strategy sampled 30 clients (out of 100)\n"
          ]
        },
        {
          "output_type": "stream",
          "name": "stdout",
          "text": [
            "Saving round 47 aggregated_parameters...\n",
            "\u001b[2m\u001b[36m(launch_and_evaluate pid=3452)\u001b[0m [Client 71] evaluate, config: {}\u001b[32m [repeated 10x across cluster]\u001b[0m\n",
            "\u001b[2m\u001b[36m(launch_and_fit pid=3453)\u001b[0m [Client 20] fit, config: {'current_round': 47, 'local_epochs': 3}\u001b[32m [repeated 9x across cluster]\u001b[0m\n",
            "\u001b[2m\u001b[36m(launch_and_fit pid=3453)\u001b[0m Epoch 1: train loss 0.00011379866919014603, accuracy 0.5555555555555556\u001b[32m [repeated 9x across cluster]\u001b[0m\n"
          ]
        },
        {
          "output_type": "stream",
          "name": "stderr",
          "text": [
            "DEBUG flower 2023-07-19 13:19:18,828 | server.py:170 | evaluate_round received 0 results and 30 failures\n",
            "DEBUG:flower:evaluate_round received 0 results and 30 failures\n",
            "DEBUG flower 2023-07-19 13:19:18,837 | server.py:203 | fit_round: strategy sampled 30 clients (out of 100)\n",
            "DEBUG:flower:fit_round: strategy sampled 30 clients (out of 100)\n"
          ]
        },
        {
          "output_type": "stream",
          "name": "stdout",
          "text": [
            "\u001b[2m\u001b[36m(launch_and_evaluate pid=3452)\u001b[0m [Client 72] evaluate, config: {}\u001b[32m [repeated 20x across cluster]\u001b[0m\n",
            "\u001b[2m\u001b[36m(launch_and_fit pid=3452)\u001b[0m [Client 45] fit, config: {'current_round': 48, 'local_epochs': 3}\u001b[32m [repeated 18x across cluster]\u001b[0m\n",
            "\u001b[2m\u001b[36m(launch_and_fit pid=3452)\u001b[0m Epoch 1: train loss 0.00010114884207723662, accuracy 0.6296296296296297\u001b[32m [repeated 18x across cluster]\u001b[0m\n"
          ]
        },
        {
          "output_type": "stream",
          "name": "stderr",
          "text": [
            "DEBUG flower 2023-07-19 13:19:25,822 | server.py:216 | fit_round received 30 results and 0 failures\n",
            "DEBUG:flower:fit_round received 30 results and 0 failures\n",
            "DEBUG flower 2023-07-19 13:19:25,977 | server.py:157 | evaluate_round: strategy sampled 30 clients (out of 100)\n",
            "DEBUG:flower:evaluate_round: strategy sampled 30 clients (out of 100)\n"
          ]
        },
        {
          "output_type": "stream",
          "name": "stdout",
          "text": [
            "Saving round 48 aggregated_parameters...\n",
            "\u001b[2m\u001b[36m(launch_and_evaluate pid=3453)\u001b[0m [Client 55] evaluate, config: {}\n",
            "\u001b[2m\u001b[36m(launch_and_evaluate pid=3452)\u001b[0m [Client 41] evaluate, config: {}\n",
            "\u001b[2m\u001b[36m(launch_and_evaluate pid=3452)\u001b[0m [Client 10] evaluate, config: {}\n",
            "\u001b[2m\u001b[36m(launch_and_fit pid=3453)\u001b[0m [Client 3] fit, config: {'current_round': 48, 'local_epochs': 3}\u001b[32m [repeated 12x across cluster]\u001b[0m\n",
            "\u001b[2m\u001b[36m(launch_and_fit pid=3453)\u001b[0m Epoch 1: train loss 0.00011071460176026449, accuracy 0.5925925925925926\u001b[32m [repeated 12x across cluster]\u001b[0m\n",
            "\u001b[2m\u001b[36m(launch_and_evaluate pid=3453)\u001b[0m [Client 44] evaluate, config: {}\u001b[32m [repeated 23x across cluster]\u001b[0m\n"
          ]
        },
        {
          "output_type": "stream",
          "name": "stderr",
          "text": [
            "DEBUG flower 2023-07-19 13:19:32,735 | server.py:170 | evaluate_round received 0 results and 30 failures\n",
            "DEBUG:flower:evaluate_round received 0 results and 30 failures\n",
            "DEBUG flower 2023-07-19 13:19:32,745 | server.py:203 | fit_round: strategy sampled 30 clients (out of 100)\n",
            "DEBUG:flower:fit_round: strategy sampled 30 clients (out of 100)\n"
          ]
        },
        {
          "output_type": "stream",
          "name": "stdout",
          "text": [
            "\u001b[2m\u001b[36m(launch_and_fit pid=3453)\u001b[0m [Client 39] fit, config: {'current_round': 49, 'local_epochs': 3}\n",
            "\u001b[2m\u001b[36m(launch_and_fit pid=3452)\u001b[0m [Client 61] fit, config: {'current_round': 49, 'local_epochs': 3}\n",
            "\u001b[2m\u001b[36m(launch_and_fit pid=3452)\u001b[0m Epoch 1: train loss 0.00010320628643967211, accuracy 0.5370370370370371\n",
            "\u001b[2m\u001b[36m(launch_and_evaluate pid=3452)\u001b[0m [Client 94] evaluate, config: {}\u001b[32m [repeated 4x across cluster]\u001b[0m\n",
            "\u001b[2m\u001b[36m(launch_and_fit pid=3452)\u001b[0m [Client 56] fit, config: {'current_round': 49, 'local_epochs': 3}\u001b[32m [repeated 18x across cluster]\u001b[0m\n",
            "\u001b[2m\u001b[36m(launch_and_fit pid=3452)\u001b[0m Epoch 1: train loss 0.00011263522173976526, accuracy 0.5185185185185185\u001b[32m [repeated 19x across cluster]\u001b[0m\n"
          ]
        },
        {
          "output_type": "stream",
          "name": "stderr",
          "text": [
            "DEBUG flower 2023-07-19 13:19:41,591 | server.py:216 | fit_round received 30 results and 0 failures\n",
            "DEBUG:flower:fit_round received 30 results and 0 failures\n",
            "DEBUG flower 2023-07-19 13:19:41,739 | server.py:157 | evaluate_round: strategy sampled 30 clients (out of 100)\n",
            "DEBUG:flower:evaluate_round: strategy sampled 30 clients (out of 100)\n"
          ]
        },
        {
          "output_type": "stream",
          "name": "stdout",
          "text": [
            "Saving round 49 aggregated_parameters...\n",
            "\u001b[2m\u001b[36m(launch_and_evaluate pid=3452)\u001b[0m [Client 29] evaluate, config: {}\n",
            "\u001b[2m\u001b[36m(launch_and_evaluate pid=3453)\u001b[0m [Client 56] evaluate, config: {}\n",
            "\u001b[2m\u001b[36m(launch_and_evaluate pid=3453)\u001b[0m [Client 30] evaluate, config: {}\n",
            "\u001b[2m\u001b[36m(launch_and_fit pid=3453)\u001b[0m [Client 70] fit, config: {'current_round': 49, 'local_epochs': 3}\u001b[32m [repeated 10x across cluster]\u001b[0m\n",
            "\u001b[2m\u001b[36m(launch_and_fit pid=3453)\u001b[0m Epoch 1: train loss 0.00010857340384973213, accuracy 0.7037037037037037\u001b[32m [repeated 10x across cluster]\u001b[0m\n",
            "\u001b[2m\u001b[36m(launch_and_evaluate pid=3452)\u001b[0m [Client 17] evaluate, config: {}\u001b[32m [repeated 21x across cluster]\u001b[0m\n"
          ]
        },
        {
          "output_type": "stream",
          "name": "stderr",
          "text": [
            "DEBUG flower 2023-07-19 13:19:48,931 | server.py:170 | evaluate_round received 0 results and 30 failures\n",
            "DEBUG:flower:evaluate_round received 0 results and 30 failures\n",
            "DEBUG flower 2023-07-19 13:19:48,938 | server.py:203 | fit_round: strategy sampled 30 clients (out of 100)\n",
            "DEBUG:flower:fit_round: strategy sampled 30 clients (out of 100)\n"
          ]
        },
        {
          "output_type": "stream",
          "name": "stdout",
          "text": [
            "\u001b[2m\u001b[36m(launch_and_fit pid=3452)\u001b[0m [Client 46] fit, config: {'current_round': 50, 'local_epochs': 3}\n",
            "\u001b[2m\u001b[36m(launch_and_fit pid=3452)\u001b[0m Epoch 1: train loss 7.56163863115944e-05, accuracy 0.7592592592592593\n",
            "\u001b[2m\u001b[36m(launch_and_fit pid=3453)\u001b[0m [Client 27] fit, config: {'current_round': 50, 'local_epochs': 3}\n",
            "\u001b[2m\u001b[36m(launch_and_evaluate pid=3452)\u001b[0m [Client 11] evaluate, config: {}\u001b[32m [repeated 6x across cluster]\u001b[0m\n",
            "\u001b[2m\u001b[36m(launch_and_fit pid=3453)\u001b[0m Epoch 1: train loss 9.034892718773335e-05, accuracy 0.6481481481481481\u001b[32m [repeated 21x across cluster]\u001b[0m\n",
            "\u001b[2m\u001b[36m(launch_and_fit pid=3452)\u001b[0m [Client 93] fit, config: {'current_round': 50, 'local_epochs': 3}\u001b[32m [repeated 23x across cluster]\u001b[0m\n"
          ]
        },
        {
          "output_type": "stream",
          "name": "stderr",
          "text": [
            "DEBUG flower 2023-07-19 13:19:55,984 | server.py:216 | fit_round received 30 results and 0 failures\n",
            "DEBUG:flower:fit_round received 30 results and 0 failures\n",
            "DEBUG flower 2023-07-19 13:19:56,086 | server.py:157 | evaluate_round: strategy sampled 30 clients (out of 100)\n",
            "DEBUG:flower:evaluate_round: strategy sampled 30 clients (out of 100)\n"
          ]
        },
        {
          "output_type": "stream",
          "name": "stdout",
          "text": [
            "Saving round 50 aggregated_parameters...\n",
            "\u001b[2m\u001b[36m(launch_and_evaluate pid=3453)\u001b[0m [Client 81] evaluate, config: {}\u001b[32m [repeated 11x across cluster]\u001b[0m\n",
            "\u001b[2m\u001b[36m(launch_and_fit pid=3453)\u001b[0m Epoch 1: train loss 8.435265044681728e-05, accuracy 0.7222222222222222\u001b[32m [repeated 8x across cluster]\u001b[0m\n",
            "\u001b[2m\u001b[36m(launch_and_fit pid=3453)\u001b[0m [Client 64] fit, config: {'current_round': 50, 'local_epochs': 3}\u001b[32m [repeated 5x across cluster]\u001b[0m\n"
          ]
        },
        {
          "output_type": "stream",
          "name": "stderr",
          "text": [
            "DEBUG flower 2023-07-19 13:20:00,685 | server.py:170 | evaluate_round received 0 results and 30 failures\n",
            "DEBUG:flower:evaluate_round received 0 results and 30 failures\n",
            "DEBUG flower 2023-07-19 13:20:00,693 | server.py:203 | fit_round: strategy sampled 30 clients (out of 100)\n",
            "DEBUG:flower:fit_round: strategy sampled 30 clients (out of 100)\n"
          ]
        },
        {
          "output_type": "stream",
          "name": "stdout",
          "text": [
            "\u001b[2m\u001b[36m(launch_and_evaluate pid=3453)\u001b[0m [Client 89] evaluate, config: {}\u001b[32m [repeated 19x across cluster]\u001b[0m\n",
            "\u001b[2m\u001b[36m(launch_and_fit pid=3453)\u001b[0m Epoch 1: train loss 8.859475201461464e-05, accuracy 0.6851851851851852\u001b[32m [repeated 18x across cluster]\u001b[0m\n",
            "\u001b[2m\u001b[36m(launch_and_fit pid=3452)\u001b[0m [Client 32] fit, config: {'current_round': 51, 'local_epochs': 3}\u001b[32m [repeated 19x across cluster]\u001b[0m\n"
          ]
        },
        {
          "output_type": "stream",
          "name": "stderr",
          "text": [
            "DEBUG flower 2023-07-19 13:20:08,068 | server.py:216 | fit_round received 30 results and 0 failures\n",
            "DEBUG:flower:fit_round received 30 results and 0 failures\n",
            "DEBUG flower 2023-07-19 13:20:08,217 | server.py:157 | evaluate_round: strategy sampled 30 clients (out of 100)\n",
            "DEBUG:flower:evaluate_round: strategy sampled 30 clients (out of 100)\n"
          ]
        },
        {
          "output_type": "stream",
          "name": "stdout",
          "text": [
            "Saving round 51 aggregated_parameters...\n",
            "\u001b[2m\u001b[36m(launch_and_evaluate pid=3452)\u001b[0m [Client 25] evaluate, config: {}\n",
            "\u001b[2m\u001b[36m(launch_and_evaluate pid=3452)\u001b[0m [Client 46] evaluate, config: {}\n",
            "\u001b[2m\u001b[36m(launch_and_fit pid=3453)\u001b[0m Epoch 1: train loss 0.000106205785414204, accuracy 0.6666666666666666\u001b[32m [repeated 12x across cluster]\u001b[0m\n",
            "\u001b[2m\u001b[36m(launch_and_fit pid=3453)\u001b[0m [Client 35] fit, config: {'current_round': 51, 'local_epochs': 3}\u001b[32m [repeated 11x across cluster]\u001b[0m\n"
          ]
        },
        {
          "output_type": "stream",
          "name": "stderr",
          "text": [
            "DEBUG flower 2023-07-19 13:20:14,440 | server.py:170 | evaluate_round received 0 results and 30 failures\n",
            "DEBUG:flower:evaluate_round received 0 results and 30 failures\n",
            "DEBUG flower 2023-07-19 13:20:14,446 | server.py:203 | fit_round: strategy sampled 30 clients (out of 100)\n",
            "DEBUG:flower:fit_round: strategy sampled 30 clients (out of 100)\n"
          ]
        },
        {
          "output_type": "stream",
          "name": "stdout",
          "text": [
            "\u001b[2m\u001b[36m(launch_and_evaluate pid=3452)\u001b[0m [Client 21] evaluate, config: {}\u001b[32m [repeated 27x across cluster]\u001b[0m\n",
            "\u001b[2m\u001b[36m(launch_and_fit pid=3452)\u001b[0m [Client 87] fit, config: {'current_round': 52, 'local_epochs': 3}\n",
            "\u001b[2m\u001b[36m(launch_and_fit pid=3453)\u001b[0m Epoch 1: train loss 8.920010441215709e-05, accuracy 0.5925925925925926\n",
            "\u001b[2m\u001b[36m(launch_and_fit pid=3453)\u001b[0m Epoch 1: train loss 9.900568693410605e-05, accuracy 0.5925925925925926\n",
            "\u001b[2m\u001b[36m(launch_and_fit pid=3452)\u001b[0m [Client 60] fit, config: {'current_round': 52, 'local_epochs': 3}\u001b[32m [repeated 4x across cluster]\u001b[0m\n"
          ]
        },
        {
          "output_type": "stream",
          "name": "stderr",
          "text": [
            "DEBUG flower 2023-07-19 13:20:19,624 | server.py:216 | fit_round received 30 results and 0 failures\n",
            "DEBUG:flower:fit_round received 30 results and 0 failures\n",
            "DEBUG flower 2023-07-19 13:20:19,728 | server.py:157 | evaluate_round: strategy sampled 30 clients (out of 100)\n",
            "DEBUG:flower:evaluate_round: strategy sampled 30 clients (out of 100)\n"
          ]
        },
        {
          "output_type": "stream",
          "name": "stdout",
          "text": [
            "Saving round 52 aggregated_parameters...\n",
            "\u001b[2m\u001b[36m(launch_and_evaluate pid=3453)\u001b[0m [Client 86] evaluate, config: {}\u001b[32m [repeated 2x across cluster]\u001b[0m\n",
            "\u001b[2m\u001b[36m(launch_and_fit pid=3453)\u001b[0m Epoch 1: train loss 9.110668179346249e-05, accuracy 0.5740740740740741\u001b[32m [repeated 27x across cluster]\u001b[0m\n",
            "\u001b[2m\u001b[36m(launch_and_fit pid=3453)\u001b[0m [Client 41] fit, config: {'current_round': 52, 'local_epochs': 3}\u001b[32m [repeated 26x across cluster]\u001b[0m\n"
          ]
        },
        {
          "output_type": "stream",
          "name": "stderr",
          "text": [
            "DEBUG flower 2023-07-19 13:20:24,151 | server.py:170 | evaluate_round received 0 results and 30 failures\n",
            "DEBUG:flower:evaluate_round received 0 results and 30 failures\n",
            "DEBUG flower 2023-07-19 13:20:24,154 | server.py:203 | fit_round: strategy sampled 30 clients (out of 100)\n",
            "DEBUG:flower:fit_round: strategy sampled 30 clients (out of 100)\n"
          ]
        },
        {
          "output_type": "stream",
          "name": "stdout",
          "text": [
            "\u001b[2m\u001b[36m(launch_and_evaluate pid=3453)\u001b[0m [Client 59] evaluate, config: {}\u001b[32m [repeated 29x across cluster]\u001b[0m\n",
            "\u001b[2m\u001b[36m(launch_and_fit pid=3452)\u001b[0m Epoch 1: train loss 9.538140875520185e-05, accuracy 0.7037037037037037\u001b[32m [repeated 2x across cluster]\u001b[0m\n",
            "\u001b[2m\u001b[36m(launch_and_fit pid=3453)\u001b[0m [Client 40] fit, config: {'current_round': 53, 'local_epochs': 3}\u001b[32m [repeated 3x across cluster]\u001b[0m\n",
            "\u001b[2m\u001b[36m(launch_and_fit pid=3453)\u001b[0m Epoch 1: train loss 8.503587014274672e-05, accuracy 0.6851851851851852\u001b[32m [repeated 16x across cluster]\u001b[0m\n",
            "\u001b[2m\u001b[36m(launch_and_fit pid=3452)\u001b[0m [Client 44] fit, config: {'current_round': 53, 'local_epochs': 3}\u001b[32m [repeated 16x across cluster]\u001b[0m\n"
          ]
        },
        {
          "output_type": "stream",
          "name": "stderr",
          "text": [
            "DEBUG flower 2023-07-19 13:20:33,883 | server.py:216 | fit_round received 30 results and 0 failures\n",
            "DEBUG:flower:fit_round received 30 results and 0 failures\n",
            "DEBUG flower 2023-07-19 13:20:34,025 | server.py:157 | evaluate_round: strategy sampled 30 clients (out of 100)\n",
            "DEBUG:flower:evaluate_round: strategy sampled 30 clients (out of 100)\n"
          ]
        },
        {
          "output_type": "stream",
          "name": "stdout",
          "text": [
            "Saving round 53 aggregated_parameters...\n",
            "\u001b[2m\u001b[36m(launch_and_evaluate pid=3452)\u001b[0m [Client 85] evaluate, config: {}\n",
            "\u001b[2m\u001b[36m(launch_and_evaluate pid=3452)\u001b[0m [Client 11] evaluate, config: {}\n",
            "\u001b[2m\u001b[36m(launch_and_fit pid=3452)\u001b[0m Epoch 1: train loss 9.39013043534942e-05, accuracy 0.7222222222222222\u001b[32m [repeated 12x across cluster]\u001b[0m\n",
            "\u001b[2m\u001b[36m(launch_and_fit pid=3452)\u001b[0m [Client 71] fit, config: {'current_round': 53, 'local_epochs': 3}\u001b[32m [repeated 11x across cluster]\u001b[0m\n"
          ]
        },
        {
          "output_type": "stream",
          "name": "stderr",
          "text": [
            "DEBUG flower 2023-07-19 13:20:38,657 | server.py:170 | evaluate_round received 0 results and 30 failures\n",
            "DEBUG:flower:evaluate_round received 0 results and 30 failures\n",
            "DEBUG flower 2023-07-19 13:20:38,667 | server.py:203 | fit_round: strategy sampled 30 clients (out of 100)\n",
            "DEBUG:flower:fit_round: strategy sampled 30 clients (out of 100)\n"
          ]
        },
        {
          "output_type": "stream",
          "name": "stdout",
          "text": [
            "\u001b[2m\u001b[36m(launch_and_evaluate pid=3452)\u001b[0m [Client 56] evaluate, config: {}\u001b[32m [repeated 28x across cluster]\u001b[0m\n",
            "\u001b[2m\u001b[36m(launch_and_fit pid=3452)\u001b[0m Epoch 1: train loss 0.00010628193558659405, accuracy 0.6481481481481481\u001b[32m [repeated 11x across cluster]\u001b[0m\n",
            "\u001b[2m\u001b[36m(launch_and_fit pid=3453)\u001b[0m [Client 79] fit, config: {'current_round': 54, 'local_epochs': 3}\u001b[32m [repeated 12x across cluster]\u001b[0m\n"
          ]
        },
        {
          "output_type": "stream",
          "name": "stderr",
          "text": [
            "DEBUG flower 2023-07-19 13:20:44,190 | server.py:216 | fit_round received 30 results and 0 failures\n",
            "DEBUG:flower:fit_round received 30 results and 0 failures\n",
            "DEBUG flower 2023-07-19 13:20:44,316 | server.py:157 | evaluate_round: strategy sampled 30 clients (out of 100)\n",
            "DEBUG:flower:evaluate_round: strategy sampled 30 clients (out of 100)\n"
          ]
        },
        {
          "output_type": "stream",
          "name": "stdout",
          "text": [
            "Saving round 54 aggregated_parameters...\n",
            "\u001b[2m\u001b[36m(launch_and_evaluate pid=3452)\u001b[0m [Client 10] evaluate, config: {}\n",
            "\u001b[2m\u001b[36m(launch_and_evaluate pid=3453)\u001b[0m [Client 17] evaluate, config: {}\n",
            "\u001b[2m\u001b[36m(launch_and_evaluate pid=3453)\u001b[0m [Client 47] evaluate, config: {}\n",
            "\u001b[2m\u001b[36m(launch_and_fit pid=3453)\u001b[0m Epoch 1: train loss 0.00011248007649555802, accuracy 0.5925925925925926\u001b[32m [repeated 19x across cluster]\u001b[0m\n",
            "\u001b[2m\u001b[36m(launch_and_fit pid=3453)\u001b[0m [Client 67] fit, config: {'current_round': 54, 'local_epochs': 3}\u001b[32m [repeated 18x across cluster]\u001b[0m\n",
            "\u001b[2m\u001b[36m(launch_and_evaluate pid=3453)\u001b[0m [Client 57] evaluate, config: {}\u001b[32m [repeated 20x across cluster]\u001b[0m\n"
          ]
        },
        {
          "output_type": "stream",
          "name": "stderr",
          "text": [
            "DEBUG flower 2023-07-19 13:20:51,571 | server.py:170 | evaluate_round received 0 results and 30 failures\n",
            "DEBUG:flower:evaluate_round received 0 results and 30 failures\n",
            "DEBUG flower 2023-07-19 13:20:51,577 | server.py:203 | fit_round: strategy sampled 30 clients (out of 100)\n",
            "DEBUG:flower:fit_round: strategy sampled 30 clients (out of 100)\n"
          ]
        },
        {
          "output_type": "stream",
          "name": "stdout",
          "text": [
            "\u001b[2m\u001b[36m(launch_and_fit pid=3452)\u001b[0m [Client 4] fit, config: {'current_round': 55, 'local_epochs': 3}\n",
            "\u001b[2m\u001b[36m(launch_and_fit pid=3452)\u001b[0m Epoch 1: train loss 0.00011708843521773815, accuracy 0.5555555555555556\n",
            "\u001b[2m\u001b[36m(launch_and_evaluate pid=3452)\u001b[0m [Client 43] evaluate, config: {}\u001b[32m [repeated 7x across cluster]\u001b[0m\n",
            "\u001b[2m\u001b[36m(launch_and_fit pid=3452)\u001b[0m [Client 65] fit, config: {'current_round': 55, 'local_epochs': 3}\u001b[32m [repeated 24x across cluster]\u001b[0m\n",
            "\u001b[2m\u001b[36m(launch_and_fit pid=3453)\u001b[0m Epoch 1: train loss 8.689872629474849e-05, accuracy 0.6481481481481481\u001b[32m [repeated 25x across cluster]\u001b[0m\n"
          ]
        },
        {
          "output_type": "stream",
          "name": "stderr",
          "text": [
            "DEBUG flower 2023-07-19 13:20:58,310 | server.py:216 | fit_round received 30 results and 0 failures\n",
            "DEBUG:flower:fit_round received 30 results and 0 failures\n",
            "DEBUG flower 2023-07-19 13:20:58,395 | server.py:157 | evaluate_round: strategy sampled 30 clients (out of 100)\n",
            "DEBUG:flower:evaluate_round: strategy sampled 30 clients (out of 100)\n"
          ]
        },
        {
          "output_type": "stream",
          "name": "stdout",
          "text": [
            "Saving round 55 aggregated_parameters...\n",
            "\u001b[2m\u001b[36m(launch_and_evaluate pid=3453)\u001b[0m [Client 8] evaluate, config: {}\u001b[32m [repeated 12x across cluster]\u001b[0m\n"
          ]
        },
        {
          "output_type": "stream",
          "name": "stderr",
          "text": [
            "DEBUG flower 2023-07-19 13:21:02,841 | server.py:170 | evaluate_round received 0 results and 30 failures\n",
            "DEBUG:flower:evaluate_round received 0 results and 30 failures\n",
            "DEBUG flower 2023-07-19 13:21:02,851 | server.py:203 | fit_round: strategy sampled 30 clients (out of 100)\n",
            "DEBUG:flower:fit_round: strategy sampled 30 clients (out of 100)\n"
          ]
        },
        {
          "output_type": "stream",
          "name": "stdout",
          "text": [
            "\u001b[2m\u001b[36m(launch_and_fit pid=3452)\u001b[0m [Client 2] fit, config: {'current_round': 55, 'local_epochs': 3}\u001b[32m [repeated 5x across cluster]\u001b[0m\n",
            "\u001b[2m\u001b[36m(launch_and_fit pid=3452)\u001b[0m Epoch 1: train loss 7.973942410899326e-05, accuracy 0.6666666666666666\u001b[32m [repeated 4x across cluster]\u001b[0m\n",
            "\u001b[2m\u001b[36m(launch_and_evaluate pid=3453)\u001b[0m [Client 96] evaluate, config: {}\u001b[32m [repeated 18x across cluster]\u001b[0m\n",
            "\u001b[2m\u001b[36m(launch_and_fit pid=3453)\u001b[0m [Client 19] fit, config: {'current_round': 56, 'local_epochs': 3}\u001b[32m [repeated 18x across cluster]\u001b[0m\n",
            "\u001b[2m\u001b[36m(launch_and_fit pid=3452)\u001b[0m Epoch 1: train loss 9.942046017386019e-05, accuracy 0.6666666666666666\u001b[32m [repeated 17x across cluster]\u001b[0m\n"
          ]
        },
        {
          "output_type": "stream",
          "name": "stderr",
          "text": [
            "DEBUG flower 2023-07-19 13:21:11,076 | server.py:216 | fit_round received 30 results and 0 failures\n",
            "DEBUG:flower:fit_round received 30 results and 0 failures\n",
            "DEBUG flower 2023-07-19 13:21:11,221 | server.py:157 | evaluate_round: strategy sampled 30 clients (out of 100)\n",
            "DEBUG:flower:evaluate_round: strategy sampled 30 clients (out of 100)\n"
          ]
        },
        {
          "output_type": "stream",
          "name": "stdout",
          "text": [
            "Saving round 56 aggregated_parameters...\n",
            "\u001b[2m\u001b[36m(launch_and_evaluate pid=3453)\u001b[0m [Client 4] evaluate, config: {}\n",
            "\u001b[2m\u001b[36m(launch_and_evaluate pid=3453)\u001b[0m [Client 43] evaluate, config: {}\n",
            "\u001b[2m\u001b[36m(launch_and_fit pid=3453)\u001b[0m [Client 99] fit, config: {'current_round': 56, 'local_epochs': 3}\u001b[32m [repeated 12x across cluster]\u001b[0m\n",
            "\u001b[2m\u001b[36m(launch_and_fit pid=3453)\u001b[0m Epoch 1: train loss 9.133909043157473e-05, accuracy 0.7037037037037037\u001b[32m [repeated 13x across cluster]\u001b[0m\n",
            "\u001b[2m\u001b[36m(launch_and_evaluate pid=3452)\u001b[0m [Client 58] evaluate, config: {}\u001b[32m [repeated 23x across cluster]\u001b[0m\n"
          ]
        },
        {
          "output_type": "stream",
          "name": "stderr",
          "text": [
            "DEBUG flower 2023-07-19 13:21:17,310 | server.py:170 | evaluate_round received 0 results and 30 failures\n",
            "DEBUG:flower:evaluate_round received 0 results and 30 failures\n",
            "DEBUG flower 2023-07-19 13:21:17,315 | server.py:203 | fit_round: strategy sampled 30 clients (out of 100)\n",
            "DEBUG:flower:fit_round: strategy sampled 30 clients (out of 100)\n"
          ]
        },
        {
          "output_type": "stream",
          "name": "stdout",
          "text": [
            "\u001b[2m\u001b[36m(launch_and_fit pid=3452)\u001b[0m [Client 79] fit, config: {'current_round': 57, 'local_epochs': 3}\n",
            "\u001b[2m\u001b[36m(launch_and_fit pid=3453)\u001b[0m [Client 69] fit, config: {'current_round': 57, 'local_epochs': 3}\n",
            "\u001b[2m\u001b[36m(launch_and_fit pid=3452)\u001b[0m Epoch 1: train loss 9.256417251890525e-05, accuracy 0.5740740740740741\n",
            "\u001b[2m\u001b[36m(launch_and_fit pid=3453)\u001b[0m [Client 35] fit, config: {'current_round': 57, 'local_epochs': 3}\n",
            "\u001b[2m\u001b[36m(launch_and_fit pid=3453)\u001b[0m [Client 37] fit, config: {'current_round': 57, 'local_epochs': 3}\n",
            "\u001b[2m\u001b[36m(launch_and_evaluate pid=3453)\u001b[0m [Client 84] evaluate, config: {}\u001b[32m [repeated 5x across cluster]\u001b[0m\n"
          ]
        },
        {
          "output_type": "stream",
          "name": "stderr",
          "text": [
            "DEBUG flower 2023-07-19 13:21:23,185 | server.py:216 | fit_round received 30 results and 0 failures\n",
            "DEBUG:flower:fit_round received 30 results and 0 failures\n",
            "DEBUG flower 2023-07-19 13:21:23,287 | server.py:157 | evaluate_round: strategy sampled 30 clients (out of 100)\n",
            "DEBUG:flower:evaluate_round: strategy sampled 30 clients (out of 100)\n"
          ]
        },
        {
          "output_type": "stream",
          "name": "stdout",
          "text": [
            "Saving round 57 aggregated_parameters...\n",
            "\u001b[2m\u001b[36m(launch_and_fit pid=3453)\u001b[0m [Client 10] fit, config: {'current_round': 57, 'local_epochs': 3}\u001b[32m [repeated 26x across cluster]\u001b[0m\n",
            "\u001b[2m\u001b[36m(launch_and_fit pid=3453)\u001b[0m Epoch 1: train loss 9.395607048645616e-05, accuracy 0.5925925925925926\u001b[32m [repeated 29x across cluster]\u001b[0m\n",
            "\u001b[2m\u001b[36m(launch_and_evaluate pid=3452)\u001b[0m [Client 94] evaluate, config: {}\u001b[32m [repeated 20x across cluster]\u001b[0m\n"
          ]
        },
        {
          "output_type": "stream",
          "name": "stderr",
          "text": [
            "DEBUG flower 2023-07-19 13:21:29,190 | server.py:170 | evaluate_round received 0 results and 30 failures\n",
            "DEBUG:flower:evaluate_round received 0 results and 30 failures\n",
            "DEBUG flower 2023-07-19 13:21:29,201 | server.py:203 | fit_round: strategy sampled 30 clients (out of 100)\n",
            "DEBUG:flower:fit_round: strategy sampled 30 clients (out of 100)\n"
          ]
        },
        {
          "output_type": "stream",
          "name": "stdout",
          "text": [
            "\u001b[2m\u001b[36m(launch_and_fit pid=3452)\u001b[0m [Client 44] fit, config: {'current_round': 58, 'local_epochs': 3}\n",
            "\u001b[2m\u001b[36m(launch_and_fit pid=3452)\u001b[0m Epoch 1: train loss 0.00011384248500689864, accuracy 0.6111111111111112\n",
            "\u001b[2m\u001b[36m(launch_and_evaluate pid=3453)\u001b[0m [Client 18] evaluate, config: {}\u001b[32m [repeated 10x across cluster]\u001b[0m\n",
            "\u001b[2m\u001b[36m(launch_and_fit pid=3452)\u001b[0m [Client 85] fit, config: {'current_round': 58, 'local_epochs': 3}\u001b[32m [repeated 17x across cluster]\u001b[0m\n",
            "\u001b[2m\u001b[36m(launch_and_fit pid=3453)\u001b[0m Epoch 1: train loss 9.316830983152613e-05, accuracy 0.6481481481481481\u001b[32m [repeated 17x across cluster]\u001b[0m\n"
          ]
        },
        {
          "output_type": "stream",
          "name": "stderr",
          "text": [
            "DEBUG flower 2023-07-19 13:21:37,564 | server.py:216 | fit_round received 30 results and 0 failures\n",
            "DEBUG:flower:fit_round received 30 results and 0 failures\n",
            "DEBUG flower 2023-07-19 13:21:37,653 | server.py:157 | evaluate_round: strategy sampled 30 clients (out of 100)\n",
            "DEBUG:flower:evaluate_round: strategy sampled 30 clients (out of 100)\n"
          ]
        },
        {
          "output_type": "stream",
          "name": "stdout",
          "text": [
            "Saving round 58 aggregated_parameters...\n",
            "\u001b[2m\u001b[36m(launch_and_evaluate pid=3452)\u001b[0m [Client 12] evaluate, config: {}\n",
            "\u001b[2m\u001b[36m(launch_and_evaluate pid=3452)\u001b[0m [Client 3] evaluate, config: {}\n",
            "\u001b[2m\u001b[36m(launch_and_evaluate pid=3452)\u001b[0m [Client 78] evaluate, config: {}\n",
            "\u001b[2m\u001b[36m(launch_and_evaluate pid=3452)\u001b[0m [Client 33] evaluate, config: {}\n",
            "\u001b[2m\u001b[36m(launch_and_fit pid=3452)\u001b[0m [Client 37] fit, config: {'current_round': 58, 'local_epochs': 3}\u001b[32m [repeated 12x across cluster]\u001b[0m\n",
            "\u001b[2m\u001b[36m(launch_and_fit pid=3452)\u001b[0m Epoch 1: train loss 7.942283991724253e-05, accuracy 0.7592592592592593\u001b[32m [repeated 12x across cluster]\u001b[0m\n"
          ]
        },
        {
          "output_type": "stream",
          "name": "stderr",
          "text": [
            "DEBUG flower 2023-07-19 13:21:42,356 | server.py:170 | evaluate_round received 0 results and 30 failures\n",
            "DEBUG:flower:evaluate_round received 0 results and 30 failures\n",
            "DEBUG flower 2023-07-19 13:21:42,362 | server.py:203 | fit_round: strategy sampled 30 clients (out of 100)\n",
            "DEBUG:flower:fit_round: strategy sampled 30 clients (out of 100)\n"
          ]
        },
        {
          "output_type": "stream",
          "name": "stdout",
          "text": [
            "\u001b[2m\u001b[36m(launch_and_evaluate pid=3453)\u001b[0m [Client 67] evaluate, config: {}\u001b[32m [repeated 26x across cluster]\u001b[0m\n",
            "\u001b[2m\u001b[36m(launch_and_fit pid=3452)\u001b[0m [Client 95] fit, config: {'current_round': 59, 'local_epochs': 3}\u001b[32m [repeated 15x across cluster]\u001b[0m\n",
            "\u001b[2m\u001b[36m(launch_and_fit pid=3453)\u001b[0m Epoch 1: train loss 9.058697469299659e-05, accuracy 0.6296296296296297\u001b[32m [repeated 16x across cluster]\u001b[0m\n"
          ]
        },
        {
          "output_type": "stream",
          "name": "stderr",
          "text": [
            "DEBUG flower 2023-07-19 13:21:49,083 | server.py:216 | fit_round received 30 results and 0 failures\n",
            "DEBUG:flower:fit_round received 30 results and 0 failures\n",
            "DEBUG flower 2023-07-19 13:21:49,291 | server.py:157 | evaluate_round: strategy sampled 30 clients (out of 100)\n",
            "DEBUG:flower:evaluate_round: strategy sampled 30 clients (out of 100)\n"
          ]
        },
        {
          "output_type": "stream",
          "name": "stdout",
          "text": [
            "Saving round 59 aggregated_parameters...\n",
            "\u001b[2m\u001b[36m(launch_and_evaluate pid=3452)\u001b[0m [Client 23] evaluate, config: {}\n",
            "\u001b[2m\u001b[36m(launch_and_evaluate pid=3452)\u001b[0m [Client 26] evaluate, config: {}\n",
            "\u001b[2m\u001b[36m(launch_and_fit pid=3452)\u001b[0m [Client 29] fit, config: {'current_round': 59, 'local_epochs': 3}\u001b[32m [repeated 15x across cluster]\u001b[0m\n",
            "\u001b[2m\u001b[36m(launch_and_fit pid=3452)\u001b[0m Epoch 1: train loss 0.00010453257709741592, accuracy 0.5\u001b[32m [repeated 14x across cluster]\u001b[0m\n",
            "\u001b[2m\u001b[36m(launch_and_evaluate pid=3453)\u001b[0m [Client 37] evaluate, config: {}\u001b[32m [repeated 20x across cluster]\u001b[0m\n"
          ]
        },
        {
          "output_type": "stream",
          "name": "stderr",
          "text": [
            "DEBUG flower 2023-07-19 13:21:56,419 | server.py:170 | evaluate_round received 0 results and 30 failures\n",
            "DEBUG:flower:evaluate_round received 0 results and 30 failures\n",
            "DEBUG flower 2023-07-19 13:21:56,429 | server.py:203 | fit_round: strategy sampled 30 clients (out of 100)\n",
            "DEBUG:flower:fit_round: strategy sampled 30 clients (out of 100)\n"
          ]
        },
        {
          "output_type": "stream",
          "name": "stdout",
          "text": [
            "\u001b[2m\u001b[36m(launch_and_fit pid=3452)\u001b[0m [Client 96] fit, config: {'current_round': 60, 'local_epochs': 3}\n",
            "\u001b[2m\u001b[36m(launch_and_fit pid=3452)\u001b[0m Epoch 1: train loss 7.643512799404562e-05, accuracy 0.7407407407407407\n",
            "\u001b[2m\u001b[36m(launch_and_evaluate pid=3452)\u001b[0m [Client 47] evaluate, config: {}\u001b[32m [repeated 8x across cluster]\u001b[0m\n"
          ]
        },
        {
          "output_type": "stream",
          "name": "stderr",
          "text": [
            "DEBUG flower 2023-07-19 13:22:01,782 | server.py:216 | fit_round received 30 results and 0 failures\n",
            "DEBUG:flower:fit_round received 30 results and 0 failures\n",
            "DEBUG flower 2023-07-19 13:22:01,882 | server.py:157 | evaluate_round: strategy sampled 30 clients (out of 100)\n",
            "DEBUG:flower:evaluate_round: strategy sampled 30 clients (out of 100)\n"
          ]
        },
        {
          "output_type": "stream",
          "name": "stdout",
          "text": [
            "Saving round 60 aggregated_parameters...\n",
            "\u001b[2m\u001b[36m(launch_and_fit pid=3453)\u001b[0m [Client 77] fit, config: {'current_round': 60, 'local_epochs': 3}\u001b[32m [repeated 29x across cluster]\u001b[0m\n",
            "\u001b[2m\u001b[36m(launch_and_fit pid=3453)\u001b[0m Epoch 1: train loss 9.258438512915745e-05, accuracy 0.6666666666666666\u001b[32m [repeated 29x across cluster]\u001b[0m\n",
            "\u001b[2m\u001b[36m(launch_and_evaluate pid=3452)\u001b[0m [Client 15] evaluate, config: {}\u001b[32m [repeated 22x across cluster]\u001b[0m\n"
          ]
        },
        {
          "output_type": "stream",
          "name": "stderr",
          "text": [
            "DEBUG flower 2023-07-19 13:22:06,249 | server.py:170 | evaluate_round received 0 results and 30 failures\n",
            "DEBUG:flower:evaluate_round received 0 results and 30 failures\n",
            "DEBUG flower 2023-07-19 13:22:06,256 | server.py:203 | fit_round: strategy sampled 30 clients (out of 100)\n",
            "DEBUG:flower:fit_round: strategy sampled 30 clients (out of 100)\n"
          ]
        },
        {
          "output_type": "stream",
          "name": "stdout",
          "text": [
            "\u001b[2m\u001b[36m(launch_and_fit pid=3452)\u001b[0m [Client 11] fit, config: {'current_round': 61, 'local_epochs': 3}\u001b[32m [repeated 3x across cluster]\u001b[0m\n",
            "\u001b[2m\u001b[36m(launch_and_fit pid=3453)\u001b[0m Epoch 1: train loss 7.239037222461775e-05, accuracy 0.7962962962962963\u001b[32m [repeated 2x across cluster]\u001b[0m\n",
            "\u001b[2m\u001b[36m(launch_and_evaluate pid=3453)\u001b[0m [Client 26] evaluate, config: {}\u001b[32m [repeated 8x across cluster]\u001b[0m\n",
            "\u001b[2m\u001b[36m(launch_and_fit pid=3452)\u001b[0m [Client 77] fit, config: {'current_round': 61, 'local_epochs': 3}\u001b[32m [repeated 17x across cluster]\u001b[0m\n",
            "\u001b[2m\u001b[36m(launch_and_fit pid=3452)\u001b[0m Epoch 1: train loss 9.24258420127444e-05, accuracy 0.6296296296296297\u001b[32m [repeated 18x across cluster]\u001b[0m\n"
          ]
        },
        {
          "output_type": "stream",
          "name": "stderr",
          "text": [
            "DEBUG flower 2023-07-19 13:22:15,017 | server.py:216 | fit_round received 30 results and 0 failures\n",
            "DEBUG:flower:fit_round received 30 results and 0 failures\n",
            "DEBUG flower 2023-07-19 13:22:15,172 | server.py:157 | evaluate_round: strategy sampled 30 clients (out of 100)\n",
            "DEBUG:flower:evaluate_round: strategy sampled 30 clients (out of 100)\n"
          ]
        },
        {
          "output_type": "stream",
          "name": "stdout",
          "text": [
            "Saving round 61 aggregated_parameters...\n",
            "\u001b[2m\u001b[36m(launch_and_evaluate pid=3452)\u001b[0m [Client 64] evaluate, config: {}\n",
            "\u001b[2m\u001b[36m(launch_and_evaluate pid=3453)\u001b[0m [Client 53] evaluate, config: {}\n",
            "\u001b[2m\u001b[36m(launch_and_evaluate pid=3453)\u001b[0m [Client 18] evaluate, config: {}\n",
            "\u001b[2m\u001b[36m(launch_and_fit pid=3452)\u001b[0m [Client 69] fit, config: {'current_round': 61, 'local_epochs': 3}\u001b[32m [repeated 10x across cluster]\u001b[0m\n",
            "\u001b[2m\u001b[36m(launch_and_fit pid=3452)\u001b[0m Epoch 1: train loss 7.898784679127857e-05, accuracy 0.7222222222222222\u001b[32m [repeated 10x across cluster]\u001b[0m\n"
          ]
        },
        {
          "output_type": "stream",
          "name": "stderr",
          "text": [
            "DEBUG flower 2023-07-19 13:22:20,283 | server.py:170 | evaluate_round received 0 results and 30 failures\n",
            "DEBUG:flower:evaluate_round received 0 results and 30 failures\n",
            "DEBUG flower 2023-07-19 13:22:20,289 | server.py:203 | fit_round: strategy sampled 30 clients (out of 100)\n",
            "DEBUG:flower:fit_round: strategy sampled 30 clients (out of 100)\n"
          ]
        },
        {
          "output_type": "stream",
          "name": "stdout",
          "text": [
            "\u001b[2m\u001b[36m(launch_and_evaluate pid=3453)\u001b[0m [Client 35] evaluate, config: {}\u001b[32m [repeated 27x across cluster]\u001b[0m\n",
            "\u001b[2m\u001b[36m(launch_and_fit pid=3452)\u001b[0m [Client 58] fit, config: {'current_round': 62, 'local_epochs': 3}\u001b[32m [repeated 10x across cluster]\u001b[0m\n",
            "\u001b[2m\u001b[36m(launch_and_fit pid=3452)\u001b[0m Epoch 1: train loss 9.028700878843665e-05, accuracy 0.5740740740740741\u001b[32m [repeated 10x across cluster]\u001b[0m\n"
          ]
        },
        {
          "output_type": "stream",
          "name": "stderr",
          "text": [
            "DEBUG flower 2023-07-19 13:22:26,043 | server.py:216 | fit_round received 30 results and 0 failures\n",
            "DEBUG:flower:fit_round received 30 results and 0 failures\n",
            "DEBUG flower 2023-07-19 13:22:26,134 | server.py:157 | evaluate_round: strategy sampled 30 clients (out of 100)\n",
            "DEBUG:flower:evaluate_round: strategy sampled 30 clients (out of 100)\n"
          ]
        },
        {
          "output_type": "stream",
          "name": "stdout",
          "text": [
            "Saving round 62 aggregated_parameters...\n",
            "\u001b[2m\u001b[36m(launch_and_evaluate pid=3452)\u001b[0m [Client 31] evaluate, config: {}\n",
            "\u001b[2m\u001b[36m(launch_and_evaluate pid=3452)\u001b[0m [Client 33] evaluate, config: {}\n",
            "\u001b[2m\u001b[36m(launch_and_fit pid=3453)\u001b[0m [Client 99] fit, config: {'current_round': 62, 'local_epochs': 3}\u001b[32m [repeated 20x across cluster]\u001b[0m\n",
            "\u001b[2m\u001b[36m(launch_and_fit pid=3452)\u001b[0m Epoch 1: train loss 8.985281601781026e-05, accuracy 0.6851851851851852\u001b[32m [repeated 20x across cluster]\u001b[0m\n",
            "\u001b[2m\u001b[36m(launch_and_evaluate pid=3452)\u001b[0m [Client 47] evaluate, config: {}\u001b[32m [repeated 19x across cluster]\u001b[0m\n"
          ]
        },
        {
          "output_type": "stream",
          "name": "stderr",
          "text": [
            "DEBUG flower 2023-07-19 13:22:34,080 | server.py:170 | evaluate_round received 0 results and 30 failures\n",
            "DEBUG:flower:evaluate_round received 0 results and 30 failures\n",
            "DEBUG flower 2023-07-19 13:22:34,090 | server.py:203 | fit_round: strategy sampled 30 clients (out of 100)\n",
            "DEBUG:flower:fit_round: strategy sampled 30 clients (out of 100)\n"
          ]
        },
        {
          "output_type": "stream",
          "name": "stdout",
          "text": [
            "\u001b[2m\u001b[36m(launch_and_fit pid=3453)\u001b[0m [Client 50] fit, config: {'current_round': 63, 'local_epochs': 3}\n",
            "\u001b[2m\u001b[36m(launch_and_fit pid=3452)\u001b[0m Epoch 1: train loss 0.00010216089140158147, accuracy 0.5\n",
            "\u001b[2m\u001b[36m(launch_and_evaluate pid=3453)\u001b[0m [Client 89] evaluate, config: {}\u001b[32m [repeated 9x across cluster]\u001b[0m\n",
            "\u001b[2m\u001b[36m(launch_and_fit pid=3453)\u001b[0m [Client 72] fit, config: {'current_round': 63, 'local_epochs': 3}\u001b[32m [repeated 22x across cluster]\u001b[0m\n",
            "\u001b[2m\u001b[36m(launch_and_fit pid=3452)\u001b[0m Epoch 1: train loss 0.00014341565838549286, accuracy 0.4074074074074074\u001b[32m [repeated 23x across cluster]\u001b[0m\n"
          ]
        },
        {
          "output_type": "stream",
          "name": "stderr",
          "text": [
            "DEBUG flower 2023-07-19 13:22:41,392 | server.py:216 | fit_round received 30 results and 0 failures\n",
            "DEBUG:flower:fit_round received 30 results and 0 failures\n",
            "DEBUG flower 2023-07-19 13:22:41,489 | server.py:157 | evaluate_round: strategy sampled 30 clients (out of 100)\n",
            "DEBUG:flower:evaluate_round: strategy sampled 30 clients (out of 100)\n"
          ]
        },
        {
          "output_type": "stream",
          "name": "stdout",
          "text": [
            "Saving round 63 aggregated_parameters...\n",
            "\u001b[2m\u001b[36m(launch_and_evaluate pid=3453)\u001b[0m [Client 1] evaluate, config: {}\u001b[32m [repeated 3x across cluster]\u001b[0m\n",
            "\u001b[2m\u001b[36m(launch_and_fit pid=3452)\u001b[0m [Client 62] fit, config: {'current_round': 63, 'local_epochs': 3}\u001b[32m [repeated 7x across cluster]\u001b[0m\n",
            "\u001b[2m\u001b[36m(launch_and_fit pid=3452)\u001b[0m Epoch 1: train loss 7.607673614984378e-05, accuracy 0.6851851851851852\u001b[32m [repeated 6x across cluster]\u001b[0m\n"
          ]
        },
        {
          "output_type": "stream",
          "name": "stderr",
          "text": [
            "DEBUG flower 2023-07-19 13:22:46,488 | server.py:170 | evaluate_round received 0 results and 30 failures\n",
            "DEBUG:flower:evaluate_round received 0 results and 30 failures\n",
            "DEBUG flower 2023-07-19 13:22:46,495 | server.py:203 | fit_round: strategy sampled 30 clients (out of 100)\n",
            "DEBUG:flower:fit_round: strategy sampled 30 clients (out of 100)\n"
          ]
        },
        {
          "output_type": "stream",
          "name": "stdout",
          "text": [
            "\u001b[2m\u001b[36m(launch_and_evaluate pid=3453)\u001b[0m [Client 39] evaluate, config: {}\u001b[32m [repeated 27x across cluster]\u001b[0m\n",
            "\u001b[2m\u001b[36m(launch_and_fit pid=3452)\u001b[0m [Client 72] fit, config: {'current_round': 64, 'local_epochs': 3}\u001b[32m [repeated 13x across cluster]\u001b[0m\n",
            "\u001b[2m\u001b[36m(launch_and_fit pid=3452)\u001b[0m Epoch 1: train loss 7.700970309088007e-05, accuracy 0.6851851851851852\u001b[32m [repeated 13x across cluster]\u001b[0m\n"
          ]
        },
        {
          "output_type": "stream",
          "name": "stderr",
          "text": [
            "DEBUG flower 2023-07-19 13:22:55,507 | server.py:216 | fit_round received 30 results and 0 failures\n",
            "DEBUG:flower:fit_round received 30 results and 0 failures\n",
            "DEBUG flower 2023-07-19 13:22:55,645 | server.py:157 | evaluate_round: strategy sampled 30 clients (out of 100)\n",
            "DEBUG:flower:evaluate_round: strategy sampled 30 clients (out of 100)\n"
          ]
        },
        {
          "output_type": "stream",
          "name": "stdout",
          "text": [
            "\u001b[2m\u001b[36m(launch_and_fit pid=3453)\u001b[0m [Client 79] fit, config: {'current_round': 64, 'local_epochs': 3}\u001b[32m [repeated 17x across cluster]\u001b[0m\n",
            "Saving round 64 aggregated_parameters...\n",
            "\u001b[2m\u001b[36m(launch_and_evaluate pid=3452)\u001b[0m [Client 36] evaluate, config: {}\n",
            "\u001b[2m\u001b[36m(launch_and_fit pid=3453)\u001b[0m Epoch 1: train loss 8.4383696957957e-05, accuracy 0.6851851851851852\u001b[32m [repeated 17x across cluster]\u001b[0m\n"
          ]
        },
        {
          "output_type": "stream",
          "name": "stderr",
          "text": [
            "DEBUG flower 2023-07-19 13:23:01,487 | server.py:170 | evaluate_round received 0 results and 30 failures\n",
            "DEBUG:flower:evaluate_round received 0 results and 30 failures\n",
            "DEBUG flower 2023-07-19 13:23:01,497 | server.py:203 | fit_round: strategy sampled 30 clients (out of 100)\n",
            "DEBUG:flower:fit_round: strategy sampled 30 clients (out of 100)\n"
          ]
        },
        {
          "output_type": "stream",
          "name": "stdout",
          "text": [
            "\u001b[2m\u001b[36m(launch_and_fit pid=3452)\u001b[0m [Client 50] fit, config: {'current_round': 65, 'local_epochs': 3}\n",
            "\u001b[2m\u001b[36m(launch_and_evaluate pid=3453)\u001b[0m [Client 12] evaluate, config: {}\u001b[32m [repeated 29x across cluster]\u001b[0m\n",
            "\u001b[2m\u001b[36m(launch_and_fit pid=3452)\u001b[0m Epoch 1: train loss 9.118119487538934e-05, accuracy 0.6481481481481481\n"
          ]
        },
        {
          "output_type": "stream",
          "name": "stderr",
          "text": [
            "DEBUG flower 2023-07-19 13:23:06,768 | server.py:216 | fit_round received 30 results and 0 failures\n",
            "DEBUG:flower:fit_round received 30 results and 0 failures\n",
            "DEBUG flower 2023-07-19 13:23:06,863 | server.py:157 | evaluate_round: strategy sampled 30 clients (out of 100)\n",
            "DEBUG:flower:evaluate_round: strategy sampled 30 clients (out of 100)\n"
          ]
        },
        {
          "output_type": "stream",
          "name": "stdout",
          "text": [
            "Saving round 65 aggregated_parameters...\n",
            "\u001b[2m\u001b[36m(launch_and_fit pid=3452)\u001b[0m [Client 98] fit, config: {'current_round': 65, 'local_epochs': 3}\u001b[32m [repeated 29x across cluster]\u001b[0m\n",
            "\u001b[2m\u001b[36m(launch_and_evaluate pid=3452)\u001b[0m [Client 4] evaluate, config: {}\n",
            "\u001b[2m\u001b[36m(launch_and_fit pid=3453)\u001b[0m Epoch 1: train loss 9.279457299271598e-05, accuracy 0.5740740740740741\u001b[32m [repeated 29x across cluster]\u001b[0m\n",
            "\u001b[2m\u001b[36m(launch_and_evaluate pid=3453)\u001b[0m [Client 59] evaluate, config: {}\n"
          ]
        },
        {
          "output_type": "stream",
          "name": "stderr",
          "text": [
            "DEBUG flower 2023-07-19 13:23:13,056 | server.py:170 | evaluate_round received 0 results and 30 failures\n",
            "DEBUG:flower:evaluate_round received 0 results and 30 failures\n",
            "DEBUG flower 2023-07-19 13:23:13,071 | server.py:203 | fit_round: strategy sampled 30 clients (out of 100)\n",
            "DEBUG:flower:fit_round: strategy sampled 30 clients (out of 100)\n"
          ]
        },
        {
          "output_type": "stream",
          "name": "stdout",
          "text": [
            "\u001b[2m\u001b[36m(launch_and_evaluate pid=3452)\u001b[0m [Client 60] evaluate, config: {}\u001b[32m [repeated 27x across cluster]\u001b[0m\n",
            "\u001b[2m\u001b[36m(launch_and_fit pid=3453)\u001b[0m [Client 88] fit, config: {'current_round': 66, 'local_epochs': 3}\n",
            "\u001b[2m\u001b[36m(launch_and_fit pid=3452)\u001b[0m Epoch 1: train loss 7.024875230854377e-05, accuracy 0.7222222222222222\n",
            "\u001b[2m\u001b[36m(launch_and_evaluate pid=3453)\u001b[0m [Client 36] fit, config: {'current_round': 66, 'local_epochs': 3}\n",
            "\u001b[2m\u001b[36m(launch_and_fit pid=3452)\u001b[0m [Client 39] fit, config: {'current_round': 66, 'local_epochs': 3}\u001b[32m [repeated 16x across cluster]\u001b[0m\n",
            "\u001b[2m\u001b[36m(launch_and_fit pid=3452)\u001b[0m Epoch 1: train loss 9.158825560007244e-05, accuracy 0.6666666666666666\u001b[32m [repeated 18x across cluster]\u001b[0m\n"
          ]
        },
        {
          "output_type": "stream",
          "name": "stderr",
          "text": [
            "DEBUG flower 2023-07-19 13:23:21,342 | server.py:216 | fit_round received 30 results and 0 failures\n",
            "DEBUG:flower:fit_round received 30 results and 0 failures\n",
            "DEBUG flower 2023-07-19 13:23:21,443 | server.py:157 | evaluate_round: strategy sampled 30 clients (out of 100)\n",
            "DEBUG:flower:evaluate_round: strategy sampled 30 clients (out of 100)\n"
          ]
        },
        {
          "output_type": "stream",
          "name": "stdout",
          "text": [
            "Saving round 66 aggregated_parameters...\n",
            "\u001b[2m\u001b[36m(launch_and_evaluate pid=3453)\u001b[0m [Client 51] evaluate, config: {}\n",
            "\u001b[2m\u001b[36m(launch_and_fit pid=3453)\u001b[0m [Client 33] fit, config: {'current_round': 66, 'local_epochs': 3}\u001b[32m [repeated 13x across cluster]\u001b[0m\n"
          ]
        },
        {
          "output_type": "stream",
          "name": "stderr",
          "text": [
            "DEBUG flower 2023-07-19 13:23:26,025 | server.py:170 | evaluate_round received 0 results and 30 failures\n",
            "DEBUG:flower:evaluate_round received 0 results and 30 failures\n",
            "DEBUG flower 2023-07-19 13:23:26,030 | server.py:203 | fit_round: strategy sampled 30 clients (out of 100)\n",
            "DEBUG:flower:fit_round: strategy sampled 30 clients (out of 100)\n"
          ]
        },
        {
          "output_type": "stream",
          "name": "stdout",
          "text": [
            "\u001b[2m\u001b[36m(launch_and_fit pid=3453)\u001b[0m Epoch 1: train loss 8.930503827286884e-05, accuracy 0.7037037037037037\u001b[32m [repeated 11x across cluster]\u001b[0m\n",
            "\u001b[2m\u001b[36m(launch_and_evaluate pid=3453)\u001b[0m [Client 72] evaluate, config: {}\u001b[32m [repeated 29x across cluster]\u001b[0m\n",
            "\u001b[2m\u001b[36m(launch_and_fit pid=3452)\u001b[0m [Client 57] fit, config: {'current_round': 67, 'local_epochs': 3}\u001b[32m [repeated 14x across cluster]\u001b[0m\n",
            "\u001b[2m\u001b[36m(launch_and_fit pid=3452)\u001b[0m Epoch 1: train loss 9.240962390322238e-05, accuracy 0.5740740740740741\u001b[32m [repeated 14x across cluster]\u001b[0m\n"
          ]
        },
        {
          "output_type": "stream",
          "name": "stderr",
          "text": [
            "DEBUG flower 2023-07-19 13:23:33,443 | server.py:216 | fit_round received 30 results and 0 failures\n",
            "DEBUG:flower:fit_round received 30 results and 0 failures\n",
            "DEBUG flower 2023-07-19 13:23:33,583 | server.py:157 | evaluate_round: strategy sampled 30 clients (out of 100)\n",
            "DEBUG:flower:evaluate_round: strategy sampled 30 clients (out of 100)\n"
          ]
        },
        {
          "output_type": "stream",
          "name": "stdout",
          "text": [
            "Saving round 67 aggregated_parameters...\n",
            "\u001b[2m\u001b[36m(launch_and_evaluate pid=3452)\u001b[0m [Client 68] evaluate, config: {}\n",
            "\u001b[2m\u001b[36m(launch_and_fit pid=3452)\u001b[0m [Client 93] fit, config: {'current_round': 67, 'local_epochs': 3}\u001b[32m [repeated 16x across cluster]\u001b[0m\n",
            "\u001b[2m\u001b[36m(launch_and_fit pid=3452)\u001b[0m Epoch 1: train loss 8.492265624227002e-05, accuracy 0.6666666666666666\u001b[32m [repeated 16x across cluster]\u001b[0m\n",
            "\u001b[2m\u001b[36m(launch_and_evaluate pid=3452)\u001b[0m [Client 0] evaluate, config: {}\u001b[32m [repeated 25x across cluster]\u001b[0m\n"
          ]
        },
        {
          "output_type": "stream",
          "name": "stderr",
          "text": [
            "DEBUG flower 2023-07-19 13:23:40,204 | server.py:170 | evaluate_round received 0 results and 30 failures\n",
            "DEBUG:flower:evaluate_round received 0 results and 30 failures\n",
            "DEBUG flower 2023-07-19 13:23:40,216 | server.py:203 | fit_round: strategy sampled 30 clients (out of 100)\n",
            "DEBUG:flower:fit_round: strategy sampled 30 clients (out of 100)\n"
          ]
        },
        {
          "output_type": "stream",
          "name": "stdout",
          "text": [
            "\u001b[2m\u001b[36m(launch_and_fit pid=3452)\u001b[0m [Client 68] fit, config: {'current_round': 68, 'local_epochs': 3}\n",
            "\u001b[2m\u001b[36m(launch_and_fit pid=3452)\u001b[0m Epoch 1: train loss 6.861708243377507e-05, accuracy 0.7777777777777778\n",
            "\u001b[2m\u001b[36m(launch_and_evaluate pid=3452)\u001b[0m [Client 93] evaluate, config: {}\u001b[32m [repeated 4x across cluster]\u001b[0m\n",
            "\u001b[2m\u001b[36m(launch_and_fit pid=3452)\u001b[0m [Client 96] fit, config: {'current_round': 68, 'local_epochs': 3}\u001b[32m [repeated 21x across cluster]\u001b[0m\n",
            "\u001b[2m\u001b[36m(launch_and_fit pid=3452)\u001b[0m Epoch 1: train loss 9.016982949106023e-05, accuracy 0.6851851851851852\u001b[32m [repeated 20x across cluster]\u001b[0m\n"
          ]
        },
        {
          "output_type": "stream",
          "name": "stderr",
          "text": [
            "DEBUG flower 2023-07-19 13:23:47,745 | server.py:216 | fit_round received 30 results and 0 failures\n",
            "DEBUG:flower:fit_round received 30 results and 0 failures\n",
            "DEBUG flower 2023-07-19 13:23:47,887 | server.py:157 | evaluate_round: strategy sampled 30 clients (out of 100)\n",
            "DEBUG:flower:evaluate_round: strategy sampled 30 clients (out of 100)\n"
          ]
        },
        {
          "output_type": "stream",
          "name": "stdout",
          "text": [
            "Saving round 68 aggregated_parameters...\n",
            "\u001b[2m\u001b[36m(launch_and_evaluate pid=3452)\u001b[0m [Client 7] evaluate, config: {}\u001b[32m [repeated 6x across cluster]\u001b[0m\n",
            "\u001b[2m\u001b[36m(launch_and_fit pid=3452)\u001b[0m [Client 43] fit, config: {'current_round': 68, 'local_epochs': 3}\u001b[32m [repeated 8x across cluster]\u001b[0m\n",
            "\u001b[2m\u001b[36m(launch_and_fit pid=3453)\u001b[0m Epoch 1: train loss 0.00010807382932398468, accuracy 0.6296296296296297\u001b[32m [repeated 9x across cluster]\u001b[0m\n",
            "\u001b[2m\u001b[36m(launch_and_evaluate pid=3452)\u001b[0m [Client 84] evaluate, config: {}\u001b[32m [repeated 22x across cluster]\u001b[0m\n"
          ]
        },
        {
          "output_type": "stream",
          "name": "stderr",
          "text": [
            "DEBUG flower 2023-07-19 13:23:55,623 | server.py:170 | evaluate_round received 0 results and 30 failures\n",
            "DEBUG:flower:evaluate_round received 0 results and 30 failures\n",
            "DEBUG flower 2023-07-19 13:23:55,630 | server.py:203 | fit_round: strategy sampled 30 clients (out of 100)\n",
            "DEBUG:flower:fit_round: strategy sampled 30 clients (out of 100)\n"
          ]
        },
        {
          "output_type": "stream",
          "name": "stdout",
          "text": [
            "\u001b[2m\u001b[36m(launch_and_fit pid=3452)\u001b[0m [Client 23] fit, config: {'current_round': 69, 'local_epochs': 3}\n",
            "\u001b[2m\u001b[36m(launch_and_fit pid=3453)\u001b[0m [Client 41] fit, config: {'current_round': 69, 'local_epochs': 3}\n",
            "\u001b[2m\u001b[36m(launch_and_fit pid=3452)\u001b[0m Epoch 1: train loss 9.989937825594097e-05, accuracy 0.6111111111111112\n",
            "\u001b[2m\u001b[36m(launch_and_fit pid=3453)\u001b[0m \n",
            "\u001b[2m\u001b[36m(launch_and_evaluate pid=3452)\u001b[0m [Client 76] evaluate, config: {}\u001b[32m [repeated 2x across cluster]\u001b[0m\n",
            "\u001b[2m\u001b[36m(launch_and_fit pid=3453)\u001b[0m [Client 73] fit, config: {'current_round': 69, 'local_epochs': 3}\u001b[32m [repeated 18x across cluster]\u001b[0m\n",
            "\u001b[2m\u001b[36m(launch_and_fit pid=3452)\u001b[0m Epoch 1: train loss 7.182281115092337e-05, accuracy 0.6851851851851852\u001b[32m [repeated 18x across cluster]\u001b[0m\n"
          ]
        },
        {
          "output_type": "stream",
          "name": "stderr",
          "text": [
            "DEBUG flower 2023-07-19 13:24:03,391 | server.py:216 | fit_round received 30 results and 0 failures\n",
            "DEBUG:flower:fit_round received 30 results and 0 failures\n",
            "DEBUG flower 2023-07-19 13:24:03,498 | server.py:157 | evaluate_round: strategy sampled 30 clients (out of 100)\n",
            "DEBUG:flower:evaluate_round: strategy sampled 30 clients (out of 100)\n"
          ]
        },
        {
          "output_type": "stream",
          "name": "stdout",
          "text": [
            "Saving round 69 aggregated_parameters...\n",
            "\u001b[2m\u001b[36m(launch_and_evaluate pid=3452)\u001b[0m [Client 10] evaluate, config: {}\u001b[32m [repeated 7x across cluster]\u001b[0m\n",
            "\u001b[2m\u001b[36m(launch_and_fit pid=3452)\u001b[0m [Client 81] fit, config: {'current_round': 69, 'local_epochs': 3}\u001b[32m [repeated 10x across cluster]\u001b[0m\n",
            "\u001b[2m\u001b[36m(launch_and_fit pid=3452)\u001b[0m Epoch 1: train loss 0.00010791161912493408, accuracy 0.5740740740740741\u001b[32m [repeated 11x across cluster]\u001b[0m\n"
          ]
        },
        {
          "output_type": "stream",
          "name": "stderr",
          "text": [
            "DEBUG flower 2023-07-19 13:24:08,818 | server.py:170 | evaluate_round received 0 results and 30 failures\n",
            "DEBUG:flower:evaluate_round received 0 results and 30 failures\n",
            "DEBUG flower 2023-07-19 13:24:08,825 | server.py:203 | fit_round: strategy sampled 30 clients (out of 100)\n",
            "DEBUG:flower:fit_round: strategy sampled 30 clients (out of 100)\n"
          ]
        },
        {
          "output_type": "stream",
          "name": "stdout",
          "text": [
            "\u001b[2m\u001b[36m(launch_and_evaluate pid=3453)\u001b[0m [Client 64] evaluate, config: {}\u001b[32m [repeated 23x across cluster]\u001b[0m\n",
            "\u001b[2m\u001b[36m(launch_and_fit pid=3452)\u001b[0m [Client 99] fit, config: {'current_round': 70, 'local_epochs': 3}\u001b[32m [repeated 14x across cluster]\u001b[0m\n",
            "\u001b[2m\u001b[36m(launch_and_fit pid=3453)\u001b[0m Epoch 1: train loss 0.00010370930249337107, accuracy 0.6666666666666666\u001b[32m [repeated 13x across cluster]\u001b[0m\n"
          ]
        },
        {
          "output_type": "stream",
          "name": "stderr",
          "text": [
            "DEBUG flower 2023-07-19 13:24:15,887 | server.py:216 | fit_round received 30 results and 0 failures\n",
            "DEBUG:flower:fit_round received 30 results and 0 failures\n",
            "DEBUG flower 2023-07-19 13:24:16,025 | server.py:157 | evaluate_round: strategy sampled 30 clients (out of 100)\n",
            "DEBUG:flower:evaluate_round: strategy sampled 30 clients (out of 100)\n"
          ]
        },
        {
          "output_type": "stream",
          "name": "stdout",
          "text": [
            "Saving round 70 aggregated_parameters...\n",
            "\u001b[2m\u001b[36m(launch_and_evaluate pid=3452)\u001b[0m [Client 9] evaluate, config: {}\n",
            "\u001b[2m\u001b[36m(launch_and_fit pid=3452)\u001b[0m [Client 28] fit, config: {'current_round': 70, 'local_epochs': 3}\u001b[32m [repeated 16x across cluster]\u001b[0m\n",
            "\u001b[2m\u001b[36m(launch_and_fit pid=3452)\u001b[0m Epoch 1: train loss 9.019050776259974e-05, accuracy 0.6296296296296297\u001b[32m [repeated 17x across cluster]\u001b[0m\n",
            "\u001b[2m\u001b[36m(launch_and_evaluate pid=3452)\u001b[0m [Client 84] evaluate, config: {}\u001b[32m [repeated 22x across cluster]\u001b[0m\n"
          ]
        },
        {
          "output_type": "stream",
          "name": "stderr",
          "text": [
            "DEBUG flower 2023-07-19 13:24:22,859 | server.py:170 | evaluate_round received 0 results and 30 failures\n",
            "DEBUG:flower:evaluate_round received 0 results and 30 failures\n",
            "DEBUG flower 2023-07-19 13:24:22,866 | server.py:203 | fit_round: strategy sampled 30 clients (out of 100)\n",
            "DEBUG:flower:fit_round: strategy sampled 30 clients (out of 100)\n"
          ]
        },
        {
          "output_type": "stream",
          "name": "stdout",
          "text": [
            "\u001b[2m\u001b[36m(launch_and_fit pid=3452)\u001b[0m [Client 60] fit, config: {'current_round': 71, 'local_epochs': 3}\n",
            "\u001b[2m\u001b[36m(launch_and_fit pid=3452)\u001b[0m Epoch 1: train loss 9.4544084277004e-05, accuracy 0.5740740740740741\n",
            "\u001b[2m\u001b[36m(launch_and_evaluate pid=3453)\u001b[0m [Client 54] evaluate, config: {}\u001b[32m [repeated 7x across cluster]\u001b[0m\n"
          ]
        },
        {
          "output_type": "stream",
          "name": "stderr",
          "text": [
            "DEBUG flower 2023-07-19 13:24:28,800 | server.py:216 | fit_round received 30 results and 0 failures\n",
            "DEBUG:flower:fit_round received 30 results and 0 failures\n",
            "DEBUG flower 2023-07-19 13:24:28,918 | server.py:157 | evaluate_round: strategy sampled 30 clients (out of 100)\n",
            "DEBUG:flower:evaluate_round: strategy sampled 30 clients (out of 100)\n"
          ]
        },
        {
          "output_type": "stream",
          "name": "stdout",
          "text": [
            "\u001b[2m\u001b[36m(launch_and_fit pid=3452)\u001b[0m [Client 17] fit, config: {'current_round': 71, 'local_epochs': 3}\u001b[32m [repeated 28x across cluster]\u001b[0m\n",
            "\u001b[2m\u001b[36m(launch_and_fit pid=3453)\u001b[0m Epoch 1: train loss 0.00010427291272208095, accuracy 0.5185185185185185\u001b[32m [repeated 29x across cluster]\u001b[0m\n",
            "Saving round 71 aggregated_parameters...\n",
            "\u001b[2m\u001b[36m(launch_and_evaluate pid=3453)\u001b[0m [Client 37] evaluate, config: {}\u001b[32m [repeated 19x across cluster]\u001b[0m\n"
          ]
        },
        {
          "output_type": "stream",
          "name": "stderr",
          "text": [
            "DEBUG flower 2023-07-19 13:24:33,946 | server.py:170 | evaluate_round received 0 results and 30 failures\n",
            "DEBUG:flower:evaluate_round received 0 results and 30 failures\n",
            "DEBUG flower 2023-07-19 13:24:33,950 | server.py:203 | fit_round: strategy sampled 30 clients (out of 100)\n",
            "DEBUG:flower:fit_round: strategy sampled 30 clients (out of 100)\n"
          ]
        },
        {
          "output_type": "stream",
          "name": "stdout",
          "text": [
            "\u001b[2m\u001b[36m(launch_and_fit pid=3453)\u001b[0m [Client 51] evaluate, config: {}\n",
            "\u001b[2m\u001b[36m(launch_and_fit pid=3452)\u001b[0m [Client 40] fit, config: {'current_round': 72, 'local_epochs': 3}\n",
            "\u001b[2m\u001b[36m(launch_and_fit pid=3452)\u001b[0m Epoch 1: train loss 8.082220301730558e-05, accuracy 0.7037037037037037\n",
            "\u001b[2m\u001b[36m(launch_and_evaluate pid=3453)\u001b[0m [Client 11] evaluate, config: {}\u001b[32m [repeated 11x across cluster]\u001b[0m\n",
            "\u001b[2m\u001b[36m(launch_and_fit pid=3452)\u001b[0m [Client 1] fit, config: {'current_round': 72, 'local_epochs': 3}\u001b[32m [repeated 19x across cluster]\u001b[0m\n",
            "\u001b[2m\u001b[36m(launch_and_fit pid=3452)\u001b[0m Epoch 1: train loss 9.270154259866104e-05, accuracy 0.6296296296296297\u001b[32m [repeated 19x across cluster]\u001b[0m\n"
          ]
        },
        {
          "output_type": "stream",
          "name": "stderr",
          "text": [
            "DEBUG flower 2023-07-19 13:24:42,454 | server.py:216 | fit_round received 30 results and 0 failures\n",
            "DEBUG:flower:fit_round received 30 results and 0 failures\n",
            "DEBUG flower 2023-07-19 13:24:42,594 | server.py:157 | evaluate_round: strategy sampled 30 clients (out of 100)\n",
            "DEBUG:flower:evaluate_round: strategy sampled 30 clients (out of 100)\n"
          ]
        },
        {
          "output_type": "stream",
          "name": "stdout",
          "text": [
            "Saving round 72 aggregated_parameters...\n",
            "\u001b[2m\u001b[36m(launch_and_evaluate pid=3452)\u001b[0m [Client 42] evaluate, config: {}\n",
            "\u001b[2m\u001b[36m(launch_and_evaluate pid=3452)\u001b[0m [Client 37] evaluate, config: {}\n",
            "\u001b[2m\u001b[36m(launch_and_fit pid=3452)\u001b[0m [Client 9] fit, config: {'current_round': 72, 'local_epochs': 3}\u001b[32m [repeated 10x across cluster]\u001b[0m\n",
            "\u001b[2m\u001b[36m(launch_and_fit pid=3452)\u001b[0m Epoch 1: train loss 0.0001115490886149928, accuracy 0.5185185185185185\u001b[32m [repeated 10x across cluster]\u001b[0m\n"
          ]
        },
        {
          "output_type": "stream",
          "name": "stderr",
          "text": [
            "DEBUG flower 2023-07-19 13:24:47,344 | server.py:170 | evaluate_round received 0 results and 30 failures\n",
            "DEBUG:flower:evaluate_round received 0 results and 30 failures\n",
            "DEBUG flower 2023-07-19 13:24:47,349 | server.py:203 | fit_round: strategy sampled 30 clients (out of 100)\n",
            "DEBUG:flower:fit_round: strategy sampled 30 clients (out of 100)\n"
          ]
        },
        {
          "output_type": "stream",
          "name": "stdout",
          "text": [
            "\u001b[2m\u001b[36m(launch_and_evaluate pid=3453)\u001b[0m [Client 85] evaluate, config: {}\u001b[32m [repeated 28x across cluster]\u001b[0m\n",
            "\u001b[2m\u001b[36m(launch_and_fit pid=3452)\u001b[0m [Client 76] fit, config: {'current_round': 73, 'local_epochs': 3}\u001b[32m [repeated 13x across cluster]\u001b[0m\n",
            "\u001b[2m\u001b[36m(launch_and_fit pid=3453)\u001b[0m Epoch 1: train loss 8.485830767313018e-05, accuracy 0.6296296296296297\u001b[32m [repeated 14x across cluster]\u001b[0m\n"
          ]
        },
        {
          "output_type": "stream",
          "name": "stderr",
          "text": [
            "DEBUG flower 2023-07-19 13:24:52,873 | server.py:216 | fit_round received 30 results and 0 failures\n",
            "DEBUG:flower:fit_round received 30 results and 0 failures\n",
            "DEBUG flower 2023-07-19 13:24:52,970 | server.py:157 | evaluate_round: strategy sampled 30 clients (out of 100)\n",
            "DEBUG:flower:evaluate_round: strategy sampled 30 clients (out of 100)\n"
          ]
        },
        {
          "output_type": "stream",
          "name": "stdout",
          "text": [
            "Saving round 73 aggregated_parameters...\n",
            "\u001b[2m\u001b[36m(launch_and_evaluate pid=3453)\u001b[0m [Client 69] evaluate, config: {}\n",
            "\u001b[2m\u001b[36m(launch_and_evaluate pid=3452)\u001b[0m [Client 67] evaluate, config: {}\n",
            "\u001b[2m\u001b[36m(launch_and_fit pid=3452)\u001b[0m [Client 1] fit, config: {'current_round': 73, 'local_epochs': 3}\u001b[32m [repeated 17x across cluster]\u001b[0m\n",
            "\u001b[2m\u001b[36m(launch_and_fit pid=3452)\u001b[0m Epoch 1: train loss 8.745348895899951e-05, accuracy 0.6296296296296297\u001b[32m [repeated 16x across cluster]\u001b[0m\n",
            "\u001b[2m\u001b[36m(launch_and_evaluate pid=3453)\u001b[0m [Client 81] evaluate, config: {}\u001b[32m [repeated 22x across cluster]\u001b[0m\n"
          ]
        },
        {
          "output_type": "stream",
          "name": "stderr",
          "text": [
            "DEBUG flower 2023-07-19 13:25:00,300 | server.py:170 | evaluate_round received 0 results and 30 failures\n",
            "DEBUG:flower:evaluate_round received 0 results and 30 failures\n",
            "DEBUG flower 2023-07-19 13:25:00,305 | server.py:203 | fit_round: strategy sampled 30 clients (out of 100)\n",
            "DEBUG:flower:fit_round: strategy sampled 30 clients (out of 100)\n"
          ]
        },
        {
          "output_type": "stream",
          "name": "stdout",
          "text": [
            "\u001b[2m\u001b[36m(launch_and_fit pid=3452)\u001b[0m [Client 22] fit, config: {'current_round': 74, 'local_epochs': 3}\n",
            "\u001b[2m\u001b[36m(launch_and_fit pid=3453)\u001b[0m [Client 0] fit, config: {'current_round': 74, 'local_epochs': 3}\n",
            "\u001b[2m\u001b[36m(launch_and_fit pid=3452)\u001b[0m Epoch 1: train loss 0.00010658259270712733, accuracy 0.48148148148148145\n",
            "\u001b[2m\u001b[36m(launch_and_evaluate pid=3453)\u001b[0m [Client 57] evaluate, config: {}\u001b[32m [repeated 6x across cluster]\u001b[0m\n",
            "\u001b[2m\u001b[36m(launch_and_fit pid=3452)\u001b[0m [Client 72] fit, config: {'current_round': 74, 'local_epochs': 3}\u001b[32m [repeated 24x across cluster]\u001b[0m\n",
            "\u001b[2m\u001b[36m(launch_and_fit pid=3453)\u001b[0m Epoch 1: train loss 0.00010103033855557442, accuracy 0.5740740740740741\u001b[32m [repeated 24x across cluster]\u001b[0m\n"
          ]
        },
        {
          "output_type": "stream",
          "name": "stderr",
          "text": [
            "DEBUG flower 2023-07-19 13:25:06,926 | server.py:216 | fit_round received 30 results and 0 failures\n",
            "DEBUG:flower:fit_round received 30 results and 0 failures\n",
            "DEBUG flower 2023-07-19 13:25:07,023 | server.py:157 | evaluate_round: strategy sampled 30 clients (out of 100)\n",
            "DEBUG:flower:evaluate_round: strategy sampled 30 clients (out of 100)\n"
          ]
        },
        {
          "output_type": "stream",
          "name": "stdout",
          "text": [
            "Saving round 74 aggregated_parameters...\n",
            "\u001b[2m\u001b[36m(launch_and_evaluate pid=3452)\u001b[0m [Client 79] evaluate, config: {}\u001b[32m [repeated 13x across cluster]\u001b[0m\n"
          ]
        },
        {
          "output_type": "stream",
          "name": "stderr",
          "text": [
            "DEBUG flower 2023-07-19 13:25:11,409 | server.py:170 | evaluate_round received 0 results and 30 failures\n",
            "DEBUG:flower:evaluate_round received 0 results and 30 failures\n",
            "DEBUG flower 2023-07-19 13:25:11,423 | server.py:203 | fit_round: strategy sampled 30 clients (out of 100)\n",
            "DEBUG:flower:fit_round: strategy sampled 30 clients (out of 100)\n"
          ]
        },
        {
          "output_type": "stream",
          "name": "stdout",
          "text": [
            "\u001b[2m\u001b[36m(launch_and_fit pid=3452)\u001b[0m [Client 1] fit, config: {'current_round': 75, 'local_epochs': 3}\u001b[32m [repeated 5x across cluster]\u001b[0m\n",
            "\u001b[2m\u001b[36m(launch_and_fit pid=3452)\u001b[0m Epoch 1: train loss 8.234652341343462e-05, accuracy 0.6481481481481481\u001b[32m [repeated 6x across cluster]\u001b[0m\n",
            "\u001b[2m\u001b[36m(launch_and_evaluate pid=3453)\u001b[0m [Client 65] evaluate, config: {}\u001b[32m [repeated 17x across cluster]\u001b[0m\n",
            "\u001b[2m\u001b[36m(launch_and_fit pid=3453)\u001b[0m [Client 78] fit, config: {'current_round': 75, 'local_epochs': 3}\u001b[32m [repeated 19x across cluster]\u001b[0m\n",
            "\u001b[2m\u001b[36m(launch_and_fit pid=3453)\u001b[0m Epoch 1: train loss 9.739670349517837e-05, accuracy 0.5555555555555556\u001b[32m [repeated 19x across cluster]\u001b[0m\n"
          ]
        },
        {
          "output_type": "stream",
          "name": "stderr",
          "text": [
            "DEBUG flower 2023-07-19 13:25:20,671 | server.py:216 | fit_round received 30 results and 0 failures\n",
            "DEBUG:flower:fit_round received 30 results and 0 failures\n",
            "DEBUG flower 2023-07-19 13:25:21,192 | server.py:157 | evaluate_round: strategy sampled 30 clients (out of 100)\n",
            "DEBUG:flower:evaluate_round: strategy sampled 30 clients (out of 100)\n"
          ]
        },
        {
          "output_type": "stream",
          "name": "stdout",
          "text": [
            "Saving round 75 aggregated_parameters...\n",
            "\u001b[2m\u001b[36m(launch_and_evaluate pid=3453)\u001b[0m [Client 80] evaluate, config: {}\n",
            "\u001b[2m\u001b[36m(launch_and_fit pid=3453)\u001b[0m [Client 67] fit, config: {'current_round': 75, 'local_epochs': 3}\u001b[32m [repeated 10x across cluster]\u001b[0m\n",
            "\u001b[2m\u001b[36m(launch_and_fit pid=3453)\u001b[0m Epoch 1: train loss 0.00010766809282358736, accuracy 0.6111111111111112\u001b[32m [repeated 10x across cluster]\u001b[0m\n",
            "\u001b[2m\u001b[36m(launch_and_evaluate pid=3452)\u001b[0m [Client 54] evaluate, config: {}\u001b[32m [repeated 10x across cluster]\u001b[0m\n"
          ]
        },
        {
          "output_type": "stream",
          "name": "stderr",
          "text": [
            "DEBUG flower 2023-07-19 13:25:34,759 | server.py:170 | evaluate_round received 0 results and 30 failures\n",
            "DEBUG:flower:evaluate_round received 0 results and 30 failures\n",
            "DEBUG flower 2023-07-19 13:25:34,767 | server.py:203 | fit_round: strategy sampled 30 clients (out of 100)\n",
            "DEBUG:flower:fit_round: strategy sampled 30 clients (out of 100)\n"
          ]
        },
        {
          "output_type": "stream",
          "name": "stdout",
          "text": [
            "\u001b[2m\u001b[36m(launch_and_fit pid=3453)\u001b[0m [Client 55] fit, config: {'current_round': 76, 'local_epochs': 3}\n",
            "\u001b[2m\u001b[36m(launch_and_evaluate pid=3452)\u001b[0m [Client 0] evaluate, config: {}\u001b[32m [repeated 19x across cluster]\u001b[0m\n",
            "\u001b[2m\u001b[36m(launch_and_fit pid=3452)\u001b[0m Epoch 1: train loss 8.505301229888573e-05, accuracy 0.6296296296296297\n",
            "\u001b[2m\u001b[36m(launch_and_fit pid=3452)\u001b[0m [Client 10] fit, config: {'current_round': 76, 'local_epochs': 3}\u001b[32m [repeated 19x across cluster]\u001b[0m\n"
          ]
        },
        {
          "output_type": "stream",
          "name": "stderr",
          "text": [
            "DEBUG flower 2023-07-19 13:25:43,706 | server.py:216 | fit_round received 30 results and 0 failures\n",
            "DEBUG:flower:fit_round received 30 results and 0 failures\n",
            "DEBUG flower 2023-07-19 13:25:43,865 | server.py:157 | evaluate_round: strategy sampled 30 clients (out of 100)\n",
            "DEBUG:flower:evaluate_round: strategy sampled 30 clients (out of 100)\n"
          ]
        },
        {
          "output_type": "stream",
          "name": "stdout",
          "text": [
            "\u001b[2m\u001b[36m(launch_and_fit pid=3452)\u001b[0m Epoch 1: train loss 9.947968646883965e-05, accuracy 0.6481481481481481\u001b[32m [repeated 19x across cluster]\u001b[0m\n",
            "Saving round 76 aggregated_parameters...\n",
            "\u001b[2m\u001b[36m(launch_and_evaluate pid=3452)\u001b[0m [Client 17] evaluate, config: {}\n",
            "\u001b[2m\u001b[36m(launch_and_evaluate pid=3452)\u001b[0m [Client 89] evaluate, config: {}\n",
            "\u001b[2m\u001b[36m(launch_and_fit pid=3452)\u001b[0m [Client 14] fit, config: {'current_round': 76, 'local_epochs': 3}\u001b[32m [repeated 10x across cluster]\u001b[0m\n",
            "\u001b[2m\u001b[36m(launch_and_fit pid=3452)\u001b[0m Epoch 1: train loss 8.56079495861195e-05, accuracy 0.6666666666666666\u001b[32m [repeated 10x across cluster]\u001b[0m\n",
            "\u001b[2m\u001b[36m(launch_and_evaluate pid=3453)\u001b[0m [Client 1] evaluate, config: {}\u001b[32m [repeated 23x across cluster]\u001b[0m\n"
          ]
        },
        {
          "output_type": "stream",
          "name": "stderr",
          "text": [
            "DEBUG flower 2023-07-19 13:25:50,767 | server.py:170 | evaluate_round received 0 results and 30 failures\n",
            "DEBUG:flower:evaluate_round received 0 results and 30 failures\n",
            "DEBUG flower 2023-07-19 13:25:50,771 | server.py:203 | fit_round: strategy sampled 30 clients (out of 100)\n",
            "DEBUG:flower:fit_round: strategy sampled 30 clients (out of 100)\n"
          ]
        },
        {
          "output_type": "stream",
          "name": "stdout",
          "text": [
            "\u001b[2m\u001b[36m(launch_and_fit pid=3452)\u001b[0m [Client 75] fit, config: {'current_round': 77, 'local_epochs': 3}\n",
            "\u001b[2m\u001b[36m(launch_and_fit pid=3452)\u001b[0m Epoch 1: train loss 0.00010178481170441955, accuracy 0.5555555555555556\n",
            "\u001b[2m\u001b[36m(launch_and_fit pid=3452)\u001b[0m [Client 66] fit, config: {'current_round': 77, 'local_epochs': 3}\n",
            "\u001b[2m\u001b[36m(launch_and_fit pid=3452)\u001b[0m Epoch 1: train loss 7.915204332675785e-05, accuracy 0.6666666666666666\n",
            "\u001b[2m\u001b[36m(launch_and_fit pid=3452)\u001b[0m [Client 63] fit, config: {'current_round': 77, 'local_epochs': 3}\n",
            "\u001b[2m\u001b[36m(launch_and_fit pid=3452)\u001b[0m Epoch 1: train loss 9.284260886488482e-05, accuracy 0.5185185185185185\n",
            "\u001b[2m\u001b[36m(launch_and_evaluate pid=3452)\u001b[0m [Client 20] evaluate, config: {}\u001b[32m [repeated 5x across cluster]\u001b[0m\n",
            "\u001b[2m\u001b[36m(launch_and_fit pid=3453)\u001b[0m \n"
          ]
        },
        {
          "output_type": "stream",
          "name": "stderr",
          "text": [
            "DEBUG flower 2023-07-19 13:25:56,601 | server.py:216 | fit_round received 30 results and 0 failures\n",
            "DEBUG:flower:fit_round received 30 results and 0 failures\n",
            "DEBUG flower 2023-07-19 13:25:56,700 | server.py:157 | evaluate_round: strategy sampled 30 clients (out of 100)\n",
            "DEBUG:flower:evaluate_round: strategy sampled 30 clients (out of 100)\n"
          ]
        },
        {
          "output_type": "stream",
          "name": "stdout",
          "text": [
            "Saving round 77 aggregated_parameters...\n",
            "\u001b[2m\u001b[36m(launch_and_fit pid=3452)\u001b[0m Epoch 1: train loss 8.107710891636088e-05, accuracy 0.6481481481481481\u001b[32m [repeated 27x across cluster]\u001b[0m\n",
            "\u001b[2m\u001b[36m(launch_and_fit pid=3452)\u001b[0m [Client 91] fit, config: {'current_round': 77, 'local_epochs': 3}\u001b[32m [repeated 27x across cluster]\u001b[0m\n",
            "\u001b[2m\u001b[36m(launch_and_evaluate pid=3453)\u001b[0m [Client 71] evaluate, config: {}\u001b[32m [repeated 13x across cluster]\u001b[0m\n"
          ]
        },
        {
          "output_type": "stream",
          "name": "stderr",
          "text": [
            "DEBUG flower 2023-07-19 13:26:03,793 | server.py:170 | evaluate_round received 0 results and 30 failures\n",
            "DEBUG:flower:evaluate_round received 0 results and 30 failures\n",
            "DEBUG flower 2023-07-19 13:26:03,801 | server.py:203 | fit_round: strategy sampled 30 clients (out of 100)\n",
            "DEBUG:flower:fit_round: strategy sampled 30 clients (out of 100)\n"
          ]
        },
        {
          "output_type": "stream",
          "name": "stdout",
          "text": [
            "\u001b[2m\u001b[36m(launch_and_fit pid=3453)\u001b[0m [Client 72] fit, config: {'current_round': 78, 'local_epochs': 3}\n",
            "\u001b[2m\u001b[36m(launch_and_fit pid=3453)\u001b[0m Epoch 1: train loss 7.56917434046045e-05, accuracy 0.7037037037037037\n",
            "\u001b[2m\u001b[36m(launch_and_evaluate pid=3453)\u001b[0m [Client 58] evaluate, config: {}\u001b[32m [repeated 17x across cluster]\u001b[0m\n",
            "\u001b[2m\u001b[36m(launch_and_fit pid=3452)\u001b[0m [Client 24] fit, config: {'current_round': 78, 'local_epochs': 3}\u001b[32m [repeated 19x across cluster]\u001b[0m\n",
            "\u001b[2m\u001b[36m(launch_and_fit pid=3452)\u001b[0m Epoch 1: train loss 7.424109935527667e-05, accuracy 0.7777777777777778\u001b[32m [repeated 19x across cluster]\u001b[0m\n"
          ]
        },
        {
          "output_type": "stream",
          "name": "stderr",
          "text": [
            "DEBUG flower 2023-07-19 13:26:11,328 | server.py:216 | fit_round received 30 results and 0 failures\n",
            "DEBUG:flower:fit_round received 30 results and 0 failures\n",
            "DEBUG flower 2023-07-19 13:26:11,431 | server.py:157 | evaluate_round: strategy sampled 30 clients (out of 100)\n",
            "DEBUG:flower:evaluate_round: strategy sampled 30 clients (out of 100)\n"
          ]
        },
        {
          "output_type": "stream",
          "name": "stdout",
          "text": [
            "Saving round 78 aggregated_parameters...\n",
            "\u001b[2m\u001b[36m(launch_and_evaluate pid=3452)\u001b[0m [Client 63] evaluate, config: {}\n",
            "\u001b[2m\u001b[36m(launch_and_fit pid=3452)\u001b[0m [Client 47] fit, config: {'current_round': 78, 'local_epochs': 3}\u001b[32m [repeated 10x across cluster]\u001b[0m\n"
          ]
        },
        {
          "output_type": "stream",
          "name": "stderr",
          "text": [
            "DEBUG flower 2023-07-19 13:26:16,852 | server.py:170 | evaluate_round received 0 results and 30 failures\n",
            "DEBUG:flower:evaluate_round received 0 results and 30 failures\n",
            "DEBUG flower 2023-07-19 13:26:16,859 | server.py:203 | fit_round: strategy sampled 30 clients (out of 100)\n",
            "DEBUG:flower:fit_round: strategy sampled 30 clients (out of 100)\n"
          ]
        },
        {
          "output_type": "stream",
          "name": "stdout",
          "text": [
            "\u001b[2m\u001b[36m(launch_and_fit pid=3452)\u001b[0m Epoch 1: train loss 8.430376328760758e-05, accuracy 0.7962962962962963\u001b[32m [repeated 10x across cluster]\u001b[0m\n",
            "\u001b[2m\u001b[36m(launch_and_evaluate pid=3453)\u001b[0m [Client 84] evaluate, config: {}\u001b[32m [repeated 29x across cluster]\u001b[0m\n",
            "\u001b[2m\u001b[36m(launch_and_fit pid=3452)\u001b[0m [Client 52] fit, config: {'current_round': 79, 'local_epochs': 3}\u001b[32m [repeated 7x across cluster]\u001b[0m\n",
            "\u001b[2m\u001b[36m(launch_and_fit pid=3452)\u001b[0m Epoch 1: train loss 8.349701965926215e-05, accuracy 0.6666666666666666\u001b[32m [repeated 8x across cluster]\u001b[0m\n",
            "\u001b[2m\u001b[36m(launch_and_fit pid=3452)\u001b[0m [Client 67] fit, config: {'current_round': 79, 'local_epochs': 3}\u001b[32m [repeated 18x across cluster]\u001b[0m\n",
            "\u001b[2m\u001b[36m(launch_and_fit pid=3452)\u001b[0m Epoch 1: train loss 0.00010667370224837214, accuracy 0.5925925925925926\u001b[32m [repeated 17x across cluster]\u001b[0m\n"
          ]
        },
        {
          "output_type": "stream",
          "name": "stderr",
          "text": [
            "DEBUG flower 2023-07-19 13:26:25,876 | server.py:216 | fit_round received 30 results and 0 failures\n",
            "DEBUG:flower:fit_round received 30 results and 0 failures\n",
            "DEBUG flower 2023-07-19 13:26:26,023 | server.py:157 | evaluate_round: strategy sampled 30 clients (out of 100)\n",
            "DEBUG:flower:evaluate_round: strategy sampled 30 clients (out of 100)\n"
          ]
        },
        {
          "output_type": "stream",
          "name": "stdout",
          "text": [
            "Saving round 79 aggregated_parameters...\n",
            "\u001b[2m\u001b[36m(launch_and_evaluate pid=3453)\u001b[0m [Client 19] evaluate, config: {}\n",
            "\u001b[2m\u001b[36m(launch_and_fit pid=3453)\u001b[0m [Client 81] fit, config: {'current_round': 79, 'local_epochs': 3}\u001b[32m [repeated 5x across cluster]\u001b[0m\n",
            "\u001b[2m\u001b[36m(launch_and_fit pid=3453)\u001b[0m Epoch 1: train loss 0.0001040854913298972, accuracy 0.5555555555555556\u001b[32m [repeated 5x across cluster]\u001b[0m\n"
          ]
        },
        {
          "output_type": "stream",
          "name": "stderr",
          "text": [
            "DEBUG flower 2023-07-19 13:26:31,918 | server.py:170 | evaluate_round received 0 results and 30 failures\n",
            "DEBUG:flower:evaluate_round received 0 results and 30 failures\n",
            "DEBUG flower 2023-07-19 13:26:31,924 | server.py:203 | fit_round: strategy sampled 30 clients (out of 100)\n",
            "DEBUG:flower:fit_round: strategy sampled 30 clients (out of 100)\n"
          ]
        },
        {
          "output_type": "stream",
          "name": "stdout",
          "text": [
            "\u001b[2m\u001b[36m(launch_and_evaluate pid=3452)\u001b[0m [Client 94] evaluate, config: {}\u001b[32m [repeated 28x across cluster]\u001b[0m\n",
            "\u001b[2m\u001b[36m(launch_and_fit pid=3453)\u001b[0m [Client 85] fit, config: {'current_round': 80, 'local_epochs': 3}\u001b[32m [repeated 13x across cluster]\u001b[0m\n",
            "\u001b[2m\u001b[36m(launch_and_fit pid=3453)\u001b[0m Epoch 1: train loss 8.5823965491727e-05, accuracy 0.6666666666666666\u001b[32m [repeated 14x across cluster]\u001b[0m\n",
            "\u001b[2m\u001b[36m(launch_and_evaluate pid=3453)\u001b[0m Epoch 1: train loss 9.14568081498146e-05, accuracy 0.5925925925925926\n"
          ]
        },
        {
          "output_type": "stream",
          "name": "stderr",
          "text": [
            "DEBUG flower 2023-07-19 13:26:37,703 | server.py:216 | fit_round received 30 results and 0 failures\n",
            "DEBUG:flower:fit_round received 30 results and 0 failures\n",
            "DEBUG flower 2023-07-19 13:26:37,816 | server.py:157 | evaluate_round: strategy sampled 30 clients (out of 100)\n",
            "DEBUG:flower:evaluate_round: strategy sampled 30 clients (out of 100)\n"
          ]
        },
        {
          "output_type": "stream",
          "name": "stdout",
          "text": [
            "Saving round 80 aggregated_parameters...\n",
            "\u001b[2m\u001b[36m(launch_and_evaluate pid=3453)\u001b[0m [Client 10] evaluate, config: {}\n",
            "\u001b[2m\u001b[36m(launch_and_fit pid=3452)\u001b[0m [Client 3] fit, config: {'current_round': 80, 'local_epochs': 3}\u001b[32m [repeated 17x across cluster]\u001b[0m\n",
            "\u001b[2m\u001b[36m(launch_and_fit pid=3453)\u001b[0m Epoch 1: train loss 8.472402987536043e-05, accuracy 0.6111111111111112\u001b[32m [repeated 16x across cluster]\u001b[0m\n",
            "\u001b[2m\u001b[36m(launch_and_evaluate pid=3453)\u001b[0m [Client 1] evaluate, config: {}\u001b[32m [repeated 22x across cluster]\u001b[0m\n"
          ]
        },
        {
          "output_type": "stream",
          "name": "stderr",
          "text": [
            "DEBUG flower 2023-07-19 13:26:45,040 | server.py:170 | evaluate_round received 0 results and 30 failures\n",
            "DEBUG:flower:evaluate_round received 0 results and 30 failures\n",
            "DEBUG flower 2023-07-19 13:26:45,049 | server.py:203 | fit_round: strategy sampled 30 clients (out of 100)\n",
            "DEBUG:flower:fit_round: strategy sampled 30 clients (out of 100)\n"
          ]
        },
        {
          "output_type": "stream",
          "name": "stdout",
          "text": [
            "\u001b[2m\u001b[36m(launch_and_fit pid=3452)\u001b[0m [Client 97] fit, config: {'current_round': 81, 'local_epochs': 3}\n",
            "\u001b[2m\u001b[36m(launch_and_fit pid=3453)\u001b[0m [Client 45] fit, config: {'current_round': 81, 'local_epochs': 3}\n",
            "\u001b[2m\u001b[36m(launch_and_fit pid=3453)\u001b[0m Epoch 1: train loss 8.957897080108523e-05, accuracy 0.6111111111111112\n",
            "\u001b[2m\u001b[36m(launch_and_fit pid=3453)\u001b[0m [Client 66] fit, config: {'current_round': 81, 'local_epochs': 3}\n",
            "\u001b[2m\u001b[36m(launch_and_evaluate pid=3453)\u001b[0m [Client 4] evaluate, config: {}\u001b[32m [repeated 7x across cluster]\u001b[0m\n",
            "\u001b[2m\u001b[36m(launch_and_fit pid=3452)\u001b[0m [Client 44] fit, config: {'current_round': 81, 'local_epochs': 3}\u001b[32m [repeated 18x across cluster]\u001b[0m\n",
            "\u001b[2m\u001b[36m(launch_and_fit pid=3452)\u001b[0m Epoch 1: train loss 0.00010445465886732563, accuracy 0.5925925925925926\u001b[32m [repeated 20x across cluster]\u001b[0m\n"
          ]
        },
        {
          "output_type": "stream",
          "name": "stderr",
          "text": [
            "DEBUG flower 2023-07-19 13:26:52,368 | server.py:216 | fit_round received 30 results and 0 failures\n",
            "DEBUG:flower:fit_round received 30 results and 0 failures\n",
            "DEBUG flower 2023-07-19 13:26:52,470 | server.py:157 | evaluate_round: strategy sampled 30 clients (out of 100)\n",
            "DEBUG:flower:evaluate_round: strategy sampled 30 clients (out of 100)\n"
          ]
        },
        {
          "output_type": "stream",
          "name": "stdout",
          "text": [
            "Saving round 81 aggregated_parameters...\n",
            "\u001b[2m\u001b[36m(launch_and_evaluate pid=3452)\u001b[0m [Client 74] evaluate, config: {}\u001b[32m [repeated 7x across cluster]\u001b[0m\n",
            "\u001b[2m\u001b[36m(launch_and_fit pid=3453)\u001b[0m [Client 37] fit, config: {'current_round': 81, 'local_epochs': 3}\u001b[32m [repeated 9x across cluster]\u001b[0m\n",
            "\u001b[2m\u001b[36m(launch_and_fit pid=3453)\u001b[0m Epoch 1: train loss 7.274163363035768e-05, accuracy 0.6851851851851852\u001b[32m [repeated 9x across cluster]\u001b[0m\n"
          ]
        },
        {
          "output_type": "stream",
          "name": "stderr",
          "text": [
            "DEBUG flower 2023-07-19 13:26:57,492 | server.py:170 | evaluate_round received 0 results and 30 failures\n",
            "DEBUG:flower:evaluate_round received 0 results and 30 failures\n",
            "DEBUG flower 2023-07-19 13:26:57,495 | server.py:203 | fit_round: strategy sampled 30 clients (out of 100)\n",
            "DEBUG:flower:fit_round: strategy sampled 30 clients (out of 100)\n"
          ]
        },
        {
          "output_type": "stream",
          "name": "stdout",
          "text": [
            "\u001b[2m\u001b[36m(launch_and_evaluate pid=3453)\u001b[0m [Client 56] evaluate, config: {}\u001b[32m [repeated 23x across cluster]\u001b[0m\n",
            "\u001b[2m\u001b[36m(launch_and_fit pid=3452)\u001b[0m [Client 67] fit, config: {'current_round': 82, 'local_epochs': 3}\u001b[32m [repeated 11x across cluster]\u001b[0m\n",
            "\u001b[2m\u001b[36m(launch_and_fit pid=3452)\u001b[0m Epoch 1: train loss 0.00010703196312533692, accuracy 0.6296296296296297\u001b[32m [repeated 11x across cluster]\u001b[0m\n"
          ]
        },
        {
          "output_type": "stream",
          "name": "stderr",
          "text": [
            "DEBUG flower 2023-07-19 13:27:06,177 | server.py:216 | fit_round received 30 results and 0 failures\n",
            "DEBUG:flower:fit_round received 30 results and 0 failures\n",
            "DEBUG flower 2023-07-19 13:27:06,327 | server.py:157 | evaluate_round: strategy sampled 30 clients (out of 100)\n",
            "DEBUG:flower:evaluate_round: strategy sampled 30 clients (out of 100)\n"
          ]
        },
        {
          "output_type": "stream",
          "name": "stdout",
          "text": [
            "Saving round 82 aggregated_parameters...\n",
            "\u001b[2m\u001b[36m(launch_and_evaluate pid=3453)\u001b[0m [Client 0] evaluate, config: {}\n",
            "\u001b[2m\u001b[36m(launch_and_fit pid=3452)\u001b[0m [Client 56] fit, config: {'current_round': 82, 'local_epochs': 3}\u001b[32m [repeated 19x across cluster]\u001b[0m\n",
            "\u001b[2m\u001b[36m(launch_and_fit pid=3453)\u001b[0m Epoch 1: train loss 0.00010112067684531212, accuracy 0.5740740740740741\u001b[32m [repeated 19x across cluster]\u001b[0m\n"
          ]
        },
        {
          "output_type": "stream",
          "name": "stderr",
          "text": [
            "DEBUG flower 2023-07-19 13:27:11,902 | server.py:170 | evaluate_round received 0 results and 30 failures\n",
            "DEBUG:flower:evaluate_round received 0 results and 30 failures\n",
            "DEBUG flower 2023-07-19 13:27:11,915 | server.py:203 | fit_round: strategy sampled 30 clients (out of 100)\n",
            "DEBUG:flower:fit_round: strategy sampled 30 clients (out of 100)\n"
          ]
        },
        {
          "output_type": "stream",
          "name": "stdout",
          "text": [
            "\u001b[2m\u001b[36m(launch_and_evaluate pid=3453)\u001b[0m [Client 21] evaluate, config: {}\u001b[32m [repeated 29x across cluster]\u001b[0m\n",
            "\u001b[2m\u001b[36m(launch_and_fit pid=3452)\u001b[0m [Client 92] fit, config: {'current_round': 83, 'local_epochs': 3}\n",
            "\u001b[2m\u001b[36m(launch_and_fit pid=3453)\u001b[0m [Client 22] fit, config: {'current_round': 83, 'local_epochs': 3}\n",
            "\u001b[2m\u001b[36m(launch_and_fit pid=3453)\u001b[0m Epoch 1: train loss 0.00010404054773971438, accuracy 0.5740740740740741\n"
          ]
        },
        {
          "output_type": "stream",
          "name": "stderr",
          "text": [
            "DEBUG flower 2023-07-19 13:27:17,632 | server.py:216 | fit_round received 30 results and 0 failures\n",
            "DEBUG:flower:fit_round received 30 results and 0 failures\n",
            "DEBUG flower 2023-07-19 13:27:17,731 | server.py:157 | evaluate_round: strategy sampled 30 clients (out of 100)\n",
            "DEBUG:flower:evaluate_round: strategy sampled 30 clients (out of 100)\n"
          ]
        },
        {
          "output_type": "stream",
          "name": "stdout",
          "text": [
            "Saving round 83 aggregated_parameters...\n",
            "\u001b[2m\u001b[36m(launch_and_evaluate pid=3453)\u001b[0m [Client 69] evaluate, config: {}\n",
            "\u001b[2m\u001b[36m(launch_and_fit pid=3453)\u001b[0m [Client 61] fit, config: {'current_round': 83, 'local_epochs': 3}\u001b[32m [repeated 28x across cluster]\u001b[0m\n",
            "\u001b[2m\u001b[36m(launch_and_fit pid=3453)\u001b[0m Epoch 1: train loss 8.761889330344275e-05, accuracy 0.6666666666666666\u001b[32m [repeated 29x across cluster]\u001b[0m\n",
            "\u001b[2m\u001b[36m(launch_and_evaluate pid=3452)\u001b[0m [Client 94] evaluate, config: {}\n"
          ]
        },
        {
          "output_type": "stream",
          "name": "stderr",
          "text": [
            "DEBUG flower 2023-07-19 13:27:23,790 | server.py:170 | evaluate_round received 0 results and 30 failures\n",
            "DEBUG:flower:evaluate_round received 0 results and 30 failures\n",
            "DEBUG flower 2023-07-19 13:27:23,800 | server.py:203 | fit_round: strategy sampled 30 clients (out of 100)\n",
            "DEBUG:flower:fit_round: strategy sampled 30 clients (out of 100)\n"
          ]
        },
        {
          "output_type": "stream",
          "name": "stdout",
          "text": [
            "\u001b[2m\u001b[36m(launch_and_evaluate pid=3452)\u001b[0m [Client 61] evaluate, config: {}\u001b[32m [repeated 26x across cluster]\u001b[0m\n",
            "\u001b[2m\u001b[36m(launch_and_fit pid=3452)\u001b[0m [Client 74] fit, config: {'current_round': 84, 'local_epochs': 3}\n",
            "\u001b[2m\u001b[36m(launch_and_fit pid=3452)\u001b[0m Epoch 1: train loss 9.437217522645369e-05, accuracy 0.6851851851851852\n",
            "\u001b[2m\u001b[36m(launch_and_evaluate pid=3453)\u001b[0m [Client 20] evaluate, config: {}\u001b[32m [repeated 2x across cluster]\u001b[0m\n",
            "\u001b[2m\u001b[36m(launch_and_fit pid=3453)\u001b[0m [Client 81] fit, config: {'current_round': 84, 'local_epochs': 3}\u001b[32m [repeated 18x across cluster]\u001b[0m\n",
            "\u001b[2m\u001b[36m(launch_and_fit pid=3452)\u001b[0m Epoch 1: train loss 0.00011264666682109237, accuracy 0.5555555555555556\u001b[32m [repeated 17x across cluster]\u001b[0m\n"
          ]
        },
        {
          "output_type": "stream",
          "name": "stderr",
          "text": [
            "DEBUG flower 2023-07-19 13:27:31,800 | server.py:216 | fit_round received 30 results and 0 failures\n",
            "DEBUG:flower:fit_round received 30 results and 0 failures\n",
            "DEBUG flower 2023-07-19 13:27:31,898 | server.py:157 | evaluate_round: strategy sampled 30 clients (out of 100)\n",
            "DEBUG:flower:evaluate_round: strategy sampled 30 clients (out of 100)\n"
          ]
        },
        {
          "output_type": "stream",
          "name": "stdout",
          "text": [
            "Saving round 84 aggregated_parameters...\n",
            "\u001b[2m\u001b[36m(launch_and_evaluate pid=3453)\u001b[0m [Client 33] evaluate, config: {}\u001b[32m [repeated 11x across cluster]\u001b[0m\n",
            "\u001b[2m\u001b[36m(launch_and_fit pid=3453)\u001b[0m [Client 14] fit, config: {'current_round': 84, 'local_epochs': 3}\u001b[32m [repeated 11x across cluster]\u001b[0m\n",
            "\u001b[2m\u001b[36m(launch_and_fit pid=3453)\u001b[0m Epoch 1: train loss 8.451831672573462e-05, accuracy 0.6666666666666666\u001b[32m [repeated 12x across cluster]\u001b[0m\n"
          ]
        },
        {
          "output_type": "stream",
          "name": "stderr",
          "text": [
            "DEBUG flower 2023-07-19 13:27:36,685 | server.py:170 | evaluate_round received 0 results and 30 failures\n",
            "DEBUG:flower:evaluate_round received 0 results and 30 failures\n",
            "DEBUG flower 2023-07-19 13:27:36,689 | server.py:203 | fit_round: strategy sampled 30 clients (out of 100)\n",
            "DEBUG:flower:fit_round: strategy sampled 30 clients (out of 100)\n"
          ]
        },
        {
          "output_type": "stream",
          "name": "stdout",
          "text": [
            "\u001b[2m\u001b[36m(launch_and_evaluate pid=3452)\u001b[0m [Client 10] evaluate, config: {}\u001b[32m [repeated 19x across cluster]\u001b[0m\n",
            "\u001b[2m\u001b[36m(launch_and_fit pid=3453)\u001b[0m [Client 74] fit, config: {'current_round': 85, 'local_epochs': 3}\u001b[32m [repeated 15x across cluster]\u001b[0m\n",
            "\u001b[2m\u001b[36m(launch_and_fit pid=3453)\u001b[0m Epoch 1: train loss 0.00010554875188972801, accuracy 0.5925925925925926\u001b[32m [repeated 15x across cluster]\u001b[0m\n"
          ]
        },
        {
          "output_type": "stream",
          "name": "stderr",
          "text": [
            "DEBUG flower 2023-07-19 13:27:44,442 | server.py:216 | fit_round received 30 results and 0 failures\n",
            "DEBUG:flower:fit_round received 30 results and 0 failures\n",
            "DEBUG flower 2023-07-19 13:27:44,590 | server.py:157 | evaluate_round: strategy sampled 30 clients (out of 100)\n",
            "DEBUG:flower:evaluate_round: strategy sampled 30 clients (out of 100)\n"
          ]
        },
        {
          "output_type": "stream",
          "name": "stdout",
          "text": [
            "Saving round 85 aggregated_parameters...\n",
            "\u001b[2m\u001b[36m(launch_and_evaluate pid=3452)\u001b[0m [Client 8] evaluate, config: {}\n",
            "\u001b[2m\u001b[36m(launch_and_fit pid=3452)\u001b[0m [Client 1] fit, config: {'current_round': 85, 'local_epochs': 3}\u001b[32m [repeated 15x across cluster]\u001b[0m\n",
            "\u001b[2m\u001b[36m(launch_and_fit pid=3452)\u001b[0m Epoch 1: train loss 7.642513810424134e-05, accuracy 0.6296296296296297\u001b[32m [repeated 15x across cluster]\u001b[0m\n",
            "\u001b[2m\u001b[36m(launch_and_evaluate pid=3452)\u001b[0m [Client 62] evaluate, config: {}\u001b[32m [repeated 23x across cluster]\u001b[0m\n"
          ]
        },
        {
          "output_type": "stream",
          "name": "stderr",
          "text": [
            "DEBUG flower 2023-07-19 13:27:51,544 | server.py:170 | evaluate_round received 0 results and 30 failures\n",
            "DEBUG:flower:evaluate_round received 0 results and 30 failures\n",
            "DEBUG flower 2023-07-19 13:27:51,553 | server.py:203 | fit_round: strategy sampled 30 clients (out of 100)\n",
            "DEBUG:flower:fit_round: strategy sampled 30 clients (out of 100)\n"
          ]
        },
        {
          "output_type": "stream",
          "name": "stdout",
          "text": [
            "\u001b[2m\u001b[36m(launch_and_fit pid=3452)\u001b[0m [Client 4] fit, config: {'current_round': 86, 'local_epochs': 3}\n",
            "\u001b[2m\u001b[36m(launch_and_fit pid=3452)\u001b[0m Epoch 1: train loss 0.00011284552601864561, accuracy 0.5740740740740741\n",
            "\u001b[2m\u001b[36m(launch_and_evaluate pid=3453)\u001b[0m [Client 56] evaluate, config: {}\u001b[32m [repeated 6x across cluster]\u001b[0m\n",
            "\u001b[2m\u001b[36m(launch_and_fit pid=3452)\u001b[0m [Client 41] fit, config: {'current_round': 86, 'local_epochs': 3}\u001b[32m [repeated 18x across cluster]\u001b[0m\n",
            "\u001b[2m\u001b[36m(launch_and_fit pid=3452)\u001b[0m Epoch 1: train loss 0.00010230696352664381, accuracy 0.5740740740740741\u001b[32m [repeated 17x across cluster]\u001b[0m\n"
          ]
        },
        {
          "output_type": "stream",
          "name": "stderr",
          "text": [
            "DEBUG flower 2023-07-19 13:28:00,589 | server.py:216 | fit_round received 30 results and 0 failures\n",
            "DEBUG:flower:fit_round received 30 results and 0 failures\n",
            "DEBUG flower 2023-07-19 13:28:00,732 | server.py:157 | evaluate_round: strategy sampled 30 clients (out of 100)\n",
            "DEBUG:flower:evaluate_round: strategy sampled 30 clients (out of 100)\n"
          ]
        },
        {
          "output_type": "stream",
          "name": "stdout",
          "text": [
            "Saving round 86 aggregated_parameters...\n",
            "\u001b[2m\u001b[36m(launch_and_evaluate pid=3452)\u001b[0m [Client 80] evaluate, config: {}\n",
            "\u001b[2m\u001b[36m(launch_and_evaluate pid=3453)\u001b[0m [Client 5] evaluate, config: {}\n",
            "\u001b[2m\u001b[36m(launch_and_evaluate pid=3453)\u001b[0m [Client 52] evaluate, config: {}\n",
            "\u001b[2m\u001b[36m(launch_and_fit pid=3453)\u001b[0m [Client 71] fit, config: {'current_round': 86, 'local_epochs': 3}\u001b[32m [repeated 11x across cluster]\u001b[0m\n",
            "\u001b[2m\u001b[36m(launch_and_fit pid=3453)\u001b[0m Epoch 1: train loss 7.054257730487734e-05, accuracy 0.8148148148148148\u001b[32m [repeated 12x across cluster]\u001b[0m\n",
            "\u001b[2m\u001b[36m(launch_and_evaluate pid=3453)\u001b[0m \n",
            "\u001b[2m\u001b[36m(launch_and_evaluate pid=3453)\u001b[0m [Client 67] evaluate, config: {}\u001b[32m [repeated 17x across cluster]\u001b[0m\n"
          ]
        },
        {
          "output_type": "stream",
          "name": "stderr",
          "text": [
            "DEBUG flower 2023-07-19 13:28:09,091 | server.py:170 | evaluate_round received 0 results and 30 failures\n",
            "DEBUG:flower:evaluate_round received 0 results and 30 failures\n",
            "DEBUG flower 2023-07-19 13:28:09,097 | server.py:203 | fit_round: strategy sampled 30 clients (out of 100)\n",
            "DEBUG:flower:fit_round: strategy sampled 30 clients (out of 100)\n"
          ]
        },
        {
          "output_type": "stream",
          "name": "stdout",
          "text": [
            "\u001b[2m\u001b[36m(launch_and_fit pid=3453)\u001b[0m [Client 62] fit, config: {'current_round': 87, 'local_epochs': 3}\n",
            "\u001b[2m\u001b[36m(launch_and_fit pid=3453)\u001b[0m Epoch 1: train loss 7.464645750587806e-05, accuracy 0.7037037037037037\n",
            "\u001b[2m\u001b[36m(launch_and_evaluate pid=3453)\u001b[0m [Client 94] evaluate, config: {}\u001b[32m [repeated 10x across cluster]\u001b[0m\n",
            "\u001b[2m\u001b[36m(launch_and_fit pid=3452)\u001b[0m [Client 58] fit, config: {'current_round': 87, 'local_epochs': 3}\u001b[32m [repeated 21x across cluster]\u001b[0m\n",
            "\u001b[2m\u001b[36m(launch_and_fit pid=3452)\u001b[0m Epoch 1: train loss 8.803245873423293e-05, accuracy 0.6111111111111112\u001b[32m [repeated 20x across cluster]\u001b[0m\n"
          ]
        },
        {
          "output_type": "stream",
          "name": "stderr",
          "text": [
            "DEBUG flower 2023-07-19 13:28:16,206 | server.py:216 | fit_round received 30 results and 0 failures\n",
            "DEBUG:flower:fit_round received 30 results and 0 failures\n",
            "DEBUG flower 2023-07-19 13:28:16,312 | server.py:157 | evaluate_round: strategy sampled 30 clients (out of 100)\n",
            "DEBUG:flower:evaluate_round: strategy sampled 30 clients (out of 100)\n"
          ]
        },
        {
          "output_type": "stream",
          "name": "stdout",
          "text": [
            "Saving round 87 aggregated_parameters...\n",
            "\u001b[2m\u001b[36m(launch_and_evaluate pid=3453)\u001b[0m [Client 62] evaluate, config: {}\u001b[32m [repeated 3x across cluster]\u001b[0m\n",
            "\u001b[2m\u001b[36m(launch_and_fit pid=3453)\u001b[0m [Client 50] fit, config: {'current_round': 87, 'local_epochs': 3}\u001b[32m [repeated 8x across cluster]\u001b[0m\n",
            "\u001b[2m\u001b[36m(launch_and_fit pid=3453)\u001b[0m Epoch 1: train loss 8.756880561122671e-05, accuracy 0.6851851851851852\u001b[32m [repeated 9x across cluster]\u001b[0m\n"
          ]
        },
        {
          "output_type": "stream",
          "name": "stderr",
          "text": [
            "DEBUG flower 2023-07-19 13:28:21,222 | server.py:170 | evaluate_round received 0 results and 30 failures\n",
            "DEBUG:flower:evaluate_round received 0 results and 30 failures\n",
            "DEBUG flower 2023-07-19 13:28:21,230 | server.py:203 | fit_round: strategy sampled 30 clients (out of 100)\n",
            "DEBUG:flower:fit_round: strategy sampled 30 clients (out of 100)\n"
          ]
        },
        {
          "output_type": "stream",
          "name": "stdout",
          "text": [
            "\u001b[2m\u001b[36m(launch_and_evaluate pid=3453)\u001b[0m [Client 76] evaluate, config: {}\u001b[32m [repeated 27x across cluster]\u001b[0m\n",
            "\u001b[2m\u001b[36m(launch_and_fit pid=3453)\u001b[0m [Client 55] fit, config: {'current_round': 88, 'local_epochs': 3}\u001b[32m [repeated 15x across cluster]\u001b[0m\n",
            "\u001b[2m\u001b[36m(launch_and_fit pid=3452)\u001b[0m Epoch 1: train loss 8.389377035200596e-05, accuracy 0.6666666666666666\u001b[32m [repeated 14x across cluster]\u001b[0m\n"
          ]
        },
        {
          "output_type": "stream",
          "name": "stderr",
          "text": [
            "DEBUG flower 2023-07-19 13:28:29,305 | server.py:216 | fit_round received 30 results and 0 failures\n",
            "DEBUG:flower:fit_round received 30 results and 0 failures\n",
            "DEBUG flower 2023-07-19 13:28:29,486 | server.py:157 | evaluate_round: strategy sampled 30 clients (out of 100)\n",
            "DEBUG:flower:evaluate_round: strategy sampled 30 clients (out of 100)\n"
          ]
        },
        {
          "output_type": "stream",
          "name": "stdout",
          "text": [
            "Saving round 88 aggregated_parameters...\n",
            "\u001b[2m\u001b[36m(launch_and_evaluate pid=3452)\u001b[0m [Client 44] evaluate, config: {}\n",
            "\u001b[2m\u001b[36m(launch_and_fit pid=3452)\u001b[0m [Client 29] fit, config: {'current_round': 88, 'local_epochs': 3}\u001b[32m [repeated 15x across cluster]\u001b[0m\n",
            "\u001b[2m\u001b[36m(launch_and_fit pid=3452)\u001b[0m Epoch 1: train loss 9.225313988281414e-05, accuracy 0.5555555555555556\u001b[32m [repeated 16x across cluster]\u001b[0m\n"
          ]
        },
        {
          "output_type": "stream",
          "name": "stderr",
          "text": [
            "DEBUG flower 2023-07-19 13:28:35,493 | server.py:170 | evaluate_round received 0 results and 30 failures\n",
            "DEBUG:flower:evaluate_round received 0 results and 30 failures\n",
            "DEBUG flower 2023-07-19 13:28:35,507 | server.py:203 | fit_round: strategy sampled 30 clients (out of 100)\n",
            "DEBUG:flower:fit_round: strategy sampled 30 clients (out of 100)\n"
          ]
        },
        {
          "output_type": "stream",
          "name": "stdout",
          "text": [
            "\u001b[2m\u001b[36m(launch_and_evaluate pid=3452)\u001b[0m [Client 13] evaluate, config: {}\u001b[32m [repeated 29x across cluster]\u001b[0m\n",
            "\u001b[2m\u001b[36m(launch_and_fit pid=3452)\u001b[0m [Client 77] fit, config: {'current_round': 89, 'local_epochs': 3}\n",
            "\u001b[2m\u001b[36m(launch_and_fit pid=3453)\u001b[0m [Client 67] fit, config: {'current_round': 89, 'local_epochs': 3}\n",
            "\u001b[2m\u001b[36m(launch_and_fit pid=3452)\u001b[0m Epoch 1: train loss 8.581971633248031e-05, accuracy 0.6296296296296297\n",
            "\u001b[2m\u001b[36m(launch_and_fit pid=3453)\u001b[0m [Client 72] fit, config: {'current_round': 89, 'local_epochs': 3}\n"
          ]
        },
        {
          "output_type": "stream",
          "name": "stderr",
          "text": [
            "DEBUG flower 2023-07-19 13:28:41,014 | server.py:216 | fit_round received 30 results and 0 failures\n",
            "DEBUG:flower:fit_round received 30 results and 0 failures\n",
            "DEBUG flower 2023-07-19 13:28:41,134 | server.py:157 | evaluate_round: strategy sampled 30 clients (out of 100)\n",
            "DEBUG:flower:evaluate_round: strategy sampled 30 clients (out of 100)\n"
          ]
        },
        {
          "output_type": "stream",
          "name": "stdout",
          "text": [
            "Saving round 89 aggregated_parameters...\n",
            "\u001b[2m\u001b[36m(launch_and_evaluate pid=3452)\u001b[0m [Client 31] evaluate, config: {}\n",
            "\u001b[2m\u001b[36m(launch_and_fit pid=3452)\u001b[0m [Client 19] fit, config: {'current_round': 89, 'local_epochs': 3}\u001b[32m [repeated 27x across cluster]\u001b[0m\n",
            "\u001b[2m\u001b[36m(launch_and_fit pid=3453)\u001b[0m Epoch 1: train loss 8.233043627114967e-05, accuracy 0.7037037037037037\u001b[32m [repeated 29x across cluster]\u001b[0m\n",
            "\u001b[2m\u001b[36m(launch_and_evaluate pid=3452)\u001b[0m [Client 48] evaluate, config: {}\n"
          ]
        },
        {
          "output_type": "stream",
          "name": "stderr",
          "text": [
            "DEBUG flower 2023-07-19 13:28:46,732 | server.py:170 | evaluate_round received 0 results and 30 failures\n",
            "DEBUG:flower:evaluate_round received 0 results and 30 failures\n",
            "DEBUG flower 2023-07-19 13:28:46,741 | server.py:203 | fit_round: strategy sampled 30 clients (out of 100)\n",
            "DEBUG:flower:fit_round: strategy sampled 30 clients (out of 100)\n"
          ]
        },
        {
          "output_type": "stream",
          "name": "stdout",
          "text": [
            "\u001b[2m\u001b[36m(launch_and_fit pid=3452)\u001b[0m [Client 8] fit, config: {'current_round': 90, 'local_epochs': 3}\n",
            "\u001b[2m\u001b[36m(launch_and_evaluate pid=3452)\u001b[0m [Client 52] evaluate, config: {}\u001b[32m [repeated 28x across cluster]\u001b[0m\n",
            "\u001b[2m\u001b[36m(launch_and_fit pid=3452)\u001b[0m Epoch 1: train loss 8.36649487609975e-05, accuracy 0.7037037037037037\n",
            "\u001b[2m\u001b[36m(launch_and_fit pid=3453)\u001b[0m [Client 72] fit, config: {'current_round': 90, 'local_epochs': 3}\n",
            "\u001b[2m\u001b[36m(launch_and_fit pid=3453)\u001b[0m Epoch 1: train loss 0.00010528596612857655, accuracy 0.6481481481481481\u001b[32m [repeated 18x across cluster]\u001b[0m\n",
            "\u001b[2m\u001b[36m(launch_and_fit pid=3453)\u001b[0m [Client 56] fit, config: {'current_round': 90, 'local_epochs': 3}\u001b[32m [repeated 17x across cluster]\u001b[0m\n"
          ]
        },
        {
          "output_type": "stream",
          "name": "stderr",
          "text": [
            "DEBUG flower 2023-07-19 13:28:54,856 | server.py:216 | fit_round received 30 results and 0 failures\n",
            "DEBUG:flower:fit_round received 30 results and 0 failures\n",
            "DEBUG flower 2023-07-19 13:28:54,957 | server.py:157 | evaluate_round: strategy sampled 30 clients (out of 100)\n",
            "DEBUG:flower:evaluate_round: strategy sampled 30 clients (out of 100)\n"
          ]
        },
        {
          "output_type": "stream",
          "name": "stdout",
          "text": [
            "Saving round 90 aggregated_parameters...\n",
            "\u001b[2m\u001b[36m(launch_and_evaluate pid=3452)\u001b[0m [Client 6] evaluate, config: {}\n",
            "\u001b[2m\u001b[36m(launch_and_evaluate pid=3452)\u001b[0m [Client 22] evaluate, config: {}\n",
            "\u001b[2m\u001b[36m(launch_and_fit pid=3453)\u001b[0m Epoch 1: train loss 7.90985141065903e-05, accuracy 0.7222222222222222\u001b[32m [repeated 11x across cluster]\u001b[0m\n",
            "\u001b[2m\u001b[36m(launch_and_fit pid=3452)\u001b[0m [Client 34] fit, config: {'current_round': 90, 'local_epochs': 3}\u001b[32m [repeated 11x across cluster]\u001b[0m\n"
          ]
        },
        {
          "output_type": "stream",
          "name": "stderr",
          "text": [
            "DEBUG flower 2023-07-19 13:28:59,802 | server.py:170 | evaluate_round received 0 results and 30 failures\n",
            "DEBUG:flower:evaluate_round received 0 results and 30 failures\n",
            "DEBUG flower 2023-07-19 13:28:59,810 | server.py:203 | fit_round: strategy sampled 30 clients (out of 100)\n",
            "DEBUG:flower:fit_round: strategy sampled 30 clients (out of 100)\n"
          ]
        },
        {
          "output_type": "stream",
          "name": "stdout",
          "text": [
            "\u001b[2m\u001b[36m(launch_and_evaluate pid=3453)\u001b[0m [Client 0] evaluate, config: {}\u001b[32m [repeated 28x across cluster]\u001b[0m\n",
            "\u001b[2m\u001b[36m(launch_and_fit pid=3452)\u001b[0m Epoch 1: train loss 8.22006186353974e-05, accuracy 0.6851851851851852\u001b[32m [repeated 13x across cluster]\u001b[0m\n",
            "\u001b[2m\u001b[36m(launch_and_fit pid=3453)\u001b[0m [Client 10] fit, config: {'current_round': 91, 'local_epochs': 3}\u001b[32m [repeated 14x across cluster]\u001b[0m\n"
          ]
        },
        {
          "output_type": "stream",
          "name": "stderr",
          "text": [
            "DEBUG flower 2023-07-19 13:29:06,871 | server.py:216 | fit_round received 30 results and 0 failures\n",
            "DEBUG:flower:fit_round received 30 results and 0 failures\n",
            "DEBUG flower 2023-07-19 13:29:07,028 | server.py:157 | evaluate_round: strategy sampled 30 clients (out of 100)\n",
            "DEBUG:flower:evaluate_round: strategy sampled 30 clients (out of 100)\n"
          ]
        },
        {
          "output_type": "stream",
          "name": "stdout",
          "text": [
            "Saving round 91 aggregated_parameters...\n",
            "\u001b[2m\u001b[36m(launch_and_evaluate pid=3452)\u001b[0m [Client 26] evaluate, config: {}\n",
            "\u001b[2m\u001b[36m(launch_and_fit pid=3452)\u001b[0m Epoch 1: train loss 7.549472502432764e-05, accuracy 0.7407407407407407\u001b[32m [repeated 17x across cluster]\u001b[0m\n",
            "\u001b[2m\u001b[36m(launch_and_fit pid=3452)\u001b[0m [Client 32] fit, config: {'current_round': 91, 'local_epochs': 3}\u001b[32m [repeated 16x across cluster]\u001b[0m\n",
            "\u001b[2m\u001b[36m(launch_and_evaluate pid=3453)\u001b[0m [Client 42] evaluate, config: {}\u001b[32m [repeated 19x across cluster]\u001b[0m\n"
          ]
        },
        {
          "output_type": "stream",
          "name": "stderr",
          "text": [
            "DEBUG flower 2023-07-19 13:29:14,734 | server.py:170 | evaluate_round received 0 results and 30 failures\n",
            "DEBUG:flower:evaluate_round received 0 results and 30 failures\n",
            "DEBUG flower 2023-07-19 13:29:14,745 | server.py:203 | fit_round: strategy sampled 30 clients (out of 100)\n",
            "DEBUG:flower:fit_round: strategy sampled 30 clients (out of 100)\n"
          ]
        },
        {
          "output_type": "stream",
          "name": "stdout",
          "text": [
            "\u001b[2m\u001b[36m(launch_and_fit pid=3453)\u001b[0m [Client 28] fit, config: {'current_round': 92, 'local_epochs': 3}\n",
            "\u001b[2m\u001b[36m(launch_and_fit pid=3453)\u001b[0m Epoch 1: train loss 8.293223800137639e-05, accuracy 0.5740740740740741\n",
            "\u001b[2m\u001b[36m(launch_and_fit pid=3453)\u001b[0m \n",
            "\u001b[2m\u001b[36m(launch_and_evaluate pid=3453)\u001b[0m [Client 24] evaluate, config: {}\u001b[32m [repeated 10x across cluster]\u001b[0m\n",
            "\u001b[2m\u001b[36m(launch_and_fit pid=3453)\u001b[0m [Client 85] fit, config: {'current_round': 92, 'local_epochs': 3}\u001b[32m [repeated 24x across cluster]\u001b[0m\n",
            "\u001b[2m\u001b[36m(launch_and_fit pid=3452)\u001b[0m Epoch 1: train loss 8.234156121034175e-05, accuracy 0.6851851851851852\u001b[32m [repeated 25x across cluster]\u001b[0m\n"
          ]
        },
        {
          "output_type": "stream",
          "name": "stderr",
          "text": [
            "DEBUG flower 2023-07-19 13:29:20,992 | server.py:216 | fit_round received 30 results and 0 failures\n",
            "DEBUG:flower:fit_round received 30 results and 0 failures\n",
            "DEBUG flower 2023-07-19 13:29:21,105 | server.py:157 | evaluate_round: strategy sampled 30 clients (out of 100)\n",
            "DEBUG:flower:evaluate_round: strategy sampled 30 clients (out of 100)\n"
          ]
        },
        {
          "output_type": "stream",
          "name": "stdout",
          "text": [
            "Saving round 92 aggregated_parameters...\n",
            "\u001b[2m\u001b[36m(launch_and_evaluate pid=3452)\u001b[0m [Client 56] evaluate, config: {}\u001b[32m [repeated 10x across cluster]\u001b[0m\n",
            "\u001b[2m\u001b[36m(launch_and_fit pid=3453)\u001b[0m [Client 14] fit, config: {'current_round': 92, 'local_epochs': 3}\u001b[32m [repeated 5x across cluster]\u001b[0m\n",
            "\u001b[2m\u001b[36m(launch_and_fit pid=3453)\u001b[0m Epoch 1: train loss 9.022374433698133e-05, accuracy 0.5740740740740741\u001b[32m [repeated 4x across cluster]\u001b[0m\n"
          ]
        },
        {
          "output_type": "stream",
          "name": "stderr",
          "text": [
            "DEBUG flower 2023-07-19 13:29:26,618 | server.py:170 | evaluate_round received 0 results and 30 failures\n",
            "DEBUG:flower:evaluate_round received 0 results and 30 failures\n",
            "DEBUG flower 2023-07-19 13:29:26,628 | server.py:203 | fit_round: strategy sampled 30 clients (out of 100)\n",
            "DEBUG:flower:fit_round: strategy sampled 30 clients (out of 100)\n"
          ]
        },
        {
          "output_type": "stream",
          "name": "stdout",
          "text": [
            "\u001b[2m\u001b[36m(launch_and_evaluate pid=3452)\u001b[0m [Client 58] evaluate, config: {}\u001b[32m [repeated 20x across cluster]\u001b[0m\n",
            "\u001b[2m\u001b[36m(launch_and_fit pid=3452)\u001b[0m [Client 85] fit, config: {'current_round': 93, 'local_epochs': 3}\u001b[32m [repeated 11x across cluster]\u001b[0m\n",
            "\u001b[2m\u001b[36m(launch_and_fit pid=3452)\u001b[0m Epoch 1: train loss 0.00010627700976328924, accuracy 0.5555555555555556\u001b[32m [repeated 11x across cluster]\u001b[0m\n"
          ]
        },
        {
          "output_type": "stream",
          "name": "stderr",
          "text": [
            "DEBUG flower 2023-07-19 13:29:35,525 | server.py:216 | fit_round received 30 results and 0 failures\n",
            "DEBUG:flower:fit_round received 30 results and 0 failures\n",
            "DEBUG flower 2023-07-19 13:29:35,636 | server.py:157 | evaluate_round: strategy sampled 30 clients (out of 100)\n",
            "DEBUG:flower:evaluate_round: strategy sampled 30 clients (out of 100)\n"
          ]
        },
        {
          "output_type": "stream",
          "name": "stdout",
          "text": [
            "Saving round 93 aggregated_parameters...\n",
            "\u001b[2m\u001b[36m(launch_and_evaluate pid=3453)\u001b[0m [Client 4] evaluate, config: {}\n",
            "\u001b[2m\u001b[36m(launch_and_fit pid=3453)\u001b[0m [Client 45] fit, config: {'current_round': 93, 'local_epochs': 3}\u001b[32m [repeated 19x across cluster]\u001b[0m\n",
            "\u001b[2m\u001b[36m(launch_and_fit pid=3453)\u001b[0m Epoch 1: train loss 8.316135063068941e-05, accuracy 0.6481481481481481\u001b[32m [repeated 19x across cluster]\u001b[0m\n"
          ]
        },
        {
          "output_type": "stream",
          "name": "stderr",
          "text": [
            "DEBUG flower 2023-07-19 13:29:40,398 | server.py:170 | evaluate_round received 0 results and 30 failures\n",
            "DEBUG:flower:evaluate_round received 0 results and 30 failures\n",
            "DEBUG flower 2023-07-19 13:29:40,403 | server.py:203 | fit_round: strategy sampled 30 clients (out of 100)\n",
            "DEBUG:flower:fit_round: strategy sampled 30 clients (out of 100)\n"
          ]
        },
        {
          "output_type": "stream",
          "name": "stdout",
          "text": [
            "\u001b[2m\u001b[36m(launch_and_evaluate pid=3453)\u001b[0m [Client 48] evaluate, config: {}\u001b[32m [repeated 29x across cluster]\u001b[0m\n",
            "\u001b[2m\u001b[36m(launch_and_fit pid=3453)\u001b[0m [Client 68] fit, config: {'current_round': 94, 'local_epochs': 3}\u001b[32m [repeated 2x across cluster]\u001b[0m\n",
            "\u001b[2m\u001b[36m(launch_and_fit pid=3453)\u001b[0m Epoch 1: train loss 6.828074401710182e-05, accuracy 0.7407407407407407\n",
            "\u001b[2m\u001b[36m(launch_and_fit pid=3452)\u001b[0m Epoch 1: train loss 8.755604358157143e-05, accuracy 0.7037037037037037\n"
          ]
        },
        {
          "output_type": "stream",
          "name": "stderr",
          "text": [
            "DEBUG flower 2023-07-19 13:29:46,733 | server.py:216 | fit_round received 30 results and 0 failures\n",
            "DEBUG:flower:fit_round received 30 results and 0 failures\n"
          ]
        },
        {
          "output_type": "stream",
          "name": "stdout",
          "text": [
            "\u001b[2m\u001b[36m(launch_and_fit pid=3452)\u001b[0m [Client 23] fit, config: {'current_round': 94, 'local_epochs': 3}\u001b[32m [repeated 27x across cluster]\u001b[0m\n",
            "\u001b[2m\u001b[36m(launch_and_fit pid=3452)\u001b[0m Epoch 1: train loss 9.861786384135485e-05, accuracy 0.6481481481481481\u001b[32m [repeated 27x across cluster]\u001b[0m\n"
          ]
        },
        {
          "output_type": "stream",
          "name": "stderr",
          "text": [
            "DEBUG flower 2023-07-19 13:29:46,880 | server.py:157 | evaluate_round: strategy sampled 30 clients (out of 100)\n",
            "DEBUG:flower:evaluate_round: strategy sampled 30 clients (out of 100)\n"
          ]
        },
        {
          "output_type": "stream",
          "name": "stdout",
          "text": [
            "Saving round 94 aggregated_parameters...\n",
            "\u001b[2m\u001b[36m(launch_and_evaluate pid=3453)\u001b[0m [Client 23] evaluate, config: {}\n",
            "\u001b[2m\u001b[36m(launch_and_fit pid=3453)\u001b[0m [Client 79] evaluate, config: {}\n",
            "\u001b[2m\u001b[36m(launch_and_fit pid=3453)\u001b[0m [Client 79] evaluate, config: {}\n",
            "\u001b[2m\u001b[36m(launch_and_evaluate pid=3453)\u001b[0m [Client 87] evaluate, config: {}\u001b[32m [repeated 21x across cluster]\u001b[0m\n"
          ]
        },
        {
          "output_type": "stream",
          "name": "stderr",
          "text": [
            "DEBUG flower 2023-07-19 13:29:54,736 | server.py:170 | evaluate_round received 0 results and 30 failures\n",
            "DEBUG:flower:evaluate_round received 0 results and 30 failures\n",
            "DEBUG flower 2023-07-19 13:29:54,742 | server.py:203 | fit_round: strategy sampled 30 clients (out of 100)\n",
            "DEBUG:flower:fit_round: strategy sampled 30 clients (out of 100)\n"
          ]
        },
        {
          "output_type": "stream",
          "name": "stdout",
          "text": [
            "\u001b[2m\u001b[36m(launch_and_fit pid=3452)\u001b[0m [Client 74] fit, config: {'current_round': 95, 'local_epochs': 3}\n",
            "\u001b[2m\u001b[36m(launch_and_fit pid=3452)\u001b[0m Epoch 1: train loss 9.783654968487099e-05, accuracy 0.6851851851851852\n",
            "\u001b[2m\u001b[36m(launch_and_evaluate pid=3453)\u001b[0m [Client 58] evaluate, config: {}\u001b[32m [repeated 8x across cluster]\u001b[0m\n",
            "\u001b[2m\u001b[36m(launch_and_fit pid=3452)\u001b[0m [Client 44] fit, config: {'current_round': 95, 'local_epochs': 3}\u001b[32m [repeated 25x across cluster]\u001b[0m\n",
            "\u001b[2m\u001b[36m(launch_and_fit pid=3453)\u001b[0m Epoch 1: train loss 7.588573498651385e-05, accuracy 0.6481481481481481\u001b[32m [repeated 26x across cluster]\u001b[0m\n"
          ]
        },
        {
          "output_type": "stream",
          "name": "stderr",
          "text": [
            "DEBUG flower 2023-07-19 13:30:01,322 | server.py:216 | fit_round received 30 results and 0 failures\n",
            "DEBUG:flower:fit_round received 30 results and 0 failures\n",
            "DEBUG flower 2023-07-19 13:30:01,427 | server.py:157 | evaluate_round: strategy sampled 30 clients (out of 100)\n",
            "DEBUG:flower:evaluate_round: strategy sampled 30 clients (out of 100)\n"
          ]
        },
        {
          "output_type": "stream",
          "name": "stdout",
          "text": [
            "Saving round 95 aggregated_parameters...\n",
            "\u001b[2m\u001b[36m(launch_and_evaluate pid=3453)\u001b[0m [Client 24] evaluate, config: {}\u001b[32m [repeated 9x across cluster]\u001b[0m\n",
            "\u001b[2m\u001b[36m(launch_and_fit pid=3452)\u001b[0m [Client 78] fit, config: {'current_round': 95, 'local_epochs': 3}\u001b[32m [repeated 4x across cluster]\u001b[0m\n",
            "\u001b[2m\u001b[36m(launch_and_fit pid=3452)\u001b[0m Epoch 1: train loss 8.303274807985872e-05, accuracy 0.6851851851851852\u001b[32m [repeated 3x across cluster]\u001b[0m\n"
          ]
        },
        {
          "output_type": "stream",
          "name": "stderr",
          "text": [
            "DEBUG flower 2023-07-19 13:30:07,365 | server.py:170 | evaluate_round received 0 results and 30 failures\n",
            "DEBUG:flower:evaluate_round received 0 results and 30 failures\n",
            "DEBUG flower 2023-07-19 13:30:07,372 | server.py:203 | fit_round: strategy sampled 30 clients (out of 100)\n",
            "DEBUG:flower:fit_round: strategy sampled 30 clients (out of 100)\n"
          ]
        },
        {
          "output_type": "stream",
          "name": "stdout",
          "text": [
            "\u001b[2m\u001b[36m(launch_and_evaluate pid=3453)\u001b[0m [Client 60] evaluate, config: {}\u001b[32m [repeated 21x across cluster]\u001b[0m\n",
            "\u001b[2m\u001b[36m(launch_and_fit pid=3452)\u001b[0m [Client 92] fit, config: {'current_round': 96, 'local_epochs': 3}\u001b[32m [repeated 9x across cluster]\u001b[0m\n",
            "\u001b[2m\u001b[36m(launch_and_fit pid=3452)\u001b[0m Epoch 1: train loss 8.213024557335302e-05, accuracy 0.6851851851851852\u001b[32m [repeated 9x across cluster]\u001b[0m\n",
            "\u001b[2m\u001b[36m(launch_and_fit pid=3453)\u001b[0m [Client 11] fit, config: {'current_round': 96, 'local_epochs': 3}\u001b[32m [repeated 17x across cluster]\u001b[0m\n",
            "\u001b[2m\u001b[36m(launch_and_fit pid=3452)\u001b[0m Epoch 1: train loss 7.275812822626904e-05, accuracy 0.7037037037037037\u001b[32m [repeated 18x across cluster]\u001b[0m\n"
          ]
        },
        {
          "output_type": "stream",
          "name": "stderr",
          "text": [
            "DEBUG flower 2023-07-19 13:30:16,744 | server.py:216 | fit_round received 30 results and 0 failures\n",
            "DEBUG:flower:fit_round received 30 results and 0 failures\n",
            "DEBUG flower 2023-07-19 13:30:16,854 | server.py:157 | evaluate_round: strategy sampled 30 clients (out of 100)\n",
            "DEBUG:flower:evaluate_round: strategy sampled 30 clients (out of 100)\n"
          ]
        },
        {
          "output_type": "stream",
          "name": "stdout",
          "text": [
            "Saving round 96 aggregated_parameters...\n",
            "\u001b[2m\u001b[36m(launch_and_evaluate pid=3452)\u001b[0m [Client 58] evaluate, config: {}\n",
            "\u001b[2m\u001b[36m(launch_and_fit pid=3453)\u001b[0m [Client 29] fit, config: {'current_round': 96, 'local_epochs': 3}\u001b[32m [repeated 4x across cluster]\u001b[0m\n",
            "\u001b[2m\u001b[36m(launch_and_fit pid=3453)\u001b[0m Epoch 1: train loss 9.046902414411306e-05, accuracy 0.5740740740740741\u001b[32m [repeated 3x across cluster]\u001b[0m\n"
          ]
        },
        {
          "output_type": "stream",
          "name": "stderr",
          "text": [
            "DEBUG flower 2023-07-19 13:30:21,858 | server.py:170 | evaluate_round received 0 results and 30 failures\n",
            "DEBUG:flower:evaluate_round received 0 results and 30 failures\n",
            "DEBUG flower 2023-07-19 13:30:21,864 | server.py:203 | fit_round: strategy sampled 30 clients (out of 100)\n",
            "DEBUG:flower:fit_round: strategy sampled 30 clients (out of 100)\n"
          ]
        },
        {
          "output_type": "stream",
          "name": "stdout",
          "text": [
            "\u001b[2m\u001b[36m(launch_and_evaluate pid=3452)\u001b[0m [Client 49] evaluate, config: {}\u001b[32m [repeated 29x across cluster]\u001b[0m\n",
            "\u001b[2m\u001b[36m(launch_and_fit pid=3453)\u001b[0m [Client 87] fit, config: {'current_round': 97, 'local_epochs': 3}\u001b[32m [repeated 20x across cluster]\u001b[0m\n",
            "\u001b[2m\u001b[36m(launch_and_fit pid=3452)\u001b[0m Epoch 1: train loss 8.311822602991015e-05, accuracy 0.6851851851851852\u001b[32m [repeated 21x across cluster]\u001b[0m\n"
          ]
        },
        {
          "output_type": "stream",
          "name": "stderr",
          "text": [
            "DEBUG flower 2023-07-19 13:30:28,710 | server.py:216 | fit_round received 30 results and 0 failures\n",
            "DEBUG:flower:fit_round received 30 results and 0 failures\n",
            "DEBUG flower 2023-07-19 13:30:28,921 | server.py:157 | evaluate_round: strategy sampled 30 clients (out of 100)\n",
            "DEBUG:flower:evaluate_round: strategy sampled 30 clients (out of 100)\n"
          ]
        },
        {
          "output_type": "stream",
          "name": "stdout",
          "text": [
            "Saving round 97 aggregated_parameters...\n",
            "\u001b[2m\u001b[36m(launch_and_evaluate pid=3452)\u001b[0m [Client 4] evaluate, config: {}\n",
            "\u001b[2m\u001b[36m(launch_and_evaluate pid=3452)\u001b[0m \n",
            "\u001b[2m\u001b[36m(launch_and_evaluate pid=3452)\u001b[0m [Client 96] evaluate, config: {}\n",
            "\u001b[2m\u001b[36m(launch_and_fit pid=3452)\u001b[0m [Client 55] fit, config: {'current_round': 97, 'local_epochs': 3}\u001b[32m [repeated 10x across cluster]\u001b[0m\n",
            "\u001b[2m\u001b[36m(launch_and_fit pid=3452)\u001b[0m Epoch 1: train loss 7.167182775447145e-05, accuracy 0.7592592592592593\u001b[32m [repeated 9x across cluster]\u001b[0m\n",
            "\u001b[2m\u001b[36m(launch_and_evaluate pid=3452)\u001b[0m [Client 64] evaluate, config: {}\u001b[32m [repeated 23x across cluster]\u001b[0m\n"
          ]
        },
        {
          "output_type": "stream",
          "name": "stderr",
          "text": [
            "DEBUG flower 2023-07-19 13:30:35,347 | server.py:170 | evaluate_round received 0 results and 30 failures\n",
            "DEBUG:flower:evaluate_round received 0 results and 30 failures\n",
            "DEBUG flower 2023-07-19 13:30:35,351 | server.py:203 | fit_round: strategy sampled 30 clients (out of 100)\n",
            "DEBUG:flower:fit_round: strategy sampled 30 clients (out of 100)\n"
          ]
        },
        {
          "output_type": "stream",
          "name": "stdout",
          "text": [
            "\u001b[2m\u001b[36m(launch_and_fit pid=3453)\u001b[0m Epoch 1: train loss 7.440851913997903e-05, accuracy 0.7222222222222222\n",
            "\u001b[2m\u001b[36m(launch_and_fit pid=3452)\u001b[0m [Client 2] fit, config: {'current_round': 98, 'local_epochs': 3}\n",
            "\u001b[2m\u001b[36m(launch_and_fit pid=3452)\u001b[0m Epoch 1: train loss 7.118209759937599e-05, accuracy 0.6851851851851852\u001b[32m [repeated 2x across cluster]\u001b[0m\n",
            "\u001b[2m\u001b[36m(launch_and_evaluate pid=3453)\u001b[0m [Client 19] evaluate, config: {}\u001b[32m [repeated 5x across cluster]\u001b[0m\n"
          ]
        },
        {
          "output_type": "stream",
          "name": "stderr",
          "text": [
            "DEBUG flower 2023-07-19 13:30:41,261 | server.py:216 | fit_round received 30 results and 0 failures\n",
            "DEBUG:flower:fit_round received 30 results and 0 failures\n",
            "DEBUG flower 2023-07-19 13:30:41,360 | server.py:157 | evaluate_round: strategy sampled 30 clients (out of 100)\n",
            "DEBUG:flower:evaluate_round: strategy sampled 30 clients (out of 100)\n"
          ]
        },
        {
          "output_type": "stream",
          "name": "stdout",
          "text": [
            "Saving round 98 aggregated_parameters...\n",
            "\u001b[2m\u001b[36m(launch_and_fit pid=3452)\u001b[0m [Client 52] fit, config: {'current_round': 98, 'local_epochs': 3}\u001b[32m [repeated 28x across cluster]\u001b[0m\n",
            "\u001b[2m\u001b[36m(launch_and_fit pid=3452)\u001b[0m Epoch 1: train loss 8.564512972952798e-05, accuracy 0.5925925925925926\u001b[32m [repeated 28x across cluster]\u001b[0m\n",
            "\u001b[2m\u001b[36m(launch_and_evaluate pid=3453)\u001b[0m [Client 9] evaluate, config: {}\u001b[32m [repeated 23x across cluster]\u001b[0m\n"
          ]
        },
        {
          "output_type": "stream",
          "name": "stderr",
          "text": [
            "DEBUG flower 2023-07-19 13:30:46,083 | server.py:170 | evaluate_round received 0 results and 30 failures\n",
            "DEBUG:flower:evaluate_round received 0 results and 30 failures\n",
            "DEBUG flower 2023-07-19 13:30:46,089 | server.py:203 | fit_round: strategy sampled 30 clients (out of 100)\n",
            "DEBUG:flower:fit_round: strategy sampled 30 clients (out of 100)\n"
          ]
        },
        {
          "output_type": "stream",
          "name": "stdout",
          "text": [
            "\u001b[2m\u001b[36m(launch_and_fit pid=3453)\u001b[0m [Client 27] fit, config: {'current_round': 99, 'local_epochs': 3}\u001b[32m [repeated 2x across cluster]\u001b[0m\n",
            "\u001b[2m\u001b[36m(launch_and_fit pid=3453)\u001b[0m Epoch 1: train loss 9.270243026548997e-05, accuracy 0.6851851851851852\u001b[32m [repeated 2x across cluster]\u001b[0m\n",
            "\u001b[2m\u001b[36m(launch_and_evaluate pid=3453)\u001b[0m [Client 78] evaluate, config: {}\u001b[32m [repeated 7x across cluster]\u001b[0m\n",
            "\u001b[2m\u001b[36m(launch_and_fit pid=3453)\u001b[0m [Client 35] fit, config: {'current_round': 99, 'local_epochs': 3}\u001b[32m [repeated 17x across cluster]\u001b[0m\n",
            "\u001b[2m\u001b[36m(launch_and_fit pid=3453)\u001b[0m Epoch 1: train loss 0.00010028789984062314, accuracy 0.6481481481481481\u001b[32m [repeated 17x across cluster]\u001b[0m\n"
          ]
        },
        {
          "output_type": "stream",
          "name": "stderr",
          "text": [
            "DEBUG flower 2023-07-19 13:30:55,122 | server.py:216 | fit_round received 30 results and 0 failures\n",
            "DEBUG:flower:fit_round received 30 results and 0 failures\n",
            "DEBUG flower 2023-07-19 13:30:55,287 | server.py:157 | evaluate_round: strategy sampled 30 clients (out of 100)\n",
            "DEBUG:flower:evaluate_round: strategy sampled 30 clients (out of 100)\n"
          ]
        },
        {
          "output_type": "stream",
          "name": "stdout",
          "text": [
            "Saving round 99 aggregated_parameters...\n",
            "\u001b[2m\u001b[36m(launch_and_evaluate pid=3452)\u001b[0m [Client 23] evaluate, config: {}\n",
            "\u001b[2m\u001b[36m(launch_and_evaluate pid=3453)\u001b[0m [Client 33] evaluate, config: {}\n",
            "\u001b[2m\u001b[36m(launch_and_fit pid=3453)\u001b[0m [Client 88] fit, config: {'current_round': 99, 'local_epochs': 3}\u001b[32m [repeated 11x across cluster]\u001b[0m\n",
            "\u001b[2m\u001b[36m(launch_and_fit pid=3453)\u001b[0m Epoch 1: train loss 7.194560021162033e-05, accuracy 0.7037037037037037\u001b[32m [repeated 11x across cluster]\u001b[0m\n"
          ]
        },
        {
          "output_type": "stream",
          "name": "stderr",
          "text": [
            "DEBUG flower 2023-07-19 13:31:00,784 | server.py:170 | evaluate_round received 0 results and 30 failures\n",
            "DEBUG:flower:evaluate_round received 0 results and 30 failures\n",
            "DEBUG flower 2023-07-19 13:31:00,790 | server.py:203 | fit_round: strategy sampled 30 clients (out of 100)\n",
            "DEBUG:flower:fit_round: strategy sampled 30 clients (out of 100)\n"
          ]
        },
        {
          "output_type": "stream",
          "name": "stdout",
          "text": [
            "\u001b[2m\u001b[36m(launch_and_evaluate pid=3452)\u001b[0m [Client 25] evaluate, config: {}\u001b[32m [repeated 28x across cluster]\u001b[0m\n",
            "\u001b[2m\u001b[36m(launch_and_fit pid=3452)\u001b[0m [Client 81] fit, config: {'current_round': 100, 'local_epochs': 3}\u001b[32m [repeated 7x across cluster]\u001b[0m\n",
            "\u001b[2m\u001b[36m(launch_and_fit pid=3452)\u001b[0m Epoch 1: train loss 7.237093086587265e-05, accuracy 0.7777777777777778\u001b[32m [repeated 6x across cluster]\u001b[0m\n"
          ]
        },
        {
          "output_type": "stream",
          "name": "stderr",
          "text": [
            "DEBUG flower 2023-07-19 13:31:06,893 | server.py:216 | fit_round received 30 results and 0 failures\n",
            "DEBUG:flower:fit_round received 30 results and 0 failures\n",
            "DEBUG flower 2023-07-19 13:31:07,022 | server.py:157 | evaluate_round: strategy sampled 30 clients (out of 100)\n",
            "DEBUG:flower:evaluate_round: strategy sampled 30 clients (out of 100)\n"
          ]
        },
        {
          "output_type": "stream",
          "name": "stdout",
          "text": [
            "Saving round 100 aggregated_parameters...\n",
            "\u001b[2m\u001b[36m(launch_and_evaluate pid=3452)\u001b[0m [Client 51] evaluate, config: {}\n",
            "\u001b[2m\u001b[36m(launch_and_fit pid=3453)\u001b[0m [Client 17] fit, config: {'current_round': 100, 'local_epochs': 3}\u001b[32m [repeated 23x across cluster]\u001b[0m\n",
            "\u001b[2m\u001b[36m(launch_and_fit pid=3453)\u001b[0m Epoch 1: train loss 7.105759141268209e-05, accuracy 0.7592592592592593\u001b[32m [repeated 24x across cluster]\u001b[0m\n",
            "\u001b[2m\u001b[36m(launch_and_evaluate pid=3453)\u001b[0m [Client 16] evaluate, config: {}\u001b[32m [repeated 22x across cluster]\u001b[0m\n"
          ]
        },
        {
          "output_type": "stream",
          "name": "stderr",
          "text": [
            "DEBUG flower 2023-07-19 13:31:14,377 | server.py:170 | evaluate_round received 0 results and 30 failures\n",
            "DEBUG:flower:evaluate_round received 0 results and 30 failures\n",
            "INFO flower 2023-07-19 13:31:14,391 | server.py:138 | FL finished in 1373.483123412\n",
            "INFO:flower:FL finished in 1373.483123412\n",
            "INFO flower 2023-07-19 13:31:14,403 | app.py:178 | app_fit: losses_distributed []\n",
            "INFO:flower:app_fit: losses_distributed []\n",
            "INFO flower 2023-07-19 13:31:14,408 | app.py:179 | app_fit: metrics_distributed {}\n",
            "INFO:flower:app_fit: metrics_distributed {}\n",
            "INFO flower 2023-07-19 13:31:14,411 | app.py:180 | app_fit: losses_centralized []\n",
            "INFO:flower:app_fit: losses_centralized []\n",
            "INFO flower 2023-07-19 13:31:14,418 | app.py:181 | app_fit: metrics_centralized {}\n",
            "INFO:flower:app_fit: metrics_centralized {}\n"
          ]
        },
        {
          "output_type": "execute_result",
          "data": {
            "text/plain": []
          },
          "metadata": {},
          "execution_count": 15
        }
      ],
      "source": [
        "def fit_config(rnd: int):\n",
        "    config = {\n",
        "        \"current_round\": rnd,\n",
        "        \"local_epochs\": LOCAL_EPOCH,\n",
        "    }\n",
        "    return config\n",
        "\n",
        "##################################################################################\n",
        "\n",
        "class SaveModelStrategy(fl.server.strategy.FedAvg):\n",
        "    def aggregate_fit(\n",
        "        self,\n",
        "        rnd: int,\n",
        "        results: List[Tuple[fl.server.client_proxy.ClientProxy, fl.common.FitRes]],\n",
        "        failures: List[BaseException],\n",
        "    ) -> Optional[fl.common.Weights]:\n",
        "\n",
        "        # Aggregate model weights using weighted average and store checkpoint\n",
        "        aggregated_parameters_tuple = super().aggregate_fit(rnd, results, failures)\n",
        "        aggregated_parameters, _ = aggregated_parameters_tuple\n",
        "        # log_dict['aggregated_parameters']=aggregated_parameters\n",
        "\n",
        "        if aggregated_parameters is not None:\n",
        "            print(f\"Saving round {rnd} aggregated_parameters...\")\n",
        "            # Convert `Parameters` to `List[np.ndarray]`\n",
        "            aggregated_weights: List[np.ndarray] = fl.common.parameters_to_weights(aggregated_parameters)\n",
        "\n",
        "            # Convert `List[np.ndarray]` to PyTorch`state_dict`\n",
        "            params_dict = zip(Net().state_dict().keys(), aggregated_weights)\n",
        "            state_dict = OrderedDict({k: torch.tensor(v) for k, v in params_dict})\n",
        "\n",
        "            net = Net().to(DEVICE)\n",
        "            net.load_state_dict(state_dict, strict=True)\n",
        "\n",
        "            # torch.save(Net().state_dict(), PATH_TO_EXPERIMENT + f\"model_round_{rnd}.pth\")\n",
        "            torch.save(net.state_dict(), os.getcwd() + '/' + str(rnd) + '.pth')\n",
        "\n",
        "        return aggregated_parameters_tuple\n",
        "\n",
        "\n",
        "##################################################################################\n",
        "\n",
        "# Create strategy and run server\n",
        "strategy = SaveModelStrategy(\n",
        "\n",
        "    # fl.server.strategy.FedAvg(  # .FedAdagrad(    (As an alternative).\n",
        "    fraction_fit=0.3,  # Train on 30% of clients (each round)\n",
        "    fraction_eval=0.3,  # Evaluate on 30% of clients (each round)\n",
        "    min_fit_clients=3,\n",
        "    min_eval_clients=3,\n",
        "    min_available_clients=NUM_DEVICES,\n",
        "\n",
        "    initial_parameters=fl.common.weights_to_parameters(get_parameters(Net())),\n",
        "\n",
        "    on_fit_config_fn=fit_config,\n",
        "    # To evaluate aggregated model parameters on the server-side, open evaluate function above and run below:\n",
        "    # eval_fn=evaluate,  # Pass the evaluation function\n",
        "    # (same arguments as FedAvg here)\n",
        ")\n",
        "\n",
        "\"\"\"\n",
        "strategy = fl.server.strategy.FedAvg(  # .FedAdagrad(    (As an alternative).\n",
        "    fraction_fit=0.3,  # Train on 30% of clients (each round)\n",
        "    fraction_eval=0.3,  # Evaluate on 30% of clients (each round)\n",
        "    min_fit_clients=3,\n",
        "    min_eval_clients=3,\n",
        "    min_available_clients=NUM_DEVICES,\n",
        "\n",
        "    initial_parameters=fl.common.weights_to_parameters(get_parameters(Net())),\n",
        "\n",
        "    on_fit_config_fn=fit_config,\n",
        "    # To evaluate aggregated model parameters on the server-side, open evaluate function above and run below:\n",
        "    # eval_fn=evaluate,  # Pass the evaluation function\n",
        ")\n",
        "\"\"\"\n",
        "\n",
        "fl.simulation.start_simulation(\n",
        "    client_fn=client_fn,\n",
        "    num_clients=NUM_DEVICES,\n",
        "    num_rounds=NUM_ROUNDS,\n",
        "    strategy=strategy,\n",
        ")"
      ]
    },
    {
      "cell_type": "markdown",
      "id": "ec28e947-d5d0-4105-beef-afccffee134c",
      "metadata": {
        "id": "ec28e947-d5d0-4105-beef-afccffee134c"
      },
      "source": [
        "***\n",
        "# Result Analysis:\n",
        "***\n",
        "## Helper Function:"
      ]
    },
    {
      "cell_type": "code",
      "execution_count": 16,
      "id": "078e9167-7429-4899-a21f-4b42a2251d38",
      "metadata": {
        "id": "078e9167-7429-4899-a21f-4b42a2251d38"
      },
      "outputs": [],
      "source": [
        "def take_global_model():\n",
        "\n",
        "    GM = Net().to(device=DEVICE)\n",
        "\n",
        "    PATH = os.getcwd() + '/' + str(NUM_ROUNDS) + '.pth'\n",
        "    state_dict = torch.load(PATH)\n",
        "\n",
        "    GM.load_state_dict(state_dict)\n",
        "\n",
        "    return GM"
      ]
    },
    {
      "cell_type": "code",
      "execution_count": 17,
      "id": "1f255a23-04b3-4863-923b-ffd66f5d3048",
      "metadata": {
        "colab": {
          "base_uri": "https://localhost:8080/"
        },
        "id": "1f255a23-04b3-4863-923b-ffd66f5d3048",
        "outputId": "eaa1abb9-1f0a-4d64-e4b8-5fa0204f2bfd"
      },
      "outputs": [
        {
          "output_type": "stream",
          "name": "stdout",
          "text": [
            "GM loss and acc: 0.013312700122594834 0.6709\n"
          ]
        }
      ],
      "source": [
        "GM = take_global_model()\n",
        "GM_loss, GM_acc = test_model(GM, testloader)\n",
        "print('GM loss and acc:', GM_loss, GM_acc)"
      ]
    },
    {
      "cell_type": "markdown",
      "id": "5a021e87-a9b1-45f9-b382-9e1287d7c1c0",
      "metadata": {
        "id": "5a021e87-a9b1-45f9-b382-9e1287d7c1c0"
      },
      "source": [
        "***\n",
        "## Pruning Functions:"
      ]
    },
    {
      "cell_type": "code",
      "execution_count": 18,
      "id": "37632487-3fbc-46aa-ac90-7361e2d4fd4d",
      "metadata": {
        "id": "37632487-3fbc-46aa-ac90-7361e2d4fd4d"
      },
      "outputs": [],
      "source": [
        "def take_sparsity(model, show_results=True):\n",
        "\n",
        "\n",
        "    conv1 = 100. * float(torch.sum(model.conv1.weight == 0)) / float(model.conv1.weight.nelement())\n",
        "    conv2 = 100. * float(torch.sum(model.conv2.weight == 0)) / float(model.conv2.weight.nelement())\n",
        "\n",
        "    fc1 = 100. * float(torch.sum(model.fc1.weight == 0)) / float(model.fc1.weight.nelement())\n",
        "    fc2 = 100. * float(torch.sum(model.fc2.weight == 0)) / float(model.fc2.weight.nelement())\n",
        "    fc3 = 100. * float(torch.sum(model.fc3.weight == 0)) / float(model.fc3.weight.nelement())\n",
        "\n",
        "    global_sparsity = float(conv1 + conv2 + fc1 + fc2 + fc3) / 5.0\n",
        "\n",
        "    if show_results:\n",
        "        print(\"Sparsity in conv1.weight: {:.2f}%\".format(conv1))\n",
        "        print(\"Sparsity in conv2.weight: {:.2f}%\".format(conv2))\n",
        "\n",
        "        print(\"Sparsity in fc1.weight: {:.2f}%\".format(fc1))\n",
        "        print(\"Sparsity in fc2.weight: {:.2f}%\".format(fc2))\n",
        "        print(\"Sparsity in fc3.weight: {:.2f}%\".format(fc3))\n",
        "\n",
        "        print(\"Global sparsity: {:.2f}%\".format(global_sparsity))\n",
        "\n",
        "\n",
        "    return [conv1, conv2, fc1, fc2, fc3, global_sparsity]"
      ]
    },
    {
      "cell_type": "code",
      "execution_count": 19,
      "id": "3d1005d5-e255-4a86-8325-c504d1cd981b",
      "metadata": {
        "tags": [],
        "id": "3d1005d5-e255-4a86-8325-c504d1cd981b"
      },
      "outputs": [],
      "source": [
        "def prune_model(model, threshold=0.5):\n",
        "\n",
        "    # Not: Look also prune.remove(layername, \"weight\")\n",
        "\n",
        "    model = model.eval()\n",
        "\n",
        "    parameters_to_prune = (\n",
        "        (model.conv1, 'weight'),\n",
        "        (model.conv2, 'weight'),\n",
        "        (model.fc1, 'weight'),\n",
        "        (model.fc2, 'weight'),\n",
        "        (model.fc3, 'weight'),\n",
        "    )\n",
        "\n",
        "\n",
        "    prune.global_unstructured(parameters_to_prune,\n",
        "                              pruning_method=prune.L1Unstructured,\n",
        "                              amount=threshold,)\n",
        "\n",
        "    return model"
      ]
    },
    {
      "cell_type": "markdown",
      "id": "301a29dd-3cba-4885-8f1b-9f9b5a9b3ae8",
      "metadata": {
        "id": "301a29dd-3cba-4885-8f1b-9f9b5a9b3ae8"
      },
      "source": [
        "***\n",
        "## Results after Pruning:"
      ]
    },
    {
      "cell_type": "code",
      "source": [
        "def take_participation(gs_list):\n",
        "\n",
        "    participation_list = []\n",
        "\n",
        "    for i, gs in enumerate(gs_list):\n",
        "        participation_list.append(int(NUM_DEVICES + (gs * (NUM_DEVICES * NUM_DEVICE_TYPE))/100))\n",
        "\n",
        "    return participation_list"
      ],
      "metadata": {
        "id": "7Eue3qXkZ4lL"
      },
      "id": "7Eue3qXkZ4lL",
      "execution_count": 20,
      "outputs": []
    },
    {
      "cell_type": "code",
      "source": [
        "threshold_arr = []\n",
        "sparsity_arr = []\n",
        "loss_and_acc_arr = []\n",
        "\n",
        "for t in range(1, 11):\n",
        "\n",
        "    T = t/10\n",
        "    threshold_arr.append(T)\n",
        "\n",
        "    print('\\n *******************************************************')\n",
        "    print('\\n Threshold is:', T, '\\n')\n",
        "\n",
        "    GM = take_global_model()\n",
        "\n",
        "    temp_pruned_GM = prune_model(GM, threshold=T)\n",
        "    sparsity_arr.append(take_sparsity(temp_pruned_GM, show_results=True))\n",
        "\n",
        "    performance = test_model(temp_pruned_GM, testloader)\n",
        "    loss_and_acc_arr.append(performance)\n",
        "\n",
        "    print('\\n Pruned GM1 loss and acc:', performance)\n",
        "\n",
        "sparsity_arr = np.array(sparsity_arr)\n",
        "\n",
        "loss_and_acc_arr = np.array(loss_and_acc_arr)\n",
        "loss_arr = loss_and_acc_arr[:,0]\n",
        "acc_arr = loss_and_acc_arr[:,1]"
      ],
      "metadata": {
        "colab": {
          "base_uri": "https://localhost:8080/"
        },
        "id": "xNz5fnXBaC5q",
        "outputId": "db68e8df-089d-4e90-eb48-0950f620a7fc"
      },
      "id": "xNz5fnXBaC5q",
      "execution_count": 21,
      "outputs": [
        {
          "output_type": "stream",
          "name": "stdout",
          "text": [
            "\n",
            " *******************************************************\n",
            "\n",
            " Threshold is: 0.1 \n",
            "\n",
            "Sparsity in conv1.weight: 2.00%\n",
            "Sparsity in conv2.weight: 6.12%\n",
            "Sparsity in fc1.weight: 11.09%\n",
            "Sparsity in fc2.weight: 6.34%\n",
            "Sparsity in fc3.weight: 4.05%\n",
            "Global sparsity: 5.92%\n",
            "\n",
            " Pruned GM1 loss and acc: [0.013338492554426193, 0.6698]\n",
            "\n",
            " *******************************************************\n",
            "\n",
            " Threshold is: 0.2 \n",
            "\n",
            "Sparsity in conv1.weight: 4.67%\n",
            "Sparsity in conv2.weight: 12.88%\n",
            "Sparsity in fc1.weight: 22.18%\n",
            "Sparsity in fc2.weight: 12.53%\n",
            "Sparsity in fc3.weight: 8.10%\n",
            "Global sparsity: 12.07%\n",
            "\n",
            " Pruned GM1 loss and acc: [0.01330339093208313, 0.6713]\n",
            "\n",
            " *******************************************************\n",
            "\n",
            " Threshold is: 0.3 \n",
            "\n",
            "Sparsity in conv1.weight: 8.00%\n",
            "Sparsity in conv2.weight: 19.29%\n",
            "Sparsity in fc1.weight: 33.34%\n",
            "Sparsity in fc2.weight: 18.37%\n",
            "Sparsity in fc3.weight: 12.98%\n",
            "Global sparsity: 18.40%\n",
            "\n",
            " Pruned GM1 loss and acc: [0.013581068581342698, 0.6609]\n",
            "\n",
            " *******************************************************\n",
            "\n",
            " Threshold is: 0.4 \n",
            "\n",
            "Sparsity in conv1.weight: 10.67%\n",
            "Sparsity in conv2.weight: 25.50%\n",
            "Sparsity in fc1.weight: 44.49%\n",
            "Sparsity in fc2.weight: 24.30%\n",
            "Sparsity in fc3.weight: 18.45%\n",
            "Global sparsity: 24.68%\n",
            "\n",
            " Pruned GM1 loss and acc: [0.01415117192864418, 0.6395]\n",
            "\n",
            " *******************************************************\n",
            "\n",
            " Threshold is: 0.5 \n",
            "\n",
            "Sparsity in conv1.weight: 13.33%\n",
            "Sparsity in conv2.weight: 31.62%\n",
            "Sparsity in fc1.weight: 55.60%\n",
            "Sparsity in fc2.weight: 30.42%\n",
            "Sparsity in fc3.weight: 24.29%\n",
            "Global sparsity: 31.05%\n",
            "\n",
            " Pruned GM1 loss and acc: [0.013855026465654374, 0.6417]\n",
            "\n",
            " *******************************************************\n",
            "\n",
            " Threshold is: 0.6 \n",
            "\n",
            "Sparsity in conv1.weight: 14.67%\n",
            "Sparsity in conv2.weight: 39.38%\n",
            "Sparsity in fc1.weight: 66.63%\n",
            "Sparsity in fc2.weight: 36.62%\n",
            "Sparsity in fc3.weight: 28.81%\n",
            "Global sparsity: 37.22%\n",
            "\n",
            " Pruned GM1 loss and acc: [0.014296540522575379, 0.6124]\n",
            "\n",
            " *******************************************************\n",
            "\n",
            " Threshold is: 0.7 \n",
            "\n",
            "Sparsity in conv1.weight: 20.67%\n",
            "Sparsity in conv2.weight: 48.17%\n",
            "Sparsity in fc1.weight: 77.42%\n",
            "Sparsity in fc2.weight: 43.56%\n",
            "Sparsity in fc3.weight: 34.17%\n",
            "Global sparsity: 44.80%\n",
            "\n",
            " Pruned GM1 loss and acc: [0.014494519382715225, 0.6376]\n",
            "\n",
            " *******************************************************\n",
            "\n",
            " Threshold is: 0.8 \n",
            "\n",
            "Sparsity in conv1.weight: 24.00%\n",
            "Sparsity in conv2.weight: 56.79%\n",
            "Sparsity in fc1.weight: 87.94%\n",
            "Sparsity in fc2.weight: 51.97%\n",
            "Sparsity in fc3.weight: 39.05%\n",
            "Global sparsity: 51.95%\n",
            "\n",
            " Pruned GM1 loss and acc: [0.01699786551594734, 0.6127]\n",
            "\n",
            " *******************************************************\n",
            "\n",
            " Threshold is: 0.9 \n",
            "\n",
            "Sparsity in conv1.weight: 31.33%\n",
            "Sparsity in conv2.weight: 70.50%\n",
            "Sparsity in fc1.weight: 96.57%\n",
            "Sparsity in fc2.weight: 67.57%\n",
            "Sparsity in fc3.weight: 50.00%\n",
            "Global sparsity: 63.19%\n",
            "\n",
            " Pruned GM1 loss and acc: [0.02870276621580124, 0.3409]\n",
            "\n",
            " *******************************************************\n",
            "\n",
            " Threshold is: 1.0 \n",
            "\n",
            "Sparsity in conv1.weight: 100.00%\n",
            "Sparsity in conv2.weight: 100.00%\n",
            "Sparsity in fc1.weight: 100.00%\n",
            "Sparsity in fc2.weight: 100.00%\n",
            "Sparsity in fc3.weight: 100.00%\n",
            "Global sparsity: 100.00%\n",
            "\n",
            " Pruned GM1 loss and acc: [0.03617888152599335, 0.1]\n"
          ]
        }
      ]
    },
    {
      "cell_type": "code",
      "execution_count": 22,
      "id": "507b0eb2-ab2d-43f2-a354-ed5e1c37bd5d",
      "metadata": {
        "colab": {
          "base_uri": "https://localhost:8080/",
          "height": 363
        },
        "id": "507b0eb2-ab2d-43f2-a354-ed5e1c37bd5d",
        "outputId": "367b37a9-dac8-4705-bd3f-5c4fd7b95785"
      },
      "outputs": [
        {
          "output_type": "execute_result",
          "data": {
            "text/plain": [
              "     Threshold  SFL Accuracy  subMFL Accuracy  SFL Loss  subMFL Loss  \\\n",
              "GM         0.0        0.1040           0.1040  0.036129     0.036129   \n",
              "SM1        0.1        0.0785           0.6698  0.036205     0.013338   \n",
              "SM2        0.2        0.1000           0.6713  0.036163     0.013303   \n",
              "SM3        0.3        0.1000           0.6609  0.036210     0.013581   \n",
              "SM4        0.4        0.1000           0.6395  0.036188     0.014151   \n",
              "SM5        0.5        0.0871           0.6417  0.036217     0.013855   \n",
              "SM6        0.6        0.1000           0.6124  0.036168     0.014297   \n",
              "SM7        0.7        0.0843           0.6376  0.036198     0.014495   \n",
              "SM8        0.8        0.0839           0.6127  0.036190     0.016998   \n",
              "SM9        0.9        0.1000           0.3409  0.036178     0.028703   \n",
              "\n",
              "     SFL Participation  subMFL Participation  SFL Global Sparsity  \\\n",
              "GM                 100                   100             0.000000   \n",
              "SM1                164                   159             6.441984   \n",
              "SM2                225                   220            12.570774   \n",
              "SM3                287                   283            18.788849   \n",
              "SM4                351                   346            25.198869   \n",
              "SM5                436                   410            33.611230   \n",
              "SM6                490                   472            39.047262   \n",
              "SM7                544                   547            44.480179   \n",
              "SM8                615                   619            51.541071   \n",
              "SM9                675                   731            57.513889   \n",
              "\n",
              "     subMFL Global Sparsity  \n",
              "GM                 0.000000  \n",
              "SM1                5.920714  \n",
              "SM2               12.069583  \n",
              "SM3               18.396925  \n",
              "SM4               24.681270  \n",
              "SM5               31.051310  \n",
              "SM6               37.219484  \n",
              "SM7               44.797302  \n",
              "SM8               51.950198  \n",
              "SM9               63.194306  "
            ],
            "text/html": [
              "\n",
              "\n",
              "  <div id=\"df-92f8ab69-9163-492d-ad4c-cf15c07362cb\">\n",
              "    <div class=\"colab-df-container\">\n",
              "      <div>\n",
              "<style scoped>\n",
              "    .dataframe tbody tr th:only-of-type {\n",
              "        vertical-align: middle;\n",
              "    }\n",
              "\n",
              "    .dataframe tbody tr th {\n",
              "        vertical-align: top;\n",
              "    }\n",
              "\n",
              "    .dataframe thead th {\n",
              "        text-align: right;\n",
              "    }\n",
              "</style>\n",
              "<table border=\"1\" class=\"dataframe\">\n",
              "  <thead>\n",
              "    <tr style=\"text-align: right;\">\n",
              "      <th></th>\n",
              "      <th>Threshold</th>\n",
              "      <th>SFL Accuracy</th>\n",
              "      <th>subMFL Accuracy</th>\n",
              "      <th>SFL Loss</th>\n",
              "      <th>subMFL Loss</th>\n",
              "      <th>SFL Participation</th>\n",
              "      <th>subMFL Participation</th>\n",
              "      <th>SFL Global Sparsity</th>\n",
              "      <th>subMFL Global Sparsity</th>\n",
              "    </tr>\n",
              "  </thead>\n",
              "  <tbody>\n",
              "    <tr>\n",
              "      <th>GM</th>\n",
              "      <td>0.0</td>\n",
              "      <td>0.1040</td>\n",
              "      <td>0.1040</td>\n",
              "      <td>0.036129</td>\n",
              "      <td>0.036129</td>\n",
              "      <td>100</td>\n",
              "      <td>100</td>\n",
              "      <td>0.000000</td>\n",
              "      <td>0.000000</td>\n",
              "    </tr>\n",
              "    <tr>\n",
              "      <th>SM1</th>\n",
              "      <td>0.1</td>\n",
              "      <td>0.0785</td>\n",
              "      <td>0.6698</td>\n",
              "      <td>0.036205</td>\n",
              "      <td>0.013338</td>\n",
              "      <td>164</td>\n",
              "      <td>159</td>\n",
              "      <td>6.441984</td>\n",
              "      <td>5.920714</td>\n",
              "    </tr>\n",
              "    <tr>\n",
              "      <th>SM2</th>\n",
              "      <td>0.2</td>\n",
              "      <td>0.1000</td>\n",
              "      <td>0.6713</td>\n",
              "      <td>0.036163</td>\n",
              "      <td>0.013303</td>\n",
              "      <td>225</td>\n",
              "      <td>220</td>\n",
              "      <td>12.570774</td>\n",
              "      <td>12.069583</td>\n",
              "    </tr>\n",
              "    <tr>\n",
              "      <th>SM3</th>\n",
              "      <td>0.3</td>\n",
              "      <td>0.1000</td>\n",
              "      <td>0.6609</td>\n",
              "      <td>0.036210</td>\n",
              "      <td>0.013581</td>\n",
              "      <td>287</td>\n",
              "      <td>283</td>\n",
              "      <td>18.788849</td>\n",
              "      <td>18.396925</td>\n",
              "    </tr>\n",
              "    <tr>\n",
              "      <th>SM4</th>\n",
              "      <td>0.4</td>\n",
              "      <td>0.1000</td>\n",
              "      <td>0.6395</td>\n",
              "      <td>0.036188</td>\n",
              "      <td>0.014151</td>\n",
              "      <td>351</td>\n",
              "      <td>346</td>\n",
              "      <td>25.198869</td>\n",
              "      <td>24.681270</td>\n",
              "    </tr>\n",
              "    <tr>\n",
              "      <th>SM5</th>\n",
              "      <td>0.5</td>\n",
              "      <td>0.0871</td>\n",
              "      <td>0.6417</td>\n",
              "      <td>0.036217</td>\n",
              "      <td>0.013855</td>\n",
              "      <td>436</td>\n",
              "      <td>410</td>\n",
              "      <td>33.611230</td>\n",
              "      <td>31.051310</td>\n",
              "    </tr>\n",
              "    <tr>\n",
              "      <th>SM6</th>\n",
              "      <td>0.6</td>\n",
              "      <td>0.1000</td>\n",
              "      <td>0.6124</td>\n",
              "      <td>0.036168</td>\n",
              "      <td>0.014297</td>\n",
              "      <td>490</td>\n",
              "      <td>472</td>\n",
              "      <td>39.047262</td>\n",
              "      <td>37.219484</td>\n",
              "    </tr>\n",
              "    <tr>\n",
              "      <th>SM7</th>\n",
              "      <td>0.7</td>\n",
              "      <td>0.0843</td>\n",
              "      <td>0.6376</td>\n",
              "      <td>0.036198</td>\n",
              "      <td>0.014495</td>\n",
              "      <td>544</td>\n",
              "      <td>547</td>\n",
              "      <td>44.480179</td>\n",
              "      <td>44.797302</td>\n",
              "    </tr>\n",
              "    <tr>\n",
              "      <th>SM8</th>\n",
              "      <td>0.8</td>\n",
              "      <td>0.0839</td>\n",
              "      <td>0.6127</td>\n",
              "      <td>0.036190</td>\n",
              "      <td>0.016998</td>\n",
              "      <td>615</td>\n",
              "      <td>619</td>\n",
              "      <td>51.541071</td>\n",
              "      <td>51.950198</td>\n",
              "    </tr>\n",
              "    <tr>\n",
              "      <th>SM9</th>\n",
              "      <td>0.9</td>\n",
              "      <td>0.1000</td>\n",
              "      <td>0.3409</td>\n",
              "      <td>0.036178</td>\n",
              "      <td>0.028703</td>\n",
              "      <td>675</td>\n",
              "      <td>731</td>\n",
              "      <td>57.513889</td>\n",
              "      <td>63.194306</td>\n",
              "    </tr>\n",
              "  </tbody>\n",
              "</table>\n",
              "</div>\n",
              "      <button class=\"colab-df-convert\" onclick=\"convertToInteractive('df-92f8ab69-9163-492d-ad4c-cf15c07362cb')\"\n",
              "              title=\"Convert this dataframe to an interactive table.\"\n",
              "              style=\"display:none;\">\n",
              "\n",
              "  <svg xmlns=\"http://www.w3.org/2000/svg\" height=\"24px\"viewBox=\"0 0 24 24\"\n",
              "       width=\"24px\">\n",
              "    <path d=\"M0 0h24v24H0V0z\" fill=\"none\"/>\n",
              "    <path d=\"M18.56 5.44l.94 2.06.94-2.06 2.06-.94-2.06-.94-.94-2.06-.94 2.06-2.06.94zm-11 1L8.5 8.5l.94-2.06 2.06-.94-2.06-.94L8.5 2.5l-.94 2.06-2.06.94zm10 10l.94 2.06.94-2.06 2.06-.94-2.06-.94-.94-2.06-.94 2.06-2.06.94z\"/><path d=\"M17.41 7.96l-1.37-1.37c-.4-.4-.92-.59-1.43-.59-.52 0-1.04.2-1.43.59L10.3 9.45l-7.72 7.72c-.78.78-.78 2.05 0 2.83L4 21.41c.39.39.9.59 1.41.59.51 0 1.02-.2 1.41-.59l7.78-7.78 2.81-2.81c.8-.78.8-2.07 0-2.86zM5.41 20L4 18.59l7.72-7.72 1.47 1.35L5.41 20z\"/>\n",
              "  </svg>\n",
              "      </button>\n",
              "\n",
              "\n",
              "\n",
              "    <div id=\"df-28ad5411-3e1f-47c9-bd68-d307cef2372d\">\n",
              "      <button class=\"colab-df-quickchart\" onclick=\"quickchart('df-28ad5411-3e1f-47c9-bd68-d307cef2372d')\"\n",
              "              title=\"Suggest charts.\"\n",
              "              style=\"display:none;\">\n",
              "\n",
              "<svg xmlns=\"http://www.w3.org/2000/svg\" height=\"24px\"viewBox=\"0 0 24 24\"\n",
              "     width=\"24px\">\n",
              "    <g>\n",
              "        <path d=\"M19 3H5c-1.1 0-2 .9-2 2v14c0 1.1.9 2 2 2h14c1.1 0 2-.9 2-2V5c0-1.1-.9-2-2-2zM9 17H7v-7h2v7zm4 0h-2V7h2v10zm4 0h-2v-4h2v4z\"/>\n",
              "    </g>\n",
              "</svg>\n",
              "      </button>\n",
              "    </div>\n",
              "\n",
              "<style>\n",
              "  .colab-df-quickchart {\n",
              "    background-color: #E8F0FE;\n",
              "    border: none;\n",
              "    border-radius: 50%;\n",
              "    cursor: pointer;\n",
              "    display: none;\n",
              "    fill: #1967D2;\n",
              "    height: 32px;\n",
              "    padding: 0 0 0 0;\n",
              "    width: 32px;\n",
              "  }\n",
              "\n",
              "  .colab-df-quickchart:hover {\n",
              "    background-color: #E2EBFA;\n",
              "    box-shadow: 0px 1px 2px rgba(60, 64, 67, 0.3), 0px 1px 3px 1px rgba(60, 64, 67, 0.15);\n",
              "    fill: #174EA6;\n",
              "  }\n",
              "\n",
              "  [theme=dark] .colab-df-quickchart {\n",
              "    background-color: #3B4455;\n",
              "    fill: #D2E3FC;\n",
              "  }\n",
              "\n",
              "  [theme=dark] .colab-df-quickchart:hover {\n",
              "    background-color: #434B5C;\n",
              "    box-shadow: 0px 1px 3px 1px rgba(0, 0, 0, 0.15);\n",
              "    filter: drop-shadow(0px 1px 2px rgba(0, 0, 0, 0.3));\n",
              "    fill: #FFFFFF;\n",
              "  }\n",
              "</style>\n",
              "\n",
              "    <script>\n",
              "      async function quickchart(key) {\n",
              "        const containerElement = document.querySelector('#' + key);\n",
              "        const charts = await google.colab.kernel.invokeFunction(\n",
              "            'suggestCharts', [key], {});\n",
              "      }\n",
              "    </script>\n",
              "\n",
              "      <script>\n",
              "\n",
              "function displayQuickchartButton(domScope) {\n",
              "  let quickchartButtonEl =\n",
              "    domScope.querySelector('#df-28ad5411-3e1f-47c9-bd68-d307cef2372d button.colab-df-quickchart');\n",
              "  quickchartButtonEl.style.display =\n",
              "    google.colab.kernel.accessAllowed ? 'block' : 'none';\n",
              "}\n",
              "\n",
              "        displayQuickchartButton(document);\n",
              "      </script>\n",
              "      <style>\n",
              "    .colab-df-container {\n",
              "      display:flex;\n",
              "      flex-wrap:wrap;\n",
              "      gap: 12px;\n",
              "    }\n",
              "\n",
              "    .colab-df-convert {\n",
              "      background-color: #E8F0FE;\n",
              "      border: none;\n",
              "      border-radius: 50%;\n",
              "      cursor: pointer;\n",
              "      display: none;\n",
              "      fill: #1967D2;\n",
              "      height: 32px;\n",
              "      padding: 0 0 0 0;\n",
              "      width: 32px;\n",
              "    }\n",
              "\n",
              "    .colab-df-convert:hover {\n",
              "      background-color: #E2EBFA;\n",
              "      box-shadow: 0px 1px 2px rgba(60, 64, 67, 0.3), 0px 1px 3px 1px rgba(60, 64, 67, 0.15);\n",
              "      fill: #174EA6;\n",
              "    }\n",
              "\n",
              "    [theme=dark] .colab-df-convert {\n",
              "      background-color: #3B4455;\n",
              "      fill: #D2E3FC;\n",
              "    }\n",
              "\n",
              "    [theme=dark] .colab-df-convert:hover {\n",
              "      background-color: #434B5C;\n",
              "      box-shadow: 0px 1px 3px 1px rgba(0, 0, 0, 0.15);\n",
              "      filter: drop-shadow(0px 1px 2px rgba(0, 0, 0, 0.3));\n",
              "      fill: #FFFFFF;\n",
              "    }\n",
              "  </style>\n",
              "\n",
              "      <script>\n",
              "        const buttonEl =\n",
              "          document.querySelector('#df-92f8ab69-9163-492d-ad4c-cf15c07362cb button.colab-df-convert');\n",
              "        buttonEl.style.display =\n",
              "          google.colab.kernel.accessAllowed ? 'block' : 'none';\n",
              "\n",
              "        async function convertToInteractive(key) {\n",
              "          const element = document.querySelector('#df-92f8ab69-9163-492d-ad4c-cf15c07362cb');\n",
              "          const dataTable =\n",
              "            await google.colab.kernel.invokeFunction('convertToInteractive',\n",
              "                                                     [key], {});\n",
              "          if (!dataTable) return;\n",
              "\n",
              "          const docLinkHtml = 'Like what you see? Visit the ' +\n",
              "            '<a target=\"_blank\" href=https://colab.research.google.com/notebooks/data_table.ipynb>data table notebook</a>'\n",
              "            + ' to learn more about interactive tables.';\n",
              "          element.innerHTML = '';\n",
              "          dataTable['output_type'] = 'display_data';\n",
              "          await google.colab.output.renderOutput(dataTable, element);\n",
              "          const docLink = document.createElement('div');\n",
              "          docLink.innerHTML = docLinkHtml;\n",
              "          element.appendChild(docLink);\n",
              "        }\n",
              "      </script>\n",
              "    </div>\n",
              "  </div>\n"
            ]
          },
          "metadata": {},
          "execution_count": 22
        }
      ],
      "source": [
        "df = pd.DataFrame(data=sparsity_arr, columns=['Conv1', 'Conv2', 'FC1', 'FC2', 'FC3', 'Global Sparsity'])\n",
        "df[\"subMFL Accuracy\"] = acc_arr\n",
        "df[\"subMFL Loss\"] = loss_arr\n",
        "df[\"Threshold\"] = threshold_arr\n",
        "df = df[['Threshold', 'subMFL Accuracy', 'subMFL Loss', 'Global Sparsity',\n",
        "         'Conv1', 'Conv2', 'FC1', 'FC2', 'FC3']]\n",
        "df.loc[-1] = [0.0, 0.0, 0.0, 0.0, 0.0, 0.0, 0.0, 0.0, 0.0]\n",
        "df.index = df.index + 1\n",
        "df.sort_index(inplace=True)\n",
        "df['Participation'] = [x*100 for x in range(1, 11)] + [1000]\n",
        "df = df[:-1]\n",
        "\n",
        "# Add SFL Results:\n",
        "arr = [[], []]\n",
        "sfl_smodels = []\n",
        "sfl_smodels_gs = []\n",
        "for t in range(0, 10):\n",
        "\n",
        "    T = t/10\n",
        "\n",
        "    sfl_smodel = Net()\n",
        "    sfl_smodels.append(sfl_smodel)\n",
        "\n",
        "    S_FL_GM = sfl_smodel.to(device=DEVICE)\n",
        "    SM = prune_model(S_FL_GM, threshold=T)\n",
        "    sfl_smodels_gs.append(take_sparsity(SM, show_results=False)[5])\n",
        "    l, a = test_model(SM, testloader)\n",
        "\n",
        "    arr[0].append(l)\n",
        "    arr[1].append(a)\n",
        "\n",
        "df['SFL Loss'] = arr[0]\n",
        "df['SFL Accuracy'] = arr[1]\n",
        "\n",
        "\n",
        "df.loc[0, 'subMFL Accuracy'] = df.loc[0, 'SFL Accuracy']\n",
        "df.loc[0, 'subMFL Loss'] = df.loc[0, 'SFL Loss']\n",
        "\n",
        "df[\"SFL Global Sparsity\"] = sfl_smodels_gs\n",
        "df[\"SFL Participation\"] = take_participation(sfl_smodels_gs)\n",
        "\n",
        "df.rename(columns={\"Participation\": \"subMFL Participation\", \"Global Sparsity\": \"subMFL Global Sparsity\"}, inplace=True)\n",
        "df[\"subMFL Participation\"] = take_participation(df[\"subMFL Global Sparsity\"].values)\n",
        "\n",
        "df = df[['Threshold', 'SFL Accuracy', 'subMFL Accuracy', 'SFL Loss', 'subMFL Loss', 'SFL Participation', 'subMFL Participation',\n",
        "         'SFL Global Sparsity', 'subMFL Global Sparsity']]\n",
        "\n",
        "df = df.rename(index={0: 'GM', 1: 'SM1', 2: 'SM2', 3: 'SM3', 4: 'SM4', 5: 'SM5', 6: 'SM6', 7: 'SM7',\n",
        "                      8: 'SM8', 9: 'SM9'})\n",
        "\n",
        "df"
      ]
    },
    {
      "cell_type": "code",
      "execution_count": 23,
      "id": "3d51ba3d-fc15-41fd-860e-c1c3294305a3",
      "metadata": {
        "colab": {
          "base_uri": "https://localhost:8080/"
        },
        "id": "3d51ba3d-fc15-41fd-860e-c1c3294305a3",
        "outputId": "71df3bbe-3da1-4894-d00c-e3a06b5e0376"
      },
      "outputs": [
        {
          "output_type": "stream",
          "name": "stdout",
          "text": [
            "\\begin{tabular}{lrrrrrrrrr}\n",
            " & Threshold & SFL Accuracy & subMFL Accuracy & SFL Loss & subMFL Loss & SFL Participation & subMFL Participation & SFL Global Sparsity & subMFL Global Sparsity \\\\\n",
            "GM & 0.000000 & 0.104000 & 0.104000 & 0.036129 & 0.036129 & 100 & 100 & 0.000000 & 0.000000 \\\\\n",
            "SM1 & 0.100000 & 0.078500 & 0.669800 & 0.036205 & 0.013338 & 164 & 159 & 6.441984 & 5.920714 \\\\\n",
            "SM2 & 0.200000 & 0.100000 & 0.671300 & 0.036163 & 0.013303 & 225 & 220 & 12.570774 & 12.069583 \\\\\n",
            "SM3 & 0.300000 & 0.100000 & 0.660900 & 0.036210 & 0.013581 & 287 & 283 & 18.788849 & 18.396925 \\\\\n",
            "SM4 & 0.400000 & 0.100000 & 0.639500 & 0.036188 & 0.014151 & 351 & 346 & 25.198869 & 24.681270 \\\\\n",
            "SM5 & 0.500000 & 0.087100 & 0.641700 & 0.036217 & 0.013855 & 436 & 410 & 33.611230 & 31.051310 \\\\\n",
            "SM6 & 0.600000 & 0.100000 & 0.612400 & 0.036168 & 0.014297 & 490 & 472 & 39.047262 & 37.219484 \\\\\n",
            "SM7 & 0.700000 & 0.084300 & 0.637600 & 0.036198 & 0.014495 & 544 & 547 & 44.480179 & 44.797302 \\\\\n",
            "SM8 & 0.800000 & 0.083900 & 0.612700 & 0.036190 & 0.016998 & 615 & 619 & 51.541071 & 51.950198 \\\\\n",
            "SM9 & 0.900000 & 0.100000 & 0.340900 & 0.036178 & 0.028703 & 675 & \\cellcolor{red} \\bfseries 731 & 57.513889 & 63.194306 \\\\\n",
            "\\end{tabular}\n",
            "\n"
          ]
        }
      ],
      "source": [
        "df_final = df.copy()\n",
        "s = df_final.style.highlight_max(axis=None, props='cellcolor:{red}; bfseries: ;')\n",
        "\n",
        "print(s.to_latex())"
      ]
    },
    {
      "cell_type": "code",
      "execution_count": 24,
      "id": "49b8af25-ea5f-4970-baf6-eed81e11e36b",
      "metadata": {
        "id": "49b8af25-ea5f-4970-baf6-eed81e11e36b"
      },
      "outputs": [],
      "source": [
        "table_latex_version = {'table_latex_version': s.to_latex()}\n",
        "\n",
        "with open('table_latex_version.txt', 'w') as f:\n",
        "    f.write(json.dumps(table_latex_version))\n",
        "\n",
        "f.close()"
      ]
    },
    {
      "cell_type": "markdown",
      "id": "f8341bd9-4c62-405c-af96-ce2fb62203dc",
      "metadata": {
        "tags": [],
        "id": "f8341bd9-4c62-405c-af96-ce2fb62203dc"
      },
      "source": [
        "***\n",
        "# Pruning Result with S-FL Visualisation:"
      ]
    },
    {
      "cell_type": "markdown",
      "id": "71822bb8-1f47-465d-a1b4-7f0d108dd90e",
      "metadata": {
        "id": "71822bb8-1f47-465d-a1b4-7f0d108dd90e"
      },
      "source": [
        "***\n",
        "### Initial Accuracy & Participation:"
      ]
    },
    {
      "cell_type": "code",
      "execution_count": 25,
      "id": "e3c45fd5-4fbb-4f01-9d5e-a8d05c737bcd",
      "metadata": {
        "colab": {
          "base_uri": "https://localhost:8080/",
          "height": 521
        },
        "id": "e3c45fd5-4fbb-4f01-9d5e-a8d05c737bcd",
        "outputId": "2da4eca3-cc33-4fc2-f424-62e7f5fb6fb8"
      },
      "outputs": [
        {
          "output_type": "display_data",
          "data": {
            "text/plain": [
              "<Figure size 640x480 with 2 Axes>"
            ],
            "image/png": "[encoded data removed]"
          },
          "metadata": {}
        }
      ],
      "source": [
        "# create figure and axis objects with subplots()\n",
        "fig, ax = plt.subplots()\n",
        "plt.grid()\n",
        "\n",
        "# Our Algo. Acc.\n",
        "ax.plot(df['Threshold'].values,\n",
        "        df['subMFL Accuracy'].values,\n",
        "        color=\"green\",\n",
        "        label='subMFL Accuracy',\n",
        "        marker=\"o\")\n",
        "\n",
        "# S-FL Acc.\n",
        "ax.plot(df['Threshold'].values,\n",
        "        df['SFL Accuracy'].values,\n",
        "        color=\"red\",\n",
        "        label='S-FL Accuracy',\n",
        "        marker=\"o\")\n",
        "\n",
        "plt.legend(framealpha=1, frameon=True, bbox_to_anchor=(0.35, 1.2));\n",
        "\n",
        "# set x-axis label\n",
        "ax.set_xlabel(\"Threshold Values\", fontweight='bold', fontsize=14)\n",
        "# set y-axis label\n",
        "ax.set_ylabel(\"Accuracy of Models (O)\", color=\"black\", fontweight='bold', fontsize=14)\n",
        "\n",
        "# twin object for two different y-axis on the sample plot\n",
        "ax2=ax.twinx()\n",
        "# make a plot with different y-axis using second axis object\n",
        "ax2.plot(df['Threshold'].values,\n",
        "         df['subMFL Participation'].values,\n",
        "         color=\"blue\",\n",
        "         label='subMFL Participation',\n",
        "         marker=\"x\")\n",
        "\n",
        "ax2.set_ylabel(\"Number of Participated Devices\", color=\"black\", fontweight='bold', fontsize=14)\n",
        "# ax2.legend(loc='upper left', frameon=False)\n",
        "\n",
        "# make a plot with different y-axis using second axis object\n",
        "ax2.plot(df['Threshold'].values,\n",
        "         df['SFL Participation'].values,\n",
        "         color=\"purple\",\n",
        "         label='S-FL Participation',\n",
        "         marker=\"x\")\n",
        "\n",
        "ax2.set_ylabel(\"Number of Participated Devices (X)\", color=\"black\", fontweight='bold', fontsize=14)\n",
        "\n",
        "#plt.legend(lines[:2], ['first', 'second']);\n",
        "# plt.title(\"Initial Accuracy values of Standard Federated Learning\", fontweight=\"bold\")\n",
        "plt.legend(framealpha=1, frameon=True, bbox_to_anchor=(1.015, 1.2));\n",
        "plt.show()\n",
        "\n",
        "# save the plot as a file\n",
        "fig.savefig('Accuracy&Participation vs Threshold with S-FL.jpg',\n",
        "            format='jpeg', dpi=100, bbox_inches='tight')"
      ]
    },
    {
      "cell_type": "markdown",
      "id": "8413aee5-465a-4f20-9212-dd1c9ed34e96",
      "metadata": {
        "id": "8413aee5-465a-4f20-9212-dd1c9ed34e96"
      },
      "source": [
        "### Initial Accuracy & Model Sparsity:"
      ]
    },
    {
      "cell_type": "code",
      "execution_count": 26,
      "id": "75eed462-ba81-4d8b-b6d3-b7066d77bc87",
      "metadata": {
        "colab": {
          "base_uri": "https://localhost:8080/",
          "height": 521
        },
        "id": "75eed462-ba81-4d8b-b6d3-b7066d77bc87",
        "outputId": "f7548d37-90f4-4006-cb16-5e40eb8e8f77"
      },
      "outputs": [
        {
          "output_type": "display_data",
          "data": {
            "text/plain": [
              "<Figure size 640x480 with 2 Axes>"
            ],
            "image/png": "[encoded data removed]"
          },
          "metadata": {}
        }
      ],
      "source": [
        "# create figure and axis objects with subplots()\n",
        "fig, ax = plt.subplots()\n",
        "plt.grid()\n",
        "# make a plot\n",
        "ax.plot(df['Threshold'].values,\n",
        "        df['subMFL Accuracy'].values,\n",
        "        label='subMFL Accuracy',\n",
        "        color=\"green\",\n",
        "        marker=\"o\")\n",
        "\n",
        "ax.plot(df['Threshold'].values,\n",
        "        df['SFL Accuracy'].values,\n",
        "        label='S-FL Accuracy',\n",
        "        color=\"red\",\n",
        "        marker=\"o\")\n",
        "\n",
        "plt.legend(framealpha=1, frameon=True, bbox_to_anchor=(0.35, 1.2));\n",
        "\n",
        "# set x-axis label\n",
        "ax.set_xlabel(\"Threshold Values\", fontweight='bold', fontsize = 14)\n",
        "# set y-axis label\n",
        "ax.set_ylabel(\"Accuracy of Models (O)\", color=\"black\", fontweight='bold', fontsize=14)\n",
        "\n",
        "# twin object for two different y-axis on the sample plot\n",
        "ax2=ax.twinx()\n",
        "# make a plot with different y-axis using second axis object\n",
        "ax2.plot(df['Threshold'].values,\n",
        "         df['subMFL Global Sparsity'].values,\n",
        "         label='subMFL Global Sparsity',\n",
        "         color=\"darkorange\",\n",
        "         marker=\"x\")\n",
        "\n",
        "ax2.set_ylabel(\"Global Sparsity\", color=\"black\", fontweight='bold', fontsize=14)\n",
        "\n",
        "\n",
        "ax2.plot(df['Threshold'].values,\n",
        "         df['SFL Global Sparsity'].values,\n",
        "         color=\"black\",\n",
        "         label='SFL Global Sparsity',\n",
        "         marker=\"x\")\n",
        "\n",
        "ax2.set_ylabel(\"Global Sparsityof Models (X)\", color=\"black\", fontweight='bold', fontsize=14)\n",
        "\n",
        "plt.legend(framealpha=1, frameon=True, bbox_to_anchor=(1.015, 1.2));\n",
        "plt.show()\n",
        "# save the plot as a file\n",
        "fig.savefig('Accuracy&Global_Sparsity vs Threshold with S-FL.jpg',\n",
        "            format='jpeg', dpi=100, bbox_inches='tight')"
      ]
    },
    {
      "cell_type": "markdown",
      "id": "3b3b4a06-04ff-4eb6-86f3-7c64a96a94c0",
      "metadata": {
        "id": "3b3b4a06-04ff-4eb6-86f3-7c64a96a94c0"
      },
      "source": [
        "***\n",
        "### Initial Loss & Partcipation:"
      ]
    },
    {
      "cell_type": "code",
      "execution_count": 27,
      "id": "5af61e8c-93f3-4365-bf25-cd926113242a",
      "metadata": {
        "colab": {
          "base_uri": "https://localhost:8080/",
          "height": 521
        },
        "id": "5af61e8c-93f3-4365-bf25-cd926113242a",
        "outputId": "dd53a4a5-702c-4b76-bdfc-eb666117fff0"
      },
      "outputs": [
        {
          "output_type": "display_data",
          "data": {
            "text/plain": [
              "<Figure size 640x480 with 2 Axes>"
            ],
            "image/png": "[encoded data removed]"
          },
          "metadata": {}
        }
      ],
      "source": [
        "# create figure and axis objects with subplots()\n",
        "fig, ax = plt.subplots()\n",
        "plt.grid()\n",
        "# make a plot\n",
        "ax.plot(df['Threshold'].values,\n",
        "        df['subMFL Loss'].values,\n",
        "        color=\"green\",\n",
        "        label='Loss of subMFL',\n",
        "        marker=\"o\")\n",
        "\n",
        "ax.plot(df['Threshold'].values,\n",
        "        df['SFL Loss'].values,\n",
        "        color=\"red\",\n",
        "        label='S-FL Loss',\n",
        "        marker=\"o\")\n",
        "\n",
        "plt.legend(framealpha=1, frameon=True, bbox_to_anchor=(0.31, 1.2));\n",
        "\n",
        "# set x-axis label\n",
        "ax.set_xlabel(\"Threshold Values\", fontweight='bold', fontsize = 14)\n",
        "# set y-axis label\n",
        "ax.set_ylabel(\"Loss\", color=\"black\", fontweight='bold', fontsize=14)\n",
        "\n",
        "# twin object for two different y-axis on the sample plot\n",
        "ax2=ax.twinx()\n",
        "# make a plot with different y-axis using second axis object\n",
        "ax2.plot(df['Threshold'].values,\n",
        "         df['subMFL Participation'].values,\n",
        "         label='subMFL Participation',\n",
        "         color=\"blue\",\n",
        "         marker=\"x\")\n",
        "ax2.set_ylabel(\"Number of Participated Devices\", fontweight='bold', color=\"black\", fontsize=14)\n",
        "\n",
        "\n",
        "ax2.plot(df['Threshold'].values,\n",
        "         df['SFL Participation'].values,\n",
        "         color=\"orange\",\n",
        "         label='SFL Participation',\n",
        "         marker=\"x\")\n",
        "\n",
        "ax2.set_ylabel(\"Number of Participated Devices\", color=\"black\", fontweight='bold', fontsize=14)\n",
        "\n",
        "\n",
        "plt.legend(framealpha=1, frameon=True, bbox_to_anchor=(1.015, 1.2));\n",
        "plt.show()\n",
        "# save the plot as a file\n",
        "fig.savefig('Loss&Participation vs Threshold with S-FL.jpg',\n",
        "            format='jpeg', dpi=100, bbox_inches='tight')"
      ]
    },
    {
      "cell_type": "markdown",
      "id": "b71c0b48-2915-42cc-a6d4-b853e12937cc",
      "metadata": {
        "id": "b71c0b48-2915-42cc-a6d4-b853e12937cc"
      },
      "source": [
        "### Loss & Model Sparsity:"
      ]
    },
    {
      "cell_type": "code",
      "execution_count": 28,
      "id": "d83de388-7347-4a8e-80d7-50ccacaa5144",
      "metadata": {
        "colab": {
          "base_uri": "https://localhost:8080/",
          "height": 521
        },
        "id": "d83de388-7347-4a8e-80d7-50ccacaa5144",
        "outputId": "41fa3088-6c1b-499f-8c91-b3413f8afe1c"
      },
      "outputs": [
        {
          "output_type": "display_data",
          "data": {
            "text/plain": [
              "<Figure size 640x480 with 2 Axes>"
            ],
            "image/png": "[encoded data removed]"
          },
          "metadata": {}
        }
      ],
      "source": [
        "# create figure and axis objects with subplots()\n",
        "fig, ax = plt.subplots()\n",
        "plt.grid()\n",
        "# make a plot\n",
        "ax.plot(df['Threshold'].values,\n",
        "        df['subMFL Loss'].values,\n",
        "        color=\"green\",\n",
        "        label='Loss of subMFL',\n",
        "        marker=\"o\")\n",
        "\n",
        "ax.plot(df['Threshold'].values,\n",
        "        df['SFL Loss'],\n",
        "        color=\"red\",\n",
        "        label='S-FL Loss',\n",
        "        marker=\"o\")\n",
        "\n",
        "plt.legend(framealpha=1, frameon=True, bbox_to_anchor=(0.31, 1.2));\n",
        "\n",
        "# set x-axis label\n",
        "ax.set_xlabel(\"Threshold Values\", fontweight='bold', fontsize = 14)\n",
        "# set y-axis label\n",
        "ax.set_ylabel(\"Loss\", color=\"black\", fontweight='bold', fontsize=14)\n",
        "\n",
        "# twin object for two different y-axis on the sample plot\n",
        "ax2=ax.twinx()\n",
        "# make a plot with different y-axis using second axis object\n",
        "ax2.plot(df['Threshold'].values,\n",
        "         df['subMFL Global Sparsity'].values,\n",
        "         label='subMFL Global Sparsity',\n",
        "         color=\"orange\",\n",
        "         marker=\"x\")\n",
        "ax2.set_ylabel(\"subMFL Global Sparsity\",color=\"black\", fontweight='bold', fontsize=14)\n",
        "\n",
        "ax2.plot(df['Threshold'].values,\n",
        "         df['SFL Global Sparsity'].values,\n",
        "         color=\"black\",\n",
        "         label='SFL Global Sparsity',\n",
        "         marker=\"x\")\n",
        "\n",
        "ax2.set_ylabel(\"Global Sparsity\", color=\"black\", fontweight='bold', fontsize=14)\n",
        "\n",
        "plt.legend(framealpha=1, frameon=True, bbox_to_anchor=(1.015, 1.2));\n",
        "plt.show()\n",
        "# save the plot as a file\n",
        "fig.savefig('Loss&Global_Sparsity vs Threshold with S-FL.jpg',\n",
        "            format='jpeg', dpi=100, bbox_inches='tight')"
      ]
    },
    {
      "cell_type": "code",
      "execution_count": null,
      "id": "80f572ef-7973-4e3b-abb2-87225ad378c2",
      "metadata": {
        "id": "80f572ef-7973-4e3b-abb2-87225ad378c2"
      },
      "outputs": [],
      "source": []
    }
  ],
  "metadata": {
    "kernelspec": {
      "display_name": "Python 3 (ipykernel)",
      "language": "python",
      "name": "python3"
    },
    "language_info": {
      "codemirror_mode": {
        "name": "ipython",
        "version": 3
      },
      "file_extension": ".py",
      "mimetype": "text/x-python",
      "name": "python",
      "nbconvert_exporter": "python",
      "pygments_lexer": "ipython3",
      "version": "3.10.6"
    },
    "colab": {
      "provenance": []
    },
    "widgets": {
      "application/vnd.jupyter.widget-state+json": {
        "5f531acf58724d40b15a50df6ef96ff0": {
          "model_module": "@jupyter-widgets/controls",
          "model_name": "HBoxModel",
          "model_module_version": "1.5.0",
          "state": {
            "_dom_classes": [],
            "_model_module": "@jupyter-widgets/controls",
            "_model_module_version": "1.5.0",
            "_model_name": "HBoxModel",
            "_view_count": null,
            "_view_module": "@jupyter-widgets/controls",
            "_view_module_version": "1.5.0",
            "_view_name": "HBoxView",
            "box_style": "",
            "children": [
              "IPY_MODEL_dcc7112baf914767812013a69c786e4c",
              "IPY_MODEL_035bbfd048434df5ba67dbfa981f9783",
              "IPY_MODEL_f98a9f50c9ee4a47b0f671b58ea7f342"
            ],
            "layout": "IPY_MODEL_99b6003372cb46deaf957deb728c4bb0"
          }
        },
        "dcc7112baf914767812013a69c786e4c": {
          "model_module": "@jupyter-widgets/controls",
          "model_name": "HTMLModel",
          "model_module_version": "1.5.0",
          "state": {
            "_dom_classes": [],
            "_model_module": "@jupyter-widgets/controls",
            "_model_module_version": "1.5.0",
            "_model_name": "HTMLModel",
            "_view_count": null,
            "_view_module": "@jupyter-widgets/controls",
            "_view_module_version": "1.5.0",
            "_view_name": "HTMLView",
            "description": "",
            "description_tooltip": null,
            "layout": "IPY_MODEL_1cbdce7e0d9a4496a53715ca2e7aab62",
            "placeholder": "​",
            "style": "IPY_MODEL_9189c13216bc48bfb4ec1e34e4c0bf00",
            "value": "100%"
          }
        },
        "035bbfd048434df5ba67dbfa981f9783": {
          "model_module": "@jupyter-widgets/controls",
          "model_name": "FloatProgressModel",
          "model_module_version": "1.5.0",
          "state": {
            "_dom_classes": [],
            "_model_module": "@jupyter-widgets/controls",
            "_model_module_version": "1.5.0",
            "_model_name": "FloatProgressModel",
            "_view_count": null,
            "_view_module": "@jupyter-widgets/controls",
            "_view_module_version": "1.5.0",
            "_view_name": "ProgressView",
            "bar_style": "success",
            "description": "",
            "description_tooltip": null,
            "layout": "IPY_MODEL_a0a68aa87e824110bc0aea5fe6b907ad",
            "max": 26421880,
            "min": 0,
            "orientation": "horizontal",
            "style": "IPY_MODEL_357c9ecc0dbc41b88d4ef6e56e397774",
            "value": 26421880
          }
        },
        "f98a9f50c9ee4a47b0f671b58ea7f342": {
          "model_module": "@jupyter-widgets/controls",
          "model_name": "HTMLModel",
          "model_module_version": "1.5.0",
          "state": {
            "_dom_classes": [],
            "_model_module": "@jupyter-widgets/controls",
            "_model_module_version": "1.5.0",
            "_model_name": "HTMLModel",
            "_view_count": null,
            "_view_module": "@jupyter-widgets/controls",
            "_view_module_version": "1.5.0",
            "_view_name": "HTMLView",
            "description": "",
            "description_tooltip": null,
            "layout": "IPY_MODEL_4f3948cff0264b128157443fd33eedf7",
            "placeholder": "​",
            "style": "IPY_MODEL_c11ed198ad3441e4a1a7631bb77aecab",
            "value": " 26421880/26421880 [00:02&lt;00:00, 19281985.27it/s]"
          }
        },
        "99b6003372cb46deaf957deb728c4bb0": {
          "model_module": "@jupyter-widgets/base",
          "model_name": "LayoutModel",
          "model_module_version": "1.2.0",
          "state": {
            "_model_module": "@jupyter-widgets/base",
            "_model_module_version": "1.2.0",
            "_model_name": "LayoutModel",
            "_view_count": null,
            "_view_module": "@jupyter-widgets/base",
            "_view_module_version": "1.2.0",
            "_view_name": "LayoutView",
            "align_content": null,
            "align_items": null,
            "align_self": null,
            "border": null,
            "bottom": null,
            "display": null,
            "flex": null,
            "flex_flow": null,
            "grid_area": null,
            "grid_auto_columns": null,
            "grid_auto_flow": null,
            "grid_auto_rows": null,
            "grid_column": null,
            "grid_gap": null,
            "grid_row": null,
            "grid_template_areas": null,
            "grid_template_columns": null,
            "grid_template_rows": null,
            "height": null,
            "justify_content": null,
            "justify_items": null,
            "left": null,
            "margin": null,
            "max_height": null,
            "max_width": null,
            "min_height": null,
            "min_width": null,
            "object_fit": null,
            "object_position": null,
            "order": null,
            "overflow": null,
            "overflow_x": null,
            "overflow_y": null,
            "padding": null,
            "right": null,
            "top": null,
            "visibility": null,
            "width": null
          }
        },
        "1cbdce7e0d9a4496a53715ca2e7aab62": {
          "model_module": "@jupyter-widgets/base",
          "model_name": "LayoutModel",
          "model_module_version": "1.2.0",
          "state": {
            "_model_module": "@jupyter-widgets/base",
            "_model_module_version": "1.2.0",
            "_model_name": "LayoutModel",
            "_view_count": null,
            "_view_module": "@jupyter-widgets/base",
            "_view_module_version": "1.2.0",
            "_view_name": "LayoutView",
            "align_content": null,
            "align_items": null,
            "align_self": null,
            "border": null,
            "bottom": null,
            "display": null,
            "flex": null,
            "flex_flow": null,
            "grid_area": null,
            "grid_auto_columns": null,
            "grid_auto_flow": null,
            "grid_auto_rows": null,
            "grid_column": null,
            "grid_gap": null,
            "grid_row": null,
            "grid_template_areas": null,
            "grid_template_columns": null,
            "grid_template_rows": null,
            "height": null,
            "justify_content": null,
            "justify_items": null,
            "left": null,
            "margin": null,
            "max_height": null,
            "max_width": null,
            "min_height": null,
            "min_width": null,
            "object_fit": null,
            "object_position": null,
            "order": null,
            "overflow": null,
            "overflow_x": null,
            "overflow_y": null,
            "padding": null,
            "right": null,
            "top": null,
            "visibility": null,
            "width": null
          }
        },
        "9189c13216bc48bfb4ec1e34e4c0bf00": {
          "model_module": "@jupyter-widgets/controls",
          "model_name": "DescriptionStyleModel",
          "model_module_version": "1.5.0",
          "state": {
            "_model_module": "@jupyter-widgets/controls",
            "_model_module_version": "1.5.0",
            "_model_name": "DescriptionStyleModel",
            "_view_count": null,
            "_view_module": "@jupyter-widgets/base",
            "_view_module_version": "1.2.0",
            "_view_name": "StyleView",
            "description_width": ""
          }
        },
        "a0a68aa87e824110bc0aea5fe6b907ad": {
          "model_module": "@jupyter-widgets/base",
          "model_name": "LayoutModel",
          "model_module_version": "1.2.0",
          "state": {
            "_model_module": "@jupyter-widgets/base",
            "_model_module_version": "1.2.0",
            "_model_name": "LayoutModel",
            "_view_count": null,
            "_view_module": "@jupyter-widgets/base",
            "_view_module_version": "1.2.0",
            "_view_name": "LayoutView",
            "align_content": null,
            "align_items": null,
            "align_self": null,
            "border": null,
            "bottom": null,
            "display": null,
            "flex": null,
            "flex_flow": null,
            "grid_area": null,
            "grid_auto_columns": null,
            "grid_auto_flow": null,
            "grid_auto_rows": null,
            "grid_column": null,
            "grid_gap": null,
            "grid_row": null,
            "grid_template_areas": null,
            "grid_template_columns": null,
            "grid_template_rows": null,
            "height": null,
            "justify_content": null,
            "justify_items": null,
            "left": null,
            "margin": null,
            "max_height": null,
            "max_width": null,
            "min_height": null,
            "min_width": null,
            "object_fit": null,
            "object_position": null,
            "order": null,
            "overflow": null,
            "overflow_x": null,
            "overflow_y": null,
            "padding": null,
            "right": null,
            "top": null,
            "visibility": null,
            "width": null
          }
        },
        "357c9ecc0dbc41b88d4ef6e56e397774": {
          "model_module": "@jupyter-widgets/controls",
          "model_name": "ProgressStyleModel",
          "model_module_version": "1.5.0",
          "state": {
            "_model_module": "@jupyter-widgets/controls",
            "_model_module_version": "1.5.0",
            "_model_name": "ProgressStyleModel",
            "_view_count": null,
            "_view_module": "@jupyter-widgets/base",
            "_view_module_version": "1.2.0",
            "_view_name": "StyleView",
            "bar_color": null,
            "description_width": ""
          }
        },
        "4f3948cff0264b128157443fd33eedf7": {
          "model_module": "@jupyter-widgets/base",
          "model_name": "LayoutModel",
          "model_module_version": "1.2.0",
          "state": {
            "_model_module": "@jupyter-widgets/base",
            "_model_module_version": "1.2.0",
            "_model_name": "LayoutModel",
            "_view_count": null,
            "_view_module": "@jupyter-widgets/base",
            "_view_module_version": "1.2.0",
            "_view_name": "LayoutView",
            "align_content": null,
            "align_items": null,
            "align_self": null,
            "border": null,
            "bottom": null,
            "display": null,
            "flex": null,
            "flex_flow": null,
            "grid_area": null,
            "grid_auto_columns": null,
            "grid_auto_flow": null,
            "grid_auto_rows": null,
            "grid_column": null,
            "grid_gap": null,
            "grid_row": null,
            "grid_template_areas": null,
            "grid_template_columns": null,
            "grid_template_rows": null,
            "height": null,
            "justify_content": null,
            "justify_items": null,
            "left": null,
            "margin": null,
            "max_height": null,
            "max_width": null,
            "min_height": null,
            "min_width": null,
            "object_fit": null,
            "object_position": null,
            "order": null,
            "overflow": null,
            "overflow_x": null,
            "overflow_y": null,
            "padding": null,
            "right": null,
            "top": null,
            "visibility": null,
            "width": null
          }
        },
        "c11ed198ad3441e4a1a7631bb77aecab": {
          "model_module": "@jupyter-widgets/controls",
          "model_name": "DescriptionStyleModel",
          "model_module_version": "1.5.0",
          "state": {
            "_model_module": "@jupyter-widgets/controls",
            "_model_module_version": "1.5.0",
            "_model_name": "DescriptionStyleModel",
            "_view_count": null,
            "_view_module": "@jupyter-widgets/base",
            "_view_module_version": "1.2.0",
            "_view_name": "StyleView",
            "description_width": ""
          }
        },
        "8773ed149f2e423787a33436a5c56aea": {
          "model_module": "@jupyter-widgets/controls",
          "model_name": "HBoxModel",
          "model_module_version": "1.5.0",
          "state": {
            "_dom_classes": [],
            "_model_module": "@jupyter-widgets/controls",
            "_model_module_version": "1.5.0",
            "_model_name": "HBoxModel",
            "_view_count": null,
            "_view_module": "@jupyter-widgets/controls",
            "_view_module_version": "1.5.0",
            "_view_name": "HBoxView",
            "box_style": "",
            "children": [
              "IPY_MODEL_88797c7c26fc496899f938e918addca9",
              "IPY_MODEL_b9f43ba9601c440d8f8a678185ffb424",
              "IPY_MODEL_c51a4219017e4e069c372cacd45cfb4c"
            ],
            "layout": "IPY_MODEL_302ca7a5a63e48b2bb0a3374fc532502"
          }
        },
        "88797c7c26fc496899f938e918addca9": {
          "model_module": "@jupyter-widgets/controls",
          "model_name": "HTMLModel",
          "model_module_version": "1.5.0",
          "state": {
            "_dom_classes": [],
            "_model_module": "@jupyter-widgets/controls",
            "_model_module_version": "1.5.0",
            "_model_name": "HTMLModel",
            "_view_count": null,
            "_view_module": "@jupyter-widgets/controls",
            "_view_module_version": "1.5.0",
            "_view_name": "HTMLView",
            "description": "",
            "description_tooltip": null,
            "layout": "IPY_MODEL_30c6e7e447434ae7b88f08b79142ed3c",
            "placeholder": "​",
            "style": "IPY_MODEL_25e44eb7995b40469a03fe1fe06c2bc8",
            "value": "100%"
          }
        },
        "b9f43ba9601c440d8f8a678185ffb424": {
          "model_module": "@jupyter-widgets/controls",
          "model_name": "FloatProgressModel",
          "model_module_version": "1.5.0",
          "state": {
            "_dom_classes": [],
            "_model_module": "@jupyter-widgets/controls",
            "_model_module_version": "1.5.0",
            "_model_name": "FloatProgressModel",
            "_view_count": null,
            "_view_module": "@jupyter-widgets/controls",
            "_view_module_version": "1.5.0",
            "_view_name": "ProgressView",
            "bar_style": "success",
            "description": "",
            "description_tooltip": null,
            "layout": "IPY_MODEL_e8955888461142db95b232ae555b5bbb",
            "max": 29515,
            "min": 0,
            "orientation": "horizontal",
            "style": "IPY_MODEL_fa7641c0dc8243f68090a8133786d49a",
            "value": 29515
          }
        },
        "c51a4219017e4e069c372cacd45cfb4c": {
          "model_module": "@jupyter-widgets/controls",
          "model_name": "HTMLModel",
          "model_module_version": "1.5.0",
          "state": {
            "_dom_classes": [],
            "_model_module": "@jupyter-widgets/controls",
            "_model_module_version": "1.5.0",
            "_model_name": "HTMLModel",
            "_view_count": null,
            "_view_module": "@jupyter-widgets/controls",
            "_view_module_version": "1.5.0",
            "_view_name": "HTMLView",
            "description": "",
            "description_tooltip": null,
            "layout": "IPY_MODEL_36b4800e9c924d6eb64ee158ba782c1b",
            "placeholder": "​",
            "style": "IPY_MODEL_370c2a6fcd2249018547b37842ff66d3",
            "value": " 29515/29515 [00:00&lt;00:00, 209206.98it/s]"
          }
        },
        "302ca7a5a63e48b2bb0a3374fc532502": {
          "model_module": "@jupyter-widgets/base",
          "model_name": "LayoutModel",
          "model_module_version": "1.2.0",
          "state": {
            "_model_module": "@jupyter-widgets/base",
            "_model_module_version": "1.2.0",
            "_model_name": "LayoutModel",
            "_view_count": null,
            "_view_module": "@jupyter-widgets/base",
            "_view_module_version": "1.2.0",
            "_view_name": "LayoutView",
            "align_content": null,
            "align_items": null,
            "align_self": null,
            "border": null,
            "bottom": null,
            "display": null,
            "flex": null,
            "flex_flow": null,
            "grid_area": null,
            "grid_auto_columns": null,
            "grid_auto_flow": null,
            "grid_auto_rows": null,
            "grid_column": null,
            "grid_gap": null,
            "grid_row": null,
            "grid_template_areas": null,
            "grid_template_columns": null,
            "grid_template_rows": null,
            "height": null,
            "justify_content": null,
            "justify_items": null,
            "left": null,
            "margin": null,
            "max_height": null,
            "max_width": null,
            "min_height": null,
            "min_width": null,
            "object_fit": null,
            "object_position": null,
            "order": null,
            "overflow": null,
            "overflow_x": null,
            "overflow_y": null,
            "padding": null,
            "right": null,
            "top": null,
            "visibility": null,
            "width": null
          }
        },
        "30c6e7e447434ae7b88f08b79142ed3c": {
          "model_module": "@jupyter-widgets/base",
          "model_name": "LayoutModel",
          "model_module_version": "1.2.0",
          "state": {
            "_model_module": "@jupyter-widgets/base",
            "_model_module_version": "1.2.0",
            "_model_name": "LayoutModel",
            "_view_count": null,
            "_view_module": "@jupyter-widgets/base",
            "_view_module_version": "1.2.0",
            "_view_name": "LayoutView",
            "align_content": null,
            "align_items": null,
            "align_self": null,
            "border": null,
            "bottom": null,
            "display": null,
            "flex": null,
            "flex_flow": null,
            "grid_area": null,
            "grid_auto_columns": null,
            "grid_auto_flow": null,
            "grid_auto_rows": null,
            "grid_column": null,
            "grid_gap": null,
            "grid_row": null,
            "grid_template_areas": null,
            "grid_template_columns": null,
            "grid_template_rows": null,
            "height": null,
            "justify_content": null,
            "justify_items": null,
            "left": null,
            "margin": null,
            "max_height": null,
            "max_width": null,
            "min_height": null,
            "min_width": null,
            "object_fit": null,
            "object_position": null,
            "order": null,
            "overflow": null,
            "overflow_x": null,
            "overflow_y": null,
            "padding": null,
            "right": null,
            "top": null,
            "visibility": null,
            "width": null
          }
        },
        "25e44eb7995b40469a03fe1fe06c2bc8": {
          "model_module": "@jupyter-widgets/controls",
          "model_name": "DescriptionStyleModel",
          "model_module_version": "1.5.0",
          "state": {
            "_model_module": "@jupyter-widgets/controls",
            "_model_module_version": "1.5.0",
            "_model_name": "DescriptionStyleModel",
            "_view_count": null,
            "_view_module": "@jupyter-widgets/base",
            "_view_module_version": "1.2.0",
            "_view_name": "StyleView",
            "description_width": ""
          }
        },
        "e8955888461142db95b232ae555b5bbb": {
          "model_module": "@jupyter-widgets/base",
          "model_name": "LayoutModel",
          "model_module_version": "1.2.0",
          "state": {
            "_model_module": "@jupyter-widgets/base",
            "_model_module_version": "1.2.0",
            "_model_name": "LayoutModel",
            "_view_count": null,
            "_view_module": "@jupyter-widgets/base",
            "_view_module_version": "1.2.0",
            "_view_name": "LayoutView",
            "align_content": null,
            "align_items": null,
            "align_self": null,
            "border": null,
            "bottom": null,
            "display": null,
            "flex": null,
            "flex_flow": null,
            "grid_area": null,
            "grid_auto_columns": null,
            "grid_auto_flow": null,
            "grid_auto_rows": null,
            "grid_column": null,
            "grid_gap": null,
            "grid_row": null,
            "grid_template_areas": null,
            "grid_template_columns": null,
            "grid_template_rows": null,
            "height": null,
            "justify_content": null,
            "justify_items": null,
            "left": null,
            "margin": null,
            "max_height": null,
            "max_width": null,
            "min_height": null,
            "min_width": null,
            "object_fit": null,
            "object_position": null,
            "order": null,
            "overflow": null,
            "overflow_x": null,
            "overflow_y": null,
            "padding": null,
            "right": null,
            "top": null,
            "visibility": null,
            "width": null
          }
        },
        "fa7641c0dc8243f68090a8133786d49a": {
          "model_module": "@jupyter-widgets/controls",
          "model_name": "ProgressStyleModel",
          "model_module_version": "1.5.0",
          "state": {
            "_model_module": "@jupyter-widgets/controls",
            "_model_module_version": "1.5.0",
            "_model_name": "ProgressStyleModel",
            "_view_count": null,
            "_view_module": "@jupyter-widgets/base",
            "_view_module_version": "1.2.0",
            "_view_name": "StyleView",
            "bar_color": null,
            "description_width": ""
          }
        },
        "36b4800e9c924d6eb64ee158ba782c1b": {
          "model_module": "@jupyter-widgets/base",
          "model_name": "LayoutModel",
          "model_module_version": "1.2.0",
          "state": {
            "_model_module": "@jupyter-widgets/base",
            "_model_module_version": "1.2.0",
            "_model_name": "LayoutModel",
            "_view_count": null,
            "_view_module": "@jupyter-widgets/base",
            "_view_module_version": "1.2.0",
            "_view_name": "LayoutView",
            "align_content": null,
            "align_items": null,
            "align_self": null,
            "border": null,
            "bottom": null,
            "display": null,
            "flex": null,
            "flex_flow": null,
            "grid_area": null,
            "grid_auto_columns": null,
            "grid_auto_flow": null,
            "grid_auto_rows": null,
            "grid_column": null,
            "grid_gap": null,
            "grid_row": null,
            "grid_template_areas": null,
            "grid_template_columns": null,
            "grid_template_rows": null,
            "height": null,
            "justify_content": null,
            "justify_items": null,
            "left": null,
            "margin": null,
            "max_height": null,
            "max_width": null,
            "min_height": null,
            "min_width": null,
            "object_fit": null,
            "object_position": null,
            "order": null,
            "overflow": null,
            "overflow_x": null,
            "overflow_y": null,
            "padding": null,
            "right": null,
            "top": null,
            "visibility": null,
            "width": null
          }
        },
        "370c2a6fcd2249018547b37842ff66d3": {
          "model_module": "@jupyter-widgets/controls",
          "model_name": "DescriptionStyleModel",
          "model_module_version": "1.5.0",
          "state": {
            "_model_module": "@jupyter-widgets/controls",
            "_model_module_version": "1.5.0",
            "_model_name": "DescriptionStyleModel",
            "_view_count": null,
            "_view_module": "@jupyter-widgets/base",
            "_view_module_version": "1.2.0",
            "_view_name": "StyleView",
            "description_width": ""
          }
        },
        "fe0a2cc4680b4de5ad03735ece86b8cf": {
          "model_module": "@jupyter-widgets/controls",
          "model_name": "HBoxModel",
          "model_module_version": "1.5.0",
          "state": {
            "_dom_classes": [],
            "_model_module": "@jupyter-widgets/controls",
            "_model_module_version": "1.5.0",
            "_model_name": "HBoxModel",
            "_view_count": null,
            "_view_module": "@jupyter-widgets/controls",
            "_view_module_version": "1.5.0",
            "_view_name": "HBoxView",
            "box_style": "",
            "children": [
              "IPY_MODEL_fb2b0d002cf244febf5c277c28b19328",
              "IPY_MODEL_2b23d0736e0641aeb12c810084b6a8a3",
              "IPY_MODEL_0bea1e3275a64243a4a10a0130655c9e"
            ],
            "layout": "IPY_MODEL_34ba7365e26f48069be28aee572b61cd"
          }
        },
        "fb2b0d002cf244febf5c277c28b19328": {
          "model_module": "@jupyter-widgets/controls",
          "model_name": "HTMLModel",
          "model_module_version": "1.5.0",
          "state": {
            "_dom_classes": [],
            "_model_module": "@jupyter-widgets/controls",
            "_model_module_version": "1.5.0",
            "_model_name": "HTMLModel",
            "_view_count": null,
            "_view_module": "@jupyter-widgets/controls",
            "_view_module_version": "1.5.0",
            "_view_name": "HTMLView",
            "description": "",
            "description_tooltip": null,
            "layout": "IPY_MODEL_da2168e44dcb414bb11f7b65cf216e5c",
            "placeholder": "​",
            "style": "IPY_MODEL_214ed739f1b34ce2880370696641e943",
            "value": "100%"
          }
        },
        "2b23d0736e0641aeb12c810084b6a8a3": {
          "model_module": "@jupyter-widgets/controls",
          "model_name": "FloatProgressModel",
          "model_module_version": "1.5.0",
          "state": {
            "_dom_classes": [],
            "_model_module": "@jupyter-widgets/controls",
            "_model_module_version": "1.5.0",
            "_model_name": "FloatProgressModel",
            "_view_count": null,
            "_view_module": "@jupyter-widgets/controls",
            "_view_module_version": "1.5.0",
            "_view_name": "ProgressView",
            "bar_style": "success",
            "description": "",
            "description_tooltip": null,
            "layout": "IPY_MODEL_b12c47c0e3c242fe847739259ac39e11",
            "max": 4422102,
            "min": 0,
            "orientation": "horizontal",
            "style": "IPY_MODEL_f3cb5e9ab0ff42d4b7efda1c1308c5ff",
            "value": 4422102
          }
        },
        "0bea1e3275a64243a4a10a0130655c9e": {
          "model_module": "@jupyter-widgets/controls",
          "model_name": "HTMLModel",
          "model_module_version": "1.5.0",
          "state": {
            "_dom_classes": [],
            "_model_module": "@jupyter-widgets/controls",
            "_model_module_version": "1.5.0",
            "_model_name": "HTMLModel",
            "_view_count": null,
            "_view_module": "@jupyter-widgets/controls",
            "_view_module_version": "1.5.0",
            "_view_name": "HTMLView",
            "description": "",
            "description_tooltip": null,
            "layout": "IPY_MODEL_e90b68c63e134dd6a9caee588195c6f4",
            "placeholder": "​",
            "style": "IPY_MODEL_fa8cd4fc3da448939eefcb2d1ca50213",
            "value": " 4422102/4422102 [00:01&lt;00:00, 6657343.83it/s]"
          }
        },
        "34ba7365e26f48069be28aee572b61cd": {
          "model_module": "@jupyter-widgets/base",
          "model_name": "LayoutModel",
          "model_module_version": "1.2.0",
          "state": {
            "_model_module": "@jupyter-widgets/base",
            "_model_module_version": "1.2.0",
            "_model_name": "LayoutModel",
            "_view_count": null,
            "_view_module": "@jupyter-widgets/base",
            "_view_module_version": "1.2.0",
            "_view_name": "LayoutView",
            "align_content": null,
            "align_items": null,
            "align_self": null,
            "border": null,
            "bottom": null,
            "display": null,
            "flex": null,
            "flex_flow": null,
            "grid_area": null,
            "grid_auto_columns": null,
            "grid_auto_flow": null,
            "grid_auto_rows": null,
            "grid_column": null,
            "grid_gap": null,
            "grid_row": null,
            "grid_template_areas": null,
            "grid_template_columns": null,
            "grid_template_rows": null,
            "height": null,
            "justify_content": null,
            "justify_items": null,
            "left": null,
            "margin": null,
            "max_height": null,
            "max_width": null,
            "min_height": null,
            "min_width": null,
            "object_fit": null,
            "object_position": null,
            "order": null,
            "overflow": null,
            "overflow_x": null,
            "overflow_y": null,
            "padding": null,
            "right": null,
            "top": null,
            "visibility": null,
            "width": null
          }
        },
        "da2168e44dcb414bb11f7b65cf216e5c": {
          "model_module": "@jupyter-widgets/base",
          "model_name": "LayoutModel",
          "model_module_version": "1.2.0",
          "state": {
            "_model_module": "@jupyter-widgets/base",
            "_model_module_version": "1.2.0",
            "_model_name": "LayoutModel",
            "_view_count": null,
            "_view_module": "@jupyter-widgets/base",
            "_view_module_version": "1.2.0",
            "_view_name": "LayoutView",
            "align_content": null,
            "align_items": null,
            "align_self": null,
            "border": null,
            "bottom": null,
            "display": null,
            "flex": null,
            "flex_flow": null,
            "grid_area": null,
            "grid_auto_columns": null,
            "grid_auto_flow": null,
            "grid_auto_rows": null,
            "grid_column": null,
            "grid_gap": null,
            "grid_row": null,
            "grid_template_areas": null,
            "grid_template_columns": null,
            "grid_template_rows": null,
            "height": null,
            "justify_content": null,
            "justify_items": null,
            "left": null,
            "margin": null,
            "max_height": null,
            "max_width": null,
            "min_height": null,
            "min_width": null,
            "object_fit": null,
            "object_position": null,
            "order": null,
            "overflow": null,
            "overflow_x": null,
            "overflow_y": null,
            "padding": null,
            "right": null,
            "top": null,
            "visibility": null,
            "width": null
          }
        },
        "214ed739f1b34ce2880370696641e943": {
          "model_module": "@jupyter-widgets/controls",
          "model_name": "DescriptionStyleModel",
          "model_module_version": "1.5.0",
          "state": {
            "_model_module": "@jupyter-widgets/controls",
            "_model_module_version": "1.5.0",
            "_model_name": "DescriptionStyleModel",
            "_view_count": null,
            "_view_module": "@jupyter-widgets/base",
            "_view_module_version": "1.2.0",
            "_view_name": "StyleView",
            "description_width": ""
          }
        },
        "b12c47c0e3c242fe847739259ac39e11": {
          "model_module": "@jupyter-widgets/base",
          "model_name": "LayoutModel",
          "model_module_version": "1.2.0",
          "state": {
            "_model_module": "@jupyter-widgets/base",
            "_model_module_version": "1.2.0",
            "_model_name": "LayoutModel",
            "_view_count": null,
            "_view_module": "@jupyter-widgets/base",
            "_view_module_version": "1.2.0",
            "_view_name": "LayoutView",
            "align_content": null,
            "align_items": null,
            "align_self": null,
            "border": null,
            "bottom": null,
            "display": null,
            "flex": null,
            "flex_flow": null,
            "grid_area": null,
            "grid_auto_columns": null,
            "grid_auto_flow": null,
            "grid_auto_rows": null,
            "grid_column": null,
            "grid_gap": null,
            "grid_row": null,
            "grid_template_areas": null,
            "grid_template_columns": null,
            "grid_template_rows": null,
            "height": null,
            "justify_content": null,
            "justify_items": null,
            "left": null,
            "margin": null,
            "max_height": null,
            "max_width": null,
            "min_height": null,
            "min_width": null,
            "object_fit": null,
            "object_position": null,
            "order": null,
            "overflow": null,
            "overflow_x": null,
            "overflow_y": null,
            "padding": null,
            "right": null,
            "top": null,
            "visibility": null,
            "width": null
          }
        },
        "f3cb5e9ab0ff42d4b7efda1c1308c5ff": {
          "model_module": "@jupyter-widgets/controls",
          "model_name": "ProgressStyleModel",
          "model_module_version": "1.5.0",
          "state": {
            "_model_module": "@jupyter-widgets/controls",
            "_model_module_version": "1.5.0",
            "_model_name": "ProgressStyleModel",
            "_view_count": null,
            "_view_module": "@jupyter-widgets/base",
            "_view_module_version": "1.2.0",
            "_view_name": "StyleView",
            "bar_color": null,
            "description_width": ""
          }
        },
        "e90b68c63e134dd6a9caee588195c6f4": {
          "model_module": "@jupyter-widgets/base",
          "model_name": "LayoutModel",
          "model_module_version": "1.2.0",
          "state": {
            "_model_module": "@jupyter-widgets/base",
            "_model_module_version": "1.2.0",
            "_model_name": "LayoutModel",
            "_view_count": null,
            "_view_module": "@jupyter-widgets/base",
            "_view_module_version": "1.2.0",
            "_view_name": "LayoutView",
            "align_content": null,
            "align_items": null,
            "align_self": null,
            "border": null,
            "bottom": null,
            "display": null,
            "flex": null,
            "flex_flow": null,
            "grid_area": null,
            "grid_auto_columns": null,
            "grid_auto_flow": null,
            "grid_auto_rows": null,
            "grid_column": null,
            "grid_gap": null,
            "grid_row": null,
            "grid_template_areas": null,
            "grid_template_columns": null,
            "grid_template_rows": null,
            "height": null,
            "justify_content": null,
            "justify_items": null,
            "left": null,
            "margin": null,
            "max_height": null,
            "max_width": null,
            "min_height": null,
            "min_width": null,
            "object_fit": null,
            "object_position": null,
            "order": null,
            "overflow": null,
            "overflow_x": null,
            "overflow_y": null,
            "padding": null,
            "right": null,
            "top": null,
            "visibility": null,
            "width": null
          }
        },
        "fa8cd4fc3da448939eefcb2d1ca50213": {
          "model_module": "@jupyter-widgets/controls",
          "model_name": "DescriptionStyleModel",
          "model_module_version": "1.5.0",
          "state": {
            "_model_module": "@jupyter-widgets/controls",
            "_model_module_version": "1.5.0",
            "_model_name": "DescriptionStyleModel",
            "_view_count": null,
            "_view_module": "@jupyter-widgets/base",
            "_view_module_version": "1.2.0",
            "_view_name": "StyleView",
            "description_width": ""
          }
        },
        "8c32037d11134029a9ec514318c6d5d2": {
          "model_module": "@jupyter-widgets/controls",
          "model_name": "HBoxModel",
          "model_module_version": "1.5.0",
          "state": {
            "_dom_classes": [],
            "_model_module": "@jupyter-widgets/controls",
            "_model_module_version": "1.5.0",
            "_model_name": "HBoxModel",
            "_view_count": null,
            "_view_module": "@jupyter-widgets/controls",
            "_view_module_version": "1.5.0",
            "_view_name": "HBoxView",
            "box_style": "",
            "children": [
              "IPY_MODEL_96ffcfcfe138409a9b4a5f23894461a4",
              "IPY_MODEL_682263cbf1fb418796e88622bec48fe1",
              "IPY_MODEL_17563880a4c94f06aacc691e94661f3c"
            ],
            "layout": "IPY_MODEL_7cb9fd718f4443b0b7b89e6b56168459"
          }
        },
        "96ffcfcfe138409a9b4a5f23894461a4": {
          "model_module": "@jupyter-widgets/controls",
          "model_name": "HTMLModel",
          "model_module_version": "1.5.0",
          "state": {
            "_dom_classes": [],
            "_model_module": "@jupyter-widgets/controls",
            "_model_module_version": "1.5.0",
            "_model_name": "HTMLModel",
            "_view_count": null,
            "_view_module": "@jupyter-widgets/controls",
            "_view_module_version": "1.5.0",
            "_view_name": "HTMLView",
            "description": "",
            "description_tooltip": null,
            "layout": "IPY_MODEL_6edfe7fcf76a4b5eba7ed1bc3578a3f5",
            "placeholder": "​",
            "style": "IPY_MODEL_cc68578e5290439b954f80b86e457f7f",
            "value": "100%"
          }
        },
        "682263cbf1fb418796e88622bec48fe1": {
          "model_module": "@jupyter-widgets/controls",
          "model_name": "FloatProgressModel",
          "model_module_version": "1.5.0",
          "state": {
            "_dom_classes": [],
            "_model_module": "@jupyter-widgets/controls",
            "_model_module_version": "1.5.0",
            "_model_name": "FloatProgressModel",
            "_view_count": null,
            "_view_module": "@jupyter-widgets/controls",
            "_view_module_version": "1.5.0",
            "_view_name": "ProgressView",
            "bar_style": "success",
            "description": "",
            "description_tooltip": null,
            "layout": "IPY_MODEL_c2029a09eaa14a93a87a13421da8503b",
            "max": 5148,
            "min": 0,
            "orientation": "horizontal",
            "style": "IPY_MODEL_16201742bab042489ccdfc06f9f8f06a",
            "value": 5148
          }
        },
        "17563880a4c94f06aacc691e94661f3c": {
          "model_module": "@jupyter-widgets/controls",
          "model_name": "HTMLModel",
          "model_module_version": "1.5.0",
          "state": {
            "_dom_classes": [],
            "_model_module": "@jupyter-widgets/controls",
            "_model_module_version": "1.5.0",
            "_model_name": "HTMLModel",
            "_view_count": null,
            "_view_module": "@jupyter-widgets/controls",
            "_view_module_version": "1.5.0",
            "_view_name": "HTMLView",
            "description": "",
            "description_tooltip": null,
            "layout": "IPY_MODEL_4ac1226e0ef147b896c3f945fa4ff717",
            "placeholder": "​",
            "style": "IPY_MODEL_5b5e953709d34d03aea786a3d502f876",
            "value": " 5148/5148 [00:00&lt;00:00, 351981.04it/s]"
          }
        },
        "7cb9fd718f4443b0b7b89e6b56168459": {
          "model_module": "@jupyter-widgets/base",
          "model_name": "LayoutModel",
          "model_module_version": "1.2.0",
          "state": {
            "_model_module": "@jupyter-widgets/base",
            "_model_module_version": "1.2.0",
            "_model_name": "LayoutModel",
            "_view_count": null,
            "_view_module": "@jupyter-widgets/base",
            "_view_module_version": "1.2.0",
            "_view_name": "LayoutView",
            "align_content": null,
            "align_items": null,
            "align_self": null,
            "border": null,
            "bottom": null,
            "display": null,
            "flex": null,
            "flex_flow": null,
            "grid_area": null,
            "grid_auto_columns": null,
            "grid_auto_flow": null,
            "grid_auto_rows": null,
            "grid_column": null,
            "grid_gap": null,
            "grid_row": null,
            "grid_template_areas": null,
            "grid_template_columns": null,
            "grid_template_rows": null,
            "height": null,
            "justify_content": null,
            "justify_items": null,
            "left": null,
            "margin": null,
            "max_height": null,
            "max_width": null,
            "min_height": null,
            "min_width": null,
            "object_fit": null,
            "object_position": null,
            "order": null,
            "overflow": null,
            "overflow_x": null,
            "overflow_y": null,
            "padding": null,
            "right": null,
            "top": null,
            "visibility": null,
            "width": null
          }
        },
        "6edfe7fcf76a4b5eba7ed1bc3578a3f5": {
          "model_module": "@jupyter-widgets/base",
          "model_name": "LayoutModel",
          "model_module_version": "1.2.0",
          "state": {
            "_model_module": "@jupyter-widgets/base",
            "_model_module_version": "1.2.0",
            "_model_name": "LayoutModel",
            "_view_count": null,
            "_view_module": "@jupyter-widgets/base",
            "_view_module_version": "1.2.0",
            "_view_name": "LayoutView",
            "align_content": null,
            "align_items": null,
            "align_self": null,
            "border": null,
            "bottom": null,
            "display": null,
            "flex": null,
            "flex_flow": null,
            "grid_area": null,
            "grid_auto_columns": null,
            "grid_auto_flow": null,
            "grid_auto_rows": null,
            "grid_column": null,
            "grid_gap": null,
            "grid_row": null,
            "grid_template_areas": null,
            "grid_template_columns": null,
            "grid_template_rows": null,
            "height": null,
            "justify_content": null,
            "justify_items": null,
            "left": null,
            "margin": null,
            "max_height": null,
            "max_width": null,
            "min_height": null,
            "min_width": null,
            "object_fit": null,
            "object_position": null,
            "order": null,
            "overflow": null,
            "overflow_x": null,
            "overflow_y": null,
            "padding": null,
            "right": null,
            "top": null,
            "visibility": null,
            "width": null
          }
        },
        "cc68578e5290439b954f80b86e457f7f": {
          "model_module": "@jupyter-widgets/controls",
          "model_name": "DescriptionStyleModel",
          "model_module_version": "1.5.0",
          "state": {
            "_model_module": "@jupyter-widgets/controls",
            "_model_module_version": "1.5.0",
            "_model_name": "DescriptionStyleModel",
            "_view_count": null,
            "_view_module": "@jupyter-widgets/base",
            "_view_module_version": "1.2.0",
            "_view_name": "StyleView",
            "description_width": ""
          }
        },
        "c2029a09eaa14a93a87a13421da8503b": {
          "model_module": "@jupyter-widgets/base",
          "model_name": "LayoutModel",
          "model_module_version": "1.2.0",
          "state": {
            "_model_module": "@jupyter-widgets/base",
            "_model_module_version": "1.2.0",
            "_model_name": "LayoutModel",
            "_view_count": null,
            "_view_module": "@jupyter-widgets/base",
            "_view_module_version": "1.2.0",
            "_view_name": "LayoutView",
            "align_content": null,
            "align_items": null,
            "align_self": null,
            "border": null,
            "bottom": null,
            "display": null,
            "flex": null,
            "flex_flow": null,
            "grid_area": null,
            "grid_auto_columns": null,
            "grid_auto_flow": null,
            "grid_auto_rows": null,
            "grid_column": null,
            "grid_gap": null,
            "grid_row": null,
            "grid_template_areas": null,
            "grid_template_columns": null,
            "grid_template_rows": null,
            "height": null,
            "justify_content": null,
            "justify_items": null,
            "left": null,
            "margin": null,
            "max_height": null,
            "max_width": null,
            "min_height": null,
            "min_width": null,
            "object_fit": null,
            "object_position": null,
            "order": null,
            "overflow": null,
            "overflow_x": null,
            "overflow_y": null,
            "padding": null,
            "right": null,
            "top": null,
            "visibility": null,
            "width": null
          }
        },
        "16201742bab042489ccdfc06f9f8f06a": {
          "model_module": "@jupyter-widgets/controls",
          "model_name": "ProgressStyleModel",
          "model_module_version": "1.5.0",
          "state": {
            "_model_module": "@jupyter-widgets/controls",
            "_model_module_version": "1.5.0",
            "_model_name": "ProgressStyleModel",
            "_view_count": null,
            "_view_module": "@jupyter-widgets/base",
            "_view_module_version": "1.2.0",
            "_view_name": "StyleView",
            "bar_color": null,
            "description_width": ""
          }
        },
        "4ac1226e0ef147b896c3f945fa4ff717": {
          "model_module": "@jupyter-widgets/base",
          "model_name": "LayoutModel",
          "model_module_version": "1.2.0",
          "state": {
            "_model_module": "@jupyter-widgets/base",
            "_model_module_version": "1.2.0",
            "_model_name": "LayoutModel",
            "_view_count": null,
            "_view_module": "@jupyter-widgets/base",
            "_view_module_version": "1.2.0",
            "_view_name": "LayoutView",
            "align_content": null,
            "align_items": null,
            "align_self": null,
            "border": null,
            "bottom": null,
            "display": null,
            "flex": null,
            "flex_flow": null,
            "grid_area": null,
            "grid_auto_columns": null,
            "grid_auto_flow": null,
            "grid_auto_rows": null,
            "grid_column": null,
            "grid_gap": null,
            "grid_row": null,
            "grid_template_areas": null,
            "grid_template_columns": null,
            "grid_template_rows": null,
            "height": null,
            "justify_content": null,
            "justify_items": null,
            "left": null,
            "margin": null,
            "max_height": null,
            "max_width": null,
            "min_height": null,
            "min_width": null,
            "object_fit": null,
            "object_position": null,
            "order": null,
            "overflow": null,
            "overflow_x": null,
            "overflow_y": null,
            "padding": null,
            "right": null,
            "top": null,
            "visibility": null,
            "width": null
          }
        },
        "5b5e953709d34d03aea786a3d502f876": {
          "model_module": "@jupyter-widgets/controls",
          "model_name": "DescriptionStyleModel",
          "model_module_version": "1.5.0",
          "state": {
            "_model_module": "@jupyter-widgets/controls",
            "_model_module_version": "1.5.0",
            "_model_name": "DescriptionStyleModel",
            "_view_count": null,
            "_view_module": "@jupyter-widgets/base",
            "_view_module_version": "1.2.0",
            "_view_name": "StyleView",
            "description_width": ""
          }
        }
      }
    }
  },
  "nbformat": 4,
  "nbformat_minor": 5
}
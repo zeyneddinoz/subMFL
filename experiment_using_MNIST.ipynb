{
  "cells": [
    {
      "cell_type": "code",
      "execution_count": 1,
      "id": "d956bd0e-cede-4321-9737-3269561fd563",
      "metadata": {
        "colab": {
          "base_uri": "https://localhost:8080/"
        },
        "id": "d956bd0e-cede-4321-9737-3269561fd563",
        "outputId": "4386986d-d675-4e83-fce6-5c0cec344ff7"
      },
      "outputs": [
        {
          "output_type": "stream",
          "name": "stdout",
          "text": [
            "The Zen of Python, by Tim Peters\n",
            "\n",
            "Beautiful is better than ugly.\n",
            "Explicit is better than implicit.\n",
            "Simple is better than complex.\n",
            "Complex is better than complicated.\n",
            "Flat is better than nested.\n",
            "Sparse is better than dense.\n",
            "Readability counts.\n",
            "Special cases aren't special enough to break the rules.\n",
            "Although practicality beats purity.\n",
            "Errors should never pass silently.\n",
            "Unless explicitly silenced.\n",
            "In the face of ambiguity, refuse the temptation to guess.\n",
            "There should be one-- and preferably only one --obvious way to do it.\n",
            "Although that way may not be obvious at first unless you're Dutch.\n",
            "Now is better than never.\n",
            "Although never is often better than *right* now.\n",
            "If the implementation is hard to explain, it's a bad idea.\n",
            "If the implementation is easy to explain, it may be a good idea.\n",
            "Namespaces are one honking great idea -- let's do more of those!\n"
          ]
        }
      ],
      "source": [
        "import this"
      ]
    },
    {
      "cell_type": "markdown",
      "id": "ab6322f2-2326-4e12-ad4d-d93c5e4195dc",
      "metadata": {
        "tags": [],
        "id": "ab6322f2-2326-4e12-ad4d-d93c5e4195dc"
      },
      "source": [
        "# What is this code doing?\n",
        "\n",
        "* Divides dataset to 10 categories in simulation.\n",
        "\n",
        "* Trains GM.\n",
        "\n",
        "* Prunes GM & Show Results.\n",
        "\n",
        "* Shows participation & global sparsity results.\n",
        "\n",
        "* Use standart Federated Learning as baseline.\n",
        "\n",
        "***\n",
        "### Core contributions:\n",
        "\n",
        "* Pruning increases model sparsification significantly while still preserving a good performance.\n",
        "\n",
        "* Thus, to use in the Federated Learning system, a group of talented devices in terms of hardware can train a dense model and then gradually rise sparsification threshold of model to assign them as proper initial global model for model contrainted devices.\n",
        "\n",
        "* As a result, those assigned proper models own tuned parameters from previous training, which act as transfer learning and increase model generality (1). Moreover, number of devices participate to Federated Learning system is increased by using a trainable model (2).\n",
        "\n",
        "* Furthermore, since each device trains its proper model, synchronisation during training also rises."
      ]
    },
    {
      "cell_type": "markdown",
      "id": "4658837d-e2c6-4693-a488-651412c21567",
      "metadata": {
        "id": "4658837d-e2c6-4693-a488-651412c21567"
      },
      "source": [
        "***\n",
        "# Install Necessary Libraries:"
      ]
    },
    {
      "cell_type": "code",
      "execution_count": 2,
      "id": "8b630a16-e062-401e-8d5a-079c1be0543b",
      "metadata": {
        "colab": {
          "base_uri": "https://localhost:8080/"
        },
        "id": "8b630a16-e062-401e-8d5a-079c1be0543b",
        "outputId": "b0a1439e-866a-4f91-9efa-936b7407aeb4"
      },
      "outputs": [
        {
          "output_type": "stream",
          "name": "stdout",
          "text": [
            "Collecting flwr[simulation]\n",
            "  Downloading flwr-1.4.0-py3-none-any.whl (157 kB)\n",
            "\u001b[?25l     \u001b[90m━━━━━━━━━━━━━━━━━━━━━━━━━━━━━━━━━━━━━━━━\u001b[0m \u001b[32m0.0/157.2 kB\u001b[0m \u001b[31m?\u001b[0m eta \u001b[36m-:--:--\u001b[0m\r\u001b[2K     \u001b[90m━━━━━━━━━━━━━━━━━━━━━━━━━━━━━━━━━━━━━━━\u001b[0m \u001b[32m157.2/157.2 kB\u001b[0m \u001b[31m4.6 MB/s\u001b[0m eta \u001b[36m0:00:00\u001b[0m\n",
            "\u001b[?25hRequirement already satisfied: grpcio!=1.52.0,<2.0.0,>=1.48.2 in /usr/local/lib/python3.10/dist-packages (from flwr[simulation]) (1.56.0)\n",
            "Collecting iterators<0.0.3,>=0.0.2 (from flwr[simulation])\n",
            "  Downloading iterators-0.0.2-py3-none-any.whl (3.9 kB)\n",
            "Requirement already satisfied: numpy<2.0.0,>=1.21.0 in /usr/local/lib/python3.10/dist-packages (from flwr[simulation]) (1.22.4)\n",
            "Requirement already satisfied: protobuf<4.0.0,>=3.19.0 in /usr/local/lib/python3.10/dist-packages (from flwr[simulation]) (3.20.3)\n",
            "Collecting ray[default]<3.0.0,>=2.3.0 (from flwr[simulation])\n",
            "  Downloading ray-2.5.1-cp310-cp310-manylinux2014_x86_64.whl (56.2 MB)\n",
            "\u001b[2K     \u001b[90m━━━━━━━━━━━━━━━━━━━━━━━━━━━━━━━━━━━━━━━━\u001b[0m \u001b[32m56.2/56.2 MB\u001b[0m \u001b[31m12.4 MB/s\u001b[0m eta \u001b[36m0:00:00\u001b[0m\n",
            "\u001b[?25hRequirement already satisfied: attrs in /usr/local/lib/python3.10/dist-packages (from ray[default]<3.0.0,>=2.3.0->flwr[simulation]) (23.1.0)\n",
            "Requirement already satisfied: click>=7.0 in /usr/local/lib/python3.10/dist-packages (from ray[default]<3.0.0,>=2.3.0->flwr[simulation]) (8.1.4)\n",
            "Requirement already satisfied: filelock in /usr/local/lib/python3.10/dist-packages (from ray[default]<3.0.0,>=2.3.0->flwr[simulation]) (3.12.2)\n",
            "Requirement already satisfied: jsonschema in /usr/local/lib/python3.10/dist-packages (from ray[default]<3.0.0,>=2.3.0->flwr[simulation]) (4.3.3)\n",
            "Requirement already satisfied: msgpack<2.0.0,>=1.0.0 in /usr/local/lib/python3.10/dist-packages (from ray[default]<3.0.0,>=2.3.0->flwr[simulation]) (1.0.5)\n",
            "Requirement already satisfied: packaging in /usr/local/lib/python3.10/dist-packages (from ray[default]<3.0.0,>=2.3.0->flwr[simulation]) (23.1)\n",
            "Requirement already satisfied: pyyaml in /usr/local/lib/python3.10/dist-packages (from ray[default]<3.0.0,>=2.3.0->flwr[simulation]) (6.0)\n",
            "Requirement already satisfied: aiosignal in /usr/local/lib/python3.10/dist-packages (from ray[default]<3.0.0,>=2.3.0->flwr[simulation]) (1.3.1)\n",
            "Requirement already satisfied: frozenlist in /usr/local/lib/python3.10/dist-packages (from ray[default]<3.0.0,>=2.3.0->flwr[simulation]) (1.4.0)\n",
            "Requirement already satisfied: requests in /usr/local/lib/python3.10/dist-packages (from ray[default]<3.0.0,>=2.3.0->flwr[simulation]) (2.27.1)\n",
            "Collecting grpcio!=1.52.0,<2.0.0,>=1.48.2 (from flwr[simulation])\n",
            "  Downloading grpcio-1.51.3-cp310-cp310-manylinux_2_17_x86_64.manylinux2014_x86_64.whl (4.8 MB)\n",
            "\u001b[2K     \u001b[90m━━━━━━━━━━━━━━━━━━━━━━━━━━━━━━━━━━━━━━━━\u001b[0m \u001b[32m4.8/4.8 MB\u001b[0m \u001b[31m53.7 MB/s\u001b[0m eta \u001b[36m0:00:00\u001b[0m\n",
            "\u001b[?25hRequirement already satisfied: aiohttp>=3.7 in /usr/local/lib/python3.10/dist-packages (from ray[default]<3.0.0,>=2.3.0->flwr[simulation]) (3.8.4)\n",
            "Collecting aiohttp-cors (from ray[default]<3.0.0,>=2.3.0->flwr[simulation])\n",
            "  Downloading aiohttp_cors-0.7.0-py3-none-any.whl (27 kB)\n",
            "Collecting colorful (from ray[default]<3.0.0,>=2.3.0->flwr[simulation])\n",
            "  Downloading colorful-0.5.5-py2.py3-none-any.whl (201 kB)\n",
            "\u001b[2K     \u001b[90m━━━━━━━━━━━━━━━━━━━━━━━━━━━━━━━━━━━━━━\u001b[0m \u001b[32m201.4/201.4 kB\u001b[0m \u001b[31m17.1 MB/s\u001b[0m eta \u001b[36m0:00:00\u001b[0m\n",
            "\u001b[?25hCollecting py-spy>=0.2.0 (from ray[default]<3.0.0,>=2.3.0->flwr[simulation])\n",
            "  Downloading py_spy-0.3.14-py2.py3-none-manylinux_2_5_x86_64.manylinux1_x86_64.whl (3.0 MB)\n",
            "\u001b[2K     \u001b[90m━━━━━━━━━━━━━━━━━━━━━━━━━━━━━━━━━━━━━━━━\u001b[0m \u001b[32m3.0/3.0 MB\u001b[0m \u001b[31m35.7 MB/s\u001b[0m eta \u001b[36m0:00:00\u001b[0m\n",
            "\u001b[?25hCollecting gpustat>=1.0.0 (from ray[default]<3.0.0,>=2.3.0->flwr[simulation])\n",
            "  Downloading gpustat-1.1.tar.gz (97 kB)\n",
            "\u001b[2K     \u001b[90m━━━━━━━━━━━━━━━━━━━━━━━━━━━━━━━━━━━━━━━━\u001b[0m \u001b[32m97.9/97.9 kB\u001b[0m \u001b[31m9.9 MB/s\u001b[0m eta \u001b[36m0:00:00\u001b[0m\n",
            "\u001b[?25h  Installing build dependencies ... \u001b[?25l\u001b[?25hdone\n",
            "  Getting requirements to build wheel ... \u001b[?25l\u001b[?25hdone\n",
            "  Preparing metadata (pyproject.toml) ... \u001b[?25l\u001b[?25hdone\n",
            "Collecting opencensus (from ray[default]<3.0.0,>=2.3.0->flwr[simulation])\n",
            "  Downloading opencensus-0.11.2-py2.py3-none-any.whl (128 kB)\n",
            "\u001b[2K     \u001b[90m━━━━━━━━━━━━━━━━━━━━━━━━━━━━━━━━━━━━━━\u001b[0m \u001b[32m128.2/128.2 kB\u001b[0m \u001b[31m15.5 MB/s\u001b[0m eta \u001b[36m0:00:00\u001b[0m\n",
            "\u001b[?25hRequirement already satisfied: pydantic in /usr/local/lib/python3.10/dist-packages (from ray[default]<3.0.0,>=2.3.0->flwr[simulation]) (1.10.11)\n",
            "Requirement already satisfied: prometheus-client>=0.7.1 in /usr/local/lib/python3.10/dist-packages (from ray[default]<3.0.0,>=2.3.0->flwr[simulation]) (0.17.1)\n",
            "Requirement already satisfied: smart-open in /usr/local/lib/python3.10/dist-packages (from ray[default]<3.0.0,>=2.3.0->flwr[simulation]) (6.3.0)\n",
            "Collecting virtualenv<20.21.1,>=20.0.24 (from ray[default]<3.0.0,>=2.3.0->flwr[simulation])\n",
            "  Downloading virtualenv-20.21.0-py3-none-any.whl (8.7 MB)\n",
            "\u001b[2K     \u001b[90m━━━━━━━━━━━━━━━━━━━━━━━━━━━━━━━━━━━━━━━━\u001b[0m \u001b[32m8.7/8.7 MB\u001b[0m \u001b[31m84.9 MB/s\u001b[0m eta \u001b[36m0:00:00\u001b[0m\n",
            "\u001b[?25hRequirement already satisfied: charset-normalizer<4.0,>=2.0 in /usr/local/lib/python3.10/dist-packages (from aiohttp>=3.7->ray[default]<3.0.0,>=2.3.0->flwr[simulation]) (2.0.12)\n",
            "Requirement already satisfied: multidict<7.0,>=4.5 in /usr/local/lib/python3.10/dist-packages (from aiohttp>=3.7->ray[default]<3.0.0,>=2.3.0->flwr[simulation]) (6.0.4)\n",
            "Requirement already satisfied: async-timeout<5.0,>=4.0.0a3 in /usr/local/lib/python3.10/dist-packages (from aiohttp>=3.7->ray[default]<3.0.0,>=2.3.0->flwr[simulation]) (4.0.2)\n",
            "Requirement already satisfied: yarl<2.0,>=1.0 in /usr/local/lib/python3.10/dist-packages (from aiohttp>=3.7->ray[default]<3.0.0,>=2.3.0->flwr[simulation]) (1.9.2)\n",
            "Collecting nvidia-ml-py>=11.450.129 (from gpustat>=1.0.0->ray[default]<3.0.0,>=2.3.0->flwr[simulation])\n",
            "  Downloading nvidia_ml_py-12.535.77-py3-none-any.whl (36 kB)\n",
            "Requirement already satisfied: psutil>=5.6.0 in /usr/local/lib/python3.10/dist-packages (from gpustat>=1.0.0->ray[default]<3.0.0,>=2.3.0->flwr[simulation]) (5.9.5)\n",
            "Collecting blessed>=1.17.1 (from gpustat>=1.0.0->ray[default]<3.0.0,>=2.3.0->flwr[simulation])\n",
            "  Downloading blessed-1.20.0-py2.py3-none-any.whl (58 kB)\n",
            "\u001b[2K     \u001b[90m━━━━━━━━━━━━━━━━━━━━━━━━━━━━━━━━━━━━━━━━\u001b[0m \u001b[32m58.4/58.4 kB\u001b[0m \u001b[31m6.1 MB/s\u001b[0m eta \u001b[36m0:00:00\u001b[0m\n",
            "\u001b[?25hCollecting distlib<1,>=0.3.6 (from virtualenv<20.21.1,>=20.0.24->ray[default]<3.0.0,>=2.3.0->flwr[simulation])\n",
            "  Downloading distlib-0.3.7-py2.py3-none-any.whl (468 kB)\n",
            "\u001b[2K     \u001b[90m━━━━━━━━━━━━━━━━━━━━━━━━━━━━━━━━━━━━━━\u001b[0m \u001b[32m468.9/468.9 kB\u001b[0m \u001b[31m39.9 MB/s\u001b[0m eta \u001b[36m0:00:00\u001b[0m\n",
            "\u001b[?25hRequirement already satisfied: platformdirs<4,>=2.4 in /usr/local/lib/python3.10/dist-packages (from virtualenv<20.21.1,>=20.0.24->ray[default]<3.0.0,>=2.3.0->flwr[simulation]) (3.8.1)\n",
            "Requirement already satisfied: pyrsistent!=0.17.0,!=0.17.1,!=0.17.2,>=0.14.0 in /usr/local/lib/python3.10/dist-packages (from jsonschema->ray[default]<3.0.0,>=2.3.0->flwr[simulation]) (0.19.3)\n",
            "Collecting opencensus-context>=0.1.3 (from opencensus->ray[default]<3.0.0,>=2.3.0->flwr[simulation])\n",
            "  Downloading opencensus_context-0.1.3-py2.py3-none-any.whl (5.1 kB)\n",
            "Requirement already satisfied: google-api-core<3.0.0,>=1.0.0 in /usr/local/lib/python3.10/dist-packages (from opencensus->ray[default]<3.0.0,>=2.3.0->flwr[simulation]) (2.11.1)\n",
            "Requirement already satisfied: typing-extensions>=4.2.0 in /usr/local/lib/python3.10/dist-packages (from pydantic->ray[default]<3.0.0,>=2.3.0->flwr[simulation]) (4.7.1)\n",
            "Requirement already satisfied: urllib3<1.27,>=1.21.1 in /usr/local/lib/python3.10/dist-packages (from requests->ray[default]<3.0.0,>=2.3.0->flwr[simulation]) (1.26.16)\n",
            "Requirement already satisfied: certifi>=2017.4.17 in /usr/local/lib/python3.10/dist-packages (from requests->ray[default]<3.0.0,>=2.3.0->flwr[simulation]) (2023.5.7)\n",
            "Requirement already satisfied: idna<4,>=2.5 in /usr/local/lib/python3.10/dist-packages (from requests->ray[default]<3.0.0,>=2.3.0->flwr[simulation]) (3.4)\n",
            "Requirement already satisfied: wcwidth>=0.1.4 in /usr/local/lib/python3.10/dist-packages (from blessed>=1.17.1->gpustat>=1.0.0->ray[default]<3.0.0,>=2.3.0->flwr[simulation]) (0.2.6)\n",
            "Requirement already satisfied: six>=1.9.0 in /usr/local/lib/python3.10/dist-packages (from blessed>=1.17.1->gpustat>=1.0.0->ray[default]<3.0.0,>=2.3.0->flwr[simulation]) (1.16.0)\n",
            "Requirement already satisfied: googleapis-common-protos<2.0.dev0,>=1.56.2 in /usr/local/lib/python3.10/dist-packages (from google-api-core<3.0.0,>=1.0.0->opencensus->ray[default]<3.0.0,>=2.3.0->flwr[simulation]) (1.59.1)\n",
            "Requirement already satisfied: google-auth<3.0.dev0,>=2.14.1 in /usr/local/lib/python3.10/dist-packages (from google-api-core<3.0.0,>=1.0.0->opencensus->ray[default]<3.0.0,>=2.3.0->flwr[simulation]) (2.17.3)\n",
            "Requirement already satisfied: cachetools<6.0,>=2.0.0 in /usr/local/lib/python3.10/dist-packages (from google-auth<3.0.dev0,>=2.14.1->google-api-core<3.0.0,>=1.0.0->opencensus->ray[default]<3.0.0,>=2.3.0->flwr[simulation]) (5.3.1)\n",
            "Requirement already satisfied: pyasn1-modules>=0.2.1 in /usr/local/lib/python3.10/dist-packages (from google-auth<3.0.dev0,>=2.14.1->google-api-core<3.0.0,>=1.0.0->opencensus->ray[default]<3.0.0,>=2.3.0->flwr[simulation]) (0.3.0)\n",
            "Requirement already satisfied: rsa<5,>=3.1.4 in /usr/local/lib/python3.10/dist-packages (from google-auth<3.0.dev0,>=2.14.1->google-api-core<3.0.0,>=1.0.0->opencensus->ray[default]<3.0.0,>=2.3.0->flwr[simulation]) (4.9)\n",
            "Requirement already satisfied: pyasn1<0.6.0,>=0.4.6 in /usr/local/lib/python3.10/dist-packages (from pyasn1-modules>=0.2.1->google-auth<3.0.dev0,>=2.14.1->google-api-core<3.0.0,>=1.0.0->opencensus->ray[default]<3.0.0,>=2.3.0->flwr[simulation]) (0.5.0)\n",
            "Building wheels for collected packages: gpustat\n",
            "  Building wheel for gpustat (pyproject.toml) ... \u001b[?25l\u001b[?25hdone\n",
            "  Created wheel for gpustat: filename=gpustat-1.1-py3-none-any.whl size=26280 sha256=621d48c48f2935a34d8ba84be59759bc036a63d2dbf09b902ca3b321a0308a57\n",
            "  Stored in directory: /root/.cache/pip/wheels/ee/d0/2c/1e02440645c2318ba03aea99993a44a9108dc8f74de0bd370b\n",
            "Successfully built gpustat\n",
            "Installing collected packages: py-spy, opencensus-context, nvidia-ml-py, distlib, colorful, virtualenv, iterators, grpcio, blessed, ray, gpustat, flwr, aiohttp-cors, opencensus\n",
            "  Attempting uninstall: grpcio\n",
            "    Found existing installation: grpcio 1.56.0\n",
            "    Uninstalling grpcio-1.56.0:\n",
            "      Successfully uninstalled grpcio-1.56.0\n",
            "Successfully installed aiohttp-cors-0.7.0 blessed-1.20.0 colorful-0.5.5 distlib-0.3.7 flwr-1.4.0 gpustat-1.1 grpcio-1.51.3 iterators-0.0.2 nvidia-ml-py-12.535.77 opencensus-0.11.2 opencensus-context-0.1.3 py-spy-0.3.14 ray-2.5.1 virtualenv-20.21.0\n"
          ]
        }
      ],
      "source": [
        "!pip install -U flwr[\"simulation\"]"
      ]
    },
    {
      "cell_type": "code",
      "execution_count": 3,
      "id": "13547627-a2d8-4b63-bb1a-7dcb3602c186",
      "metadata": {
        "colab": {
          "base_uri": "https://localhost:8080/"
        },
        "id": "13547627-a2d8-4b63-bb1a-7dcb3602c186",
        "outputId": "ee49da6d-61bb-4127-b095-03f887bb91be"
      },
      "outputs": [
        {
          "output_type": "stream",
          "name": "stdout",
          "text": [
            "Collecting flwr==0.19.0\n",
            "  Downloading flwr-0.19.0-py3-none-any.whl (106 kB)\n",
            "\u001b[?25l     \u001b[90m━━━━━━━━━━━━━━━━━━━━━━━━━━━━━━━━━━━━━━━━\u001b[0m \u001b[32m0.0/106.5 kB\u001b[0m \u001b[31m?\u001b[0m eta \u001b[36m-:--:--\u001b[0m\r\u001b[2K     \u001b[91m━━━━━━━━━━━━━━━━━━━━━━━━━━━━━━━━━━━━━\u001b[0m\u001b[90m╺\u001b[0m\u001b[90m━\u001b[0m \u001b[32m102.4/106.5 kB\u001b[0m \u001b[31m4.3 MB/s\u001b[0m eta \u001b[36m0:00:01\u001b[0m\r\u001b[2K     \u001b[91m━━━━━━━━━━━━━━━━━━━━━━━━━━━━━━━━━━━━━\u001b[0m\u001b[90m╺\u001b[0m\u001b[90m━\u001b[0m \u001b[32m102.4/106.5 kB\u001b[0m \u001b[31m4.3 MB/s\u001b[0m eta \u001b[36m0:00:01\u001b[0m\r\u001b[2K     \u001b[90m━━━━━━━━━━━━━━━━━━━━━━━━━━━━━━━━━━━━━━━\u001b[0m \u001b[32m106.5/106.5 kB\u001b[0m \u001b[31m1.2 MB/s\u001b[0m eta \u001b[36m0:00:00\u001b[0m\n",
            "\u001b[?25hRequirement already satisfied: grpcio<2.0.0,>=1.41.0 in /usr/local/lib/python3.10/dist-packages (from flwr==0.19.0) (1.51.3)\n",
            "Requirement already satisfied: iterators<0.0.3,>=0.0.2 in /usr/local/lib/python3.10/dist-packages (from flwr==0.19.0) (0.0.2)\n",
            "Requirement already satisfied: numpy<2.0,>=1.21 in /usr/local/lib/python3.10/dist-packages (from flwr==0.19.0) (1.22.4)\n",
            "Requirement already satisfied: protobuf<4.0.0,>=3.19.0 in /usr/local/lib/python3.10/dist-packages (from flwr==0.19.0) (3.20.3)\n",
            "Installing collected packages: flwr\n",
            "  Attempting uninstall: flwr\n",
            "    Found existing installation: flwr 1.4.0\n",
            "    Uninstalling flwr-1.4.0:\n",
            "      Successfully uninstalled flwr-1.4.0\n",
            "Successfully installed flwr-0.19.0\n"
          ]
        }
      ],
      "source": [
        "!pip install -U flwr==0.19.0"
      ]
    },
    {
      "cell_type": "code",
      "execution_count": 4,
      "id": "bde9371e-369b-4a1a-a90e-8fed66b4e1b6",
      "metadata": {
        "colab": {
          "base_uri": "https://localhost:8080/",
          "height": 1000
        },
        "id": "bde9371e-369b-4a1a-a90e-8fed66b4e1b6",
        "outputId": "6bb17bb5-8883-474e-874b-1ae3a7ba5b4f"
      },
      "outputs": [
        {
          "output_type": "stream",
          "name": "stdout",
          "text": [
            "Collecting torch==1.13.1\n",
            "  Downloading torch-1.13.1-cp310-cp310-manylinux1_x86_64.whl (887.5 MB)\n",
            "\u001b[2K     \u001b[90m━━━━━━━━━━━━━━━━━━━━━━━━━━━━━━━━━━━━━━━\u001b[0m \u001b[32m887.5/887.5 MB\u001b[0m \u001b[31m1.2 MB/s\u001b[0m eta \u001b[36m0:00:00\u001b[0m\n",
            "\u001b[?25hCollecting torchvision==0.14.1\n",
            "  Downloading torchvision-0.14.1-cp310-cp310-manylinux1_x86_64.whl (24.2 MB)\n",
            "\u001b[2K     \u001b[90m━━━━━━━━━━━━━━━━━━━━━━━━━━━━━━━━━━━━━━━━\u001b[0m \u001b[32m24.2/24.2 MB\u001b[0m \u001b[31m45.2 MB/s\u001b[0m eta \u001b[36m0:00:00\u001b[0m\n",
            "\u001b[?25hCollecting numpy==1.24.1\n",
            "  Downloading numpy-1.24.1-cp310-cp310-manylinux_2_17_x86_64.manylinux2014_x86_64.whl (17.3 MB)\n",
            "\u001b[2K     \u001b[90m━━━━━━━━━━━━━━━━━━━━━━━━━━━━━━━━━━━━━━━━\u001b[0m \u001b[32m17.3/17.3 MB\u001b[0m \u001b[31m65.2 MB/s\u001b[0m eta \u001b[36m0:00:00\u001b[0m\n",
            "\u001b[?25hRequirement already satisfied: pandas==1.5.3 in /usr/local/lib/python3.10/dist-packages (1.5.3)\n",
            "Collecting matplotlib==3.6.3\n",
            "  Downloading matplotlib-3.6.3-cp310-cp310-manylinux_2_17_x86_64.manylinux2014_x86_64.whl (11.8 MB)\n",
            "\u001b[2K     \u001b[90m━━━━━━━━━━━━━━━━━━━━━━━━━━━━━━━━━━━━━━━━\u001b[0m \u001b[32m11.8/11.8 MB\u001b[0m \u001b[31m89.1 MB/s\u001b[0m eta \u001b[36m0:00:00\u001b[0m\n",
            "\u001b[?25hRequirement already satisfied: typing-extensions in /usr/local/lib/python3.10/dist-packages (from torch==1.13.1) (4.7.1)\n",
            "Collecting nvidia-cuda-runtime-cu11==11.7.99 (from torch==1.13.1)\n",
            "  Downloading nvidia_cuda_runtime_cu11-11.7.99-py3-none-manylinux1_x86_64.whl (849 kB)\n",
            "\u001b[2K     \u001b[90m━━━━━━━━━━━━━━━━━━━━━━━━━━━━━━━━━━━━━━\u001b[0m \u001b[32m849.3/849.3 kB\u001b[0m \u001b[31m48.8 MB/s\u001b[0m eta \u001b[36m0:00:00\u001b[0m\n",
            "\u001b[?25hCollecting nvidia-cudnn-cu11==8.5.0.96 (from torch==1.13.1)\n",
            "  Downloading nvidia_cudnn_cu11-8.5.0.96-2-py3-none-manylinux1_x86_64.whl (557.1 MB)\n",
            "\u001b[2K     \u001b[90m━━━━━━━━━━━━━━━━━━━━━━━━━━━━━━━━━━━━━━━\u001b[0m \u001b[32m557.1/557.1 MB\u001b[0m \u001b[31m2.4 MB/s\u001b[0m eta \u001b[36m0:00:00\u001b[0m\n",
            "\u001b[?25hCollecting nvidia-cublas-cu11==11.10.3.66 (from torch==1.13.1)\n",
            "  Downloading nvidia_cublas_cu11-11.10.3.66-py3-none-manylinux1_x86_64.whl (317.1 MB)\n",
            "\u001b[2K     \u001b[90m━━━━━━━━━━━━━━━━━━━━━━━━━━━━━━━━━━━━━━━\u001b[0m \u001b[32m317.1/317.1 MB\u001b[0m \u001b[31m1.5 MB/s\u001b[0m eta \u001b[36m0:00:00\u001b[0m\n",
            "\u001b[?25hCollecting nvidia-cuda-nvrtc-cu11==11.7.99 (from torch==1.13.1)\n",
            "  Downloading nvidia_cuda_nvrtc_cu11-11.7.99-2-py3-none-manylinux1_x86_64.whl (21.0 MB)\n",
            "\u001b[2K     \u001b[90m━━━━━━━━━━━━━━━━━━━━━━━━━━━━━━━━━━━━━━━━\u001b[0m \u001b[32m21.0/21.0 MB\u001b[0m \u001b[31m38.6 MB/s\u001b[0m eta \u001b[36m0:00:00\u001b[0m\n",
            "\u001b[?25hRequirement already satisfied: requests in /usr/local/lib/python3.10/dist-packages (from torchvision==0.14.1) (2.27.1)\n",
            "Requirement already satisfied: pillow!=8.3.*,>=5.3.0 in /usr/local/lib/python3.10/dist-packages (from torchvision==0.14.1) (8.4.0)\n",
            "Requirement already satisfied: python-dateutil>=2.8.1 in /usr/local/lib/python3.10/dist-packages (from pandas==1.5.3) (2.8.2)\n",
            "Requirement already satisfied: pytz>=2020.1 in /usr/local/lib/python3.10/dist-packages (from pandas==1.5.3) (2022.7.1)\n",
            "Requirement already satisfied: contourpy>=1.0.1 in /usr/local/lib/python3.10/dist-packages (from matplotlib==3.6.3) (1.1.0)\n",
            "Requirement already satisfied: cycler>=0.10 in /usr/local/lib/python3.10/dist-packages (from matplotlib==3.6.3) (0.11.0)\n",
            "Requirement already satisfied: fonttools>=4.22.0 in /usr/local/lib/python3.10/dist-packages (from matplotlib==3.6.3) (4.41.0)\n",
            "Requirement already satisfied: kiwisolver>=1.0.1 in /usr/local/lib/python3.10/dist-packages (from matplotlib==3.6.3) (1.4.4)\n",
            "Requirement already satisfied: packaging>=20.0 in /usr/local/lib/python3.10/dist-packages (from matplotlib==3.6.3) (23.1)\n",
            "Requirement already satisfied: pyparsing>=2.2.1 in /usr/local/lib/python3.10/dist-packages (from matplotlib==3.6.3) (3.1.0)\n",
            "Requirement already satisfied: setuptools in /usr/local/lib/python3.10/dist-packages (from nvidia-cublas-cu11==11.10.3.66->torch==1.13.1) (67.7.2)\n",
            "Requirement already satisfied: wheel in /usr/local/lib/python3.10/dist-packages (from nvidia-cublas-cu11==11.10.3.66->torch==1.13.1) (0.40.0)\n",
            "Requirement already satisfied: six>=1.5 in /usr/local/lib/python3.10/dist-packages (from python-dateutil>=2.8.1->pandas==1.5.3) (1.16.0)\n",
            "Requirement already satisfied: urllib3<1.27,>=1.21.1 in /usr/local/lib/python3.10/dist-packages (from requests->torchvision==0.14.1) (1.26.16)\n",
            "Requirement already satisfied: certifi>=2017.4.17 in /usr/local/lib/python3.10/dist-packages (from requests->torchvision==0.14.1) (2023.5.7)\n",
            "Requirement already satisfied: charset-normalizer~=2.0.0 in /usr/local/lib/python3.10/dist-packages (from requests->torchvision==0.14.1) (2.0.12)\n",
            "Requirement already satisfied: idna<4,>=2.5 in /usr/local/lib/python3.10/dist-packages (from requests->torchvision==0.14.1) (3.4)\n",
            "Installing collected packages: nvidia-cuda-runtime-cu11, nvidia-cuda-nvrtc-cu11, nvidia-cublas-cu11, numpy, nvidia-cudnn-cu11, torch, matplotlib, torchvision\n",
            "  Attempting uninstall: numpy\n",
            "    Found existing installation: numpy 1.22.4\n",
            "    Uninstalling numpy-1.22.4:\n",
            "      Successfully uninstalled numpy-1.22.4\n",
            "  Attempting uninstall: torch\n",
            "    Found existing installation: torch 2.0.1+cu118\n",
            "    Uninstalling torch-2.0.1+cu118:\n",
            "      Successfully uninstalled torch-2.0.1+cu118\n",
            "  Attempting uninstall: matplotlib\n",
            "    Found existing installation: matplotlib 3.7.1\n",
            "    Uninstalling matplotlib-3.7.1:\n",
            "      Successfully uninstalled matplotlib-3.7.1\n",
            "  Attempting uninstall: torchvision\n",
            "    Found existing installation: torchvision 0.15.2+cu118\n",
            "    Uninstalling torchvision-0.15.2+cu118:\n",
            "      Successfully uninstalled torchvision-0.15.2+cu118\n",
            "\u001b[31mERROR: pip's dependency resolver does not currently take into account all the packages that are installed. This behaviour is the source of the following dependency conflicts.\n",
            "numba 0.56.4 requires numpy<1.24,>=1.18, but you have numpy 1.24.1 which is incompatible.\n",
            "tensorflow 2.12.0 requires numpy<1.24,>=1.22, but you have numpy 1.24.1 which is incompatible.\n",
            "torchaudio 2.0.2+cu118 requires torch==2.0.1, but you have torch 1.13.1 which is incompatible.\n",
            "torchdata 0.6.1 requires torch==2.0.1, but you have torch 1.13.1 which is incompatible.\n",
            "torchtext 0.15.2 requires torch==2.0.1, but you have torch 1.13.1 which is incompatible.\u001b[0m\u001b[31m\n",
            "\u001b[0mSuccessfully installed matplotlib-3.6.3 numpy-1.24.1 nvidia-cublas-cu11-11.10.3.66 nvidia-cuda-nvrtc-cu11-11.7.99 nvidia-cuda-runtime-cu11-11.7.99 nvidia-cudnn-cu11-8.5.0.96 torch-1.13.1 torchvision-0.14.1\n"
          ]
        },
        {
          "output_type": "display_data",
          "data": {
            "application/vnd.colab-display-data+json": {
              "pip_warning": {
                "packages": [
                  "matplotlib",
                  "mpl_toolkits",
                  "numpy"
                ]
              }
            }
          },
          "metadata": {}
        }
      ],
      "source": [
        "!pip install torch==1.13.1 torchvision==0.14.1 numpy==1.24.1 pandas==1.5.3 matplotlib==3.6.3"
      ]
    },
    {
      "cell_type": "markdown",
      "id": "51703fc2-8ae8-4a24-b6c6-fba7121e65e3",
      "metadata": {
        "id": "51703fc2-8ae8-4a24-b6c6-fba7121e65e3"
      },
      "source": [
        "***\n",
        "## 1- Importing Libraries:"
      ]
    },
    {
      "cell_type": "code",
      "execution_count": 5,
      "id": "59fcc7f0-1a62-4dbb-8e76-929e67be4236",
      "metadata": {
        "colab": {
          "base_uri": "https://localhost:8080/"
        },
        "id": "59fcc7f0-1a62-4dbb-8e76-929e67be4236",
        "outputId": "d79c59a7-860a-4ae2-f172-9a5a9aa70c66"
      },
      "outputs": [
        {
          "output_type": "stream",
          "name": "stdout",
          "text": [
            "Training on cpu\n"
          ]
        }
      ],
      "source": [
        "import torch\n",
        "import torch.nn as nn\n",
        "import torch.nn.functional as F\n",
        "import torchvision.transforms as transforms\n",
        "from torch.utils.data import DataLoader, random_split\n",
        "from torchvision.datasets import CIFAR10\n",
        "import torchvision.models as models\n",
        "import torchvision\n",
        "\n",
        "import torch.nn.utils.prune as prune\n",
        "\n",
        "\n",
        "import flwr as fl\n",
        "\n",
        "import numpy as np\n",
        "import pandas as pd\n",
        "import matplotlib\n",
        "import matplotlib.pyplot as plt\n",
        "\n",
        "from collections import OrderedDict\n",
        "from typing import Dict, List, Optional, Tuple\n",
        "import json\n",
        "import os\n",
        "\n",
        "DEVICE = torch.device(\"cuda:0\" if torch.cuda.is_available() else \"cpu\")\n",
        "print(f\"Training on {DEVICE}\")"
      ]
    },
    {
      "cell_type": "code",
      "execution_count": 6,
      "id": "40197165-b7be-4702-ae74-79312022098e",
      "metadata": {
        "id": "40197165-b7be-4702-ae74-79312022098e"
      },
      "outputs": [],
      "source": [
        "(fl.__version__, torch.__version__, torchvision.__version__, np.__version__, pd.__version__,\n",
        "json.__version__, matplotlib.__version__)\n",
        "\n",
        "library_versions = {\"flwr\": fl.__version__, \"torch\": torch.__version__,\n",
        "                    \"torchvision\": torchvision.__version__, \"numpy\": np.__version__,\n",
        "                    \"pandas\": pd.__version__, \"json\": json.__version__,\n",
        "                    \"matplotlib\": matplotlib.__version__}\n",
        "\n",
        "with open('library_versions.txt', 'w') as f:\n",
        "    f.write(json.dumps(library_versions))\n",
        "\n",
        "f.close()"
      ]
    },
    {
      "cell_type": "markdown",
      "id": "d4c8301b-fe3c-41e1-8128-7e8058dc47f4",
      "metadata": {
        "id": "d4c8301b-fe3c-41e1-8128-7e8058dc47f4"
      },
      "source": [
        "***\n",
        "## 2- Initilisation/Hyperparameters:"
      ]
    },
    {
      "cell_type": "code",
      "execution_count": 7,
      "id": "589ffaf0-468a-4b82-a827-03013b9fdd85",
      "metadata": {
        "id": "589ffaf0-468a-4b82-a827-03013b9fdd85"
      },
      "outputs": [],
      "source": [
        "# Total number of devices (For D1 devices):\n",
        "NUM_DEVICES = 100\n",
        "\n",
        "# Model aggregation (Training round):\n",
        "NUM_ROUNDS = 100\n",
        "\n",
        "# On device local updates:\n",
        "LOCAL_EPOCH = 3\n",
        "\n",
        "# You may need to decrease it since total image per device is 60.\n",
        "BATCH_SIZE = 64\n",
        "\n",
        "# D1, D2, D3, ... , D10:\n",
        "NUM_DEVICE_TYPE = 10\n",
        "\n",
        "hyperparameters = {'NUM_DEVICES': NUM_DEVICES,\n",
        "                   'NUM_ROUNDS': NUM_ROUNDS,\n",
        "                   'NUM_DEVICE_TYPE': NUM_DEVICE_TYPE,\n",
        "                   'BATCH_SIZE': BATCH_SIZE,\n",
        "                   'LOCAL_EPOCH': LOCAL_EPOCH}\n",
        "\n",
        "with open('hyperparameters.txt', 'w') as f:\n",
        "    f.write(json.dumps(hyperparameters))\n",
        "\n",
        "f.close()"
      ]
    },
    {
      "cell_type": "markdown",
      "id": "181048bd-67d0-417b-87a2-10bd8517bb60",
      "metadata": {
        "id": "181048bd-67d0-417b-87a2-10bd8517bb60"
      },
      "source": [
        "***\n",
        "## 3- Load Datasets:"
      ]
    },
    {
      "cell_type": "code",
      "execution_count": 8,
      "id": "c85638ba-9a0c-4df3-a874-77fbc5607a79",
      "metadata": {
        "id": "c85638ba-9a0c-4df3-a874-77fbc5607a79"
      },
      "outputs": [],
      "source": [
        "def load_datasets(num_clients: int):\n",
        "\n",
        "\n",
        "    # ######################## Test Dataset Preparetion #########################\n",
        "    testset = torchvision.datasets.MNIST(\"./data\",\n",
        "                                         train = False,\n",
        "                                         transform = transforms.Compose([transforms.Resize((32,32)),\n",
        "                                                                         transforms.ToTensor(),\n",
        "                                                                         transforms.Normalize(mean = (0.1325,),\n",
        "                                                                                              std = (0.3105,))]),\n",
        "                                         download=True)\n",
        "\n",
        "    testloader = DataLoader(testset, batch_size=BATCH_SIZE)\n",
        "\n",
        "\n",
        "    # #################### Train and Val Datasets Preparetion ####################\n",
        "    trainset = torchvision.datasets.MNIST(\"./data\",\n",
        "                                          train = True,\n",
        "                                          transform = transforms.Compose([transforms.Resize((32,32)),\n",
        "                                                                          transforms.ToTensor(),\n",
        "                                                                          transforms.Normalize(mean = (0.1307,),\n",
        "                                                                                               std = (0.3081,))]),\n",
        "                                          download=True)\n",
        "\n",
        "    plan = num_clients * NUM_DEVICE_TYPE\n",
        "    partition_size = len(trainset) // plan\n",
        "    lengths = [partition_size] * plan\n",
        "    # plan = num_clients * 2\n",
        "    # partition_size = len(trainset) // plan\n",
        "    # lengths = [partition_size] * plan\n",
        "    # partition_size = len(trainset) // num_clients\n",
        "    # lengths = [partition_size] * num_clients\n",
        "\n",
        "    datasets = random_split(trainset, lengths, torch.Generator().manual_seed(42))\n",
        "\n",
        "\n",
        "    trainloaders_1, valloaders_1 = [], []\n",
        "    trainloaders_2, valloaders_2 = [], []\n",
        "    trainloaders_3, valloaders_3 = [], []\n",
        "    trainloaders_4, valloaders_4 = [], []\n",
        "    trainloaders_5, valloaders_5 = [], []\n",
        "    trainloaders_6, valloaders_6 = [], []\n",
        "    trainloaders_7, valloaders_7 = [], []\n",
        "    trainloaders_8, valloaders_8 = [], []\n",
        "    trainloaders_9, valloaders_9 = [], []\n",
        "    trainloaders_10, valloaders_10 = [], []\n",
        "\n",
        "\n",
        "    # The amount of data should be shared per device class (D1, D2, ... , D10):\n",
        "    amount = (len(datasets) // NUM_DEVICE_TYPE)\n",
        "\n",
        "    # Sharing dataset to devices:\n",
        "    for i, ds in enumerate(datasets):\n",
        "        len_val = len(ds) // 10\n",
        "        len_train = len(ds) - len_val\n",
        "        lengths = [len_train, len_val]\n",
        "\n",
        "        ds_train, ds_val = random_split(ds, lengths, torch.Generator().manual_seed(42))\n",
        "\n",
        "        # D1 devices:\n",
        "        if (amount*0 <= i) and (i < amount*1):\n",
        "            trainloaders_1.append(DataLoader(ds_train, batch_size=BATCH_SIZE, shuffle=True))\n",
        "            valloaders_1.append(DataLoader(ds_val, batch_size=BATCH_SIZE))\n",
        "\n",
        "        # D2 devices:\n",
        "        elif (amount*1 <= i) and (i < amount*2):\n",
        "            trainloaders_2.append(DataLoader(ds_train, batch_size=BATCH_SIZE, shuffle=True))\n",
        "            valloaders_2.append(DataLoader(ds_val, batch_size=BATCH_SIZE))\n",
        "\n",
        "        # D3 devices:\n",
        "        elif (amount*2 <= i) and (i < amount*3):\n",
        "            trainloaders_3.append(DataLoader(ds_train, batch_size=BATCH_SIZE, shuffle=True))\n",
        "            valloaders_3.append(DataLoader(ds_val, batch_size=BATCH_SIZE))\n",
        "\n",
        "        # D4 devices:\n",
        "        elif (amount*3 <= i) and (i < amount*4):\n",
        "            trainloaders_4.append(DataLoader(ds_train, batch_size=BATCH_SIZE, shuffle=True))\n",
        "            valloaders_4.append(DataLoader(ds_val, batch_size=BATCH_SIZE))\n",
        "\n",
        "        # D5 devices:\n",
        "        elif (amount*4 <= i) and (i < amount*5):\n",
        "            trainloaders_5.append(DataLoader(ds_train, batch_size=BATCH_SIZE, shuffle=True))\n",
        "            valloaders_5.append(DataLoader(ds_val, batch_size=BATCH_SIZE))\n",
        "\n",
        "        # D6 devices:\n",
        "        elif (amount*5 <= i) and (i < amount*6):\n",
        "            trainloaders_6.append(DataLoader(ds_train, batch_size=BATCH_SIZE, shuffle=True))\n",
        "            valloaders_6.append(DataLoader(ds_val, batch_size=BATCH_SIZE))\n",
        "\n",
        "        # D7 devices:\n",
        "        elif (amount*6 <= i) and (i < amount*7):\n",
        "            trainloaders_7.append(DataLoader(ds_train, batch_size=BATCH_SIZE, shuffle=True))\n",
        "            valloaders_7.append(DataLoader(ds_val, batch_size=BATCH_SIZE))\n",
        "\n",
        "        # D8 devices:\n",
        "        elif (amount*7 <= i) and (i < amount*8):\n",
        "            trainloaders_8.append(DataLoader(ds_train, batch_size=BATCH_SIZE, shuffle=True))\n",
        "            valloaders_8.append(DataLoader(ds_val, batch_size=BATCH_SIZE))\n",
        "\n",
        "        # D9 devices:\n",
        "        elif (amount*8 <= i) and (i < amount*9):\n",
        "            trainloaders_9.append(DataLoader(ds_train, batch_size=BATCH_SIZE, shuffle=True))\n",
        "            valloaders_9.append(DataLoader(ds_val, batch_size=BATCH_SIZE))\n",
        "\n",
        "        # D10 devices:\n",
        "        elif (amount*9 <= i) and (i < amount*10):\n",
        "            trainloaders_10.append(DataLoader(ds_train, batch_size=BATCH_SIZE, shuffle=True))\n",
        "            valloaders_10.append(DataLoader(ds_val, batch_size=BATCH_SIZE))\n",
        "\n",
        "\n",
        "    return (trainloaders_1, valloaders_1, trainloaders_2, valloaders_2,\n",
        "            trainloaders_3, valloaders_3, trainloaders_4, valloaders_4,\n",
        "            trainloaders_5, valloaders_5, trainloaders_6, valloaders_6,\n",
        "            trainloaders_7, valloaders_7, trainloaders_8, valloaders_8,\n",
        "            trainloaders_9, valloaders_9, trainloaders_10, valloaders_10,\n",
        "            testloader)"
      ]
    },
    {
      "cell_type": "code",
      "execution_count": 9,
      "id": "85a63e33-6ee5-46c1-851e-5568847f92e5",
      "metadata": {
        "tags": [],
        "colab": {
          "base_uri": "https://localhost:8080/",
          "height": 423,
          "referenced_widgets": [
            "a983eef9a95445f29c2751361b5387e4",
            "6add0f814e0445d39a1fd59c3720a960",
            "6dee5abc2d14456f8de884abd90d6f9c",
            "d1990f2bbcbb4f01b7e927baa477cfd5",
            "7b403d7ff4684855b40dca43fa7c7083",
            "0cef1929f2f94a8d906bd58a2f44f2d9",
            "3c7985b93f364619a28bd3d8ec2ef46b",
            "1561c625fbd14813832537b0f419900a",
            "a4e9414e4aac4a9c882415245e42eaee",
            "f016c20536b14694b83ec13dac16a2da",
            "51aac60314ed4c02b3590d0031d76458",
            "9afdc9e4fcba4161a28bd1a2b0923ae4",
            "8f71be04fb2543489ac2bc504ae3342d",
            "f82e9c7c44144388b51dbd769d6f47e8",
            "c962c8cf37224b88bbb4fa86ddec408b",
            "aa8741e54812425484aa2f65f106de22",
            "5ed7de2317de44028f65eadf6a41a33c",
            "09d6208226b44c769d892936866ba362",
            "4d587738753f4792aff2712d5ca5f3bd",
            "9c4de6f47f6f4db29c56def0e4e93ed0",
            "a24d3ad76bef4c1c88f155a4cbb5c634",
            "67ce70ee95b947719414745dc9638509",
            "554c495cb5894234b39a72c069561947",
            "498ba7d0d45245d7a6bef24cb14156ec",
            "2f0fd351d85049d1a117a3e74ebed202",
            "9d8b68cfd1e64c0b9bd59ab2e6887cdf",
            "68529132a72c47688bbc0c89a64d66a4",
            "3ee7f79e6a0c4248935aa7c2faabf3e0",
            "21493510bfaf4d90858bb1465f32645f",
            "7244df281c2848529b2a07f43511ad35",
            "f1cc23c3eb8a4ab198e33937a86869fb",
            "99a4309e23224386802b6b4c0f2baa06",
            "8f4b4fe8acdc49f89101896266ddb83c",
            "7449bec9cb644df48354d064c0e5b34a",
            "b5ad84ad48ad4f2cab8717aa3b6088e2",
            "1329734a0107422b81068062db9568b2",
            "e3d5464667c744cab6367eb4ebf6a0d4",
            "85e396449ad24513a315bf00e4b83b32",
            "4c91c2ef71844cda98b4e627ae89f9db",
            "a57210cadce94215bc9b472078990305",
            "c6be644352b24890a24456cff550fd30",
            "0c58e4ead7d84262a4b37a8c5b38e59a",
            "a6dfc41fa85c4c5797fdd0bb41343a96",
            "545b324ad7a94a70b4a693334c323921"
          ]
        },
        "id": "85a63e33-6ee5-46c1-851e-5568847f92e5",
        "outputId": "d51f3e93-c84f-417e-ed6c-bc2586efd1bd"
      },
      "outputs": [
        {
          "output_type": "stream",
          "name": "stdout",
          "text": [
            "Downloading http://yann.lecun.com/exdb/mnist/train-images-idx3-ubyte.gz\n",
            "Downloading http://yann.lecun.com/exdb/mnist/train-images-idx3-ubyte.gz to ./data/MNIST/raw/train-images-idx3-ubyte.gz\n"
          ]
        },
        {
          "output_type": "display_data",
          "data": {
            "text/plain": [
              "  0%|          | 0/9912422 [00:00<?, ?it/s]"
            ],
            "application/vnd.jupyter.widget-view+json": {
              "version_major": 2,
              "version_minor": 0,
              "model_id": "a983eef9a95445f29c2751361b5387e4"
            }
          },
          "metadata": {}
        },
        {
          "output_type": "stream",
          "name": "stdout",
          "text": [
            "Extracting ./data/MNIST/raw/train-images-idx3-ubyte.gz to ./data/MNIST/raw\n",
            "\n",
            "Downloading http://yann.lecun.com/exdb/mnist/train-labels-idx1-ubyte.gz\n",
            "Downloading http://yann.lecun.com/exdb/mnist/train-labels-idx1-ubyte.gz to ./data/MNIST/raw/train-labels-idx1-ubyte.gz\n"
          ]
        },
        {
          "output_type": "display_data",
          "data": {
            "text/plain": [
              "  0%|          | 0/28881 [00:00<?, ?it/s]"
            ],
            "application/vnd.jupyter.widget-view+json": {
              "version_major": 2,
              "version_minor": 0,
              "model_id": "9afdc9e4fcba4161a28bd1a2b0923ae4"
            }
          },
          "metadata": {}
        },
        {
          "output_type": "stream",
          "name": "stdout",
          "text": [
            "Extracting ./data/MNIST/raw/train-labels-idx1-ubyte.gz to ./data/MNIST/raw\n",
            "\n",
            "Downloading http://yann.lecun.com/exdb/mnist/t10k-images-idx3-ubyte.gz\n",
            "Downloading http://yann.lecun.com/exdb/mnist/t10k-images-idx3-ubyte.gz to ./data/MNIST/raw/t10k-images-idx3-ubyte.gz\n"
          ]
        },
        {
          "output_type": "display_data",
          "data": {
            "text/plain": [
              "  0%|          | 0/1648877 [00:00<?, ?it/s]"
            ],
            "application/vnd.jupyter.widget-view+json": {
              "version_major": 2,
              "version_minor": 0,
              "model_id": "554c495cb5894234b39a72c069561947"
            }
          },
          "metadata": {}
        },
        {
          "output_type": "stream",
          "name": "stdout",
          "text": [
            "Extracting ./data/MNIST/raw/t10k-images-idx3-ubyte.gz to ./data/MNIST/raw\n",
            "\n",
            "Downloading http://yann.lecun.com/exdb/mnist/t10k-labels-idx1-ubyte.gz\n",
            "Downloading http://yann.lecun.com/exdb/mnist/t10k-labels-idx1-ubyte.gz to ./data/MNIST/raw/t10k-labels-idx1-ubyte.gz\n"
          ]
        },
        {
          "output_type": "display_data",
          "data": {
            "text/plain": [
              "  0%|          | 0/4542 [00:00<?, ?it/s]"
            ],
            "application/vnd.jupyter.widget-view+json": {
              "version_major": 2,
              "version_minor": 0,
              "model_id": "7449bec9cb644df48354d064c0e5b34a"
            }
          },
          "metadata": {}
        },
        {
          "output_type": "stream",
          "name": "stdout",
          "text": [
            "Extracting ./data/MNIST/raw/t10k-labels-idx1-ubyte.gz to ./data/MNIST/raw\n",
            "\n"
          ]
        }
      ],
      "source": [
        "trainloaders_1, valloaders_1, trainloaders_2, valloaders_2, trainloaders_3, valloaders_3, trainloaders_4, valloaders_4, trainloaders_5, valloaders_5, trainloaders_6, valloaders_6, trainloaders_7, valloaders_7, trainloaders_8, valloaders_8, trainloaders_9, valloaders_9, trainloaders_10, valloaders_10, testloader = load_datasets(NUM_DEVICES)"
      ]
    },
    {
      "cell_type": "code",
      "execution_count": 10,
      "id": "b381314b-4065-4097-8d30-f9836c030f06",
      "metadata": {
        "id": "b381314b-4065-4097-8d30-f9836c030f06"
      },
      "outputs": [],
      "source": [
        "# D1 devices are choosed to train:\n",
        "trainloaders = trainloaders_1\n",
        "valloaders = valloaders_1"
      ]
    },
    {
      "cell_type": "markdown",
      "id": "dcd3093f-d3ed-4c5b-b0dc-70aae2a00d71",
      "metadata": {
        "id": "dcd3093f-d3ed-4c5b-b0dc-70aae2a00d71"
      },
      "source": [
        "***\n",
        "## 4- Flower Client to Simulate Devices:"
      ]
    },
    {
      "cell_type": "code",
      "execution_count": 11,
      "id": "709858c8-73f7-4496-9735-fcd194b5b979",
      "metadata": {
        "id": "709858c8-73f7-4496-9735-fcd194b5b979"
      },
      "outputs": [],
      "source": [
        "class FlowerClient(fl.client.NumPyClient):\n",
        "    def __init__(self, cid, net, trainloader, valloader):\n",
        "        self.cid = cid\n",
        "        self.net = net\n",
        "        self.trainloader = trainloader\n",
        "        self.valloader = valloader\n",
        "\n",
        "    def get_parameters(self):\n",
        "        print(f\"[Client {self.cid}] get_parameters\")\n",
        "\n",
        "        return get_parameters(self.net)\n",
        "\n",
        "    # Fit Function A:\n",
        "    # Configuration from client-side\n",
        "    # To make client-side execution (trainig, evaluation).\n",
        "    def fit(self, parameters, config):\n",
        "        print(f\"[Client {self.cid}] fit, config: {config}\")\n",
        "        set_parameters(self.net, parameters)\n",
        "        train(self.net, self.trainloader, epochs=1)\n",
        "\n",
        "        return get_parameters(self.net), len(self.trainloader), {}\n",
        "\n",
        "    \"\"\"\n",
        "    # Fit Function B:\n",
        "    # To make configuration values from the server to the clients using a dictionary.\n",
        "    def fit(self, parameters, config):\n",
        "        # Read values from config\n",
        "        current_round = config[\"current_round\"]\n",
        "        local_epochs = config[\"local_epochs\"]\n",
        "\n",
        "        # Use values provided by the config\n",
        "        print(f\"[Client {self.cid}, round {current_round}] fit, config: {config}\")\n",
        "        set_parameters(self.net, parameters)\n",
        "        train(self.net, self.trainloader, epochs=local_epochs)\n",
        "        return get_parameters(self.net), len(self.trainloader), {}\n",
        "    \"\"\"\n",
        "\n",
        "    # This function is included for case of client side (federated) evaluation is required to use.\n",
        "    def evaluate(self, parameters, config):\n",
        "        print(f\"[Client {self.cid}] evaluate, config: {config}\")\n",
        "        set_parameters(self.net, parameters)\n",
        "        loss, accuracy = test(self.net, self.valloader)\n",
        "\n",
        "        return float(loss), len(self.valloader), {\"accuracy\": float(accuracy)}\n",
        "\n",
        "\n",
        "def client_fn(cid) -> FlowerClient:\n",
        "    net = Net().to(DEVICE)\n",
        "    trainloader = trainloaders[int(cid)]\n",
        "    valloader = valloaders[int(cid)]\n",
        "\n",
        "    return FlowerClient(cid, net, trainloader, valloader)"
      ]
    },
    {
      "cell_type": "markdown",
      "id": "37d808e4-ddcc-4a5f-b9be-67e33c651527",
      "metadata": {
        "id": "37d808e4-ddcc-4a5f-b9be-67e33c651527"
      },
      "source": [
        "***\n",
        "## 5- Model Preparetion:"
      ]
    },
    {
      "cell_type": "code",
      "execution_count": 12,
      "id": "72628d2a-eeff-469a-b265-d701b6f71c42",
      "metadata": {
        "id": "72628d2a-eeff-469a-b265-d701b6f71c42"
      },
      "outputs": [],
      "source": [
        "# LeNet:\n",
        "class Net(nn.Module):\n",
        "\n",
        "    def __init__(self):\n",
        "        super(Net, self).__init__()\n",
        "        # 1 input image channel, 6 output channels, 5x5 square convolution\n",
        "        # kernel\n",
        "        self.conv1 = nn.Conv2d(1, 6, 5)\n",
        "        self.conv2 = nn.Conv2d(6, 16, 5)\n",
        "        # an affine operation: y = Wx + b\n",
        "        self.fc1 = nn.Linear(16 * 5 * 5, 120)  # 5*5 from image dimension\n",
        "        self.fc2 = nn.Linear(120, 84)\n",
        "        self.fc3 = nn.Linear(84, 10)\n",
        "\n",
        "    def forward(self, x):\n",
        "        # Max pooling over a (2, 2) window\n",
        "        x = F.max_pool2d(F.relu(self.conv1(x)), (2, 2))\n",
        "        # If the size is a square, you can specify with a single number\n",
        "        x = F.max_pool2d(F.relu(self.conv2(x)), 2)\n",
        "        x = torch.flatten(x, 1) # flatten all dimensions except the batch dimension\n",
        "        x = F.relu(self.fc1(x))\n",
        "        x = F.relu(self.fc2(x))\n",
        "        x = self.fc3(x)\n",
        "\n",
        "        return x"
      ]
    },
    {
      "cell_type": "code",
      "execution_count": 13,
      "id": "d1124124-3d73-45a4-a0fb-7352579d6f4c",
      "metadata": {
        "id": "d1124124-3d73-45a4-a0fb-7352579d6f4c"
      },
      "outputs": [],
      "source": [
        "def get_parameters(net) -> List[np.ndarray]:\n",
        "    return [val.cpu().numpy() for _, val in net.state_dict().items()]\n",
        "\n",
        "def set_parameters(net, parameters: List[np.ndarray]):\n",
        "    params_dict = zip(net.state_dict().keys(), parameters)\n",
        "    state_dict = OrderedDict({k: torch.tensor(v) for k, v in params_dict})\n",
        "    net.load_state_dict(state_dict, strict=True)"
      ]
    },
    {
      "cell_type": "markdown",
      "id": "cfab70d1-c956-4154-b902-17c0946bf0d5",
      "metadata": {
        "id": "cfab70d1-c956-4154-b902-17c0946bf0d5"
      },
      "source": [
        "***\n",
        "## 6- Train & Test Functions:"
      ]
    },
    {
      "cell_type": "code",
      "execution_count": 14,
      "id": "94d1355a-e5b8-4943-9bdc-246b1ab3d8f3",
      "metadata": {
        "id": "94d1355a-e5b8-4943-9bdc-246b1ab3d8f3"
      },
      "outputs": [],
      "source": [
        "def train(net, trainloader, epochs: int):\n",
        "    \"\"\"Train the network on the training set.\"\"\"\n",
        "\n",
        "    criterion = torch.nn.CrossEntropyLoss()\n",
        "    optimizer = torch.optim.Adam(net.parameters())\n",
        "    net.train()\n",
        "\n",
        "    for epoch in range(epochs):\n",
        "        correct, total, epoch_loss = 0, 0, 0.0\n",
        "\n",
        "        for images, labels in trainloader:\n",
        "            images, labels = images.to(DEVICE), labels.to(DEVICE)\n",
        "            optimizer.zero_grad()\n",
        "            outputs = net(images)\n",
        "            loss = criterion(net(images), labels)\n",
        "            loss.backward()\n",
        "            optimizer.step()\n",
        "            # Metrics\n",
        "            epoch_loss += loss\n",
        "            total += labels.size(0)\n",
        "            correct += (torch.max(outputs.data, 1)[1] == labels).sum().item()\n",
        "\n",
        "        epoch_loss /= len(testloader.dataset)\n",
        "        epoch_acc = correct / total\n",
        "        print(f\"Epoch {epoch+1}: train loss {epoch_loss}, accuracy {epoch_acc}\")\n",
        "\n",
        "\n",
        "\n",
        "def test_model(net, testloader):\n",
        "    \"\"\"Evaluate the network on the entire test set.\"\"\"\n",
        "\n",
        "    criterion = torch.nn.CrossEntropyLoss()\n",
        "    correct, total, loss = 0, 0, 0.0\n",
        "    net.eval()\n",
        "\n",
        "    with torch.no_grad():\n",
        "        for images, labels in testloader:\n",
        "            images, labels = images.to(DEVICE), labels.to(DEVICE)\n",
        "            outputs = net(images)\n",
        "            loss += criterion(outputs, labels).item()\n",
        "            _, predicted = torch.max(outputs.data, 1)\n",
        "            total += labels.size(0)\n",
        "            correct += (predicted == labels).sum().item()\n",
        "\n",
        "    loss /= len(testloader.dataset)\n",
        "    accuracy = correct / total\n",
        "\n",
        "\n",
        "    return [loss, accuracy]"
      ]
    },
    {
      "cell_type": "markdown",
      "id": "b961cbad-4370-4e79-b714-c03965d3123f",
      "metadata": {
        "id": "b961cbad-4370-4e79-b714-c03965d3123f"
      },
      "source": [
        "***\n",
        "## 7- System Running (Training):"
      ]
    },
    {
      "cell_type": "code",
      "execution_count": 15,
      "id": "b20d4303-6db1-493f-8a99-31fc1169ea5c",
      "metadata": {
        "tags": [],
        "colab": {
          "base_uri": "https://localhost:8080/"
        },
        "id": "b20d4303-6db1-493f-8a99-31fc1169ea5c",
        "outputId": "557f084c-21d4-47ad-98bb-e62db7c1acd7"
      },
      "outputs": [
        {
          "output_type": "stream",
          "name": "stderr",
          "text": [
            "2023-07-19 14:08:01,868\tINFO worker.py:1636 -- Started a local Ray instance.\n",
            "INFO flower 2023-07-19 14:08:04,429 | app.py:155 | Ray initialized with resources: {'object_store_memory': 3909042585.0, 'memory': 7818085172.0, 'CPU': 2.0, 'node:172.28.0.12': 1.0}\n",
            "INFO:flower:Ray initialized with resources: {'object_store_memory': 3909042585.0, 'memory': 7818085172.0, 'CPU': 2.0, 'node:172.28.0.12': 1.0}\n",
            "INFO flower 2023-07-19 14:08:04,432 | app.py:171 | Starting Flower simulation running: Config(num_rounds=100, round_timeout=None)\n",
            "INFO:flower:Starting Flower simulation running: Config(num_rounds=100, round_timeout=None)\n",
            "INFO flower 2023-07-19 14:08:04,441 | server.py:84 | Initializing global parameters\n",
            "INFO:flower:Initializing global parameters\n",
            "INFO flower 2023-07-19 14:08:04,444 | server.py:252 | Using initial parameters provided by strategy\n",
            "INFO:flower:Using initial parameters provided by strategy\n",
            "INFO flower 2023-07-19 14:08:04,451 | server.py:86 | Evaluating initial parameters\n",
            "INFO:flower:Evaluating initial parameters\n",
            "INFO flower 2023-07-19 14:08:04,454 | server.py:99 | FL starting\n",
            "INFO:flower:FL starting\n",
            "DEBUG flower 2023-07-19 14:08:04,459 | server.py:203 | fit_round: strategy sampled 30 clients (out of 100)\n",
            "DEBUG:flower:fit_round: strategy sampled 30 clients (out of 100)\n",
            "2023-07-19 14:08:06,126\tWARNING __init__.py:181 -- DeprecationWarning: `ray.worker.get` is a private attribute and access will be removed in a future Ray version.\n"
          ]
        },
        {
          "output_type": "stream",
          "name": "stdout",
          "text": [
            "\u001b[2m\u001b[36m(launch_and_fit pid=2406)\u001b[0m [Client 75] fit, config: {'current_round': 1, 'local_epochs': 3}\n",
            "\u001b[2m\u001b[36m(launch_and_fit pid=2406)\u001b[0m Epoch 1: train loss 0.00022996391635388136, accuracy 0.14814814814814814\n",
            "\u001b[2m\u001b[36m(launch_and_fit pid=2406)\u001b[0m [Client 48] fit, config: {'current_round': 1, 'local_epochs': 3}\u001b[32m [repeated 13x across cluster] (Ray deduplicates logs by default. Set RAY_DEDUP_LOGS=0 to disable log deduplication, or see https://docs.ray.io/en/master/ray-observability/ray-logging.html#log-deduplication for more options.)\u001b[0m\n",
            "\u001b[2m\u001b[36m(launch_and_fit pid=2406)\u001b[0m Epoch 1: train loss 0.0002296162856509909, accuracy 0.12962962962962962\u001b[32m [repeated 13x across cluster]\u001b[0m\n"
          ]
        },
        {
          "output_type": "stream",
          "name": "stderr",
          "text": [
            "DEBUG flower 2023-07-19 14:08:20,755 | server.py:216 | fit_round received 30 results and 0 failures\n",
            "DEBUG:flower:fit_round received 30 results and 0 failures\n",
            "WARNING flower 2023-07-19 14:08:20,887 | fedavg.py:237 | No fit_metrics_aggregation_fn provided\n",
            "WARNING:flower:No fit_metrics_aggregation_fn provided\n",
            "DEBUG flower 2023-07-19 14:08:20,911 | server.py:157 | evaluate_round: strategy sampled 30 clients (out of 100)\n",
            "DEBUG:flower:evaluate_round: strategy sampled 30 clients (out of 100)\n"
          ]
        },
        {
          "output_type": "stream",
          "name": "stdout",
          "text": [
            "Saving round 1 aggregated_parameters...\n",
            "\u001b[2m\u001b[36m(launch_and_evaluate pid=2405)\u001b[0m [Client 82] evaluate, config: {}\n",
            "\u001b[2m\u001b[36m(launch_and_fit pid=2406)\u001b[0m [Client 10] fit, config: {'current_round': 1, 'local_epochs': 3}\u001b[32m [repeated 16x across cluster]\u001b[0m\n",
            "\u001b[2m\u001b[36m(launch_and_fit pid=2406)\u001b[0m Epoch 1: train loss 0.00022969165001995862, accuracy 0.12962962962962962\u001b[32m [repeated 16x across cluster]\u001b[0m\n",
            "\u001b[2m\u001b[36m(launch_and_evaluate pid=2405)\u001b[0m [Client 2] evaluate, config: {}\u001b[32m [repeated 19x across cluster]\u001b[0m\n"
          ]
        },
        {
          "output_type": "stream",
          "name": "stderr",
          "text": [
            "DEBUG flower 2023-07-19 14:08:29,448 | server.py:170 | evaluate_round received 0 results and 30 failures\n",
            "DEBUG:flower:evaluate_round received 0 results and 30 failures\n",
            "DEBUG flower 2023-07-19 14:08:29,456 | server.py:203 | fit_round: strategy sampled 30 clients (out of 100)\n",
            "DEBUG:flower:fit_round: strategy sampled 30 clients (out of 100)\n"
          ]
        },
        {
          "output_type": "stream",
          "name": "stdout",
          "text": [
            "\u001b[2m\u001b[36m(launch_and_fit pid=2405)\u001b[0m [Client 52] fit, config: {'current_round': 2, 'local_epochs': 3}\n",
            "\u001b[2m\u001b[36m(launch_and_fit pid=2405)\u001b[0m Epoch 1: train loss 0.00022831327805761248, accuracy 0.2962962962962963\n",
            "\u001b[2m\u001b[36m(launch_and_evaluate pid=2405)\u001b[0m [Client 74] evaluate, config: {}\u001b[32m [repeated 10x across cluster]\u001b[0m\n",
            "\u001b[2m\u001b[36m(launch_and_fit pid=2406)\u001b[0m [Client 67] fit, config: {'current_round': 2, 'local_epochs': 3}\u001b[32m [repeated 16x across cluster]\u001b[0m\n",
            "\u001b[2m\u001b[36m(launch_and_fit pid=2406)\u001b[0m Epoch 1: train loss 0.0002267208619741723, accuracy 0.2962962962962963\u001b[32m [repeated 16x across cluster]\u001b[0m\n"
          ]
        },
        {
          "output_type": "stream",
          "name": "stderr",
          "text": [
            "DEBUG flower 2023-07-19 14:08:38,357 | server.py:216 | fit_round received 30 results and 0 failures\n",
            "DEBUG:flower:fit_round received 30 results and 0 failures\n",
            "DEBUG flower 2023-07-19 14:08:38,461 | server.py:157 | evaluate_round: strategy sampled 30 clients (out of 100)\n",
            "DEBUG:flower:evaluate_round: strategy sampled 30 clients (out of 100)\n"
          ]
        },
        {
          "output_type": "stream",
          "name": "stdout",
          "text": [
            "Saving round 2 aggregated_parameters...\n",
            "\u001b[2m\u001b[36m(launch_and_evaluate pid=2406)\u001b[0m [Client 6] evaluate, config: {}\n",
            "\u001b[2m\u001b[36m(launch_and_fit pid=2406)\u001b[0m [Client 30] fit, config: {'current_round': 2, 'local_epochs': 3}\u001b[32m [repeated 13x across cluster]\u001b[0m\n",
            "\u001b[2m\u001b[36m(launch_and_fit pid=2406)\u001b[0m Epoch 1: train loss 0.0002309234841959551, accuracy 0.16666666666666666\u001b[32m [repeated 13x across cluster]\u001b[0m\n",
            "\u001b[2m\u001b[36m(launch_and_evaluate pid=2405)\u001b[0m [Client 59] evaluate, config: {}\u001b[32m [repeated 16x across cluster]\u001b[0m\n"
          ]
        },
        {
          "output_type": "stream",
          "name": "stderr",
          "text": [
            "DEBUG flower 2023-07-19 14:08:46,994 | server.py:170 | evaluate_round received 0 results and 30 failures\n",
            "DEBUG:flower:evaluate_round received 0 results and 30 failures\n",
            "DEBUG flower 2023-07-19 14:08:47,000 | server.py:203 | fit_round: strategy sampled 30 clients (out of 100)\n",
            "DEBUG:flower:fit_round: strategy sampled 30 clients (out of 100)\n"
          ]
        },
        {
          "output_type": "stream",
          "name": "stdout",
          "text": [
            "\u001b[2m\u001b[36m(launch_and_fit pid=2406)\u001b[0m [Client 86] fit, config: {'current_round': 3, 'local_epochs': 3}\n",
            "\u001b[2m\u001b[36m(launch_and_fit pid=2406)\u001b[0m Epoch 1: train loss 0.0002259531756862998, accuracy 0.3148148148148148\n",
            "\u001b[2m\u001b[36m(launch_and_evaluate pid=2406)\u001b[0m [Client 14] evaluate, config: {}\u001b[32m [repeated 13x across cluster]\u001b[0m\n",
            "\u001b[2m\u001b[36m(launch_and_fit pid=2406)\u001b[0m [Client 58] fit, config: {'current_round': 3, 'local_epochs': 3}\u001b[32m [repeated 17x across cluster]\u001b[0m\n",
            "\u001b[2m\u001b[36m(launch_and_fit pid=2405)\u001b[0m Epoch 1: train loss 0.0002258087624795735, accuracy 0.3148148148148148\u001b[32m [repeated 17x across cluster]\u001b[0m\n",
            "\u001b[2m\u001b[36m(launch_and_fit pid=2406)\u001b[0m \n"
          ]
        },
        {
          "output_type": "stream",
          "name": "stderr",
          "text": [
            "DEBUG flower 2023-07-19 14:08:55,894 | server.py:216 | fit_round received 30 results and 0 failures\n",
            "DEBUG:flower:fit_round received 30 results and 0 failures\n",
            "DEBUG flower 2023-07-19 14:08:55,991 | server.py:157 | evaluate_round: strategy sampled 30 clients (out of 100)\n",
            "DEBUG:flower:evaluate_round: strategy sampled 30 clients (out of 100)\n"
          ]
        },
        {
          "output_type": "stream",
          "name": "stdout",
          "text": [
            "Saving round 3 aggregated_parameters...\n",
            "\u001b[2m\u001b[36m(launch_and_evaluate pid=2405)\u001b[0m [Client 51] evaluate, config: {}\n",
            "\u001b[2m\u001b[36m(launch_and_fit pid=2406)\u001b[0m [Client 2] fit, config: {'current_round': 3, 'local_epochs': 3}\u001b[32m [repeated 12x across cluster]\u001b[0m\n",
            "\u001b[2m\u001b[36m(launch_and_fit pid=2405)\u001b[0m Epoch 1: train loss 0.00022728831390850246, accuracy 0.35185185185185186\u001b[32m [repeated 12x across cluster]\u001b[0m\n",
            "\u001b[2m\u001b[36m(launch_and_evaluate pid=2406)\u001b[0m [Client 63] evaluate, config: {}\u001b[32m [repeated 21x across cluster]\u001b[0m\n"
          ]
        },
        {
          "output_type": "stream",
          "name": "stderr",
          "text": [
            "DEBUG flower 2023-07-19 14:09:04,989 | server.py:170 | evaluate_round received 0 results and 30 failures\n",
            "DEBUG:flower:evaluate_round received 0 results and 30 failures\n",
            "DEBUG flower 2023-07-19 14:09:05,004 | server.py:203 | fit_round: strategy sampled 30 clients (out of 100)\n",
            "DEBUG:flower:fit_round: strategy sampled 30 clients (out of 100)\n"
          ]
        },
        {
          "output_type": "stream",
          "name": "stdout",
          "text": [
            "\u001b[2m\u001b[36m(launch_and_fit pid=2405)\u001b[0m [Client 64] fit, config: {'current_round': 4, 'local_epochs': 3}\n",
            "\u001b[2m\u001b[36m(launch_and_evaluate pid=2406)\u001b[0m [Client 16] evaluate, config: {}\u001b[32m [repeated 8x across cluster]\u001b[0m\n",
            "\u001b[2m\u001b[36m(launch_and_fit pid=2405)\u001b[0m Epoch 1: train loss 0.00022615850321017206, accuracy 0.2962962962962963\n",
            "\u001b[2m\u001b[36m(launch_and_fit pid=2405)\u001b[0m [Client 32] fit, config: {'current_round': 4, 'local_epochs': 3}\u001b[32m [repeated 11x across cluster]\u001b[0m\n",
            "\u001b[2m\u001b[36m(launch_and_fit pid=2405)\u001b[0m Epoch 1: train loss 0.0002239454333903268, accuracy 0.4074074074074074\u001b[32m [repeated 13x across cluster]\u001b[0m\n",
            "\u001b[2m\u001b[36m(launch_and_fit pid=2406)\u001b[0m [Client 10] fit, config: {'current_round': 4, 'local_epochs': 3}\u001b[32m [repeated 17x across cluster]\u001b[0m\n"
          ]
        },
        {
          "output_type": "stream",
          "name": "stderr",
          "text": [
            "DEBUG flower 2023-07-19 14:09:19,452 | server.py:216 | fit_round received 30 results and 0 failures\n",
            "DEBUG:flower:fit_round received 30 results and 0 failures\n",
            "DEBUG flower 2023-07-19 14:09:19,566 | server.py:157 | evaluate_round: strategy sampled 30 clients (out of 100)\n",
            "DEBUG:flower:evaluate_round: strategy sampled 30 clients (out of 100)\n"
          ]
        },
        {
          "output_type": "stream",
          "name": "stdout",
          "text": [
            "Saving round 4 aggregated_parameters...\n",
            "\u001b[2m\u001b[36m(launch_and_evaluate pid=2406)\u001b[0m [Client 84] evaluate, config: {}\n",
            "\u001b[2m\u001b[36m(launch_and_fit pid=2406)\u001b[0m Epoch 1: train loss 0.00022352096857503057, accuracy 0.3333333333333333\u001b[32m [repeated 16x across cluster]\u001b[0m\n",
            "\u001b[2m\u001b[36m(launch_and_fit pid=2406)\u001b[0m [Client 19] evaluate, config: {}\n"
          ]
        },
        {
          "output_type": "stream",
          "name": "stderr",
          "text": [
            "DEBUG flower 2023-07-19 14:09:24,584 | server.py:170 | evaluate_round received 0 results and 30 failures\n",
            "DEBUG:flower:evaluate_round received 0 results and 30 failures\n",
            "DEBUG flower 2023-07-19 14:09:24,592 | server.py:203 | fit_round: strategy sampled 30 clients (out of 100)\n",
            "DEBUG:flower:fit_round: strategy sampled 30 clients (out of 100)\n"
          ]
        },
        {
          "output_type": "stream",
          "name": "stdout",
          "text": [
            "\u001b[2m\u001b[36m(launch_and_fit pid=2405)\u001b[0m [Client 6] fit, config: {'current_round': 5, 'local_epochs': 3}\n",
            "\u001b[2m\u001b[36m(launch_and_evaluate pid=2406)\u001b[0m [Client 1] evaluate, config: {}\u001b[32m [repeated 29x across cluster]\u001b[0m\n",
            "\u001b[2m\u001b[36m(launch_and_fit pid=2405)\u001b[0m Epoch 1: train loss 0.00022400254965759814, accuracy 0.2777777777777778\n",
            "\u001b[2m\u001b[36m(launch_and_fit pid=2405)\u001b[0m [Client 8] fit, config: {'current_round': 5, 'local_epochs': 3}\n",
            "\u001b[2m\u001b[36m(launch_and_fit pid=2405)\u001b[0m Epoch 1: train loss 0.00022247892047744244, accuracy 0.3888888888888889\n",
            "\u001b[2m\u001b[36m(launch_and_fit pid=2406)\u001b[0m [Client 47] fit, config: {'current_round': 5, 'local_epochs': 3}\u001b[32m [repeated 22x across cluster]\u001b[0m\n",
            "\u001b[2m\u001b[36m(launch_and_fit pid=2405)\u001b[0m Epoch 1: train loss 0.00022334484674502164, accuracy 0.35185185185185186\u001b[32m [repeated 23x across cluster]\u001b[0m\n"
          ]
        },
        {
          "output_type": "stream",
          "name": "stderr",
          "text": [
            "DEBUG flower 2023-07-19 14:09:31,604 | server.py:216 | fit_round received 30 results and 0 failures\n",
            "DEBUG:flower:fit_round received 30 results and 0 failures\n",
            "DEBUG flower 2023-07-19 14:09:31,846 | server.py:157 | evaluate_round: strategy sampled 30 clients (out of 100)\n",
            "DEBUG:flower:evaluate_round: strategy sampled 30 clients (out of 100)\n"
          ]
        },
        {
          "output_type": "stream",
          "name": "stdout",
          "text": [
            "Saving round 5 aggregated_parameters...\n",
            "\u001b[2m\u001b[36m(launch_and_evaluate pid=2406)\u001b[0m [Client 42] evaluate, config: {}\n",
            "\u001b[2m\u001b[36m(launch_and_fit pid=2406)\u001b[0m [Client 92] fit, config: {'current_round': 5, 'local_epochs': 3}\u001b[32m [repeated 6x across cluster]\u001b[0m\n",
            "\u001b[2m\u001b[36m(launch_and_fit pid=2406)\u001b[0m Epoch 1: train loss 0.00022356532281264663, accuracy 0.3148148148148148\u001b[32m [repeated 5x across cluster]\u001b[0m\n",
            "\u001b[2m\u001b[36m(launch_and_evaluate pid=2405)\u001b[0m [Client 21] evaluate, config: {}\u001b[32m [repeated 19x across cluster]\u001b[0m\n"
          ]
        },
        {
          "output_type": "stream",
          "name": "stderr",
          "text": [
            "DEBUG flower 2023-07-19 14:09:39,804 | server.py:170 | evaluate_round received 0 results and 30 failures\n",
            "DEBUG:flower:evaluate_round received 0 results and 30 failures\n",
            "DEBUG flower 2023-07-19 14:09:39,815 | server.py:203 | fit_round: strategy sampled 30 clients (out of 100)\n",
            "DEBUG:flower:fit_round: strategy sampled 30 clients (out of 100)\n"
          ]
        },
        {
          "output_type": "stream",
          "name": "stdout",
          "text": [
            "\u001b[2m\u001b[36m(launch_and_fit pid=2405)\u001b[0m [Client 48] fit, config: {'current_round': 6, 'local_epochs': 3}\n",
            "\u001b[2m\u001b[36m(launch_and_fit pid=2406)\u001b[0m [Client 64] fit, config: {'current_round': 6, 'local_epochs': 3}\n",
            "\u001b[2m\u001b[36m(launch_and_fit pid=2406)\u001b[0m [Client 77] fit, config: {'current_round': 6, 'local_epochs': 3}\n",
            "\u001b[2m\u001b[36m(launch_and_fit pid=2406)\u001b[0m Epoch 1: train loss 0.0002218803419964388, accuracy 0.3333333333333333\u001b[32m [repeated 2x across cluster]\u001b[0m\n",
            "\u001b[2m\u001b[36m(launch_and_evaluate pid=2406)\u001b[0m [Client 6] evaluate, config: {}\u001b[32m [repeated 10x across cluster]\u001b[0m\n"
          ]
        },
        {
          "output_type": "stream",
          "name": "stderr",
          "text": [
            "DEBUG flower 2023-07-19 14:09:46,023 | server.py:216 | fit_round received 30 results and 0 failures\n",
            "DEBUG:flower:fit_round received 30 results and 0 failures\n"
          ]
        },
        {
          "output_type": "stream",
          "name": "stdout",
          "text": [
            "\u001b[2m\u001b[36m(launch_and_fit pid=2405)\u001b[0m [Client 94] fit, config: {'current_round': 6, 'local_epochs': 3}\u001b[32m [repeated 25x across cluster]\u001b[0m\n"
          ]
        },
        {
          "output_type": "stream",
          "name": "stderr",
          "text": [
            "DEBUG flower 2023-07-19 14:09:46,122 | server.py:157 | evaluate_round: strategy sampled 30 clients (out of 100)\n",
            "DEBUG:flower:evaluate_round: strategy sampled 30 clients (out of 100)\n"
          ]
        },
        {
          "output_type": "stream",
          "name": "stdout",
          "text": [
            "Saving round 6 aggregated_parameters...\n",
            "\u001b[2m\u001b[36m(launch_and_fit pid=2405)\u001b[0m Epoch 1: train loss 0.0002201774186687544, accuracy 0.4074074074074074\u001b[32m [repeated 28x across cluster]\u001b[0m\n",
            "\u001b[2m\u001b[36m(launch_and_evaluate pid=2405)\u001b[0m [Client 82] evaluate, config: {}\u001b[32m [repeated 10x across cluster]\u001b[0m\n",
            "\u001b[2m\u001b[36m(launch_and_fit pid=2405)\u001b[0m [Client 0] fit, config: {'current_round': 6, 'local_epochs': 3}\u001b[32m [repeated 2x across cluster]\u001b[0m\n"
          ]
        },
        {
          "output_type": "stream",
          "name": "stderr",
          "text": [
            "DEBUG flower 2023-07-19 14:09:51,548 | server.py:170 | evaluate_round received 0 results and 30 failures\n",
            "DEBUG:flower:evaluate_round received 0 results and 30 failures\n",
            "DEBUG flower 2023-07-19 14:09:51,559 | server.py:203 | fit_round: strategy sampled 30 clients (out of 100)\n",
            "DEBUG:flower:fit_round: strategy sampled 30 clients (out of 100)\n"
          ]
        },
        {
          "output_type": "stream",
          "name": "stdout",
          "text": [
            "\u001b[2m\u001b[36m(launch_and_fit pid=2405)\u001b[0m Epoch 1: train loss 0.00021219541667960584, accuracy 0.6111111111111112\n",
            "\u001b[2m\u001b[36m(launch_and_evaluate pid=2405)\u001b[0m [Client 47] evaluate, config: {}\u001b[32m [repeated 20x across cluster]\u001b[0m\n",
            "\u001b[2m\u001b[36m(launch_and_fit pid=2405)\u001b[0m [Client 45] fit, config: {'current_round': 7, 'local_epochs': 3}\u001b[32m [repeated 12x across cluster]\u001b[0m\n",
            "\u001b[2m\u001b[36m(launch_and_fit pid=2405)\u001b[0m Epoch 1: train loss 0.00021835534425918013, accuracy 0.3888888888888889\u001b[32m [repeated 16x across cluster]\u001b[0m\n"
          ]
        },
        {
          "output_type": "stream",
          "name": "stderr",
          "text": [
            "DEBUG flower 2023-07-19 14:10:00,455 | server.py:216 | fit_round received 30 results and 0 failures\n",
            "DEBUG:flower:fit_round received 30 results and 0 failures\n",
            "DEBUG flower 2023-07-19 14:10:00,551 | server.py:157 | evaluate_round: strategy sampled 30 clients (out of 100)\n",
            "DEBUG:flower:evaluate_round: strategy sampled 30 clients (out of 100)\n"
          ]
        },
        {
          "output_type": "stream",
          "name": "stdout",
          "text": [
            "Saving round 7 aggregated_parameters...\n",
            "\u001b[2m\u001b[36m(launch_and_evaluate pid=2405)\u001b[0m [Client 99] evaluate, config: {}\n",
            "\u001b[2m\u001b[36m(launch_and_fit pid=2406)\u001b[0m [Client 24] fit, config: {'current_round': 7, 'local_epochs': 3}\u001b[32m [repeated 18x across cluster]\u001b[0m\n",
            "\u001b[2m\u001b[36m(launch_and_fit pid=2406)\u001b[0m Epoch 1: train loss 0.00021693827875424176, accuracy 0.46296296296296297\u001b[32m [repeated 13x across cluster]\u001b[0m\n"
          ]
        },
        {
          "output_type": "stream",
          "name": "stderr",
          "text": [
            "DEBUG flower 2023-07-19 14:10:05,431 | server.py:170 | evaluate_round received 0 results and 30 failures\n",
            "DEBUG:flower:evaluate_round received 0 results and 30 failures\n",
            "DEBUG flower 2023-07-19 14:10:05,434 | server.py:203 | fit_round: strategy sampled 30 clients (out of 100)\n",
            "DEBUG:flower:fit_round: strategy sampled 30 clients (out of 100)\n"
          ]
        },
        {
          "output_type": "stream",
          "name": "stdout",
          "text": [
            "\u001b[2m\u001b[36m(launch_and_evaluate pid=2405)\u001b[0m [Client 54] evaluate, config: {}\u001b[32m [repeated 29x across cluster]\u001b[0m\n",
            "\u001b[2m\u001b[36m(launch_and_fit pid=2406)\u001b[0m [Client 93] fit, config: {'current_round': 8, 'local_epochs': 3}\u001b[32m [repeated 2x across cluster]\u001b[0m\n",
            "\u001b[2m\u001b[36m(launch_and_fit pid=2405)\u001b[0m Epoch 1: train loss 0.00021035128156654537, accuracy 0.5\u001b[32m [repeated 10x across cluster]\u001b[0m\n",
            "\u001b[2m\u001b[36m(launch_and_fit pid=2405)\u001b[0m [Client 41] fit, config: {'current_round': 8, 'local_epochs': 3}\u001b[32m [repeated 25x across cluster]\u001b[0m\n"
          ]
        },
        {
          "output_type": "stream",
          "name": "stderr",
          "text": [
            "DEBUG flower 2023-07-19 14:10:12,184 | server.py:216 | fit_round received 30 results and 0 failures\n",
            "DEBUG:flower:fit_round received 30 results and 0 failures\n",
            "DEBUG flower 2023-07-19 14:10:12,322 | server.py:157 | evaluate_round: strategy sampled 30 clients (out of 100)\n",
            "DEBUG:flower:evaluate_round: strategy sampled 30 clients (out of 100)\n"
          ]
        },
        {
          "output_type": "stream",
          "name": "stdout",
          "text": [
            "Saving round 8 aggregated_parameters...\n",
            "\u001b[2m\u001b[36m(launch_and_evaluate pid=2405)\u001b[0m [Client 42] evaluate, config: {}\n",
            "\u001b[2m\u001b[36m(launch_and_fit pid=2406)\u001b[0m Epoch 1: train loss 0.00021383518469519913, accuracy 0.4074074074074074\u001b[32m [repeated 20x across cluster]\u001b[0m\n",
            "\u001b[2m\u001b[36m(launch_and_fit pid=2406)\u001b[0m [Client 46] fit, config: {'current_round': 8, 'local_epochs': 3}\u001b[32m [repeated 3x across cluster]\u001b[0m\n",
            "\u001b[2m\u001b[36m(launch_and_evaluate pid=2405)\u001b[0m [Client 49] evaluate, config: {}\u001b[32m [repeated 19x across cluster]\u001b[0m\n"
          ]
        },
        {
          "output_type": "stream",
          "name": "stderr",
          "text": [
            "DEBUG flower 2023-07-19 14:10:20,348 | server.py:170 | evaluate_round received 0 results and 30 failures\n",
            "DEBUG:flower:evaluate_round received 0 results and 30 failures\n",
            "DEBUG flower 2023-07-19 14:10:20,354 | server.py:203 | fit_round: strategy sampled 30 clients (out of 100)\n",
            "DEBUG:flower:fit_round: strategy sampled 30 clients (out of 100)\n"
          ]
        },
        {
          "output_type": "stream",
          "name": "stdout",
          "text": [
            "\u001b[2m\u001b[36m(launch_and_fit pid=2406)\u001b[0m Epoch 1: train loss 0.0002080653648590669, accuracy 0.6111111111111112\n",
            "\u001b[2m\u001b[36m(launch_and_fit pid=2405)\u001b[0m [Client 11] fit, config: {'current_round': 9, 'local_epochs': 3}\u001b[32m [repeated 4x across cluster]\u001b[0m\n",
            "\u001b[2m\u001b[36m(launch_and_evaluate pid=2406)\u001b[0m [Client 33] evaluate, config: {}\u001b[32m [repeated 10x across cluster]\u001b[0m\n"
          ]
        },
        {
          "output_type": "stream",
          "name": "stderr",
          "text": [
            "DEBUG flower 2023-07-19 14:10:26,298 | server.py:216 | fit_round received 30 results and 0 failures\n",
            "DEBUG:flower:fit_round received 30 results and 0 failures\n",
            "DEBUG flower 2023-07-19 14:10:26,649 | server.py:157 | evaluate_round: strategy sampled 30 clients (out of 100)\n",
            "DEBUG:flower:evaluate_round: strategy sampled 30 clients (out of 100)\n"
          ]
        },
        {
          "output_type": "stream",
          "name": "stdout",
          "text": [
            "\u001b[2m\u001b[36m(launch_and_fit pid=2405)\u001b[0m Epoch 1: train loss 0.00020607768965419382, accuracy 0.6296296296296297\u001b[32m [repeated 29x across cluster]\u001b[0m\n",
            "Saving round 9 aggregated_parameters...\n",
            "\u001b[2m\u001b[36m(launch_and_fit pid=2406)\u001b[0m [Client 8] fit, config: {'current_round': 9, 'local_epochs': 3}\u001b[32m [repeated 26x across cluster]\u001b[0m\n",
            "\u001b[2m\u001b[36m(launch_and_evaluate pid=2405)\u001b[0m [Client 34] evaluate, config: {}\u001b[32m [repeated 7x across cluster]\u001b[0m\n"
          ]
        },
        {
          "output_type": "stream",
          "name": "stderr",
          "text": [
            "DEBUG flower 2023-07-19 14:10:32,293 | server.py:170 | evaluate_round received 0 results and 30 failures\n",
            "DEBUG:flower:evaluate_round received 0 results and 30 failures\n",
            "DEBUG flower 2023-07-19 14:10:32,306 | server.py:203 | fit_round: strategy sampled 30 clients (out of 100)\n",
            "DEBUG:flower:fit_round: strategy sampled 30 clients (out of 100)\n"
          ]
        },
        {
          "output_type": "stream",
          "name": "stdout",
          "text": [
            "\u001b[2m\u001b[36m(launch_and_fit pid=2405)\u001b[0m [Client 30] fit, config: {'current_round': 10, 'local_epochs': 3}\n",
            "\u001b[2m\u001b[36m(launch_and_fit pid=2406)\u001b[0m [Client 1] fit, config: {'current_round': 10, 'local_epochs': 3}\n",
            "\u001b[2m\u001b[36m(launch_and_fit pid=2405)\u001b[0m Epoch 1: train loss 0.00021392341295722872, accuracy 0.3148148148148148\n",
            "\u001b[2m\u001b[36m(launch_and_evaluate pid=2406)\u001b[0m [Client 0] evaluate, config: {}\u001b[32m [repeated 23x across cluster]\u001b[0m\n",
            "\u001b[2m\u001b[36m(launch_and_fit pid=2406)\u001b[0m [Client 31] fit, config: {'current_round': 10, 'local_epochs': 3}\u001b[32m [repeated 16x across cluster]\u001b[0m\n",
            "\u001b[2m\u001b[36m(launch_and_fit pid=2406)\u001b[0m Epoch 1: train loss 0.0002062358835246414, accuracy 0.5370370370370371\u001b[32m [repeated 17x across cluster]\u001b[0m\n"
          ]
        },
        {
          "output_type": "stream",
          "name": "stderr",
          "text": [
            "DEBUG flower 2023-07-19 14:10:41,764 | server.py:216 | fit_round received 30 results and 0 failures\n",
            "DEBUG:flower:fit_round received 30 results and 0 failures\n",
            "DEBUG flower 2023-07-19 14:10:41,862 | server.py:157 | evaluate_round: strategy sampled 30 clients (out of 100)\n",
            "DEBUG:flower:evaluate_round: strategy sampled 30 clients (out of 100)\n"
          ]
        },
        {
          "output_type": "stream",
          "name": "stdout",
          "text": [
            "Saving round 10 aggregated_parameters...\n",
            "\u001b[2m\u001b[36m(launch_and_evaluate pid=2405)\u001b[0m [Client 7] evaluate, config: {}\n",
            "\u001b[2m\u001b[36m(launch_and_fit pid=2406)\u001b[0m [Client 85] fit, config: {'current_round': 10, 'local_epochs': 3}\u001b[32m [repeated 12x across cluster]\u001b[0m\n",
            "\u001b[2m\u001b[36m(launch_and_fit pid=2406)\u001b[0m Epoch 1: train loss 0.0002075915108434856, accuracy 0.4074074074074074\u001b[32m [repeated 12x across cluster]\u001b[0m\n"
          ]
        },
        {
          "output_type": "stream",
          "name": "stderr",
          "text": [
            "DEBUG flower 2023-07-19 14:10:46,721 | server.py:170 | evaluate_round received 0 results and 30 failures\n",
            "DEBUG:flower:evaluate_round received 0 results and 30 failures\n",
            "DEBUG flower 2023-07-19 14:10:46,734 | server.py:203 | fit_round: strategy sampled 30 clients (out of 100)\n",
            "DEBUG:flower:fit_round: strategy sampled 30 clients (out of 100)\n"
          ]
        },
        {
          "output_type": "stream",
          "name": "stdout",
          "text": [
            "\u001b[2m\u001b[36m(launch_and_evaluate pid=2406)\u001b[0m [Client 74] evaluate, config: {}\u001b[32m [repeated 29x across cluster]\u001b[0m\n",
            "\u001b[2m\u001b[36m(launch_and_fit pid=2405)\u001b[0m [Client 58] fit, config: {'current_round': 11, 'local_epochs': 3}\u001b[32m [repeated 8x across cluster]\u001b[0m\n",
            "\u001b[2m\u001b[36m(launch_and_fit pid=2406)\u001b[0m Epoch 1: train loss 0.00020119705004617572, accuracy 0.5370370370370371\u001b[32m [repeated 10x across cluster]\u001b[0m\n"
          ]
        },
        {
          "output_type": "stream",
          "name": "stderr",
          "text": [
            "DEBUG flower 2023-07-19 14:10:53,735 | server.py:216 | fit_round received 30 results and 0 failures\n",
            "DEBUG:flower:fit_round received 30 results and 0 failures\n",
            "DEBUG flower 2023-07-19 14:10:53,875 | server.py:157 | evaluate_round: strategy sampled 30 clients (out of 100)\n",
            "DEBUG:flower:evaluate_round: strategy sampled 30 clients (out of 100)\n"
          ]
        },
        {
          "output_type": "stream",
          "name": "stdout",
          "text": [
            "Saving round 11 aggregated_parameters...\n",
            "\u001b[2m\u001b[36m(launch_and_evaluate pid=2405)\u001b[0m [Client 83] evaluate, config: {}\n",
            "\u001b[2m\u001b[36m(launch_and_fit pid=2405)\u001b[0m [Client 60] fit, config: {'current_round': 11, 'local_epochs': 3}\u001b[32m [repeated 22x across cluster]\u001b[0m\n",
            "\u001b[2m\u001b[36m(launch_and_fit pid=2405)\u001b[0m Epoch 1: train loss 0.00020251126261427999, accuracy 0.5740740740740741\u001b[32m [repeated 20x across cluster]\u001b[0m\n",
            "\u001b[2m\u001b[36m(launch_and_evaluate pid=2405)\u001b[0m [Client 16] evaluate, config: {}\u001b[32m [repeated 22x across cluster]\u001b[0m\n"
          ]
        },
        {
          "output_type": "stream",
          "name": "stderr",
          "text": [
            "DEBUG flower 2023-07-19 14:11:01,950 | server.py:170 | evaluate_round received 0 results and 30 failures\n",
            "DEBUG:flower:evaluate_round received 0 results and 30 failures\n",
            "DEBUG flower 2023-07-19 14:11:01,954 | server.py:203 | fit_round: strategy sampled 30 clients (out of 100)\n",
            "DEBUG:flower:fit_round: strategy sampled 30 clients (out of 100)\n"
          ]
        },
        {
          "output_type": "stream",
          "name": "stdout",
          "text": [
            "\u001b[2m\u001b[36m(launch_and_fit pid=2406)\u001b[0m [Client 23] fit, config: {'current_round': 12, 'local_epochs': 3}\n",
            "\u001b[2m\u001b[36m(launch_and_fit pid=2406)\u001b[0m Epoch 1: train loss 0.00020011556625831872, accuracy 0.5185185185185185\n",
            "\u001b[2m\u001b[36m(launch_and_fit pid=2406)\u001b[0m [Client 36] fit, config: {'current_round': 12, 'local_epochs': 3}\n",
            "\u001b[2m\u001b[36m(launch_and_fit pid=2406)\u001b[0m Epoch 1: train loss 0.00019747238548006862, accuracy 0.5185185185185185\n",
            "\u001b[2m\u001b[36m(launch_and_evaluate pid=2405)\u001b[0m [Client 73] evaluate, config: {}\u001b[32m [repeated 7x across cluster]\u001b[0m\n",
            "\u001b[2m\u001b[36m(launch_and_fit pid=2406)\u001b[0m [Client 79] fit, config: {'current_round': 12, 'local_epochs': 3}\u001b[32m [repeated 25x across cluster]\u001b[0m\n",
            "\u001b[2m\u001b[36m(launch_and_fit pid=2406)\u001b[0m Epoch 1: train loss 0.00020349679107312113, accuracy 0.5\u001b[32m [repeated 24x across cluster]\u001b[0m\n"
          ]
        },
        {
          "output_type": "stream",
          "name": "stderr",
          "text": [
            "DEBUG flower 2023-07-19 14:11:07,961 | server.py:216 | fit_round received 30 results and 0 failures\n",
            "DEBUG:flower:fit_round received 30 results and 0 failures\n",
            "DEBUG flower 2023-07-19 14:11:08,058 | server.py:157 | evaluate_round: strategy sampled 30 clients (out of 100)\n",
            "DEBUG:flower:evaluate_round: strategy sampled 30 clients (out of 100)\n"
          ]
        },
        {
          "output_type": "stream",
          "name": "stdout",
          "text": [
            "Saving round 12 aggregated_parameters...\n",
            "\u001b[2m\u001b[36m(launch_and_evaluate pid=2405)\u001b[0m [Client 1] evaluate, config: {}\u001b[32m [repeated 12x across cluster]\u001b[0m\n",
            "\u001b[2m\u001b[36m(launch_and_fit pid=2405)\u001b[0m [Client 22] fit, config: {'current_round': 12, 'local_epochs': 3}\u001b[32m [repeated 3x across cluster]\u001b[0m\n",
            "\u001b[2m\u001b[36m(launch_and_fit pid=2406)\u001b[0m Epoch 1: train loss 0.00020560047414619476, accuracy 0.4074074074074074\u001b[32m [repeated 4x across cluster]\u001b[0m\n"
          ]
        },
        {
          "output_type": "stream",
          "name": "stderr",
          "text": [
            "DEBUG flower 2023-07-19 14:11:13,627 | server.py:170 | evaluate_round received 0 results and 30 failures\n",
            "DEBUG:flower:evaluate_round received 0 results and 30 failures\n",
            "DEBUG flower 2023-07-19 14:11:13,635 | server.py:203 | fit_round: strategy sampled 30 clients (out of 100)\n",
            "DEBUG:flower:fit_round: strategy sampled 30 clients (out of 100)\n"
          ]
        },
        {
          "output_type": "stream",
          "name": "stdout",
          "text": [
            "\u001b[2m\u001b[36m(launch_and_evaluate pid=2406)\u001b[0m [Client 4] evaluate, config: {}\u001b[32m [repeated 18x across cluster]\u001b[0m\n",
            "\u001b[2m\u001b[36m(launch_and_fit pid=2405)\u001b[0m [Client 76] fit, config: {'current_round': 13, 'local_epochs': 3}\u001b[32m [repeated 10x across cluster]\u001b[0m\n",
            "\u001b[2m\u001b[36m(launch_and_fit pid=2405)\u001b[0m Epoch 1: train loss 0.00019230085308663547, accuracy 0.5740740740740741\u001b[32m [repeated 10x across cluster]\u001b[0m\n"
          ]
        },
        {
          "output_type": "stream",
          "name": "stderr",
          "text": [
            "DEBUG flower 2023-07-19 14:11:23,304 | server.py:216 | fit_round received 30 results and 0 failures\n",
            "DEBUG:flower:fit_round received 30 results and 0 failures\n"
          ]
        },
        {
          "output_type": "stream",
          "name": "stdout",
          "text": [
            "\u001b[2m\u001b[36m(launch_and_fit pid=2405)\u001b[0m [Client 98] fit, config: {'current_round': 13, 'local_epochs': 3}\u001b[32m [repeated 18x across cluster]\u001b[0m\n",
            "\u001b[2m\u001b[36m(launch_and_fit pid=2405)\u001b[0m Epoch 1: train loss 0.0001918304624268785, accuracy 0.6666666666666666\u001b[32m [repeated 18x across cluster]\u001b[0m\n"
          ]
        },
        {
          "output_type": "stream",
          "name": "stderr",
          "text": [
            "DEBUG flower 2023-07-19 14:11:23,406 | server.py:157 | evaluate_round: strategy sampled 30 clients (out of 100)\n",
            "DEBUG:flower:evaluate_round: strategy sampled 30 clients (out of 100)\n"
          ]
        },
        {
          "output_type": "stream",
          "name": "stdout",
          "text": [
            "Saving round 13 aggregated_parameters...\n",
            "\u001b[2m\u001b[36m(launch_and_evaluate pid=2405)\u001b[0m [Client 42] evaluate, config: {}\n"
          ]
        },
        {
          "output_type": "stream",
          "name": "stderr",
          "text": [
            "DEBUG flower 2023-07-19 14:11:28,333 | server.py:170 | evaluate_round received 0 results and 30 failures\n",
            "DEBUG:flower:evaluate_round received 0 results and 30 failures\n",
            "DEBUG flower 2023-07-19 14:11:28,341 | server.py:203 | fit_round: strategy sampled 30 clients (out of 100)\n",
            "DEBUG:flower:fit_round: strategy sampled 30 clients (out of 100)\n"
          ]
        },
        {
          "output_type": "stream",
          "name": "stdout",
          "text": [
            "\u001b[2m\u001b[36m(launch_and_fit pid=2405)\u001b[0m [Client 99] fit, config: {'current_round': 13, 'local_epochs': 3}\u001b[32m [repeated 2x across cluster]\u001b[0m\n",
            "\u001b[2m\u001b[36m(launch_and_fit pid=2405)\u001b[0m Epoch 1: train loss 0.00019252837228123099, accuracy 0.5925925925925926\u001b[32m [repeated 2x across cluster]\u001b[0m\n",
            "\u001b[2m\u001b[36m(launch_and_evaluate pid=2405)\u001b[0m [Client 25] evaluate, config: {}\u001b[32m [repeated 29x across cluster]\u001b[0m\n",
            "\u001b[2m\u001b[36m(launch_and_fit pid=2405)\u001b[0m [Client 15] fit, config: {'current_round': 14, 'local_epochs': 3}\u001b[32m [repeated 22x across cluster]\u001b[0m\n",
            "\u001b[2m\u001b[36m(launch_and_fit pid=2406)\u001b[0m Epoch 1: train loss 0.00018537355936132371, accuracy 0.6666666666666666\u001b[32m [repeated 22x across cluster]\u001b[0m\n"
          ]
        },
        {
          "output_type": "stream",
          "name": "stderr",
          "text": [
            "DEBUG flower 2023-07-19 14:11:34,984 | server.py:216 | fit_round received 30 results and 0 failures\n",
            "DEBUG:flower:fit_round received 30 results and 0 failures\n",
            "DEBUG flower 2023-07-19 14:11:35,122 | server.py:157 | evaluate_round: strategy sampled 30 clients (out of 100)\n",
            "DEBUG:flower:evaluate_round: strategy sampled 30 clients (out of 100)\n"
          ]
        },
        {
          "output_type": "stream",
          "name": "stdout",
          "text": [
            "Saving round 14 aggregated_parameters...\n",
            "\u001b[2m\u001b[36m(launch_and_evaluate pid=2405)\u001b[0m [Client 28] evaluate, config: {}\n",
            "\u001b[2m\u001b[36m(launch_and_evaluate pid=2405)\u001b[0m [Client 5] evaluate, config: {}\n",
            "\u001b[2m\u001b[36m(launch_and_evaluate pid=2405)\u001b[0m [Client 54] evaluate, config: {}\n",
            "\u001b[2m\u001b[36m(launch_and_fit pid=2405)\u001b[0m [Client 7] fit, config: {'current_round': 14, 'local_epochs': 3}\u001b[32m [repeated 8x across cluster]\u001b[0m\n",
            "\u001b[2m\u001b[36m(launch_and_fit pid=2405)\u001b[0m Epoch 1: train loss 0.00018992133846040815, accuracy 0.5740740740740741\u001b[32m [repeated 8x across cluster]\u001b[0m\n",
            "\u001b[2m\u001b[36m(launch_and_evaluate pid=2405)\u001b[0m [Client 94] evaluate, config: {}\u001b[32m [repeated 19x across cluster]\u001b[0m\n"
          ]
        },
        {
          "output_type": "stream",
          "name": "stderr",
          "text": [
            "DEBUG flower 2023-07-19 14:11:42,410 | server.py:170 | evaluate_round received 0 results and 30 failures\n",
            "DEBUG:flower:evaluate_round received 0 results and 30 failures\n",
            "DEBUG flower 2023-07-19 14:11:42,420 | server.py:203 | fit_round: strategy sampled 30 clients (out of 100)\n",
            "DEBUG:flower:fit_round: strategy sampled 30 clients (out of 100)\n"
          ]
        },
        {
          "output_type": "stream",
          "name": "stdout",
          "text": [
            "\u001b[2m\u001b[36m(launch_and_fit pid=2405)\u001b[0m Epoch 1: train loss 0.00017660584126133472, accuracy 0.6481481481481481\n",
            "\u001b[2m\u001b[36m(launch_and_fit pid=2405)\u001b[0m Epoch 1: train loss 0.00017660584126133472, accuracy 0.6481481481481481\n",
            "\u001b[2m\u001b[36m(launch_and_fit pid=2406)\u001b[0m [Client 32] fit, config: {'current_round': 15, 'local_epochs': 3}\n",
            "\u001b[2m\u001b[36m(launch_and_fit pid=2406)\u001b[0m Epoch 1: train loss 0.00018478234414942563, accuracy 0.5740740740740741\n",
            "\u001b[2m\u001b[36m(launch_and_evaluate pid=2405)\u001b[0m [Client 95] evaluate, config: {}\u001b[32m [repeated 8x across cluster]\u001b[0m\n"
          ]
        },
        {
          "output_type": "stream",
          "name": "stderr",
          "text": [
            "DEBUG flower 2023-07-19 14:11:48,551 | server.py:216 | fit_round received 30 results and 0 failures\n",
            "DEBUG:flower:fit_round received 30 results and 0 failures\n",
            "DEBUG flower 2023-07-19 14:11:48,669 | server.py:157 | evaluate_round: strategy sampled 30 clients (out of 100)\n",
            "DEBUG:flower:evaluate_round: strategy sampled 30 clients (out of 100)\n"
          ]
        },
        {
          "output_type": "stream",
          "name": "stdout",
          "text": [
            "\u001b[2m\u001b[36m(launch_and_fit pid=2406)\u001b[0m [Client 42] fit, config: {'current_round': 15, 'local_epochs': 3}\u001b[32m [repeated 28x across cluster]\u001b[0m\n",
            "\u001b[2m\u001b[36m(launch_and_fit pid=2405)\u001b[0m Epoch 1: train loss 0.00017518168897368014, accuracy 0.6481481481481481\u001b[32m [repeated 27x across cluster]\u001b[0m\n",
            "Saving round 15 aggregated_parameters...\n",
            "\u001b[2m\u001b[36m(launch_and_evaluate pid=2406)\u001b[0m [Client 29] evaluate, config: {}\u001b[32m [repeated 15x across cluster]\u001b[0m\n",
            "\u001b[2m\u001b[36m(launch_and_fit pid=2406)\u001b[0m [Client 9] evaluate, config: {}\n"
          ]
        },
        {
          "output_type": "stream",
          "name": "stderr",
          "text": [
            "DEBUG flower 2023-07-19 14:11:53,932 | server.py:170 | evaluate_round received 0 results and 30 failures\n",
            "DEBUG:flower:evaluate_round received 0 results and 30 failures\n",
            "DEBUG flower 2023-07-19 14:11:53,936 | server.py:203 | fit_round: strategy sampled 30 clients (out of 100)\n",
            "DEBUG:flower:fit_round: strategy sampled 30 clients (out of 100)\n"
          ]
        },
        {
          "output_type": "stream",
          "name": "stdout",
          "text": [
            "\u001b[2m\u001b[36m(launch_and_fit pid=2405)\u001b[0m [Client 91] fit, config: {'current_round': 16, 'local_epochs': 3}\n",
            "\u001b[2m\u001b[36m(launch_and_fit pid=2406)\u001b[0m Epoch 1: train loss 0.00017372085130773485, accuracy 0.6666666666666666\n",
            "\u001b[2m\u001b[36m(launch_and_evaluate pid=2406)\u001b[0m [Client 70] evaluate, config: {}\u001b[32m [repeated 15x across cluster]\u001b[0m\n",
            "\u001b[2m\u001b[36m(launch_and_fit pid=2405)\u001b[0m [Client 80] fit, config: {'current_round': 16, 'local_epochs': 3}\u001b[32m [repeated 17x across cluster]\u001b[0m\n",
            "\u001b[2m\u001b[36m(launch_and_fit pid=2405)\u001b[0m Epoch 1: train loss 0.00017613255477044731, accuracy 0.5370370370370371\u001b[32m [repeated 16x across cluster]\u001b[0m\n"
          ]
        },
        {
          "output_type": "stream",
          "name": "stderr",
          "text": [
            "DEBUG flower 2023-07-19 14:12:03,637 | server.py:216 | fit_round received 30 results and 0 failures\n",
            "DEBUG:flower:fit_round received 30 results and 0 failures\n",
            "DEBUG flower 2023-07-19 14:12:03,732 | server.py:157 | evaluate_round: strategy sampled 30 clients (out of 100)\n",
            "DEBUG:flower:evaluate_round: strategy sampled 30 clients (out of 100)\n"
          ]
        },
        {
          "output_type": "stream",
          "name": "stdout",
          "text": [
            "Saving round 16 aggregated_parameters...\n",
            "\u001b[2m\u001b[36m(launch_and_evaluate pid=2405)\u001b[0m [Client 56] evaluate, config: {}\n",
            "\u001b[2m\u001b[36m(launch_and_fit pid=2405)\u001b[0m [Client 67] fit, config: {'current_round': 16, 'local_epochs': 3}\u001b[32m [repeated 12x across cluster]\u001b[0m\n",
            "\u001b[2m\u001b[36m(launch_and_fit pid=2405)\u001b[0m Epoch 1: train loss 0.00016548101848457009, accuracy 0.6481481481481481\u001b[32m [repeated 13x across cluster]\u001b[0m\n"
          ]
        },
        {
          "output_type": "stream",
          "name": "stderr",
          "text": [
            "DEBUG flower 2023-07-19 14:12:09,226 | server.py:170 | evaluate_round received 0 results and 30 failures\n",
            "DEBUG:flower:evaluate_round received 0 results and 30 failures\n",
            "DEBUG flower 2023-07-19 14:12:09,230 | server.py:203 | fit_round: strategy sampled 30 clients (out of 100)\n",
            "DEBUG:flower:fit_round: strategy sampled 30 clients (out of 100)\n"
          ]
        },
        {
          "output_type": "stream",
          "name": "stdout",
          "text": [
            "\u001b[2m\u001b[36m(launch_and_evaluate pid=2405)\u001b[0m [Client 23] evaluate, config: {}\u001b[32m [repeated 29x across cluster]\u001b[0m\n",
            "\u001b[2m\u001b[36m(launch_and_fit pid=2405)\u001b[0m [Client 51] fit, config: {'current_round': 17, 'local_epochs': 3}\u001b[32m [repeated 4x across cluster]\u001b[0m\n",
            "\u001b[2m\u001b[36m(launch_and_fit pid=2406)\u001b[0m Epoch 1: train loss 0.0001705505419522524, accuracy 0.7222222222222222\u001b[32m [repeated 3x across cluster]\u001b[0m\n",
            "\u001b[2m\u001b[36m(launch_and_fit pid=2405)\u001b[0m [Client 22] fit, config: {'current_round': 17, 'local_epochs': 3}\u001b[32m [repeated 24x across cluster]\u001b[0m\n",
            "\u001b[2m\u001b[36m(launch_and_fit pid=2405)\u001b[0m Epoch 1: train loss 0.00017765554366633296, accuracy 0.5740740740740741\u001b[32m [repeated 23x across cluster]\u001b[0m\n"
          ]
        },
        {
          "output_type": "stream",
          "name": "stderr",
          "text": [
            "DEBUG flower 2023-07-19 14:12:16,226 | server.py:216 | fit_round received 30 results and 0 failures\n",
            "DEBUG:flower:fit_round received 30 results and 0 failures\n",
            "DEBUG flower 2023-07-19 14:12:16,378 | server.py:157 | evaluate_round: strategy sampled 30 clients (out of 100)\n",
            "DEBUG:flower:evaluate_round: strategy sampled 30 clients (out of 100)\n"
          ]
        },
        {
          "output_type": "stream",
          "name": "stdout",
          "text": [
            "Saving round 17 aggregated_parameters...\n",
            "\u001b[2m\u001b[36m(launch_and_evaluate pid=2405)\u001b[0m [Client 60] evaluate, config: {}\n",
            "\u001b[2m\u001b[36m(launch_and_fit pid=2406)\u001b[0m [Client 33] fit, config: {'current_round': 17, 'local_epochs': 3}\u001b[32m [repeated 2x across cluster]\u001b[0m\n",
            "\u001b[2m\u001b[36m(launch_and_fit pid=2406)\u001b[0m Epoch 1: train loss 0.00017180822032969445, accuracy 0.6851851851851852\u001b[32m [repeated 4x across cluster]\u001b[0m\n",
            "\u001b[2m\u001b[36m(launch_and_evaluate pid=2405)\u001b[0m [Client 21] evaluate, config: {}\u001b[32m [repeated 20x across cluster]\u001b[0m\n"
          ]
        },
        {
          "output_type": "stream",
          "name": "stderr",
          "text": [
            "DEBUG flower 2023-07-19 14:12:23,720 | server.py:170 | evaluate_round received 0 results and 30 failures\n",
            "DEBUG:flower:evaluate_round received 0 results and 30 failures\n",
            "DEBUG flower 2023-07-19 14:12:23,724 | server.py:203 | fit_round: strategy sampled 30 clients (out of 100)\n",
            "DEBUG:flower:fit_round: strategy sampled 30 clients (out of 100)\n"
          ]
        },
        {
          "output_type": "stream",
          "name": "stdout",
          "text": [
            "\u001b[2m\u001b[36m(launch_and_fit pid=2406)\u001b[0m [Client 14] fit, config: {'current_round': 18, 'local_epochs': 3}\u001b[32m [repeated 8x across cluster]\u001b[0m\n",
            "\u001b[2m\u001b[36m(launch_and_fit pid=2406)\u001b[0m Epoch 1: train loss 0.00016317854169756174, accuracy 0.6296296296296297\u001b[32m [repeated 6x across cluster]\u001b[0m\n",
            "\u001b[2m\u001b[36m(launch_and_evaluate pid=2406)\u001b[0m [Client 80] evaluate, config: {}\u001b[32m [repeated 9x across cluster]\u001b[0m\n"
          ]
        },
        {
          "output_type": "stream",
          "name": "stderr",
          "text": [
            "DEBUG flower 2023-07-19 14:12:29,733 | server.py:216 | fit_round received 30 results and 0 failures\n",
            "DEBUG:flower:fit_round received 30 results and 0 failures\n",
            "DEBUG flower 2023-07-19 14:12:29,823 | server.py:157 | evaluate_round: strategy sampled 30 clients (out of 100)\n",
            "DEBUG:flower:evaluate_round: strategy sampled 30 clients (out of 100)\n"
          ]
        },
        {
          "output_type": "stream",
          "name": "stdout",
          "text": [
            "Saving round 18 aggregated_parameters...\n",
            "\u001b[2m\u001b[36m(launch_and_fit pid=2405)\u001b[0m [Client 68] fit, config: {'current_round': 18, 'local_epochs': 3}\u001b[32m [repeated 22x across cluster]\u001b[0m\n",
            "\u001b[2m\u001b[36m(launch_and_fit pid=2405)\u001b[0m Epoch 1: train loss 0.0001725199690554291, accuracy 0.6296296296296297\u001b[32m [repeated 24x across cluster]\u001b[0m\n",
            "\u001b[2m\u001b[36m(launch_and_evaluate pid=2406)\u001b[0m [Client 14] evaluate, config: {}\u001b[32m [repeated 14x across cluster]\u001b[0m\n"
          ]
        },
        {
          "output_type": "stream",
          "name": "stderr",
          "text": [
            "DEBUG flower 2023-07-19 14:12:35,760 | server.py:170 | evaluate_round received 0 results and 30 failures\n",
            "DEBUG:flower:evaluate_round received 0 results and 30 failures\n",
            "DEBUG flower 2023-07-19 14:12:35,764 | server.py:203 | fit_round: strategy sampled 30 clients (out of 100)\n",
            "DEBUG:flower:fit_round: strategy sampled 30 clients (out of 100)\n"
          ]
        },
        {
          "output_type": "stream",
          "name": "stdout",
          "text": [
            "\u001b[2m\u001b[36m(launch_and_fit pid=2406)\u001b[0m [Client 40] fit, config: {'current_round': 19, 'local_epochs': 3}\n",
            "\u001b[2m\u001b[36m(launch_and_fit pid=2405)\u001b[0m [Client 82] fit, config: {'current_round': 19, 'local_epochs': 3}\n",
            "\u001b[2m\u001b[36m(launch_and_fit pid=2406)\u001b[0m Epoch 1: train loss 0.0001464656670577824, accuracy 0.7037037037037037\n",
            "\u001b[2m\u001b[36m(launch_and_evaluate pid=2405)\u001b[0m [Client 60] evaluate, config: {}\u001b[32m [repeated 16x across cluster]\u001b[0m\n",
            "\u001b[2m\u001b[36m(launch_and_fit pid=2406)\u001b[0m [Client 96] fit, config: {'current_round': 19, 'local_epochs': 3}\u001b[32m [repeated 14x across cluster]\u001b[0m\n",
            "\u001b[2m\u001b[36m(launch_and_fit pid=2405)\u001b[0m Epoch 1: train loss 0.00016273696382995695, accuracy 0.7592592592592593\u001b[32m [repeated 14x across cluster]\u001b[0m\n"
          ]
        },
        {
          "output_type": "stream",
          "name": "stderr",
          "text": [
            "DEBUG flower 2023-07-19 14:12:45,191 | server.py:216 | fit_round received 30 results and 0 failures\n",
            "DEBUG:flower:fit_round received 30 results and 0 failures\n",
            "DEBUG flower 2023-07-19 14:12:45,292 | server.py:157 | evaluate_round: strategy sampled 30 clients (out of 100)\n",
            "DEBUG:flower:evaluate_round: strategy sampled 30 clients (out of 100)\n"
          ]
        },
        {
          "output_type": "stream",
          "name": "stdout",
          "text": [
            "Saving round 19 aggregated_parameters...\n",
            "\u001b[2m\u001b[36m(launch_and_evaluate pid=2406)\u001b[0m [Client 27] evaluate, config: {}\n",
            "\u001b[2m\u001b[36m(launch_and_fit pid=2406)\u001b[0m [Client 7] fit, config: {'current_round': 19, 'local_epochs': 3}\u001b[32m [repeated 14x across cluster]\u001b[0m\n",
            "\u001b[2m\u001b[36m(launch_and_fit pid=2406)\u001b[0m Epoch 1: train loss 0.00015986908692866564, accuracy 0.5925925925925926\u001b[32m [repeated 15x across cluster]\u001b[0m\n"
          ]
        },
        {
          "output_type": "stream",
          "name": "stderr",
          "text": [
            "DEBUG flower 2023-07-19 14:12:50,322 | server.py:170 | evaluate_round received 0 results and 30 failures\n",
            "DEBUG:flower:evaluate_round received 0 results and 30 failures\n",
            "DEBUG flower 2023-07-19 14:12:50,330 | server.py:203 | fit_round: strategy sampled 30 clients (out of 100)\n",
            "DEBUG:flower:fit_round: strategy sampled 30 clients (out of 100)\n"
          ]
        },
        {
          "output_type": "stream",
          "name": "stdout",
          "text": [
            "\u001b[2m\u001b[36m(launch_and_evaluate pid=2406)\u001b[0m [Client 69] evaluate, config: {}\u001b[32m [repeated 29x across cluster]\u001b[0m\n",
            "\u001b[2m\u001b[36m(launch_and_fit pid=2406)\u001b[0m [Client 41] fit, config: {'current_round': 20, 'local_epochs': 3}\u001b[32m [repeated 7x across cluster]\u001b[0m\n",
            "\u001b[2m\u001b[36m(launch_and_fit pid=2406)\u001b[0m Epoch 1: train loss 0.00016582875105086714, accuracy 0.5185185185185185\u001b[32m [repeated 7x across cluster]\u001b[0m\n",
            "\u001b[2m\u001b[36m(launch_and_fit pid=2405)\u001b[0m [Client 7] fit, config: {'current_round': 20, 'local_epochs': 3}\u001b[32m [repeated 19x across cluster]\u001b[0m\n",
            "\u001b[2m\u001b[36m(launch_and_fit pid=2405)\u001b[0m Epoch 1: train loss 0.00015755364438518882, accuracy 0.5555555555555556\u001b[32m [repeated 20x across cluster]\u001b[0m\n"
          ]
        },
        {
          "output_type": "stream",
          "name": "stderr",
          "text": [
            "DEBUG flower 2023-07-19 14:12:57,979 | server.py:216 | fit_round received 30 results and 0 failures\n",
            "DEBUG:flower:fit_round received 30 results and 0 failures\n",
            "DEBUG flower 2023-07-19 14:12:58,115 | server.py:157 | evaluate_round: strategy sampled 30 clients (out of 100)\n",
            "DEBUG:flower:evaluate_round: strategy sampled 30 clients (out of 100)\n"
          ]
        },
        {
          "output_type": "stream",
          "name": "stdout",
          "text": [
            "Saving round 20 aggregated_parameters...\n",
            "\u001b[2m\u001b[36m(launch_and_evaluate pid=2405)\u001b[0m [Client 93] evaluate, config: {}\n",
            "\u001b[2m\u001b[36m(launch_and_fit pid=2406)\u001b[0m [Client 11] fit, config: {'current_round': 20, 'local_epochs': 3}\u001b[32m [repeated 4x across cluster]\u001b[0m\n",
            "\u001b[2m\u001b[36m(launch_and_fit pid=2406)\u001b[0m Epoch 1: train loss 0.00014991729403845966, accuracy 0.6296296296296297\u001b[32m [repeated 3x across cluster]\u001b[0m\n",
            "\u001b[2m\u001b[36m(launch_and_evaluate pid=2405)\u001b[0m [Client 91] evaluate, config: {}\u001b[32m [repeated 23x across cluster]\u001b[0m\n"
          ]
        },
        {
          "output_type": "stream",
          "name": "stderr",
          "text": [
            "DEBUG flower 2023-07-19 14:13:05,110 | server.py:170 | evaluate_round received 0 results and 30 failures\n",
            "DEBUG:flower:evaluate_round received 0 results and 30 failures\n",
            "DEBUG flower 2023-07-19 14:13:05,115 | server.py:203 | fit_round: strategy sampled 30 clients (out of 100)\n",
            "DEBUG:flower:fit_round: strategy sampled 30 clients (out of 100)\n"
          ]
        },
        {
          "output_type": "stream",
          "name": "stdout",
          "text": [
            "\u001b[2m\u001b[36m(launch_and_fit pid=2406)\u001b[0m [Client 32] fit, config: {'current_round': 21, 'local_epochs': 3}\u001b[32m [repeated 10x across cluster]\u001b[0m\n",
            "\u001b[2m\u001b[36m(launch_and_fit pid=2405)\u001b[0m Epoch 1: train loss 0.0001512354938313365, accuracy 0.6296296296296297\u001b[32m [repeated 12x across cluster]\u001b[0m\n",
            "\u001b[2m\u001b[36m(launch_and_evaluate pid=2406)\u001b[0m [Client 2] evaluate, config: {}\u001b[32m [repeated 6x across cluster]\u001b[0m\n"
          ]
        },
        {
          "output_type": "stream",
          "name": "stderr",
          "text": [
            "DEBUG flower 2023-07-19 14:13:11,089 | server.py:216 | fit_round received 30 results and 0 failures\n",
            "DEBUG:flower:fit_round received 30 results and 0 failures\n",
            "DEBUG flower 2023-07-19 14:13:11,177 | server.py:157 | evaluate_round: strategy sampled 30 clients (out of 100)\n",
            "DEBUG:flower:evaluate_round: strategy sampled 30 clients (out of 100)\n"
          ]
        },
        {
          "output_type": "stream",
          "name": "stdout",
          "text": [
            "Saving round 21 aggregated_parameters...\n",
            "\u001b[2m\u001b[36m(launch_and_fit pid=2406)\u001b[0m [Client 97] fit, config: {'current_round': 21, 'local_epochs': 3}\u001b[32m [repeated 20x across cluster]\u001b[0m\n",
            "\u001b[2m\u001b[36m(launch_and_fit pid=2406)\u001b[0m Epoch 1: train loss 0.00014562330034095794, accuracy 0.7222222222222222\u001b[32m [repeated 18x across cluster]\u001b[0m\n",
            "\u001b[2m\u001b[36m(launch_and_evaluate pid=2405)\u001b[0m [Client 66] evaluate, config: {}\u001b[32m [repeated 16x across cluster]\u001b[0m\n"
          ]
        },
        {
          "output_type": "stream",
          "name": "stderr",
          "text": [
            "DEBUG flower 2023-07-19 14:13:17,372 | server.py:170 | evaluate_round received 0 results and 30 failures\n",
            "DEBUG:flower:evaluate_round received 0 results and 30 failures\n",
            "DEBUG flower 2023-07-19 14:13:17,376 | server.py:203 | fit_round: strategy sampled 30 clients (out of 100)\n",
            "DEBUG:flower:fit_round: strategy sampled 30 clients (out of 100)\n"
          ]
        },
        {
          "output_type": "stream",
          "name": "stdout",
          "text": [
            "\u001b[2m\u001b[36m(launch_and_fit pid=2405)\u001b[0m [Client 90] fit, config: {'current_round': 22, 'local_epochs': 3}\n",
            "\u001b[2m\u001b[36m(launch_and_fit pid=2405)\u001b[0m Epoch 1: train loss 0.00013114501780364662, accuracy 0.6481481481481481\n",
            "\u001b[2m\u001b[36m(launch_and_fit pid=2406)\u001b[0m [Client 80] fit, config: {'current_round': 22, 'local_epochs': 3}\n",
            "\u001b[2m\u001b[36m(launch_and_evaluate pid=2406)\u001b[0m [Client 60] evaluate, config: {}\u001b[32m [repeated 14x across cluster]\u001b[0m\n",
            "\u001b[2m\u001b[36m(launch_and_fit pid=2405)\u001b[0m Epoch 1: train loss 0.00013208534801378846, accuracy 0.6296296296296297\u001b[32m [repeated 15x across cluster]\u001b[0m\n",
            "\u001b[2m\u001b[36m(launch_and_fit pid=2406)\u001b[0m [Client 34] fit, config: {'current_round': 22, 'local_epochs': 3}\u001b[32m [repeated 15x across cluster]\u001b[0m\n"
          ]
        },
        {
          "output_type": "stream",
          "name": "stderr",
          "text": [
            "DEBUG flower 2023-07-19 14:13:26,688 | server.py:216 | fit_round received 30 results and 0 failures\n",
            "DEBUG:flower:fit_round received 30 results and 0 failures\n",
            "DEBUG flower 2023-07-19 14:13:26,787 | server.py:157 | evaluate_round: strategy sampled 30 clients (out of 100)\n",
            "DEBUG:flower:evaluate_round: strategy sampled 30 clients (out of 100)\n"
          ]
        },
        {
          "output_type": "stream",
          "name": "stdout",
          "text": [
            "Saving round 22 aggregated_parameters...\n",
            "\u001b[2m\u001b[36m(launch_and_evaluate pid=2406)\u001b[0m [Client 25] evaluate, config: {}\n",
            "\u001b[2m\u001b[36m(launch_and_evaluate pid=2406)\u001b[0m [Client 75] evaluate, config: {}\n",
            "\u001b[2m\u001b[36m(launch_and_evaluate pid=2406)\u001b[0m [Client 78] evaluate, config: {}\n",
            "\u001b[2m\u001b[36m(launch_and_evaluate pid=2406)\u001b[0m [Client 55] evaluate, config: {}\n",
            "\u001b[2m\u001b[36m(launch_and_evaluate pid=2406)\u001b[0m [Client 76] evaluate, config: {}\n",
            "\u001b[2m\u001b[36m(launch_and_fit pid=2406)\u001b[0m Epoch 1: train loss 0.00014914575149305165, accuracy 0.6296296296296297\u001b[32m [repeated 14x across cluster]\u001b[0m\n",
            "\u001b[2m\u001b[36m(launch_and_fit pid=2406)\u001b[0m [Client 97] fit, config: {'current_round': 22, 'local_epochs': 3}\u001b[32m [repeated 13x across cluster]\u001b[0m\n"
          ]
        },
        {
          "output_type": "stream",
          "name": "stderr",
          "text": [
            "DEBUG flower 2023-07-19 14:13:31,807 | server.py:170 | evaluate_round received 0 results and 30 failures\n",
            "DEBUG:flower:evaluate_round received 0 results and 30 failures\n",
            "DEBUG flower 2023-07-19 14:13:31,811 | server.py:203 | fit_round: strategy sampled 30 clients (out of 100)\n",
            "DEBUG:flower:fit_round: strategy sampled 30 clients (out of 100)\n"
          ]
        },
        {
          "output_type": "stream",
          "name": "stdout",
          "text": [
            "\u001b[2m\u001b[36m(launch_and_evaluate pid=2405)\u001b[0m [Client 4] evaluate, config: {}\u001b[32m [repeated 25x across cluster]\u001b[0m\n",
            "\u001b[2m\u001b[36m(launch_and_fit pid=2405)\u001b[0m Epoch 1: train loss 0.00012902299931738526, accuracy 0.6851851851851852\u001b[32m [repeated 6x across cluster]\u001b[0m\n",
            "\u001b[2m\u001b[36m(launch_and_fit pid=2405)\u001b[0m [Client 74] fit, config: {'current_round': 23, 'local_epochs': 3}\u001b[32m [repeated 8x across cluster]\u001b[0m\n",
            "\u001b[2m\u001b[36m(launch_and_fit pid=2406)\u001b[0m Epoch 1: train loss 0.00012884382158517838, accuracy 0.7592592592592593\u001b[32m [repeated 17x across cluster]\u001b[0m\n",
            "\u001b[2m\u001b[36m(launch_and_fit pid=2405)\u001b[0m [Client 83] fit, config: {'current_round': 23, 'local_epochs': 3}\u001b[32m [repeated 16x across cluster]\u001b[0m\n"
          ]
        },
        {
          "output_type": "stream",
          "name": "stderr",
          "text": [
            "DEBUG flower 2023-07-19 14:13:40,232 | server.py:216 | fit_round received 30 results and 0 failures\n",
            "DEBUG:flower:fit_round received 30 results and 0 failures\n",
            "DEBUG flower 2023-07-19 14:13:40,370 | server.py:157 | evaluate_round: strategy sampled 30 clients (out of 100)\n",
            "DEBUG:flower:evaluate_round: strategy sampled 30 clients (out of 100)\n"
          ]
        },
        {
          "output_type": "stream",
          "name": "stdout",
          "text": [
            "Saving round 23 aggregated_parameters...\n",
            "\u001b[2m\u001b[36m(launch_and_evaluate pid=2405)\u001b[0m [Client 12] evaluate, config: {}\n",
            "\u001b[2m\u001b[36m(launch_and_fit pid=2406)\u001b[0m Epoch 1: train loss 0.0001370858954032883, accuracy 0.6296296296296297\u001b[32m [repeated 7x across cluster]\u001b[0m\n",
            "\u001b[2m\u001b[36m(launch_and_fit pid=2406)\u001b[0m [Client 63] fit, config: {'current_round': 23, 'local_epochs': 3}\u001b[32m [repeated 6x across cluster]\u001b[0m\n",
            "\u001b[2m\u001b[36m(launch_and_evaluate pid=2406)\u001b[0m [Client 11] evaluate, config: {}\u001b[32m [repeated 23x across cluster]\u001b[0m\n"
          ]
        },
        {
          "output_type": "stream",
          "name": "stderr",
          "text": [
            "DEBUG flower 2023-07-19 14:13:47,120 | server.py:170 | evaluate_round received 0 results and 30 failures\n",
            "DEBUG:flower:evaluate_round received 0 results and 30 failures\n",
            "DEBUG flower 2023-07-19 14:13:47,131 | server.py:203 | fit_round: strategy sampled 30 clients (out of 100)\n",
            "DEBUG:flower:fit_round: strategy sampled 30 clients (out of 100)\n"
          ]
        },
        {
          "output_type": "stream",
          "name": "stdout",
          "text": [
            "\u001b[2m\u001b[36m(launch_and_fit pid=2406)\u001b[0m Epoch 1: train loss 0.00014133665536064655, accuracy 0.5555555555555556\u001b[32m [repeated 5x across cluster]\u001b[0m\n",
            "\u001b[2m\u001b[36m(launch_and_fit pid=2406)\u001b[0m [Client 16] fit, config: {'current_round': 24, 'local_epochs': 3}\u001b[32m [repeated 10x across cluster]\u001b[0m\n",
            "\u001b[2m\u001b[36m(launch_and_evaluate pid=2406)\u001b[0m [Client 71] evaluate, config: {}\u001b[32m [repeated 6x across cluster]\u001b[0m\n"
          ]
        },
        {
          "output_type": "stream",
          "name": "stderr",
          "text": [
            "DEBUG flower 2023-07-19 14:13:53,117 | server.py:216 | fit_round received 30 results and 0 failures\n",
            "DEBUG:flower:fit_round received 30 results and 0 failures\n",
            "DEBUG flower 2023-07-19 14:13:53,209 | server.py:157 | evaluate_round: strategy sampled 30 clients (out of 100)\n",
            "DEBUG:flower:evaluate_round: strategy sampled 30 clients (out of 100)\n"
          ]
        },
        {
          "output_type": "stream",
          "name": "stdout",
          "text": [
            "Saving round 24 aggregated_parameters...\n",
            "\u001b[2m\u001b[36m(launch_and_fit pid=2405)\u001b[0m Epoch 1: train loss 0.00013398780720308423, accuracy 0.6481481481481481\u001b[32m [repeated 25x across cluster]\u001b[0m\n",
            "\u001b[2m\u001b[36m(launch_and_fit pid=2405)\u001b[0m [Client 36] fit, config: {'current_round': 24, 'local_epochs': 3}\u001b[32m [repeated 20x across cluster]\u001b[0m\n",
            "\u001b[2m\u001b[36m(launch_and_evaluate pid=2405)\u001b[0m [Client 85] evaluate, config: {}\u001b[32m [repeated 14x across cluster]\u001b[0m\n"
          ]
        },
        {
          "output_type": "stream",
          "name": "stderr",
          "text": [
            "DEBUG flower 2023-07-19 14:14:00,011 | server.py:170 | evaluate_round received 0 results and 30 failures\n",
            "DEBUG:flower:evaluate_round received 0 results and 30 failures\n",
            "DEBUG flower 2023-07-19 14:14:00,019 | server.py:203 | fit_round: strategy sampled 30 clients (out of 100)\n",
            "DEBUG:flower:fit_round: strategy sampled 30 clients (out of 100)\n"
          ]
        },
        {
          "output_type": "stream",
          "name": "stdout",
          "text": [
            "\u001b[2m\u001b[36m(launch_and_fit pid=2406)\u001b[0m [Client 12] fit, config: {'current_round': 25, 'local_epochs': 3}\n",
            "\u001b[2m\u001b[36m(launch_and_fit pid=2406)\u001b[0m Epoch 1: train loss 0.00013377385039348155, accuracy 0.6666666666666666\n",
            "\u001b[2m\u001b[36m(launch_and_evaluate pid=2406)\u001b[0m [Client 4] evaluate, config: {}\u001b[32m [repeated 16x across cluster]\u001b[0m\n",
            "\u001b[2m\u001b[36m(launch_and_fit pid=2406)\u001b[0m [Client 11] fit, config: {'current_round': 25, 'local_epochs': 3}\u001b[32m [repeated 16x across cluster]\u001b[0m\n",
            "\u001b[2m\u001b[36m(launch_and_fit pid=2405)\u001b[0m Epoch 1: train loss 0.0001211854541907087, accuracy 0.7037037037037037\u001b[32m [repeated 15x across cluster]\u001b[0m\n"
          ]
        },
        {
          "output_type": "stream",
          "name": "stderr",
          "text": [
            "DEBUG flower 2023-07-19 14:14:08,404 | server.py:216 | fit_round received 30 results and 0 failures\n",
            "DEBUG:flower:fit_round received 30 results and 0 failures\n",
            "DEBUG flower 2023-07-19 14:14:08,516 | server.py:157 | evaluate_round: strategy sampled 30 clients (out of 100)\n",
            "DEBUG:flower:evaluate_round: strategy sampled 30 clients (out of 100)\n"
          ]
        },
        {
          "output_type": "stream",
          "name": "stdout",
          "text": [
            "Saving round 25 aggregated_parameters...\n",
            "\u001b[2m\u001b[36m(launch_and_evaluate pid=2405)\u001b[0m [Client 24] evaluate, config: {}\n",
            "\u001b[2m\u001b[36m(launch_and_fit pid=2405)\u001b[0m [Client 43] fit, config: {'current_round': 25, 'local_epochs': 3}\u001b[32m [repeated 13x across cluster]\u001b[0m\n",
            "\u001b[2m\u001b[36m(launch_and_fit pid=2405)\u001b[0m Epoch 1: train loss 0.00013305258471518755, accuracy 0.6851851851851852\u001b[32m [repeated 14x across cluster]\u001b[0m\n"
          ]
        },
        {
          "output_type": "stream",
          "name": "stderr",
          "text": [
            "DEBUG flower 2023-07-19 14:14:13,609 | server.py:170 | evaluate_round received 0 results and 30 failures\n",
            "DEBUG:flower:evaluate_round received 0 results and 30 failures\n",
            "DEBUG flower 2023-07-19 14:14:13,615 | server.py:203 | fit_round: strategy sampled 30 clients (out of 100)\n",
            "DEBUG:flower:fit_round: strategy sampled 30 clients (out of 100)\n"
          ]
        },
        {
          "output_type": "stream",
          "name": "stdout",
          "text": [
            "\u001b[2m\u001b[36m(launch_and_evaluate pid=2406)\u001b[0m [Client 72] evaluate, config: {}\u001b[32m [repeated 29x across cluster]\u001b[0m\n",
            "\u001b[2m\u001b[36m(launch_and_fit pid=2406)\u001b[0m [Client 99] fit, config: {'current_round': 26, 'local_epochs': 3}\u001b[32m [repeated 10x across cluster]\u001b[0m\n",
            "\u001b[2m\u001b[36m(launch_and_fit pid=2406)\u001b[0m Epoch 1: train loss 0.00012901764421258122, accuracy 0.5925925925925926\u001b[32m [repeated 9x across cluster]\u001b[0m\n",
            "\u001b[2m\u001b[36m(launch_and_fit pid=2405)\u001b[0m [Client 8] fit, config: {'current_round': 26, 'local_epochs': 3}\u001b[32m [repeated 12x across cluster]\u001b[0m\n",
            "\u001b[2m\u001b[36m(launch_and_fit pid=2405)\u001b[0m Epoch 1: train loss 0.00012998496822547168, accuracy 0.5925925925925926\u001b[32m [repeated 13x across cluster]\u001b[0m\n"
          ]
        },
        {
          "output_type": "stream",
          "name": "stderr",
          "text": [
            "DEBUG flower 2023-07-19 14:14:24,460 | server.py:216 | fit_round received 30 results and 0 failures\n",
            "DEBUG:flower:fit_round received 30 results and 0 failures\n",
            "DEBUG flower 2023-07-19 14:14:24,682 | server.py:157 | evaluate_round: strategy sampled 30 clients (out of 100)\n",
            "DEBUG:flower:evaluate_round: strategy sampled 30 clients (out of 100)\n"
          ]
        },
        {
          "output_type": "stream",
          "name": "stdout",
          "text": [
            "Saving round 26 aggregated_parameters...\n",
            "\u001b[2m\u001b[36m(launch_and_evaluate pid=2405)\u001b[0m [Client 13] evaluate, config: {}\n",
            "\u001b[2m\u001b[36m(launch_and_fit pid=2405)\u001b[0m [Client 69] fit, config: {'current_round': 26, 'local_epochs': 3}\u001b[32m [repeated 8x across cluster]\u001b[0m\n",
            "\u001b[2m\u001b[36m(launch_and_fit pid=2405)\u001b[0m Epoch 1: train loss 0.00012468248314689845, accuracy 0.6481481481481481\u001b[32m [repeated 8x across cluster]\u001b[0m\n",
            "\u001b[2m\u001b[36m(launch_and_evaluate pid=2406)\u001b[0m [Client 45] evaluate, config: {}\u001b[32m [repeated 22x across cluster]\u001b[0m\n"
          ]
        },
        {
          "output_type": "stream",
          "name": "stderr",
          "text": [
            "DEBUG flower 2023-07-19 14:14:32,573 | server.py:170 | evaluate_round received 0 results and 30 failures\n",
            "DEBUG:flower:evaluate_round received 0 results and 30 failures\n",
            "DEBUG flower 2023-07-19 14:14:32,582 | server.py:203 | fit_round: strategy sampled 30 clients (out of 100)\n",
            "DEBUG:flower:fit_round: strategy sampled 30 clients (out of 100)\n"
          ]
        },
        {
          "output_type": "stream",
          "name": "stdout",
          "text": [
            "\u001b[2m\u001b[36m(launch_and_fit pid=2406)\u001b[0m [Client 42] fit, config: {'current_round': 27, 'local_epochs': 3}\n",
            "\u001b[2m\u001b[36m(launch_and_fit pid=2406)\u001b[0m Epoch 1: train loss 0.00013032708375249058, accuracy 0.5925925925925926\n",
            "\u001b[2m\u001b[36m(launch_and_evaluate pid=2406)\u001b[0m [Client 30] evaluate, config: {}\u001b[32m [repeated 7x across cluster]\u001b[0m\n",
            "\u001b[2m\u001b[36m(launch_and_fit pid=2406)\u001b[0m [Client 4] fit, config: {'current_round': 27, 'local_epochs': 3}\u001b[32m [repeated 20x across cluster]\u001b[0m\n",
            "\u001b[2m\u001b[36m(launch_and_fit pid=2405)\u001b[0m Epoch 1: train loss 0.00013250199845060706, accuracy 0.6481481481481481\u001b[32m [repeated 21x across cluster]\u001b[0m\n"
          ]
        },
        {
          "output_type": "stream",
          "name": "stderr",
          "text": [
            "DEBUG flower 2023-07-19 14:14:40,443 | server.py:216 | fit_round received 30 results and 0 failures\n",
            "DEBUG:flower:fit_round received 30 results and 0 failures\n",
            "DEBUG flower 2023-07-19 14:14:40,639 | server.py:157 | evaluate_round: strategy sampled 30 clients (out of 100)\n",
            "DEBUG:flower:evaluate_round: strategy sampled 30 clients (out of 100)\n"
          ]
        },
        {
          "output_type": "stream",
          "name": "stdout",
          "text": [
            "Saving round 27 aggregated_parameters...\n",
            "\u001b[2m\u001b[36m(launch_and_evaluate pid=2406)\u001b[0m [Client 31] evaluate, config: {}\u001b[32m [repeated 2x across cluster]\u001b[0m\n",
            "\u001b[2m\u001b[36m(launch_and_fit pid=2406)\u001b[0m [Client 7] fit, config: {'current_round': 27, 'local_epochs': 3}\u001b[32m [repeated 9x across cluster]\u001b[0m\n",
            "\u001b[2m\u001b[36m(launch_and_fit pid=2406)\u001b[0m Epoch 1: train loss 0.00012125771172577515, accuracy 0.6851851851851852\u001b[32m [repeated 8x across cluster]\u001b[0m\n",
            "\u001b[2m\u001b[36m(launch_and_evaluate pid=2405)\u001b[0m [Client 92] evaluate, config: {}\u001b[32m [repeated 18x across cluster]\u001b[0m\n"
          ]
        },
        {
          "output_type": "stream",
          "name": "stderr",
          "text": [
            "DEBUG flower 2023-07-19 14:14:49,443 | server.py:170 | evaluate_round received 0 results and 30 failures\n",
            "DEBUG:flower:evaluate_round received 0 results and 30 failures\n",
            "DEBUG flower 2023-07-19 14:14:49,448 | server.py:203 | fit_round: strategy sampled 30 clients (out of 100)\n",
            "DEBUG:flower:fit_round: strategy sampled 30 clients (out of 100)\n"
          ]
        },
        {
          "output_type": "stream",
          "name": "stdout",
          "text": [
            "\u001b[2m\u001b[36m(launch_and_fit pid=2406)\u001b[0m [Client 17] fit, config: {'current_round': 28, 'local_epochs': 3}\n",
            "\u001b[2m\u001b[36m(launch_and_fit pid=2406)\u001b[0m Epoch 1: train loss 0.0001277658302569762, accuracy 0.6296296296296297\n",
            "\u001b[2m\u001b[36m(launch_and_evaluate pid=2405)\u001b[0m [Client 41] evaluate, config: {}\u001b[32m [repeated 10x across cluster]\u001b[0m\n",
            "\u001b[2m\u001b[36m(launch_and_fit pid=2405)\u001b[0m \n",
            "\u001b[2m\u001b[36m(launch_and_fit pid=2405)\u001b[0m [Client 5] fit, config: {'current_round': 28, 'local_epochs': 3}\u001b[32m [repeated 26x across cluster]\u001b[0m\n"
          ]
        },
        {
          "output_type": "stream",
          "name": "stderr",
          "text": [
            "DEBUG flower 2023-07-19 14:14:56,063 | server.py:216 | fit_round received 30 results and 0 failures\n",
            "DEBUG:flower:fit_round received 30 results and 0 failures\n"
          ]
        },
        {
          "output_type": "stream",
          "name": "stdout",
          "text": [
            "\u001b[2m\u001b[36m(launch_and_fit pid=2406)\u001b[0m Epoch 1: train loss 0.00011182977323187515, accuracy 0.7592592592592593\u001b[32m [repeated 27x across cluster]\u001b[0m\n"
          ]
        },
        {
          "output_type": "stream",
          "name": "stderr",
          "text": [
            "DEBUG flower 2023-07-19 14:14:56,171 | server.py:157 | evaluate_round: strategy sampled 30 clients (out of 100)\n",
            "DEBUG:flower:evaluate_round: strategy sampled 30 clients (out of 100)\n"
          ]
        },
        {
          "output_type": "stream",
          "name": "stdout",
          "text": [
            "Saving round 28 aggregated_parameters...\n",
            "\u001b[2m\u001b[36m(launch_and_evaluate pid=2406)\u001b[0m [Client 93] evaluate, config: {}\u001b[32m [repeated 5x across cluster]\u001b[0m\n",
            "\u001b[2m\u001b[36m(launch_and_fit pid=2406)\u001b[0m [Client 80] fit, config: {'current_round': 28, 'local_epochs': 3}\u001b[32m [repeated 3x across cluster]\u001b[0m\n",
            "\u001b[2m\u001b[36m(launch_and_fit pid=2406)\u001b[0m Epoch 1: train loss 0.00011398021160857752, accuracy 0.6851851851851852\u001b[32m [repeated 2x across cluster]\u001b[0m\n"
          ]
        },
        {
          "output_type": "stream",
          "name": "stderr",
          "text": [
            "DEBUG flower 2023-07-19 14:15:01,184 | server.py:170 | evaluate_round received 0 results and 30 failures\n",
            "DEBUG:flower:evaluate_round received 0 results and 30 failures\n",
            "DEBUG flower 2023-07-19 14:15:01,191 | server.py:203 | fit_round: strategy sampled 30 clients (out of 100)\n",
            "DEBUG:flower:fit_round: strategy sampled 30 clients (out of 100)\n"
          ]
        },
        {
          "output_type": "stream",
          "name": "stdout",
          "text": [
            "\u001b[2m\u001b[36m(launch_and_evaluate pid=2405)\u001b[0m [Client 57] evaluate, config: {}\u001b[32m [repeated 25x across cluster]\u001b[0m\n",
            "\u001b[2m\u001b[36m(launch_and_fit pid=2406)\u001b[0m [Client 96] fit, config: {'current_round': 29, 'local_epochs': 3}\u001b[32m [repeated 12x across cluster]\u001b[0m\n",
            "\u001b[2m\u001b[36m(launch_and_fit pid=2406)\u001b[0m Epoch 1: train loss 0.00011868449655594304, accuracy 0.7592592592592593\u001b[32m [repeated 12x across cluster]\u001b[0m\n",
            "\u001b[2m\u001b[36m(launch_and_fit pid=2405)\u001b[0m [Client 40] fit, config: {'current_round': 29, 'local_epochs': 3}\u001b[32m [repeated 14x across cluster]\u001b[0m\n",
            "\u001b[2m\u001b[36m(launch_and_fit pid=2405)\u001b[0m Epoch 1: train loss 0.00012508232612162828, accuracy 0.6111111111111112\u001b[32m [repeated 16x across cluster]\u001b[0m\n"
          ]
        },
        {
          "output_type": "stream",
          "name": "stderr",
          "text": [
            "DEBUG flower 2023-07-19 14:15:11,487 | server.py:216 | fit_round received 30 results and 0 failures\n",
            "DEBUG:flower:fit_round received 30 results and 0 failures\n",
            "DEBUG flower 2023-07-19 14:15:11,588 | server.py:157 | evaluate_round: strategy sampled 30 clients (out of 100)\n",
            "DEBUG:flower:evaluate_round: strategy sampled 30 clients (out of 100)\n"
          ]
        },
        {
          "output_type": "stream",
          "name": "stdout",
          "text": [
            "Saving round 29 aggregated_parameters...\n",
            "\u001b[2m\u001b[36m(launch_and_evaluate pid=2405)\u001b[0m [Client 48] evaluate, config: {}\n",
            "\u001b[2m\u001b[36m(launch_and_fit pid=2405)\u001b[0m [Client 0] fit, config: {'current_round': 29, 'local_epochs': 3}\u001b[32m [repeated 4x across cluster]\u001b[0m\n",
            "\u001b[2m\u001b[36m(launch_and_fit pid=2405)\u001b[0m Epoch 1: train loss 0.00011820573854492977, accuracy 0.7037037037037037\u001b[32m [repeated 2x across cluster]\u001b[0m\n"
          ]
        },
        {
          "output_type": "stream",
          "name": "stderr",
          "text": [
            "DEBUG flower 2023-07-19 14:15:16,915 | server.py:170 | evaluate_round received 0 results and 30 failures\n",
            "DEBUG:flower:evaluate_round received 0 results and 30 failures\n",
            "DEBUG flower 2023-07-19 14:15:16,920 | server.py:203 | fit_round: strategy sampled 30 clients (out of 100)\n",
            "DEBUG:flower:fit_round: strategy sampled 30 clients (out of 100)\n"
          ]
        },
        {
          "output_type": "stream",
          "name": "stdout",
          "text": [
            "\u001b[2m\u001b[36m(launch_and_evaluate pid=2405)\u001b[0m [Client 58] evaluate, config: {}\u001b[32m [repeated 29x across cluster]\u001b[0m\n",
            "\u001b[2m\u001b[36m(launch_and_fit pid=2405)\u001b[0m [Client 91] fit, config: {'current_round': 30, 'local_epochs': 3}\u001b[32m [repeated 18x across cluster]\u001b[0m\n",
            "\u001b[2m\u001b[36m(launch_and_fit pid=2406)\u001b[0m Epoch 1: train loss 0.00010522634693188593, accuracy 0.6851851851851852\u001b[32m [repeated 19x across cluster]\u001b[0m\n"
          ]
        },
        {
          "output_type": "stream",
          "name": "stderr",
          "text": [
            "DEBUG flower 2023-07-19 14:15:23,863 | server.py:216 | fit_round received 30 results and 0 failures\n",
            "DEBUG:flower:fit_round received 30 results and 0 failures\n",
            "DEBUG flower 2023-07-19 14:15:24,015 | server.py:157 | evaluate_round: strategy sampled 30 clients (out of 100)\n",
            "DEBUG:flower:evaluate_round: strategy sampled 30 clients (out of 100)\n"
          ]
        },
        {
          "output_type": "stream",
          "name": "stdout",
          "text": [
            "Saving round 30 aggregated_parameters...\n",
            "\u001b[2m\u001b[36m(launch_and_evaluate pid=2406)\u001b[0m [Client 29] evaluate, config: {}\n",
            "\u001b[2m\u001b[36m(launch_and_fit pid=2405)\u001b[0m [Client 22] fit, config: {'current_round': 30, 'local_epochs': 3}\u001b[32m [repeated 12x across cluster]\u001b[0m\n",
            "\u001b[2m\u001b[36m(launch_and_fit pid=2405)\u001b[0m Epoch 1: train loss 0.00011387330596335232, accuracy 0.6481481481481481\u001b[32m [repeated 11x across cluster]\u001b[0m\n",
            "\u001b[2m\u001b[36m(launch_and_evaluate pid=2406)\u001b[0m [Client 77] evaluate, config: {}\u001b[32m [repeated 22x across cluster]\u001b[0m\n"
          ]
        },
        {
          "output_type": "stream",
          "name": "stderr",
          "text": [
            "DEBUG flower 2023-07-19 14:15:31,645 | server.py:170 | evaluate_round received 0 results and 30 failures\n",
            "DEBUG:flower:evaluate_round received 0 results and 30 failures\n",
            "DEBUG flower 2023-07-19 14:15:31,651 | server.py:203 | fit_round: strategy sampled 30 clients (out of 100)\n",
            "DEBUG:flower:fit_round: strategy sampled 30 clients (out of 100)\n"
          ]
        },
        {
          "output_type": "stream",
          "name": "stdout",
          "text": [
            "\u001b[2m\u001b[36m(launch_and_fit pid=2405)\u001b[0m [Client 10] fit, config: {'current_round': 31, 'local_epochs': 3}\n",
            "\u001b[2m\u001b[36m(launch_and_fit pid=2406)\u001b[0m Epoch 1: train loss 0.00010278992704115808, accuracy 0.7592592592592593\n",
            "\u001b[2m\u001b[36m(launch_and_evaluate pid=2405)\u001b[0m [Client 56] evaluate, config: {}\u001b[32m [repeated 7x across cluster]\u001b[0m\n",
            "\u001b[2m\u001b[36m(launch_and_fit pid=2405)\u001b[0m [Client 94] fit, config: {'current_round': 31, 'local_epochs': 3}\u001b[32m [repeated 26x across cluster]\u001b[0m\n",
            "\u001b[2m\u001b[36m(launch_and_fit pid=2406)\u001b[0m Epoch 1: train loss 0.00010759571887319908, accuracy 0.7407407407407407\u001b[32m [repeated 25x across cluster]\u001b[0m\n"
          ]
        },
        {
          "output_type": "stream",
          "name": "stderr",
          "text": [
            "DEBUG flower 2023-07-19 14:15:37,944 | server.py:216 | fit_round received 30 results and 0 failures\n",
            "DEBUG:flower:fit_round received 30 results and 0 failures\n",
            "DEBUG flower 2023-07-19 14:15:38,037 | server.py:157 | evaluate_round: strategy sampled 30 clients (out of 100)\n",
            "DEBUG:flower:evaluate_round: strategy sampled 30 clients (out of 100)\n"
          ]
        },
        {
          "output_type": "stream",
          "name": "stdout",
          "text": [
            "Saving round 31 aggregated_parameters...\n",
            "\u001b[2m\u001b[36m(launch_and_evaluate pid=2405)\u001b[0m [Client 36] evaluate, config: {}\u001b[32m [repeated 12x across cluster]\u001b[0m\n",
            "\u001b[2m\u001b[36m(launch_and_fit pid=2406)\u001b[0m [Client 45] fit, config: {'current_round': 31, 'local_epochs': 3}\u001b[32m [repeated 3x across cluster]\u001b[0m\n",
            "\u001b[2m\u001b[36m(launch_and_fit pid=2406)\u001b[0m Epoch 1: train loss 9.884143946692348e-05, accuracy 0.7037037037037037\u001b[32m [repeated 4x across cluster]\u001b[0m\n"
          ]
        },
        {
          "output_type": "stream",
          "name": "stderr",
          "text": [
            "DEBUG flower 2023-07-19 14:15:43,183 | server.py:170 | evaluate_round received 0 results and 30 failures\n",
            "DEBUG:flower:evaluate_round received 0 results and 30 failures\n",
            "DEBUG flower 2023-07-19 14:15:43,190 | server.py:203 | fit_round: strategy sampled 30 clients (out of 100)\n",
            "DEBUG:flower:fit_round: strategy sampled 30 clients (out of 100)\n"
          ]
        },
        {
          "output_type": "stream",
          "name": "stdout",
          "text": [
            "\u001b[2m\u001b[36m(launch_and_evaluate pid=2406)\u001b[0m [Client 50] evaluate, config: {}\u001b[32m [repeated 18x across cluster]\u001b[0m\n",
            "\u001b[2m\u001b[36m(launch_and_fit pid=2405)\u001b[0m [Client 33] fit, config: {'current_round': 32, 'local_epochs': 3}\u001b[32m [repeated 13x across cluster]\u001b[0m\n",
            "\u001b[2m\u001b[36m(launch_and_fit pid=2405)\u001b[0m Epoch 1: train loss 0.00012632521975319833, accuracy 0.5555555555555556\u001b[32m [repeated 13x across cluster]\u001b[0m\n"
          ]
        },
        {
          "output_type": "stream",
          "name": "stderr",
          "text": [
            "DEBUG flower 2023-07-19 14:15:52,200 | server.py:216 | fit_round received 30 results and 0 failures\n",
            "DEBUG:flower:fit_round received 30 results and 0 failures\n",
            "DEBUG flower 2023-07-19 14:15:52,303 | server.py:157 | evaluate_round: strategy sampled 30 clients (out of 100)\n",
            "DEBUG:flower:evaluate_round: strategy sampled 30 clients (out of 100)\n"
          ]
        },
        {
          "output_type": "stream",
          "name": "stdout",
          "text": [
            "Saving round 32 aggregated_parameters...\n",
            "\u001b[2m\u001b[36m(launch_and_evaluate pid=2406)\u001b[0m [Client 62] evaluate, config: {}\n",
            "\u001b[2m\u001b[36m(launch_and_fit pid=2406)\u001b[0m [Client 16] fit, config: {'current_round': 32, 'local_epochs': 3}\u001b[32m [repeated 17x across cluster]\u001b[0m\n",
            "\u001b[2m\u001b[36m(launch_and_fit pid=2406)\u001b[0m Epoch 1: train loss 0.00010400810424471274, accuracy 0.6851851851851852\u001b[32m [repeated 17x across cluster]\u001b[0m\n",
            "\u001b[2m\u001b[36m(launch_and_evaluate pid=2406)\u001b[0m [Client 97] evaluate, config: {}\n"
          ]
        },
        {
          "output_type": "stream",
          "name": "stderr",
          "text": [
            "DEBUG flower 2023-07-19 14:15:57,517 | server.py:170 | evaluate_round received 0 results and 30 failures\n",
            "DEBUG:flower:evaluate_round received 0 results and 30 failures\n",
            "DEBUG flower 2023-07-19 14:15:57,521 | server.py:203 | fit_round: strategy sampled 30 clients (out of 100)\n",
            "DEBUG:flower:fit_round: strategy sampled 30 clients (out of 100)\n"
          ]
        },
        {
          "output_type": "stream",
          "name": "stdout",
          "text": [
            "\u001b[2m\u001b[36m(launch_and_evaluate pid=2405)\u001b[0m [Client 19] evaluate, config: {}\u001b[32m [repeated 28x across cluster]\u001b[0m\n",
            "\u001b[2m\u001b[36m(launch_and_fit pid=2405)\u001b[0m [Client 27] fit, config: {'current_round': 33, 'local_epochs': 3}\n",
            "\u001b[2m\u001b[36m(launch_and_fit pid=2405)\u001b[0m Epoch 1: train loss 0.00011545180313987657, accuracy 0.5740740740740741\n",
            "\u001b[2m\u001b[36m(launch_and_fit pid=2406)\u001b[0m [Client 37] fit, config: {'current_round': 33, 'local_epochs': 3}\n",
            "\u001b[2m\u001b[36m(launch_and_fit pid=2405)\u001b[0m Epoch 1: train loss 0.00011887054279213771, accuracy 0.6296296296296297\n",
            "\u001b[2m\u001b[36m(launch_and_fit pid=2405)\u001b[0m Epoch 1: train loss 0.00010317840497009456, accuracy 0.6851851851851852\u001b[32m [repeated 23x across cluster]\u001b[0m\n",
            "\u001b[2m\u001b[36m(launch_and_fit pid=2405)\u001b[0m [Client 86] fit, config: {'current_round': 33, 'local_epochs': 3}\u001b[32m [repeated 23x across cluster]\u001b[0m\n"
          ]
        },
        {
          "output_type": "stream",
          "name": "stderr",
          "text": [
            "DEBUG flower 2023-07-19 14:16:04,346 | server.py:216 | fit_round received 30 results and 0 failures\n",
            "DEBUG:flower:fit_round received 30 results and 0 failures\n",
            "DEBUG flower 2023-07-19 14:16:04,483 | server.py:157 | evaluate_round: strategy sampled 30 clients (out of 100)\n",
            "DEBUG:flower:evaluate_round: strategy sampled 30 clients (out of 100)\n"
          ]
        },
        {
          "output_type": "stream",
          "name": "stdout",
          "text": [
            "Saving round 33 aggregated_parameters...\n",
            "\u001b[2m\u001b[36m(launch_and_evaluate pid=2406)\u001b[0m [Client 7] evaluate, config: {}\n",
            "\u001b[2m\u001b[36m(launch_and_evaluate pid=2406)\u001b[0m [Client 80] evaluate, config: {}\n",
            "\u001b[2m\u001b[36m(launch_and_fit pid=2406)\u001b[0m Epoch 1: train loss 8.243862248491496e-05, accuracy 0.8333333333333334\u001b[32m [repeated 5x across cluster]\u001b[0m\n",
            "\u001b[2m\u001b[36m(launch_and_fit pid=2406)\u001b[0m [Client 1] fit, config: {'current_round': 33, 'local_epochs': 3}\u001b[32m [repeated 5x across cluster]\u001b[0m\n",
            "\u001b[2m\u001b[36m(launch_and_evaluate pid=2406)\u001b[0m [Client 68] evaluate, config: {}\u001b[32m [repeated 20x across cluster]\u001b[0m\n"
          ]
        },
        {
          "output_type": "stream",
          "name": "stderr",
          "text": [
            "DEBUG flower 2023-07-19 14:16:12,078 | server.py:170 | evaluate_round received 0 results and 30 failures\n",
            "DEBUG:flower:evaluate_round received 0 results and 30 failures\n",
            "DEBUG flower 2023-07-19 14:16:12,089 | server.py:203 | fit_round: strategy sampled 30 clients (out of 100)\n",
            "DEBUG:flower:fit_round: strategy sampled 30 clients (out of 100)\n"
          ]
        },
        {
          "output_type": "stream",
          "name": "stdout",
          "text": [
            "\u001b[2m\u001b[36m(launch_and_fit pid=2406)\u001b[0m Epoch 1: train loss 0.00011577821715036407, accuracy 0.5925925925925926\u001b[32m [repeated 4x across cluster]\u001b[0m\n",
            "\u001b[2m\u001b[36m(launch_and_fit pid=2406)\u001b[0m [Client 6] fit, config: {'current_round': 34, 'local_epochs': 3}\u001b[32m [repeated 4x across cluster]\u001b[0m\n",
            "\u001b[2m\u001b[36m(launch_and_evaluate pid=2405)\u001b[0m [Client 85] evaluate, config: {}\u001b[32m [repeated 8x across cluster]\u001b[0m\n"
          ]
        },
        {
          "output_type": "stream",
          "name": "stderr",
          "text": [
            "DEBUG flower 2023-07-19 14:16:18,218 | server.py:216 | fit_round received 30 results and 0 failures\n",
            "DEBUG:flower:fit_round received 30 results and 0 failures\n",
            "DEBUG flower 2023-07-19 14:16:18,309 | server.py:157 | evaluate_round: strategy sampled 30 clients (out of 100)\n",
            "DEBUG:flower:evaluate_round: strategy sampled 30 clients (out of 100)\n"
          ]
        },
        {
          "output_type": "stream",
          "name": "stdout",
          "text": [
            "Saving round 34 aggregated_parameters...\n",
            "\u001b[2m\u001b[36m(launch_and_fit pid=2405)\u001b[0m Epoch 1: train loss 0.00010405576176708564, accuracy 0.7222222222222222\u001b[32m [repeated 26x across cluster]\u001b[0m\n",
            "\u001b[2m\u001b[36m(launch_and_fit pid=2405)\u001b[0m [Client 92] fit, config: {'current_round': 34, 'local_epochs': 3}\u001b[32m [repeated 26x across cluster]\u001b[0m\n",
            "\u001b[2m\u001b[36m(launch_and_evaluate pid=2406)\u001b[0m [Client 45] evaluate, config: {}\u001b[32m [repeated 11x across cluster]\u001b[0m\n"
          ]
        },
        {
          "output_type": "stream",
          "name": "stderr",
          "text": [
            "DEBUG flower 2023-07-19 14:16:23,420 | server.py:170 | evaluate_round received 0 results and 30 failures\n",
            "DEBUG:flower:evaluate_round received 0 results and 30 failures\n",
            "DEBUG flower 2023-07-19 14:16:23,424 | server.py:203 | fit_round: strategy sampled 30 clients (out of 100)\n",
            "DEBUG:flower:fit_round: strategy sampled 30 clients (out of 100)\n"
          ]
        },
        {
          "output_type": "stream",
          "name": "stdout",
          "text": [
            "\u001b[2m\u001b[36m(launch_and_fit pid=2406)\u001b[0m [Client 32] fit, config: {'current_round': 35, 'local_epochs': 3}\n",
            "\u001b[2m\u001b[36m(launch_and_fit pid=2405)\u001b[0m [Client 98] fit, config: {'current_round': 35, 'local_epochs': 3}\n",
            "\u001b[2m\u001b[36m(launch_and_fit pid=2406)\u001b[0m Epoch 1: train loss 0.00010699838458094746, accuracy 0.7037037037037037\n",
            "\u001b[2m\u001b[36m(launch_and_evaluate pid=2405)\u001b[0m [Client 62] evaluate, config: {}\u001b[32m [repeated 19x across cluster]\u001b[0m\n",
            "\u001b[2m\u001b[36m(launch_and_fit pid=2406)\u001b[0m [Client 84] fit, config: {'current_round': 35, 'local_epochs': 3}\u001b[32m [repeated 15x across cluster]\u001b[0m\n",
            "\u001b[2m\u001b[36m(launch_and_fit pid=2406)\u001b[0m Epoch 1: train loss 0.00011341478966642171, accuracy 0.6481481481481481\u001b[32m [repeated 16x across cluster]\u001b[0m\n"
          ]
        },
        {
          "output_type": "stream",
          "name": "stderr",
          "text": [
            "DEBUG flower 2023-07-19 14:16:33,537 | server.py:216 | fit_round received 30 results and 0 failures\n",
            "DEBUG:flower:fit_round received 30 results and 0 failures\n",
            "DEBUG flower 2023-07-19 14:16:33,639 | server.py:157 | evaluate_round: strategy sampled 30 clients (out of 100)\n",
            "DEBUG:flower:evaluate_round: strategy sampled 30 clients (out of 100)\n"
          ]
        },
        {
          "output_type": "stream",
          "name": "stdout",
          "text": [
            "Saving round 35 aggregated_parameters...\n",
            "\u001b[2m\u001b[36m(launch_and_evaluate pid=2405)\u001b[0m [Client 41] evaluate, config: {}\n",
            "\u001b[2m\u001b[36m(launch_and_fit pid=2405)\u001b[0m [Client 52] fit, config: {'current_round': 35, 'local_epochs': 3}\u001b[32m [repeated 13x across cluster]\u001b[0m\n",
            "\u001b[2m\u001b[36m(launch_and_fit pid=2406)\u001b[0m Epoch 1: train loss 8.663295739097521e-05, accuracy 0.7222222222222222\u001b[32m [repeated 13x across cluster]\u001b[0m\n"
          ]
        },
        {
          "output_type": "stream",
          "name": "stderr",
          "text": [
            "DEBUG flower 2023-07-19 14:16:38,969 | server.py:170 | evaluate_round received 0 results and 30 failures\n",
            "DEBUG:flower:evaluate_round received 0 results and 30 failures\n",
            "DEBUG flower 2023-07-19 14:16:38,979 | server.py:203 | fit_round: strategy sampled 30 clients (out of 100)\n",
            "DEBUG:flower:fit_round: strategy sampled 30 clients (out of 100)\n"
          ]
        },
        {
          "output_type": "stream",
          "name": "stdout",
          "text": [
            "\u001b[2m\u001b[36m(launch_and_evaluate pid=2406)\u001b[0m [Client 92] evaluate, config: {}\u001b[32m [repeated 29x across cluster]\u001b[0m\n",
            "\u001b[2m\u001b[36m(launch_and_fit pid=2406)\u001b[0m [Client 29] fit, config: {'current_round': 36, 'local_epochs': 3}\u001b[32m [repeated 2x across cluster]\u001b[0m\n",
            "\u001b[2m\u001b[36m(launch_and_fit pid=2406)\u001b[0m Epoch 1: train loss 9.872806549537927e-05, accuracy 0.7037037037037037\u001b[32m [repeated 3x across cluster]\u001b[0m\n",
            "\u001b[2m\u001b[36m(launch_and_fit pid=2405)\u001b[0m [Client 18] fit, config: {'current_round': 36, 'local_epochs': 3}\u001b[32m [repeated 21x across cluster]\u001b[0m\n",
            "\u001b[2m\u001b[36m(launch_and_fit pid=2405)\u001b[0m Epoch 1: train loss 0.00010715940152294934, accuracy 0.6666666666666666\u001b[32m [repeated 21x across cluster]\u001b[0m\n"
          ]
        },
        {
          "output_type": "stream",
          "name": "stderr",
          "text": [
            "DEBUG flower 2023-07-19 14:16:46,895 | server.py:216 | fit_round received 30 results and 0 failures\n",
            "DEBUG:flower:fit_round received 30 results and 0 failures\n",
            "DEBUG flower 2023-07-19 14:16:47,043 | server.py:157 | evaluate_round: strategy sampled 30 clients (out of 100)\n",
            "DEBUG:flower:evaluate_round: strategy sampled 30 clients (out of 100)\n"
          ]
        },
        {
          "output_type": "stream",
          "name": "stdout",
          "text": [
            "Saving round 36 aggregated_parameters...\n",
            "\u001b[2m\u001b[36m(launch_and_evaluate pid=2406)\u001b[0m [Client 31] evaluate, config: {}\n",
            "\u001b[2m\u001b[36m(launch_and_fit pid=2405)\u001b[0m [Client 93] fit, config: {'current_round': 36, 'local_epochs': 3}\u001b[32m [repeated 7x across cluster]\u001b[0m\n",
            "\u001b[2m\u001b[36m(launch_and_fit pid=2405)\u001b[0m Epoch 1: train loss 9.035525727085769e-05, accuracy 0.6481481481481481\u001b[32m [repeated 6x across cluster]\u001b[0m\n",
            "\u001b[2m\u001b[36m(launch_and_evaluate pid=2405)\u001b[0m [Client 14] evaluate, config: {}\u001b[32m [repeated 21x across cluster]\u001b[0m\n"
          ]
        },
        {
          "output_type": "stream",
          "name": "stderr",
          "text": [
            "DEBUG flower 2023-07-19 14:16:54,125 | server.py:170 | evaluate_round received 0 results and 30 failures\n",
            "DEBUG:flower:evaluate_round received 0 results and 30 failures\n",
            "DEBUG flower 2023-07-19 14:16:54,133 | server.py:203 | fit_round: strategy sampled 30 clients (out of 100)\n",
            "DEBUG:flower:fit_round: strategy sampled 30 clients (out of 100)\n"
          ]
        },
        {
          "output_type": "stream",
          "name": "stdout",
          "text": [
            "\u001b[2m\u001b[36m(launch_and_fit pid=2406)\u001b[0m [Client 89] fit, config: {'current_round': 37, 'local_epochs': 3}\u001b[32m [repeated 5x across cluster]\u001b[0m\n",
            "\u001b[2m\u001b[36m(launch_and_fit pid=2405)\u001b[0m Epoch 1: train loss 8.36376566439867e-05, accuracy 0.7222222222222222\u001b[32m [repeated 4x across cluster]\u001b[0m\n",
            "\u001b[2m\u001b[36m(launch_and_evaluate pid=2405)\u001b[0m [Client 22] evaluate, config: {}\u001b[32m [repeated 8x across cluster]\u001b[0m\n"
          ]
        },
        {
          "output_type": "stream",
          "name": "stderr",
          "text": [
            "DEBUG flower 2023-07-19 14:16:59,995 | server.py:216 | fit_round received 30 results and 0 failures\n",
            "DEBUG:flower:fit_round received 30 results and 0 failures\n",
            "DEBUG flower 2023-07-19 14:17:00,346 | server.py:157 | evaluate_round: strategy sampled 30 clients (out of 100)\n",
            "DEBUG:flower:evaluate_round: strategy sampled 30 clients (out of 100)\n"
          ]
        },
        {
          "output_type": "stream",
          "name": "stdout",
          "text": [
            "Saving round 37 aggregated_parameters...\n",
            "\u001b[2m\u001b[36m(launch_and_fit pid=2406)\u001b[0m [Client 8] fit, config: {'current_round': 37, 'local_epochs': 3}\u001b[32m [repeated 25x across cluster]\u001b[0m\n",
            "\u001b[2m\u001b[36m(launch_and_fit pid=2406)\u001b[0m Epoch 1: train loss 0.00011377774353604764, accuracy 0.6481481481481481\u001b[32m [repeated 26x across cluster]\u001b[0m\n",
            "\u001b[2m\u001b[36m(launch_and_evaluate pid=2405)\u001b[0m [Client 91] evaluate, config: {}\u001b[32m [repeated 16x across cluster]\u001b[0m\n"
          ]
        },
        {
          "output_type": "stream",
          "name": "stderr",
          "text": [
            "DEBUG flower 2023-07-19 14:17:06,009 | server.py:170 | evaluate_round received 0 results and 30 failures\n",
            "DEBUG:flower:evaluate_round received 0 results and 30 failures\n",
            "DEBUG flower 2023-07-19 14:17:06,021 | server.py:203 | fit_round: strategy sampled 30 clients (out of 100)\n",
            "DEBUG:flower:fit_round: strategy sampled 30 clients (out of 100)\n"
          ]
        },
        {
          "output_type": "stream",
          "name": "stdout",
          "text": [
            "\u001b[2m\u001b[36m(launch_and_fit pid=2406)\u001b[0m [Client 90] fit, config: {'current_round': 38, 'local_epochs': 3}\n",
            "\u001b[2m\u001b[36m(launch_and_fit pid=2406)\u001b[0m Epoch 1: train loss 8.363366941921413e-05, accuracy 0.7407407407407407\n",
            "\u001b[2m\u001b[36m(launch_and_evaluate pid=2405)\u001b[0m [Client 57] evaluate, config: {}\u001b[32m [repeated 14x across cluster]\u001b[0m\n",
            "\u001b[2m\u001b[36m(launch_and_fit pid=2405)\u001b[0m [Client 47] fit, config: {'current_round': 38, 'local_epochs': 3}\u001b[32m [repeated 16x across cluster]\u001b[0m\n",
            "\u001b[2m\u001b[36m(launch_and_fit pid=2406)\u001b[0m Epoch 1: train loss 0.00010347441275371239, accuracy 0.7222222222222222\u001b[32m [repeated 15x across cluster]\u001b[0m\n"
          ]
        },
        {
          "output_type": "stream",
          "name": "stderr",
          "text": [
            "DEBUG flower 2023-07-19 14:17:15,224 | server.py:216 | fit_round received 30 results and 0 failures\n",
            "DEBUG:flower:fit_round received 30 results and 0 failures\n",
            "DEBUG flower 2023-07-19 14:17:15,322 | server.py:157 | evaluate_round: strategy sampled 30 clients (out of 100)\n",
            "DEBUG:flower:evaluate_round: strategy sampled 30 clients (out of 100)\n"
          ]
        },
        {
          "output_type": "stream",
          "name": "stdout",
          "text": [
            "Saving round 38 aggregated_parameters...\n",
            "\u001b[2m\u001b[36m(launch_and_evaluate pid=2406)\u001b[0m [Client 48] evaluate, config: {}\n",
            "\u001b[2m\u001b[36m(launch_and_fit pid=2406)\u001b[0m [Client 62] fit, config: {'current_round': 38, 'local_epochs': 3}\u001b[32m [repeated 13x across cluster]\u001b[0m\n",
            "\u001b[2m\u001b[36m(launch_and_fit pid=2406)\u001b[0m Epoch 1: train loss 0.00010425931395730004, accuracy 0.6666666666666666\u001b[32m [repeated 14x across cluster]\u001b[0m\n"
          ]
        },
        {
          "output_type": "stream",
          "name": "stderr",
          "text": [
            "DEBUG flower 2023-07-19 14:17:20,536 | server.py:170 | evaluate_round received 0 results and 30 failures\n",
            "DEBUG:flower:evaluate_round received 0 results and 30 failures\n",
            "DEBUG flower 2023-07-19 14:17:20,540 | server.py:203 | fit_round: strategy sampled 30 clients (out of 100)\n",
            "DEBUG:flower:fit_round: strategy sampled 30 clients (out of 100)\n"
          ]
        },
        {
          "output_type": "stream",
          "name": "stdout",
          "text": [
            "\u001b[2m\u001b[36m(launch_and_evaluate pid=2405)\u001b[0m [Client 19] evaluate, config: {}\u001b[32m [repeated 29x across cluster]\u001b[0m\n",
            "\u001b[2m\u001b[36m(launch_and_fit pid=2406)\u001b[0m [Client 18] fit, config: {'current_round': 39, 'local_epochs': 3}\u001b[32m [repeated 8x across cluster]\u001b[0m\n",
            "\u001b[2m\u001b[36m(launch_and_fit pid=2405)\u001b[0m Epoch 1: train loss 9.365397272631526e-05, accuracy 0.6296296296296297\u001b[32m [repeated 7x across cluster]\u001b[0m\n"
          ]
        },
        {
          "output_type": "stream",
          "name": "stderr",
          "text": [
            "DEBUG flower 2023-07-19 14:17:27,354 | server.py:216 | fit_round received 30 results and 0 failures\n",
            "DEBUG:flower:fit_round received 30 results and 0 failures\n",
            "DEBUG flower 2023-07-19 14:17:27,504 | server.py:157 | evaluate_round: strategy sampled 30 clients (out of 100)\n",
            "DEBUG:flower:evaluate_round: strategy sampled 30 clients (out of 100)\n"
          ]
        },
        {
          "output_type": "stream",
          "name": "stdout",
          "text": [
            "Saving round 39 aggregated_parameters...\n",
            "\u001b[2m\u001b[36m(launch_and_evaluate pid=2405)\u001b[0m [Client 90] evaluate, config: {}\n",
            "\u001b[2m\u001b[36m(launch_and_fit pid=2406)\u001b[0m [Client 59] fit, config: {'current_round': 39, 'local_epochs': 3}\u001b[32m [repeated 22x across cluster]\u001b[0m\n",
            "\u001b[2m\u001b[36m(launch_and_fit pid=2406)\u001b[0m Epoch 1: train loss 0.00012057487037964165, accuracy 0.6481481481481481\u001b[32m [repeated 23x across cluster]\u001b[0m\n",
            "\u001b[2m\u001b[36m(launch_and_evaluate pid=2405)\u001b[0m [Client 63] evaluate, config: {}\u001b[32m [repeated 24x across cluster]\u001b[0m\n"
          ]
        },
        {
          "output_type": "stream",
          "name": "stderr",
          "text": [
            "DEBUG flower 2023-07-19 14:17:34,332 | server.py:170 | evaluate_round received 0 results and 30 failures\n",
            "DEBUG:flower:evaluate_round received 0 results and 30 failures\n",
            "DEBUG flower 2023-07-19 14:17:34,341 | server.py:203 | fit_round: strategy sampled 30 clients (out of 100)\n",
            "DEBUG:flower:fit_round: strategy sampled 30 clients (out of 100)\n"
          ]
        },
        {
          "output_type": "stream",
          "name": "stdout",
          "text": [
            "\u001b[2m\u001b[36m(launch_and_fit pid=2405)\u001b[0m [Client 38] fit, config: {'current_round': 40, 'local_epochs': 3}\n",
            "\u001b[2m\u001b[36m(launch_and_fit pid=2405)\u001b[0m Epoch 1: train loss 7.816493598511443e-05, accuracy 0.7777777777777778\n",
            "\u001b[2m\u001b[36m(launch_and_evaluate pid=2405)\u001b[0m [Client 84] evaluate, config: {}\u001b[32m [repeated 5x across cluster]\u001b[0m\n",
            "\u001b[2m\u001b[36m(launch_and_fit pid=2406)\u001b[0m [Client 81] fit, config: {'current_round': 40, 'local_epochs': 3}\u001b[32m [repeated 24x across cluster]\u001b[0m\n",
            "\u001b[2m\u001b[36m(launch_and_fit pid=2405)\u001b[0m Epoch 1: train loss 0.00010907332034548745, accuracy 0.6296296296296297\u001b[32m [repeated 23x across cluster]\u001b[0m\n"
          ]
        },
        {
          "output_type": "stream",
          "name": "stderr",
          "text": [
            "DEBUG flower 2023-07-19 14:17:40,829 | server.py:216 | fit_round received 30 results and 0 failures\n",
            "DEBUG:flower:fit_round received 30 results and 0 failures\n",
            "DEBUG flower 2023-07-19 14:17:40,934 | server.py:157 | evaluate_round: strategy sampled 30 clients (out of 100)\n",
            "DEBUG:flower:evaluate_round: strategy sampled 30 clients (out of 100)\n"
          ]
        },
        {
          "output_type": "stream",
          "name": "stdout",
          "text": [
            "Saving round 40 aggregated_parameters...\n",
            "\u001b[2m\u001b[36m(launch_and_evaluate pid=2406)\u001b[0m [Client 48] evaluate, config: {}\u001b[32m [repeated 15x across cluster]\u001b[0m\n",
            "\u001b[2m\u001b[36m(launch_and_fit pid=2406)\u001b[0m [Client 49] fit, config: {'current_round': 40, 'local_epochs': 3}\u001b[32m [repeated 5x across cluster]\u001b[0m\n",
            "\u001b[2m\u001b[36m(launch_and_fit pid=2406)\u001b[0m Epoch 1: train loss 0.00010602059046505019, accuracy 0.6111111111111112\u001b[32m [repeated 6x across cluster]\u001b[0m\n"
          ]
        },
        {
          "output_type": "stream",
          "name": "stderr",
          "text": [
            "DEBUG flower 2023-07-19 14:17:46,416 | server.py:170 | evaluate_round received 0 results and 30 failures\n",
            "DEBUG:flower:evaluate_round received 0 results and 30 failures\n",
            "DEBUG flower 2023-07-19 14:17:46,426 | server.py:203 | fit_round: strategy sampled 30 clients (out of 100)\n",
            "DEBUG:flower:fit_round: strategy sampled 30 clients (out of 100)\n"
          ]
        },
        {
          "output_type": "stream",
          "name": "stdout",
          "text": [
            "\u001b[2m\u001b[36m(launch_and_evaluate pid=2406)\u001b[0m [Client 35] evaluate, config: {}\u001b[32m [repeated 15x across cluster]\u001b[0m\n",
            "\u001b[2m\u001b[36m(launch_and_fit pid=2406)\u001b[0m [Client 46] fit, config: {'current_round': 41, 'local_epochs': 3}\u001b[32m [repeated 11x across cluster]\u001b[0m\n",
            "\u001b[2m\u001b[36m(launch_and_fit pid=2405)\u001b[0m Epoch 1: train loss 8.01196729298681e-05, accuracy 0.8703703703703703\u001b[32m [repeated 10x across cluster]\u001b[0m\n"
          ]
        },
        {
          "output_type": "stream",
          "name": "stderr",
          "text": [
            "DEBUG flower 2023-07-19 14:17:55,609 | server.py:216 | fit_round received 30 results and 0 failures\n",
            "DEBUG:flower:fit_round received 30 results and 0 failures\n",
            "DEBUG flower 2023-07-19 14:17:55,699 | server.py:157 | evaluate_round: strategy sampled 30 clients (out of 100)\n",
            "DEBUG:flower:evaluate_round: strategy sampled 30 clients (out of 100)\n"
          ]
        },
        {
          "output_type": "stream",
          "name": "stdout",
          "text": [
            "Saving round 41 aggregated_parameters...\n",
            "\u001b[2m\u001b[36m(launch_and_fit pid=2406)\u001b[0m [Client 41] fit, config: {'current_round': 41, 'local_epochs': 3}\u001b[32m [repeated 19x across cluster]\u001b[0m\n",
            "\u001b[2m\u001b[36m(launch_and_fit pid=2406)\u001b[0m Epoch 1: train loss 0.00010662755084922537, accuracy 0.7037037037037037\u001b[32m [repeated 20x across cluster]\u001b[0m\n",
            "\u001b[2m\u001b[36m(launch_and_evaluate pid=2405)\u001b[0m [Client 13] evaluate, config: {}\n"
          ]
        },
        {
          "output_type": "stream",
          "name": "stderr",
          "text": [
            "DEBUG flower 2023-07-19 14:18:00,644 | server.py:170 | evaluate_round received 0 results and 30 failures\n",
            "DEBUG:flower:evaluate_round received 0 results and 30 failures\n",
            "DEBUG flower 2023-07-19 14:18:00,648 | server.py:203 | fit_round: strategy sampled 30 clients (out of 100)\n",
            "DEBUG:flower:fit_round: strategy sampled 30 clients (out of 100)\n"
          ]
        },
        {
          "output_type": "stream",
          "name": "stdout",
          "text": [
            "\u001b[2m\u001b[36m(launch_and_fit pid=2405)\u001b[0m [Client 59] fit, config: {'current_round': 42, 'local_epochs': 3}\n",
            "\u001b[2m\u001b[36m(launch_and_fit pid=2405)\u001b[0m Epoch 1: train loss 9.336457151221111e-05, accuracy 0.7222222222222222\n",
            "\u001b[2m\u001b[36m(launch_and_evaluate pid=2406)\u001b[0m [Client 12] evaluate, config: {}\u001b[32m [repeated 29x across cluster]\u001b[0m\n",
            "\u001b[2m\u001b[36m(launch_and_fit pid=2405)\u001b[0m [Client 56] fit, config: {'current_round': 42, 'local_epochs': 3}\u001b[32m [repeated 23x across cluster]\u001b[0m\n",
            "\u001b[2m\u001b[36m(launch_and_fit pid=2406)\u001b[0m Epoch 1: train loss 9.677367779659107e-05, accuracy 0.6851851851851852\u001b[32m [repeated 22x across cluster]\u001b[0m\n"
          ]
        },
        {
          "output_type": "stream",
          "name": "stderr",
          "text": [
            "DEBUG flower 2023-07-19 14:18:07,978 | server.py:216 | fit_round received 30 results and 0 failures\n",
            "DEBUG:flower:fit_round received 30 results and 0 failures\n",
            "DEBUG flower 2023-07-19 14:18:08,115 | server.py:157 | evaluate_round: strategy sampled 30 clients (out of 100)\n",
            "DEBUG:flower:evaluate_round: strategy sampled 30 clients (out of 100)\n"
          ]
        },
        {
          "output_type": "stream",
          "name": "stdout",
          "text": [
            "Saving round 42 aggregated_parameters...\n",
            "\u001b[2m\u001b[36m(launch_and_evaluate pid=2406)\u001b[0m [Client 73] evaluate, config: {}\n",
            "\u001b[2m\u001b[36m(launch_and_fit pid=2406)\u001b[0m [Client 53] fit, config: {'current_round': 42, 'local_epochs': 3}\u001b[32m [repeated 6x across cluster]\u001b[0m\n",
            "\u001b[2m\u001b[36m(launch_and_fit pid=2406)\u001b[0m Epoch 1: train loss 7.735751569271088e-05, accuracy 0.7037037037037037\u001b[32m [repeated 7x across cluster]\u001b[0m\n",
            "\u001b[2m\u001b[36m(launch_and_evaluate pid=2405)\u001b[0m [Client 19] evaluate, config: {}\u001b[32m [repeated 21x across cluster]\u001b[0m\n"
          ]
        },
        {
          "output_type": "stream",
          "name": "stderr",
          "text": [
            "DEBUG flower 2023-07-19 14:18:15,807 | server.py:170 | evaluate_round received 0 results and 30 failures\n",
            "DEBUG:flower:evaluate_round received 0 results and 30 failures\n",
            "DEBUG flower 2023-07-19 14:18:15,813 | server.py:203 | fit_round: strategy sampled 30 clients (out of 100)\n",
            "DEBUG:flower:fit_round: strategy sampled 30 clients (out of 100)\n"
          ]
        },
        {
          "output_type": "stream",
          "name": "stdout",
          "text": [
            "\u001b[2m\u001b[36m(launch_and_fit pid=2405)\u001b[0m [Client 7] fit, config: {'current_round': 43, 'local_epochs': 3}\u001b[32m [repeated 2x across cluster]\u001b[0m\n",
            "\u001b[2m\u001b[36m(launch_and_fit pid=2405)\u001b[0m Epoch 1: train loss 8.037817315198481e-05, accuracy 0.8333333333333334\u001b[32m [repeated 2x across cluster]\u001b[0m\n",
            "\u001b[2m\u001b[36m(launch_and_evaluate pid=2405)\u001b[0m [Client 18] evaluate, config: {}\u001b[32m [repeated 8x across cluster]\u001b[0m\n"
          ]
        },
        {
          "output_type": "stream",
          "name": "stderr",
          "text": [
            "DEBUG flower 2023-07-19 14:18:22,081 | server.py:216 | fit_round received 30 results and 0 failures\n",
            "DEBUG:flower:fit_round received 30 results and 0 failures\n"
          ]
        },
        {
          "output_type": "stream",
          "name": "stdout",
          "text": [
            "\u001b[2m\u001b[36m(launch_and_fit pid=2405)\u001b[0m [Client 69] fit, config: {'current_round': 43, 'local_epochs': 3}\u001b[32m [repeated 26x across cluster]\u001b[0m\n",
            "\u001b[2m\u001b[36m(launch_and_fit pid=2405)\u001b[0m Epoch 1: train loss 8.310519478982314e-05, accuracy 0.7777777777777778\u001b[32m [repeated 26x across cluster]\u001b[0m\n"
          ]
        },
        {
          "output_type": "stream",
          "name": "stderr",
          "text": [
            "DEBUG flower 2023-07-19 14:18:22,186 | server.py:157 | evaluate_round: strategy sampled 30 clients (out of 100)\n",
            "DEBUG:flower:evaluate_round: strategy sampled 30 clients (out of 100)\n"
          ]
        },
        {
          "output_type": "stream",
          "name": "stdout",
          "text": [
            "Saving round 43 aggregated_parameters...\n",
            "\u001b[2m\u001b[36m(launch_and_evaluate pid=2406)\u001b[0m [Client 12] evaluate, config: {}\u001b[32m [repeated 9x across cluster]\u001b[0m\n",
            "\u001b[2m\u001b[36m(launch_and_fit pid=2406)\u001b[0m [Client 71] fit, config: {'current_round': 43, 'local_epochs': 3}\u001b[32m [repeated 2x across cluster]\u001b[0m\n",
            "\u001b[2m\u001b[36m(launch_and_fit pid=2405)\u001b[0m Epoch 1: train loss 8.578104461776093e-05, accuracy 0.7777777777777778\u001b[32m [repeated 2x across cluster]\u001b[0m\n"
          ]
        },
        {
          "output_type": "stream",
          "name": "stderr",
          "text": [
            "DEBUG flower 2023-07-19 14:18:27,803 | server.py:170 | evaluate_round received 0 results and 30 failures\n",
            "DEBUG:flower:evaluate_round received 0 results and 30 failures\n",
            "DEBUG flower 2023-07-19 14:18:27,814 | server.py:203 | fit_round: strategy sampled 30 clients (out of 100)\n",
            "DEBUG:flower:fit_round: strategy sampled 30 clients (out of 100)\n"
          ]
        },
        {
          "output_type": "stream",
          "name": "stdout",
          "text": [
            "\u001b[2m\u001b[36m(launch_and_fit pid=2406)\u001b[0m \n",
            "\u001b[2m\u001b[36m(launch_and_evaluate pid=2406)\u001b[0m [Client 87] evaluate, config: {}\u001b[32m [repeated 21x across cluster]\u001b[0m\n",
            "\u001b[2m\u001b[36m(launch_and_fit pid=2406)\u001b[0m [Client 80] fit, config: {'current_round': 44, 'local_epochs': 3}\u001b[32m [repeated 12x across cluster]\u001b[0m\n",
            "\u001b[2m\u001b[36m(launch_and_fit pid=2406)\u001b[0m Epoch 1: train loss 6.866887270007282e-05, accuracy 0.7777777777777778\u001b[32m [repeated 12x across cluster]\u001b[0m\n"
          ]
        },
        {
          "output_type": "stream",
          "name": "stderr",
          "text": [
            "DEBUG flower 2023-07-19 14:18:36,508 | server.py:216 | fit_round received 30 results and 0 failures\n",
            "DEBUG:flower:fit_round received 30 results and 0 failures\n",
            "DEBUG flower 2023-07-19 14:18:36,617 | server.py:157 | evaluate_round: strategy sampled 30 clients (out of 100)\n",
            "DEBUG:flower:evaluate_round: strategy sampled 30 clients (out of 100)\n"
          ]
        },
        {
          "output_type": "stream",
          "name": "stdout",
          "text": [
            "Saving round 44 aggregated_parameters...\n",
            "\u001b[2m\u001b[36m(launch_and_evaluate pid=2406)\u001b[0m [Client 7] evaluate, config: {}\n",
            "\u001b[2m\u001b[36m(launch_and_fit pid=2406)\u001b[0m [Client 70] fit, config: {'current_round': 44, 'local_epochs': 3}\u001b[32m [repeated 18x across cluster]\u001b[0m\n",
            "\u001b[2m\u001b[36m(launch_and_fit pid=2406)\u001b[0m Epoch 1: train loss 8.199253352358937e-05, accuracy 0.7222222222222222\u001b[32m [repeated 18x across cluster]\u001b[0m\n"
          ]
        },
        {
          "output_type": "stream",
          "name": "stderr",
          "text": [
            "DEBUG flower 2023-07-19 14:18:41,463 | server.py:170 | evaluate_round received 0 results and 30 failures\n",
            "DEBUG:flower:evaluate_round received 0 results and 30 failures\n",
            "DEBUG flower 2023-07-19 14:18:41,471 | server.py:203 | fit_round: strategy sampled 30 clients (out of 100)\n",
            "DEBUG:flower:fit_round: strategy sampled 30 clients (out of 100)\n"
          ]
        },
        {
          "output_type": "stream",
          "name": "stdout",
          "text": [
            "\u001b[2m\u001b[36m(launch_and_evaluate pid=2406)\u001b[0m [Client 50] evaluate, config: {}\u001b[32m [repeated 29x across cluster]\u001b[0m\n",
            "\u001b[2m\u001b[36m(launch_and_fit pid=2406)\u001b[0m [Client 79] fit, config: {'current_round': 45, 'local_epochs': 3}\u001b[32m [repeated 2x across cluster]\u001b[0m\n",
            "\u001b[2m\u001b[36m(launch_and_fit pid=2405)\u001b[0m Epoch 1: train loss 7.889742846600711e-05, accuracy 0.8148148148148148\u001b[32m [repeated 2x across cluster]\u001b[0m\n",
            "\u001b[2m\u001b[36m(launch_and_fit pid=2405)\u001b[0m [Client 64] fit, config: {'current_round': 45, 'local_epochs': 3}\u001b[32m [repeated 20x across cluster]\u001b[0m\n",
            "\u001b[2m\u001b[36m(launch_and_fit pid=2405)\u001b[0m Epoch 1: train loss 9.309347660746425e-05, accuracy 0.7407407407407407\u001b[32m [repeated 20x across cluster]\u001b[0m\n"
          ]
        },
        {
          "output_type": "stream",
          "name": "stderr",
          "text": [
            "DEBUG flower 2023-07-19 14:18:49,515 | server.py:216 | fit_round received 30 results and 0 failures\n",
            "DEBUG:flower:fit_round received 30 results and 0 failures\n",
            "DEBUG flower 2023-07-19 14:18:49,695 | server.py:157 | evaluate_round: strategy sampled 30 clients (out of 100)\n",
            "DEBUG:flower:evaluate_round: strategy sampled 30 clients (out of 100)\n"
          ]
        },
        {
          "output_type": "stream",
          "name": "stdout",
          "text": [
            "Saving round 45 aggregated_parameters...\n",
            "\u001b[2m\u001b[36m(launch_and_evaluate pid=2405)\u001b[0m [Client 58] evaluate, config: {}\n",
            "\u001b[2m\u001b[36m(launch_and_fit pid=2406)\u001b[0m [Client 46] fit, config: {'current_round': 45, 'local_epochs': 3}\u001b[32m [repeated 8x across cluster]\u001b[0m\n",
            "\u001b[2m\u001b[36m(launch_and_fit pid=2405)\u001b[0m Epoch 1: train loss 8.770558633841574e-05, accuracy 0.7592592592592593\u001b[32m [repeated 8x across cluster]\u001b[0m\n",
            "\u001b[2m\u001b[36m(launch_and_evaluate pid=2405)\u001b[0m [Client 86] evaluate, config: {}\u001b[32m [repeated 19x across cluster]\u001b[0m\n"
          ]
        },
        {
          "output_type": "stream",
          "name": "stderr",
          "text": [
            "DEBUG flower 2023-07-19 14:18:58,319 | server.py:170 | evaluate_round received 0 results and 30 failures\n",
            "DEBUG:flower:evaluate_round received 0 results and 30 failures\n",
            "DEBUG flower 2023-07-19 14:18:58,324 | server.py:203 | fit_round: strategy sampled 30 clients (out of 100)\n",
            "DEBUG:flower:fit_round: strategy sampled 30 clients (out of 100)\n"
          ]
        },
        {
          "output_type": "stream",
          "name": "stdout",
          "text": [
            "\u001b[2m\u001b[36m(launch_and_fit pid=2405)\u001b[0m [Client 15] fit, config: {'current_round': 46, 'local_epochs': 3}\n",
            "\u001b[2m\u001b[36m(launch_and_fit pid=2405)\u001b[0m Epoch 1: train loss 8.158181299222633e-05, accuracy 0.7037037037037037\n",
            "\u001b[2m\u001b[36m(launch_and_evaluate pid=2406)\u001b[0m [Client 96] evaluate, config: {}\u001b[32m [repeated 10x across cluster]\u001b[0m\n",
            "\u001b[2m\u001b[36m(launch_and_fit pid=2405)\u001b[0m [Client 14] fit, config: {'current_round': 46, 'local_epochs': 3}\u001b[32m [repeated 19x across cluster]\u001b[0m\n",
            "\u001b[2m\u001b[36m(launch_and_fit pid=2405)\u001b[0m Epoch 1: train loss 8.025705756153911e-05, accuracy 0.7407407407407407\u001b[32m [repeated 18x across cluster]\u001b[0m\n"
          ]
        },
        {
          "output_type": "stream",
          "name": "stderr",
          "text": [
            "DEBUG flower 2023-07-19 14:19:06,428 | server.py:216 | fit_round received 30 results and 0 failures\n",
            "DEBUG:flower:fit_round received 30 results and 0 failures\n",
            "DEBUG flower 2023-07-19 14:19:06,547 | server.py:157 | evaluate_round: strategy sampled 30 clients (out of 100)\n",
            "DEBUG:flower:evaluate_round: strategy sampled 30 clients (out of 100)\n"
          ]
        },
        {
          "output_type": "stream",
          "name": "stdout",
          "text": [
            "Saving round 46 aggregated_parameters...\n",
            "\u001b[2m\u001b[36m(launch_and_evaluate pid=2406)\u001b[0m [Client 42] evaluate, config: {}\n",
            "\u001b[2m\u001b[36m(launch_and_evaluate pid=2405)\u001b[0m [Client 69] evaluate, config: {}\n",
            "\u001b[2m\u001b[36m(launch_and_fit pid=2406)\u001b[0m [Client 35] fit, config: {'current_round': 46, 'local_epochs': 3}\u001b[32m [repeated 10x across cluster]\u001b[0m\n",
            "\u001b[2m\u001b[36m(launch_and_fit pid=2406)\u001b[0m Epoch 1: train loss 8.359780622413382e-05, accuracy 0.7037037037037037\u001b[32m [repeated 11x across cluster]\u001b[0m\n",
            "\u001b[2m\u001b[36m(launch_and_evaluate pid=2405)\u001b[0m [Client 91] evaluate, config: {}\u001b[32m [repeated 17x across cluster]\u001b[0m\n",
            "\u001b[2m\u001b[36m(launch_and_evaluate pid=2405)\u001b[0m [Client 9] evaluate, config: {}\u001b[32m [repeated 8x across cluster]\u001b[0m\n"
          ]
        },
        {
          "output_type": "stream",
          "name": "stderr",
          "text": [
            "DEBUG flower 2023-07-19 14:19:18,980 | server.py:170 | evaluate_round received 0 results and 30 failures\n",
            "DEBUG:flower:evaluate_round received 0 results and 30 failures\n",
            "DEBUG flower 2023-07-19 14:19:19,008 | server.py:203 | fit_round: strategy sampled 30 clients (out of 100)\n",
            "DEBUG:flower:fit_round: strategy sampled 30 clients (out of 100)\n"
          ]
        },
        {
          "output_type": "stream",
          "name": "stdout",
          "text": [
            "\u001b[2m\u001b[36m(launch_and_fit pid=2406)\u001b[0m [Client 89] fit, config: {'current_round': 47, 'local_epochs': 3}\n",
            "\u001b[2m\u001b[36m(launch_and_fit pid=2406)\u001b[0m Epoch 1: train loss 9.846408647717908e-05, accuracy 0.7777777777777778\n",
            "\u001b[2m\u001b[36m(launch_and_fit pid=2406)\u001b[0m [Client 80] fit, config: {'current_round': 47, 'local_epochs': 3}\n",
            "\u001b[2m\u001b[36m(launch_and_fit pid=2406)\u001b[0m Epoch 1: train loss 8.330393757205456e-05, accuracy 0.7222222222222222\n",
            "\u001b[2m\u001b[36m(launch_and_evaluate pid=2405)\u001b[0m [Client 12] evaluate, config: {}\u001b[32m [repeated 3x across cluster]\u001b[0m\n",
            "\u001b[2m\u001b[36m(launch_and_fit pid=2406)\u001b[0m \n",
            "\u001b[2m\u001b[36m(launch_and_fit pid=2406)\u001b[0m [Client 91] fit, config: {'current_round': 47, 'local_epochs': 3}\u001b[32m [repeated 16x across cluster]\u001b[0m\n",
            "\u001b[2m\u001b[36m(launch_and_fit pid=2406)\u001b[0m Epoch 1: train loss 5.680835965904407e-05, accuracy 0.8888888888888888\u001b[32m [repeated 16x across cluster]\u001b[0m\n"
          ]
        },
        {
          "output_type": "stream",
          "name": "stderr",
          "text": [
            "DEBUG flower 2023-07-19 14:19:28,286 | server.py:216 | fit_round received 30 results and 0 failures\n",
            "DEBUG:flower:fit_round received 30 results and 0 failures\n",
            "DEBUG flower 2023-07-19 14:19:28,387 | server.py:157 | evaluate_round: strategy sampled 30 clients (out of 100)\n",
            "DEBUG:flower:evaluate_round: strategy sampled 30 clients (out of 100)\n"
          ]
        },
        {
          "output_type": "stream",
          "name": "stdout",
          "text": [
            "Saving round 47 aggregated_parameters...\n",
            "\u001b[2m\u001b[36m(launch_and_evaluate pid=2406)\u001b[0m [Client 26] evaluate, config: {}\n",
            "\u001b[2m\u001b[36m(launch_and_fit pid=2406)\u001b[0m [Client 74] fit, config: {'current_round': 47, 'local_epochs': 3}\u001b[32m [repeated 12x across cluster]\u001b[0m\n",
            "\u001b[2m\u001b[36m(launch_and_fit pid=2406)\u001b[0m Epoch 1: train loss 8.36109829833731e-05, accuracy 0.7407407407407407\u001b[32m [repeated 12x across cluster]\u001b[0m\n"
          ]
        },
        {
          "output_type": "stream",
          "name": "stderr",
          "text": [
            "DEBUG flower 2023-07-19 14:19:33,638 | server.py:170 | evaluate_round received 0 results and 30 failures\n",
            "DEBUG:flower:evaluate_round received 0 results and 30 failures\n",
            "DEBUG flower 2023-07-19 14:19:33,643 | server.py:203 | fit_round: strategy sampled 30 clients (out of 100)\n",
            "DEBUG:flower:fit_round: strategy sampled 30 clients (out of 100)\n"
          ]
        },
        {
          "output_type": "stream",
          "name": "stdout",
          "text": [
            "\u001b[2m\u001b[36m(launch_and_evaluate pid=2406)\u001b[0m [Client 7] evaluate, config: {}\u001b[32m [repeated 29x across cluster]\u001b[0m\n",
            "\u001b[2m\u001b[36m(launch_and_fit pid=2406)\u001b[0m [Client 67] fit, config: {'current_round': 48, 'local_epochs': 3}\u001b[32m [repeated 12x across cluster]\u001b[0m\n",
            "\u001b[2m\u001b[36m(launch_and_fit pid=2406)\u001b[0m Epoch 1: train loss 6.984546780586243e-05, accuracy 0.7777777777777778\u001b[32m [repeated 12x across cluster]\u001b[0m\n",
            "\u001b[2m\u001b[36m(launch_and_fit pid=2405)\u001b[0m [Client 89] fit, config: {'current_round': 48, 'local_epochs': 3}\u001b[32m [repeated 16x across cluster]\u001b[0m\n"
          ]
        },
        {
          "output_type": "stream",
          "name": "stderr",
          "text": [
            "DEBUG flower 2023-07-19 14:19:42,302 | server.py:216 | fit_round received 30 results and 0 failures\n",
            "DEBUG:flower:fit_round received 30 results and 0 failures\n"
          ]
        },
        {
          "output_type": "stream",
          "name": "stdout",
          "text": [
            "\u001b[2m\u001b[36m(launch_and_fit pid=2405)\u001b[0m Epoch 1: train loss 7.31796317268163e-05, accuracy 0.7222222222222222\u001b[32m [repeated 16x across cluster]\u001b[0m\n"
          ]
        },
        {
          "output_type": "stream",
          "name": "stderr",
          "text": [
            "DEBUG flower 2023-07-19 14:19:42,454 | server.py:157 | evaluate_round: strategy sampled 30 clients (out of 100)\n",
            "DEBUG:flower:evaluate_round: strategy sampled 30 clients (out of 100)\n"
          ]
        },
        {
          "output_type": "stream",
          "name": "stdout",
          "text": [
            "Saving round 48 aggregated_parameters...\n",
            "\u001b[2m\u001b[36m(launch_and_evaluate pid=2405)\u001b[0m [Client 3] evaluate, config: {}\n",
            "\u001b[2m\u001b[36m(launch_and_fit pid=2405)\u001b[0m [Client 26] fit, config: {'current_round': 48, 'local_epochs': 3}\u001b[32m [repeated 2x across cluster]\u001b[0m\n"
          ]
        },
        {
          "output_type": "stream",
          "name": "stderr",
          "text": [
            "DEBUG flower 2023-07-19 14:19:48,504 | server.py:170 | evaluate_round received 0 results and 30 failures\n",
            "DEBUG:flower:evaluate_round received 0 results and 30 failures\n",
            "DEBUG flower 2023-07-19 14:19:48,509 | server.py:203 | fit_round: strategy sampled 30 clients (out of 100)\n",
            "DEBUG:flower:fit_round: strategy sampled 30 clients (out of 100)\n"
          ]
        },
        {
          "output_type": "stream",
          "name": "stdout",
          "text": [
            "\u001b[2m\u001b[36m(launch_and_fit pid=2405)\u001b[0m Epoch 1: train loss 7.677921530557796e-05, accuracy 0.8148148148148148\u001b[32m [repeated 2x across cluster]\u001b[0m\n",
            "\u001b[2m\u001b[36m(launch_and_evaluate pid=2405)\u001b[0m [Client 27] evaluate, config: {}\u001b[32m [repeated 27x across cluster]\u001b[0m\n",
            "\u001b[2m\u001b[36m(launch_and_fit pid=2406)\u001b[0m [Client 24] fit, config: {'current_round': 49, 'local_epochs': 3}\u001b[32m [repeated 16x across cluster]\u001b[0m\n",
            "\u001b[2m\u001b[36m(launch_and_fit pid=2406)\u001b[0m Epoch 1: train loss 7.59798422222957e-05, accuracy 0.6666666666666666\u001b[32m [repeated 17x across cluster]\u001b[0m\n",
            "\u001b[2m\u001b[36m(launch_and_evaluate pid=2406)\u001b[0m [Client 21] evaluate, config: {}\u001b[32m [repeated 2x across cluster]\u001b[0m\n"
          ]
        },
        {
          "output_type": "stream",
          "name": "stderr",
          "text": [
            "DEBUG flower 2023-07-19 14:19:54,397 | server.py:216 | fit_round received 30 results and 0 failures\n",
            "DEBUG:flower:fit_round received 30 results and 0 failures\n",
            "DEBUG flower 2023-07-19 14:19:54,495 | server.py:157 | evaluate_round: strategy sampled 30 clients (out of 100)\n",
            "DEBUG:flower:evaluate_round: strategy sampled 30 clients (out of 100)\n"
          ]
        },
        {
          "output_type": "stream",
          "name": "stdout",
          "text": [
            "Saving round 49 aggregated_parameters...\n",
            "\u001b[2m\u001b[36m(launch_and_fit pid=2406)\u001b[0m [Client 83] fit, config: {'current_round': 49, 'local_epochs': 3}\u001b[32m [repeated 14x across cluster]\u001b[0m\n",
            "\u001b[2m\u001b[36m(launch_and_fit pid=2406)\u001b[0m Epoch 1: train loss 7.348351937253028e-05, accuracy 0.8148148148148148\u001b[32m [repeated 13x across cluster]\u001b[0m\n",
            "\u001b[2m\u001b[36m(launch_and_evaluate pid=2406)\u001b[0m [Client 34] evaluate, config: {}\u001b[32m [repeated 17x across cluster]\u001b[0m\n"
          ]
        },
        {
          "output_type": "stream",
          "name": "stderr",
          "text": [
            "DEBUG flower 2023-07-19 14:20:01,957 | server.py:170 | evaluate_round received 0 results and 30 failures\n",
            "DEBUG:flower:evaluate_round received 0 results and 30 failures\n",
            "DEBUG flower 2023-07-19 14:20:01,965 | server.py:203 | fit_round: strategy sampled 30 clients (out of 100)\n",
            "DEBUG:flower:fit_round: strategy sampled 30 clients (out of 100)\n"
          ]
        },
        {
          "output_type": "stream",
          "name": "stdout",
          "text": [
            "\u001b[2m\u001b[36m(launch_and_fit pid=2406)\u001b[0m [Client 55] fit, config: {'current_round': 50, 'local_epochs': 3}\n",
            "\u001b[2m\u001b[36m(launch_and_fit pid=2406)\u001b[0m Epoch 1: train loss 6.712405593134463e-05, accuracy 0.7777777777777778\n",
            "\u001b[2m\u001b[36m(launch_and_fit pid=2405)\u001b[0m [Client 26] fit, config: {'current_round': 50, 'local_epochs': 3}\n",
            "\u001b[2m\u001b[36m(launch_and_evaluate pid=2406)\u001b[0m [Client 71] evaluate, config: {}\u001b[32m [repeated 13x across cluster]\u001b[0m\n",
            "\u001b[2m\u001b[36m(launch_and_fit pid=2405)\u001b[0m Epoch 1: train loss 7.83997675171122e-05, accuracy 0.7407407407407407\u001b[32m [repeated 18x across cluster]\u001b[0m\n",
            "\u001b[2m\u001b[36m(launch_and_fit pid=2405)\u001b[0m [Client 96] fit, config: {'current_round': 50, 'local_epochs': 3}\u001b[32m [repeated 19x across cluster]\u001b[0m\n"
          ]
        },
        {
          "output_type": "stream",
          "name": "stderr",
          "text": [
            "DEBUG flower 2023-07-19 14:20:09,610 | server.py:216 | fit_round received 30 results and 0 failures\n",
            "DEBUG:flower:fit_round received 30 results and 0 failures\n",
            "DEBUG flower 2023-07-19 14:20:09,698 | server.py:157 | evaluate_round: strategy sampled 30 clients (out of 100)\n",
            "DEBUG:flower:evaluate_round: strategy sampled 30 clients (out of 100)\n"
          ]
        },
        {
          "output_type": "stream",
          "name": "stdout",
          "text": [
            "Saving round 50 aggregated_parameters...\n",
            "\u001b[2m\u001b[36m(launch_and_evaluate pid=2406)\u001b[0m [Client 98] evaluate, config: {}\n",
            "\u001b[2m\u001b[36m(launch_and_fit pid=2405)\u001b[0m Epoch 1: train loss 6.693194154649973e-05, accuracy 0.8518518518518519\u001b[32m [repeated 11x across cluster]\u001b[0m\n",
            "\u001b[2m\u001b[36m(launch_and_fit pid=2405)\u001b[0m [Client 12] fit, config: {'current_round': 50, 'local_epochs': 3}\u001b[32m [repeated 9x across cluster]\u001b[0m\n"
          ]
        },
        {
          "output_type": "stream",
          "name": "stderr",
          "text": [
            "DEBUG flower 2023-07-19 14:20:14,466 | server.py:170 | evaluate_round received 0 results and 30 failures\n",
            "DEBUG:flower:evaluate_round received 0 results and 30 failures\n",
            "DEBUG flower 2023-07-19 14:20:14,478 | server.py:203 | fit_round: strategy sampled 30 clients (out of 100)\n",
            "DEBUG:flower:fit_round: strategy sampled 30 clients (out of 100)\n"
          ]
        },
        {
          "output_type": "stream",
          "name": "stdout",
          "text": [
            "\u001b[2m\u001b[36m(launch_and_evaluate pid=2405)\u001b[0m [Client 89] evaluate, config: {}\u001b[32m [repeated 29x across cluster]\u001b[0m\n",
            "\u001b[2m\u001b[36m(launch_and_fit pid=2406)\u001b[0m Epoch 1: train loss 6.717179348925129e-05, accuracy 0.7777777777777778\u001b[32m [repeated 14x across cluster]\u001b[0m\n",
            "\u001b[2m\u001b[36m(launch_and_fit pid=2406)\u001b[0m [Client 22] fit, config: {'current_round': 51, 'local_epochs': 3}\u001b[32m [repeated 16x across cluster]\u001b[0m\n"
          ]
        },
        {
          "output_type": "stream",
          "name": "stderr",
          "text": [
            "DEBUG flower 2023-07-19 14:20:22,754 | server.py:216 | fit_round received 30 results and 0 failures\n",
            "DEBUG:flower:fit_round received 30 results and 0 failures\n",
            "DEBUG flower 2023-07-19 14:20:22,899 | server.py:157 | evaluate_round: strategy sampled 30 clients (out of 100)\n",
            "DEBUG:flower:evaluate_round: strategy sampled 30 clients (out of 100)\n"
          ]
        },
        {
          "output_type": "stream",
          "name": "stdout",
          "text": [
            "Saving round 51 aggregated_parameters...\n",
            "\u001b[2m\u001b[36m(launch_and_evaluate pid=2406)\u001b[0m [Client 63] evaluate, config: {}\n",
            "\u001b[2m\u001b[36m(launch_and_fit pid=2406)\u001b[0m Epoch 1: train loss 7.219836697913706e-05, accuracy 0.7592592592592593\u001b[32m [repeated 16x across cluster]\u001b[0m\n",
            "\u001b[2m\u001b[36m(launch_and_fit pid=2406)\u001b[0m [Client 19] fit, config: {'current_round': 51, 'local_epochs': 3}\u001b[32m [repeated 14x across cluster]\u001b[0m\n",
            "\u001b[2m\u001b[36m(launch_and_evaluate pid=2406)\u001b[0m [Client 11] evaluate, config: {}\n"
          ]
        },
        {
          "output_type": "stream",
          "name": "stderr",
          "text": [
            "DEBUG flower 2023-07-19 14:20:29,116 | server.py:170 | evaluate_round received 0 results and 30 failures\n",
            "DEBUG:flower:evaluate_round received 0 results and 30 failures\n",
            "DEBUG flower 2023-07-19 14:20:29,128 | server.py:203 | fit_round: strategy sampled 30 clients (out of 100)\n"
          ]
        },
        {
          "output_type": "stream",
          "name": "stdout",
          "text": [
            "\u001b[2m\u001b[36m(launch_and_evaluate pid=2406)\u001b[0m [Client 31] evaluate, config: {}\u001b[32m [repeated 23x across cluster]\u001b[0m\n"
          ]
        },
        {
          "output_type": "stream",
          "name": "stderr",
          "text": [
            "DEBUG:flower:fit_round: strategy sampled 30 clients (out of 100)\n"
          ]
        },
        {
          "output_type": "stream",
          "name": "stdout",
          "text": [
            "\u001b[2m\u001b[36m(launch_and_fit pid=2406)\u001b[0m [Client 49] fit, config: {'current_round': 52, 'local_epochs': 3}\n",
            "\u001b[2m\u001b[36m(launch_and_fit pid=2406)\u001b[0m Epoch 1: train loss 8.60336804180406e-05, accuracy 0.7037037037037037\n",
            "\u001b[2m\u001b[36m(launch_and_evaluate pid=2406)\u001b[0m [Client 81] evaluate, config: {}\u001b[32m [repeated 5x across cluster]\u001b[0m\n"
          ]
        },
        {
          "output_type": "stream",
          "name": "stderr",
          "text": [
            "DEBUG flower 2023-07-19 14:20:34,578 | server.py:216 | fit_round received 30 results and 0 failures\n",
            "DEBUG:flower:fit_round received 30 results and 0 failures\n",
            "DEBUG flower 2023-07-19 14:20:34,672 | server.py:157 | evaluate_round: strategy sampled 30 clients (out of 100)\n",
            "DEBUG:flower:evaluate_round: strategy sampled 30 clients (out of 100)\n"
          ]
        },
        {
          "output_type": "stream",
          "name": "stdout",
          "text": [
            "Saving round 52 aggregated_parameters...\n",
            "\u001b[2m\u001b[36m(launch_and_fit pid=2406)\u001b[0m [Client 70] fit, config: {'current_round': 52, 'local_epochs': 3}\u001b[32m [repeated 29x across cluster]\u001b[0m\n",
            "\u001b[2m\u001b[36m(launch_and_fit pid=2406)\u001b[0m Epoch 1: train loss 7.454156002495438e-05, accuracy 0.7407407407407407\u001b[32m [repeated 29x across cluster]\u001b[0m\n",
            "\u001b[2m\u001b[36m(launch_and_evaluate pid=2405)\u001b[0m [Client 33] evaluate, config: {}\u001b[32m [repeated 20x across cluster]\u001b[0m\n"
          ]
        },
        {
          "output_type": "stream",
          "name": "stderr",
          "text": [
            "DEBUG flower 2023-07-19 14:20:41,043 | server.py:170 | evaluate_round received 0 results and 30 failures\n",
            "DEBUG:flower:evaluate_round received 0 results and 30 failures\n",
            "DEBUG flower 2023-07-19 14:20:41,052 | server.py:203 | fit_round: strategy sampled 30 clients (out of 100)\n",
            "DEBUG:flower:fit_round: strategy sampled 30 clients (out of 100)\n"
          ]
        },
        {
          "output_type": "stream",
          "name": "stdout",
          "text": [
            "\u001b[2m\u001b[36m(launch_and_fit pid=2406)\u001b[0m [Client 85] fit, config: {'current_round': 53, 'local_epochs': 3}\n",
            "\u001b[2m\u001b[36m(launch_and_fit pid=2406)\u001b[0m Epoch 1: train loss 4.926964902551845e-05, accuracy 0.9074074074074074\n",
            "\u001b[2m\u001b[36m(launch_and_evaluate pid=2406)\u001b[0m [Client 58] evaluate, config: {}\u001b[32m [repeated 10x across cluster]\u001b[0m\n",
            "\u001b[2m\u001b[36m(launch_and_fit pid=2405)\u001b[0m [Client 51] fit, config: {'current_round': 53, 'local_epochs': 3}\u001b[32m [repeated 17x across cluster]\u001b[0m\n",
            "\u001b[2m\u001b[36m(launch_and_fit pid=2406)\u001b[0m Epoch 1: train loss 5.553576920647174e-05, accuracy 0.8703703703703703\u001b[32m [repeated 16x across cluster]\u001b[0m\n"
          ]
        },
        {
          "output_type": "stream",
          "name": "stderr",
          "text": [
            "DEBUG flower 2023-07-19 14:20:49,284 | server.py:216 | fit_round received 30 results and 0 failures\n",
            "DEBUG:flower:fit_round received 30 results and 0 failures\n",
            "DEBUG flower 2023-07-19 14:20:49,400 | server.py:157 | evaluate_round: strategy sampled 30 clients (out of 100)\n",
            "DEBUG:flower:evaluate_round: strategy sampled 30 clients (out of 100)\n"
          ]
        },
        {
          "output_type": "stream",
          "name": "stdout",
          "text": [
            "Saving round 53 aggregated_parameters...\n",
            "\u001b[2m\u001b[36m(launch_and_evaluate pid=2405)\u001b[0m [Client 62] evaluate, config: {}\n",
            "\u001b[2m\u001b[36m(launch_and_fit pid=2406)\u001b[0m [Client 56] fit, config: {'current_round': 53, 'local_epochs': 3}\u001b[32m [repeated 12x across cluster]\u001b[0m\n",
            "\u001b[2m\u001b[36m(launch_and_fit pid=2406)\u001b[0m Epoch 1: train loss 9.364509605802596e-05, accuracy 0.7407407407407407\u001b[32m [repeated 13x across cluster]\u001b[0m\n"
          ]
        },
        {
          "output_type": "stream",
          "name": "stderr",
          "text": [
            "DEBUG flower 2023-07-19 14:20:53,939 | server.py:170 | evaluate_round received 0 results and 30 failures\n",
            "DEBUG:flower:evaluate_round received 0 results and 30 failures\n",
            "DEBUG flower 2023-07-19 14:20:53,944 | server.py:203 | fit_round: strategy sampled 30 clients (out of 100)\n",
            "DEBUG:flower:fit_round: strategy sampled 30 clients (out of 100)\n"
          ]
        },
        {
          "output_type": "stream",
          "name": "stdout",
          "text": [
            "\u001b[2m\u001b[36m(launch_and_evaluate pid=2406)\u001b[0m [Client 55] evaluate, config: {}\u001b[32m [repeated 29x across cluster]\u001b[0m\n",
            "\u001b[2m\u001b[36m(launch_and_fit pid=2406)\u001b[0m [Client 42] fit, config: {'current_round': 54, 'local_epochs': 3}\u001b[32m [repeated 17x across cluster]\u001b[0m\n",
            "\u001b[2m\u001b[36m(launch_and_fit pid=2406)\u001b[0m Epoch 1: train loss 6.068652146495879e-05, accuracy 0.7592592592592593\u001b[32m [repeated 15x across cluster]\u001b[0m\n"
          ]
        },
        {
          "output_type": "stream",
          "name": "stderr",
          "text": [
            "DEBUG flower 2023-07-19 14:21:00,420 | server.py:216 | fit_round received 30 results and 0 failures\n",
            "DEBUG:flower:fit_round received 30 results and 0 failures\n",
            "DEBUG flower 2023-07-19 14:21:00,578 | server.py:157 | evaluate_round: strategy sampled 30 clients (out of 100)\n",
            "DEBUG:flower:evaluate_round: strategy sampled 30 clients (out of 100)\n"
          ]
        },
        {
          "output_type": "stream",
          "name": "stdout",
          "text": [
            "Saving round 54 aggregated_parameters...\n",
            "\u001b[2m\u001b[36m(launch_and_evaluate pid=2406)\u001b[0m [Client 62] evaluate, config: {}\n",
            "\u001b[2m\u001b[36m(launch_and_fit pid=2406)\u001b[0m [Client 40] fit, config: {'current_round': 54, 'local_epochs': 3}\u001b[32m [repeated 13x across cluster]\u001b[0m\n",
            "\u001b[2m\u001b[36m(launch_and_fit pid=2406)\u001b[0m Epoch 1: train loss 4.651490962714888e-05, accuracy 0.7962962962962963\u001b[32m [repeated 15x across cluster]\u001b[0m\n",
            "\u001b[2m\u001b[36m(launch_and_evaluate pid=2406)\u001b[0m [Client 31] evaluate, config: {}\u001b[32m [repeated 21x across cluster]\u001b[0m\n"
          ]
        },
        {
          "output_type": "stream",
          "name": "stderr",
          "text": [
            "DEBUG flower 2023-07-19 14:21:08,419 | server.py:170 | evaluate_round received 0 results and 30 failures\n",
            "DEBUG:flower:evaluate_round received 0 results and 30 failures\n",
            "DEBUG flower 2023-07-19 14:21:08,429 | server.py:203 | fit_round: strategy sampled 30 clients (out of 100)\n",
            "DEBUG:flower:fit_round: strategy sampled 30 clients (out of 100)\n"
          ]
        },
        {
          "output_type": "stream",
          "name": "stdout",
          "text": [
            "\u001b[2m\u001b[36m(launch_and_fit pid=2405)\u001b[0m [Client 70] fit, config: {'current_round': 55, 'local_epochs': 3}\n",
            "\u001b[2m\u001b[36m(launch_and_fit pid=2405)\u001b[0m Epoch 1: train loss 7.218070095404983e-05, accuracy 0.7407407407407407\n",
            "\u001b[2m\u001b[36m(launch_and_evaluate pid=2405)\u001b[0m [Client 51] evaluate, config: {}\u001b[32m [repeated 8x across cluster]\u001b[0m\n"
          ]
        },
        {
          "output_type": "stream",
          "name": "stderr",
          "text": [
            "DEBUG flower 2023-07-19 14:21:14,147 | server.py:216 | fit_round received 30 results and 0 failures\n",
            "DEBUG:flower:fit_round received 30 results and 0 failures\n",
            "DEBUG flower 2023-07-19 14:21:14,246 | server.py:157 | evaluate_round: strategy sampled 30 clients (out of 100)\n",
            "DEBUG:flower:evaluate_round: strategy sampled 30 clients (out of 100)\n"
          ]
        },
        {
          "output_type": "stream",
          "name": "stdout",
          "text": [
            "Saving round 55 aggregated_parameters...\n",
            "\u001b[2m\u001b[36m(launch_and_fit pid=2406)\u001b[0m [Client 45] fit, config: {'current_round': 55, 'local_epochs': 3}\u001b[32m [repeated 29x across cluster]\u001b[0m\n",
            "\u001b[2m\u001b[36m(launch_and_fit pid=2406)\u001b[0m Epoch 1: train loss 6.530845712404698e-05, accuracy 0.7592592592592593\u001b[32m [repeated 29x across cluster]\u001b[0m\n",
            "\u001b[2m\u001b[36m(launch_and_evaluate pid=2405)\u001b[0m [Client 11] evaluate, config: {}\u001b[32m [repeated 15x across cluster]\u001b[0m\n"
          ]
        },
        {
          "output_type": "stream",
          "name": "stderr",
          "text": [
            "DEBUG flower 2023-07-19 14:21:19,219 | server.py:170 | evaluate_round received 0 results and 30 failures\n",
            "DEBUG:flower:evaluate_round received 0 results and 30 failures\n",
            "DEBUG flower 2023-07-19 14:21:19,223 | server.py:203 | fit_round: strategy sampled 30 clients (out of 100)\n",
            "DEBUG:flower:fit_round: strategy sampled 30 clients (out of 100)\n"
          ]
        },
        {
          "output_type": "stream",
          "name": "stdout",
          "text": [
            "\u001b[2m\u001b[36m(launch_and_fit pid=2405)\u001b[0m [Client 89] fit, config: {'current_round': 56, 'local_epochs': 3}\n",
            "\u001b[2m\u001b[36m(launch_and_fit pid=2406)\u001b[0m [Client 9] fit, config: {'current_round': 56, 'local_epochs': 3}\n",
            "\u001b[2m\u001b[36m(launch_and_fit pid=2405)\u001b[0m Epoch 1: train loss 6.802486313972622e-05, accuracy 0.7222222222222222\n",
            "\u001b[2m\u001b[36m(launch_and_evaluate pid=2406)\u001b[0m [Client 29] evaluate, config: {}\u001b[32m [repeated 15x across cluster]\u001b[0m\n",
            "\u001b[2m\u001b[36m(launch_and_fit pid=2405)\u001b[0m [Client 4] fit, config: {'current_round': 56, 'local_epochs': 3}\u001b[32m [repeated 16x across cluster]\u001b[0m\n",
            "\u001b[2m\u001b[36m(launch_and_fit pid=2406)\u001b[0m Epoch 1: train loss 8.242885087383911e-05, accuracy 0.7407407407407407\u001b[32m [repeated 16x across cluster]\u001b[0m\n"
          ]
        },
        {
          "output_type": "stream",
          "name": "stderr",
          "text": [
            "DEBUG flower 2023-07-19 14:21:29,135 | server.py:216 | fit_round received 30 results and 0 failures\n",
            "DEBUG:flower:fit_round received 30 results and 0 failures\n",
            "DEBUG flower 2023-07-19 14:21:29,237 | server.py:157 | evaluate_round: strategy sampled 30 clients (out of 100)\n",
            "DEBUG:flower:evaluate_round: strategy sampled 30 clients (out of 100)\n"
          ]
        },
        {
          "output_type": "stream",
          "name": "stdout",
          "text": [
            "Saving round 56 aggregated_parameters...\n",
            "\u001b[2m\u001b[36m(launch_and_evaluate pid=2405)\u001b[0m [Client 1] evaluate, config: {}\n",
            "\u001b[2m\u001b[36m(launch_and_fit pid=2405)\u001b[0m [Client 64] fit, config: {'current_round': 56, 'local_epochs': 3}\u001b[32m [repeated 12x across cluster]\u001b[0m\n",
            "\u001b[2m\u001b[36m(launch_and_fit pid=2405)\u001b[0m Epoch 1: train loss 7.362687756540254e-05, accuracy 0.7222222222222222\u001b[32m [repeated 13x across cluster]\u001b[0m\n"
          ]
        },
        {
          "output_type": "stream",
          "name": "stderr",
          "text": [
            "DEBUG flower 2023-07-19 14:21:34,073 | server.py:170 | evaluate_round received 0 results and 30 failures\n",
            "DEBUG:flower:evaluate_round received 0 results and 30 failures\n",
            "DEBUG flower 2023-07-19 14:21:34,078 | server.py:203 | fit_round: strategy sampled 30 clients (out of 100)\n",
            "DEBUG:flower:fit_round: strategy sampled 30 clients (out of 100)\n"
          ]
        },
        {
          "output_type": "stream",
          "name": "stdout",
          "text": [
            "\u001b[2m\u001b[36m(launch_and_evaluate pid=2405)\u001b[0m [Client 3] evaluate, config: {}\u001b[32m [repeated 29x across cluster]\u001b[0m\n",
            "\u001b[2m\u001b[36m(launch_and_fit pid=2406)\u001b[0m [Client 21] fit, config: {'current_round': 57, 'local_epochs': 3}\u001b[32m [repeated 5x across cluster]\u001b[0m\n",
            "\u001b[2m\u001b[36m(launch_and_fit pid=2405)\u001b[0m Epoch 1: train loss 5.461890032165684e-05, accuracy 0.8888888888888888\u001b[32m [repeated 5x across cluster]\u001b[0m\n"
          ]
        },
        {
          "output_type": "stream",
          "name": "stderr",
          "text": [
            "DEBUG flower 2023-07-19 14:21:40,733 | server.py:216 | fit_round received 30 results and 0 failures\n",
            "DEBUG:flower:fit_round received 30 results and 0 failures\n",
            "DEBUG flower 2023-07-19 14:21:40,883 | server.py:157 | evaluate_round: strategy sampled 30 clients (out of 100)\n",
            "DEBUG:flower:evaluate_round: strategy sampled 30 clients (out of 100)\n"
          ]
        },
        {
          "output_type": "stream",
          "name": "stdout",
          "text": [
            "Saving round 57 aggregated_parameters...\n",
            "\u001b[2m\u001b[36m(launch_and_evaluate pid=2406)\u001b[0m [Client 40] evaluate, config: {}\n",
            "\u001b[2m\u001b[36m(launch_and_fit pid=2405)\u001b[0m [Client 86] fit, config: {'current_round': 57, 'local_epochs': 3}\u001b[32m [repeated 25x across cluster]\u001b[0m\n",
            "\u001b[2m\u001b[36m(launch_and_fit pid=2406)\u001b[0m Epoch 1: train loss 4.018084655399434e-05, accuracy 0.9444444444444444\u001b[32m [repeated 25x across cluster]\u001b[0m\n",
            "\u001b[2m\u001b[36m(launch_and_evaluate pid=2405)\u001b[0m [Client 76] evaluate, config: {}\u001b[32m [repeated 19x across cluster]\u001b[0m\n"
          ]
        },
        {
          "output_type": "stream",
          "name": "stderr",
          "text": [
            "DEBUG flower 2023-07-19 14:21:48,882 | server.py:170 | evaluate_round received 0 results and 30 failures\n",
            "DEBUG:flower:evaluate_round received 0 results and 30 failures\n",
            "DEBUG flower 2023-07-19 14:21:48,888 | server.py:203 | fit_round: strategy sampled 30 clients (out of 100)\n",
            "DEBUG:flower:fit_round: strategy sampled 30 clients (out of 100)\n"
          ]
        },
        {
          "output_type": "stream",
          "name": "stdout",
          "text": [
            "\u001b[2m\u001b[36m(launch_and_fit pid=2405)\u001b[0m [Client 19] fit, config: {'current_round': 58, 'local_epochs': 3}\n",
            "\u001b[2m\u001b[36m(launch_and_fit pid=2405)\u001b[0m Epoch 1: train loss 4.456373062566854e-05, accuracy 0.7962962962962963\n",
            "\u001b[2m\u001b[36m(launch_and_fit pid=2405)\u001b[0m [Client 35] fit, config: {'current_round': 58, 'local_epochs': 3}\n",
            "\u001b[2m\u001b[36m(launch_and_fit pid=2405)\u001b[0m Epoch 1: train loss 8.295768202515319e-05, accuracy 0.6666666666666666\n",
            "\u001b[2m\u001b[36m(launch_and_evaluate pid=2405)\u001b[0m [Client 96] evaluate, config: {}\u001b[32m [repeated 10x across cluster]\u001b[0m\n"
          ]
        },
        {
          "output_type": "stream",
          "name": "stderr",
          "text": [
            "DEBUG flower 2023-07-19 14:21:54,430 | server.py:216 | fit_round received 30 results and 0 failures\n",
            "DEBUG:flower:fit_round received 30 results and 0 failures\n",
            "DEBUG flower 2023-07-19 14:21:54,529 | server.py:157 | evaluate_round: strategy sampled 30 clients (out of 100)\n",
            "DEBUG:flower:evaluate_round: strategy sampled 30 clients (out of 100)\n"
          ]
        },
        {
          "output_type": "stream",
          "name": "stdout",
          "text": [
            "Saving round 58 aggregated_parameters...\n",
            "\u001b[2m\u001b[36m(launch_and_fit pid=2406)\u001b[0m [Client 32] fit, config: {'current_round': 58, 'local_epochs': 3}\u001b[32m [repeated 28x across cluster]\u001b[0m\n",
            "\u001b[2m\u001b[36m(launch_and_fit pid=2406)\u001b[0m Epoch 1: train loss 7.300649303942919e-05, accuracy 0.7222222222222222\u001b[32m [repeated 28x across cluster]\u001b[0m\n",
            "\u001b[2m\u001b[36m(launch_and_evaluate pid=2406)\u001b[0m [Client 96] evaluate, config: {}\u001b[32m [repeated 12x across cluster]\u001b[0m\n"
          ]
        },
        {
          "output_type": "stream",
          "name": "stderr",
          "text": [
            "DEBUG flower 2023-07-19 14:21:59,622 | server.py:170 | evaluate_round received 0 results and 30 failures\n",
            "DEBUG:flower:evaluate_round received 0 results and 30 failures\n",
            "DEBUG flower 2023-07-19 14:21:59,627 | server.py:203 | fit_round: strategy sampled 30 clients (out of 100)\n",
            "DEBUG:flower:fit_round: strategy sampled 30 clients (out of 100)\n"
          ]
        },
        {
          "output_type": "stream",
          "name": "stdout",
          "text": [
            "\u001b[2m\u001b[36m(launch_and_fit pid=2405)\u001b[0m [Client 11] fit, config: {'current_round': 59, 'local_epochs': 3}\n",
            "\u001b[2m\u001b[36m(launch_and_fit pid=2406)\u001b[0m [Client 14] fit, config: {'current_round': 59, 'local_epochs': 3}\n",
            "\u001b[2m\u001b[36m(launch_and_fit pid=2405)\u001b[0m Epoch 1: train loss 5.934898217674345e-05, accuracy 0.8333333333333334\n",
            "\u001b[2m\u001b[36m(launch_and_evaluate pid=2406)\u001b[0m [Client 98] evaluate, config: {}\u001b[32m [repeated 18x across cluster]\u001b[0m\n",
            "\u001b[2m\u001b[36m(launch_and_fit pid=2405)\u001b[0m [Client 34] fit, config: {'current_round': 59, 'local_epochs': 3}\u001b[32m [repeated 14x across cluster]\u001b[0m\n",
            "\u001b[2m\u001b[36m(launch_and_fit pid=2406)\u001b[0m Epoch 1: train loss 6.664408283540979e-05, accuracy 0.7777777777777778\u001b[32m [repeated 16x across cluster]\u001b[0m\n"
          ]
        },
        {
          "output_type": "stream",
          "name": "stderr",
          "text": [
            "DEBUG flower 2023-07-19 14:22:09,342 | server.py:216 | fit_round received 30 results and 0 failures\n",
            "DEBUG:flower:fit_round received 30 results and 0 failures\n",
            "DEBUG flower 2023-07-19 14:22:09,481 | server.py:157 | evaluate_round: strategy sampled 30 clients (out of 100)\n",
            "DEBUG:flower:evaluate_round: strategy sampled 30 clients (out of 100)\n"
          ]
        },
        {
          "output_type": "stream",
          "name": "stdout",
          "text": [
            "Saving round 59 aggregated_parameters...\n",
            "\u001b[2m\u001b[36m(launch_and_evaluate pid=2406)\u001b[0m [Client 62] evaluate, config: {}\n",
            "\u001b[2m\u001b[36m(launch_and_evaluate pid=2406)\u001b[0m [Client 26] evaluate, config: {}\n",
            "\u001b[2m\u001b[36m(launch_and_evaluate pid=2406)\u001b[0m [Client 39] evaluate, config: {}\n",
            "\u001b[2m\u001b[36m(launch_and_evaluate pid=2406)\u001b[0m [Client 81] evaluate, config: {}\n",
            "\u001b[2m\u001b[36m(launch_and_evaluate pid=2406)\u001b[0m [Client 34] evaluate, config: {}\n",
            "\u001b[2m\u001b[36m(launch_and_fit pid=2406)\u001b[0m [Client 48] fit, config: {'current_round': 59, 'local_epochs': 3}\u001b[32m [repeated 14x across cluster]\u001b[0m\n",
            "\u001b[2m\u001b[36m(launch_and_fit pid=2406)\u001b[0m Epoch 1: train loss 5.715165025321767e-05, accuracy 0.8703703703703703\u001b[32m [repeated 13x across cluster]\u001b[0m\n"
          ]
        },
        {
          "output_type": "stream",
          "name": "stderr",
          "text": [
            "DEBUG flower 2023-07-19 14:22:14,442 | server.py:170 | evaluate_round received 0 results and 30 failures\n",
            "DEBUG:flower:evaluate_round received 0 results and 30 failures\n",
            "DEBUG flower 2023-07-19 14:22:14,446 | server.py:203 | fit_round: strategy sampled 30 clients (out of 100)\n",
            "DEBUG:flower:fit_round: strategy sampled 30 clients (out of 100)\n"
          ]
        },
        {
          "output_type": "stream",
          "name": "stdout",
          "text": [
            "\u001b[2m\u001b[36m(launch_and_evaluate pid=2406)\u001b[0m [Client 47] evaluate, config: {}\u001b[32m [repeated 25x across cluster]\u001b[0m\n",
            "\u001b[2m\u001b[36m(launch_and_fit pid=2405)\u001b[0m [Client 34] fit, config: {'current_round': 60, 'local_epochs': 3}\u001b[32m [repeated 5x across cluster]\u001b[0m\n",
            "\u001b[2m\u001b[36m(launch_and_fit pid=2405)\u001b[0m Epoch 1: train loss 8.39003041619435e-05, accuracy 0.7592592592592593\u001b[32m [repeated 7x across cluster]\u001b[0m\n"
          ]
        },
        {
          "output_type": "stream",
          "name": "stderr",
          "text": [
            "DEBUG flower 2023-07-19 14:22:21,161 | server.py:216 | fit_round received 30 results and 0 failures\n",
            "DEBUG:flower:fit_round received 30 results and 0 failures\n",
            "DEBUG flower 2023-07-19 14:22:21,320 | server.py:157 | evaluate_round: strategy sampled 30 clients (out of 100)\n",
            "DEBUG:flower:evaluate_round: strategy sampled 30 clients (out of 100)\n"
          ]
        },
        {
          "output_type": "stream",
          "name": "stdout",
          "text": [
            "\u001b[2m\u001b[36m(launch_and_fit pid=2406)\u001b[0m [Client 82] fit, config: {'current_round': 60, 'local_epochs': 3}\u001b[32m [repeated 25x across cluster]\u001b[0m\n",
            "Saving round 60 aggregated_parameters...\n",
            "\u001b[2m\u001b[36m(launch_and_evaluate pid=2406)\u001b[0m [Client 17] evaluate, config: {}\n",
            "\u001b[2m\u001b[36m(launch_and_fit pid=2406)\u001b[0m Epoch 1: train loss 7.939941860968247e-05, accuracy 0.7222222222222222\u001b[32m [repeated 23x across cluster]\u001b[0m\n",
            "\u001b[2m\u001b[36m(launch_and_evaluate pid=2406)\u001b[0m [Client 43] evaluate, config: {}\u001b[32m [repeated 23x across cluster]\u001b[0m\n"
          ]
        },
        {
          "output_type": "stream",
          "name": "stderr",
          "text": [
            "DEBUG flower 2023-07-19 14:22:28,281 | server.py:170 | evaluate_round received 0 results and 30 failures\n",
            "DEBUG:flower:evaluate_round received 0 results and 30 failures\n",
            "DEBUG flower 2023-07-19 14:22:28,291 | server.py:203 | fit_round: strategy sampled 30 clients (out of 100)\n",
            "DEBUG:flower:fit_round: strategy sampled 30 clients (out of 100)\n"
          ]
        },
        {
          "output_type": "stream",
          "name": "stdout",
          "text": [
            "\u001b[2m\u001b[36m(launch_and_fit pid=2405)\u001b[0m [Client 56] fit, config: {'current_round': 61, 'local_epochs': 3}\n",
            "\u001b[2m\u001b[36m(launch_and_fit pid=2406)\u001b[0m Epoch 1: train loss 5.00001733598765e-05, accuracy 0.8703703703703703\n",
            "\u001b[2m\u001b[36m(launch_and_evaluate pid=2405)\u001b[0m [Client 77] evaluate, config: {}\u001b[32m [repeated 6x across cluster]\u001b[0m\n",
            "\u001b[2m\u001b[36m(launch_and_fit pid=2406)\u001b[0m [Client 23] fit, config: {'current_round': 61, 'local_epochs': 3}\u001b[32m [repeated 26x across cluster]\u001b[0m\n",
            "\u001b[2m\u001b[36m(launch_and_fit pid=2405)\u001b[0m Epoch 1: train loss 6.27902991254814e-05, accuracy 0.8148148148148148\u001b[32m [repeated 27x across cluster]\u001b[0m\n"
          ]
        },
        {
          "output_type": "stream",
          "name": "stderr",
          "text": [
            "DEBUG flower 2023-07-19 14:22:34,760 | server.py:216 | fit_round received 30 results and 0 failures\n",
            "DEBUG:flower:fit_round received 30 results and 0 failures\n",
            "DEBUG flower 2023-07-19 14:22:34,862 | server.py:157 | evaluate_round: strategy sampled 30 clients (out of 100)\n",
            "DEBUG:flower:evaluate_round: strategy sampled 30 clients (out of 100)\n"
          ]
        },
        {
          "output_type": "stream",
          "name": "stdout",
          "text": [
            "Saving round 61 aggregated_parameters...\n",
            "\u001b[2m\u001b[36m(launch_and_evaluate pid=2406)\u001b[0m [Client 92] evaluate, config: {}\u001b[32m [repeated 14x across cluster]\u001b[0m\n",
            "\u001b[2m\u001b[36m(launch_and_fit pid=2406)\u001b[0m [Client 43] fit, config: {'current_round': 61, 'local_epochs': 3}\u001b[32m [repeated 3x across cluster]\u001b[0m\n",
            "\u001b[2m\u001b[36m(launch_and_fit pid=2405)\u001b[0m Epoch 1: train loss 4.9429840146331117e-05, accuracy 0.9259259259259259\u001b[32m [repeated 2x across cluster]\u001b[0m\n"
          ]
        },
        {
          "output_type": "stream",
          "name": "stderr",
          "text": [
            "DEBUG flower 2023-07-19 14:22:39,817 | server.py:170 | evaluate_round received 0 results and 30 failures\n",
            "DEBUG:flower:evaluate_round received 0 results and 30 failures\n",
            "DEBUG flower 2023-07-19 14:22:39,821 | server.py:203 | fit_round: strategy sampled 30 clients (out of 100)\n",
            "DEBUG:flower:fit_round: strategy sampled 30 clients (out of 100)\n"
          ]
        },
        {
          "output_type": "stream",
          "name": "stdout",
          "text": [
            "\u001b[2m\u001b[36m(launch_and_evaluate pid=2406)\u001b[0m [Client 83] evaluate, config: {}\u001b[32m [repeated 16x across cluster]\u001b[0m\n",
            "\u001b[2m\u001b[36m(launch_and_fit pid=2405)\u001b[0m [Client 50] fit, config: {'current_round': 62, 'local_epochs': 3}\u001b[32m [repeated 14x across cluster]\u001b[0m\n",
            "\u001b[2m\u001b[36m(launch_and_fit pid=2405)\u001b[0m Epoch 1: train loss 7.613951311213896e-05, accuracy 0.7407407407407407\u001b[32m [repeated 14x across cluster]\u001b[0m\n",
            "\u001b[2m\u001b[36m(launch_and_fit pid=2405)\u001b[0m \n"
          ]
        },
        {
          "output_type": "stream",
          "name": "stderr",
          "text": [
            "DEBUG flower 2023-07-19 14:22:48,463 | server.py:216 | fit_round received 30 results and 0 failures\n",
            "DEBUG:flower:fit_round received 30 results and 0 failures\n",
            "DEBUG flower 2023-07-19 14:22:48,606 | server.py:157 | evaluate_round: strategy sampled 30 clients (out of 100)\n",
            "DEBUG:flower:evaluate_round: strategy sampled 30 clients (out of 100)\n"
          ]
        },
        {
          "output_type": "stream",
          "name": "stdout",
          "text": [
            "Saving round 62 aggregated_parameters...\n",
            "\u001b[2m\u001b[36m(launch_and_evaluate pid=2405)\u001b[0m [Client 71] evaluate, config: {}\n",
            "\u001b[2m\u001b[36m(launch_and_evaluate pid=2405)\u001b[0m [Client 34] evaluate, config: {}\n",
            "\u001b[2m\u001b[36m(launch_and_fit pid=2406)\u001b[0m [Client 22] fit, config: {'current_round': 62, 'local_epochs': 3}\u001b[32m [repeated 16x across cluster]\u001b[0m\n",
            "\u001b[2m\u001b[36m(launch_and_fit pid=2406)\u001b[0m Epoch 1: train loss 7.522660598624498e-05, accuracy 0.7592592592592593\u001b[32m [repeated 16x across cluster]\u001b[0m\n"
          ]
        },
        {
          "output_type": "stream",
          "name": "stderr",
          "text": [
            "DEBUG flower 2023-07-19 14:22:53,740 | server.py:170 | evaluate_round received 0 results and 30 failures\n",
            "DEBUG:flower:evaluate_round received 0 results and 30 failures\n",
            "DEBUG flower 2023-07-19 14:22:53,749 | server.py:203 | fit_round: strategy sampled 30 clients (out of 100)\n",
            "DEBUG:flower:fit_round: strategy sampled 30 clients (out of 100)\n"
          ]
        },
        {
          "output_type": "stream",
          "name": "stdout",
          "text": [
            "\u001b[2m\u001b[36m(launch_and_evaluate pid=2405)\u001b[0m [Client 32] evaluate, config: {}\u001b[32m [repeated 28x across cluster]\u001b[0m\n",
            "\u001b[2m\u001b[36m(launch_and_fit pid=2406)\u001b[0m [Client 56] fit, config: {'current_round': 63, 'local_epochs': 3}\u001b[32m [repeated 3x across cluster]\u001b[0m\n",
            "\u001b[2m\u001b[36m(launch_and_fit pid=2406)\u001b[0m Epoch 1: train loss 6.840965215815231e-05, accuracy 0.7962962962962963\u001b[32m [repeated 2x across cluster]\u001b[0m\n"
          ]
        },
        {
          "output_type": "stream",
          "name": "stderr",
          "text": [
            "DEBUG flower 2023-07-19 14:22:59,792 | server.py:216 | fit_round received 30 results and 0 failures\n",
            "DEBUG:flower:fit_round received 30 results and 0 failures\n",
            "DEBUG flower 2023-07-19 14:22:59,900 | server.py:157 | evaluate_round: strategy sampled 30 clients (out of 100)\n",
            "DEBUG:flower:evaluate_round: strategy sampled 30 clients (out of 100)\n"
          ]
        },
        {
          "output_type": "stream",
          "name": "stdout",
          "text": [
            "Saving round 63 aggregated_parameters...\n",
            "\u001b[2m\u001b[36m(launch_and_evaluate pid=2405)\u001b[0m [Client 39] evaluate, config: {}\n",
            "\u001b[2m\u001b[36m(launch_and_fit pid=2406)\u001b[0m [Client 63] fit, config: {'current_round': 63, 'local_epochs': 3}\u001b[32m [repeated 27x across cluster]\u001b[0m\n",
            "\u001b[2m\u001b[36m(launch_and_fit pid=2406)\u001b[0m Epoch 1: train loss 4.837162123294547e-05, accuracy 0.8703703703703703\u001b[32m [repeated 28x across cluster]\u001b[0m\n",
            "\u001b[2m\u001b[36m(launch_and_evaluate pid=2405)\u001b[0m [Client 62] evaluate, config: {}\u001b[32m [repeated 23x across cluster]\u001b[0m\n"
          ]
        },
        {
          "output_type": "stream",
          "name": "stderr",
          "text": [
            "DEBUG flower 2023-07-19 14:23:07,056 | server.py:170 | evaluate_round received 0 results and 30 failures\n",
            "DEBUG:flower:evaluate_round received 0 results and 30 failures\n",
            "DEBUG flower 2023-07-19 14:23:07,063 | server.py:203 | fit_round: strategy sampled 30 clients (out of 100)\n",
            "DEBUG:flower:fit_round: strategy sampled 30 clients (out of 100)\n"
          ]
        },
        {
          "output_type": "stream",
          "name": "stdout",
          "text": [
            "\u001b[2m\u001b[36m(launch_and_fit pid=2405)\u001b[0m [Client 80] fit, config: {'current_round': 64, 'local_epochs': 3}\n",
            "\u001b[2m\u001b[36m(launch_and_fit pid=2406)\u001b[0m Epoch 1: train loss 7.205115252872929e-05, accuracy 0.7962962962962963\n",
            "\u001b[2m\u001b[36m(launch_and_evaluate pid=2405)\u001b[0m [Client 36] evaluate, config: {}\u001b[32m [repeated 6x across cluster]\u001b[0m\n",
            "\u001b[2m\u001b[36m(launch_and_fit pid=2405)\u001b[0m [Client 85] fit, config: {'current_round': 64, 'local_epochs': 3}\u001b[32m [repeated 22x across cluster]\u001b[0m\n",
            "\u001b[2m\u001b[36m(launch_and_fit pid=2406)\u001b[0m Epoch 1: train loss 8.187317871488631e-05, accuracy 0.7037037037037037\u001b[32m [repeated 21x across cluster]\u001b[0m\n"
          ]
        },
        {
          "output_type": "stream",
          "name": "stderr",
          "text": [
            "DEBUG flower 2023-07-19 14:23:14,227 | server.py:216 | fit_round received 30 results and 0 failures\n",
            "DEBUG:flower:fit_round received 30 results and 0 failures\n",
            "DEBUG flower 2023-07-19 14:23:14,338 | server.py:157 | evaluate_round: strategy sampled 30 clients (out of 100)\n",
            "DEBUG:flower:evaluate_round: strategy sampled 30 clients (out of 100)\n"
          ]
        },
        {
          "output_type": "stream",
          "name": "stdout",
          "text": [
            "Saving round 64 aggregated_parameters...\n",
            "\u001b[2m\u001b[36m(launch_and_evaluate pid=2405)\u001b[0m [Client 90] evaluate, config: {}\u001b[32m [repeated 7x across cluster]\u001b[0m\n",
            "\u001b[2m\u001b[36m(launch_and_fit pid=2406)\u001b[0m [Client 38] fit, config: {'current_round': 64, 'local_epochs': 3}\u001b[32m [repeated 7x across cluster]\u001b[0m\n",
            "\u001b[2m\u001b[36m(launch_and_evaluate pid=2406)\u001b[0m \n",
            "\u001b[2m\u001b[36m(launch_and_fit pid=2406)\u001b[0m Epoch 1: train loss 5.293671347317286e-05, accuracy 0.8518518518518519\u001b[32m [repeated 8x across cluster]\u001b[0m\n"
          ]
        },
        {
          "output_type": "stream",
          "name": "stderr",
          "text": [
            "DEBUG flower 2023-07-19 14:23:19,437 | server.py:170 | evaluate_round received 0 results and 30 failures\n",
            "DEBUG:flower:evaluate_round received 0 results and 30 failures\n",
            "DEBUG flower 2023-07-19 14:23:19,442 | server.py:203 | fit_round: strategy sampled 30 clients (out of 100)\n",
            "DEBUG:flower:fit_round: strategy sampled 30 clients (out of 100)\n"
          ]
        },
        {
          "output_type": "stream",
          "name": "stdout",
          "text": [
            "\u001b[2m\u001b[36m(launch_and_evaluate pid=2406)\u001b[0m [Client 57] evaluate, config: {}\u001b[32m [repeated 23x across cluster]\u001b[0m\n",
            "\u001b[2m\u001b[36m(launch_and_fit pid=2405)\u001b[0m [Client 60] fit, config: {'current_round': 65, 'local_epochs': 3}\u001b[32m [repeated 13x across cluster]\u001b[0m\n",
            "\u001b[2m\u001b[36m(launch_and_fit pid=2406)\u001b[0m Epoch 1: train loss 5.4873424232937396e-05, accuracy 0.8888888888888888\u001b[32m [repeated 13x across cluster]\u001b[0m\n"
          ]
        },
        {
          "output_type": "stream",
          "name": "stderr",
          "text": [
            "DEBUG flower 2023-07-19 14:23:28,229 | server.py:216 | fit_round received 30 results and 0 failures\n",
            "DEBUG:flower:fit_round received 30 results and 0 failures\n",
            "DEBUG flower 2023-07-19 14:23:28,445 | server.py:157 | evaluate_round: strategy sampled 30 clients (out of 100)\n",
            "DEBUG:flower:evaluate_round: strategy sampled 30 clients (out of 100)\n"
          ]
        },
        {
          "output_type": "stream",
          "name": "stdout",
          "text": [
            "Saving round 65 aggregated_parameters...\n",
            "\u001b[2m\u001b[36m(launch_and_evaluate pid=2405)\u001b[0m [Client 47] evaluate, config: {}\n",
            "\u001b[2m\u001b[36m(launch_and_fit pid=2405)\u001b[0m [Client 61] fit, config: {'current_round': 65, 'local_epochs': 3}\u001b[32m [repeated 17x across cluster]\u001b[0m\n",
            "\u001b[2m\u001b[36m(launch_and_fit pid=2405)\u001b[0m Epoch 1: train loss 6.0904741985723376e-05, accuracy 0.8518518518518519\u001b[32m [repeated 17x across cluster]\u001b[0m\n",
            "\u001b[2m\u001b[36m(launch_and_evaluate pid=2406)\u001b[0m [Client 98] evaluate, config: {}\u001b[32m [repeated 17x across cluster]\u001b[0m\n"
          ]
        },
        {
          "output_type": "stream",
          "name": "stderr",
          "text": [
            "DEBUG flower 2023-07-19 14:23:37,247 | server.py:170 | evaluate_round received 0 results and 30 failures\n",
            "DEBUG:flower:evaluate_round received 0 results and 30 failures\n",
            "DEBUG flower 2023-07-19 14:23:37,257 | server.py:203 | fit_round: strategy sampled 30 clients (out of 100)\n",
            "DEBUG:flower:fit_round: strategy sampled 30 clients (out of 100)\n"
          ]
        },
        {
          "output_type": "stream",
          "name": "stdout",
          "text": [
            "\u001b[2m\u001b[36m(launch_and_fit pid=2405)\u001b[0m [Client 43] fit, config: {'current_round': 66, 'local_epochs': 3}\n",
            "\u001b[2m\u001b[36m(launch_and_fit pid=2405)\u001b[0m Epoch 1: train loss 7.380537135759369e-05, accuracy 0.7222222222222222\n",
            "\u001b[2m\u001b[36m(launch_and_evaluate pid=2406)\u001b[0m [Client 75] evaluate, config: {}\u001b[32m [repeated 12x across cluster]\u001b[0m\n",
            "\u001b[2m\u001b[36m(launch_and_fit pid=2406)\u001b[0m [Client 51] fit, config: {'current_round': 66, 'local_epochs': 3}\u001b[32m [repeated 22x across cluster]\u001b[0m\n",
            "\u001b[2m\u001b[36m(launch_and_fit pid=2406)\u001b[0m Epoch 1: train loss 5.331255670171231e-05, accuracy 0.8148148148148148\u001b[32m [repeated 21x across cluster]\u001b[0m\n"
          ]
        },
        {
          "output_type": "stream",
          "name": "stderr",
          "text": [
            "DEBUG flower 2023-07-19 14:23:44,227 | server.py:216 | fit_round received 30 results and 0 failures\n",
            "DEBUG:flower:fit_round received 30 results and 0 failures\n",
            "DEBUG flower 2023-07-19 14:23:44,321 | server.py:157 | evaluate_round: strategy sampled 30 clients (out of 100)\n",
            "DEBUG:flower:evaluate_round: strategy sampled 30 clients (out of 100)\n"
          ]
        },
        {
          "output_type": "stream",
          "name": "stdout",
          "text": [
            "Saving round 66 aggregated_parameters...\n",
            "\u001b[2m\u001b[36m(launch_and_evaluate pid=2405)\u001b[0m [Client 94] evaluate, config: {}\n",
            "\u001b[2m\u001b[36m(launch_and_evaluate pid=2406)\u001b[0m [Client 31] evaluate, config: {}\n",
            "\u001b[2m\u001b[36m(launch_and_fit pid=2406)\u001b[0m [Client 15] fit, config: {'current_round': 66, 'local_epochs': 3}\u001b[32m [repeated 7x across cluster]\u001b[0m\n",
            "\u001b[2m\u001b[36m(launch_and_fit pid=2405)\u001b[0m Epoch 1: train loss 7.948902930365875e-05, accuracy 0.7407407407407407\u001b[32m [repeated 8x across cluster]\u001b[0m\n",
            "\u001b[2m\u001b[36m(launch_and_evaluate pid=2406)\u001b[0m [Client 58] evaluate, config: {}\u001b[32m [repeated 23x across cluster]\u001b[0m\n"
          ]
        },
        {
          "output_type": "stream",
          "name": "stderr",
          "text": [
            "DEBUG flower 2023-07-19 14:23:51,538 | server.py:170 | evaluate_round received 0 results and 30 failures\n",
            "DEBUG:flower:evaluate_round received 0 results and 30 failures\n",
            "DEBUG flower 2023-07-19 14:23:51,547 | server.py:203 | fit_round: strategy sampled 30 clients (out of 100)\n",
            "DEBUG:flower:fit_round: strategy sampled 30 clients (out of 100)\n"
          ]
        },
        {
          "output_type": "stream",
          "name": "stdout",
          "text": [
            "\u001b[2m\u001b[36m(launch_and_fit pid=2406)\u001b[0m [Client 93] fit, config: {'current_round': 67, 'local_epochs': 3}\u001b[32m [repeated 4x across cluster]\u001b[0m\n",
            "\u001b[2m\u001b[36m(launch_and_fit pid=2406)\u001b[0m Epoch 1: train loss 5.8815963711822405e-05, accuracy 0.8148148148148148\u001b[32m [repeated 4x across cluster]\u001b[0m\n",
            "\u001b[2m\u001b[36m(launch_and_evaluate pid=2406)\u001b[0m [Client 18] evaluate, config: {}\u001b[32m [repeated 5x across cluster]\u001b[0m\n"
          ]
        },
        {
          "output_type": "stream",
          "name": "stderr",
          "text": [
            "DEBUG flower 2023-07-19 14:23:58,831 | server.py:216 | fit_round received 30 results and 0 failures\n",
            "DEBUG:flower:fit_round received 30 results and 0 failures\n"
          ]
        },
        {
          "output_type": "stream",
          "name": "stdout",
          "text": [
            "\u001b[2m\u001b[36m(launch_and_fit pid=2406)\u001b[0m [Client 43] fit, config: {'current_round': 67, 'local_epochs': 3}\u001b[32m [repeated 24x across cluster]\u001b[0m\n",
            "\u001b[2m\u001b[36m(launch_and_fit pid=2405)\u001b[0m Epoch 1: train loss 6.455481343436986e-05, accuracy 0.7777777777777778\u001b[32m [repeated 23x across cluster]\u001b[0m\n"
          ]
        },
        {
          "output_type": "stream",
          "name": "stderr",
          "text": [
            "DEBUG flower 2023-07-19 14:23:58,930 | server.py:157 | evaluate_round: strategy sampled 30 clients (out of 100)\n",
            "DEBUG:flower:evaluate_round: strategy sampled 30 clients (out of 100)\n"
          ]
        },
        {
          "output_type": "stream",
          "name": "stdout",
          "text": [
            "Saving round 67 aggregated_parameters...\n",
            "\u001b[2m\u001b[36m(launch_and_evaluate pid=2405)\u001b[0m [Client 3] evaluate, config: {}\u001b[32m [repeated 9x across cluster]\u001b[0m\n"
          ]
        },
        {
          "output_type": "stream",
          "name": "stderr",
          "text": [
            "DEBUG flower 2023-07-19 14:24:03,859 | server.py:170 | evaluate_round received 0 results and 30 failures\n",
            "DEBUG:flower:evaluate_round received 0 results and 30 failures\n",
            "DEBUG flower 2023-07-19 14:24:03,863 | server.py:203 | fit_round: strategy sampled 30 clients (out of 100)\n",
            "DEBUG:flower:fit_round: strategy sampled 30 clients (out of 100)\n"
          ]
        },
        {
          "output_type": "stream",
          "name": "stdout",
          "text": [
            "\u001b[2m\u001b[36m(launch_and_fit pid=2406)\u001b[0m [Client 35] fit, config: {'current_round': 67, 'local_epochs': 3}\u001b[32m [repeated 2x across cluster]\u001b[0m\n",
            "\u001b[2m\u001b[36m(launch_and_fit pid=2406)\u001b[0m Epoch 1: train loss 5.787960981251672e-05, accuracy 0.8333333333333334\u001b[32m [repeated 3x across cluster]\u001b[0m\n",
            "\u001b[2m\u001b[36m(launch_and_evaluate pid=2406)\u001b[0m [Client 94] evaluate, config: {}\u001b[32m [repeated 21x across cluster]\u001b[0m\n",
            "\u001b[2m\u001b[36m(launch_and_fit pid=2405)\u001b[0m [Client 71] fit, config: {'current_round': 68, 'local_epochs': 3}\u001b[32m [repeated 16x across cluster]\u001b[0m\n",
            "\u001b[2m\u001b[36m(launch_and_fit pid=2405)\u001b[0m Epoch 1: train loss 7.21665273886174e-05, accuracy 0.7592592592592593\u001b[32m [repeated 15x across cluster]\u001b[0m\n"
          ]
        },
        {
          "output_type": "stream",
          "name": "stderr",
          "text": [
            "DEBUG flower 2023-07-19 14:24:12,678 | server.py:216 | fit_round received 30 results and 0 failures\n",
            "DEBUG:flower:fit_round received 30 results and 0 failures\n",
            "DEBUG flower 2023-07-19 14:24:12,831 | server.py:157 | evaluate_round: strategy sampled 30 clients (out of 100)\n",
            "DEBUG:flower:evaluate_round: strategy sampled 30 clients (out of 100)\n"
          ]
        },
        {
          "output_type": "stream",
          "name": "stdout",
          "text": [
            "Saving round 68 aggregated_parameters...\n",
            "\u001b[2m\u001b[36m(launch_and_evaluate pid=2405)\u001b[0m [Client 86] evaluate, config: {}\n",
            "\u001b[2m\u001b[36m(launch_and_fit pid=2405)\u001b[0m [Client 69] fit, config: {'current_round': 68, 'local_epochs': 3}\u001b[32m [repeated 14x across cluster]\u001b[0m\n",
            "\u001b[2m\u001b[36m(launch_and_fit pid=2405)\u001b[0m Epoch 1: train loss 5.5460761359427124e-05, accuracy 0.8333333333333334\u001b[32m [repeated 15x across cluster]\u001b[0m\n"
          ]
        },
        {
          "output_type": "stream",
          "name": "stderr",
          "text": [
            "DEBUG flower 2023-07-19 14:24:18,718 | server.py:170 | evaluate_round received 0 results and 30 failures\n",
            "DEBUG:flower:evaluate_round received 0 results and 30 failures\n",
            "DEBUG flower 2023-07-19 14:24:18,723 | server.py:203 | fit_round: strategy sampled 30 clients (out of 100)\n",
            "DEBUG:flower:fit_round: strategy sampled 30 clients (out of 100)\n"
          ]
        },
        {
          "output_type": "stream",
          "name": "stdout",
          "text": [
            "\u001b[2m\u001b[36m(launch_and_evaluate pid=2406)\u001b[0m [Client 99] evaluate, config: {}\u001b[32m [repeated 29x across cluster]\u001b[0m\n",
            "\u001b[2m\u001b[36m(launch_and_fit pid=2405)\u001b[0m [Client 94] fit, config: {'current_round': 69, 'local_epochs': 3}\n",
            "\u001b[2m\u001b[36m(launch_and_fit pid=2406)\u001b[0m [Client 17] fit, config: {'current_round': 69, 'local_epochs': 3}\n",
            "\u001b[2m\u001b[36m(launch_and_fit pid=2405)\u001b[0m Epoch 1: train loss 5.206306741456501e-05, accuracy 0.8888888888888888\n"
          ]
        },
        {
          "output_type": "stream",
          "name": "stderr",
          "text": [
            "DEBUG flower 2023-07-19 14:24:24,396 | server.py:216 | fit_round received 30 results and 0 failures\n",
            "DEBUG:flower:fit_round received 30 results and 0 failures\n",
            "DEBUG flower 2023-07-19 14:24:24,500 | server.py:157 | evaluate_round: strategy sampled 30 clients (out of 100)\n",
            "DEBUG:flower:evaluate_round: strategy sampled 30 clients (out of 100)\n"
          ]
        },
        {
          "output_type": "stream",
          "name": "stdout",
          "text": [
            "Saving round 69 aggregated_parameters...\n",
            "\u001b[2m\u001b[36m(launch_and_evaluate pid=2405)\u001b[0m [Client 80] evaluate, config: {}\n",
            "\u001b[2m\u001b[36m(launch_and_fit pid=2405)\u001b[0m [Client 90] fit, config: {'current_round': 69, 'local_epochs': 3}\u001b[32m [repeated 28x across cluster]\u001b[0m\n",
            "\u001b[2m\u001b[36m(launch_and_fit pid=2405)\u001b[0m Epoch 1: train loss 6.785298319300637e-05, accuracy 0.7962962962962963\u001b[32m [repeated 29x across cluster]\u001b[0m\n",
            "\u001b[2m\u001b[36m(launch_and_evaluate pid=2405)\u001b[0m [Client 67] evaluate, config: {}\n",
            "\u001b[2m\u001b[36m(launch_and_evaluate pid=2406)\u001b[0m [Client 76] evaluate, config: {}\u001b[32m [repeated 23x across cluster]\u001b[0m\n"
          ]
        },
        {
          "output_type": "stream",
          "name": "stderr",
          "text": [
            "DEBUG flower 2023-07-19 14:24:30,947 | server.py:170 | evaluate_round received 0 results and 30 failures\n",
            "DEBUG:flower:evaluate_round received 0 results and 30 failures\n",
            "DEBUG flower 2023-07-19 14:24:30,952 | server.py:203 | fit_round: strategy sampled 30 clients (out of 100)\n",
            "DEBUG:flower:fit_round: strategy sampled 30 clients (out of 100)\n"
          ]
        },
        {
          "output_type": "stream",
          "name": "stdout",
          "text": [
            "\u001b[2m\u001b[36m(launch_and_fit pid=2406)\u001b[0m [Client 10] fit, config: {'current_round': 70, 'local_epochs': 3}\n",
            "\u001b[2m\u001b[36m(launch_and_fit pid=2406)\u001b[0m Epoch 1: train loss 5.989670898998156e-05, accuracy 0.7962962962962963\n",
            "\u001b[2m\u001b[36m(launch_and_evaluate pid=2405)\u001b[0m [Client 72] evaluate, config: {}\u001b[32m [repeated 5x across cluster]\u001b[0m\n",
            "\u001b[2m\u001b[36m(launch_and_fit pid=2405)\u001b[0m [Client 56] fit, config: {'current_round': 70, 'local_epochs': 3}\u001b[32m [repeated 19x across cluster]\u001b[0m\n",
            "\u001b[2m\u001b[36m(launch_and_fit pid=2406)\u001b[0m Epoch 1: train loss 7.230658229673281e-05, accuracy 0.7037037037037037\u001b[32m [repeated 20x across cluster]\u001b[0m\n"
          ]
        },
        {
          "output_type": "stream",
          "name": "stderr",
          "text": [
            "DEBUG flower 2023-07-19 14:24:38,678 | server.py:216 | fit_round received 30 results and 0 failures\n",
            "DEBUG:flower:fit_round received 30 results and 0 failures\n",
            "DEBUG flower 2023-07-19 14:24:38,785 | server.py:157 | evaluate_round: strategy sampled 30 clients (out of 100)\n",
            "DEBUG:flower:evaluate_round: strategy sampled 30 clients (out of 100)\n"
          ]
        },
        {
          "output_type": "stream",
          "name": "stdout",
          "text": [
            "Saving round 70 aggregated_parameters...\n",
            "\u001b[2m\u001b[36m(launch_and_evaluate pid=2405)\u001b[0m [Client 75] evaluate, config: {}\u001b[32m [repeated 8x across cluster]\u001b[0m\n",
            "\u001b[2m\u001b[36m(launch_and_fit pid=2405)\u001b[0m [Client 51] fit, config: {'current_round': 70, 'local_epochs': 3}\u001b[32m [repeated 10x across cluster]\u001b[0m\n",
            "\u001b[2m\u001b[36m(launch_and_fit pid=2405)\u001b[0m Epoch 1: train loss 8.365514077013358e-05, accuracy 0.7407407407407407\u001b[32m [repeated 9x across cluster]\u001b[0m\n"
          ]
        },
        {
          "output_type": "stream",
          "name": "stderr",
          "text": [
            "DEBUG flower 2023-07-19 14:24:43,571 | server.py:170 | evaluate_round received 0 results and 30 failures\n",
            "DEBUG:flower:evaluate_round received 0 results and 30 failures\n",
            "DEBUG flower 2023-07-19 14:24:43,575 | server.py:203 | fit_round: strategy sampled 30 clients (out of 100)\n",
            "DEBUG:flower:fit_round: strategy sampled 30 clients (out of 100)\n"
          ]
        },
        {
          "output_type": "stream",
          "name": "stdout",
          "text": [
            "\u001b[2m\u001b[36m(launch_and_evaluate pid=2405)\u001b[0m [Client 10] evaluate, config: {}\u001b[32m [repeated 22x across cluster]\u001b[0m\n",
            "\u001b[2m\u001b[36m(launch_and_fit pid=2405)\u001b[0m [Client 85] fit, config: {'current_round': 71, 'local_epochs': 3}\u001b[32m [repeated 15x across cluster]\u001b[0m\n",
            "\u001b[2m\u001b[36m(launch_and_fit pid=2405)\u001b[0m Epoch 1: train loss 2.8662883778451942e-05, accuracy 0.9259259259259259\u001b[32m [repeated 15x across cluster]\u001b[0m\n"
          ]
        },
        {
          "output_type": "stream",
          "name": "stderr",
          "text": [
            "DEBUG flower 2023-07-19 14:24:51,135 | server.py:216 | fit_round received 30 results and 0 failures\n",
            "DEBUG:flower:fit_round received 30 results and 0 failures\n",
            "DEBUG flower 2023-07-19 14:24:51,289 | server.py:157 | evaluate_round: strategy sampled 30 clients (out of 100)\n",
            "DEBUG:flower:evaluate_round: strategy sampled 30 clients (out of 100)\n"
          ]
        },
        {
          "output_type": "stream",
          "name": "stdout",
          "text": [
            "Saving round 71 aggregated_parameters...\n",
            "\u001b[2m\u001b[36m(launch_and_evaluate pid=2406)\u001b[0m [Client 96] evaluate, config: {}\n",
            "\u001b[2m\u001b[36m(launch_and_fit pid=2405)\u001b[0m [Client 98] fit, config: {'current_round': 71, 'local_epochs': 3}\u001b[32m [repeated 15x across cluster]\u001b[0m\n",
            "\u001b[2m\u001b[36m(launch_and_fit pid=2405)\u001b[0m Epoch 1: train loss 7.570410525659099e-05, accuracy 0.7592592592592593\u001b[32m [repeated 15x across cluster]\u001b[0m\n"
          ]
        },
        {
          "output_type": "stream",
          "name": "stderr",
          "text": [
            "DEBUG flower 2023-07-19 14:24:57,630 | server.py:170 | evaluate_round received 0 results and 30 failures\n",
            "DEBUG:flower:evaluate_round received 0 results and 30 failures\n",
            "DEBUG flower 2023-07-19 14:24:57,642 | server.py:203 | fit_round: strategy sampled 30 clients (out of 100)\n",
            "DEBUG:flower:fit_round: strategy sampled 30 clients (out of 100)\n"
          ]
        },
        {
          "output_type": "stream",
          "name": "stdout",
          "text": [
            "\u001b[2m\u001b[36m(launch_and_evaluate pid=2405)\u001b[0m [Client 31] evaluate, config: {}\u001b[32m [repeated 25x across cluster]\u001b[0m\n",
            "\u001b[2m\u001b[36m(launch_and_fit pid=2405)\u001b[0m [Client 82] fit, config: {'current_round': 72, 'local_epochs': 3}\n",
            "\u001b[2m\u001b[36m(launch_and_fit pid=2405)\u001b[0m Epoch 1: train loss 7.371922401944175e-05, accuracy 0.7222222222222222\n",
            "\u001b[2m\u001b[36m(launch_and_evaluate pid=2406)\u001b[0m [Client 10] evaluate, config: {}\u001b[32m [repeated 4x across cluster]\u001b[0m\n"
          ]
        },
        {
          "output_type": "stream",
          "name": "stderr",
          "text": [
            "DEBUG flower 2023-07-19 14:25:03,684 | server.py:216 | fit_round received 30 results and 0 failures\n",
            "DEBUG:flower:fit_round received 30 results and 0 failures\n"
          ]
        },
        {
          "output_type": "stream",
          "name": "stdout",
          "text": [
            "\u001b[2m\u001b[36m(launch_and_fit pid=2405)\u001b[0m [Client 42] fit, config: {'current_round': 72, 'local_epochs': 3}\u001b[32m [repeated 27x across cluster]\u001b[0m\n",
            "\u001b[2m\u001b[36m(launch_and_fit pid=2405)\u001b[0m Epoch 1: train loss 7.655058288946748e-05, accuracy 0.7592592592592593\u001b[32m [repeated 28x across cluster]\u001b[0m\n"
          ]
        },
        {
          "output_type": "stream",
          "name": "stderr",
          "text": [
            "DEBUG flower 2023-07-19 14:25:03,786 | server.py:157 | evaluate_round: strategy sampled 30 clients (out of 100)\n",
            "DEBUG:flower:evaluate_round: strategy sampled 30 clients (out of 100)\n"
          ]
        },
        {
          "output_type": "stream",
          "name": "stdout",
          "text": [
            "Saving round 72 aggregated_parameters...\n",
            "\u001b[2m\u001b[36m(launch_and_evaluate pid=2406)\u001b[0m [Client 93] evaluate, config: {}\u001b[32m [repeated 18x across cluster]\u001b[0m\n",
            "\u001b[2m\u001b[36m(launch_and_fit pid=2406)\u001b[0m [Client 37] fit, config: {'current_round': 72, 'local_epochs': 3}\u001b[32m [repeated 2x across cluster]\u001b[0m\n",
            "\u001b[2m\u001b[36m(launch_and_fit pid=2406)\u001b[0m [Client 38] evaluate, config: {}\n"
          ]
        },
        {
          "output_type": "stream",
          "name": "stderr",
          "text": [
            "DEBUG flower 2023-07-19 14:25:10,052 | server.py:170 | evaluate_round received 0 results and 30 failures\n",
            "DEBUG:flower:evaluate_round received 0 results and 30 failures\n",
            "DEBUG flower 2023-07-19 14:25:10,063 | server.py:203 | fit_round: strategy sampled 30 clients (out of 100)\n",
            "DEBUG:flower:fit_round: strategy sampled 30 clients (out of 100)\n"
          ]
        },
        {
          "output_type": "stream",
          "name": "stdout",
          "text": [
            "\u001b[2m\u001b[36m(launch_and_fit pid=2406)\u001b[0m Epoch 1: train loss 4.001087654614821e-05, accuracy 0.9629629629629629\n",
            "\u001b[2m\u001b[36m(launch_and_evaluate pid=2405)\u001b[0m [Client 0] evaluate, config: {}\u001b[32m [repeated 12x across cluster]\u001b[0m\n",
            "\u001b[2m\u001b[36m(launch_and_fit pid=2406)\u001b[0m [Client 35] fit, config: {'current_round': 73, 'local_epochs': 3}\u001b[32m [repeated 9x across cluster]\u001b[0m\n",
            "\u001b[2m\u001b[36m(launch_and_fit pid=2405)\u001b[0m Epoch 1: train loss 5.800568396807648e-05, accuracy 0.7962962962962963\u001b[32m [repeated 16x across cluster]\u001b[0m\n"
          ]
        },
        {
          "output_type": "stream",
          "name": "stderr",
          "text": [
            "DEBUG flower 2023-07-19 14:25:18,367 | server.py:216 | fit_round received 30 results and 0 failures\n",
            "DEBUG:flower:fit_round received 30 results and 0 failures\n",
            "DEBUG flower 2023-07-19 14:25:18,464 | server.py:157 | evaluate_round: strategy sampled 30 clients (out of 100)\n",
            "DEBUG:flower:evaluate_round: strategy sampled 30 clients (out of 100)\n"
          ]
        },
        {
          "output_type": "stream",
          "name": "stdout",
          "text": [
            "Saving round 73 aggregated_parameters...\n",
            "\u001b[2m\u001b[36m(launch_and_evaluate pid=2406)\u001b[0m [Client 85] evaluate, config: {}\n",
            "\u001b[2m\u001b[36m(launch_and_fit pid=2406)\u001b[0m [Client 59] fit, config: {'current_round': 73, 'local_epochs': 3}\u001b[32m [repeated 21x across cluster]\u001b[0m\n",
            "\u001b[2m\u001b[36m(launch_and_fit pid=2406)\u001b[0m Epoch 1: train loss 7.464164809789509e-05, accuracy 0.7592592592592593\u001b[32m [repeated 13x across cluster]\u001b[0m\n"
          ]
        },
        {
          "output_type": "stream",
          "name": "stderr",
          "text": [
            "DEBUG flower 2023-07-19 14:25:23,525 | server.py:170 | evaluate_round received 0 results and 30 failures\n",
            "DEBUG:flower:evaluate_round received 0 results and 30 failures\n",
            "DEBUG flower 2023-07-19 14:25:23,533 | server.py:203 | fit_round: strategy sampled 30 clients (out of 100)\n",
            "DEBUG:flower:fit_round: strategy sampled 30 clients (out of 100)\n"
          ]
        },
        {
          "output_type": "stream",
          "name": "stdout",
          "text": [
            "\u001b[2m\u001b[36m(launch_and_evaluate pid=2406)\u001b[0m [Client 23] evaluate, config: {}\u001b[32m [repeated 29x across cluster]\u001b[0m\n",
            "\u001b[2m\u001b[36m(launch_and_fit pid=2405)\u001b[0m Epoch 1: train loss 5.3197967645246536e-05, accuracy 0.7407407407407407\n",
            "\u001b[2m\u001b[36m(launch_and_fit pid=2405)\u001b[0m [Client 26] fit, config: {'current_round': 74, 'local_epochs': 3}\n",
            "\u001b[2m\u001b[36m(launch_and_fit pid=2406)\u001b[0m Epoch 1: train loss 7.167371222749352e-05, accuracy 0.7222222222222222\u001b[32m [repeated 11x across cluster]\u001b[0m\n",
            "\u001b[2m\u001b[36m(launch_and_fit pid=2405)\u001b[0m [Client 18] fit, config: {'current_round': 74, 'local_epochs': 3}\u001b[32m [repeated 22x across cluster]\u001b[0m\n"
          ]
        },
        {
          "output_type": "stream",
          "name": "stderr",
          "text": [
            "DEBUG flower 2023-07-19 14:25:31,016 | server.py:216 | fit_round received 30 results and 0 failures\n",
            "DEBUG:flower:fit_round received 30 results and 0 failures\n",
            "DEBUG flower 2023-07-19 14:25:31,157 | server.py:157 | evaluate_round: strategy sampled 30 clients (out of 100)\n",
            "DEBUG:flower:evaluate_round: strategy sampled 30 clients (out of 100)\n"
          ]
        },
        {
          "output_type": "stream",
          "name": "stdout",
          "text": [
            "Saving round 74 aggregated_parameters...\n",
            "\u001b[2m\u001b[36m(launch_and_evaluate pid=2406)\u001b[0m [Client 16] evaluate, config: {}\n",
            "\u001b[2m\u001b[36m(launch_and_fit pid=2405)\u001b[0m Epoch 1: train loss 4.974723924533464e-05, accuracy 0.8333333333333334\u001b[32m [repeated 19x across cluster]\u001b[0m\n",
            "\u001b[2m\u001b[36m(launch_and_fit pid=2405)\u001b[0m [Client 36] fit, config: {'current_round': 74, 'local_epochs': 3}\u001b[32m [repeated 6x across cluster]\u001b[0m\n",
            "\u001b[2m\u001b[36m(launch_and_evaluate pid=2405)\u001b[0m [Client 34] evaluate, config: {}\u001b[32m [repeated 24x across cluster]\u001b[0m\n"
          ]
        },
        {
          "output_type": "stream",
          "name": "stderr",
          "text": [
            "DEBUG flower 2023-07-19 14:25:38,042 | server.py:170 | evaluate_round received 0 results and 30 failures\n",
            "DEBUG:flower:evaluate_round received 0 results and 30 failures\n",
            "DEBUG flower 2023-07-19 14:25:38,047 | server.py:203 | fit_round: strategy sampled 30 clients (out of 100)\n",
            "DEBUG:flower:fit_round: strategy sampled 30 clients (out of 100)\n"
          ]
        },
        {
          "output_type": "stream",
          "name": "stdout",
          "text": [
            "\u001b[2m\u001b[36m(launch_and_fit pid=2406)\u001b[0m Epoch 1: train loss 5.300117118167691e-05, accuracy 0.8148148148148148\n",
            "\u001b[2m\u001b[36m(launch_and_fit pid=2405)\u001b[0m [Client 14] fit, config: {'current_round': 75, 'local_epochs': 3}\u001b[32m [repeated 7x across cluster]\u001b[0m\n",
            "\u001b[2m\u001b[36m(launch_and_evaluate pid=2406)\u001b[0m [Client 31] evaluate, config: {}\u001b[32m [repeated 5x across cluster]\u001b[0m\n"
          ]
        },
        {
          "output_type": "stream",
          "name": "stderr",
          "text": [
            "DEBUG flower 2023-07-19 14:25:44,103 | server.py:216 | fit_round received 30 results and 0 failures\n",
            "DEBUG:flower:fit_round received 30 results and 0 failures\n",
            "DEBUG flower 2023-07-19 14:25:44,200 | server.py:157 | evaluate_round: strategy sampled 30 clients (out of 100)\n",
            "DEBUG:flower:evaluate_round: strategy sampled 30 clients (out of 100)\n"
          ]
        },
        {
          "output_type": "stream",
          "name": "stdout",
          "text": [
            "\u001b[2m\u001b[36m(launch_and_fit pid=2405)\u001b[0m Epoch 1: train loss 3.189450944773853e-05, accuracy 0.8888888888888888\u001b[32m [repeated 27x across cluster]\u001b[0m\n",
            "Saving round 75 aggregated_parameters...\n",
            "\u001b[2m\u001b[36m(launch_and_fit pid=2405)\u001b[0m [Client 31] fit, config: {'current_round': 75, 'local_epochs': 3}\u001b[32m [repeated 23x across cluster]\u001b[0m\n",
            "\u001b[2m\u001b[36m(launch_and_evaluate pid=2405)\u001b[0m [Client 68] evaluate, config: {}\u001b[32m [repeated 22x across cluster]\u001b[0m\n",
            "\u001b[2m\u001b[36m(launch_and_fit pid=2405)\u001b[0m Epoch 1: train loss 4.661588172893971e-05, accuracy 0.8703703703703703\u001b[32m [repeated 2x across cluster]\u001b[0m\n"
          ]
        },
        {
          "output_type": "stream",
          "name": "stderr",
          "text": [
            "DEBUG flower 2023-07-19 14:25:49,605 | server.py:170 | evaluate_round received 0 results and 30 failures\n",
            "DEBUG:flower:evaluate_round received 0 results and 30 failures\n",
            "DEBUG flower 2023-07-19 14:25:49,623 | server.py:203 | fit_round: strategy sampled 30 clients (out of 100)\n",
            "DEBUG:flower:fit_round: strategy sampled 30 clients (out of 100)\n"
          ]
        },
        {
          "output_type": "stream",
          "name": "stdout",
          "text": [
            "\u001b[2m\u001b[36m(launch_and_fit pid=2406)\u001b[0m [Client 92] fit, config: {'current_round': 76, 'local_epochs': 3}\n",
            "\u001b[2m\u001b[36m(launch_and_fit pid=2405)\u001b[0m [Client 26] fit, config: {'current_round': 76, 'local_epochs': 3}\n",
            "\u001b[2m\u001b[36m(launch_and_evaluate pid=2406)\u001b[0m [Client 56] evaluate, config: {}\u001b[32m [repeated 8x across cluster]\u001b[0m\n",
            "\u001b[2m\u001b[36m(launch_and_fit pid=2405)\u001b[0m Epoch 1: train loss 5.7323675719089806e-05, accuracy 0.8148148148148148\u001b[32m [repeated 13x across cluster]\u001b[0m\n",
            "\u001b[2m\u001b[36m(launch_and_fit pid=2405)\u001b[0m [Client 79] fit, config: {'current_round': 76, 'local_epochs': 3}\u001b[32m [repeated 17x across cluster]\u001b[0m\n"
          ]
        },
        {
          "output_type": "stream",
          "name": "stderr",
          "text": [
            "DEBUG flower 2023-07-19 14:25:58,252 | server.py:216 | fit_round received 30 results and 0 failures\n",
            "DEBUG:flower:fit_round received 30 results and 0 failures\n",
            "DEBUG flower 2023-07-19 14:25:58,346 | server.py:157 | evaluate_round: strategy sampled 30 clients (out of 100)\n",
            "DEBUG:flower:evaluate_round: strategy sampled 30 clients (out of 100)\n"
          ]
        },
        {
          "output_type": "stream",
          "name": "stdout",
          "text": [
            "Saving round 76 aggregated_parameters...\n",
            "\u001b[2m\u001b[36m(launch_and_evaluate pid=2405)\u001b[0m [Client 48] evaluate, config: {}\n",
            "\u001b[2m\u001b[36m(launch_and_evaluate pid=2406)\u001b[0m [Client 95] evaluate, config: {}\n",
            "\u001b[2m\u001b[36m(launch_and_fit pid=2405)\u001b[0m Epoch 1: train loss 7.015930896159261e-05, accuracy 0.7592592592592593\u001b[32m [repeated 17x across cluster]\u001b[0m\n",
            "\u001b[2m\u001b[36m(launch_and_fit pid=2405)\u001b[0m [Client 9] fit, config: {'current_round': 76, 'local_epochs': 3}\u001b[32m [repeated 11x across cluster]\u001b[0m\n"
          ]
        },
        {
          "output_type": "stream",
          "name": "stderr",
          "text": [
            "DEBUG flower 2023-07-19 14:26:03,279 | server.py:170 | evaluate_round received 0 results and 30 failures\n",
            "DEBUG:flower:evaluate_round received 0 results and 30 failures\n",
            "DEBUG flower 2023-07-19 14:26:03,283 | server.py:203 | fit_round: strategy sampled 30 clients (out of 100)\n",
            "DEBUG:flower:fit_round: strategy sampled 30 clients (out of 100)\n"
          ]
        },
        {
          "output_type": "stream",
          "name": "stdout",
          "text": [
            "\u001b[2m\u001b[36m(launch_and_evaluate pid=2406)\u001b[0m [Client 31] evaluate, config: {}\u001b[32m [repeated 28x across cluster]\u001b[0m\n",
            "\u001b[2m\u001b[36m(launch_and_fit pid=2405)\u001b[0m Epoch 1: train loss 5.243632767815143e-05, accuracy 0.8333333333333334\u001b[32m [repeated 4x across cluster]\u001b[0m\n",
            "\u001b[2m\u001b[36m(launch_and_fit pid=2405)\u001b[0m [Client 17] fit, config: {'current_round': 77, 'local_epochs': 3}\u001b[32m [repeated 10x across cluster]\u001b[0m\n"
          ]
        },
        {
          "output_type": "stream",
          "name": "stderr",
          "text": [
            "DEBUG flower 2023-07-19 14:26:09,611 | server.py:216 | fit_round received 30 results and 0 failures\n",
            "DEBUG:flower:fit_round received 30 results and 0 failures\n",
            "DEBUG flower 2023-07-19 14:26:09,769 | server.py:157 | evaluate_round: strategy sampled 30 clients (out of 100)\n",
            "DEBUG:flower:evaluate_round: strategy sampled 30 clients (out of 100)\n"
          ]
        },
        {
          "output_type": "stream",
          "name": "stdout",
          "text": [
            "Saving round 77 aggregated_parameters...\n",
            "\u001b[2m\u001b[36m(launch_and_evaluate pid=2405)\u001b[0m [Client 84] evaluate, config: {}\n",
            "\u001b[2m\u001b[36m(launch_and_fit pid=2405)\u001b[0m Epoch 1: train loss 7.156554784160107e-05, accuracy 0.7592592592592593\u001b[32m [repeated 26x across cluster]\u001b[0m\n",
            "\u001b[2m\u001b[36m(launch_and_fit pid=2405)\u001b[0m [Client 30] fit, config: {'current_round': 77, 'local_epochs': 3}\u001b[32m [repeated 20x across cluster]\u001b[0m\n",
            "\u001b[2m\u001b[36m(launch_and_evaluate pid=2405)\u001b[0m [Client 15] evaluate, config: {}\u001b[32m [repeated 22x across cluster]\u001b[0m\n"
          ]
        },
        {
          "output_type": "stream",
          "name": "stderr",
          "text": [
            "DEBUG flower 2023-07-19 14:26:17,042 | server.py:170 | evaluate_round received 0 results and 30 failures\n",
            "DEBUG:flower:evaluate_round received 0 results and 30 failures\n",
            "DEBUG flower 2023-07-19 14:26:17,052 | server.py:203 | fit_round: strategy sampled 30 clients (out of 100)\n",
            "DEBUG:flower:fit_round: strategy sampled 30 clients (out of 100)\n"
          ]
        },
        {
          "output_type": "stream",
          "name": "stdout",
          "text": [
            "\u001b[2m\u001b[36m(launch_and_fit pid=2406)\u001b[0m [Client 2] fit, config: {'current_round': 78, 'local_epochs': 3}\n",
            "\u001b[2m\u001b[36m(launch_and_fit pid=2406)\u001b[0m Epoch 1: train loss 4.1518356738379225e-05, accuracy 0.8333333333333334\n",
            "\u001b[2m\u001b[36m(launch_and_fit pid=2405)\u001b[0m \n",
            "\u001b[2m\u001b[36m(launch_and_evaluate pid=2406)\u001b[0m [Client 46] evaluate, config: {}\u001b[32m [repeated 7x across cluster]\u001b[0m\n",
            "\u001b[2m\u001b[36m(launch_and_fit pid=2405)\u001b[0m [Client 48] fit, config: {'current_round': 78, 'local_epochs': 3}\u001b[32m [repeated 23x across cluster]\u001b[0m\n",
            "\u001b[2m\u001b[36m(launch_and_fit pid=2406)\u001b[0m Epoch 1: train loss 5.6655244407011196e-05, accuracy 0.7777777777777778\u001b[32m [repeated 23x across cluster]\u001b[0m\n"
          ]
        },
        {
          "output_type": "stream",
          "name": "stderr",
          "text": [
            "DEBUG flower 2023-07-19 14:26:23,982 | server.py:216 | fit_round received 30 results and 0 failures\n",
            "DEBUG:flower:fit_round received 30 results and 0 failures\n",
            "DEBUG flower 2023-07-19 14:26:24,081 | server.py:157 | evaluate_round: strategy sampled 30 clients (out of 100)\n",
            "DEBUG:flower:evaluate_round: strategy sampled 30 clients (out of 100)\n"
          ]
        },
        {
          "output_type": "stream",
          "name": "stdout",
          "text": [
            "Saving round 78 aggregated_parameters...\n",
            "\u001b[2m\u001b[36m(launch_and_evaluate pid=2406)\u001b[0m [Client 88] evaluate, config: {}\u001b[32m [repeated 8x across cluster]\u001b[0m\n",
            "\u001b[2m\u001b[36m(launch_and_fit pid=2406)\u001b[0m [Client 38] fit, config: {'current_round': 78, 'local_epochs': 3}\u001b[32m [repeated 6x across cluster]\u001b[0m\n"
          ]
        },
        {
          "output_type": "stream",
          "name": "stderr",
          "text": [
            "DEBUG flower 2023-07-19 14:26:28,817 | server.py:170 | evaluate_round received 0 results and 30 failures\n",
            "DEBUG:flower:evaluate_round received 0 results and 30 failures\n",
            "DEBUG flower 2023-07-19 14:26:28,822 | server.py:203 | fit_round: strategy sampled 30 clients (out of 100)\n",
            "DEBUG:flower:fit_round: strategy sampled 30 clients (out of 100)\n"
          ]
        },
        {
          "output_type": "stream",
          "name": "stdout",
          "text": [
            "\u001b[2m\u001b[36m(launch_and_fit pid=2406)\u001b[0m Epoch 1: train loss 4.2769068386405706e-05, accuracy 0.8888888888888888\u001b[32m [repeated 6x across cluster]\u001b[0m\n",
            "\u001b[2m\u001b[36m(launch_and_evaluate pid=2405)\u001b[0m [Client 18] evaluate, config: {}\u001b[32m [repeated 22x across cluster]\u001b[0m\n",
            "\u001b[2m\u001b[36m(launch_and_fit pid=2405)\u001b[0m [Client 70] fit, config: {'current_round': 79, 'local_epochs': 3}\u001b[32m [repeated 12x across cluster]\u001b[0m\n"
          ]
        },
        {
          "output_type": "stream",
          "name": "stderr",
          "text": [
            "DEBUG flower 2023-07-19 14:26:38,416 | server.py:216 | fit_round received 30 results and 0 failures\n",
            "DEBUG:flower:fit_round received 30 results and 0 failures\n",
            "DEBUG flower 2023-07-19 14:26:38,567 | server.py:157 | evaluate_round: strategy sampled 30 clients (out of 100)\n"
          ]
        },
        {
          "output_type": "stream",
          "name": "stdout",
          "text": [
            "\u001b[2m\u001b[36m(launch_and_fit pid=2405)\u001b[0m Epoch 1: train loss 6.538131856359541e-05, accuracy 0.7777777777777778\u001b[32m [repeated 12x across cluster]\u001b[0m\n",
            "\u001b[2m\u001b[36m(launch_and_fit pid=2405)\u001b[0m [Client 69] fit, config: {'current_round': 79, 'local_epochs': 3}\u001b[32m [repeated 18x across cluster]\u001b[0m\n",
            "Saving round 79 aggregated_parameters...\n"
          ]
        },
        {
          "output_type": "stream",
          "name": "stderr",
          "text": [
            "DEBUG:flower:evaluate_round: strategy sampled 30 clients (out of 100)\n"
          ]
        },
        {
          "output_type": "stream",
          "name": "stdout",
          "text": [
            "\u001b[2m\u001b[36m(launch_and_evaluate pid=2405)\u001b[0m [Client 82] evaluate, config: {}\n",
            "\u001b[2m\u001b[36m(launch_and_fit pid=2405)\u001b[0m Epoch 1: train loss 4.621477273758501e-05, accuracy 0.8703703703703703\u001b[32m [repeated 18x across cluster]\u001b[0m\n"
          ]
        },
        {
          "output_type": "stream",
          "name": "stderr",
          "text": [
            "DEBUG flower 2023-07-19 14:26:43,694 | server.py:170 | evaluate_round received 0 results and 30 failures\n",
            "DEBUG:flower:evaluate_round received 0 results and 30 failures\n",
            "DEBUG flower 2023-07-19 14:26:43,704 | server.py:203 | fit_round: strategy sampled 30 clients (out of 100)\n",
            "DEBUG:flower:fit_round: strategy sampled 30 clients (out of 100)\n"
          ]
        },
        {
          "output_type": "stream",
          "name": "stdout",
          "text": [
            "\u001b[2m\u001b[36m(launch_and_fit pid=2406)\u001b[0m [Client 60] fit, config: {'current_round': 80, 'local_epochs': 3}\n",
            "\u001b[2m\u001b[36m(launch_and_evaluate pid=2406)\u001b[0m [Client 47] evaluate, config: {}\u001b[32m [repeated 29x across cluster]\u001b[0m\n",
            "\u001b[2m\u001b[36m(launch_and_fit pid=2406)\u001b[0m Epoch 1: train loss 4.7266232286347076e-05, accuracy 0.8333333333333334\n"
          ]
        },
        {
          "output_type": "stream",
          "name": "stderr",
          "text": [
            "DEBUG flower 2023-07-19 14:26:49,117 | server.py:216 | fit_round received 30 results and 0 failures\n",
            "DEBUG:flower:fit_round received 30 results and 0 failures\n",
            "DEBUG flower 2023-07-19 14:26:49,261 | server.py:157 | evaluate_round: strategy sampled 30 clients (out of 100)\n",
            "DEBUG:flower:evaluate_round: strategy sampled 30 clients (out of 100)\n"
          ]
        },
        {
          "output_type": "stream",
          "name": "stdout",
          "text": [
            "Saving round 80 aggregated_parameters...\n",
            "\u001b[2m\u001b[36m(launch_and_fit pid=2405)\u001b[0m [Client 65] fit, config: {'current_round': 80, 'local_epochs': 3}\u001b[32m [repeated 29x across cluster]\u001b[0m\n",
            "\u001b[2m\u001b[36m(launch_and_evaluate pid=2405)\u001b[0m [Client 51] evaluate, config: {}\n",
            "\u001b[2m\u001b[36m(launch_and_fit pid=2406)\u001b[0m Epoch 1: train loss 6.452474917750806e-05, accuracy 0.7592592592592593\u001b[32m [repeated 29x across cluster]\u001b[0m\n",
            "\u001b[2m\u001b[36m(launch_and_evaluate pid=2406)\u001b[0m [Client 25] evaluate, config: {}\n",
            "\u001b[2m\u001b[36m(launch_and_evaluate pid=2406)\u001b[0m [Client 85] evaluate, config: {}\u001b[32m [repeated 26x across cluster]\u001b[0m\n"
          ]
        },
        {
          "output_type": "stream",
          "name": "stderr",
          "text": [
            "DEBUG flower 2023-07-19 14:26:55,982 | server.py:170 | evaluate_round received 0 results and 30 failures\n",
            "DEBUG:flower:evaluate_round received 0 results and 30 failures\n",
            "DEBUG flower 2023-07-19 14:26:55,988 | server.py:203 | fit_round: strategy sampled 30 clients (out of 100)\n",
            "DEBUG:flower:fit_round: strategy sampled 30 clients (out of 100)\n"
          ]
        },
        {
          "output_type": "stream",
          "name": "stdout",
          "text": [
            "\u001b[2m\u001b[36m(launch_and_fit pid=2405)\u001b[0m [Client 74] fit, config: {'current_round': 81, 'local_epochs': 3}\n",
            "\u001b[2m\u001b[36m(launch_and_fit pid=2405)\u001b[0m Epoch 1: train loss 7.403544441331178e-05, accuracy 0.7777777777777778\n",
            "\u001b[2m\u001b[36m(launch_and_evaluate pid=2406)\u001b[0m [Client 57] evaluate, config: {}\u001b[32m [repeated 2x across cluster]\u001b[0m\n",
            "\u001b[2m\u001b[36m(launch_and_fit pid=2406)\u001b[0m [Client 35] fit, config: {'current_round': 81, 'local_epochs': 3}\u001b[32m [repeated 22x across cluster]\u001b[0m\n",
            "\u001b[2m\u001b[36m(launch_and_fit pid=2406)\u001b[0m Epoch 1: train loss 4.327303031459451e-05, accuracy 0.8333333333333334\u001b[32m [repeated 22x across cluster]\u001b[0m\n"
          ]
        },
        {
          "output_type": "stream",
          "name": "stderr",
          "text": [
            "DEBUG flower 2023-07-19 14:27:02,992 | server.py:216 | fit_round received 30 results and 0 failures\n",
            "DEBUG:flower:fit_round received 30 results and 0 failures\n",
            "DEBUG flower 2023-07-19 14:27:03,085 | server.py:157 | evaluate_round: strategy sampled 30 clients (out of 100)\n",
            "DEBUG:flower:evaluate_round: strategy sampled 30 clients (out of 100)\n"
          ]
        },
        {
          "output_type": "stream",
          "name": "stdout",
          "text": [
            "Saving round 81 aggregated_parameters...\n",
            "\u001b[2m\u001b[36m(launch_and_evaluate pid=2406)\u001b[0m [Client 53] evaluate, config: {}\u001b[32m [repeated 14x across cluster]\u001b[0m\n",
            "\u001b[2m\u001b[36m(launch_and_fit pid=2406)\u001b[0m [Client 87] fit, config: {'current_round': 81, 'local_epochs': 3}\u001b[32m [repeated 7x across cluster]\u001b[0m\n",
            "\u001b[2m\u001b[36m(launch_and_fit pid=2406)\u001b[0m Epoch 1: train loss 5.5169701226986945e-05, accuracy 0.7962962962962963\u001b[32m [repeated 7x across cluster]\u001b[0m\n"
          ]
        },
        {
          "output_type": "stream",
          "name": "stderr",
          "text": [
            "DEBUG flower 2023-07-19 14:27:07,677 | server.py:170 | evaluate_round received 0 results and 30 failures\n",
            "DEBUG:flower:evaluate_round received 0 results and 30 failures\n",
            "DEBUG flower 2023-07-19 14:27:07,682 | server.py:203 | fit_round: strategy sampled 30 clients (out of 100)\n",
            "DEBUG:flower:fit_round: strategy sampled 30 clients (out of 100)\n"
          ]
        },
        {
          "output_type": "stream",
          "name": "stdout",
          "text": [
            "\u001b[2m\u001b[36m(launch_and_evaluate pid=2406)\u001b[0m [Client 5] evaluate, config: {}\u001b[32m [repeated 16x across cluster]\u001b[0m\n",
            "\u001b[2m\u001b[36m(launch_and_fit pid=2406)\u001b[0m [Client 82] fit, config: {'current_round': 82, 'local_epochs': 3}\u001b[32m [repeated 15x across cluster]\u001b[0m\n",
            "\u001b[2m\u001b[36m(launch_and_fit pid=2406)\u001b[0m Epoch 1: train loss 6.0039521486032754e-05, accuracy 0.7962962962962963\u001b[32m [repeated 15x across cluster]\u001b[0m\n"
          ]
        },
        {
          "output_type": "stream",
          "name": "stderr",
          "text": [
            "DEBUG flower 2023-07-19 14:27:15,958 | server.py:216 | fit_round received 30 results and 0 failures\n",
            "DEBUG:flower:fit_round received 30 results and 0 failures\n",
            "DEBUG flower 2023-07-19 14:27:16,120 | server.py:157 | evaluate_round: strategy sampled 30 clients (out of 100)\n",
            "DEBUG:flower:evaluate_round: strategy sampled 30 clients (out of 100)\n"
          ]
        },
        {
          "output_type": "stream",
          "name": "stdout",
          "text": [
            "Saving round 82 aggregated_parameters...\n",
            "\u001b[2m\u001b[36m(launch_and_evaluate pid=2406)\u001b[0m [Client 51] evaluate, config: {}\n",
            "\u001b[2m\u001b[36m(launch_and_evaluate pid=2406)\u001b[0m [Client 91] evaluate, config: {}\n",
            "\u001b[2m\u001b[36m(launch_and_fit pid=2406)\u001b[0m [Client 37] fit, config: {'current_round': 82, 'local_epochs': 3}\u001b[32m [repeated 15x across cluster]\u001b[0m\n",
            "\u001b[2m\u001b[36m(launch_and_fit pid=2406)\u001b[0m Epoch 1: train loss 5.054216308053583e-05, accuracy 0.8703703703703703\u001b[32m [repeated 15x across cluster]\u001b[0m\n"
          ]
        },
        {
          "output_type": "stream",
          "name": "stderr",
          "text": [
            "DEBUG flower 2023-07-19 14:27:22,068 | server.py:170 | evaluate_round received 0 results and 30 failures\n",
            "DEBUG:flower:evaluate_round received 0 results and 30 failures\n",
            "DEBUG flower 2023-07-19 14:27:22,074 | server.py:203 | fit_round: strategy sampled 30 clients (out of 100)\n",
            "DEBUG:flower:fit_round: strategy sampled 30 clients (out of 100)\n"
          ]
        },
        {
          "output_type": "stream",
          "name": "stdout",
          "text": [
            "\u001b[2m\u001b[36m(launch_and_evaluate pid=2406)\u001b[0m [Client 12] evaluate, config: {}\u001b[32m [repeated 28x across cluster]\u001b[0m\n",
            "\u001b[2m\u001b[36m(launch_and_fit pid=2405)\u001b[0m [Client 20] fit, config: {'current_round': 83, 'local_epochs': 3}\n",
            "\u001b[2m\u001b[36m(launch_and_fit pid=2405)\u001b[0m Epoch 1: train loss 7.417833694489673e-05, accuracy 0.7407407407407407\n"
          ]
        },
        {
          "output_type": "stream",
          "name": "stderr",
          "text": [
            "DEBUG flower 2023-07-19 14:27:27,465 | server.py:216 | fit_round received 30 results and 0 failures\n",
            "DEBUG:flower:fit_round received 30 results and 0 failures\n",
            "DEBUG flower 2023-07-19 14:27:27,561 | server.py:157 | evaluate_round: strategy sampled 30 clients (out of 100)\n",
            "DEBUG:flower:evaluate_round: strategy sampled 30 clients (out of 100)\n"
          ]
        },
        {
          "output_type": "stream",
          "name": "stdout",
          "text": [
            "Saving round 83 aggregated_parameters...\n",
            "\u001b[2m\u001b[36m(launch_and_evaluate pid=2406)\u001b[0m [Client 34] evaluate, config: {}\n",
            "\u001b[2m\u001b[36m(launch_and_fit pid=2406)\u001b[0m [Client 89] fit, config: {'current_round': 83, 'local_epochs': 3}\u001b[32m [repeated 29x across cluster]\u001b[0m\n",
            "\u001b[2m\u001b[36m(launch_and_fit pid=2406)\u001b[0m Epoch 1: train loss 5.778729246230796e-05, accuracy 0.7962962962962963\u001b[32m [repeated 29x across cluster]\u001b[0m\n",
            "\u001b[2m\u001b[36m(launch_and_evaluate pid=2406)\u001b[0m [Client 99] evaluate, config: {}\n",
            "\u001b[2m\u001b[36m(launch_and_evaluate pid=2405)\u001b[0m [Client 84] evaluate, config: {}\u001b[32m [repeated 25x across cluster]\u001b[0m\n"
          ]
        },
        {
          "output_type": "stream",
          "name": "stderr",
          "text": [
            "DEBUG flower 2023-07-19 14:27:33,599 | server.py:170 | evaluate_round received 0 results and 30 failures\n",
            "DEBUG:flower:evaluate_round received 0 results and 30 failures\n",
            "DEBUG flower 2023-07-19 14:27:33,612 | server.py:203 | fit_round: strategy sampled 30 clients (out of 100)\n",
            "DEBUG:flower:fit_round: strategy sampled 30 clients (out of 100)\n"
          ]
        },
        {
          "output_type": "stream",
          "name": "stdout",
          "text": [
            "\u001b[2m\u001b[36m(launch_and_fit pid=2406)\u001b[0m [Client 85] fit, config: {'current_round': 84, 'local_epochs': 3}\n",
            "\u001b[2m\u001b[36m(launch_and_fit pid=2405)\u001b[0m Epoch 1: train loss 6.280049274209887e-05, accuracy 0.8333333333333334\n",
            "\u001b[2m\u001b[36m(launch_and_evaluate pid=2406)\u001b[0m [Client 65] evaluate, config: {}\u001b[32m [repeated 3x across cluster]\u001b[0m\n",
            "\u001b[2m\u001b[36m(launch_and_fit pid=2405)\u001b[0m [Client 65] fit, config: {'current_round': 84, 'local_epochs': 3}\u001b[32m [repeated 17x across cluster]\u001b[0m\n",
            "\u001b[2m\u001b[36m(launch_and_fit pid=2405)\u001b[0m Epoch 1: train loss 4.747172715724446e-05, accuracy 0.8333333333333334\u001b[32m [repeated 17x across cluster]\u001b[0m\n"
          ]
        },
        {
          "output_type": "stream",
          "name": "stderr",
          "text": [
            "DEBUG flower 2023-07-19 14:27:41,960 | server.py:216 | fit_round received 30 results and 0 failures\n",
            "DEBUG:flower:fit_round received 30 results and 0 failures\n",
            "DEBUG flower 2023-07-19 14:27:42,073 | server.py:157 | evaluate_round: strategy sampled 30 clients (out of 100)\n",
            "DEBUG:flower:evaluate_round: strategy sampled 30 clients (out of 100)\n"
          ]
        },
        {
          "output_type": "stream",
          "name": "stdout",
          "text": [
            "Saving round 84 aggregated_parameters...\n",
            "\u001b[2m\u001b[36m(launch_and_evaluate pid=2406)\u001b[0m [Client 10] evaluate, config: {}\u001b[32m [repeated 6x across cluster]\u001b[0m\n",
            "\u001b[2m\u001b[36m(launch_and_fit pid=2406)\u001b[0m [Client 69] fit, config: {'current_round': 84, 'local_epochs': 3}\u001b[32m [repeated 12x across cluster]\u001b[0m\n"
          ]
        },
        {
          "output_type": "stream",
          "name": "stderr",
          "text": [
            "DEBUG flower 2023-07-19 14:27:46,612 | server.py:170 | evaluate_round received 0 results and 30 failures\n",
            "DEBUG:flower:evaluate_round received 0 results and 30 failures\n",
            "DEBUG flower 2023-07-19 14:27:46,616 | server.py:203 | fit_round: strategy sampled 30 clients (out of 100)\n",
            "DEBUG:flower:fit_round: strategy sampled 30 clients (out of 100)\n"
          ]
        },
        {
          "output_type": "stream",
          "name": "stdout",
          "text": [
            "\u001b[2m\u001b[36m(launch_and_fit pid=2406)\u001b[0m Epoch 1: train loss 4.826545773539692e-05, accuracy 0.8518518518518519\u001b[32m [repeated 12x across cluster]\u001b[0m\n",
            "\u001b[2m\u001b[36m(launch_and_evaluate pid=2405)\u001b[0m [Client 86] evaluate, config: {}\u001b[32m [repeated 24x across cluster]\u001b[0m\n",
            "\u001b[2m\u001b[36m(launch_and_fit pid=2406)\u001b[0m [Client 24] fit, config: {'current_round': 85, 'local_epochs': 3}\u001b[32m [repeated 16x across cluster]\u001b[0m\n",
            "\u001b[2m\u001b[36m(launch_and_fit pid=2406)\u001b[0m Epoch 1: train loss 6.434813258238137e-05, accuracy 0.7407407407407407\u001b[32m [repeated 16x across cluster]\u001b[0m\n"
          ]
        },
        {
          "output_type": "stream",
          "name": "stderr",
          "text": [
            "DEBUG flower 2023-07-19 14:27:53,466 | server.py:216 | fit_round received 30 results and 0 failures\n",
            "DEBUG:flower:fit_round received 30 results and 0 failures\n",
            "DEBUG flower 2023-07-19 14:27:53,620 | server.py:157 | evaluate_round: strategy sampled 30 clients (out of 100)\n",
            "DEBUG:flower:evaluate_round: strategy sampled 30 clients (out of 100)\n"
          ]
        },
        {
          "output_type": "stream",
          "name": "stdout",
          "text": [
            "Saving round 85 aggregated_parameters...\n",
            "\u001b[2m\u001b[36m(launch_and_evaluate pid=2405)\u001b[0m [Client 56] evaluate, config: {}\n",
            "\u001b[2m\u001b[36m(launch_and_evaluate pid=2406)\u001b[0m [Client 12] evaluate, config: {}\n",
            "\u001b[2m\u001b[36m(launch_and_fit pid=2405)\u001b[0m [Client 67] fit, config: {'current_round': 85, 'local_epochs': 3}\u001b[32m [repeated 14x across cluster]\u001b[0m\n",
            "\u001b[2m\u001b[36m(launch_and_fit pid=2405)\u001b[0m Epoch 1: train loss 6.0041547840228304e-05, accuracy 0.7777777777777778\u001b[32m [repeated 14x across cluster]\u001b[0m\n",
            "\u001b[2m\u001b[36m(launch_and_evaluate pid=2405)\u001b[0m [Client 7] evaluate, config: {}\u001b[32m [repeated 22x across cluster]\u001b[0m\n"
          ]
        },
        {
          "output_type": "stream",
          "name": "stderr",
          "text": [
            "DEBUG flower 2023-07-19 14:28:00,724 | server.py:170 | evaluate_round received 0 results and 30 failures\n",
            "DEBUG:flower:evaluate_round received 0 results and 30 failures\n",
            "DEBUG flower 2023-07-19 14:28:00,736 | server.py:203 | fit_round: strategy sampled 30 clients (out of 100)\n",
            "DEBUG:flower:fit_round: strategy sampled 30 clients (out of 100)\n"
          ]
        },
        {
          "output_type": "stream",
          "name": "stdout",
          "text": [
            "\u001b[2m\u001b[36m(launch_and_fit pid=2405)\u001b[0m [Client 46] fit, config: {'current_round': 86, 'local_epochs': 3}\n",
            "\u001b[2m\u001b[36m(launch_and_fit pid=2405)\u001b[0m Epoch 1: train loss 5.363887612475082e-05, accuracy 0.7962962962962963\n",
            "\u001b[2m\u001b[36m(launch_and_evaluate pid=2405)\u001b[0m [Client 49] evaluate, config: {}\u001b[32m [repeated 6x across cluster]\u001b[0m\n",
            "\u001b[2m\u001b[36m(launch_and_fit pid=2406)\u001b[0m [Client 37] fit, config: {'current_round': 86, 'local_epochs': 3}\u001b[32m [repeated 26x across cluster]\u001b[0m\n",
            "\u001b[2m\u001b[36m(launch_and_fit pid=2405)\u001b[0m Epoch 1: train loss 7.492923032259569e-05, accuracy 0.7777777777777778\u001b[32m [repeated 27x across cluster]\u001b[0m\n"
          ]
        },
        {
          "output_type": "stream",
          "name": "stderr",
          "text": [
            "DEBUG flower 2023-07-19 14:28:06,867 | server.py:216 | fit_round received 30 results and 0 failures\n",
            "DEBUG:flower:fit_round received 30 results and 0 failures\n",
            "DEBUG flower 2023-07-19 14:28:06,979 | server.py:157 | evaluate_round: strategy sampled 30 clients (out of 100)\n",
            "DEBUG:flower:evaluate_round: strategy sampled 30 clients (out of 100)\n"
          ]
        },
        {
          "output_type": "stream",
          "name": "stdout",
          "text": [
            "Saving round 86 aggregated_parameters...\n",
            "\u001b[2m\u001b[36m(launch_and_evaluate pid=2405)\u001b[0m [Client 40] evaluate, config: {}\u001b[32m [repeated 15x across cluster]\u001b[0m\n",
            "\u001b[2m\u001b[36m(launch_and_fit pid=2405)\u001b[0m [Client 90] fit, config: {'current_round': 86, 'local_epochs': 3}\u001b[32m [repeated 3x across cluster]\u001b[0m\n",
            "\u001b[2m\u001b[36m(launch_and_fit pid=2405)\u001b[0m Epoch 1: train loss 5.8766578149516135e-05, accuracy 0.7592592592592593\u001b[32m [repeated 2x across cluster]\u001b[0m\n"
          ]
        },
        {
          "output_type": "stream",
          "name": "stderr",
          "text": [
            "DEBUG flower 2023-07-19 14:28:12,913 | server.py:170 | evaluate_round received 0 results and 30 failures\n",
            "DEBUG:flower:evaluate_round received 0 results and 30 failures\n",
            "DEBUG flower 2023-07-19 14:28:12,920 | server.py:203 | fit_round: strategy sampled 30 clients (out of 100)\n",
            "DEBUG:flower:fit_round: strategy sampled 30 clients (out of 100)\n"
          ]
        },
        {
          "output_type": "stream",
          "name": "stdout",
          "text": [
            "\u001b[2m\u001b[36m(launch_and_evaluate pid=2406)\u001b[0m [Client 30] evaluate, config: {}\u001b[32m [repeated 15x across cluster]\u001b[0m\n",
            "\u001b[2m\u001b[36m(launch_and_fit pid=2406)\u001b[0m [Client 19] fit, config: {'current_round': 87, 'local_epochs': 3}\u001b[32m [repeated 10x across cluster]\u001b[0m\n",
            "\u001b[2m\u001b[36m(launch_and_fit pid=2406)\u001b[0m Epoch 1: train loss 3.465110421529971e-05, accuracy 0.8703703703703703\u001b[32m [repeated 10x across cluster]\u001b[0m\n"
          ]
        },
        {
          "output_type": "stream",
          "name": "stderr",
          "text": [
            "DEBUG flower 2023-07-19 14:28:21,889 | server.py:216 | fit_round received 30 results and 0 failures\n",
            "DEBUG:flower:fit_round received 30 results and 0 failures\n",
            "DEBUG flower 2023-07-19 14:28:21,985 | server.py:157 | evaluate_round: strategy sampled 30 clients (out of 100)\n",
            "DEBUG:flower:evaluate_round: strategy sampled 30 clients (out of 100)\n"
          ]
        },
        {
          "output_type": "stream",
          "name": "stdout",
          "text": [
            "Saving round 87 aggregated_parameters...\n",
            "\u001b[2m\u001b[36m(launch_and_evaluate pid=2406)\u001b[0m [Client 62] evaluate, config: {}\n",
            "\u001b[2m\u001b[36m(launch_and_fit pid=2406)\u001b[0m [Client 97] fit, config: {'current_round': 87, 'local_epochs': 3}\u001b[32m [repeated 20x across cluster]\u001b[0m\n",
            "\u001b[2m\u001b[36m(launch_and_fit pid=2406)\u001b[0m Epoch 1: train loss 5.288726606522687e-05, accuracy 0.8333333333333334\u001b[32m [repeated 20x across cluster]\u001b[0m\n"
          ]
        },
        {
          "output_type": "stream",
          "name": "stderr",
          "text": [
            "DEBUG flower 2023-07-19 14:28:26,992 | server.py:170 | evaluate_round received 0 results and 30 failures\n",
            "DEBUG:flower:evaluate_round received 0 results and 30 failures\n",
            "DEBUG flower 2023-07-19 14:28:27,008 | server.py:203 | fit_round: strategy sampled 30 clients (out of 100)\n",
            "DEBUG:flower:fit_round: strategy sampled 30 clients (out of 100)\n"
          ]
        },
        {
          "output_type": "stream",
          "name": "stdout",
          "text": [
            "\u001b[2m\u001b[36m(launch_and_evaluate pid=2406)\u001b[0m [Client 86] evaluate, config: {}\u001b[32m [repeated 29x across cluster]\u001b[0m\n",
            "\u001b[2m\u001b[36m(launch_and_fit pid=2406)\u001b[0m [Client 28] fit, config: {'current_round': 88, 'local_epochs': 3}\n",
            "\u001b[2m\u001b[36m(launch_and_fit pid=2405)\u001b[0m [Client 18] fit, config: {'current_round': 88, 'local_epochs': 3}\n",
            "\u001b[2m\u001b[36m(launch_and_fit pid=2406)\u001b[0m Epoch 1: train loss 5.454797064885497e-05, accuracy 0.8518518518518519\n",
            "\u001b[2m\u001b[36m(launch_and_fit pid=2405)\u001b[0m [Client 8] fit, config: {'current_round': 88, 'local_epochs': 3}\n",
            "\u001b[2m\u001b[36m(launch_and_fit pid=2405)\u001b[0m [Client 56] fit, config: {'current_round': 88, 'local_epochs': 3}\n",
            "\u001b[2m\u001b[36m(launch_and_fit pid=2405)\u001b[0m [Client 68] fit, config: {'current_round': 88, 'local_epochs': 3}\u001b[32m [repeated 18x across cluster]\u001b[0m\n"
          ]
        },
        {
          "output_type": "stream",
          "name": "stderr",
          "text": [
            "DEBUG flower 2023-07-19 14:28:35,203 | server.py:216 | fit_round received 30 results and 0 failures\n",
            "DEBUG:flower:fit_round received 30 results and 0 failures\n",
            "DEBUG flower 2023-07-19 14:28:35,395 | server.py:157 | evaluate_round: strategy sampled 30 clients (out of 100)\n",
            "DEBUG:flower:evaluate_round: strategy sampled 30 clients (out of 100)\n"
          ]
        },
        {
          "output_type": "stream",
          "name": "stdout",
          "text": [
            "\u001b[2m\u001b[36m(launch_and_fit pid=2405)\u001b[0m Epoch 1: train loss 7.64203941798769e-05, accuracy 0.7777777777777778\u001b[32m [repeated 21x across cluster]\u001b[0m\n",
            "Saving round 88 aggregated_parameters...\n",
            "\u001b[2m\u001b[36m(launch_and_evaluate pid=2405)\u001b[0m [Client 14] evaluate, config: {}\n",
            "\u001b[2m\u001b[36m(launch_and_fit pid=2405)\u001b[0m [Client 53] fit, config: {'current_round': 88, 'local_epochs': 3}\u001b[32m [repeated 8x across cluster]\u001b[0m\n",
            "\u001b[2m\u001b[36m(launch_and_fit pid=2405)\u001b[0m Epoch 1: train loss 6.700283847749233e-05, accuracy 0.7777777777777778\u001b[32m [repeated 8x across cluster]\u001b[0m\n",
            "\u001b[2m\u001b[36m(launch_and_evaluate pid=2405)\u001b[0m [Client 15] evaluate, config: {}\u001b[32m [repeated 18x across cluster]\u001b[0m\n"
          ]
        },
        {
          "output_type": "stream",
          "name": "stderr",
          "text": [
            "DEBUG flower 2023-07-19 14:28:44,746 | server.py:170 | evaluate_round received 0 results and 30 failures\n",
            "DEBUG:flower:evaluate_round received 0 results and 30 failures\n",
            "DEBUG flower 2023-07-19 14:28:44,752 | server.py:203 | fit_round: strategy sampled 30 clients (out of 100)\n",
            "DEBUG:flower:fit_round: strategy sampled 30 clients (out of 100)\n"
          ]
        },
        {
          "output_type": "stream",
          "name": "stdout",
          "text": [
            "\u001b[2m\u001b[36m(launch_and_fit pid=2406)\u001b[0m [Client 91] fit, config: {'current_round': 89, 'local_epochs': 3}\n",
            "\u001b[2m\u001b[36m(launch_and_fit pid=2406)\u001b[0m Epoch 1: train loss 2.6503657863941044e-05, accuracy 0.9444444444444444\n",
            "\u001b[2m\u001b[36m(launch_and_evaluate pid=2406)\u001b[0m [Client 1] evaluate, config: {}\u001b[32m [repeated 11x across cluster]\u001b[0m\n",
            "\u001b[2m\u001b[36m(launch_and_fit pid=2406)\u001b[0m [Client 68] fit, config: {'current_round': 89, 'local_epochs': 3}\u001b[32m [repeated 21x across cluster]\u001b[0m\n",
            "\u001b[2m\u001b[36m(launch_and_fit pid=2406)\u001b[0m Epoch 1: train loss 5.802008672617376e-05, accuracy 0.8148148148148148\u001b[32m [repeated 21x across cluster]\u001b[0m\n"
          ]
        },
        {
          "output_type": "stream",
          "name": "stderr",
          "text": [
            "DEBUG flower 2023-07-19 14:28:51,938 | server.py:216 | fit_round received 30 results and 0 failures\n",
            "DEBUG:flower:fit_round received 30 results and 0 failures\n",
            "DEBUG flower 2023-07-19 14:28:52,041 | server.py:157 | evaluate_round: strategy sampled 30 clients (out of 100)\n",
            "DEBUG:flower:evaluate_round: strategy sampled 30 clients (out of 100)\n"
          ]
        },
        {
          "output_type": "stream",
          "name": "stdout",
          "text": [
            "Saving round 89 aggregated_parameters...\n",
            "\u001b[2m\u001b[36m(launch_and_evaluate pid=2406)\u001b[0m [Client 32] evaluate, config: {}\n",
            "\u001b[2m\u001b[36m(launch_and_evaluate pid=2405)\u001b[0m [Client 13] evaluate, config: {}\n",
            "\u001b[2m\u001b[36m(launch_and_fit pid=2406)\u001b[0m [Client 14] fit, config: {'current_round': 89, 'local_epochs': 3}\u001b[32m [repeated 8x across cluster]\u001b[0m\n",
            "\u001b[2m\u001b[36m(launch_and_fit pid=2406)\u001b[0m Epoch 1: train loss 6.788175960537046e-05, accuracy 0.7777777777777778\u001b[32m [repeated 8x across cluster]\u001b[0m\n"
          ]
        },
        {
          "output_type": "stream",
          "name": "stderr",
          "text": [
            "DEBUG flower 2023-07-19 14:28:56,843 | server.py:170 | evaluate_round received 0 results and 30 failures\n",
            "DEBUG:flower:evaluate_round received 0 results and 30 failures\n",
            "DEBUG flower 2023-07-19 14:28:56,855 | server.py:203 | fit_round: strategy sampled 30 clients (out of 100)\n",
            "DEBUG:flower:fit_round: strategy sampled 30 clients (out of 100)\n"
          ]
        },
        {
          "output_type": "stream",
          "name": "stdout",
          "text": [
            "\u001b[2m\u001b[36m(launch_and_evaluate pid=2405)\u001b[0m [Client 35] evaluate, config: {}\u001b[32m [repeated 28x across cluster]\u001b[0m\n",
            "\u001b[2m\u001b[36m(launch_and_fit pid=2405)\u001b[0m [Client 61] fit, config: {'current_round': 90, 'local_epochs': 3}\u001b[32m [repeated 11x across cluster]\u001b[0m\n",
            "\u001b[2m\u001b[36m(launch_and_fit pid=2405)\u001b[0m Epoch 1: train loss 5.424503251560964e-05, accuracy 0.8333333333333334\u001b[32m [repeated 11x across cluster]\u001b[0m\n",
            "\u001b[2m\u001b[36m(launch_and_fit pid=2406)\u001b[0m [Client 86] fit, config: {'current_round': 90, 'local_epochs': 3}\u001b[32m [repeated 17x across cluster]\u001b[0m\n"
          ]
        },
        {
          "output_type": "stream",
          "name": "stderr",
          "text": [
            "DEBUG flower 2023-07-19 14:29:06,355 | server.py:216 | fit_round received 30 results and 0 failures\n",
            "DEBUG:flower:fit_round received 30 results and 0 failures\n"
          ]
        },
        {
          "output_type": "stream",
          "name": "stdout",
          "text": [
            "\u001b[2m\u001b[36m(launch_and_fit pid=2406)\u001b[0m Epoch 1: train loss 5.367727862903848e-05, accuracy 0.8703703703703703\u001b[32m [repeated 17x across cluster]\u001b[0m\n"
          ]
        },
        {
          "output_type": "stream",
          "name": "stderr",
          "text": [
            "DEBUG flower 2023-07-19 14:29:06,520 | server.py:157 | evaluate_round: strategy sampled 30 clients (out of 100)\n",
            "DEBUG:flower:evaluate_round: strategy sampled 30 clients (out of 100)\n"
          ]
        },
        {
          "output_type": "stream",
          "name": "stdout",
          "text": [
            "Saving round 90 aggregated_parameters...\n",
            "\u001b[2m\u001b[36m(launch_and_evaluate pid=2406)\u001b[0m [Client 63] evaluate, config: {}\n",
            "\u001b[2m\u001b[36m(launch_and_fit pid=2406)\u001b[0m [Client 62] fit, config: {'current_round': 90, 'local_epochs': 3}\u001b[32m [repeated 2x across cluster]\u001b[0m\n",
            "\u001b[2m\u001b[36m(launch_and_fit pid=2406)\u001b[0m Epoch 1: train loss 5.9137208154425025e-05, accuracy 0.8148148148148148\u001b[32m [repeated 2x across cluster]\u001b[0m\n"
          ]
        },
        {
          "output_type": "stream",
          "name": "stderr",
          "text": [
            "DEBUG flower 2023-07-19 14:29:11,886 | server.py:170 | evaluate_round received 0 results and 30 failures\n",
            "DEBUG:flower:evaluate_round received 0 results and 30 failures\n",
            "DEBUG flower 2023-07-19 14:29:11,895 | server.py:203 | fit_round: strategy sampled 30 clients (out of 100)\n",
            "DEBUG:flower:fit_round: strategy sampled 30 clients (out of 100)\n"
          ]
        },
        {
          "output_type": "stream",
          "name": "stdout",
          "text": [
            "\u001b[2m\u001b[36m(launch_and_evaluate pid=2406)\u001b[0m [Client 53] evaluate, config: {}\u001b[32m [repeated 29x across cluster]\u001b[0m\n",
            "\u001b[2m\u001b[36m(launch_and_fit pid=2406)\u001b[0m [Client 54] fit, config: {'current_round': 91, 'local_epochs': 3}\u001b[32m [repeated 19x across cluster]\u001b[0m\n",
            "\u001b[2m\u001b[36m(launch_and_fit pid=2405)\u001b[0m Epoch 1: train loss 7.241387356771156e-05, accuracy 0.7222222222222222\u001b[32m [repeated 18x across cluster]\u001b[0m\n"
          ]
        },
        {
          "output_type": "stream",
          "name": "stderr",
          "text": [
            "DEBUG flower 2023-07-19 14:29:18,648 | server.py:216 | fit_round received 30 results and 0 failures\n",
            "DEBUG:flower:fit_round received 30 results and 0 failures\n",
            "DEBUG flower 2023-07-19 14:29:18,793 | server.py:157 | evaluate_round: strategy sampled 30 clients (out of 100)\n",
            "DEBUG:flower:evaluate_round: strategy sampled 30 clients (out of 100)\n"
          ]
        },
        {
          "output_type": "stream",
          "name": "stdout",
          "text": [
            "Saving round 91 aggregated_parameters...\n",
            "\u001b[2m\u001b[36m(launch_and_evaluate pid=2406)\u001b[0m [Client 85] evaluate, config: {}\n",
            "\u001b[2m\u001b[36m(launch_and_fit pid=2406)\u001b[0m [Client 3] fit, config: {'current_round': 91, 'local_epochs': 3}\u001b[32m [repeated 11x across cluster]\u001b[0m\n",
            "\u001b[2m\u001b[36m(launch_and_fit pid=2406)\u001b[0m Epoch 1: train loss 6.170441338326782e-05, accuracy 0.8333333333333334\u001b[32m [repeated 12x across cluster]\u001b[0m\n",
            "\u001b[2m\u001b[36m(launch_and_evaluate pid=2405)\u001b[0m [Client 86] evaluate, config: {}\u001b[32m [repeated 8x across cluster]\u001b[0m\n",
            "\u001b[2m\u001b[36m(launch_and_evaluate pid=2406)\u001b[0m [Client 96] evaluate, config: {}\u001b[32m [repeated 8x across cluster]\u001b[0m\n"
          ]
        },
        {
          "output_type": "stream",
          "name": "stderr",
          "text": [
            "DEBUG flower 2023-07-19 14:29:35,393 | server.py:170 | evaluate_round received 0 results and 30 failures\n",
            "DEBUG:flower:evaluate_round received 0 results and 30 failures\n",
            "DEBUG flower 2023-07-19 14:29:35,396 | server.py:203 | fit_round: strategy sampled 30 clients (out of 100)\n",
            "DEBUG:flower:fit_round: strategy sampled 30 clients (out of 100)\n"
          ]
        },
        {
          "output_type": "stream",
          "name": "stdout",
          "text": [
            "\u001b[2m\u001b[36m(launch_and_fit pid=2405)\u001b[0m [Client 63] fit, config: {'current_round': 92, 'local_epochs': 3}\n",
            "\u001b[2m\u001b[36m(launch_and_evaluate pid=2405)\u001b[0m [Client 99] evaluate, config: {}\u001b[32m [repeated 13x across cluster]\u001b[0m\n",
            "\u001b[2m\u001b[36m(launch_and_fit pid=2406)\u001b[0m Epoch 1: train loss 5.0866514357039705e-05, accuracy 0.8148148148148148\n"
          ]
        },
        {
          "output_type": "stream",
          "name": "stderr",
          "text": [
            "DEBUG flower 2023-07-19 14:29:41,457 | server.py:216 | fit_round received 30 results and 0 failures\n",
            "DEBUG:flower:fit_round received 30 results and 0 failures\n",
            "DEBUG flower 2023-07-19 14:29:41,564 | server.py:157 | evaluate_round: strategy sampled 30 clients (out of 100)\n",
            "DEBUG:flower:evaluate_round: strategy sampled 30 clients (out of 100)\n"
          ]
        },
        {
          "output_type": "stream",
          "name": "stdout",
          "text": [
            "\u001b[2m\u001b[36m(launch_and_fit pid=2405)\u001b[0m [Client 76] fit, config: {'current_round': 92, 'local_epochs': 3}\u001b[32m [repeated 28x across cluster]\u001b[0m\n",
            "\u001b[2m\u001b[36m(launch_and_fit pid=2405)\u001b[0m Epoch 1: train loss 4.358170917839743e-05, accuracy 0.8518518518518519\u001b[32m [repeated 28x across cluster]\u001b[0m\n",
            "Saving round 92 aggregated_parameters...\n",
            "\u001b[2m\u001b[36m(launch_and_evaluate pid=2406)\u001b[0m [Client 3] evaluate, config: {}\n",
            "\u001b[2m\u001b[36m(launch_and_fit pid=2406)\u001b[0m [Client 85] evaluate, config: {}\n",
            "\u001b[2m\u001b[36m(launch_and_fit pid=2406)\u001b[0m [Client 85] evaluate, config: {}\n",
            "\u001b[2m\u001b[36m(launch_and_evaluate pid=2405)\u001b[0m [Client 57] evaluate, config: {}\u001b[32m [repeated 20x across cluster]\u001b[0m\n"
          ]
        },
        {
          "output_type": "stream",
          "name": "stderr",
          "text": [
            "DEBUG flower 2023-07-19 14:29:49,307 | server.py:170 | evaluate_round received 0 results and 30 failures\n",
            "DEBUG:flower:evaluate_round received 0 results and 30 failures\n",
            "DEBUG flower 2023-07-19 14:29:49,317 | server.py:203 | fit_round: strategy sampled 30 clients (out of 100)\n",
            "DEBUG:flower:fit_round: strategy sampled 30 clients (out of 100)\n"
          ]
        },
        {
          "output_type": "stream",
          "name": "stdout",
          "text": [
            "\u001b[2m\u001b[36m(launch_and_fit pid=2406)\u001b[0m [Client 60] fit, config: {'current_round': 93, 'local_epochs': 3}\n",
            "\u001b[2m\u001b[36m(launch_and_fit pid=2406)\u001b[0m Epoch 1: train loss 3.273683978477493e-05, accuracy 0.8888888888888888\n",
            "\u001b[2m\u001b[36m(launch_and_evaluate pid=2406)\u001b[0m [Client 72] evaluate, config: {}\u001b[32m [repeated 9x across cluster]\u001b[0m\n",
            "\u001b[2m\u001b[36m(launch_and_fit pid=2406)\u001b[0m [Client 49] fit, config: {'current_round': 93, 'local_epochs': 3}\u001b[32m [repeated 10x across cluster]\u001b[0m\n",
            "\u001b[2m\u001b[36m(launch_and_fit pid=2406)\u001b[0m Epoch 1: train loss 2.3155176677391864e-05, accuracy 0.9629629629629629\u001b[32m [repeated 11x across cluster]\u001b[0m\n"
          ]
        },
        {
          "output_type": "stream",
          "name": "stderr",
          "text": [
            "DEBUG flower 2023-07-19 14:29:59,355 | server.py:216 | fit_round received 30 results and 0 failures\n",
            "DEBUG:flower:fit_round received 30 results and 0 failures\n",
            "DEBUG flower 2023-07-19 14:29:59,468 | server.py:157 | evaluate_round: strategy sampled 30 clients (out of 100)\n",
            "DEBUG:flower:evaluate_round: strategy sampled 30 clients (out of 100)\n"
          ]
        },
        {
          "output_type": "stream",
          "name": "stdout",
          "text": [
            "Saving round 93 aggregated_parameters...\n",
            "\u001b[2m\u001b[36m(launch_and_evaluate pid=2406)\u001b[0m [Client 20] evaluate, config: {}\n",
            "\u001b[2m\u001b[36m(launch_and_fit pid=2405)\u001b[0m [Client 63] fit, config: {'current_round': 93, 'local_epochs': 3}\u001b[32m [repeated 19x across cluster]\u001b[0m\n",
            "\u001b[2m\u001b[36m(launch_and_fit pid=2406)\u001b[0m Epoch 1: train loss 5.9678812249330804e-05, accuracy 0.7962962962962963\u001b[32m [repeated 18x across cluster]\u001b[0m\n"
          ]
        },
        {
          "output_type": "stream",
          "name": "stderr",
          "text": [
            "DEBUG flower 2023-07-19 14:30:04,251 | server.py:170 | evaluate_round received 0 results and 30 failures\n",
            "DEBUG:flower:evaluate_round received 0 results and 30 failures\n",
            "DEBUG flower 2023-07-19 14:30:04,263 | server.py:203 | fit_round: strategy sampled 30 clients (out of 100)\n",
            "DEBUG:flower:fit_round: strategy sampled 30 clients (out of 100)\n"
          ]
        },
        {
          "output_type": "stream",
          "name": "stdout",
          "text": [
            "\u001b[2m\u001b[36m(launch_and_evaluate pid=2405)\u001b[0m [Client 74] evaluate, config: {}\u001b[32m [repeated 29x across cluster]\u001b[0m\n",
            "\u001b[2m\u001b[36m(launch_and_fit pid=2406)\u001b[0m [Client 97] fit, config: {'current_round': 94, 'local_epochs': 3}\u001b[32m [repeated 4x across cluster]\u001b[0m\n",
            "\u001b[2m\u001b[36m(launch_and_fit pid=2405)\u001b[0m Epoch 1: train loss 5.001269528293051e-05, accuracy 0.7962962962962963\u001b[32m [repeated 4x across cluster]\u001b[0m\n",
            "\u001b[2m\u001b[36m(launch_and_fit pid=2406)\u001b[0m [Client 19] fit, config: {'current_round': 94, 'local_epochs': 3}\u001b[32m [repeated 15x across cluster]\u001b[0m\n",
            "\u001b[2m\u001b[36m(launch_and_fit pid=2406)\u001b[0m Epoch 1: train loss 5.599995711236261e-05, accuracy 0.7777777777777778\u001b[32m [repeated 17x across cluster]\u001b[0m\n"
          ]
        },
        {
          "output_type": "stream",
          "name": "stderr",
          "text": [
            "DEBUG flower 2023-07-19 14:30:14,413 | server.py:216 | fit_round received 30 results and 0 failures\n",
            "DEBUG:flower:fit_round received 30 results and 0 failures\n",
            "DEBUG flower 2023-07-19 14:30:14,556 | server.py:157 | evaluate_round: strategy sampled 30 clients (out of 100)\n",
            "DEBUG:flower:evaluate_round: strategy sampled 30 clients (out of 100)\n"
          ]
        },
        {
          "output_type": "stream",
          "name": "stdout",
          "text": [
            "Saving round 94 aggregated_parameters...\n",
            "\u001b[2m\u001b[36m(launch_and_evaluate pid=2405)\u001b[0m [Client 0] evaluate, config: {}\n",
            "\u001b[2m\u001b[36m(launch_and_fit pid=2405)\u001b[0m [Client 51] fit, config: {'current_round': 94, 'local_epochs': 3}\u001b[32m [repeated 11x across cluster]\u001b[0m\n",
            "\u001b[2m\u001b[36m(launch_and_fit pid=2406)\u001b[0m Epoch 1: train loss 6.295115599641576e-05, accuracy 0.8703703703703703\u001b[32m [repeated 9x across cluster]\u001b[0m\n"
          ]
        },
        {
          "output_type": "stream",
          "name": "stderr",
          "text": [
            "DEBUG flower 2023-07-19 14:30:19,376 | server.py:170 | evaluate_round received 0 results and 30 failures\n",
            "DEBUG:flower:evaluate_round received 0 results and 30 failures\n",
            "DEBUG flower 2023-07-19 14:30:19,382 | server.py:203 | fit_round: strategy sampled 30 clients (out of 100)\n",
            "DEBUG:flower:fit_round: strategy sampled 30 clients (out of 100)\n"
          ]
        },
        {
          "output_type": "stream",
          "name": "stdout",
          "text": [
            "\u001b[2m\u001b[36m(launch_and_evaluate pid=2406)\u001b[0m [Client 34] evaluate, config: {}\u001b[32m [repeated 29x across cluster]\u001b[0m\n",
            "\u001b[2m\u001b[36m(launch_and_fit pid=2406)\u001b[0m [Client 49] fit, config: {'current_round': 95, 'local_epochs': 3}\u001b[32m [repeated 8x across cluster]\u001b[0m\n",
            "\u001b[2m\u001b[36m(launch_and_fit pid=2406)\u001b[0m Epoch 1: train loss 4.2953914089594036e-05, accuracy 0.8333333333333334\u001b[32m [repeated 13x across cluster]\u001b[0m\n"
          ]
        },
        {
          "output_type": "stream",
          "name": "stderr",
          "text": [
            "DEBUG flower 2023-07-19 14:30:24,973 | server.py:216 | fit_round received 30 results and 0 failures\n",
            "DEBUG:flower:fit_round received 30 results and 0 failures\n",
            "DEBUG flower 2023-07-19 14:30:25,082 | server.py:157 | evaluate_round: strategy sampled 30 clients (out of 100)\n",
            "DEBUG:flower:evaluate_round: strategy sampled 30 clients (out of 100)\n"
          ]
        },
        {
          "output_type": "stream",
          "name": "stdout",
          "text": [
            "Saving round 95 aggregated_parameters...\n",
            "\u001b[2m\u001b[36m(launch_and_evaluate pid=2406)\u001b[0m [Client 36] evaluate, config: {}\n",
            "\u001b[2m\u001b[36m(launch_and_evaluate pid=2405)\u001b[0m [Client 87] evaluate, config: {}\n",
            "\u001b[2m\u001b[36m(launch_and_fit pid=2406)\u001b[0m [Client 4] fit, config: {'current_round': 95, 'local_epochs': 3}\u001b[32m [repeated 22x across cluster]\u001b[0m\n",
            "\u001b[2m\u001b[36m(launch_and_fit pid=2406)\u001b[0m Epoch 1: train loss 3.468630166025832e-05, accuracy 0.8888888888888888\u001b[32m [repeated 17x across cluster]\u001b[0m\n",
            "\u001b[2m\u001b[36m(launch_and_evaluate pid=2405)\u001b[0m [Client 72] evaluate, config: {}\u001b[32m [repeated 21x across cluster]\u001b[0m\n"
          ]
        },
        {
          "output_type": "stream",
          "name": "stderr",
          "text": [
            "DEBUG flower 2023-07-19 14:30:32,604 | server.py:170 | evaluate_round received 0 results and 30 failures\n",
            "DEBUG:flower:evaluate_round received 0 results and 30 failures\n",
            "DEBUG flower 2023-07-19 14:30:32,609 | server.py:203 | fit_round: strategy sampled 30 clients (out of 100)\n",
            "DEBUG:flower:fit_round: strategy sampled 30 clients (out of 100)\n"
          ]
        },
        {
          "output_type": "stream",
          "name": "stdout",
          "text": [
            "\u001b[2m\u001b[36m(launch_and_fit pid=2406)\u001b[0m [Client 36] fit, config: {'current_round': 96, 'local_epochs': 3}\n",
            "\u001b[2m\u001b[36m(launch_and_fit pid=2406)\u001b[0m Epoch 1: train loss 3.558072785381228e-05, accuracy 0.8888888888888888\n",
            "\u001b[2m\u001b[36m(launch_and_evaluate pid=2406)\u001b[0m [Client 71] evaluate, config: {}\u001b[32m [repeated 7x across cluster]\u001b[0m\n",
            "\u001b[2m\u001b[36m(launch_and_fit pid=2406)\u001b[0m [Client 46] fit, config: {'current_round': 96, 'local_epochs': 3}\u001b[32m [repeated 22x across cluster]\u001b[0m\n",
            "\u001b[2m\u001b[36m(launch_and_fit pid=2406)\u001b[0m Epoch 1: train loss 4.976507625542581e-05, accuracy 0.8333333333333334\u001b[32m [repeated 22x across cluster]\u001b[0m\n"
          ]
        },
        {
          "output_type": "stream",
          "name": "stderr",
          "text": [
            "DEBUG flower 2023-07-19 14:30:39,413 | server.py:216 | fit_round received 30 results and 0 failures\n",
            "DEBUG:flower:fit_round received 30 results and 0 failures\n",
            "DEBUG flower 2023-07-19 14:30:39,520 | server.py:157 | evaluate_round: strategy sampled 30 clients (out of 100)\n",
            "DEBUG:flower:evaluate_round: strategy sampled 30 clients (out of 100)\n"
          ]
        },
        {
          "output_type": "stream",
          "name": "stdout",
          "text": [
            "Saving round 96 aggregated_parameters...\n",
            "\u001b[2m\u001b[36m(launch_and_evaluate pid=2405)\u001b[0m [Client 37] evaluate, config: {}\u001b[32m [repeated 11x across cluster]\u001b[0m\n",
            "\u001b[2m\u001b[36m(launch_and_evaluate pid=2406)\u001b[0m \n",
            "\u001b[2m\u001b[36m(launch_and_fit pid=2406)\u001b[0m [Client 11] fit, config: {'current_round': 96, 'local_epochs': 3}\u001b[32m [repeated 7x across cluster]\u001b[0m\n",
            "\u001b[2m\u001b[36m(launch_and_fit pid=2406)\u001b[0m Epoch 1: train loss 4.448899198905565e-05, accuracy 0.8518518518518519\u001b[32m [repeated 7x across cluster]\u001b[0m\n"
          ]
        },
        {
          "output_type": "stream",
          "name": "stderr",
          "text": [
            "DEBUG flower 2023-07-19 14:30:44,122 | server.py:170 | evaluate_round received 0 results and 30 failures\n",
            "DEBUG:flower:evaluate_round received 0 results and 30 failures\n",
            "DEBUG flower 2023-07-19 14:30:44,128 | server.py:203 | fit_round: strategy sampled 30 clients (out of 100)\n",
            "DEBUG:flower:fit_round: strategy sampled 30 clients (out of 100)\n"
          ]
        },
        {
          "output_type": "stream",
          "name": "stdout",
          "text": [
            "\u001b[2m\u001b[36m(launch_and_evaluate pid=2406)\u001b[0m [Client 26] evaluate, config: {}\u001b[32m [repeated 19x across cluster]\u001b[0m\n",
            "\u001b[2m\u001b[36m(launch_and_fit pid=2405)\u001b[0m [Client 72] fit, config: {'current_round': 97, 'local_epochs': 3}\u001b[32m [repeated 16x across cluster]\u001b[0m\n",
            "\u001b[2m\u001b[36m(launch_and_fit pid=2405)\u001b[0m Epoch 1: train loss 3.769035538425669e-05, accuracy 0.8703703703703703\u001b[32m [repeated 16x across cluster]\u001b[0m\n"
          ]
        },
        {
          "output_type": "stream",
          "name": "stderr",
          "text": [
            "DEBUG flower 2023-07-19 14:30:52,711 | server.py:216 | fit_round received 30 results and 0 failures\n",
            "DEBUG:flower:fit_round received 30 results and 0 failures\n",
            "DEBUG flower 2023-07-19 14:30:52,884 | server.py:157 | evaluate_round: strategy sampled 30 clients (out of 100)\n",
            "DEBUG:flower:evaluate_round: strategy sampled 30 clients (out of 100)\n"
          ]
        },
        {
          "output_type": "stream",
          "name": "stdout",
          "text": [
            "Saving round 97 aggregated_parameters...\n",
            "\u001b[2m\u001b[36m(launch_and_evaluate pid=2405)\u001b[0m [Client 82] evaluate, config: {}\n",
            "\u001b[2m\u001b[36m(launch_and_fit pid=2406)\u001b[0m [Client 23] fit, config: {'current_round': 97, 'local_epochs': 3}\u001b[32m [repeated 14x across cluster]\u001b[0m\n",
            "\u001b[2m\u001b[36m(launch_and_fit pid=2406)\u001b[0m Epoch 1: train loss 6.613196455873549e-05, accuracy 0.7037037037037037\u001b[32m [repeated 14x across cluster]\u001b[0m\n",
            "\u001b[2m\u001b[36m(launch_and_evaluate pid=2405)\u001b[0m [Client 0] evaluate, config: {}\n",
            "\u001b[2m\u001b[36m(launch_and_evaluate pid=2405)\u001b[0m [Client 95] evaluate, config: {}\n",
            "\u001b[2m\u001b[36m(launch_and_evaluate pid=2405)\u001b[0m [Client 61] evaluate, config: {}\n",
            "\u001b[2m\u001b[36m(launch_and_evaluate pid=2405)\u001b[0m [Client 39] evaluate, config: {}\n"
          ]
        },
        {
          "output_type": "stream",
          "name": "stderr",
          "text": [
            "DEBUG flower 2023-07-19 14:30:58,713 | server.py:170 | evaluate_round received 0 results and 30 failures\n",
            "DEBUG:flower:evaluate_round received 0 results and 30 failures\n",
            "DEBUG flower 2023-07-19 14:30:58,723 | server.py:203 | fit_round: strategy sampled 30 clients (out of 100)\n",
            "DEBUG:flower:fit_round: strategy sampled 30 clients (out of 100)\n"
          ]
        },
        {
          "output_type": "stream",
          "name": "stdout",
          "text": [
            "\u001b[2m\u001b[36m(launch_and_evaluate pid=2406)\u001b[0m [Client 66] evaluate, config: {}\u001b[32m [repeated 25x across cluster]\u001b[0m\n",
            "\u001b[2m\u001b[36m(launch_and_fit pid=2405)\u001b[0m [Client 8] fit, config: {'current_round': 98, 'local_epochs': 3}\n",
            "\u001b[2m\u001b[36m(launch_and_fit pid=2405)\u001b[0m Epoch 1: train loss 5.546279498958029e-05, accuracy 0.8333333333333334\n",
            "\u001b[2m\u001b[36m(launch_and_fit pid=2406)\u001b[0m [Client 33] fit, config: {'current_round': 98, 'local_epochs': 3}\n"
          ]
        },
        {
          "output_type": "stream",
          "name": "stderr",
          "text": [
            "DEBUG flower 2023-07-19 14:31:04,364 | server.py:216 | fit_round received 30 results and 0 failures\n",
            "DEBUG:flower:fit_round received 30 results and 0 failures\n",
            "DEBUG flower 2023-07-19 14:31:04,470 | server.py:157 | evaluate_round: strategy sampled 30 clients (out of 100)\n",
            "DEBUG:flower:evaluate_round: strategy sampled 30 clients (out of 100)\n"
          ]
        },
        {
          "output_type": "stream",
          "name": "stdout",
          "text": [
            "Saving round 98 aggregated_parameters...\n",
            "\u001b[2m\u001b[36m(launch_and_evaluate pid=2405)\u001b[0m [Client 31] evaluate, config: {}\n",
            "\u001b[2m\u001b[36m(launch_and_fit pid=2406)\u001b[0m Epoch 1: train loss 8.420050289714709e-05, accuracy 0.7407407407407407\u001b[32m [repeated 29x across cluster]\u001b[0m\n",
            "\u001b[2m\u001b[36m(launch_and_fit pid=2406)\u001b[0m [Client 17] fit, config: {'current_round': 98, 'local_epochs': 3}\u001b[32m [repeated 28x across cluster]\u001b[0m\n",
            "\u001b[2m\u001b[36m(launch_and_evaluate pid=2406)\u001b[0m [Client 1] evaluate, config: {}\n",
            "\u001b[2m\u001b[36m(launch_and_evaluate pid=2405)\u001b[0m [Client 58] evaluate, config: {}\u001b[32m [repeated 22x across cluster]\u001b[0m\n"
          ]
        },
        {
          "output_type": "stream",
          "name": "stderr",
          "text": [
            "DEBUG flower 2023-07-19 14:31:11,547 | server.py:170 | evaluate_round received 0 results and 30 failures\n",
            "DEBUG:flower:evaluate_round received 0 results and 30 failures\n",
            "DEBUG flower 2023-07-19 14:31:11,556 | server.py:203 | fit_round: strategy sampled 30 clients (out of 100)\n",
            "DEBUG:flower:fit_round: strategy sampled 30 clients (out of 100)\n"
          ]
        },
        {
          "output_type": "stream",
          "name": "stdout",
          "text": [
            "\u001b[2m\u001b[36m(launch_and_fit pid=2405)\u001b[0m [Client 66] fit, config: {'current_round': 99, 'local_epochs': 3}\n",
            "\u001b[2m\u001b[36m(launch_and_fit pid=2405)\u001b[0m Epoch 1: train loss 4.014381920569576e-05, accuracy 0.8888888888888888\n",
            "\u001b[2m\u001b[36m(launch_and_evaluate pid=2405)\u001b[0m [Client 28] evaluate, config: {}\u001b[32m [repeated 6x across cluster]\u001b[0m\n",
            "\u001b[2m\u001b[36m(launch_and_fit pid=2405)\u001b[0m [Client 75] fit, config: {'current_round': 99, 'local_epochs': 3}\u001b[32m [repeated 18x across cluster]\u001b[0m\n",
            "\u001b[2m\u001b[36m(launch_and_fit pid=2405)\u001b[0m Epoch 1: train loss 5.5148084356915206e-05, accuracy 0.7777777777777778\u001b[32m [repeated 18x across cluster]\u001b[0m\n"
          ]
        },
        {
          "output_type": "stream",
          "name": "stderr",
          "text": [
            "DEBUG flower 2023-07-19 14:31:19,370 | server.py:216 | fit_round received 30 results and 0 failures\n",
            "DEBUG:flower:fit_round received 30 results and 0 failures\n",
            "DEBUG flower 2023-07-19 14:31:19,466 | server.py:157 | evaluate_round: strategy sampled 30 clients (out of 100)\n",
            "DEBUG:flower:evaluate_round: strategy sampled 30 clients (out of 100)\n"
          ]
        },
        {
          "output_type": "stream",
          "name": "stdout",
          "text": [
            "Saving round 99 aggregated_parameters...\n",
            "\u001b[2m\u001b[36m(launch_and_evaluate pid=2406)\u001b[0m [Client 36] evaluate, config: {}\u001b[32m [repeated 5x across cluster]\u001b[0m\n",
            "\u001b[2m\u001b[36m(launch_and_fit pid=2406)\u001b[0m [Client 82] fit, config: {'current_round': 99, 'local_epochs': 3}\u001b[32m [repeated 11x across cluster]\u001b[0m\n",
            "\u001b[2m\u001b[36m(launch_and_fit pid=2406)\u001b[0m Epoch 1: train loss 5.339538984117098e-05, accuracy 0.7592592592592593\u001b[32m [repeated 11x across cluster]\u001b[0m\n"
          ]
        },
        {
          "output_type": "stream",
          "name": "stderr",
          "text": [
            "DEBUG flower 2023-07-19 14:31:24,257 | server.py:170 | evaluate_round received 0 results and 30 failures\n",
            "DEBUG:flower:evaluate_round received 0 results and 30 failures\n",
            "DEBUG flower 2023-07-19 14:31:24,271 | server.py:203 | fit_round: strategy sampled 30 clients (out of 100)\n",
            "DEBUG:flower:fit_round: strategy sampled 30 clients (out of 100)\n"
          ]
        },
        {
          "output_type": "stream",
          "name": "stdout",
          "text": [
            "\u001b[2m\u001b[36m(launch_and_evaluate pid=2406)\u001b[0m [Client 30] evaluate, config: {}\u001b[32m [repeated 25x across cluster]\u001b[0m\n",
            "\u001b[2m\u001b[36m(launch_and_fit pid=2406)\u001b[0m [Client 31] fit, config: {'current_round': 100, 'local_epochs': 3}\u001b[32m [repeated 13x across cluster]\u001b[0m\n",
            "\u001b[2m\u001b[36m(launch_and_fit pid=2406)\u001b[0m Epoch 1: train loss 3.4463937481632456e-05, accuracy 0.9074074074074074\u001b[32m [repeated 13x across cluster]\u001b[0m\n"
          ]
        },
        {
          "output_type": "stream",
          "name": "stderr",
          "text": [
            "DEBUG flower 2023-07-19 14:31:33,051 | server.py:216 | fit_round received 30 results and 0 failures\n",
            "DEBUG:flower:fit_round received 30 results and 0 failures\n"
          ]
        },
        {
          "output_type": "stream",
          "name": "stdout",
          "text": [
            "\u001b[2m\u001b[36m(launch_and_fit pid=2406)\u001b[0m [Client 20] fit, config: {'current_round': 100, 'local_epochs': 3}\u001b[32m [repeated 17x across cluster]\u001b[0m\n",
            "Saving round 100 aggregated_parameters...\n"
          ]
        },
        {
          "output_type": "stream",
          "name": "stderr",
          "text": [
            "DEBUG flower 2023-07-19 14:31:33,203 | server.py:157 | evaluate_round: strategy sampled 30 clients (out of 100)\n",
            "DEBUG:flower:evaluate_round: strategy sampled 30 clients (out of 100)\n"
          ]
        },
        {
          "output_type": "stream",
          "name": "stdout",
          "text": [
            "\u001b[2m\u001b[36m(launch_and_evaluate pid=2405)\u001b[0m [Client 40] evaluate, config: {}\n",
            "\u001b[2m\u001b[36m(launch_and_fit pid=2406)\u001b[0m Epoch 1: train loss 3.946508513763547e-05, accuracy 0.8703703703703703\u001b[32m [repeated 17x across cluster]\u001b[0m\n"
          ]
        },
        {
          "output_type": "stream",
          "name": "stderr",
          "text": [
            "DEBUG flower 2023-07-19 14:31:39,248 | server.py:170 | evaluate_round received 0 results and 30 failures\n",
            "DEBUG:flower:evaluate_round received 0 results and 30 failures\n",
            "INFO flower 2023-07-19 14:31:39,256 | server.py:138 | FL finished in 1414.796815001\n",
            "INFO:flower:FL finished in 1414.796815001\n",
            "INFO flower 2023-07-19 14:31:39,262 | app.py:178 | app_fit: losses_distributed []\n",
            "INFO:flower:app_fit: losses_distributed []\n",
            "INFO flower 2023-07-19 14:31:39,264 | app.py:179 | app_fit: metrics_distributed {}\n",
            "INFO:flower:app_fit: metrics_distributed {}\n",
            "INFO flower 2023-07-19 14:31:39,267 | app.py:180 | app_fit: losses_centralized []\n",
            "INFO:flower:app_fit: losses_centralized []\n",
            "INFO flower 2023-07-19 14:31:39,269 | app.py:181 | app_fit: metrics_centralized {}\n",
            "INFO:flower:app_fit: metrics_centralized {}\n"
          ]
        },
        {
          "output_type": "execute_result",
          "data": {
            "text/plain": []
          },
          "metadata": {},
          "execution_count": 15
        }
      ],
      "source": [
        "def fit_config(rnd: int):\n",
        "    config = {\n",
        "        \"current_round\": rnd,\n",
        "        \"local_epochs\": LOCAL_EPOCH,\n",
        "    }\n",
        "    return config\n",
        "\n",
        "##################################################################################\n",
        "\n",
        "class SaveModelStrategy(fl.server.strategy.FedAvg):\n",
        "    def aggregate_fit(\n",
        "        self,\n",
        "        rnd: int,\n",
        "        results: List[Tuple[fl.server.client_proxy.ClientProxy, fl.common.FitRes]],\n",
        "        failures: List[BaseException],\n",
        "    ) -> Optional[fl.common.Weights]:\n",
        "\n",
        "        # Aggregate model weights using weighted average and store checkpoint\n",
        "        aggregated_parameters_tuple = super().aggregate_fit(rnd, results, failures)\n",
        "        aggregated_parameters, _ = aggregated_parameters_tuple\n",
        "        # log_dict['aggregated_parameters']=aggregated_parameters\n",
        "\n",
        "        if aggregated_parameters is not None:\n",
        "            print(f\"Saving round {rnd} aggregated_parameters...\")\n",
        "            # Convert `Parameters` to `List[np.ndarray]`\n",
        "            aggregated_weights: List[np.ndarray] = fl.common.parameters_to_weights(aggregated_parameters)\n",
        "\n",
        "            # Convert `List[np.ndarray]` to PyTorch`state_dict`\n",
        "            params_dict = zip(Net().state_dict().keys(), aggregated_weights)\n",
        "            state_dict = OrderedDict({k: torch.tensor(v) for k, v in params_dict})\n",
        "\n",
        "            net = Net().to(DEVICE)\n",
        "            net.load_state_dict(state_dict, strict=True)\n",
        "\n",
        "            # torch.save(Net().state_dict(), PATH_TO_EXPERIMENT + f\"model_round_{rnd}.pth\")\n",
        "            torch.save(net.state_dict(), os.getcwd() + '/' + str(rnd) + '.pth')\n",
        "\n",
        "        return aggregated_parameters_tuple\n",
        "\n",
        "\n",
        "##################################################################################\n",
        "\n",
        "# Create strategy and run server\n",
        "strategy = SaveModelStrategy(\n",
        "\n",
        "    # fl.server.strategy.FedAvg(  # .FedAdagrad(    (As an alternative).\n",
        "    fraction_fit=0.3,  # Train on 30% of clients (each round)\n",
        "    fraction_eval=0.3,  # Evaluate on 30% of clients (each round)\n",
        "    min_fit_clients=3,\n",
        "    min_eval_clients=3,\n",
        "    min_available_clients=NUM_DEVICES,\n",
        "\n",
        "    initial_parameters=fl.common.weights_to_parameters(get_parameters(Net())),\n",
        "\n",
        "    on_fit_config_fn=fit_config,\n",
        "    # To evaluate aggregated model parameters on the server-side, open evaluate function above and run below:\n",
        "    # eval_fn=evaluate,  # Pass the evaluation function\n",
        "    # (same arguments as FedAvg here)\n",
        ")\n",
        "\n",
        "\"\"\"\n",
        "strategy = fl.server.strategy.FedAvg(  # .FedAdagrad(    (As an alternative).\n",
        "    fraction_fit=0.3,  # Train on 30% of clients (each round)\n",
        "    fraction_eval=0.3,  # Evaluate on 30% of clients (each round)\n",
        "    min_fit_clients=3,\n",
        "    min_eval_clients=3,\n",
        "    min_available_clients=NUM_DEVICES,\n",
        "\n",
        "    initial_parameters=fl.common.weights_to_parameters(get_parameters(Net())),\n",
        "\n",
        "    on_fit_config_fn=fit_config,\n",
        "    # To evaluate aggregated model parameters on the server-side, open evaluate function above and run below:\n",
        "    # eval_fn=evaluate,  # Pass the evaluation function\n",
        ")\n",
        "\"\"\"\n",
        "\n",
        "fl.simulation.start_simulation(\n",
        "    client_fn=client_fn,\n",
        "    num_clients=NUM_DEVICES,\n",
        "    num_rounds=NUM_ROUNDS,\n",
        "    strategy=strategy,\n",
        ")"
      ]
    },
    {
      "cell_type": "markdown",
      "id": "ec28e947-d5d0-4105-beef-afccffee134c",
      "metadata": {
        "id": "ec28e947-d5d0-4105-beef-afccffee134c"
      },
      "source": [
        "***\n",
        "# Result Analysis:\n",
        "***\n",
        "## Helper Function:"
      ]
    },
    {
      "cell_type": "code",
      "execution_count": 16,
      "id": "078e9167-7429-4899-a21f-4b42a2251d38",
      "metadata": {
        "id": "078e9167-7429-4899-a21f-4b42a2251d38"
      },
      "outputs": [],
      "source": [
        "def take_global_model():\n",
        "\n",
        "    GM = Net().to(device=DEVICE)\n",
        "\n",
        "    PATH = os.getcwd() + '/' + str(NUM_ROUNDS) + '.pth'\n",
        "    state_dict = torch.load(PATH)\n",
        "\n",
        "    GM.load_state_dict(state_dict)\n",
        "\n",
        "    return GM"
      ]
    },
    {
      "cell_type": "code",
      "execution_count": 17,
      "id": "1f255a23-04b3-4863-923b-ffd66f5d3048",
      "metadata": {
        "colab": {
          "base_uri": "https://localhost:8080/"
        },
        "id": "1f255a23-04b3-4863-923b-ffd66f5d3048",
        "outputId": "089f90a0-1902-4aa1-c8ab-32b3ca7e1225"
      },
      "outputs": [
        {
          "output_type": "stream",
          "name": "stdout",
          "text": [
            "GM loss and acc: 0.007224169851094485 0.8494\n"
          ]
        }
      ],
      "source": [
        "GM = take_global_model()\n",
        "GM_loss, GM_acc = test_model(GM, testloader)\n",
        "print('GM loss and acc:', GM_loss, GM_acc)"
      ]
    },
    {
      "cell_type": "markdown",
      "id": "5a021e87-a9b1-45f9-b382-9e1287d7c1c0",
      "metadata": {
        "id": "5a021e87-a9b1-45f9-b382-9e1287d7c1c0"
      },
      "source": [
        "***\n",
        "## Pruning Functions:"
      ]
    },
    {
      "cell_type": "code",
      "execution_count": 18,
      "id": "37632487-3fbc-46aa-ac90-7361e2d4fd4d",
      "metadata": {
        "id": "37632487-3fbc-46aa-ac90-7361e2d4fd4d"
      },
      "outputs": [],
      "source": [
        "def take_sparsity(model, show_results=True):\n",
        "\n",
        "\n",
        "    conv1 = 100. * float(torch.sum(model.conv1.weight == 0)) / float(model.conv1.weight.nelement())\n",
        "    conv2 = 100. * float(torch.sum(model.conv2.weight == 0)) / float(model.conv2.weight.nelement())\n",
        "\n",
        "    fc1 = 100. * float(torch.sum(model.fc1.weight == 0)) / float(model.fc1.weight.nelement())\n",
        "    fc2 = 100. * float(torch.sum(model.fc2.weight == 0)) / float(model.fc2.weight.nelement())\n",
        "    fc3 = 100. * float(torch.sum(model.fc3.weight == 0)) / float(model.fc3.weight.nelement())\n",
        "\n",
        "    global_sparsity = float(conv1 + conv2 + fc1 + fc2 + fc3) / 5.0\n",
        "\n",
        "    if show_results:\n",
        "        print(\"Sparsity in conv1.weight: {:.2f}%\".format(conv1))\n",
        "        print(\"Sparsity in conv2.weight: {:.2f}%\".format(conv2))\n",
        "\n",
        "        print(\"Sparsity in fc1.weight: {:.2f}%\".format(fc1))\n",
        "        print(\"Sparsity in fc2.weight: {:.2f}%\".format(fc2))\n",
        "        print(\"Sparsity in fc3.weight: {:.2f}%\".format(fc3))\n",
        "\n",
        "        print(\"Global sparsity: {:.2f}%\".format(global_sparsity))\n",
        "\n",
        "\n",
        "    return [conv1, conv2, fc1, fc2, fc3, global_sparsity]"
      ]
    },
    {
      "cell_type": "code",
      "execution_count": 19,
      "id": "3d1005d5-e255-4a86-8325-c504d1cd981b",
      "metadata": {
        "tags": [],
        "id": "3d1005d5-e255-4a86-8325-c504d1cd981b"
      },
      "outputs": [],
      "source": [
        "def prune_model(model, threshold=0.5):\n",
        "\n",
        "    # Not: Look also prune.remove(layername, \"weight\")\n",
        "\n",
        "    model = model.eval()\n",
        "\n",
        "    parameters_to_prune = (\n",
        "        (model.conv1, 'weight'),\n",
        "        (model.conv2, 'weight'),\n",
        "        (model.fc1, 'weight'),\n",
        "        (model.fc2, 'weight'),\n",
        "        (model.fc3, 'weight'),\n",
        "    )\n",
        "\n",
        "\n",
        "    prune.global_unstructured(parameters_to_prune,\n",
        "                              pruning_method=prune.L1Unstructured,\n",
        "                              amount=threshold,)\n",
        "\n",
        "    return model"
      ]
    },
    {
      "cell_type": "markdown",
      "id": "301a29dd-3cba-4885-8f1b-9f9b5a9b3ae8",
      "metadata": {
        "id": "301a29dd-3cba-4885-8f1b-9f9b5a9b3ae8"
      },
      "source": [
        "***\n",
        "## Results after Pruning:"
      ]
    },
    {
      "cell_type": "code",
      "source": [
        "def take_participation(gs_list):\n",
        "\n",
        "    participation_list = []\n",
        "\n",
        "    for i, gs in enumerate(gs_list):\n",
        "        participation_list.append(int(NUM_DEVICES + (gs * (NUM_DEVICES * NUM_DEVICE_TYPE))/100))\n",
        "\n",
        "    return participation_list"
      ],
      "metadata": {
        "id": "7Eue3qXkZ4lL"
      },
      "id": "7Eue3qXkZ4lL",
      "execution_count": 20,
      "outputs": []
    },
    {
      "cell_type": "code",
      "source": [
        "threshold_arr = []\n",
        "sparsity_arr = []\n",
        "loss_and_acc_arr = []\n",
        "\n",
        "for t in range(1, 11):\n",
        "\n",
        "    T = t/10\n",
        "    threshold_arr.append(T)\n",
        "\n",
        "    print('\\n *******************************************************')\n",
        "    print('\\n Threshold is:', T, '\\n')\n",
        "\n",
        "    GM = take_global_model()\n",
        "\n",
        "    temp_pruned_GM = prune_model(GM, threshold=T)\n",
        "    sparsity_arr.append(take_sparsity(temp_pruned_GM, show_results=True))\n",
        "\n",
        "    performance = test_model(temp_pruned_GM, testloader)\n",
        "    loss_and_acc_arr.append(performance)\n",
        "\n",
        "    print('\\n Pruned GM1 loss and acc:', performance)\n",
        "\n",
        "sparsity_arr = np.array(sparsity_arr)\n",
        "\n",
        "loss_and_acc_arr = np.array(loss_and_acc_arr)\n",
        "loss_arr = loss_and_acc_arr[:,0]\n",
        "acc_arr = loss_and_acc_arr[:,1]"
      ],
      "metadata": {
        "colab": {
          "base_uri": "https://localhost:8080/"
        },
        "id": "xNz5fnXBaC5q",
        "outputId": "544f2aa0-5013-4b49-f6a4-58274c6e949f"
      },
      "id": "xNz5fnXBaC5q",
      "execution_count": 21,
      "outputs": [
        {
          "output_type": "stream",
          "name": "stdout",
          "text": [
            "\n",
            " *******************************************************\n",
            "\n",
            " Threshold is: 0.1 \n",
            "\n",
            "Sparsity in conv1.weight: 2.00%\n",
            "Sparsity in conv2.weight: 6.42%\n",
            "Sparsity in fc1.weight: 11.16%\n",
            "Sparsity in fc2.weight: 5.93%\n",
            "Sparsity in fc3.weight: 3.93%\n",
            "Global sparsity: 5.89%\n",
            "\n",
            " Pruned GM1 loss and acc: [0.007177514902502298, 0.8501]\n",
            "\n",
            " *******************************************************\n",
            "\n",
            " Threshold is: 0.2 \n",
            "\n",
            "Sparsity in conv1.weight: 3.33%\n",
            "Sparsity in conv2.weight: 12.54%\n",
            "Sparsity in fc1.weight: 22.37%\n",
            "Sparsity in fc2.weight: 11.78%\n",
            "Sparsity in fc3.weight: 7.38%\n",
            "Global sparsity: 11.48%\n",
            "\n",
            " Pruned GM1 loss and acc: [0.00699007016941905, 0.8558]\n",
            "\n",
            " *******************************************************\n",
            "\n",
            " Threshold is: 0.3 \n",
            "\n",
            "Sparsity in conv1.weight: 7.33%\n",
            "Sparsity in conv2.weight: 18.50%\n",
            "Sparsity in fc1.weight: 33.52%\n",
            "Sparsity in fc2.weight: 17.85%\n",
            "Sparsity in fc3.weight: 11.79%\n",
            "Global sparsity: 17.80%\n",
            "\n",
            " Pruned GM1 loss and acc: [0.007320105689018965, 0.8444]\n",
            "\n",
            " *******************************************************\n",
            "\n",
            " Threshold is: 0.4 \n",
            "\n",
            "Sparsity in conv1.weight: 8.67%\n",
            "Sparsity in conv2.weight: 25.25%\n",
            "Sparsity in fc1.weight: 44.63%\n",
            "Sparsity in fc2.weight: 23.88%\n",
            "Sparsity in fc3.weight: 16.67%\n",
            "Global sparsity: 23.82%\n",
            "\n",
            " Pruned GM1 loss and acc: [0.00780557329505682, 0.8342]\n",
            "\n",
            " *******************************************************\n",
            "\n",
            " Threshold is: 0.5 \n",
            "\n",
            "Sparsity in conv1.weight: 9.33%\n",
            "Sparsity in conv2.weight: 31.96%\n",
            "Sparsity in fc1.weight: 55.74%\n",
            "Sparsity in fc2.weight: 29.94%\n",
            "Sparsity in fc3.weight: 21.55%\n",
            "Global sparsity: 29.70%\n",
            "\n",
            " Pruned GM1 loss and acc: [0.008127766166627408, 0.8306]\n",
            "\n",
            " *******************************************************\n",
            "\n",
            " Threshold is: 0.6 \n",
            "\n",
            "Sparsity in conv1.weight: 12.67%\n",
            "Sparsity in conv2.weight: 38.58%\n",
            "Sparsity in fc1.weight: 66.84%\n",
            "Sparsity in fc2.weight: 36.01%\n",
            "Sparsity in fc3.weight: 26.90%\n",
            "Global sparsity: 36.20%\n",
            "\n",
            " Pruned GM1 loss and acc: [0.009751789864897728, 0.786]\n",
            "\n",
            " *******************************************************\n",
            "\n",
            " Threshold is: 0.7 \n",
            "\n",
            "Sparsity in conv1.weight: 14.00%\n",
            "Sparsity in conv2.weight: 44.96%\n",
            "Sparsity in fc1.weight: 77.87%\n",
            "Sparsity in fc2.weight: 42.38%\n",
            "Sparsity in fc3.weight: 33.33%\n",
            "Global sparsity: 42.51%\n",
            "\n",
            " Pruned GM1 loss and acc: [0.010845086613297462, 0.7541]\n",
            "\n",
            " *******************************************************\n",
            "\n",
            " Threshold is: 0.8 \n",
            "\n",
            "Sparsity in conv1.weight: 14.67%\n",
            "Sparsity in conv2.weight: 52.58%\n",
            "Sparsity in fc1.weight: 88.61%\n",
            "Sparsity in fc2.weight: 49.95%\n",
            "Sparsity in fc3.weight: 38.33%\n",
            "Global sparsity: 48.83%\n",
            "\n",
            " Pruned GM1 loss and acc: [0.011921040877699853, 0.8002]\n",
            "\n",
            " *******************************************************\n",
            "\n",
            " Threshold is: 0.9 \n",
            "\n",
            "Sparsity in conv1.weight: 20.00%\n",
            "Sparsity in conv2.weight: 65.04%\n",
            "Sparsity in fc1.weight: 97.71%\n",
            "Sparsity in fc2.weight: 63.82%\n",
            "Sparsity in fc3.weight: 47.50%\n",
            "Global sparsity: 58.81%\n",
            "\n",
            " Pruned GM1 loss and acc: [0.02651966973543167, 0.6298]\n",
            "\n",
            " *******************************************************\n",
            "\n",
            " Threshold is: 1.0 \n",
            "\n",
            "Sparsity in conv1.weight: 100.00%\n",
            "Sparsity in conv2.weight: 100.00%\n",
            "Sparsity in fc1.weight: 100.00%\n",
            "Sparsity in fc2.weight: 100.00%\n",
            "Sparsity in fc3.weight: 100.00%\n",
            "Global sparsity: 100.00%\n",
            "\n",
            " Pruned GM1 loss and acc: [0.03615784265995026, 0.101]\n"
          ]
        }
      ]
    },
    {
      "cell_type": "code",
      "execution_count": 22,
      "id": "507b0eb2-ab2d-43f2-a354-ed5e1c37bd5d",
      "metadata": {
        "colab": {
          "base_uri": "https://localhost:8080/",
          "height": 363
        },
        "id": "507b0eb2-ab2d-43f2-a354-ed5e1c37bd5d",
        "outputId": "d081d906-b953-4abb-abb9-e5251ea536b5"
      },
      "outputs": [
        {
          "output_type": "execute_result",
          "data": {
            "text/plain": [
              "     Threshold  SFL Accuracy  subMFL Accuracy  SFL Loss  subMFL Loss  \\\n",
              "GM         0.0        0.1052           0.1052  0.036141     0.036141   \n",
              "SM1        0.1        0.1032           0.8501  0.036188     0.007178   \n",
              "SM2        0.2        0.0887           0.8558  0.036226     0.006990   \n",
              "SM3        0.3        0.1155           0.8444  0.036183     0.007320   \n",
              "SM4        0.4        0.1141           0.8342  0.036115     0.007806   \n",
              "SM5        0.5        0.0823           0.8306  0.036134     0.008128   \n",
              "SM6        0.6        0.1010           0.7860  0.036222     0.009752   \n",
              "SM7        0.7        0.1226           0.7541  0.036165     0.010845   \n",
              "SM8        0.8        0.1451           0.8002  0.036159     0.011921   \n",
              "SM9        0.9        0.1028           0.6298  0.036157     0.026520   \n",
              "\n",
              "     SFL Participation  subMFL Participation  SFL Global Sparsity  \\\n",
              "GM                 100                   100             0.000000   \n",
              "SM1                160                   158             6.010119   \n",
              "SM2                225                   214            12.541925   \n",
              "SM3                289                   277            18.951766   \n",
              "SM4                355                   338            25.560099   \n",
              "SM5                409                   397            30.962202   \n",
              "SM6                484                   462            38.492123   \n",
              "SM7                546                   525            44.614802   \n",
              "SM8                620                   588            52.047421   \n",
              "SM9                656                   688            55.627798   \n",
              "\n",
              "     subMFL Global Sparsity  \n",
              "GM                 0.000000  \n",
              "SM1                5.888472  \n",
              "SM2               11.480933  \n",
              "SM3               17.796587  \n",
              "SM4               23.818294  \n",
              "SM5               29.703869  \n",
              "SM6               36.200417  \n",
              "SM7               42.508274  \n",
              "SM8               48.829663  \n",
              "SM9               58.813889  "
            ],
            "text/html": [
              "\n",
              "\n",
              "  <div id=\"df-4eac2dce-6213-43a8-95b2-98ad26c8474a\">\n",
              "    <div class=\"colab-df-container\">\n",
              "      <div>\n",
              "<style scoped>\n",
              "    .dataframe tbody tr th:only-of-type {\n",
              "        vertical-align: middle;\n",
              "    }\n",
              "\n",
              "    .dataframe tbody tr th {\n",
              "        vertical-align: top;\n",
              "    }\n",
              "\n",
              "    .dataframe thead th {\n",
              "        text-align: right;\n",
              "    }\n",
              "</style>\n",
              "<table border=\"1\" class=\"dataframe\">\n",
              "  <thead>\n",
              "    <tr style=\"text-align: right;\">\n",
              "      <th></th>\n",
              "      <th>Threshold</th>\n",
              "      <th>SFL Accuracy</th>\n",
              "      <th>subMFL Accuracy</th>\n",
              "      <th>SFL Loss</th>\n",
              "      <th>subMFL Loss</th>\n",
              "      <th>SFL Participation</th>\n",
              "      <th>subMFL Participation</th>\n",
              "      <th>SFL Global Sparsity</th>\n",
              "      <th>subMFL Global Sparsity</th>\n",
              "    </tr>\n",
              "  </thead>\n",
              "  <tbody>\n",
              "    <tr>\n",
              "      <th>GM</th>\n",
              "      <td>0.0</td>\n",
              "      <td>0.1052</td>\n",
              "      <td>0.1052</td>\n",
              "      <td>0.036141</td>\n",
              "      <td>0.036141</td>\n",
              "      <td>100</td>\n",
              "      <td>100</td>\n",
              "      <td>0.000000</td>\n",
              "      <td>0.000000</td>\n",
              "    </tr>\n",
              "    <tr>\n",
              "      <th>SM1</th>\n",
              "      <td>0.1</td>\n",
              "      <td>0.1032</td>\n",
              "      <td>0.8501</td>\n",
              "      <td>0.036188</td>\n",
              "      <td>0.007178</td>\n",
              "      <td>160</td>\n",
              "      <td>158</td>\n",
              "      <td>6.010119</td>\n",
              "      <td>5.888472</td>\n",
              "    </tr>\n",
              "    <tr>\n",
              "      <th>SM2</th>\n",
              "      <td>0.2</td>\n",
              "      <td>0.0887</td>\n",
              "      <td>0.8558</td>\n",
              "      <td>0.036226</td>\n",
              "      <td>0.006990</td>\n",
              "      <td>225</td>\n",
              "      <td>214</td>\n",
              "      <td>12.541925</td>\n",
              "      <td>11.480933</td>\n",
              "    </tr>\n",
              "    <tr>\n",
              "      <th>SM3</th>\n",
              "      <td>0.3</td>\n",
              "      <td>0.1155</td>\n",
              "      <td>0.8444</td>\n",
              "      <td>0.036183</td>\n",
              "      <td>0.007320</td>\n",
              "      <td>289</td>\n",
              "      <td>277</td>\n",
              "      <td>18.951766</td>\n",
              "      <td>17.796587</td>\n",
              "    </tr>\n",
              "    <tr>\n",
              "      <th>SM4</th>\n",
              "      <td>0.4</td>\n",
              "      <td>0.1141</td>\n",
              "      <td>0.8342</td>\n",
              "      <td>0.036115</td>\n",
              "      <td>0.007806</td>\n",
              "      <td>355</td>\n",
              "      <td>338</td>\n",
              "      <td>25.560099</td>\n",
              "      <td>23.818294</td>\n",
              "    </tr>\n",
              "    <tr>\n",
              "      <th>SM5</th>\n",
              "      <td>0.5</td>\n",
              "      <td>0.0823</td>\n",
              "      <td>0.8306</td>\n",
              "      <td>0.036134</td>\n",
              "      <td>0.008128</td>\n",
              "      <td>409</td>\n",
              "      <td>397</td>\n",
              "      <td>30.962202</td>\n",
              "      <td>29.703869</td>\n",
              "    </tr>\n",
              "    <tr>\n",
              "      <th>SM6</th>\n",
              "      <td>0.6</td>\n",
              "      <td>0.1010</td>\n",
              "      <td>0.7860</td>\n",
              "      <td>0.036222</td>\n",
              "      <td>0.009752</td>\n",
              "      <td>484</td>\n",
              "      <td>462</td>\n",
              "      <td>38.492123</td>\n",
              "      <td>36.200417</td>\n",
              "    </tr>\n",
              "    <tr>\n",
              "      <th>SM7</th>\n",
              "      <td>0.7</td>\n",
              "      <td>0.1226</td>\n",
              "      <td>0.7541</td>\n",
              "      <td>0.036165</td>\n",
              "      <td>0.010845</td>\n",
              "      <td>546</td>\n",
              "      <td>525</td>\n",
              "      <td>44.614802</td>\n",
              "      <td>42.508274</td>\n",
              "    </tr>\n",
              "    <tr>\n",
              "      <th>SM8</th>\n",
              "      <td>0.8</td>\n",
              "      <td>0.1451</td>\n",
              "      <td>0.8002</td>\n",
              "      <td>0.036159</td>\n",
              "      <td>0.011921</td>\n",
              "      <td>620</td>\n",
              "      <td>588</td>\n",
              "      <td>52.047421</td>\n",
              "      <td>48.829663</td>\n",
              "    </tr>\n",
              "    <tr>\n",
              "      <th>SM9</th>\n",
              "      <td>0.9</td>\n",
              "      <td>0.1028</td>\n",
              "      <td>0.6298</td>\n",
              "      <td>0.036157</td>\n",
              "      <td>0.026520</td>\n",
              "      <td>656</td>\n",
              "      <td>688</td>\n",
              "      <td>55.627798</td>\n",
              "      <td>58.813889</td>\n",
              "    </tr>\n",
              "  </tbody>\n",
              "</table>\n",
              "</div>\n",
              "      <button class=\"colab-df-convert\" onclick=\"convertToInteractive('df-4eac2dce-6213-43a8-95b2-98ad26c8474a')\"\n",
              "              title=\"Convert this dataframe to an interactive table.\"\n",
              "              style=\"display:none;\">\n",
              "\n",
              "  <svg xmlns=\"http://www.w3.org/2000/svg\" height=\"24px\"viewBox=\"0 0 24 24\"\n",
              "       width=\"24px\">\n",
              "    <path d=\"M0 0h24v24H0V0z\" fill=\"none\"/>\n",
              "    <path d=\"M18.56 5.44l.94 2.06.94-2.06 2.06-.94-2.06-.94-.94-2.06-.94 2.06-2.06.94zm-11 1L8.5 8.5l.94-2.06 2.06-.94-2.06-.94L8.5 2.5l-.94 2.06-2.06.94zm10 10l.94 2.06.94-2.06 2.06-.94-2.06-.94-.94-2.06-.94 2.06-2.06.94z\"/><path d=\"M17.41 7.96l-1.37-1.37c-.4-.4-.92-.59-1.43-.59-.52 0-1.04.2-1.43.59L10.3 9.45l-7.72 7.72c-.78.78-.78 2.05 0 2.83L4 21.41c.39.39.9.59 1.41.59.51 0 1.02-.2 1.41-.59l7.78-7.78 2.81-2.81c.8-.78.8-2.07 0-2.86zM5.41 20L4 18.59l7.72-7.72 1.47 1.35L5.41 20z\"/>\n",
              "  </svg>\n",
              "      </button>\n",
              "\n",
              "\n",
              "\n",
              "    <div id=\"df-661e3367-d4ee-457e-b887-6cfeece7486b\">\n",
              "      <button class=\"colab-df-quickchart\" onclick=\"quickchart('df-661e3367-d4ee-457e-b887-6cfeece7486b')\"\n",
              "              title=\"Suggest charts.\"\n",
              "              style=\"display:none;\">\n",
              "\n",
              "<svg xmlns=\"http://www.w3.org/2000/svg\" height=\"24px\"viewBox=\"0 0 24 24\"\n",
              "     width=\"24px\">\n",
              "    <g>\n",
              "        <path d=\"M19 3H5c-1.1 0-2 .9-2 2v14c0 1.1.9 2 2 2h14c1.1 0 2-.9 2-2V5c0-1.1-.9-2-2-2zM9 17H7v-7h2v7zm4 0h-2V7h2v10zm4 0h-2v-4h2v4z\"/>\n",
              "    </g>\n",
              "</svg>\n",
              "      </button>\n",
              "    </div>\n",
              "\n",
              "<style>\n",
              "  .colab-df-quickchart {\n",
              "    background-color: #E8F0FE;\n",
              "    border: none;\n",
              "    border-radius: 50%;\n",
              "    cursor: pointer;\n",
              "    display: none;\n",
              "    fill: #1967D2;\n",
              "    height: 32px;\n",
              "    padding: 0 0 0 0;\n",
              "    width: 32px;\n",
              "  }\n",
              "\n",
              "  .colab-df-quickchart:hover {\n",
              "    background-color: #E2EBFA;\n",
              "    box-shadow: 0px 1px 2px rgba(60, 64, 67, 0.3), 0px 1px 3px 1px rgba(60, 64, 67, 0.15);\n",
              "    fill: #174EA6;\n",
              "  }\n",
              "\n",
              "  [theme=dark] .colab-df-quickchart {\n",
              "    background-color: #3B4455;\n",
              "    fill: #D2E3FC;\n",
              "  }\n",
              "\n",
              "  [theme=dark] .colab-df-quickchart:hover {\n",
              "    background-color: #434B5C;\n",
              "    box-shadow: 0px 1px 3px 1px rgba(0, 0, 0, 0.15);\n",
              "    filter: drop-shadow(0px 1px 2px rgba(0, 0, 0, 0.3));\n",
              "    fill: #FFFFFF;\n",
              "  }\n",
              "</style>\n",
              "\n",
              "    <script>\n",
              "      async function quickchart(key) {\n",
              "        const containerElement = document.querySelector('#' + key);\n",
              "        const charts = await google.colab.kernel.invokeFunction(\n",
              "            'suggestCharts', [key], {});\n",
              "      }\n",
              "    </script>\n",
              "\n",
              "      <script>\n",
              "\n",
              "function displayQuickchartButton(domScope) {\n",
              "  let quickchartButtonEl =\n",
              "    domScope.querySelector('#df-661e3367-d4ee-457e-b887-6cfeece7486b button.colab-df-quickchart');\n",
              "  quickchartButtonEl.style.display =\n",
              "    google.colab.kernel.accessAllowed ? 'block' : 'none';\n",
              "}\n",
              "\n",
              "        displayQuickchartButton(document);\n",
              "      </script>\n",
              "      <style>\n",
              "    .colab-df-container {\n",
              "      display:flex;\n",
              "      flex-wrap:wrap;\n",
              "      gap: 12px;\n",
              "    }\n",
              "\n",
              "    .colab-df-convert {\n",
              "      background-color: #E8F0FE;\n",
              "      border: none;\n",
              "      border-radius: 50%;\n",
              "      cursor: pointer;\n",
              "      display: none;\n",
              "      fill: #1967D2;\n",
              "      height: 32px;\n",
              "      padding: 0 0 0 0;\n",
              "      width: 32px;\n",
              "    }\n",
              "\n",
              "    .colab-df-convert:hover {\n",
              "      background-color: #E2EBFA;\n",
              "      box-shadow: 0px 1px 2px rgba(60, 64, 67, 0.3), 0px 1px 3px 1px rgba(60, 64, 67, 0.15);\n",
              "      fill: #174EA6;\n",
              "    }\n",
              "\n",
              "    [theme=dark] .colab-df-convert {\n",
              "      background-color: #3B4455;\n",
              "      fill: #D2E3FC;\n",
              "    }\n",
              "\n",
              "    [theme=dark] .colab-df-convert:hover {\n",
              "      background-color: #434B5C;\n",
              "      box-shadow: 0px 1px 3px 1px rgba(0, 0, 0, 0.15);\n",
              "      filter: drop-shadow(0px 1px 2px rgba(0, 0, 0, 0.3));\n",
              "      fill: #FFFFFF;\n",
              "    }\n",
              "  </style>\n",
              "\n",
              "      <script>\n",
              "        const buttonEl =\n",
              "          document.querySelector('#df-4eac2dce-6213-43a8-95b2-98ad26c8474a button.colab-df-convert');\n",
              "        buttonEl.style.display =\n",
              "          google.colab.kernel.accessAllowed ? 'block' : 'none';\n",
              "\n",
              "        async function convertToInteractive(key) {\n",
              "          const element = document.querySelector('#df-4eac2dce-6213-43a8-95b2-98ad26c8474a');\n",
              "          const dataTable =\n",
              "            await google.colab.kernel.invokeFunction('convertToInteractive',\n",
              "                                                     [key], {});\n",
              "          if (!dataTable) return;\n",
              "\n",
              "          const docLinkHtml = 'Like what you see? Visit the ' +\n",
              "            '<a target=\"_blank\" href=https://colab.research.google.com/notebooks/data_table.ipynb>data table notebook</a>'\n",
              "            + ' to learn more about interactive tables.';\n",
              "          element.innerHTML = '';\n",
              "          dataTable['output_type'] = 'display_data';\n",
              "          await google.colab.output.renderOutput(dataTable, element);\n",
              "          const docLink = document.createElement('div');\n",
              "          docLink.innerHTML = docLinkHtml;\n",
              "          element.appendChild(docLink);\n",
              "        }\n",
              "      </script>\n",
              "    </div>\n",
              "  </div>\n"
            ]
          },
          "metadata": {},
          "execution_count": 22
        }
      ],
      "source": [
        "df = pd.DataFrame(data=sparsity_arr, columns=['Conv1', 'Conv2', 'FC1', 'FC2', 'FC3', 'Global Sparsity'])\n",
        "df[\"subMFL Accuracy\"] = acc_arr\n",
        "df[\"subMFL Loss\"] = loss_arr\n",
        "df[\"Threshold\"] = threshold_arr\n",
        "df = df[['Threshold', 'subMFL Accuracy', 'subMFL Loss', 'Global Sparsity',\n",
        "         'Conv1', 'Conv2', 'FC1', 'FC2', 'FC3']]\n",
        "df.loc[-1] = [0.0, 0.0, 0.0, 0.0, 0.0, 0.0, 0.0, 0.0, 0.0]\n",
        "df.index = df.index + 1\n",
        "df.sort_index(inplace=True)\n",
        "df['Participation'] = [x*100 for x in range(1, 11)] + [1000]\n",
        "df = df[:-1]\n",
        "\n",
        "# Add SFL Results:\n",
        "arr = [[], []]\n",
        "sfl_smodels = []\n",
        "sfl_smodels_gs = []\n",
        "for t in range(0, 10):\n",
        "\n",
        "    T = t/10\n",
        "\n",
        "    sfl_smodel = Net()\n",
        "    sfl_smodels.append(sfl_smodel)\n",
        "\n",
        "    S_FL_GM = sfl_smodel.to(device=DEVICE)\n",
        "    SM = prune_model(S_FL_GM, threshold=T)\n",
        "    sfl_smodels_gs.append(take_sparsity(SM, show_results=False)[5])\n",
        "    l, a = test_model(SM, testloader)\n",
        "\n",
        "    arr[0].append(l)\n",
        "    arr[1].append(a)\n",
        "\n",
        "df['SFL Loss'] = arr[0]\n",
        "df['SFL Accuracy'] = arr[1]\n",
        "\n",
        "\n",
        "df.loc[0, 'subMFL Accuracy'] = df.loc[0, 'SFL Accuracy']\n",
        "df.loc[0, 'subMFL Loss'] = df.loc[0, 'SFL Loss']\n",
        "\n",
        "df[\"SFL Global Sparsity\"] = sfl_smodels_gs\n",
        "df[\"SFL Participation\"] = take_participation(sfl_smodels_gs)\n",
        "\n",
        "df.rename(columns={\"Participation\": \"subMFL Participation\", \"Global Sparsity\": \"subMFL Global Sparsity\"}, inplace=True)\n",
        "df[\"subMFL Participation\"] = take_participation(df[\"subMFL Global Sparsity\"].values)\n",
        "\n",
        "df = df[['Threshold', 'SFL Accuracy', 'subMFL Accuracy', 'SFL Loss', 'subMFL Loss', 'SFL Participation', 'subMFL Participation',\n",
        "         'SFL Global Sparsity', 'subMFL Global Sparsity']]\n",
        "\n",
        "df = df.rename(index={0: 'GM', 1: 'SM1', 2: 'SM2', 3: 'SM3', 4: 'SM4', 5: 'SM5', 6: 'SM6', 7: 'SM7',\n",
        "                      8: 'SM8', 9: 'SM9'})\n",
        "\n",
        "df"
      ]
    },
    {
      "cell_type": "code",
      "execution_count": 23,
      "id": "3d51ba3d-fc15-41fd-860e-c1c3294305a3",
      "metadata": {
        "colab": {
          "base_uri": "https://localhost:8080/"
        },
        "id": "3d51ba3d-fc15-41fd-860e-c1c3294305a3",
        "outputId": "81ff9bf3-45b3-4fdd-eedf-b894ba9379e4"
      },
      "outputs": [
        {
          "output_type": "stream",
          "name": "stdout",
          "text": [
            "\\begin{tabular}{lrrrrrrrrr}\n",
            " & Threshold & SFL Accuracy & subMFL Accuracy & SFL Loss & subMFL Loss & SFL Participation & subMFL Participation & SFL Global Sparsity & subMFL Global Sparsity \\\\\n",
            "GM & 0.000000 & 0.105200 & 0.105200 & 0.036141 & 0.036141 & 100 & 100 & 0.000000 & 0.000000 \\\\\n",
            "SM1 & 0.100000 & 0.103200 & 0.850100 & 0.036188 & 0.007178 & 160 & 158 & 6.010119 & 5.888472 \\\\\n",
            "SM2 & 0.200000 & 0.088700 & 0.855800 & 0.036226 & 0.006990 & 225 & 214 & 12.541925 & 11.480933 \\\\\n",
            "SM3 & 0.300000 & 0.115500 & 0.844400 & 0.036183 & 0.007320 & 289 & 277 & 18.951766 & 17.796587 \\\\\n",
            "SM4 & 0.400000 & 0.114100 & 0.834200 & 0.036115 & 0.007806 & 355 & 338 & 25.560099 & 23.818294 \\\\\n",
            "SM5 & 0.500000 & 0.082300 & 0.830600 & 0.036134 & 0.008128 & 409 & 397 & 30.962202 & 29.703869 \\\\\n",
            "SM6 & 0.600000 & 0.101000 & 0.786000 & 0.036222 & 0.009752 & 484 & 462 & 38.492123 & 36.200417 \\\\\n",
            "SM7 & 0.700000 & 0.122600 & 0.754100 & 0.036165 & 0.010845 & 546 & 525 & 44.614802 & 42.508274 \\\\\n",
            "SM8 & 0.800000 & 0.145100 & 0.800200 & 0.036159 & 0.011921 & 620 & 588 & 52.047421 & 48.829663 \\\\\n",
            "SM9 & 0.900000 & 0.102800 & 0.629800 & 0.036157 & 0.026520 & 656 & \\cellcolor{red} \\bfseries 688 & 55.627798 & 58.813889 \\\\\n",
            "\\end{tabular}\n",
            "\n"
          ]
        }
      ],
      "source": [
        "df_final = df.copy()\n",
        "s = df_final.style.highlight_max(axis=None, props='cellcolor:{red}; bfseries: ;')\n",
        "\n",
        "print(s.to_latex())"
      ]
    },
    {
      "cell_type": "code",
      "execution_count": 24,
      "id": "49b8af25-ea5f-4970-baf6-eed81e11e36b",
      "metadata": {
        "id": "49b8af25-ea5f-4970-baf6-eed81e11e36b"
      },
      "outputs": [],
      "source": [
        "table_latex_version = {'table_latex_version': s.to_latex()}\n",
        "\n",
        "with open('table_latex_version.txt', 'w') as f:\n",
        "    f.write(json.dumps(table_latex_version))\n",
        "\n",
        "f.close()"
      ]
    },
    {
      "cell_type": "markdown",
      "id": "f8341bd9-4c62-405c-af96-ce2fb62203dc",
      "metadata": {
        "tags": [],
        "id": "f8341bd9-4c62-405c-af96-ce2fb62203dc"
      },
      "source": [
        "***\n",
        "# Pruning Result with S-FL Visualisation:"
      ]
    },
    {
      "cell_type": "markdown",
      "id": "71822bb8-1f47-465d-a1b4-7f0d108dd90e",
      "metadata": {
        "id": "71822bb8-1f47-465d-a1b4-7f0d108dd90e"
      },
      "source": [
        "***\n",
        "### Initial Accuracy & Participation:"
      ]
    },
    {
      "cell_type": "code",
      "execution_count": 25,
      "id": "e3c45fd5-4fbb-4f01-9d5e-a8d05c737bcd",
      "metadata": {
        "colab": {
          "base_uri": "https://localhost:8080/",
          "height": 521
        },
        "id": "e3c45fd5-4fbb-4f01-9d5e-a8d05c737bcd",
        "outputId": "65b8f0d4-7b67-4e8e-dee0-0078f3ceb437"
      },
      "outputs": [
        {
          "output_type": "display_data",
          "data": {
            "text/plain": [
              "<Figure size 640x480 with 2 Axes>"
            ],
            "image/png": "[encoded data removed]"
          },
          "metadata": {}
        }
      ],
      "source": [
        "# create figure and axis objects with subplots()\n",
        "fig, ax = plt.subplots()\n",
        "plt.grid()\n",
        "\n",
        "# Our Algo. Acc.\n",
        "ax.plot(df['Threshold'].values,\n",
        "        df['subMFL Accuracy'].values,\n",
        "        color=\"green\",\n",
        "        label='subMFL Accuracy',\n",
        "        marker=\"o\")\n",
        "\n",
        "# S-FL Acc.\n",
        "ax.plot(df['Threshold'].values,\n",
        "        df['SFL Accuracy'].values,\n",
        "        color=\"red\",\n",
        "        label='S-FL Accuracy',\n",
        "        marker=\"o\")\n",
        "\n",
        "plt.legend(framealpha=1, frameon=True, bbox_to_anchor=(0.35, 1.2));\n",
        "\n",
        "# set x-axis label\n",
        "ax.set_xlabel(\"Threshold Values\", fontweight='bold', fontsize=14)\n",
        "# set y-axis label\n",
        "ax.set_ylabel(\"Accuracy of Models (O)\", color=\"black\", fontweight='bold', fontsize=14)\n",
        "\n",
        "# twin object for two different y-axis on the sample plot\n",
        "ax2=ax.twinx()\n",
        "# make a plot with different y-axis using second axis object\n",
        "ax2.plot(df['Threshold'].values,\n",
        "         df['subMFL Participation'].values,\n",
        "         color=\"blue\",\n",
        "         label='subMFL Participation',\n",
        "         marker=\"x\")\n",
        "\n",
        "ax2.set_ylabel(\"Number of Participated Devices\", color=\"black\", fontweight='bold', fontsize=14)\n",
        "# ax2.legend(loc='upper left', frameon=False)\n",
        "\n",
        "# make a plot with different y-axis using second axis object\n",
        "ax2.plot(df['Threshold'].values,\n",
        "         df['SFL Participation'].values,\n",
        "         color=\"purple\",\n",
        "         label='S-FL Participation',\n",
        "         marker=\"x\")\n",
        "\n",
        "ax2.set_ylabel(\"Number of Participated Devices (X)\", color=\"black\", fontweight='bold', fontsize=14)\n",
        "\n",
        "#plt.legend(lines[:2], ['first', 'second']);\n",
        "# plt.title(\"Initial Accuracy values of Standard Federated Learning\", fontweight=\"bold\")\n",
        "plt.legend(framealpha=1, frameon=True, bbox_to_anchor=(1.015, 1.2));\n",
        "plt.show()\n",
        "\n",
        "# save the plot as a file\n",
        "fig.savefig('Accuracy&Participation vs Threshold with S-FL.jpg',\n",
        "            format='jpeg', dpi=100, bbox_inches='tight')"
      ]
    },
    {
      "cell_type": "markdown",
      "id": "8413aee5-465a-4f20-9212-dd1c9ed34e96",
      "metadata": {
        "id": "8413aee5-465a-4f20-9212-dd1c9ed34e96"
      },
      "source": [
        "### Initial Accuracy & Model Sparsity:"
      ]
    },
    {
      "cell_type": "code",
      "execution_count": 26,
      "id": "75eed462-ba81-4d8b-b6d3-b7066d77bc87",
      "metadata": {
        "colab": {
          "base_uri": "https://localhost:8080/",
          "height": 521
        },
        "id": "75eed462-ba81-4d8b-b6d3-b7066d77bc87",
        "outputId": "eabd6b5e-5234-4ea2-adee-b4dcbfd4f05b"
      },
      "outputs": [
        {
          "output_type": "display_data",
          "data": {
            "text/plain": [
              "<Figure size 640x480 with 2 Axes>"
            ],
            "image/png": "[encoded data removed]"
          },
          "metadata": {}
        }
      ],
      "source": [
        "# create figure and axis objects with subplots()\n",
        "fig, ax = plt.subplots()\n",
        "plt.grid()\n",
        "# make a plot\n",
        "ax.plot(df['Threshold'].values,\n",
        "        df['subMFL Accuracy'].values,\n",
        "        label='subMFL Accuracy',\n",
        "        color=\"green\",\n",
        "        marker=\"o\")\n",
        "\n",
        "ax.plot(df['Threshold'].values,\n",
        "        df['SFL Accuracy'].values,\n",
        "        label='S-FL Accuracy',\n",
        "        color=\"red\",\n",
        "        marker=\"o\")\n",
        "\n",
        "plt.legend(framealpha=1, frameon=True, bbox_to_anchor=(0.35, 1.2));\n",
        "\n",
        "# set x-axis label\n",
        "ax.set_xlabel(\"Threshold Values\", fontweight='bold', fontsize = 14)\n",
        "# set y-axis label\n",
        "ax.set_ylabel(\"Accuracy of Models (O)\", color=\"black\", fontweight='bold', fontsize=14)\n",
        "\n",
        "# twin object for two different y-axis on the sample plot\n",
        "ax2=ax.twinx()\n",
        "# make a plot with different y-axis using second axis object\n",
        "ax2.plot(df['Threshold'].values,\n",
        "         df['subMFL Global Sparsity'].values,\n",
        "         label='subMFL Global Sparsity',\n",
        "         color=\"darkorange\",\n",
        "         marker=\"x\")\n",
        "\n",
        "ax2.set_ylabel(\"Global Sparsity\", color=\"black\", fontweight='bold', fontsize=14)\n",
        "\n",
        "\n",
        "ax2.plot(df['Threshold'].values,\n",
        "         df['SFL Global Sparsity'].values,\n",
        "         color=\"black\",\n",
        "         label='SFL Global Sparsity',\n",
        "         marker=\"x\")\n",
        "\n",
        "ax2.set_ylabel(\"Global Sparsityof Models (X)\", color=\"black\", fontweight='bold', fontsize=14)\n",
        "\n",
        "plt.legend(framealpha=1, frameon=True, bbox_to_anchor=(1.015, 1.2));\n",
        "plt.show()\n",
        "# save the plot as a file\n",
        "fig.savefig('Accuracy&Global_Sparsity vs Threshold with S-FL.jpg',\n",
        "            format='jpeg', dpi=100, bbox_inches='tight')"
      ]
    },
    {
      "cell_type": "markdown",
      "id": "3b3b4a06-04ff-4eb6-86f3-7c64a96a94c0",
      "metadata": {
        "id": "3b3b4a06-04ff-4eb6-86f3-7c64a96a94c0"
      },
      "source": [
        "***\n",
        "### Initial Loss & Partcipation:"
      ]
    },
    {
      "cell_type": "code",
      "execution_count": 27,
      "id": "5af61e8c-93f3-4365-bf25-cd926113242a",
      "metadata": {
        "colab": {
          "base_uri": "https://localhost:8080/",
          "height": 521
        },
        "id": "5af61e8c-93f3-4365-bf25-cd926113242a",
        "outputId": "1fb0827b-3e0d-45de-90f9-9dda6bb091dc"
      },
      "outputs": [
        {
          "output_type": "display_data",
          "data": {
            "text/plain": [
              "<Figure size 640x480 with 2 Axes>"
            ],
            "image/png": "[encoded data removed]"
          },
          "metadata": {}
        }
      ],
      "source": [
        "# create figure and axis objects with subplots()\n",
        "fig, ax = plt.subplots()\n",
        "plt.grid()\n",
        "# make a plot\n",
        "ax.plot(df['Threshold'].values,\n",
        "        df['subMFL Loss'].values,\n",
        "        color=\"green\",\n",
        "        label='Loss of subMFL',\n",
        "        marker=\"o\")\n",
        "\n",
        "ax.plot(df['Threshold'].values,\n",
        "        df['SFL Loss'].values,\n",
        "        color=\"red\",\n",
        "        label='S-FL Loss',\n",
        "        marker=\"o\")\n",
        "\n",
        "plt.legend(framealpha=1, frameon=True, bbox_to_anchor=(0.31, 1.2));\n",
        "\n",
        "# set x-axis label\n",
        "ax.set_xlabel(\"Threshold Values\", fontweight='bold', fontsize = 14)\n",
        "# set y-axis label\n",
        "ax.set_ylabel(\"Loss\", color=\"black\", fontweight='bold', fontsize=14)\n",
        "\n",
        "# twin object for two different y-axis on the sample plot\n",
        "ax2=ax.twinx()\n",
        "# make a plot with different y-axis using second axis object\n",
        "ax2.plot(df['Threshold'].values,\n",
        "         df['subMFL Participation'].values,\n",
        "         label='subMFL Participation',\n",
        "         color=\"blue\",\n",
        "         marker=\"x\")\n",
        "ax2.set_ylabel(\"Number of Participated Devices\", fontweight='bold', color=\"black\", fontsize=14)\n",
        "\n",
        "\n",
        "ax2.plot(df['Threshold'].values,\n",
        "         df['SFL Participation'].values,\n",
        "         color=\"orange\",\n",
        "         label='SFL Participation',\n",
        "         marker=\"x\")\n",
        "\n",
        "ax2.set_ylabel(\"Number of Participated Devices\", color=\"black\", fontweight='bold', fontsize=14)\n",
        "\n",
        "\n",
        "plt.legend(framealpha=1, frameon=True, bbox_to_anchor=(1.015, 1.2));\n",
        "plt.show()\n",
        "# save the plot as a file\n",
        "fig.savefig('Loss&Participation vs Threshold with S-FL.jpg',\n",
        "            format='jpeg', dpi=100, bbox_inches='tight')"
      ]
    },
    {
      "cell_type": "markdown",
      "id": "b71c0b48-2915-42cc-a6d4-b853e12937cc",
      "metadata": {
        "id": "b71c0b48-2915-42cc-a6d4-b853e12937cc"
      },
      "source": [
        "### Loss & Model Sparsity:"
      ]
    },
    {
      "cell_type": "code",
      "execution_count": 28,
      "id": "d83de388-7347-4a8e-80d7-50ccacaa5144",
      "metadata": {
        "colab": {
          "base_uri": "https://localhost:8080/",
          "height": 521
        },
        "id": "d83de388-7347-4a8e-80d7-50ccacaa5144",
        "outputId": "170a65f4-3aac-445f-d1cd-dc1a398f5980"
      },
      "outputs": [
        {
          "output_type": "display_data",
          "data": {
            "text/plain": [
              "<Figure size 640x480 with 2 Axes>"
            ],
            "image/png": "[encoded data removed]"
          },
          "metadata": {}
        }
      ],
      "source": [
        "# create figure and axis objects with subplots()\n",
        "fig, ax = plt.subplots()\n",
        "plt.grid()\n",
        "# make a plot\n",
        "ax.plot(df['Threshold'].values,\n",
        "        df['subMFL Loss'].values,\n",
        "        color=\"green\",\n",
        "        label='Loss of subMFL',\n",
        "        marker=\"o\")\n",
        "\n",
        "ax.plot(df['Threshold'].values,\n",
        "        df['SFL Loss'],\n",
        "        color=\"red\",\n",
        "        label='S-FL Loss',\n",
        "        marker=\"o\")\n",
        "\n",
        "plt.legend(framealpha=1, frameon=True, bbox_to_anchor=(0.31, 1.2));\n",
        "\n",
        "# set x-axis label\n",
        "ax.set_xlabel(\"Threshold Values\", fontweight='bold', fontsize = 14)\n",
        "# set y-axis label\n",
        "ax.set_ylabel(\"Loss\", color=\"black\", fontweight='bold', fontsize=14)\n",
        "\n",
        "# twin object for two different y-axis on the sample plot\n",
        "ax2=ax.twinx()\n",
        "# make a plot with different y-axis using second axis object\n",
        "ax2.plot(df['Threshold'].values,\n",
        "         df['subMFL Global Sparsity'].values,\n",
        "         label='subMFL Global Sparsity',\n",
        "         color=\"orange\",\n",
        "         marker=\"x\")\n",
        "ax2.set_ylabel(\"subMFL Global Sparsity\",color=\"black\", fontweight='bold', fontsize=14)\n",
        "\n",
        "ax2.plot(df['Threshold'].values,\n",
        "         df['SFL Global Sparsity'].values,\n",
        "         color=\"black\",\n",
        "         label='SFL Global Sparsity',\n",
        "         marker=\"x\")\n",
        "\n",
        "ax2.set_ylabel(\"Global Sparsity\", color=\"black\", fontweight='bold', fontsize=14)\n",
        "\n",
        "plt.legend(framealpha=1, frameon=True, bbox_to_anchor=(1.015, 1.2));\n",
        "plt.show()\n",
        "# save the plot as a file\n",
        "fig.savefig('Loss&Global_Sparsity vs Threshold with S-FL.jpg',\n",
        "            format='jpeg', dpi=100, bbox_inches='tight')"
      ]
    },
    {
      "cell_type": "code",
      "execution_count": null,
      "id": "80f572ef-7973-4e3b-abb2-87225ad378c2",
      "metadata": {
        "id": "80f572ef-7973-4e3b-abb2-87225ad378c2"
      },
      "outputs": [],
      "source": []
    }
  ],
  "metadata": {
    "kernelspec": {
      "display_name": "Python 3 (ipykernel)",
      "language": "python",
      "name": "python3"
    },
    "language_info": {
      "codemirror_mode": {
        "name": "ipython",
        "version": 3
      },
      "file_extension": ".py",
      "mimetype": "text/x-python",
      "name": "python",
      "nbconvert_exporter": "python",
      "pygments_lexer": "ipython3",
      "version": "3.10.6"
    },
    "colab": {
      "provenance": []
    },
    "widgets": {
      "application/vnd.jupyter.widget-state+json": {
        "a983eef9a95445f29c2751361b5387e4": {
          "model_module": "@jupyter-widgets/controls",
          "model_name": "HBoxModel",
          "model_module_version": "1.5.0",
          "state": {
            "_dom_classes": [],
            "_model_module": "@jupyter-widgets/controls",
            "_model_module_version": "1.5.0",
            "_model_name": "HBoxModel",
            "_view_count": null,
            "_view_module": "@jupyter-widgets/controls",
            "_view_module_version": "1.5.0",
            "_view_name": "HBoxView",
            "box_style": "",
            "children": [
              "IPY_MODEL_6add0f814e0445d39a1fd59c3720a960",
              "IPY_MODEL_6dee5abc2d14456f8de884abd90d6f9c",
              "IPY_MODEL_d1990f2bbcbb4f01b7e927baa477cfd5"
            ],
            "layout": "IPY_MODEL_7b403d7ff4684855b40dca43fa7c7083"
          }
        },
        "6add0f814e0445d39a1fd59c3720a960": {
          "model_module": "@jupyter-widgets/controls",
          "model_name": "HTMLModel",
          "model_module_version": "1.5.0",
          "state": {
            "_dom_classes": [],
            "_model_module": "@jupyter-widgets/controls",
            "_model_module_version": "1.5.0",
            "_model_name": "HTMLModel",
            "_view_count": null,
            "_view_module": "@jupyter-widgets/controls",
            "_view_module_version": "1.5.0",
            "_view_name": "HTMLView",
            "description": "",
            "description_tooltip": null,
            "layout": "IPY_MODEL_0cef1929f2f94a8d906bd58a2f44f2d9",
            "placeholder": "​",
            "style": "IPY_MODEL_3c7985b93f364619a28bd3d8ec2ef46b",
            "value": "100%"
          }
        },
        "6dee5abc2d14456f8de884abd90d6f9c": {
          "model_module": "@jupyter-widgets/controls",
          "model_name": "FloatProgressModel",
          "model_module_version": "1.5.0",
          "state": {
            "_dom_classes": [],
            "_model_module": "@jupyter-widgets/controls",
            "_model_module_version": "1.5.0",
            "_model_name": "FloatProgressModel",
            "_view_count": null,
            "_view_module": "@jupyter-widgets/controls",
            "_view_module_version": "1.5.0",
            "_view_name": "ProgressView",
            "bar_style": "success",
            "description": "",
            "description_tooltip": null,
            "layout": "IPY_MODEL_1561c625fbd14813832537b0f419900a",
            "max": 9912422,
            "min": 0,
            "orientation": "horizontal",
            "style": "IPY_MODEL_a4e9414e4aac4a9c882415245e42eaee",
            "value": 9912422
          }
        },
        "d1990f2bbcbb4f01b7e927baa477cfd5": {
          "model_module": "@jupyter-widgets/controls",
          "model_name": "HTMLModel",
          "model_module_version": "1.5.0",
          "state": {
            "_dom_classes": [],
            "_model_module": "@jupyter-widgets/controls",
            "_model_module_version": "1.5.0",
            "_model_name": "HTMLModel",
            "_view_count": null,
            "_view_module": "@jupyter-widgets/controls",
            "_view_module_version": "1.5.0",
            "_view_name": "HTMLView",
            "description": "",
            "description_tooltip": null,
            "layout": "IPY_MODEL_f016c20536b14694b83ec13dac16a2da",
            "placeholder": "​",
            "style": "IPY_MODEL_51aac60314ed4c02b3590d0031d76458",
            "value": " 9912422/9912422 [00:00&lt;00:00, 9753415.46it/s]"
          }
        },
        "7b403d7ff4684855b40dca43fa7c7083": {
          "model_module": "@jupyter-widgets/base",
          "model_name": "LayoutModel",
          "model_module_version": "1.2.0",
          "state": {
            "_model_module": "@jupyter-widgets/base",
            "_model_module_version": "1.2.0",
            "_model_name": "LayoutModel",
            "_view_count": null,
            "_view_module": "@jupyter-widgets/base",
            "_view_module_version": "1.2.0",
            "_view_name": "LayoutView",
            "align_content": null,
            "align_items": null,
            "align_self": null,
            "border": null,
            "bottom": null,
            "display": null,
            "flex": null,
            "flex_flow": null,
            "grid_area": null,
            "grid_auto_columns": null,
            "grid_auto_flow": null,
            "grid_auto_rows": null,
            "grid_column": null,
            "grid_gap": null,
            "grid_row": null,
            "grid_template_areas": null,
            "grid_template_columns": null,
            "grid_template_rows": null,
            "height": null,
            "justify_content": null,
            "justify_items": null,
            "left": null,
            "margin": null,
            "max_height": null,
            "max_width": null,
            "min_height": null,
            "min_width": null,
            "object_fit": null,
            "object_position": null,
            "order": null,
            "overflow": null,
            "overflow_x": null,
            "overflow_y": null,
            "padding": null,
            "right": null,
            "top": null,
            "visibility": null,
            "width": null
          }
        },
        "0cef1929f2f94a8d906bd58a2f44f2d9": {
          "model_module": "@jupyter-widgets/base",
          "model_name": "LayoutModel",
          "model_module_version": "1.2.0",
          "state": {
            "_model_module": "@jupyter-widgets/base",
            "_model_module_version": "1.2.0",
            "_model_name": "LayoutModel",
            "_view_count": null,
            "_view_module": "@jupyter-widgets/base",
            "_view_module_version": "1.2.0",
            "_view_name": "LayoutView",
            "align_content": null,
            "align_items": null,
            "align_self": null,
            "border": null,
            "bottom": null,
            "display": null,
            "flex": null,
            "flex_flow": null,
            "grid_area": null,
            "grid_auto_columns": null,
            "grid_auto_flow": null,
            "grid_auto_rows": null,
            "grid_column": null,
            "grid_gap": null,
            "grid_row": null,
            "grid_template_areas": null,
            "grid_template_columns": null,
            "grid_template_rows": null,
            "height": null,
            "justify_content": null,
            "justify_items": null,
            "left": null,
            "margin": null,
            "max_height": null,
            "max_width": null,
            "min_height": null,
            "min_width": null,
            "object_fit": null,
            "object_position": null,
            "order": null,
            "overflow": null,
            "overflow_x": null,
            "overflow_y": null,
            "padding": null,
            "right": null,
            "top": null,
            "visibility": null,
            "width": null
          }
        },
        "3c7985b93f364619a28bd3d8ec2ef46b": {
          "model_module": "@jupyter-widgets/controls",
          "model_name": "DescriptionStyleModel",
          "model_module_version": "1.5.0",
          "state": {
            "_model_module": "@jupyter-widgets/controls",
            "_model_module_version": "1.5.0",
            "_model_name": "DescriptionStyleModel",
            "_view_count": null,
            "_view_module": "@jupyter-widgets/base",
            "_view_module_version": "1.2.0",
            "_view_name": "StyleView",
            "description_width": ""
          }
        },
        "1561c625fbd14813832537b0f419900a": {
          "model_module": "@jupyter-widgets/base",
          "model_name": "LayoutModel",
          "model_module_version": "1.2.0",
          "state": {
            "_model_module": "@jupyter-widgets/base",
            "_model_module_version": "1.2.0",
            "_model_name": "LayoutModel",
            "_view_count": null,
            "_view_module": "@jupyter-widgets/base",
            "_view_module_version": "1.2.0",
            "_view_name": "LayoutView",
            "align_content": null,
            "align_items": null,
            "align_self": null,
            "border": null,
            "bottom": null,
            "display": null,
            "flex": null,
            "flex_flow": null,
            "grid_area": null,
            "grid_auto_columns": null,
            "grid_auto_flow": null,
            "grid_auto_rows": null,
            "grid_column": null,
            "grid_gap": null,
            "grid_row": null,
            "grid_template_areas": null,
            "grid_template_columns": null,
            "grid_template_rows": null,
            "height": null,
            "justify_content": null,
            "justify_items": null,
            "left": null,
            "margin": null,
            "max_height": null,
            "max_width": null,
            "min_height": null,
            "min_width": null,
            "object_fit": null,
            "object_position": null,
            "order": null,
            "overflow": null,
            "overflow_x": null,
            "overflow_y": null,
            "padding": null,
            "right": null,
            "top": null,
            "visibility": null,
            "width": null
          }
        },
        "a4e9414e4aac4a9c882415245e42eaee": {
          "model_module": "@jupyter-widgets/controls",
          "model_name": "ProgressStyleModel",
          "model_module_version": "1.5.0",
          "state": {
            "_model_module": "@jupyter-widgets/controls",
            "_model_module_version": "1.5.0",
            "_model_name": "ProgressStyleModel",
            "_view_count": null,
            "_view_module": "@jupyter-widgets/base",
            "_view_module_version": "1.2.0",
            "_view_name": "StyleView",
            "bar_color": null,
            "description_width": ""
          }
        },
        "f016c20536b14694b83ec13dac16a2da": {
          "model_module": "@jupyter-widgets/base",
          "model_name": "LayoutModel",
          "model_module_version": "1.2.0",
          "state": {
            "_model_module": "@jupyter-widgets/base",
            "_model_module_version": "1.2.0",
            "_model_name": "LayoutModel",
            "_view_count": null,
            "_view_module": "@jupyter-widgets/base",
            "_view_module_version": "1.2.0",
            "_view_name": "LayoutView",
            "align_content": null,
            "align_items": null,
            "align_self": null,
            "border": null,
            "bottom": null,
            "display": null,
            "flex": null,
            "flex_flow": null,
            "grid_area": null,
            "grid_auto_columns": null,
            "grid_auto_flow": null,
            "grid_auto_rows": null,
            "grid_column": null,
            "grid_gap": null,
            "grid_row": null,
            "grid_template_areas": null,
            "grid_template_columns": null,
            "grid_template_rows": null,
            "height": null,
            "justify_content": null,
            "justify_items": null,
            "left": null,
            "margin": null,
            "max_height": null,
            "max_width": null,
            "min_height": null,
            "min_width": null,
            "object_fit": null,
            "object_position": null,
            "order": null,
            "overflow": null,
            "overflow_x": null,
            "overflow_y": null,
            "padding": null,
            "right": null,
            "top": null,
            "visibility": null,
            "width": null
          }
        },
        "51aac60314ed4c02b3590d0031d76458": {
          "model_module": "@jupyter-widgets/controls",
          "model_name": "DescriptionStyleModel",
          "model_module_version": "1.5.0",
          "state": {
            "_model_module": "@jupyter-widgets/controls",
            "_model_module_version": "1.5.0",
            "_model_name": "DescriptionStyleModel",
            "_view_count": null,
            "_view_module": "@jupyter-widgets/base",
            "_view_module_version": "1.2.0",
            "_view_name": "StyleView",
            "description_width": ""
          }
        },
        "9afdc9e4fcba4161a28bd1a2b0923ae4": {
          "model_module": "@jupyter-widgets/controls",
          "model_name": "HBoxModel",
          "model_module_version": "1.5.0",
          "state": {
            "_dom_classes": [],
            "_model_module": "@jupyter-widgets/controls",
            "_model_module_version": "1.5.0",
            "_model_name": "HBoxModel",
            "_view_count": null,
            "_view_module": "@jupyter-widgets/controls",
            "_view_module_version": "1.5.0",
            "_view_name": "HBoxView",
            "box_style": "",
            "children": [
              "IPY_MODEL_8f71be04fb2543489ac2bc504ae3342d",
              "IPY_MODEL_f82e9c7c44144388b51dbd769d6f47e8",
              "IPY_MODEL_c962c8cf37224b88bbb4fa86ddec408b"
            ],
            "layout": "IPY_MODEL_aa8741e54812425484aa2f65f106de22"
          }
        },
        "8f71be04fb2543489ac2bc504ae3342d": {
          "model_module": "@jupyter-widgets/controls",
          "model_name": "HTMLModel",
          "model_module_version": "1.5.0",
          "state": {
            "_dom_classes": [],
            "_model_module": "@jupyter-widgets/controls",
            "_model_module_version": "1.5.0",
            "_model_name": "HTMLModel",
            "_view_count": null,
            "_view_module": "@jupyter-widgets/controls",
            "_view_module_version": "1.5.0",
            "_view_name": "HTMLView",
            "description": "",
            "description_tooltip": null,
            "layout": "IPY_MODEL_5ed7de2317de44028f65eadf6a41a33c",
            "placeholder": "​",
            "style": "IPY_MODEL_09d6208226b44c769d892936866ba362",
            "value": "100%"
          }
        },
        "f82e9c7c44144388b51dbd769d6f47e8": {
          "model_module": "@jupyter-widgets/controls",
          "model_name": "FloatProgressModel",
          "model_module_version": "1.5.0",
          "state": {
            "_dom_classes": [],
            "_model_module": "@jupyter-widgets/controls",
            "_model_module_version": "1.5.0",
            "_model_name": "FloatProgressModel",
            "_view_count": null,
            "_view_module": "@jupyter-widgets/controls",
            "_view_module_version": "1.5.0",
            "_view_name": "ProgressView",
            "bar_style": "success",
            "description": "",
            "description_tooltip": null,
            "layout": "IPY_MODEL_4d587738753f4792aff2712d5ca5f3bd",
            "max": 28881,
            "min": 0,
            "orientation": "horizontal",
            "style": "IPY_MODEL_9c4de6f47f6f4db29c56def0e4e93ed0",
            "value": 28881
          }
        },
        "c962c8cf37224b88bbb4fa86ddec408b": {
          "model_module": "@jupyter-widgets/controls",
          "model_name": "HTMLModel",
          "model_module_version": "1.5.0",
          "state": {
            "_dom_classes": [],
            "_model_module": "@jupyter-widgets/controls",
            "_model_module_version": "1.5.0",
            "_model_name": "HTMLModel",
            "_view_count": null,
            "_view_module": "@jupyter-widgets/controls",
            "_view_module_version": "1.5.0",
            "_view_name": "HTMLView",
            "description": "",
            "description_tooltip": null,
            "layout": "IPY_MODEL_a24d3ad76bef4c1c88f155a4cbb5c634",
            "placeholder": "​",
            "style": "IPY_MODEL_67ce70ee95b947719414745dc9638509",
            "value": " 28881/28881 [00:00&lt;00:00, 1040765.13it/s]"
          }
        },
        "aa8741e54812425484aa2f65f106de22": {
          "model_module": "@jupyter-widgets/base",
          "model_name": "LayoutModel",
          "model_module_version": "1.2.0",
          "state": {
            "_model_module": "@jupyter-widgets/base",
            "_model_module_version": "1.2.0",
            "_model_name": "LayoutModel",
            "_view_count": null,
            "_view_module": "@jupyter-widgets/base",
            "_view_module_version": "1.2.0",
            "_view_name": "LayoutView",
            "align_content": null,
            "align_items": null,
            "align_self": null,
            "border": null,
            "bottom": null,
            "display": null,
            "flex": null,
            "flex_flow": null,
            "grid_area": null,
            "grid_auto_columns": null,
            "grid_auto_flow": null,
            "grid_auto_rows": null,
            "grid_column": null,
            "grid_gap": null,
            "grid_row": null,
            "grid_template_areas": null,
            "grid_template_columns": null,
            "grid_template_rows": null,
            "height": null,
            "justify_content": null,
            "justify_items": null,
            "left": null,
            "margin": null,
            "max_height": null,
            "max_width": null,
            "min_height": null,
            "min_width": null,
            "object_fit": null,
            "object_position": null,
            "order": null,
            "overflow": null,
            "overflow_x": null,
            "overflow_y": null,
            "padding": null,
            "right": null,
            "top": null,
            "visibility": null,
            "width": null
          }
        },
        "5ed7de2317de44028f65eadf6a41a33c": {
          "model_module": "@jupyter-widgets/base",
          "model_name": "LayoutModel",
          "model_module_version": "1.2.0",
          "state": {
            "_model_module": "@jupyter-widgets/base",
            "_model_module_version": "1.2.0",
            "_model_name": "LayoutModel",
            "_view_count": null,
            "_view_module": "@jupyter-widgets/base",
            "_view_module_version": "1.2.0",
            "_view_name": "LayoutView",
            "align_content": null,
            "align_items": null,
            "align_self": null,
            "border": null,
            "bottom": null,
            "display": null,
            "flex": null,
            "flex_flow": null,
            "grid_area": null,
            "grid_auto_columns": null,
            "grid_auto_flow": null,
            "grid_auto_rows": null,
            "grid_column": null,
            "grid_gap": null,
            "grid_row": null,
            "grid_template_areas": null,
            "grid_template_columns": null,
            "grid_template_rows": null,
            "height": null,
            "justify_content": null,
            "justify_items": null,
            "left": null,
            "margin": null,
            "max_height": null,
            "max_width": null,
            "min_height": null,
            "min_width": null,
            "object_fit": null,
            "object_position": null,
            "order": null,
            "overflow": null,
            "overflow_x": null,
            "overflow_y": null,
            "padding": null,
            "right": null,
            "top": null,
            "visibility": null,
            "width": null
          }
        },
        "09d6208226b44c769d892936866ba362": {
          "model_module": "@jupyter-widgets/controls",
          "model_name": "DescriptionStyleModel",
          "model_module_version": "1.5.0",
          "state": {
            "_model_module": "@jupyter-widgets/controls",
            "_model_module_version": "1.5.0",
            "_model_name": "DescriptionStyleModel",
            "_view_count": null,
            "_view_module": "@jupyter-widgets/base",
            "_view_module_version": "1.2.0",
            "_view_name": "StyleView",
            "description_width": ""
          }
        },
        "4d587738753f4792aff2712d5ca5f3bd": {
          "model_module": "@jupyter-widgets/base",
          "model_name": "LayoutModel",
          "model_module_version": "1.2.0",
          "state": {
            "_model_module": "@jupyter-widgets/base",
            "_model_module_version": "1.2.0",
            "_model_name": "LayoutModel",
            "_view_count": null,
            "_view_module": "@jupyter-widgets/base",
            "_view_module_version": "1.2.0",
            "_view_name": "LayoutView",
            "align_content": null,
            "align_items": null,
            "align_self": null,
            "border": null,
            "bottom": null,
            "display": null,
            "flex": null,
            "flex_flow": null,
            "grid_area": null,
            "grid_auto_columns": null,
            "grid_auto_flow": null,
            "grid_auto_rows": null,
            "grid_column": null,
            "grid_gap": null,
            "grid_row": null,
            "grid_template_areas": null,
            "grid_template_columns": null,
            "grid_template_rows": null,
            "height": null,
            "justify_content": null,
            "justify_items": null,
            "left": null,
            "margin": null,
            "max_height": null,
            "max_width": null,
            "min_height": null,
            "min_width": null,
            "object_fit": null,
            "object_position": null,
            "order": null,
            "overflow": null,
            "overflow_x": null,
            "overflow_y": null,
            "padding": null,
            "right": null,
            "top": null,
            "visibility": null,
            "width": null
          }
        },
        "9c4de6f47f6f4db29c56def0e4e93ed0": {
          "model_module": "@jupyter-widgets/controls",
          "model_name": "ProgressStyleModel",
          "model_module_version": "1.5.0",
          "state": {
            "_model_module": "@jupyter-widgets/controls",
            "_model_module_version": "1.5.0",
            "_model_name": "ProgressStyleModel",
            "_view_count": null,
            "_view_module": "@jupyter-widgets/base",
            "_view_module_version": "1.2.0",
            "_view_name": "StyleView",
            "bar_color": null,
            "description_width": ""
          }
        },
        "a24d3ad76bef4c1c88f155a4cbb5c634": {
          "model_module": "@jupyter-widgets/base",
          "model_name": "LayoutModel",
          "model_module_version": "1.2.0",
          "state": {
            "_model_module": "@jupyter-widgets/base",
            "_model_module_version": "1.2.0",
            "_model_name": "LayoutModel",
            "_view_count": null,
            "_view_module": "@jupyter-widgets/base",
            "_view_module_version": "1.2.0",
            "_view_name": "LayoutView",
            "align_content": null,
            "align_items": null,
            "align_self": null,
            "border": null,
            "bottom": null,
            "display": null,
            "flex": null,
            "flex_flow": null,
            "grid_area": null,
            "grid_auto_columns": null,
            "grid_auto_flow": null,
            "grid_auto_rows": null,
            "grid_column": null,
            "grid_gap": null,
            "grid_row": null,
            "grid_template_areas": null,
            "grid_template_columns": null,
            "grid_template_rows": null,
            "height": null,
            "justify_content": null,
            "justify_items": null,
            "left": null,
            "margin": null,
            "max_height": null,
            "max_width": null,
            "min_height": null,
            "min_width": null,
            "object_fit": null,
            "object_position": null,
            "order": null,
            "overflow": null,
            "overflow_x": null,
            "overflow_y": null,
            "padding": null,
            "right": null,
            "top": null,
            "visibility": null,
            "width": null
          }
        },
        "67ce70ee95b947719414745dc9638509": {
          "model_module": "@jupyter-widgets/controls",
          "model_name": "DescriptionStyleModel",
          "model_module_version": "1.5.0",
          "state": {
            "_model_module": "@jupyter-widgets/controls",
            "_model_module_version": "1.5.0",
            "_model_name": "DescriptionStyleModel",
            "_view_count": null,
            "_view_module": "@jupyter-widgets/base",
            "_view_module_version": "1.2.0",
            "_view_name": "StyleView",
            "description_width": ""
          }
        },
        "554c495cb5894234b39a72c069561947": {
          "model_module": "@jupyter-widgets/controls",
          "model_name": "HBoxModel",
          "model_module_version": "1.5.0",
          "state": {
            "_dom_classes": [],
            "_model_module": "@jupyter-widgets/controls",
            "_model_module_version": "1.5.0",
            "_model_name": "HBoxModel",
            "_view_count": null,
            "_view_module": "@jupyter-widgets/controls",
            "_view_module_version": "1.5.0",
            "_view_name": "HBoxView",
            "box_style": "",
            "children": [
              "IPY_MODEL_498ba7d0d45245d7a6bef24cb14156ec",
              "IPY_MODEL_2f0fd351d85049d1a117a3e74ebed202",
              "IPY_MODEL_9d8b68cfd1e64c0b9bd59ab2e6887cdf"
            ],
            "layout": "IPY_MODEL_68529132a72c47688bbc0c89a64d66a4"
          }
        },
        "498ba7d0d45245d7a6bef24cb14156ec": {
          "model_module": "@jupyter-widgets/controls",
          "model_name": "HTMLModel",
          "model_module_version": "1.5.0",
          "state": {
            "_dom_classes": [],
            "_model_module": "@jupyter-widgets/controls",
            "_model_module_version": "1.5.0",
            "_model_name": "HTMLModel",
            "_view_count": null,
            "_view_module": "@jupyter-widgets/controls",
            "_view_module_version": "1.5.0",
            "_view_name": "HTMLView",
            "description": "",
            "description_tooltip": null,
            "layout": "IPY_MODEL_3ee7f79e6a0c4248935aa7c2faabf3e0",
            "placeholder": "​",
            "style": "IPY_MODEL_21493510bfaf4d90858bb1465f32645f",
            "value": "100%"
          }
        },
        "2f0fd351d85049d1a117a3e74ebed202": {
          "model_module": "@jupyter-widgets/controls",
          "model_name": "FloatProgressModel",
          "model_module_version": "1.5.0",
          "state": {
            "_dom_classes": [],
            "_model_module": "@jupyter-widgets/controls",
            "_model_module_version": "1.5.0",
            "_model_name": "FloatProgressModel",
            "_view_count": null,
            "_view_module": "@jupyter-widgets/controls",
            "_view_module_version": "1.5.0",
            "_view_name": "ProgressView",
            "bar_style": "success",
            "description": "",
            "description_tooltip": null,
            "layout": "IPY_MODEL_7244df281c2848529b2a07f43511ad35",
            "max": 1648877,
            "min": 0,
            "orientation": "horizontal",
            "style": "IPY_MODEL_f1cc23c3eb8a4ab198e33937a86869fb",
            "value": 1648877
          }
        },
        "9d8b68cfd1e64c0b9bd59ab2e6887cdf": {
          "model_module": "@jupyter-widgets/controls",
          "model_name": "HTMLModel",
          "model_module_version": "1.5.0",
          "state": {
            "_dom_classes": [],
            "_model_module": "@jupyter-widgets/controls",
            "_model_module_version": "1.5.0",
            "_model_name": "HTMLModel",
            "_view_count": null,
            "_view_module": "@jupyter-widgets/controls",
            "_view_module_version": "1.5.0",
            "_view_name": "HTMLView",
            "description": "",
            "description_tooltip": null,
            "layout": "IPY_MODEL_99a4309e23224386802b6b4c0f2baa06",
            "placeholder": "​",
            "style": "IPY_MODEL_8f4b4fe8acdc49f89101896266ddb83c",
            "value": " 1648877/1648877 [00:00&lt;00:00, 19302334.67it/s]"
          }
        },
        "68529132a72c47688bbc0c89a64d66a4": {
          "model_module": "@jupyter-widgets/base",
          "model_name": "LayoutModel",
          "model_module_version": "1.2.0",
          "state": {
            "_model_module": "@jupyter-widgets/base",
            "_model_module_version": "1.2.0",
            "_model_name": "LayoutModel",
            "_view_count": null,
            "_view_module": "@jupyter-widgets/base",
            "_view_module_version": "1.2.0",
            "_view_name": "LayoutView",
            "align_content": null,
            "align_items": null,
            "align_self": null,
            "border": null,
            "bottom": null,
            "display": null,
            "flex": null,
            "flex_flow": null,
            "grid_area": null,
            "grid_auto_columns": null,
            "grid_auto_flow": null,
            "grid_auto_rows": null,
            "grid_column": null,
            "grid_gap": null,
            "grid_row": null,
            "grid_template_areas": null,
            "grid_template_columns": null,
            "grid_template_rows": null,
            "height": null,
            "justify_content": null,
            "justify_items": null,
            "left": null,
            "margin": null,
            "max_height": null,
            "max_width": null,
            "min_height": null,
            "min_width": null,
            "object_fit": null,
            "object_position": null,
            "order": null,
            "overflow": null,
            "overflow_x": null,
            "overflow_y": null,
            "padding": null,
            "right": null,
            "top": null,
            "visibility": null,
            "width": null
          }
        },
        "3ee7f79e6a0c4248935aa7c2faabf3e0": {
          "model_module": "@jupyter-widgets/base",
          "model_name": "LayoutModel",
          "model_module_version": "1.2.0",
          "state": {
            "_model_module": "@jupyter-widgets/base",
            "_model_module_version": "1.2.0",
            "_model_name": "LayoutModel",
            "_view_count": null,
            "_view_module": "@jupyter-widgets/base",
            "_view_module_version": "1.2.0",
            "_view_name": "LayoutView",
            "align_content": null,
            "align_items": null,
            "align_self": null,
            "border": null,
            "bottom": null,
            "display": null,
            "flex": null,
            "flex_flow": null,
            "grid_area": null,
            "grid_auto_columns": null,
            "grid_auto_flow": null,
            "grid_auto_rows": null,
            "grid_column": null,
            "grid_gap": null,
            "grid_row": null,
            "grid_template_areas": null,
            "grid_template_columns": null,
            "grid_template_rows": null,
            "height": null,
            "justify_content": null,
            "justify_items": null,
            "left": null,
            "margin": null,
            "max_height": null,
            "max_width": null,
            "min_height": null,
            "min_width": null,
            "object_fit": null,
            "object_position": null,
            "order": null,
            "overflow": null,
            "overflow_x": null,
            "overflow_y": null,
            "padding": null,
            "right": null,
            "top": null,
            "visibility": null,
            "width": null
          }
        },
        "21493510bfaf4d90858bb1465f32645f": {
          "model_module": "@jupyter-widgets/controls",
          "model_name": "DescriptionStyleModel",
          "model_module_version": "1.5.0",
          "state": {
            "_model_module": "@jupyter-widgets/controls",
            "_model_module_version": "1.5.0",
            "_model_name": "DescriptionStyleModel",
            "_view_count": null,
            "_view_module": "@jupyter-widgets/base",
            "_view_module_version": "1.2.0",
            "_view_name": "StyleView",
            "description_width": ""
          }
        },
        "7244df281c2848529b2a07f43511ad35": {
          "model_module": "@jupyter-widgets/base",
          "model_name": "LayoutModel",
          "model_module_version": "1.2.0",
          "state": {
            "_model_module": "@jupyter-widgets/base",
            "_model_module_version": "1.2.0",
            "_model_name": "LayoutModel",
            "_view_count": null,
            "_view_module": "@jupyter-widgets/base",
            "_view_module_version": "1.2.0",
            "_view_name": "LayoutView",
            "align_content": null,
            "align_items": null,
            "align_self": null,
            "border": null,
            "bottom": null,
            "display": null,
            "flex": null,
            "flex_flow": null,
            "grid_area": null,
            "grid_auto_columns": null,
            "grid_auto_flow": null,
            "grid_auto_rows": null,
            "grid_column": null,
            "grid_gap": null,
            "grid_row": null,
            "grid_template_areas": null,
            "grid_template_columns": null,
            "grid_template_rows": null,
            "height": null,
            "justify_content": null,
            "justify_items": null,
            "left": null,
            "margin": null,
            "max_height": null,
            "max_width": null,
            "min_height": null,
            "min_width": null,
            "object_fit": null,
            "object_position": null,
            "order": null,
            "overflow": null,
            "overflow_x": null,
            "overflow_y": null,
            "padding": null,
            "right": null,
            "top": null,
            "visibility": null,
            "width": null
          }
        },
        "f1cc23c3eb8a4ab198e33937a86869fb": {
          "model_module": "@jupyter-widgets/controls",
          "model_name": "ProgressStyleModel",
          "model_module_version": "1.5.0",
          "state": {
            "_model_module": "@jupyter-widgets/controls",
            "_model_module_version": "1.5.0",
            "_model_name": "ProgressStyleModel",
            "_view_count": null,
            "_view_module": "@jupyter-widgets/base",
            "_view_module_version": "1.2.0",
            "_view_name": "StyleView",
            "bar_color": null,
            "description_width": ""
          }
        },
        "99a4309e23224386802b6b4c0f2baa06": {
          "model_module": "@jupyter-widgets/base",
          "model_name": "LayoutModel",
          "model_module_version": "1.2.0",
          "state": {
            "_model_module": "@jupyter-widgets/base",
            "_model_module_version": "1.2.0",
            "_model_name": "LayoutModel",
            "_view_count": null,
            "_view_module": "@jupyter-widgets/base",
            "_view_module_version": "1.2.0",
            "_view_name": "LayoutView",
            "align_content": null,
            "align_items": null,
            "align_self": null,
            "border": null,
            "bottom": null,
            "display": null,
            "flex": null,
            "flex_flow": null,
            "grid_area": null,
            "grid_auto_columns": null,
            "grid_auto_flow": null,
            "grid_auto_rows": null,
            "grid_column": null,
            "grid_gap": null,
            "grid_row": null,
            "grid_template_areas": null,
            "grid_template_columns": null,
            "grid_template_rows": null,
            "height": null,
            "justify_content": null,
            "justify_items": null,
            "left": null,
            "margin": null,
            "max_height": null,
            "max_width": null,
            "min_height": null,
            "min_width": null,
            "object_fit": null,
            "object_position": null,
            "order": null,
            "overflow": null,
            "overflow_x": null,
            "overflow_y": null,
            "padding": null,
            "right": null,
            "top": null,
            "visibility": null,
            "width": null
          }
        },
        "8f4b4fe8acdc49f89101896266ddb83c": {
          "model_module": "@jupyter-widgets/controls",
          "model_name": "DescriptionStyleModel",
          "model_module_version": "1.5.0",
          "state": {
            "_model_module": "@jupyter-widgets/controls",
            "_model_module_version": "1.5.0",
            "_model_name": "DescriptionStyleModel",
            "_view_count": null,
            "_view_module": "@jupyter-widgets/base",
            "_view_module_version": "1.2.0",
            "_view_name": "StyleView",
            "description_width": ""
          }
        },
        "7449bec9cb644df48354d064c0e5b34a": {
          "model_module": "@jupyter-widgets/controls",
          "model_name": "HBoxModel",
          "model_module_version": "1.5.0",
          "state": {
            "_dom_classes": [],
            "_model_module": "@jupyter-widgets/controls",
            "_model_module_version": "1.5.0",
            "_model_name": "HBoxModel",
            "_view_count": null,
            "_view_module": "@jupyter-widgets/controls",
            "_view_module_version": "1.5.0",
            "_view_name": "HBoxView",
            "box_style": "",
            "children": [
              "IPY_MODEL_b5ad84ad48ad4f2cab8717aa3b6088e2",
              "IPY_MODEL_1329734a0107422b81068062db9568b2",
              "IPY_MODEL_e3d5464667c744cab6367eb4ebf6a0d4"
            ],
            "layout": "IPY_MODEL_85e396449ad24513a315bf00e4b83b32"
          }
        },
        "b5ad84ad48ad4f2cab8717aa3b6088e2": {
          "model_module": "@jupyter-widgets/controls",
          "model_name": "HTMLModel",
          "model_module_version": "1.5.0",
          "state": {
            "_dom_classes": [],
            "_model_module": "@jupyter-widgets/controls",
            "_model_module_version": "1.5.0",
            "_model_name": "HTMLModel",
            "_view_count": null,
            "_view_module": "@jupyter-widgets/controls",
            "_view_module_version": "1.5.0",
            "_view_name": "HTMLView",
            "description": "",
            "description_tooltip": null,
            "layout": "IPY_MODEL_4c91c2ef71844cda98b4e627ae89f9db",
            "placeholder": "​",
            "style": "IPY_MODEL_a57210cadce94215bc9b472078990305",
            "value": "100%"
          }
        },
        "1329734a0107422b81068062db9568b2": {
          "model_module": "@jupyter-widgets/controls",
          "model_name": "FloatProgressModel",
          "model_module_version": "1.5.0",
          "state": {
            "_dom_classes": [],
            "_model_module": "@jupyter-widgets/controls",
            "_model_module_version": "1.5.0",
            "_model_name": "FloatProgressModel",
            "_view_count": null,
            "_view_module": "@jupyter-widgets/controls",
            "_view_module_version": "1.5.0",
            "_view_name": "ProgressView",
            "bar_style": "success",
            "description": "",
            "description_tooltip": null,
            "layout": "IPY_MODEL_c6be644352b24890a24456cff550fd30",
            "max": 4542,
            "min": 0,
            "orientation": "horizontal",
            "style": "IPY_MODEL_0c58e4ead7d84262a4b37a8c5b38e59a",
            "value": 4542
          }
        },
        "e3d5464667c744cab6367eb4ebf6a0d4": {
          "model_module": "@jupyter-widgets/controls",
          "model_name": "HTMLModel",
          "model_module_version": "1.5.0",
          "state": {
            "_dom_classes": [],
            "_model_module": "@jupyter-widgets/controls",
            "_model_module_version": "1.5.0",
            "_model_name": "HTMLModel",
            "_view_count": null,
            "_view_module": "@jupyter-widgets/controls",
            "_view_module_version": "1.5.0",
            "_view_name": "HTMLView",
            "description": "",
            "description_tooltip": null,
            "layout": "IPY_MODEL_a6dfc41fa85c4c5797fdd0bb41343a96",
            "placeholder": "​",
            "style": "IPY_MODEL_545b324ad7a94a70b4a693334c323921",
            "value": " 4542/4542 [00:00&lt;00:00, 220573.93it/s]"
          }
        },
        "85e396449ad24513a315bf00e4b83b32": {
          "model_module": "@jupyter-widgets/base",
          "model_name": "LayoutModel",
          "model_module_version": "1.2.0",
          "state": {
            "_model_module": "@jupyter-widgets/base",
            "_model_module_version": "1.2.0",
            "_model_name": "LayoutModel",
            "_view_count": null,
            "_view_module": "@jupyter-widgets/base",
            "_view_module_version": "1.2.0",
            "_view_name": "LayoutView",
            "align_content": null,
            "align_items": null,
            "align_self": null,
            "border": null,
            "bottom": null,
            "display": null,
            "flex": null,
            "flex_flow": null,
            "grid_area": null,
            "grid_auto_columns": null,
            "grid_auto_flow": null,
            "grid_auto_rows": null,
            "grid_column": null,
            "grid_gap": null,
            "grid_row": null,
            "grid_template_areas": null,
            "grid_template_columns": null,
            "grid_template_rows": null,
            "height": null,
            "justify_content": null,
            "justify_items": null,
            "left": null,
            "margin": null,
            "max_height": null,
            "max_width": null,
            "min_height": null,
            "min_width": null,
            "object_fit": null,
            "object_position": null,
            "order": null,
            "overflow": null,
            "overflow_x": null,
            "overflow_y": null,
            "padding": null,
            "right": null,
            "top": null,
            "visibility": null,
            "width": null
          }
        },
        "4c91c2ef71844cda98b4e627ae89f9db": {
          "model_module": "@jupyter-widgets/base",
          "model_name": "LayoutModel",
          "model_module_version": "1.2.0",
          "state": {
            "_model_module": "@jupyter-widgets/base",
            "_model_module_version": "1.2.0",
            "_model_name": "LayoutModel",
            "_view_count": null,
            "_view_module": "@jupyter-widgets/base",
            "_view_module_version": "1.2.0",
            "_view_name": "LayoutView",
            "align_content": null,
            "align_items": null,
            "align_self": null,
            "border": null,
            "bottom": null,
            "display": null,
            "flex": null,
            "flex_flow": null,
            "grid_area": null,
            "grid_auto_columns": null,
            "grid_auto_flow": null,
            "grid_auto_rows": null,
            "grid_column": null,
            "grid_gap": null,
            "grid_row": null,
            "grid_template_areas": null,
            "grid_template_columns": null,
            "grid_template_rows": null,
            "height": null,
            "justify_content": null,
            "justify_items": null,
            "left": null,
            "margin": null,
            "max_height": null,
            "max_width": null,
            "min_height": null,
            "min_width": null,
            "object_fit": null,
            "object_position": null,
            "order": null,
            "overflow": null,
            "overflow_x": null,
            "overflow_y": null,
            "padding": null,
            "right": null,
            "top": null,
            "visibility": null,
            "width": null
          }
        },
        "a57210cadce94215bc9b472078990305": {
          "model_module": "@jupyter-widgets/controls",
          "model_name": "DescriptionStyleModel",
          "model_module_version": "1.5.0",
          "state": {
            "_model_module": "@jupyter-widgets/controls",
            "_model_module_version": "1.5.0",
            "_model_name": "DescriptionStyleModel",
            "_view_count": null,
            "_view_module": "@jupyter-widgets/base",
            "_view_module_version": "1.2.0",
            "_view_name": "StyleView",
            "description_width": ""
          }
        },
        "c6be644352b24890a24456cff550fd30": {
          "model_module": "@jupyter-widgets/base",
          "model_name": "LayoutModel",
          "model_module_version": "1.2.0",
          "state": {
            "_model_module": "@jupyter-widgets/base",
            "_model_module_version": "1.2.0",
            "_model_name": "LayoutModel",
            "_view_count": null,
            "_view_module": "@jupyter-widgets/base",
            "_view_module_version": "1.2.0",
            "_view_name": "LayoutView",
            "align_content": null,
            "align_items": null,
            "align_self": null,
            "border": null,
            "bottom": null,
            "display": null,
            "flex": null,
            "flex_flow": null,
            "grid_area": null,
            "grid_auto_columns": null,
            "grid_auto_flow": null,
            "grid_auto_rows": null,
            "grid_column": null,
            "grid_gap": null,
            "grid_row": null,
            "grid_template_areas": null,
            "grid_template_columns": null,
            "grid_template_rows": null,
            "height": null,
            "justify_content": null,
            "justify_items": null,
            "left": null,
            "margin": null,
            "max_height": null,
            "max_width": null,
            "min_height": null,
            "min_width": null,
            "object_fit": null,
            "object_position": null,
            "order": null,
            "overflow": null,
            "overflow_x": null,
            "overflow_y": null,
            "padding": null,
            "right": null,
            "top": null,
            "visibility": null,
            "width": null
          }
        },
        "0c58e4ead7d84262a4b37a8c5b38e59a": {
          "model_module": "@jupyter-widgets/controls",
          "model_name": "ProgressStyleModel",
          "model_module_version": "1.5.0",
          "state": {
            "_model_module": "@jupyter-widgets/controls",
            "_model_module_version": "1.5.0",
            "_model_name": "ProgressStyleModel",
            "_view_count": null,
            "_view_module": "@jupyter-widgets/base",
            "_view_module_version": "1.2.0",
            "_view_name": "StyleView",
            "bar_color": null,
            "description_width": ""
          }
        },
        "a6dfc41fa85c4c5797fdd0bb41343a96": {
          "model_module": "@jupyter-widgets/base",
          "model_name": "LayoutModel",
          "model_module_version": "1.2.0",
          "state": {
            "_model_module": "@jupyter-widgets/base",
            "_model_module_version": "1.2.0",
            "_model_name": "LayoutModel",
            "_view_count": null,
            "_view_module": "@jupyter-widgets/base",
            "_view_module_version": "1.2.0",
            "_view_name": "LayoutView",
            "align_content": null,
            "align_items": null,
            "align_self": null,
            "border": null,
            "bottom": null,
            "display": null,
            "flex": null,
            "flex_flow": null,
            "grid_area": null,
            "grid_auto_columns": null,
            "grid_auto_flow": null,
            "grid_auto_rows": null,
            "grid_column": null,
            "grid_gap": null,
            "grid_row": null,
            "grid_template_areas": null,
            "grid_template_columns": null,
            "grid_template_rows": null,
            "height": null,
            "justify_content": null,
            "justify_items": null,
            "left": null,
            "margin": null,
            "max_height": null,
            "max_width": null,
            "min_height": null,
            "min_width": null,
            "object_fit": null,
            "object_position": null,
            "order": null,
            "overflow": null,
            "overflow_x": null,
            "overflow_y": null,
            "padding": null,
            "right": null,
            "top": null,
            "visibility": null,
            "width": null
          }
        },
        "545b324ad7a94a70b4a693334c323921": {
          "model_module": "@jupyter-widgets/controls",
          "model_name": "DescriptionStyleModel",
          "model_module_version": "1.5.0",
          "state": {
            "_model_module": "@jupyter-widgets/controls",
            "_model_module_version": "1.5.0",
            "_model_name": "DescriptionStyleModel",
            "_view_count": null,
            "_view_module": "@jupyter-widgets/base",
            "_view_module_version": "1.2.0",
            "_view_name": "StyleView",
            "description_width": ""
          }
        }
      }
    }
  },
  "nbformat": 4,
  "nbformat_minor": 5
}
